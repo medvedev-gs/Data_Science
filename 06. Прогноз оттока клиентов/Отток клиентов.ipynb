{
 "cells": [
  {
   "cell_type": "markdown",
   "metadata": {},
   "source": [
    "# Отток клиентов"
   ]
  },
  {
   "cell_type": "markdown",
   "metadata": {},
   "source": [
    "Из «Бета-Банка» стали уходить клиенты. Каждый месяц. Немного, но заметно. Банковские маркетологи посчитали: сохранять текущих клиентов дешевле, чем привлекать новых.\n",
    "\n",
    "Спрогнозируем, уйдёт клиент из банка в ближайшее время или нет. Нам предоставлены исторические данные о поведении клиентов и расторжении договоров с банком. \n",
    "\n",
    "Построим модель с предельно большим значением *F1*-меры.\n",
    "\n",
    "Дополнительно измерим *AUC-ROC*, сравним её значение с *F1*-мерой.\n",
    "\n",
    "Источник данных: [https://www.kaggle.com/barelydedicated/bank-customer-churn-modeling](https://www.kaggle.com/barelydedicated/bank-customer-churn-modeling)"
   ]
  },
  {
   "cell_type": "markdown",
   "metadata": {},
   "source": [
    "# Описание проекта."
   ]
  },
  {
   "cell_type": "markdown",
   "metadata": {},
   "source": [
    "В нашем распоряжении имеются сведения о клиентах банка, на основе анализа которых стоит цель спрогнозировать вероятность \"оттока\" того или иного клиента.\n",
    "\n",
    "Вероятность \"оттока\" - целевой признак, является бинарным (клиент либо остается, либо уходит), соответственно, стоит задача бинарной классификации. В рамках курса были рассмотрены три подходящих модели: Логистическая регрессия, Решающее дерево и Случайный лес.\n",
    "\n",
    "В рамках проекта были проведены следующие этапы:\n",
    "\n",
    "1. Предобработка данных. Данные оцениваются на предмет наличия пропусков, дубликатов. Проведем проверку соответствия типов данных содержимому колонок. Проверим наличие выбросов и аномалий в данных.\n",
    "\n",
    "2. При необходимости проведем перекодировку техникой One hot encoding (категориальные признаки перекодируются в целочисленные значения). Кроме того, масштабируем данные (в целях повышения обучаемости моделей диапазоны численных значений признаков должны приблизительно соответствовать друг другу). Проведем разделение выборки на обучающую, валидационную и тестовую. Обучим модели и рассчитаем метрики F1 и Acceracy.\n",
    "\n",
    "3. На третьем этапе сбалансируем соотношение целевого признака путем уменьшения, а также путем увеличения выборки и оценим, насколько устранение дибаланса улучшает метрики модели.\n",
    "\n",
    "4. Протестируем результаты модели, а также сфорулируем итоговые выводы."
   ]
  },
  {
   "cell_type": "code",
   "execution_count": 1,
   "metadata": {},
   "outputs": [],
   "source": [
    "import pandas as pd\n",
    "\n",
    "import random\n",
    "\n",
    "from sklearn.model_selection import train_test_split\n",
    "from sklearn.utils import shuffle\n",
    "\n",
    "from sklearn.preprocessing import StandardScaler\n",
    "\n",
    "from sklearn.linear_model import LogisticRegression\n",
    "from sklearn.tree import DecisionTreeClassifier\n",
    "from sklearn.ensemble import RandomForestClassifier\n",
    "\n",
    "from sklearn.metrics import roc_auc_score, f1_score, roc_curve\n",
    "\n",
    "import matplotlib.pyplot as plt"
   ]
  },
  {
   "cell_type": "markdown",
   "metadata": {},
   "source": [
    "## Подготовка данных"
   ]
  },
  {
   "cell_type": "markdown",
   "metadata": {},
   "source": [
    "Считаем данные."
   ]
  },
  {
   "cell_type": "code",
   "execution_count": 2,
   "metadata": {},
   "outputs": [],
   "source": [
    "data = pd.read_csv('Churn.csv')"
   ]
  },
  {
   "cell_type": "markdown",
   "metadata": {},
   "source": [
    "Выведем сведения о датафрейме."
   ]
  },
  {
   "cell_type": "code",
   "execution_count": 3,
   "metadata": {},
   "outputs": [
    {
     "name": "stdout",
     "output_type": "stream",
     "text": [
      "<class 'pandas.core.frame.DataFrame'>\n",
      "RangeIndex: 10000 entries, 0 to 9999\n",
      "Data columns (total 14 columns):\n",
      " #   Column           Non-Null Count  Dtype  \n",
      "---  ------           --------------  -----  \n",
      " 0   RowNumber        10000 non-null  int64  \n",
      " 1   CustomerId       10000 non-null  int64  \n",
      " 2   Surname          10000 non-null  object \n",
      " 3   CreditScore      10000 non-null  int64  \n",
      " 4   Geography        10000 non-null  object \n",
      " 5   Gender           10000 non-null  object \n",
      " 6   Age              10000 non-null  int64  \n",
      " 7   Tenure           9091 non-null   float64\n",
      " 8   Balance          10000 non-null  float64\n",
      " 9   NumOfProducts    10000 non-null  int64  \n",
      " 10  HasCrCard        10000 non-null  int64  \n",
      " 11  IsActiveMember   10000 non-null  int64  \n",
      " 12  EstimatedSalary  10000 non-null  float64\n",
      " 13  Exited           10000 non-null  int64  \n",
      "dtypes: float64(3), int64(8), object(3)\n",
      "memory usage: 1.1+ MB\n"
     ]
    }
   ],
   "source": [
    "data.info()"
   ]
  },
  {
   "cell_type": "code",
   "execution_count": 4,
   "metadata": {
    "scrolled": false
   },
   "outputs": [
    {
     "data": {
      "text/html": [
       "<div>\n",
       "<style scoped>\n",
       "    .dataframe tbody tr th:only-of-type {\n",
       "        vertical-align: middle;\n",
       "    }\n",
       "\n",
       "    .dataframe tbody tr th {\n",
       "        vertical-align: top;\n",
       "    }\n",
       "\n",
       "    .dataframe thead th {\n",
       "        text-align: right;\n",
       "    }\n",
       "</style>\n",
       "<table border=\"1\" class=\"dataframe\">\n",
       "  <thead>\n",
       "    <tr style=\"text-align: right;\">\n",
       "      <th></th>\n",
       "      <th>RowNumber</th>\n",
       "      <th>CustomerId</th>\n",
       "      <th>Surname</th>\n",
       "      <th>CreditScore</th>\n",
       "      <th>Geography</th>\n",
       "      <th>Gender</th>\n",
       "      <th>Age</th>\n",
       "      <th>Tenure</th>\n",
       "      <th>Balance</th>\n",
       "      <th>NumOfProducts</th>\n",
       "      <th>HasCrCard</th>\n",
       "      <th>IsActiveMember</th>\n",
       "      <th>EstimatedSalary</th>\n",
       "      <th>Exited</th>\n",
       "    </tr>\n",
       "  </thead>\n",
       "  <tbody>\n",
       "    <tr>\n",
       "      <th>0</th>\n",
       "      <td>1</td>\n",
       "      <td>15634602</td>\n",
       "      <td>Hargrave</td>\n",
       "      <td>619</td>\n",
       "      <td>France</td>\n",
       "      <td>Female</td>\n",
       "      <td>42</td>\n",
       "      <td>2.0</td>\n",
       "      <td>0.00</td>\n",
       "      <td>1</td>\n",
       "      <td>1</td>\n",
       "      <td>1</td>\n",
       "      <td>101348.88</td>\n",
       "      <td>1</td>\n",
       "    </tr>\n",
       "    <tr>\n",
       "      <th>1</th>\n",
       "      <td>2</td>\n",
       "      <td>15647311</td>\n",
       "      <td>Hill</td>\n",
       "      <td>608</td>\n",
       "      <td>Spain</td>\n",
       "      <td>Female</td>\n",
       "      <td>41</td>\n",
       "      <td>1.0</td>\n",
       "      <td>83807.86</td>\n",
       "      <td>1</td>\n",
       "      <td>0</td>\n",
       "      <td>1</td>\n",
       "      <td>112542.58</td>\n",
       "      <td>0</td>\n",
       "    </tr>\n",
       "    <tr>\n",
       "      <th>2</th>\n",
       "      <td>3</td>\n",
       "      <td>15619304</td>\n",
       "      <td>Onio</td>\n",
       "      <td>502</td>\n",
       "      <td>France</td>\n",
       "      <td>Female</td>\n",
       "      <td>42</td>\n",
       "      <td>8.0</td>\n",
       "      <td>159660.80</td>\n",
       "      <td>3</td>\n",
       "      <td>1</td>\n",
       "      <td>0</td>\n",
       "      <td>113931.57</td>\n",
       "      <td>1</td>\n",
       "    </tr>\n",
       "    <tr>\n",
       "      <th>3</th>\n",
       "      <td>4</td>\n",
       "      <td>15701354</td>\n",
       "      <td>Boni</td>\n",
       "      <td>699</td>\n",
       "      <td>France</td>\n",
       "      <td>Female</td>\n",
       "      <td>39</td>\n",
       "      <td>1.0</td>\n",
       "      <td>0.00</td>\n",
       "      <td>2</td>\n",
       "      <td>0</td>\n",
       "      <td>0</td>\n",
       "      <td>93826.63</td>\n",
       "      <td>0</td>\n",
       "    </tr>\n",
       "    <tr>\n",
       "      <th>4</th>\n",
       "      <td>5</td>\n",
       "      <td>15737888</td>\n",
       "      <td>Mitchell</td>\n",
       "      <td>850</td>\n",
       "      <td>Spain</td>\n",
       "      <td>Female</td>\n",
       "      <td>43</td>\n",
       "      <td>2.0</td>\n",
       "      <td>125510.82</td>\n",
       "      <td>1</td>\n",
       "      <td>1</td>\n",
       "      <td>1</td>\n",
       "      <td>79084.10</td>\n",
       "      <td>0</td>\n",
       "    </tr>\n",
       "  </tbody>\n",
       "</table>\n",
       "</div>"
      ],
      "text/plain": [
       "   RowNumber  CustomerId   Surname  CreditScore Geography  Gender  Age  \\\n",
       "0          1    15634602  Hargrave          619    France  Female   42   \n",
       "1          2    15647311      Hill          608     Spain  Female   41   \n",
       "2          3    15619304      Onio          502    France  Female   42   \n",
       "3          4    15701354      Boni          699    France  Female   39   \n",
       "4          5    15737888  Mitchell          850     Spain  Female   43   \n",
       "\n",
       "   Tenure    Balance  NumOfProducts  HasCrCard  IsActiveMember  \\\n",
       "0     2.0       0.00              1          1               1   \n",
       "1     1.0   83807.86              1          0               1   \n",
       "2     8.0  159660.80              3          1               0   \n",
       "3     1.0       0.00              2          0               0   \n",
       "4     2.0  125510.82              1          1               1   \n",
       "\n",
       "   EstimatedSalary  Exited  \n",
       "0        101348.88       1  \n",
       "1        112542.58       0  \n",
       "2        113931.57       1  \n",
       "3         93826.63       0  \n",
       "4         79084.10       0  "
      ]
     },
     "execution_count": 4,
     "metadata": {},
     "output_type": "execute_result"
    }
   ],
   "source": [
    "data.head()"
   ]
  },
  {
   "cell_type": "markdown",
   "metadata": {},
   "source": [
    "Построим гистограммы для колонок датафрейма и описание методом describe()."
   ]
  },
  {
   "cell_type": "code",
   "execution_count": 5,
   "metadata": {
    "scrolled": false
   },
   "outputs": [
    {
     "data": {
      "image/png": "[encoded data removed]",
      "text/plain": [
       "<Figure size 864x648 with 12 Axes>"
      ]
     },
     "metadata": {
      "needs_background": "light"
     },
     "output_type": "display_data"
    }
   ],
   "source": [
    "data.hist(figsize = (12, 9), bins = 60)\n",
    "plt.show()"
   ]
  },
  {
   "cell_type": "code",
   "execution_count": 6,
   "metadata": {
    "scrolled": true
   },
   "outputs": [
    {
     "data": {
      "text/html": [
       "<div>\n",
       "<style scoped>\n",
       "    .dataframe tbody tr th:only-of-type {\n",
       "        vertical-align: middle;\n",
       "    }\n",
       "\n",
       "    .dataframe tbody tr th {\n",
       "        vertical-align: top;\n",
       "    }\n",
       "\n",
       "    .dataframe thead th {\n",
       "        text-align: right;\n",
       "    }\n",
       "</style>\n",
       "<table border=\"1\" class=\"dataframe\">\n",
       "  <thead>\n",
       "    <tr style=\"text-align: right;\">\n",
       "      <th></th>\n",
       "      <th>RowNumber</th>\n",
       "      <th>CustomerId</th>\n",
       "      <th>CreditScore</th>\n",
       "      <th>Age</th>\n",
       "      <th>Tenure</th>\n",
       "      <th>Balance</th>\n",
       "      <th>NumOfProducts</th>\n",
       "      <th>HasCrCard</th>\n",
       "      <th>IsActiveMember</th>\n",
       "      <th>EstimatedSalary</th>\n",
       "      <th>Exited</th>\n",
       "    </tr>\n",
       "  </thead>\n",
       "  <tbody>\n",
       "    <tr>\n",
       "      <th>count</th>\n",
       "      <td>10000.00000</td>\n",
       "      <td>1.000000e+04</td>\n",
       "      <td>10000.000000</td>\n",
       "      <td>10000.000000</td>\n",
       "      <td>9091.000000</td>\n",
       "      <td>10000.000000</td>\n",
       "      <td>10000.000000</td>\n",
       "      <td>10000.00000</td>\n",
       "      <td>10000.000000</td>\n",
       "      <td>10000.000000</td>\n",
       "      <td>10000.000000</td>\n",
       "    </tr>\n",
       "    <tr>\n",
       "      <th>mean</th>\n",
       "      <td>5000.50000</td>\n",
       "      <td>1.569094e+07</td>\n",
       "      <td>650.528800</td>\n",
       "      <td>38.921800</td>\n",
       "      <td>4.997690</td>\n",
       "      <td>76485.889288</td>\n",
       "      <td>1.530200</td>\n",
       "      <td>0.70550</td>\n",
       "      <td>0.515100</td>\n",
       "      <td>100090.239881</td>\n",
       "      <td>0.203700</td>\n",
       "    </tr>\n",
       "    <tr>\n",
       "      <th>std</th>\n",
       "      <td>2886.89568</td>\n",
       "      <td>7.193619e+04</td>\n",
       "      <td>96.653299</td>\n",
       "      <td>10.487806</td>\n",
       "      <td>2.894723</td>\n",
       "      <td>62397.405202</td>\n",
       "      <td>0.581654</td>\n",
       "      <td>0.45584</td>\n",
       "      <td>0.499797</td>\n",
       "      <td>57510.492818</td>\n",
       "      <td>0.402769</td>\n",
       "    </tr>\n",
       "    <tr>\n",
       "      <th>min</th>\n",
       "      <td>1.00000</td>\n",
       "      <td>1.556570e+07</td>\n",
       "      <td>350.000000</td>\n",
       "      <td>18.000000</td>\n",
       "      <td>0.000000</td>\n",
       "      <td>0.000000</td>\n",
       "      <td>1.000000</td>\n",
       "      <td>0.00000</td>\n",
       "      <td>0.000000</td>\n",
       "      <td>11.580000</td>\n",
       "      <td>0.000000</td>\n",
       "    </tr>\n",
       "    <tr>\n",
       "      <th>25%</th>\n",
       "      <td>2500.75000</td>\n",
       "      <td>1.562853e+07</td>\n",
       "      <td>584.000000</td>\n",
       "      <td>32.000000</td>\n",
       "      <td>2.000000</td>\n",
       "      <td>0.000000</td>\n",
       "      <td>1.000000</td>\n",
       "      <td>0.00000</td>\n",
       "      <td>0.000000</td>\n",
       "      <td>51002.110000</td>\n",
       "      <td>0.000000</td>\n",
       "    </tr>\n",
       "    <tr>\n",
       "      <th>50%</th>\n",
       "      <td>5000.50000</td>\n",
       "      <td>1.569074e+07</td>\n",
       "      <td>652.000000</td>\n",
       "      <td>37.000000</td>\n",
       "      <td>5.000000</td>\n",
       "      <td>97198.540000</td>\n",
       "      <td>1.000000</td>\n",
       "      <td>1.00000</td>\n",
       "      <td>1.000000</td>\n",
       "      <td>100193.915000</td>\n",
       "      <td>0.000000</td>\n",
       "    </tr>\n",
       "    <tr>\n",
       "      <th>75%</th>\n",
       "      <td>7500.25000</td>\n",
       "      <td>1.575323e+07</td>\n",
       "      <td>718.000000</td>\n",
       "      <td>44.000000</td>\n",
       "      <td>7.000000</td>\n",
       "      <td>127644.240000</td>\n",
       "      <td>2.000000</td>\n",
       "      <td>1.00000</td>\n",
       "      <td>1.000000</td>\n",
       "      <td>149388.247500</td>\n",
       "      <td>0.000000</td>\n",
       "    </tr>\n",
       "    <tr>\n",
       "      <th>max</th>\n",
       "      <td>10000.00000</td>\n",
       "      <td>1.581569e+07</td>\n",
       "      <td>850.000000</td>\n",
       "      <td>92.000000</td>\n",
       "      <td>10.000000</td>\n",
       "      <td>250898.090000</td>\n",
       "      <td>4.000000</td>\n",
       "      <td>1.00000</td>\n",
       "      <td>1.000000</td>\n",
       "      <td>199992.480000</td>\n",
       "      <td>1.000000</td>\n",
       "    </tr>\n",
       "  </tbody>\n",
       "</table>\n",
       "</div>"
      ],
      "text/plain": [
       "         RowNumber    CustomerId   CreditScore           Age       Tenure  \\\n",
       "count  10000.00000  1.000000e+04  10000.000000  10000.000000  9091.000000   \n",
       "mean    5000.50000  1.569094e+07    650.528800     38.921800     4.997690   \n",
       "std     2886.89568  7.193619e+04     96.653299     10.487806     2.894723   \n",
       "min        1.00000  1.556570e+07    350.000000     18.000000     0.000000   \n",
       "25%     2500.75000  1.562853e+07    584.000000     32.000000     2.000000   \n",
       "50%     5000.50000  1.569074e+07    652.000000     37.000000     5.000000   \n",
       "75%     7500.25000  1.575323e+07    718.000000     44.000000     7.000000   \n",
       "max    10000.00000  1.581569e+07    850.000000     92.000000    10.000000   \n",
       "\n",
       "             Balance  NumOfProducts    HasCrCard  IsActiveMember  \\\n",
       "count   10000.000000   10000.000000  10000.00000    10000.000000   \n",
       "mean    76485.889288       1.530200      0.70550        0.515100   \n",
       "std     62397.405202       0.581654      0.45584        0.499797   \n",
       "min         0.000000       1.000000      0.00000        0.000000   \n",
       "25%         0.000000       1.000000      0.00000        0.000000   \n",
       "50%     97198.540000       1.000000      1.00000        1.000000   \n",
       "75%    127644.240000       2.000000      1.00000        1.000000   \n",
       "max    250898.090000       4.000000      1.00000        1.000000   \n",
       "\n",
       "       EstimatedSalary        Exited  \n",
       "count     10000.000000  10000.000000  \n",
       "mean     100090.239881      0.203700  \n",
       "std       57510.492818      0.402769  \n",
       "min          11.580000      0.000000  \n",
       "25%       51002.110000      0.000000  \n",
       "50%      100193.915000      0.000000  \n",
       "75%      149388.247500      0.000000  \n",
       "max      199992.480000      1.000000  "
      ]
     },
     "execution_count": 6,
     "metadata": {},
     "output_type": "execute_result"
    }
   ],
   "source": [
    "data.describe()"
   ]
  },
  {
   "cell_type": "markdown",
   "metadata": {},
   "source": [
    "Оценим количество пропусков в столбцах."
   ]
  },
  {
   "cell_type": "code",
   "execution_count": 7,
   "metadata": {
    "scrolled": false
   },
   "outputs": [
    {
     "data": {
      "image/png": "[encoded data removed]",
      "text/plain": [
       "<Figure size 432x288 with 1 Axes>"
      ]
     },
     "metadata": {
      "needs_background": "light"
     },
     "output_type": "display_data"
    }
   ],
   "source": [
    "(data.isna().mean()*100).plot(kind = 'barh')\n",
    "plt.show()"
   ]
  },
  {
   "cell_type": "markdown",
   "metadata": {},
   "source": [
    "Промежуточные выводы:\n",
    "\n",
    "Имеются пропуски в столбце Tenure, обработаем ниже.\n",
    "\n",
    "Выбросы, аномалии не находим.\n",
    "\n",
    "Типы данных преобразуем, где необходимо, в рамках метода OHE ниже."
   ]
  },
  {
   "cell_type": "markdown",
   "metadata": {},
   "source": [
    "## Исследование задачи"
   ]
  },
  {
   "cell_type": "markdown",
   "metadata": {},
   "source": [
    "Колонки RowNumber, CustomerId и Surname, по всей видимости, прогностической ценностью не обладают, очистим от них датафрейм.\n",
    "\n",
    "Колонки Geography и Gender следует преобразовать техникой OHE (с учетом необходимости избежать dummy ловушки).\n",
    "\n",
    "Пропуски в колонке Tenure обработаем путем удаления строк с пропусками - объем данных достаточно большой.\n",
    "\n",
    "Кроме того, необходимо провести стандартизацию данных."
   ]
  },
  {
   "cell_type": "code",
   "execution_count": 8,
   "metadata": {},
   "outputs": [],
   "source": [
    "data_ohe = data[['CreditScore', 'Geography', 'Gender', 'Age', 'Tenure', 'Balance', 'NumOfProducts', 'HasCrCard',\n",
    "             'IsActiveMember', 'EstimatedSalary', 'Exited']]"
   ]
  },
  {
   "cell_type": "code",
   "execution_count": 9,
   "metadata": {},
   "outputs": [],
   "source": [
    "data_ohe = data_ohe.fillna(0)"
   ]
  },
  {
   "cell_type": "code",
   "execution_count": 10,
   "metadata": {},
   "outputs": [],
   "source": [
    "data_ohe.reset_index(drop = True, inplace = True)"
   ]
  },
  {
   "cell_type": "markdown",
   "metadata": {},
   "source": [
    "Оценим, не приводит ли удаление пропусков к смещению распределений значений в колонках."
   ]
  },
  {
   "cell_type": "code",
   "execution_count": 11,
   "metadata": {
    "scrolled": false
   },
   "outputs": [
    {
     "data": {
      "image/png": "[encoded data removed]",
      "text/plain": [
       "<Figure size 864x648 with 9 Axes>"
      ]
     },
     "metadata": {
      "needs_background": "light"
     },
     "output_type": "display_data"
    }
   ],
   "source": [
    "data_ohe.hist(bins = 60, figsize = (12, 9))\n",
    "plt.show()"
   ]
  },
  {
   "cell_type": "code",
   "execution_count": 12,
   "metadata": {
    "scrolled": true
   },
   "outputs": [
    {
     "data": {
      "text/html": [
       "<div>\n",
       "<style scoped>\n",
       "    .dataframe tbody tr th:only-of-type {\n",
       "        vertical-align: middle;\n",
       "    }\n",
       "\n",
       "    .dataframe tbody tr th {\n",
       "        vertical-align: top;\n",
       "    }\n",
       "\n",
       "    .dataframe thead th {\n",
       "        text-align: right;\n",
       "    }\n",
       "</style>\n",
       "<table border=\"1\" class=\"dataframe\">\n",
       "  <thead>\n",
       "    <tr style=\"text-align: right;\">\n",
       "      <th></th>\n",
       "      <th>CreditScore</th>\n",
       "      <th>Age</th>\n",
       "      <th>Tenure</th>\n",
       "      <th>Balance</th>\n",
       "      <th>NumOfProducts</th>\n",
       "      <th>HasCrCard</th>\n",
       "      <th>IsActiveMember</th>\n",
       "      <th>EstimatedSalary</th>\n",
       "      <th>Exited</th>\n",
       "    </tr>\n",
       "  </thead>\n",
       "  <tbody>\n",
       "    <tr>\n",
       "      <th>count</th>\n",
       "      <td>10000.000000</td>\n",
       "      <td>10000.000000</td>\n",
       "      <td>10000.000000</td>\n",
       "      <td>10000.000000</td>\n",
       "      <td>10000.000000</td>\n",
       "      <td>10000.00000</td>\n",
       "      <td>10000.000000</td>\n",
       "      <td>10000.000000</td>\n",
       "      <td>10000.000000</td>\n",
       "    </tr>\n",
       "    <tr>\n",
       "      <th>mean</th>\n",
       "      <td>650.528800</td>\n",
       "      <td>38.921800</td>\n",
       "      <td>4.543400</td>\n",
       "      <td>76485.889288</td>\n",
       "      <td>1.530200</td>\n",
       "      <td>0.70550</td>\n",
       "      <td>0.515100</td>\n",
       "      <td>100090.239881</td>\n",
       "      <td>0.203700</td>\n",
       "    </tr>\n",
       "    <tr>\n",
       "      <th>std</th>\n",
       "      <td>96.653299</td>\n",
       "      <td>10.487806</td>\n",
       "      <td>3.111573</td>\n",
       "      <td>62397.405202</td>\n",
       "      <td>0.581654</td>\n",
       "      <td>0.45584</td>\n",
       "      <td>0.499797</td>\n",
       "      <td>57510.492818</td>\n",
       "      <td>0.402769</td>\n",
       "    </tr>\n",
       "    <tr>\n",
       "      <th>min</th>\n",
       "      <td>350.000000</td>\n",
       "      <td>18.000000</td>\n",
       "      <td>0.000000</td>\n",
       "      <td>0.000000</td>\n",
       "      <td>1.000000</td>\n",
       "      <td>0.00000</td>\n",
       "      <td>0.000000</td>\n",
       "      <td>11.580000</td>\n",
       "      <td>0.000000</td>\n",
       "    </tr>\n",
       "    <tr>\n",
       "      <th>25%</th>\n",
       "      <td>584.000000</td>\n",
       "      <td>32.000000</td>\n",
       "      <td>2.000000</td>\n",
       "      <td>0.000000</td>\n",
       "      <td>1.000000</td>\n",
       "      <td>0.00000</td>\n",
       "      <td>0.000000</td>\n",
       "      <td>51002.110000</td>\n",
       "      <td>0.000000</td>\n",
       "    </tr>\n",
       "    <tr>\n",
       "      <th>50%</th>\n",
       "      <td>652.000000</td>\n",
       "      <td>37.000000</td>\n",
       "      <td>4.000000</td>\n",
       "      <td>97198.540000</td>\n",
       "      <td>1.000000</td>\n",
       "      <td>1.00000</td>\n",
       "      <td>1.000000</td>\n",
       "      <td>100193.915000</td>\n",
       "      <td>0.000000</td>\n",
       "    </tr>\n",
       "    <tr>\n",
       "      <th>75%</th>\n",
       "      <td>718.000000</td>\n",
       "      <td>44.000000</td>\n",
       "      <td>7.000000</td>\n",
       "      <td>127644.240000</td>\n",
       "      <td>2.000000</td>\n",
       "      <td>1.00000</td>\n",
       "      <td>1.000000</td>\n",
       "      <td>149388.247500</td>\n",
       "      <td>0.000000</td>\n",
       "    </tr>\n",
       "    <tr>\n",
       "      <th>max</th>\n",
       "      <td>850.000000</td>\n",
       "      <td>92.000000</td>\n",
       "      <td>10.000000</td>\n",
       "      <td>250898.090000</td>\n",
       "      <td>4.000000</td>\n",
       "      <td>1.00000</td>\n",
       "      <td>1.000000</td>\n",
       "      <td>199992.480000</td>\n",
       "      <td>1.000000</td>\n",
       "    </tr>\n",
       "  </tbody>\n",
       "</table>\n",
       "</div>"
      ],
      "text/plain": [
       "        CreditScore           Age        Tenure        Balance  NumOfProducts  \\\n",
       "count  10000.000000  10000.000000  10000.000000   10000.000000   10000.000000   \n",
       "mean     650.528800     38.921800      4.543400   76485.889288       1.530200   \n",
       "std       96.653299     10.487806      3.111573   62397.405202       0.581654   \n",
       "min      350.000000     18.000000      0.000000       0.000000       1.000000   \n",
       "25%      584.000000     32.000000      2.000000       0.000000       1.000000   \n",
       "50%      652.000000     37.000000      4.000000   97198.540000       1.000000   \n",
       "75%      718.000000     44.000000      7.000000  127644.240000       2.000000   \n",
       "max      850.000000     92.000000     10.000000  250898.090000       4.000000   \n",
       "\n",
       "         HasCrCard  IsActiveMember  EstimatedSalary        Exited  \n",
       "count  10000.00000    10000.000000     10000.000000  10000.000000  \n",
       "mean       0.70550        0.515100    100090.239881      0.203700  \n",
       "std        0.45584        0.499797     57510.492818      0.402769  \n",
       "min        0.00000        0.000000        11.580000      0.000000  \n",
       "25%        0.00000        0.000000     51002.110000      0.000000  \n",
       "50%        1.00000        1.000000    100193.915000      0.000000  \n",
       "75%        1.00000        1.000000    149388.247500      0.000000  \n",
       "max        1.00000        1.000000    199992.480000      1.000000  "
      ]
     },
     "execution_count": 12,
     "metadata": {},
     "output_type": "execute_result"
    }
   ],
   "source": [
    "data_ohe.describe()"
   ]
  },
  {
   "cell_type": "markdown",
   "metadata": {},
   "source": [
    "Заметного смещения не произошло, продолжим."
   ]
  },
  {
   "cell_type": "code",
   "execution_count": 13,
   "metadata": {},
   "outputs": [],
   "source": [
    "data_ohe = pd.get_dummies(data_ohe, drop_first=True)"
   ]
  },
  {
   "cell_type": "code",
   "execution_count": 14,
   "metadata": {
    "scrolled": false
   },
   "outputs": [
    {
     "data": {
      "text/html": [
       "<div>\n",
       "<style scoped>\n",
       "    .dataframe tbody tr th:only-of-type {\n",
       "        vertical-align: middle;\n",
       "    }\n",
       "\n",
       "    .dataframe tbody tr th {\n",
       "        vertical-align: top;\n",
       "    }\n",
       "\n",
       "    .dataframe thead th {\n",
       "        text-align: right;\n",
       "    }\n",
       "</style>\n",
       "<table border=\"1\" class=\"dataframe\">\n",
       "  <thead>\n",
       "    <tr style=\"text-align: right;\">\n",
       "      <th></th>\n",
       "      <th>CreditScore</th>\n",
       "      <th>Age</th>\n",
       "      <th>Tenure</th>\n",
       "      <th>Balance</th>\n",
       "      <th>NumOfProducts</th>\n",
       "      <th>HasCrCard</th>\n",
       "      <th>IsActiveMember</th>\n",
       "      <th>EstimatedSalary</th>\n",
       "      <th>Exited</th>\n",
       "      <th>Geography_Germany</th>\n",
       "      <th>Geography_Spain</th>\n",
       "      <th>Gender_Male</th>\n",
       "    </tr>\n",
       "  </thead>\n",
       "  <tbody>\n",
       "    <tr>\n",
       "      <th>0</th>\n",
       "      <td>619</td>\n",
       "      <td>42</td>\n",
       "      <td>2.0</td>\n",
       "      <td>0.00</td>\n",
       "      <td>1</td>\n",
       "      <td>1</td>\n",
       "      <td>1</td>\n",
       "      <td>101348.88</td>\n",
       "      <td>1</td>\n",
       "      <td>0</td>\n",
       "      <td>0</td>\n",
       "      <td>0</td>\n",
       "    </tr>\n",
       "    <tr>\n",
       "      <th>1</th>\n",
       "      <td>608</td>\n",
       "      <td>41</td>\n",
       "      <td>1.0</td>\n",
       "      <td>83807.86</td>\n",
       "      <td>1</td>\n",
       "      <td>0</td>\n",
       "      <td>1</td>\n",
       "      <td>112542.58</td>\n",
       "      <td>0</td>\n",
       "      <td>0</td>\n",
       "      <td>1</td>\n",
       "      <td>0</td>\n",
       "    </tr>\n",
       "    <tr>\n",
       "      <th>2</th>\n",
       "      <td>502</td>\n",
       "      <td>42</td>\n",
       "      <td>8.0</td>\n",
       "      <td>159660.80</td>\n",
       "      <td>3</td>\n",
       "      <td>1</td>\n",
       "      <td>0</td>\n",
       "      <td>113931.57</td>\n",
       "      <td>1</td>\n",
       "      <td>0</td>\n",
       "      <td>0</td>\n",
       "      <td>0</td>\n",
       "    </tr>\n",
       "    <tr>\n",
       "      <th>3</th>\n",
       "      <td>699</td>\n",
       "      <td>39</td>\n",
       "      <td>1.0</td>\n",
       "      <td>0.00</td>\n",
       "      <td>2</td>\n",
       "      <td>0</td>\n",
       "      <td>0</td>\n",
       "      <td>93826.63</td>\n",
       "      <td>0</td>\n",
       "      <td>0</td>\n",
       "      <td>0</td>\n",
       "      <td>0</td>\n",
       "    </tr>\n",
       "    <tr>\n",
       "      <th>4</th>\n",
       "      <td>850</td>\n",
       "      <td>43</td>\n",
       "      <td>2.0</td>\n",
       "      <td>125510.82</td>\n",
       "      <td>1</td>\n",
       "      <td>1</td>\n",
       "      <td>1</td>\n",
       "      <td>79084.10</td>\n",
       "      <td>0</td>\n",
       "      <td>0</td>\n",
       "      <td>1</td>\n",
       "      <td>0</td>\n",
       "    </tr>\n",
       "  </tbody>\n",
       "</table>\n",
       "</div>"
      ],
      "text/plain": [
       "   CreditScore  Age  Tenure    Balance  NumOfProducts  HasCrCard  \\\n",
       "0          619   42     2.0       0.00              1          1   \n",
       "1          608   41     1.0   83807.86              1          0   \n",
       "2          502   42     8.0  159660.80              3          1   \n",
       "3          699   39     1.0       0.00              2          0   \n",
       "4          850   43     2.0  125510.82              1          1   \n",
       "\n",
       "   IsActiveMember  EstimatedSalary  Exited  Geography_Germany  \\\n",
       "0               1        101348.88       1                  0   \n",
       "1               1        112542.58       0                  0   \n",
       "2               0        113931.57       1                  0   \n",
       "3               0         93826.63       0                  0   \n",
       "4               1         79084.10       0                  0   \n",
       "\n",
       "   Geography_Spain  Gender_Male  \n",
       "0                0            0  \n",
       "1                1            0  \n",
       "2                0            0  \n",
       "3                0            0  \n",
       "4                1            0  "
      ]
     },
     "execution_count": 14,
     "metadata": {},
     "output_type": "execute_result"
    }
   ],
   "source": [
    "data_ohe.head()"
   ]
  },
  {
   "cell_type": "markdown",
   "metadata": {},
   "source": [
    "Данные первично подготовлены к дальнейшему анализу, разделим датафрейм на обучающую и валидационную выборки."
   ]
  },
  {
   "cell_type": "code",
   "execution_count": 15,
   "metadata": {},
   "outputs": [],
   "source": [
    "features = data_ohe.drop('Exited', axis = 1)\n",
    "target = data_ohe['Exited']"
   ]
  },
  {
   "cell_type": "code",
   "execution_count": 16,
   "metadata": {},
   "outputs": [],
   "source": [
    "features_train, features_valid, target_train, target_valid = train_test_split(features, target, test_size = 0.25, random_state = 12345)"
   ]
  },
  {
   "cell_type": "markdown",
   "metadata": {},
   "source": [
    "Ниже проведем стандартизацию количественных признаков."
   ]
  },
  {
   "cell_type": "code",
   "execution_count": 17,
   "metadata": {
    "scrolled": true
   },
   "outputs": [],
   "source": [
    "numeric = ['CreditScore', 'Age', 'Tenure', 'Balance', 'NumOfProducts', 'EstimatedSalary']\n",
    "scaler = StandardScaler()\n",
    "scaler.fit(features_train[numeric])\n",
    "pd.options.mode.chained_assignment = None"
   ]
  },
  {
   "cell_type": "code",
   "execution_count": 18,
   "metadata": {},
   "outputs": [],
   "source": [
    "features_train[numeric] = scaler.transform(features_train[numeric])"
   ]
  },
  {
   "cell_type": "code",
   "execution_count": 19,
   "metadata": {},
   "outputs": [],
   "source": [
    "features_valid[numeric] = scaler.transform(features_valid[numeric])"
   ]
  },
  {
   "cell_type": "markdown",
   "metadata": {},
   "source": [
    "Проверим результат."
   ]
  },
  {
   "cell_type": "code",
   "execution_count": 20,
   "metadata": {},
   "outputs": [
    {
     "data": {
      "text/html": [
       "<div>\n",
       "<style scoped>\n",
       "    .dataframe tbody tr th:only-of-type {\n",
       "        vertical-align: middle;\n",
       "    }\n",
       "\n",
       "    .dataframe tbody tr th {\n",
       "        vertical-align: top;\n",
       "    }\n",
       "\n",
       "    .dataframe thead th {\n",
       "        text-align: right;\n",
       "    }\n",
       "</style>\n",
       "<table border=\"1\" class=\"dataframe\">\n",
       "  <thead>\n",
       "    <tr style=\"text-align: right;\">\n",
       "      <th></th>\n",
       "      <th>CreditScore</th>\n",
       "      <th>Age</th>\n",
       "      <th>Tenure</th>\n",
       "      <th>Balance</th>\n",
       "      <th>NumOfProducts</th>\n",
       "      <th>HasCrCard</th>\n",
       "      <th>IsActiveMember</th>\n",
       "      <th>EstimatedSalary</th>\n",
       "      <th>Geography_Germany</th>\n",
       "      <th>Geography_Spain</th>\n",
       "      <th>Gender_Male</th>\n",
       "    </tr>\n",
       "  </thead>\n",
       "  <tbody>\n",
       "    <tr>\n",
       "      <th>226</th>\n",
       "      <td>0.442805</td>\n",
       "      <td>-0.841274</td>\n",
       "      <td>1.426885</td>\n",
       "      <td>-1.224577</td>\n",
       "      <td>0.817772</td>\n",
       "      <td>1</td>\n",
       "      <td>1</td>\n",
       "      <td>-1.269750</td>\n",
       "      <td>0</td>\n",
       "      <td>0</td>\n",
       "      <td>0</td>\n",
       "    </tr>\n",
       "    <tr>\n",
       "      <th>7756</th>\n",
       "      <td>-0.310897</td>\n",
       "      <td>-0.270730</td>\n",
       "      <td>0.784858</td>\n",
       "      <td>0.641783</td>\n",
       "      <td>-0.896874</td>\n",
       "      <td>1</td>\n",
       "      <td>1</td>\n",
       "      <td>0.960396</td>\n",
       "      <td>0</td>\n",
       "      <td>1</td>\n",
       "      <td>0</td>\n",
       "    </tr>\n",
       "    <tr>\n",
       "      <th>2065</th>\n",
       "      <td>-0.259274</td>\n",
       "      <td>-0.556002</td>\n",
       "      <td>1.105871</td>\n",
       "      <td>-1.224577</td>\n",
       "      <td>0.817772</td>\n",
       "      <td>1</td>\n",
       "      <td>0</td>\n",
       "      <td>0.661864</td>\n",
       "      <td>0</td>\n",
       "      <td>0</td>\n",
       "      <td>1</td>\n",
       "    </tr>\n",
       "    <tr>\n",
       "      <th>2800</th>\n",
       "      <td>1.217157</td>\n",
       "      <td>1.155631</td>\n",
       "      <td>1.426885</td>\n",
       "      <td>1.290462</td>\n",
       "      <td>0.817772</td>\n",
       "      <td>1</td>\n",
       "      <td>0</td>\n",
       "      <td>-1.039476</td>\n",
       "      <td>0</td>\n",
       "      <td>0</td>\n",
       "      <td>1</td>\n",
       "    </tr>\n",
       "    <tr>\n",
       "      <th>7028</th>\n",
       "      <td>0.690598</td>\n",
       "      <td>-1.221637</td>\n",
       "      <td>-1.462240</td>\n",
       "      <td>1.142121</td>\n",
       "      <td>-0.896874</td>\n",
       "      <td>0</td>\n",
       "      <td>0</td>\n",
       "      <td>-0.851729</td>\n",
       "      <td>1</td>\n",
       "      <td>0</td>\n",
       "      <td>1</td>\n",
       "    </tr>\n",
       "  </tbody>\n",
       "</table>\n",
       "</div>"
      ],
      "text/plain": [
       "      CreditScore       Age    Tenure   Balance  NumOfProducts  HasCrCard  \\\n",
       "226      0.442805 -0.841274  1.426885 -1.224577       0.817772          1   \n",
       "7756    -0.310897 -0.270730  0.784858  0.641783      -0.896874          1   \n",
       "2065    -0.259274 -0.556002  1.105871 -1.224577       0.817772          1   \n",
       "2800     1.217157  1.155631  1.426885  1.290462       0.817772          1   \n",
       "7028     0.690598 -1.221637 -1.462240  1.142121      -0.896874          0   \n",
       "\n",
       "      IsActiveMember  EstimatedSalary  Geography_Germany  Geography_Spain  \\\n",
       "226                1        -1.269750                  0                0   \n",
       "7756               1         0.960396                  0                1   \n",
       "2065               0         0.661864                  0                0   \n",
       "2800               0        -1.039476                  0                0   \n",
       "7028               0        -0.851729                  1                0   \n",
       "\n",
       "      Gender_Male  \n",
       "226             0  \n",
       "7756            0  \n",
       "2065            1  \n",
       "2800            1  \n",
       "7028            1  "
      ]
     },
     "execution_count": 20,
     "metadata": {},
     "output_type": "execute_result"
    }
   ],
   "source": [
    "features_train.head()"
   ]
  },
  {
   "cell_type": "code",
   "execution_count": 21,
   "metadata": {
    "scrolled": true
   },
   "outputs": [
    {
     "data": {
      "text/html": [
       "<div>\n",
       "<style scoped>\n",
       "    .dataframe tbody tr th:only-of-type {\n",
       "        vertical-align: middle;\n",
       "    }\n",
       "\n",
       "    .dataframe tbody tr th {\n",
       "        vertical-align: top;\n",
       "    }\n",
       "\n",
       "    .dataframe thead th {\n",
       "        text-align: right;\n",
       "    }\n",
       "</style>\n",
       "<table border=\"1\" class=\"dataframe\">\n",
       "  <thead>\n",
       "    <tr style=\"text-align: right;\">\n",
       "      <th></th>\n",
       "      <th>CreditScore</th>\n",
       "      <th>Age</th>\n",
       "      <th>Tenure</th>\n",
       "      <th>Balance</th>\n",
       "      <th>NumOfProducts</th>\n",
       "      <th>HasCrCard</th>\n",
       "      <th>IsActiveMember</th>\n",
       "      <th>EstimatedSalary</th>\n",
       "      <th>Geography_Germany</th>\n",
       "      <th>Geography_Spain</th>\n",
       "      <th>Gender_Male</th>\n",
       "    </tr>\n",
       "  </thead>\n",
       "  <tbody>\n",
       "    <tr>\n",
       "      <th>7867</th>\n",
       "      <td>-0.114728</td>\n",
       "      <td>0.680178</td>\n",
       "      <td>-0.499198</td>\n",
       "      <td>-1.224577</td>\n",
       "      <td>-0.896874</td>\n",
       "      <td>1</td>\n",
       "      <td>1</td>\n",
       "      <td>0.969342</td>\n",
       "      <td>0</td>\n",
       "      <td>1</td>\n",
       "      <td>0</td>\n",
       "    </tr>\n",
       "    <tr>\n",
       "      <th>1402</th>\n",
       "      <td>1.093261</td>\n",
       "      <td>-0.936365</td>\n",
       "      <td>1.105871</td>\n",
       "      <td>0.865861</td>\n",
       "      <td>-0.896874</td>\n",
       "      <td>1</td>\n",
       "      <td>0</td>\n",
       "      <td>-0.395081</td>\n",
       "      <td>0</td>\n",
       "      <td>0</td>\n",
       "      <td>1</td>\n",
       "    </tr>\n",
       "    <tr>\n",
       "      <th>8606</th>\n",
       "      <td>1.609496</td>\n",
       "      <td>0.299815</td>\n",
       "      <td>0.142830</td>\n",
       "      <td>-1.224577</td>\n",
       "      <td>0.817772</td>\n",
       "      <td>1</td>\n",
       "      <td>1</td>\n",
       "      <td>-0.439560</td>\n",
       "      <td>0</td>\n",
       "      <td>1</td>\n",
       "      <td>1</td>\n",
       "    </tr>\n",
       "    <tr>\n",
       "      <th>8885</th>\n",
       "      <td>0.174363</td>\n",
       "      <td>0.585087</td>\n",
       "      <td>-0.178184</td>\n",
       "      <td>0.419555</td>\n",
       "      <td>0.817772</td>\n",
       "      <td>1</td>\n",
       "      <td>1</td>\n",
       "      <td>1.006040</td>\n",
       "      <td>0</td>\n",
       "      <td>1</td>\n",
       "      <td>1</td>\n",
       "    </tr>\n",
       "    <tr>\n",
       "      <th>6494</th>\n",
       "      <td>0.494429</td>\n",
       "      <td>-1.031456</td>\n",
       "      <td>0.784858</td>\n",
       "      <td>-1.224577</td>\n",
       "      <td>0.817772</td>\n",
       "      <td>1</td>\n",
       "      <td>1</td>\n",
       "      <td>-1.343789</td>\n",
       "      <td>0</td>\n",
       "      <td>0</td>\n",
       "      <td>1</td>\n",
       "    </tr>\n",
       "  </tbody>\n",
       "</table>\n",
       "</div>"
      ],
      "text/plain": [
       "      CreditScore       Age    Tenure   Balance  NumOfProducts  HasCrCard  \\\n",
       "7867    -0.114728  0.680178 -0.499198 -1.224577      -0.896874          1   \n",
       "1402     1.093261 -0.936365  1.105871  0.865861      -0.896874          1   \n",
       "8606     1.609496  0.299815  0.142830 -1.224577       0.817772          1   \n",
       "8885     0.174363  0.585087 -0.178184  0.419555       0.817772          1   \n",
       "6494     0.494429 -1.031456  0.784858 -1.224577       0.817772          1   \n",
       "\n",
       "      IsActiveMember  EstimatedSalary  Geography_Germany  Geography_Spain  \\\n",
       "7867               1         0.969342                  0                1   \n",
       "1402               0        -0.395081                  0                0   \n",
       "8606               1        -0.439560                  0                1   \n",
       "8885               1         1.006040                  0                1   \n",
       "6494               1        -1.343789                  0                0   \n",
       "\n",
       "      Gender_Male  \n",
       "7867            0  \n",
       "1402            1  \n",
       "8606            1  \n",
       "8885            1  \n",
       "6494            1  "
      ]
     },
     "execution_count": 21,
     "metadata": {},
     "output_type": "execute_result"
    }
   ],
   "source": [
    "features_valid.head()"
   ]
  },
  {
   "cell_type": "markdown",
   "metadata": {},
   "source": [
    "Стандартизация проведена корректно."
   ]
  },
  {
   "cell_type": "markdown",
   "metadata": {},
   "source": [
    "Обучим модель логистической регресии и проверим значение метрик F1 и AUC-ROC."
   ]
  },
  {
   "cell_type": "code",
   "execution_count": 22,
   "metadata": {},
   "outputs": [
    {
     "name": "stdout",
     "output_type": "stream",
     "text": [
      "Метрики логистической регресии:\n",
      "F1 score: 0.29247910863509746 AUC-ROC: 0.7585465268364605\n"
     ]
    }
   ],
   "source": [
    "model = LogisticRegression(solver='liblinear', random_state = 12345)\n",
    "model.fit(features_train, target_train)\n",
    "predicted_valid = model.predict(features_valid)\n",
    "probabilities_valid = model.predict_proba(features_valid)\n",
    "probabilities_one_valid = probabilities_valid[:, 1]\n",
    "auc_roc = roc_auc_score(target_valid, probabilities_one_valid)\n",
    "print('Метрики логистической регресии:')\n",
    "print('F1 score:', f1_score(target_valid, predicted_valid), 'AUC-ROC:', auc_roc)"
   ]
  },
  {
   "cell_type": "markdown",
   "metadata": {},
   "source": [
    "Повторим для модели решающего дерева."
   ]
  },
  {
   "cell_type": "code",
   "execution_count": 23,
   "metadata": {
    "scrolled": true
   },
   "outputs": [
    {
     "name": "stdout",
     "output_type": "stream",
     "text": [
      "Метрики решающего дерева:\n",
      "Max depth = 5 F1 score: 0.5704545454545454 AUC-ROC: 0.8424341870585718\n"
     ]
    }
   ],
   "source": [
    "model = DecisionTreeClassifier(max_depth = 5, random_state = 12345)\n",
    "model.fit(features_train, target_train)\n",
    "predicted_valid = model.predict(features_valid)\n",
    "probabilities_valid = model.predict_proba(features_valid)\n",
    "probabilities_one_valid = probabilities_valid[:, 1]\n",
    "auc_roc = roc_auc_score(target_valid, probabilities_one_valid)\n",
    "print('Метрики решающего дерева:')\n",
    "print(\"Max depth = 5\", 'F1 score:', f1_score(target_valid, predicted_valid), 'AUC-ROC:', auc_roc)"
   ]
  },
  {
   "cell_type": "markdown",
   "metadata": {},
   "source": [
    "И для случайного леса"
   ]
  },
  {
   "cell_type": "code",
   "execution_count": 24,
   "metadata": {
    "scrolled": false
   },
   "outputs": [
    {
     "name": "stdout",
     "output_type": "stream",
     "text": [
      "Метрики случайного леса:\n",
      "N estimators = 81, max depth = 35\n",
      "F1 score: 0.5820721769499417 AUC-ROC: 0.8539444959691803\n"
     ]
    }
   ],
   "source": [
    "model = RandomForestClassifier(n_estimators = 81, max_depth = 35, random_state = 12345)\n",
    "model.fit(features_train, target_train)\n",
    "predicted_valid = model.predict(features_valid)\n",
    "probabilities_valid = model.predict_proba(features_valid)\n",
    "probabilities_one_valid = probabilities_valid[:, 1]\n",
    "auc_roc = roc_auc_score(target_valid, probabilities_one_valid)\n",
    "print('Метрики случайного леса:')\n",
    "print('N estimators = 81, max depth = 35')\n",
    "print('F1 score:', f1_score(target_valid, predicted_valid), 'AUC-ROC:', auc_roc)"
   ]
  },
  {
   "cell_type": "markdown",
   "metadata": {},
   "source": [
    "Запомним полученные результаты и сравним, насколько далее взвешивание классов и оптимизация гиперпараметров моделей улучшит результаты. "
   ]
  },
  {
   "cell_type": "markdown",
   "metadata": {},
   "source": [
    "## Борьба с дисбалансом"
   ]
  },
  {
   "cell_type": "markdown",
   "metadata": {},
   "source": [
    "Вернемся к исходному датафрейму и повторим начальные шаги подготовки данных (удалим лишние столбцы, строки с пропусками и проведем OHE)."
   ]
  },
  {
   "cell_type": "code",
   "execution_count": 25,
   "metadata": {},
   "outputs": [],
   "source": [
    "data = data[['CreditScore', 'Geography', 'Gender', 'Age', 'Tenure', 'Balance', 'NumOfProducts', 'HasCrCard',\n",
    "             'IsActiveMember', 'EstimatedSalary', 'Exited']]\n",
    "data = data.dropna(subset = ['Tenure'])\n",
    "data.reset_index(drop = True, inplace = True)\n",
    "data = pd.get_dummies(data, drop_first=True)"
   ]
  },
  {
   "cell_type": "markdown",
   "metadata": {},
   "source": [
    "Проверим дисбаланс классов."
   ]
  },
  {
   "cell_type": "code",
   "execution_count": 26,
   "metadata": {
    "scrolled": true
   },
   "outputs": [
    {
     "data": {
      "text/plain": [
       "0.2039379606203938"
      ]
     },
     "execution_count": 26,
     "metadata": {},
     "output_type": "execute_result"
    }
   ],
   "source": [
    "data.Exited.mean()"
   ]
  },
  {
   "cell_type": "markdown",
   "metadata": {},
   "source": [
    "Проведем разделение выборки на тестовую, валидационную и обучающую в пропорции 20:20:60 соответственно."
   ]
  },
  {
   "cell_type": "code",
   "execution_count": 27,
   "metadata": {},
   "outputs": [],
   "source": [
    "features = data.drop('Exited', axis = 1)\n",
    "target = data['Exited']\n",
    "features_train, features_test, target_train, target_test = train_test_split(features, target, test_size = 0.20, random_state = 12345)\n",
    "features_train, features_valid, target_train, target_valid = train_test_split(features_train, target_train, test_size = 0.25, random_state = 12345)"
   ]
  },
  {
   "cell_type": "markdown",
   "metadata": {},
   "source": [
    "Ниже стандартизация признаков."
   ]
  },
  {
   "cell_type": "code",
   "execution_count": 28,
   "metadata": {},
   "outputs": [],
   "source": [
    "numeric = ['CreditScore', 'Age', 'Tenure', 'Balance', 'NumOfProducts', 'EstimatedSalary']\n",
    "scaler = StandardScaler()\n",
    "scaler.fit(features_train[numeric])\n",
    "pd.options.mode.chained_assignment = None\n",
    "features_train[numeric] = scaler.transform(features_train[numeric])\n",
    "features_valid[numeric] = scaler.transform(features_valid[numeric])\n",
    "features_test[numeric] = scaler.transform(features_test[numeric])"
   ]
  },
  {
   "cell_type": "markdown",
   "metadata": {},
   "source": [
    "Теперь можем перейти к работе с дисбалансом классов. Начнем с увеличения выборки."
   ]
  },
  {
   "cell_type": "code",
   "execution_count": 29,
   "metadata": {},
   "outputs": [
    {
     "name": "stdout",
     "output_type": "stream",
     "text": [
      "(8811, 11)\n",
      "(8811,)\n"
     ]
    }
   ],
   "source": [
    "def upsample(features, target, repeat):\n",
    "    features_zeros = features[target == 0]\n",
    "    features_ones = features[target == 1]\n",
    "    target_zeros = target[target == 0]\n",
    "    target_ones = target[target == 1]\n",
    "\n",
    "    features_upsampled = pd.concat([features_zeros] + [features_ones] * repeat)\n",
    "    target_upsampled = pd.concat([target_zeros] + [target_ones] * repeat)\n",
    "    \n",
    "    features_upsampled, target_upsampled = shuffle(\n",
    "        features_upsampled, target_upsampled, random_state=12345)\n",
    "    \n",
    "    return features_upsampled, target_upsampled\n",
    "\n",
    "features_upsampled, target_upsampled = upsample(features_train, target_train, 4)\n",
    "\n",
    "print(features_upsampled.shape)\n",
    "print(target_upsampled.shape)"
   ]
  },
  {
   "cell_type": "code",
   "execution_count": 30,
   "metadata": {},
   "outputs": [
    {
     "data": {
      "text/plain": [
       "0.5080013619339462"
      ]
     },
     "execution_count": 30,
     "metadata": {},
     "output_type": "execute_result"
    }
   ],
   "source": [
    "target_upsampled.mean()"
   ]
  },
  {
   "cell_type": "markdown",
   "metadata": {},
   "source": [
    "Рассчитаем метрики для трех моделей. (Перебор гиперпараметров циклом тут не приводим, приведем сразу оптимальные параметры)."
   ]
  },
  {
   "cell_type": "code",
   "execution_count": 31,
   "metadata": {},
   "outputs": [
    {
     "name": "stdout",
     "output_type": "stream",
     "text": [
      "F1 score (balanced): 0.49506903353057197 AUC-ROC (balanced): 0.7747237652230201\n"
     ]
    }
   ],
   "source": [
    "modelLR = LogisticRegression(solver='liblinear', random_state = 12345, class_weight = 'balanced')\n",
    "modelLR.fit(features_upsampled, target_upsampled)\n",
    "predicted_valid = modelLR.predict(features_valid)\n",
    "probabilities_valid = modelLR.predict_proba(features_valid)\n",
    "probabilities_one_valid = probabilities_valid[:, 1]\n",
    "auc_roc = roc_auc_score(target_valid, probabilities_one_valid)\n",
    "print('F1 score (balanced):', f1_score(target_valid, predicted_valid), 'AUC-ROC (balanced):', auc_roc)"
   ]
  },
  {
   "cell_type": "markdown",
   "metadata": {},
   "source": [
    "По сравнению с логистической регрессией несбалансированной выборки метрики выросли."
   ]
  },
  {
   "cell_type": "code",
   "execution_count": 32,
   "metadata": {},
   "outputs": [
    {
     "name": "stdout",
     "output_type": "stream",
     "text": [
      "Max depth = 7 F1 score (balanced): 0.5458207452165156 AUC-ROC (balanced): 0.8091769031597645\n"
     ]
    }
   ],
   "source": [
    "modelDT = DecisionTreeClassifier(max_depth = 7, random_state = 12345, class_weight = 'balanced')\n",
    "modelDT.fit(features_upsampled, target_upsampled)\n",
    "predicted_valid = modelDT.predict(features_valid)\n",
    "probabilities_valid = modelDT.predict_proba(features_valid)\n",
    "probabilities_one_valid = probabilities_valid[:, 1]\n",
    "auc_roc = roc_auc_score(target_valid, probabilities_one_valid)\n",
    "print('Max depth = 7', 'F1 score (balanced):', f1_score(target_valid, predicted_valid), 'AUC-ROC (balanced):', auc_roc)"
   ]
  },
  {
   "cell_type": "code",
   "execution_count": 33,
   "metadata": {
    "scrolled": false
   },
   "outputs": [
    {
     "name": "stdout",
     "output_type": "stream",
     "text": [
      "N est = 251 max depth = 13 F1 score (balanced): 0.5912305516265912 AUC-ROC (balanced): 0.8440157912959703\n"
     ]
    }
   ],
   "source": [
    "modelRF = RandomForestClassifier(n_estimators = 251, max_depth = 13, random_state = 12345, class_weight = 'balanced')\n",
    "modelRF.fit(features_upsampled, target_upsampled)\n",
    "predicted_valid = modelRF.predict(features_valid)\n",
    "probabilities_valid = modelRF.predict_proba(features_valid)\n",
    "probabilities_one_valid = probabilities_valid[:, 1]\n",
    "auc_roc = roc_auc_score(target_valid, probabilities_one_valid)\n",
    "print('N est = 251', 'max depth = 13', 'F1 score (balanced):', f1_score(target_valid, predicted_valid), 'AUC-ROC (balanced):', auc_roc)"
   ]
  },
  {
   "cell_type": "markdown",
   "metadata": {},
   "source": [
    "Максимальный F1 и AUC - ROC достигнут моделью RandomForestClassifier при количестве деревьев 251 и глубине 13"
   ]
  },
  {
   "cell_type": "markdown",
   "metadata": {},
   "source": [
    "Уменьшение выборки."
   ]
  },
  {
   "cell_type": "code",
   "execution_count": 34,
   "metadata": {},
   "outputs": [
    {
     "name": "stdout",
     "output_type": "stream",
     "text": [
      "(2203, 11)\n",
      "(2203,)\n"
     ]
    }
   ],
   "source": [
    "def downsample(features, target, fraction):\n",
    "    features_zeros = features[target == 0]\n",
    "    features_ones = features[target == 1]\n",
    "    target_zeros = target[target == 0]\n",
    "    target_ones = target[target == 1]\n",
    "    features_downsampled = pd.concat(\n",
    "        [features_zeros.sample(frac=fraction, random_state=12345)] + [features_ones])\n",
    "    target_downsampled = pd.concat(\n",
    "        [target_zeros.sample(frac=fraction, random_state=12345)] + [target_ones])\n",
    "    features_downsampled, target_downsampled = shuffle(\n",
    "        features_downsampled, target_downsampled, random_state=12345)\n",
    "    return features_downsampled, target_downsampled\n",
    "features_downsampled, target_downsampled = downsample(features_train, target_train, 0.25)\n",
    "\n",
    "print(features_downsampled.shape)\n",
    "print(target_downsampled.shape)"
   ]
  },
  {
   "cell_type": "code",
   "execution_count": 35,
   "metadata": {},
   "outputs": [
    {
     "data": {
      "text/plain": [
       "0.5079437131184749"
      ]
     },
     "execution_count": 35,
     "metadata": {},
     "output_type": "execute_result"
    }
   ],
   "source": [
    "target_downsampled.mean()"
   ]
  },
  {
   "cell_type": "code",
   "execution_count": 36,
   "metadata": {},
   "outputs": [
    {
     "name": "stdout",
     "output_type": "stream",
     "text": [
      "F1 score (balanced): 0.49849246231155775 AUC-ROC (balanced): 0.7754933839136522\n"
     ]
    }
   ],
   "source": [
    "modelLR1 = LogisticRegression(solver='liblinear', random_state = 12345, class_weight = 'balanced')\n",
    "modelLR1.fit(features_downsampled, target_downsampled)\n",
    "predicted_valid = modelLR1.predict(features_valid)\n",
    "probabilities_valid = modelLR1.predict_proba(features_valid)\n",
    "probabilities_one_valid = probabilities_valid[:, 1]\n",
    "auc_roc = roc_auc_score(target_valid, probabilities_one_valid)\n",
    "print('F1 score (balanced):', f1_score(target_valid, predicted_valid), 'AUC-ROC (balanced):', auc_roc)"
   ]
  },
  {
   "cell_type": "code",
   "execution_count": 37,
   "metadata": {
    "scrolled": true
   },
   "outputs": [
    {
     "name": "stdout",
     "output_type": "stream",
     "text": [
      "F1 score (balanced): 0.553191489361702 AUC-ROC (balanced): 0.8094826807568983\n"
     ]
    }
   ],
   "source": [
    "modelDT1 = DecisionTreeClassifier(max_depth = 5, random_state = 12345, class_weight = 'balanced')\n",
    "modelDT1.fit(features_downsampled, target_downsampled)\n",
    "predicted_valid = modelDT1.predict(features_valid)\n",
    "probabilities_valid = modelDT1.predict_proba(features_valid)\n",
    "probabilities_one_valid = probabilities_valid[:, 1]\n",
    "auc_roc = roc_auc_score(target_valid, probabilities_one_valid)\n",
    "print('F1 score (balanced):', f1_score(target_valid, predicted_valid), 'AUC-ROC (balanced):', auc_roc)"
   ]
  },
  {
   "cell_type": "code",
   "execution_count": 38,
   "metadata": {
    "scrolled": false
   },
   "outputs": [
    {
     "name": "stdout",
     "output_type": "stream",
     "text": [
      "F1 score (balanced): 0.5838779956427015 AUC-ROC (balanced): 0.845331105390718\n"
     ]
    }
   ],
   "source": [
    "modelRF1 = RandomForestClassifier(n_estimators = 251, max_depth = 13, random_state = 12345, class_weight = 'balanced')\n",
    "modelRF1.fit(features_downsampled, target_downsampled)\n",
    "predicted_valid = modelRF1.predict(features_valid)\n",
    "probabilities_valid = modelRF1.predict_proba(features_valid)\n",
    "probabilities_one_valid = probabilities_valid[:, 1]\n",
    "auc_roc = roc_auc_score(target_valid, probabilities_one_valid)\n",
    "print('F1 score (balanced):', f1_score(target_valid, predicted_valid), 'AUC-ROC (balanced):', auc_roc)"
   ]
  },
  {
   "cell_type": "markdown",
   "metadata": {},
   "source": [
    "При уменьшении выборки наилучший результат достигается также моделью RandomForestClassifier, однако результаты увеличения выборки более высокие. Проведем тестирование наилучшей модели (она сохранена)."
   ]
  },
  {
   "cell_type": "markdown",
   "metadata": {},
   "source": [
    "## Тестирование модели"
   ]
  },
  {
   "cell_type": "code",
   "execution_count": 39,
   "metadata": {},
   "outputs": [
    {
     "name": "stdout",
     "output_type": "stream",
     "text": [
      "F1 score: 0.6019151846785226 AUC-ROC: 0.85272030651341\n"
     ]
    }
   ],
   "source": [
    "probabilities_test = modelRF.predict_proba(features_test)\n",
    "probabilities_one_test = probabilities_test[:, 1]\n",
    "auc_roc = roc_auc_score(target_test, probabilities_one_test)\n",
    "predicted_test = modelRF.predict(features_test)\n",
    "print('F1 score:', f1_score(target_test, predicted_test), 'AUC-ROC:', auc_roc)"
   ]
  },
  {
   "cell_type": "markdown",
   "metadata": {},
   "source": [
    "Итоговый результат не значительно уступает полученному на валидационной выборке. Можем применить модель для прогнозирования оттока клиентов."
   ]
  },
  {
   "cell_type": "markdown",
   "metadata": {},
   "source": [
    "Добавим визуализацию ROC-кривой."
   ]
  },
  {
   "cell_type": "code",
   "execution_count": 40,
   "metadata": {},
   "outputs": [
    {
     "data": {
      "image/png": "[encoded data removed]",
      "text/plain": [
       "<Figure size 864x648 with 1 Axes>"
      ]
     },
     "metadata": {
      "needs_background": "light"
     },
     "output_type": "display_data"
    }
   ],
   "source": [
    "fpr, tpr, thresholds = roc_curve(target_test, probabilities_one_test)\n",
    "plt.figure(figsize = (12, 9))\n",
    "plt.plot(fpr, tpr)\n",
    "plt.plot([0, 1], [0, 1], linestyle='--')\n",
    "plt.xlim([0.0, 1.0])\n",
    "plt.ylim([0.0, 1.0])\n",
    "plt.xlabel('False Positive Rate')\n",
    "plt.ylabel('True Positive Rate')\n",
    "plt.title('ROC-кривая')\n",
    "plt.show()"
   ]
  },
  {
   "cell_type": "markdown",
   "metadata": {},
   "source": [
    "Численный показатель AUC - ROC показывает площадь под ROC - кривой, площадь под случайной ROC - кривой (нанесена пунктиром) составляет 0.5. AUC - ROC обученной модели составляет 0.85, что заметно лучше случайной модели.\n",
    "\n",
    "Визуально можем оценить, что форма ROC - кривой обученной модели также существенно лучше случайной (лежит выше левее).\n",
    "\n",
    "Рост True Positive Rate, например с 0.2 до 0.4 не влечет за собой сопоставимого увеличения False Positive Rate, т. е. модель обладает прогностической способностью, основанной на выявленных закономеростях, а не случайной классификации. "
   ]
  },
  {
   "cell_type": "markdown",
   "metadata": {},
   "source": [
    "## Чек-лист готовности проекта"
   ]
  },
  {
   "cell_type": "markdown",
   "metadata": {},
   "source": [
    "Поставьте 'x' в выполненных пунктах. Далее нажмите Shift+Enter."
   ]
  },
  {
   "cell_type": "markdown",
   "metadata": {},
   "source": [
    "- [x]  Jupyter Notebook открыт\n",
    "- [x]  Весь код выполняется без ошибок\n",
    "- [x]  Ячейки с кодом расположены в порядке исполнения\n",
    "- [x]  Выполнен шаг 1: данные подготовлены\n",
    "- [x]  Выполнен шаг 2: задача исследована\n",
    "    - [x]  Исследован баланс классов\n",
    "    - [x]  Изучены модели без учёта дисбаланса\n",
    "    - [x]  Написаны выводы по результатам исследования\n",
    "- [x]  Выполнен шаг 3: учтён дисбаланс\n",
    "    - [x]  Применено несколько способов борьбы с дисбалансом\n",
    "    - [x]  Написаны выводы по результатам исследования\n",
    "- [x]  Выполнен шаг 4: проведено тестирование\n",
    "- [x]  Удалось достичь *F1*-меры не менее 0.59\n",
    "- [x]  Исследована метрика *AUC-ROC*"
   ]
  }
 ],
 "metadata": {
  "ExecuteTimeLog": [
   {
    "duration": 396,
    "start_time": "2022-11-03T20:06:37.393Z"
   },
   {
    "duration": 103,
    "start_time": "2022-11-03T20:06:59.192Z"
   },
   {
    "duration": 19,
    "start_time": "2022-11-03T20:07:12.196Z"
   },
   {
    "duration": 13,
    "start_time": "2022-11-03T20:08:06.766Z"
   },
   {
    "duration": 2549,
    "start_time": "2022-11-03T20:11:10.465Z"
   },
   {
    "duration": 19,
    "start_time": "2022-11-03T20:11:45.883Z"
   },
   {
    "duration": 26,
    "start_time": "2022-11-03T20:12:02.339Z"
   },
   {
    "duration": 36,
    "start_time": "2022-11-03T20:12:28.431Z"
   },
   {
    "duration": 17,
    "start_time": "2022-11-03T20:12:43.278Z"
   },
   {
    "duration": 19,
    "start_time": "2022-11-03T20:13:02.968Z"
   },
   {
    "duration": 25,
    "start_time": "2022-11-03T20:13:22.382Z"
   },
   {
    "duration": 29,
    "start_time": "2022-11-03T20:13:46.631Z"
   },
   {
    "duration": 9,
    "start_time": "2022-11-03T20:13:55.961Z"
   },
   {
    "duration": 187,
    "start_time": "2022-11-03T20:14:29.224Z"
   },
   {
    "duration": 89,
    "start_time": "2022-11-03T20:15:44.293Z"
   },
   {
    "duration": 169,
    "start_time": "2022-11-03T20:15:59.163Z"
   },
   {
    "duration": 4,
    "start_time": "2022-11-03T20:17:36.681Z"
   },
   {
    "duration": 396,
    "start_time": "2022-11-03T20:17:55.693Z"
   },
   {
    "duration": 41,
    "start_time": "2022-11-03T20:17:56.091Z"
   },
   {
    "duration": 32,
    "start_time": "2022-11-03T20:17:56.134Z"
   },
   {
    "duration": 15,
    "start_time": "2022-11-03T20:17:56.168Z"
   },
   {
    "duration": 449,
    "start_time": "2022-11-03T20:17:56.185Z"
   },
   {
    "duration": 2172,
    "start_time": "2022-11-03T20:17:56.635Z"
   },
   {
    "duration": 6,
    "start_time": "2022-11-03T20:17:58.809Z"
   },
   {
    "duration": 6,
    "start_time": "2022-11-03T20:18:46.923Z"
   },
   {
    "duration": 6,
    "start_time": "2022-11-03T20:20:28.447Z"
   },
   {
    "duration": 30,
    "start_time": "2022-11-03T20:20:42.593Z"
   },
   {
    "duration": 6,
    "start_time": "2022-11-03T20:21:18.025Z"
   },
   {
    "duration": 370,
    "start_time": "2022-11-03T20:21:34.888Z"
   },
   {
    "duration": 46,
    "start_time": "2022-11-03T20:21:35.260Z"
   },
   {
    "duration": 19,
    "start_time": "2022-11-03T20:21:35.307Z"
   },
   {
    "duration": 15,
    "start_time": "2022-11-03T20:21:35.328Z"
   },
   {
    "duration": 386,
    "start_time": "2022-11-03T20:21:35.345Z"
   },
   {
    "duration": 1985,
    "start_time": "2022-11-03T20:21:35.732Z"
   },
   {
    "duration": 5,
    "start_time": "2022-11-03T20:21:37.719Z"
   },
   {
    "duration": 20,
    "start_time": "2022-11-03T20:21:37.725Z"
   },
   {
    "duration": 863,
    "start_time": "2022-11-03T20:28:15.307Z"
   },
   {
    "duration": 7,
    "start_time": "2022-11-03T20:28:27.367Z"
   },
   {
    "duration": 20,
    "start_time": "2022-11-03T20:28:36.006Z"
   },
   {
    "duration": 390,
    "start_time": "2022-11-03T20:28:48.079Z"
   },
   {
    "duration": 41,
    "start_time": "2022-11-03T20:28:48.471Z"
   },
   {
    "duration": 29,
    "start_time": "2022-11-03T20:28:48.514Z"
   },
   {
    "duration": 15,
    "start_time": "2022-11-03T20:28:48.550Z"
   },
   {
    "duration": 403,
    "start_time": "2022-11-03T20:28:48.567Z"
   },
   {
    "duration": 1959,
    "start_time": "2022-11-03T20:28:48.971Z"
   },
   {
    "duration": 23,
    "start_time": "2022-11-03T20:28:50.931Z"
   },
   {
    "duration": 9,
    "start_time": "2022-11-03T20:28:50.956Z"
   },
   {
    "duration": 5,
    "start_time": "2022-11-03T20:28:50.967Z"
   },
   {
    "duration": 20,
    "start_time": "2022-11-03T20:28:50.974Z"
   },
   {
    "duration": 406,
    "start_time": "2022-11-03T20:31:12.241Z"
   },
   {
    "duration": 41,
    "start_time": "2022-11-03T20:31:12.655Z"
   },
   {
    "duration": 18,
    "start_time": "2022-11-03T20:31:12.698Z"
   },
   {
    "duration": 12,
    "start_time": "2022-11-03T20:31:12.717Z"
   },
   {
    "duration": 422,
    "start_time": "2022-11-03T20:31:12.731Z"
   },
   {
    "duration": 2004,
    "start_time": "2022-11-03T20:31:13.154Z"
   },
   {
    "duration": 4,
    "start_time": "2022-11-03T20:31:15.160Z"
   },
   {
    "duration": 10,
    "start_time": "2022-11-03T20:31:15.166Z"
   },
   {
    "duration": 9,
    "start_time": "2022-11-03T20:31:15.177Z"
   },
   {
    "duration": 19,
    "start_time": "2022-11-03T20:31:15.187Z"
   },
   {
    "duration": 19,
    "start_time": "2022-11-03T20:50:29.794Z"
   },
   {
    "duration": 395,
    "start_time": "2022-11-03T20:50:45.000Z"
   },
   {
    "duration": 46,
    "start_time": "2022-11-03T20:50:45.397Z"
   },
   {
    "duration": 28,
    "start_time": "2022-11-03T20:50:45.445Z"
   },
   {
    "duration": 44,
    "start_time": "2022-11-03T20:50:45.475Z"
   },
   {
    "duration": 473,
    "start_time": "2022-11-03T20:50:45.521Z"
   },
   {
    "duration": 2285,
    "start_time": "2022-11-03T20:50:45.996Z"
   },
   {
    "duration": 5,
    "start_time": "2022-11-03T20:50:48.282Z"
   },
   {
    "duration": 7,
    "start_time": "2022-11-03T20:50:48.289Z"
   },
   {
    "duration": 8,
    "start_time": "2022-11-03T20:50:48.299Z"
   },
   {
    "duration": 47,
    "start_time": "2022-11-03T20:50:48.309Z"
   },
   {
    "duration": 22,
    "start_time": "2022-11-03T20:50:48.363Z"
   },
   {
    "duration": 485,
    "start_time": "2022-11-03T20:53:07.090Z"
   },
   {
    "duration": 50,
    "start_time": "2022-11-03T20:53:07.578Z"
   },
   {
    "duration": 30,
    "start_time": "2022-11-03T20:53:07.630Z"
   },
   {
    "duration": 42,
    "start_time": "2022-11-03T20:53:07.663Z"
   },
   {
    "duration": 479,
    "start_time": "2022-11-03T20:53:07.708Z"
   },
   {
    "duration": 2179,
    "start_time": "2022-11-03T20:53:08.189Z"
   },
   {
    "duration": 6,
    "start_time": "2022-11-03T20:53:10.370Z"
   },
   {
    "duration": 11,
    "start_time": "2022-11-03T20:53:10.378Z"
   },
   {
    "duration": 4,
    "start_time": "2022-11-03T20:53:10.391Z"
   },
   {
    "duration": 13,
    "start_time": "2022-11-03T20:53:10.397Z"
   },
   {
    "duration": 55,
    "start_time": "2022-11-03T20:53:10.412Z"
   },
   {
    "duration": 396,
    "start_time": "2022-11-03T20:56:38.694Z"
   },
   {
    "duration": 41,
    "start_time": "2022-11-03T20:56:39.092Z"
   },
   {
    "duration": 33,
    "start_time": "2022-11-03T20:56:39.137Z"
   },
   {
    "duration": 11,
    "start_time": "2022-11-03T20:56:39.172Z"
   },
   {
    "duration": 481,
    "start_time": "2022-11-03T20:56:39.185Z"
   },
   {
    "duration": 2084,
    "start_time": "2022-11-03T20:56:39.668Z"
   },
   {
    "duration": 7,
    "start_time": "2022-11-03T20:56:41.754Z"
   },
   {
    "duration": 11,
    "start_time": "2022-11-03T20:56:41.762Z"
   },
   {
    "duration": 10,
    "start_time": "2022-11-03T20:56:41.775Z"
   },
   {
    "duration": 14,
    "start_time": "2022-11-03T20:56:41.787Z"
   },
   {
    "duration": 44,
    "start_time": "2022-11-03T20:56:41.803Z"
   },
   {
    "duration": 73,
    "start_time": "2022-11-03T20:56:41.850Z"
   },
   {
    "duration": 0,
    "start_time": "2022-11-03T20:56:41.925Z"
   },
   {
    "duration": 4,
    "start_time": "2022-11-03T20:57:15.727Z"
   },
   {
    "duration": 45,
    "start_time": "2022-11-03T20:57:19.131Z"
   },
   {
    "duration": 12,
    "start_time": "2022-11-03T20:57:28.317Z"
   },
   {
    "duration": 8,
    "start_time": "2022-11-03T20:57:37.537Z"
   },
   {
    "duration": 12,
    "start_time": "2022-11-03T20:57:43.051Z"
   },
   {
    "duration": 698,
    "start_time": "2022-11-03T20:58:08.372Z"
   },
   {
    "duration": 13,
    "start_time": "2022-11-03T20:58:28.145Z"
   },
   {
    "duration": 1366,
    "start_time": "2022-11-03T21:00:30.498Z"
   },
   {
    "duration": 43,
    "start_time": "2022-11-03T21:00:31.866Z"
   },
   {
    "duration": 21,
    "start_time": "2022-11-03T21:00:31.911Z"
   },
   {
    "duration": 21,
    "start_time": "2022-11-03T21:00:31.934Z"
   },
   {
    "duration": 451,
    "start_time": "2022-11-03T21:00:31.958Z"
   },
   {
    "duration": 1993,
    "start_time": "2022-11-03T21:00:32.410Z"
   },
   {
    "duration": 5,
    "start_time": "2022-11-03T21:00:34.405Z"
   },
   {
    "duration": 7,
    "start_time": "2022-11-03T21:00:34.412Z"
   },
   {
    "duration": 22,
    "start_time": "2022-11-03T21:00:34.421Z"
   },
   {
    "duration": 22,
    "start_time": "2022-11-03T21:00:34.444Z"
   },
   {
    "duration": 11,
    "start_time": "2022-11-03T21:00:34.468Z"
   },
   {
    "duration": 7,
    "start_time": "2022-11-03T21:00:34.481Z"
   },
   {
    "duration": 10,
    "start_time": "2022-11-03T21:00:34.490Z"
   },
   {
    "duration": 60,
    "start_time": "2022-11-03T21:04:37.132Z"
   },
   {
    "duration": 3,
    "start_time": "2022-11-03T21:05:01.511Z"
   },
   {
    "duration": 3,
    "start_time": "2022-11-03T21:05:27.776Z"
   },
   {
    "duration": 126,
    "start_time": "2022-11-03T21:06:02.425Z"
   },
   {
    "duration": 161,
    "start_time": "2022-11-03T21:08:52.254Z"
   },
   {
    "duration": 1156,
    "start_time": "2022-11-03T21:09:42.853Z"
   },
   {
    "duration": 54,
    "start_time": "2022-11-03T21:09:44.012Z"
   },
   {
    "duration": 22,
    "start_time": "2022-11-03T21:09:44.068Z"
   },
   {
    "duration": 12,
    "start_time": "2022-11-03T21:09:44.091Z"
   },
   {
    "duration": 505,
    "start_time": "2022-11-03T21:09:44.106Z"
   },
   {
    "duration": 2152,
    "start_time": "2022-11-03T21:09:44.613Z"
   },
   {
    "duration": 5,
    "start_time": "2022-11-03T21:09:46.767Z"
   },
   {
    "duration": 10,
    "start_time": "2022-11-03T21:09:46.774Z"
   },
   {
    "duration": 173,
    "start_time": "2022-11-03T21:09:46.785Z"
   },
   {
    "duration": 6,
    "start_time": "2022-11-03T21:09:46.960Z"
   },
   {
    "duration": 15,
    "start_time": "2022-11-03T21:09:46.967Z"
   },
   {
    "duration": 14,
    "start_time": "2022-11-03T21:09:46.984Z"
   },
   {
    "duration": 10,
    "start_time": "2022-11-03T21:09:47.000Z"
   },
   {
    "duration": 7,
    "start_time": "2022-11-03T21:09:47.012Z"
   },
   {
    "duration": 150,
    "start_time": "2022-11-03T21:09:47.042Z"
   },
   {
    "duration": 25,
    "start_time": "2022-11-03T21:13:47.365Z"
   },
   {
    "duration": 15,
    "start_time": "2022-11-03T21:14:16.014Z"
   },
   {
    "duration": 1157,
    "start_time": "2022-11-03T21:14:28.266Z"
   },
   {
    "duration": 44,
    "start_time": "2022-11-03T21:14:29.425Z"
   },
   {
    "duration": 22,
    "start_time": "2022-11-03T21:14:29.470Z"
   },
   {
    "duration": 14,
    "start_time": "2022-11-03T21:14:29.494Z"
   },
   {
    "duration": 464,
    "start_time": "2022-11-03T21:14:29.510Z"
   },
   {
    "duration": 2114,
    "start_time": "2022-11-03T21:14:29.975Z"
   },
   {
    "duration": 4,
    "start_time": "2022-11-03T21:14:32.091Z"
   },
   {
    "duration": 8,
    "start_time": "2022-11-03T21:14:32.097Z"
   },
   {
    "duration": 191,
    "start_time": "2022-11-03T21:14:32.106Z"
   },
   {
    "duration": 4,
    "start_time": "2022-11-03T21:14:32.299Z"
   },
   {
    "duration": 136,
    "start_time": "2022-11-03T21:14:32.305Z"
   },
   {
    "duration": 0,
    "start_time": "2022-11-03T21:14:32.444Z"
   },
   {
    "duration": 0,
    "start_time": "2022-11-03T21:14:32.446Z"
   },
   {
    "duration": 0,
    "start_time": "2022-11-03T21:14:32.448Z"
   },
   {
    "duration": 0,
    "start_time": "2022-11-03T21:14:32.449Z"
   },
   {
    "duration": 0,
    "start_time": "2022-11-03T21:14:32.451Z"
   },
   {
    "duration": 16,
    "start_time": "2022-11-03T21:15:28.867Z"
   },
   {
    "duration": 38,
    "start_time": "2022-11-03T21:17:16.228Z"
   },
   {
    "duration": 1065,
    "start_time": "2022-11-03T22:00:21.852Z"
   },
   {
    "duration": 45,
    "start_time": "2022-11-03T22:00:22.920Z"
   },
   {
    "duration": 23,
    "start_time": "2022-11-03T22:00:22.966Z"
   },
   {
    "duration": 13,
    "start_time": "2022-11-03T22:00:22.991Z"
   },
   {
    "duration": 408,
    "start_time": "2022-11-03T22:00:23.007Z"
   },
   {
    "duration": 1823,
    "start_time": "2022-11-03T22:00:23.416Z"
   },
   {
    "duration": 5,
    "start_time": "2022-11-03T22:00:25.240Z"
   },
   {
    "duration": 9,
    "start_time": "2022-11-03T22:00:25.246Z"
   },
   {
    "duration": 160,
    "start_time": "2022-11-03T22:00:25.257Z"
   },
   {
    "duration": 4,
    "start_time": "2022-11-03T22:00:25.419Z"
   },
   {
    "duration": 16,
    "start_time": "2022-11-03T22:00:25.425Z"
   },
   {
    "duration": 7,
    "start_time": "2022-11-03T22:00:25.443Z"
   },
   {
    "duration": 8,
    "start_time": "2022-11-03T22:00:25.451Z"
   },
   {
    "duration": 5,
    "start_time": "2022-11-03T22:00:25.461Z"
   },
   {
    "duration": 114,
    "start_time": "2022-11-03T22:00:25.468Z"
   },
   {
    "duration": 0,
    "start_time": "2022-11-03T22:00:25.583Z"
   },
   {
    "duration": 11,
    "start_time": "2022-11-03T22:01:08.705Z"
   },
   {
    "duration": 1069,
    "start_time": "2022-11-03T22:02:42.835Z"
   },
   {
    "duration": 41,
    "start_time": "2022-11-03T22:02:43.906Z"
   },
   {
    "duration": 14,
    "start_time": "2022-11-03T22:02:43.949Z"
   },
   {
    "duration": 17,
    "start_time": "2022-11-03T22:02:43.964Z"
   },
   {
    "duration": 16,
    "start_time": "2022-11-03T22:02:43.983Z"
   },
   {
    "duration": 398,
    "start_time": "2022-11-03T22:02:44.000Z"
   },
   {
    "duration": 1911,
    "start_time": "2022-11-03T22:02:44.400Z"
   },
   {
    "duration": 5,
    "start_time": "2022-11-03T22:02:46.312Z"
   },
   {
    "duration": 7,
    "start_time": "2022-11-03T22:02:46.318Z"
   },
   {
    "duration": 143,
    "start_time": "2022-11-03T22:02:46.338Z"
   },
   {
    "duration": 5,
    "start_time": "2022-11-03T22:02:46.482Z"
   },
   {
    "duration": 9,
    "start_time": "2022-11-03T22:02:46.488Z"
   },
   {
    "duration": 13,
    "start_time": "2022-11-03T22:02:46.498Z"
   },
   {
    "duration": 8,
    "start_time": "2022-11-03T22:02:46.514Z"
   },
   {
    "duration": 19,
    "start_time": "2022-11-03T22:02:46.524Z"
   },
   {
    "duration": 114,
    "start_time": "2022-11-03T22:02:46.545Z"
   },
   {
    "duration": 0,
    "start_time": "2022-11-03T22:02:46.661Z"
   },
   {
    "duration": 1045,
    "start_time": "2022-11-03T22:16:59.071Z"
   },
   {
    "duration": 95,
    "start_time": "2022-11-03T22:17:00.118Z"
   },
   {
    "duration": 12,
    "start_time": "2022-11-03T22:17:00.215Z"
   },
   {
    "duration": 17,
    "start_time": "2022-11-03T22:17:00.229Z"
   },
   {
    "duration": 24,
    "start_time": "2022-11-03T22:17:00.248Z"
   },
   {
    "duration": 440,
    "start_time": "2022-11-03T22:17:00.274Z"
   },
   {
    "duration": 1878,
    "start_time": "2022-11-03T22:17:00.716Z"
   },
   {
    "duration": 4,
    "start_time": "2022-11-03T22:17:02.596Z"
   },
   {
    "duration": 8,
    "start_time": "2022-11-03T22:17:02.601Z"
   },
   {
    "duration": 181,
    "start_time": "2022-11-03T22:17:02.611Z"
   },
   {
    "duration": 5,
    "start_time": "2022-11-03T22:17:02.794Z"
   },
   {
    "duration": 12,
    "start_time": "2022-11-03T22:17:02.800Z"
   },
   {
    "duration": 13,
    "start_time": "2022-11-03T22:17:02.814Z"
   },
   {
    "duration": 14,
    "start_time": "2022-11-03T22:17:02.838Z"
   },
   {
    "duration": 6,
    "start_time": "2022-11-03T22:17:02.854Z"
   },
   {
    "duration": 6,
    "start_time": "2022-11-03T22:17:02.862Z"
   },
   {
    "duration": 41,
    "start_time": "2022-11-03T22:17:02.870Z"
   },
   {
    "duration": 5,
    "start_time": "2022-11-03T22:19:30.483Z"
   },
   {
    "duration": 107,
    "start_time": "2022-11-03T22:25:25.189Z"
   },
   {
    "duration": 3,
    "start_time": "2022-11-03T22:25:34.031Z"
   },
   {
    "duration": 11,
    "start_time": "2022-11-03T22:25:39.075Z"
   },
   {
    "duration": 1126,
    "start_time": "2022-11-03T23:44:41.322Z"
   },
   {
    "duration": 41,
    "start_time": "2022-11-03T23:44:42.451Z"
   },
   {
    "duration": 13,
    "start_time": "2022-11-03T23:44:42.494Z"
   },
   {
    "duration": 21,
    "start_time": "2022-11-03T23:44:42.509Z"
   },
   {
    "duration": 19,
    "start_time": "2022-11-03T23:44:42.532Z"
   },
   {
    "duration": 423,
    "start_time": "2022-11-03T23:44:42.553Z"
   },
   {
    "duration": 2020,
    "start_time": "2022-11-03T23:44:42.978Z"
   },
   {
    "duration": 5,
    "start_time": "2022-11-03T23:44:44.999Z"
   },
   {
    "duration": 11,
    "start_time": "2022-11-03T23:44:45.006Z"
   },
   {
    "duration": 6,
    "start_time": "2022-11-03T23:44:45.019Z"
   },
   {
    "duration": 24,
    "start_time": "2022-11-03T23:44:45.039Z"
   },
   {
    "duration": 11,
    "start_time": "2022-11-03T23:44:45.064Z"
   },
   {
    "duration": 12,
    "start_time": "2022-11-03T23:44:45.076Z"
   },
   {
    "duration": 5,
    "start_time": "2022-11-03T23:44:45.089Z"
   },
   {
    "duration": 7,
    "start_time": "2022-11-03T23:44:45.096Z"
   },
   {
    "duration": 60,
    "start_time": "2022-11-03T23:44:45.104Z"
   },
   {
    "duration": 78,
    "start_time": "2022-11-03T23:44:45.165Z"
   },
   {
    "duration": 121,
    "start_time": "2022-11-03T23:44:45.246Z"
   },
   {
    "duration": 1116,
    "start_time": "2022-11-03T23:49:27.867Z"
   },
   {
    "duration": 42,
    "start_time": "2022-11-03T23:49:28.985Z"
   },
   {
    "duration": 18,
    "start_time": "2022-11-03T23:49:29.029Z"
   },
   {
    "duration": 22,
    "start_time": "2022-11-03T23:49:29.051Z"
   },
   {
    "duration": 13,
    "start_time": "2022-11-03T23:49:29.074Z"
   },
   {
    "duration": 441,
    "start_time": "2022-11-03T23:49:29.088Z"
   },
   {
    "duration": 2048,
    "start_time": "2022-11-03T23:49:29.530Z"
   },
   {
    "duration": 4,
    "start_time": "2022-11-03T23:49:31.580Z"
   },
   {
    "duration": 7,
    "start_time": "2022-11-03T23:49:31.586Z"
   },
   {
    "duration": 4,
    "start_time": "2022-11-03T23:49:31.595Z"
   },
   {
    "duration": 9,
    "start_time": "2022-11-03T23:49:31.600Z"
   },
   {
    "duration": 32,
    "start_time": "2022-11-03T23:49:31.610Z"
   },
   {
    "duration": 22,
    "start_time": "2022-11-03T23:49:31.644Z"
   },
   {
    "duration": 7,
    "start_time": "2022-11-03T23:49:31.668Z"
   },
   {
    "duration": 6,
    "start_time": "2022-11-03T23:49:31.676Z"
   },
   {
    "duration": 25,
    "start_time": "2022-11-03T23:49:31.684Z"
   },
   {
    "duration": 49,
    "start_time": "2022-11-03T23:49:31.711Z"
   },
   {
    "duration": 78,
    "start_time": "2022-11-03T23:49:31.763Z"
   },
   {
    "duration": 104,
    "start_time": "2022-11-03T23:49:31.844Z"
   },
   {
    "duration": 1117,
    "start_time": "2022-11-03T23:51:18.499Z"
   },
   {
    "duration": 52,
    "start_time": "2022-11-03T23:51:19.618Z"
   },
   {
    "duration": 18,
    "start_time": "2022-11-03T23:51:19.672Z"
   },
   {
    "duration": 22,
    "start_time": "2022-11-03T23:51:19.693Z"
   },
   {
    "duration": 18,
    "start_time": "2022-11-03T23:51:19.717Z"
   },
   {
    "duration": 497,
    "start_time": "2022-11-03T23:51:19.737Z"
   },
   {
    "duration": 1989,
    "start_time": "2022-11-03T23:51:20.239Z"
   },
   {
    "duration": 9,
    "start_time": "2022-11-03T23:51:22.229Z"
   },
   {
    "duration": 19,
    "start_time": "2022-11-03T23:51:22.240Z"
   },
   {
    "duration": 6,
    "start_time": "2022-11-03T23:51:22.262Z"
   },
   {
    "duration": 11,
    "start_time": "2022-11-03T23:51:22.270Z"
   },
   {
    "duration": 10,
    "start_time": "2022-11-03T23:51:22.283Z"
   },
   {
    "duration": 11,
    "start_time": "2022-11-03T23:51:22.294Z"
   },
   {
    "duration": 5,
    "start_time": "2022-11-03T23:51:22.307Z"
   },
   {
    "duration": 5,
    "start_time": "2022-11-03T23:51:22.314Z"
   },
   {
    "duration": 37,
    "start_time": "2022-11-03T23:51:22.338Z"
   },
   {
    "duration": 67,
    "start_time": "2022-11-03T23:51:22.377Z"
   },
   {
    "duration": 9,
    "start_time": "2022-11-03T23:51:22.446Z"
   },
   {
    "duration": 104,
    "start_time": "2022-11-03T23:51:22.459Z"
   },
   {
    "duration": 1164,
    "start_time": "2022-11-03T23:58:33.826Z"
   },
   {
    "duration": 42,
    "start_time": "2022-11-03T23:58:34.992Z"
   },
   {
    "duration": 14,
    "start_time": "2022-11-03T23:58:35.036Z"
   },
   {
    "duration": 24,
    "start_time": "2022-11-03T23:58:35.053Z"
   },
   {
    "duration": 12,
    "start_time": "2022-11-03T23:58:35.079Z"
   },
   {
    "duration": 437,
    "start_time": "2022-11-03T23:58:35.092Z"
   },
   {
    "duration": 2127,
    "start_time": "2022-11-03T23:58:35.530Z"
   },
   {
    "duration": 6,
    "start_time": "2022-11-03T23:58:37.659Z"
   },
   {
    "duration": 6,
    "start_time": "2022-11-03T23:58:37.667Z"
   },
   {
    "duration": 5,
    "start_time": "2022-11-03T23:58:37.675Z"
   },
   {
    "duration": 8,
    "start_time": "2022-11-03T23:58:37.681Z"
   },
   {
    "duration": 17,
    "start_time": "2022-11-03T23:58:37.691Z"
   },
   {
    "duration": 44,
    "start_time": "2022-11-03T23:58:37.710Z"
   },
   {
    "duration": 12,
    "start_time": "2022-11-03T23:58:37.757Z"
   },
   {
    "duration": 14,
    "start_time": "2022-11-03T23:58:37.771Z"
   },
   {
    "duration": 30,
    "start_time": "2022-11-03T23:58:37.786Z"
   },
   {
    "duration": 45,
    "start_time": "2022-11-03T23:58:37.818Z"
   },
   {
    "duration": 92,
    "start_time": "2022-11-03T23:58:37.866Z"
   },
   {
    "duration": 87,
    "start_time": "2022-11-03T23:58:37.964Z"
   },
   {
    "duration": 1030,
    "start_time": "2022-11-04T00:07:31.291Z"
   },
   {
    "duration": 50,
    "start_time": "2022-11-04T00:07:32.323Z"
   },
   {
    "duration": 13,
    "start_time": "2022-11-04T00:07:32.375Z"
   },
   {
    "duration": 20,
    "start_time": "2022-11-04T00:07:32.390Z"
   },
   {
    "duration": 12,
    "start_time": "2022-11-04T00:07:32.412Z"
   },
   {
    "duration": 430,
    "start_time": "2022-11-04T00:07:32.426Z"
   },
   {
    "duration": 1877,
    "start_time": "2022-11-04T00:07:32.858Z"
   },
   {
    "duration": 5,
    "start_time": "2022-11-04T00:07:34.738Z"
   },
   {
    "duration": 12,
    "start_time": "2022-11-04T00:07:34.745Z"
   },
   {
    "duration": 4,
    "start_time": "2022-11-04T00:07:34.759Z"
   },
   {
    "duration": 8,
    "start_time": "2022-11-04T00:07:34.765Z"
   },
   {
    "duration": 11,
    "start_time": "2022-11-04T00:07:34.775Z"
   },
   {
    "duration": 13,
    "start_time": "2022-11-04T00:07:34.788Z"
   },
   {
    "duration": 7,
    "start_time": "2022-11-04T00:07:34.838Z"
   },
   {
    "duration": 10,
    "start_time": "2022-11-04T00:07:34.848Z"
   },
   {
    "duration": 27,
    "start_time": "2022-11-04T00:07:34.861Z"
   },
   {
    "duration": 354,
    "start_time": "2022-11-04T00:07:34.889Z"
   },
   {
    "duration": 62,
    "start_time": "2022-11-04T00:08:31.081Z"
   },
   {
    "duration": 1001,
    "start_time": "2022-11-04T04:40:33.885Z"
   },
   {
    "duration": 90,
    "start_time": "2022-11-04T04:40:34.888Z"
   },
   {
    "duration": 13,
    "start_time": "2022-11-04T04:40:34.979Z"
   },
   {
    "duration": 18,
    "start_time": "2022-11-04T04:40:34.995Z"
   },
   {
    "duration": 11,
    "start_time": "2022-11-04T04:40:35.015Z"
   },
   {
    "duration": 526,
    "start_time": "2022-11-04T04:40:35.028Z"
   },
   {
    "duration": 1784,
    "start_time": "2022-11-04T04:40:35.556Z"
   },
   {
    "duration": 5,
    "start_time": "2022-11-04T04:40:37.342Z"
   },
   {
    "duration": 12,
    "start_time": "2022-11-04T04:40:37.348Z"
   },
   {
    "duration": 5,
    "start_time": "2022-11-04T04:40:37.362Z"
   },
   {
    "duration": 10,
    "start_time": "2022-11-04T04:40:37.368Z"
   },
   {
    "duration": 17,
    "start_time": "2022-11-04T04:40:37.380Z"
   },
   {
    "duration": 11,
    "start_time": "2022-11-04T04:40:37.398Z"
   },
   {
    "duration": 5,
    "start_time": "2022-11-04T04:40:37.422Z"
   },
   {
    "duration": 5,
    "start_time": "2022-11-04T04:40:37.428Z"
   },
   {
    "duration": 22,
    "start_time": "2022-11-04T04:40:37.434Z"
   },
   {
    "duration": 79,
    "start_time": "2022-11-04T04:40:37.459Z"
   },
   {
    "duration": 1080,
    "start_time": "2022-11-04T04:51:40.317Z"
   },
   {
    "duration": 40,
    "start_time": "2022-11-04T04:51:41.398Z"
   },
   {
    "duration": 14,
    "start_time": "2022-11-04T04:51:41.439Z"
   },
   {
    "duration": 18,
    "start_time": "2022-11-04T04:51:41.454Z"
   },
   {
    "duration": 12,
    "start_time": "2022-11-04T04:51:41.474Z"
   },
   {
    "duration": 407,
    "start_time": "2022-11-04T04:51:41.487Z"
   },
   {
    "duration": 1719,
    "start_time": "2022-11-04T04:51:41.896Z"
   },
   {
    "duration": 4,
    "start_time": "2022-11-04T04:51:43.621Z"
   },
   {
    "duration": 10,
    "start_time": "2022-11-04T04:51:43.626Z"
   },
   {
    "duration": 5,
    "start_time": "2022-11-04T04:51:43.638Z"
   },
   {
    "duration": 10,
    "start_time": "2022-11-04T04:51:43.644Z"
   },
   {
    "duration": 790,
    "start_time": "2022-11-04T04:51:43.655Z"
   },
   {
    "duration": 10,
    "start_time": "2022-11-04T04:51:44.447Z"
   },
   {
    "duration": 11,
    "start_time": "2022-11-04T04:51:44.460Z"
   },
   {
    "duration": 7,
    "start_time": "2022-11-04T04:51:44.473Z"
   },
   {
    "duration": 6,
    "start_time": "2022-11-04T04:51:44.482Z"
   },
   {
    "duration": 52,
    "start_time": "2022-11-04T04:51:44.489Z"
   },
   {
    "duration": 186,
    "start_time": "2022-11-04T04:51:44.543Z"
   },
   {
    "duration": 38,
    "start_time": "2022-11-04T04:52:38.079Z"
   },
   {
    "duration": 4,
    "start_time": "2022-11-04T04:53:47.549Z"
   },
   {
    "duration": 1847,
    "start_time": "2022-11-04T04:54:00.334Z"
   },
   {
    "duration": 1326,
    "start_time": "2022-11-04T04:55:27.963Z"
   },
   {
    "duration": 40,
    "start_time": "2022-11-04T04:55:29.291Z"
   },
   {
    "duration": 12,
    "start_time": "2022-11-04T04:55:29.333Z"
   },
   {
    "duration": 18,
    "start_time": "2022-11-04T04:55:29.347Z"
   },
   {
    "duration": 169,
    "start_time": "2022-11-04T04:55:29.367Z"
   },
   {
    "duration": 1774,
    "start_time": "2022-11-04T04:55:29.538Z"
   },
   {
    "duration": 51,
    "start_time": "2022-11-04T04:55:31.314Z"
   },
   {
    "duration": 4,
    "start_time": "2022-11-04T04:55:31.366Z"
   },
   {
    "duration": 42,
    "start_time": "2022-11-04T04:55:31.372Z"
   },
   {
    "duration": 1375,
    "start_time": "2022-11-04T04:55:31.415Z"
   },
   {
    "duration": 58,
    "start_time": "2022-11-04T04:55:32.792Z"
   },
   {
    "duration": 12,
    "start_time": "2022-11-04T04:55:32.852Z"
   },
   {
    "duration": 17,
    "start_time": "2022-11-04T04:55:32.865Z"
   },
   {
    "duration": 7,
    "start_time": "2022-11-04T04:55:32.885Z"
   },
   {
    "duration": 28,
    "start_time": "2022-11-04T04:55:32.894Z"
   },
   {
    "duration": 34,
    "start_time": "2022-11-04T04:55:32.925Z"
   },
   {
    "duration": 169,
    "start_time": "2022-11-04T04:55:32.961Z"
   },
   {
    "duration": 3,
    "start_time": "2022-11-04T05:01:34.462Z"
   },
   {
    "duration": 1288,
    "start_time": "2022-11-04T05:01:43.217Z"
   },
   {
    "duration": 40,
    "start_time": "2022-11-04T05:01:44.507Z"
   },
   {
    "duration": 15,
    "start_time": "2022-11-04T05:01:44.548Z"
   },
   {
    "duration": 16,
    "start_time": "2022-11-04T05:01:44.565Z"
   },
   {
    "duration": 169,
    "start_time": "2022-11-04T05:01:44.584Z"
   },
   {
    "duration": 1839,
    "start_time": "2022-11-04T05:01:44.755Z"
   },
   {
    "duration": 44,
    "start_time": "2022-11-04T05:01:46.596Z"
   },
   {
    "duration": 4,
    "start_time": "2022-11-04T05:01:46.641Z"
   },
   {
    "duration": 17,
    "start_time": "2022-11-04T05:01:46.647Z"
   },
   {
    "duration": 1459,
    "start_time": "2022-11-04T05:01:46.666Z"
   },
   {
    "duration": 32,
    "start_time": "2022-11-04T05:01:48.127Z"
   },
   {
    "duration": 3,
    "start_time": "2022-11-04T05:01:48.160Z"
   },
   {
    "duration": 15,
    "start_time": "2022-11-04T05:01:48.165Z"
   },
   {
    "duration": 37,
    "start_time": "2022-11-04T05:01:48.182Z"
   },
   {
    "duration": 21,
    "start_time": "2022-11-04T05:01:48.221Z"
   },
   {
    "duration": 27,
    "start_time": "2022-11-04T05:01:48.244Z"
   },
   {
    "duration": 41,
    "start_time": "2022-11-04T05:01:48.273Z"
   },
   {
    "duration": 211,
    "start_time": "2022-11-04T05:01:48.316Z"
   },
   {
    "duration": 1299,
    "start_time": "2022-11-04T05:17:34.047Z"
   },
   {
    "duration": 39,
    "start_time": "2022-11-04T05:17:35.349Z"
   },
   {
    "duration": 15,
    "start_time": "2022-11-04T05:17:35.390Z"
   },
   {
    "duration": 15,
    "start_time": "2022-11-04T05:17:35.407Z"
   },
   {
    "duration": 167,
    "start_time": "2022-11-04T05:17:35.425Z"
   },
   {
    "duration": 1861,
    "start_time": "2022-11-04T05:17:35.593Z"
   },
   {
    "duration": 46,
    "start_time": "2022-11-04T05:17:37.457Z"
   },
   {
    "duration": 17,
    "start_time": "2022-11-04T05:17:37.505Z"
   },
   {
    "duration": 13,
    "start_time": "2022-11-04T05:17:37.524Z"
   },
   {
    "duration": 1464,
    "start_time": "2022-11-04T05:17:37.539Z"
   },
   {
    "duration": 51,
    "start_time": "2022-11-04T05:17:39.005Z"
   },
   {
    "duration": 3,
    "start_time": "2022-11-04T05:17:39.058Z"
   },
   {
    "duration": 21,
    "start_time": "2022-11-04T05:17:39.063Z"
   },
   {
    "duration": 23,
    "start_time": "2022-11-04T05:17:39.088Z"
   },
   {
    "duration": 26,
    "start_time": "2022-11-04T05:17:39.113Z"
   },
   {
    "duration": 36,
    "start_time": "2022-11-04T05:17:39.142Z"
   },
   {
    "duration": 31,
    "start_time": "2022-11-04T05:17:39.180Z"
   },
   {
    "duration": 11,
    "start_time": "2022-11-04T05:17:39.213Z"
   },
   {
    "duration": 16,
    "start_time": "2022-11-04T05:17:39.226Z"
   },
   {
    "duration": 81,
    "start_time": "2022-11-04T05:17:39.244Z"
   },
   {
    "duration": 1411,
    "start_time": "2022-11-04T05:20:38.498Z"
   },
   {
    "duration": 40,
    "start_time": "2022-11-04T05:20:39.911Z"
   },
   {
    "duration": 12,
    "start_time": "2022-11-04T05:20:39.953Z"
   },
   {
    "duration": 17,
    "start_time": "2022-11-04T05:20:39.967Z"
   },
   {
    "duration": 167,
    "start_time": "2022-11-04T05:20:39.987Z"
   },
   {
    "duration": 1857,
    "start_time": "2022-11-04T05:20:40.156Z"
   },
   {
    "duration": 41,
    "start_time": "2022-11-04T05:20:42.015Z"
   },
   {
    "duration": 4,
    "start_time": "2022-11-04T05:20:42.058Z"
   },
   {
    "duration": 10,
    "start_time": "2022-11-04T05:20:42.064Z"
   },
   {
    "duration": 1463,
    "start_time": "2022-11-04T05:20:42.076Z"
   },
   {
    "duration": 34,
    "start_time": "2022-11-04T05:20:43.541Z"
   },
   {
    "duration": 3,
    "start_time": "2022-11-04T05:20:43.577Z"
   },
   {
    "duration": 16,
    "start_time": "2022-11-04T05:20:43.582Z"
   },
   {
    "duration": 26,
    "start_time": "2022-11-04T05:20:43.601Z"
   },
   {
    "duration": 11,
    "start_time": "2022-11-04T05:20:43.629Z"
   },
   {
    "duration": 12,
    "start_time": "2022-11-04T05:20:43.642Z"
   },
   {
    "duration": 34,
    "start_time": "2022-11-04T05:20:43.656Z"
   },
   {
    "duration": 33,
    "start_time": "2022-11-04T05:20:43.692Z"
   },
   {
    "duration": 17,
    "start_time": "2022-11-04T05:20:43.726Z"
   },
   {
    "duration": 90,
    "start_time": "2022-11-04T05:20:43.744Z"
   },
   {
    "duration": 109,
    "start_time": "2022-11-04T05:31:12.076Z"
   },
   {
    "duration": 19,
    "start_time": "2022-11-04T05:31:24.535Z"
   },
   {
    "duration": 1279,
    "start_time": "2022-11-04T05:31:31.617Z"
   },
   {
    "duration": 41,
    "start_time": "2022-11-04T05:31:32.898Z"
   },
   {
    "duration": 14,
    "start_time": "2022-11-04T05:31:32.941Z"
   },
   {
    "duration": 15,
    "start_time": "2022-11-04T05:31:32.957Z"
   },
   {
    "duration": 179,
    "start_time": "2022-11-04T05:31:32.975Z"
   },
   {
    "duration": 1774,
    "start_time": "2022-11-04T05:31:33.156Z"
   },
   {
    "duration": 40,
    "start_time": "2022-11-04T05:31:34.931Z"
   },
   {
    "duration": 4,
    "start_time": "2022-11-04T05:31:34.973Z"
   },
   {
    "duration": 12,
    "start_time": "2022-11-04T05:31:34.979Z"
   },
   {
    "duration": 1440,
    "start_time": "2022-11-04T05:31:34.993Z"
   },
   {
    "duration": 34,
    "start_time": "2022-11-04T05:31:36.435Z"
   },
   {
    "duration": 6,
    "start_time": "2022-11-04T05:31:36.470Z"
   },
   {
    "duration": 18,
    "start_time": "2022-11-04T05:31:36.478Z"
   },
   {
    "duration": 12,
    "start_time": "2022-11-04T05:31:36.523Z"
   },
   {
    "duration": 125,
    "start_time": "2022-11-04T05:31:36.537Z"
   },
   {
    "duration": 0,
    "start_time": "2022-11-04T05:31:36.663Z"
   },
   {
    "duration": 0,
    "start_time": "2022-11-04T05:31:36.664Z"
   },
   {
    "duration": 0,
    "start_time": "2022-11-04T05:31:36.665Z"
   },
   {
    "duration": 0,
    "start_time": "2022-11-04T05:31:36.666Z"
   },
   {
    "duration": 0,
    "start_time": "2022-11-04T05:31:36.668Z"
   },
   {
    "duration": 0,
    "start_time": "2022-11-04T05:31:36.668Z"
   },
   {
    "duration": 23,
    "start_time": "2022-11-04T05:32:37.368Z"
   },
   {
    "duration": 1253,
    "start_time": "2022-11-04T05:32:49.952Z"
   },
   {
    "duration": 39,
    "start_time": "2022-11-04T05:32:51.208Z"
   },
   {
    "duration": 12,
    "start_time": "2022-11-04T05:32:51.248Z"
   },
   {
    "duration": 16,
    "start_time": "2022-11-04T05:32:51.262Z"
   },
   {
    "duration": 159,
    "start_time": "2022-11-04T05:32:51.280Z"
   },
   {
    "duration": 1725,
    "start_time": "2022-11-04T05:32:51.441Z"
   },
   {
    "duration": 36,
    "start_time": "2022-11-04T05:32:53.168Z"
   },
   {
    "duration": 16,
    "start_time": "2022-11-04T05:32:53.206Z"
   },
   {
    "duration": 8,
    "start_time": "2022-11-04T05:32:53.224Z"
   },
   {
    "duration": 1373,
    "start_time": "2022-11-04T05:32:53.234Z"
   },
   {
    "duration": 41,
    "start_time": "2022-11-04T05:32:54.608Z"
   },
   {
    "duration": 3,
    "start_time": "2022-11-04T05:32:54.651Z"
   },
   {
    "duration": 24,
    "start_time": "2022-11-04T05:32:54.655Z"
   },
   {
    "duration": 13,
    "start_time": "2022-11-04T05:32:54.681Z"
   },
   {
    "duration": 9,
    "start_time": "2022-11-04T05:32:54.696Z"
   },
   {
    "duration": 16,
    "start_time": "2022-11-04T05:32:54.706Z"
   },
   {
    "duration": 23,
    "start_time": "2022-11-04T05:32:54.723Z"
   },
   {
    "duration": 11,
    "start_time": "2022-11-04T05:32:54.748Z"
   },
   {
    "duration": 16,
    "start_time": "2022-11-04T05:32:54.761Z"
   },
   {
    "duration": 53,
    "start_time": "2022-11-04T05:32:54.778Z"
   },
   {
    "duration": 1400,
    "start_time": "2022-11-04T06:08:03.308Z"
   },
   {
    "duration": 41,
    "start_time": "2022-11-04T06:08:04.710Z"
   },
   {
    "duration": 14,
    "start_time": "2022-11-04T06:08:04.752Z"
   },
   {
    "duration": 16,
    "start_time": "2022-11-04T06:08:04.767Z"
   },
   {
    "duration": 187,
    "start_time": "2022-11-04T06:08:04.785Z"
   },
   {
    "duration": 1742,
    "start_time": "2022-11-04T06:08:04.973Z"
   },
   {
    "duration": 39,
    "start_time": "2022-11-04T06:08:06.721Z"
   },
   {
    "duration": 4,
    "start_time": "2022-11-04T06:08:06.762Z"
   },
   {
    "duration": 14,
    "start_time": "2022-11-04T06:08:06.768Z"
   },
   {
    "duration": 1549,
    "start_time": "2022-11-04T06:08:06.784Z"
   },
   {
    "duration": 33,
    "start_time": "2022-11-04T06:08:08.335Z"
   },
   {
    "duration": 2,
    "start_time": "2022-11-04T06:08:08.370Z"
   },
   {
    "duration": 13,
    "start_time": "2022-11-04T06:08:08.373Z"
   },
   {
    "duration": 36,
    "start_time": "2022-11-04T06:08:08.389Z"
   },
   {
    "duration": 4,
    "start_time": "2022-11-04T06:08:08.427Z"
   },
   {
    "duration": 9,
    "start_time": "2022-11-04T06:08:08.433Z"
   },
   {
    "duration": 22,
    "start_time": "2022-11-04T06:08:08.443Z"
   },
   {
    "duration": 14,
    "start_time": "2022-11-04T06:08:08.466Z"
   },
   {
    "duration": 42,
    "start_time": "2022-11-04T06:08:08.483Z"
   },
   {
    "duration": 94,
    "start_time": "2022-11-04T06:08:08.527Z"
   },
   {
    "duration": 103,
    "start_time": "2022-11-04T06:08:08.624Z"
   },
   {
    "duration": 1253,
    "start_time": "2022-11-04T06:12:14.966Z"
   },
   {
    "duration": 40,
    "start_time": "2022-11-04T06:12:16.221Z"
   },
   {
    "duration": 12,
    "start_time": "2022-11-04T06:12:16.263Z"
   },
   {
    "duration": 17,
    "start_time": "2022-11-04T06:12:16.278Z"
   },
   {
    "duration": 169,
    "start_time": "2022-11-04T06:12:16.297Z"
   },
   {
    "duration": 1859,
    "start_time": "2022-11-04T06:12:16.468Z"
   },
   {
    "duration": 40,
    "start_time": "2022-11-04T06:12:18.329Z"
   },
   {
    "duration": 5,
    "start_time": "2022-11-04T06:12:18.371Z"
   },
   {
    "duration": 15,
    "start_time": "2022-11-04T06:12:18.378Z"
   },
   {
    "duration": 1545,
    "start_time": "2022-11-04T06:12:18.396Z"
   },
   {
    "duration": 42,
    "start_time": "2022-11-04T06:12:19.944Z"
   },
   {
    "duration": 3,
    "start_time": "2022-11-04T06:12:19.988Z"
   },
   {
    "duration": 33,
    "start_time": "2022-11-04T06:12:19.993Z"
   },
   {
    "duration": 15,
    "start_time": "2022-11-04T06:12:20.027Z"
   },
   {
    "duration": 14,
    "start_time": "2022-11-04T06:12:20.043Z"
   },
   {
    "duration": 6,
    "start_time": "2022-11-04T06:12:20.059Z"
   },
   {
    "duration": 48,
    "start_time": "2022-11-04T06:12:20.066Z"
   },
   {
    "duration": 14,
    "start_time": "2022-11-04T06:12:20.115Z"
   },
   {
    "duration": 14,
    "start_time": "2022-11-04T06:12:20.131Z"
   },
   {
    "duration": 89,
    "start_time": "2022-11-04T06:12:20.146Z"
   },
   {
    "duration": 222,
    "start_time": "2022-11-04T06:12:20.237Z"
   },
   {
    "duration": 1289,
    "start_time": "2022-11-04T06:27:30.379Z"
   },
   {
    "duration": 43,
    "start_time": "2022-11-04T06:27:31.670Z"
   },
   {
    "duration": 14,
    "start_time": "2022-11-04T06:27:31.715Z"
   },
   {
    "duration": 56,
    "start_time": "2022-11-04T06:27:31.731Z"
   },
   {
    "duration": 179,
    "start_time": "2022-11-04T06:27:31.789Z"
   },
   {
    "duration": 1897,
    "start_time": "2022-11-04T06:27:31.971Z"
   },
   {
    "duration": 39,
    "start_time": "2022-11-04T06:27:33.870Z"
   },
   {
    "duration": 44,
    "start_time": "2022-11-04T06:27:33.921Z"
   },
   {
    "duration": 78,
    "start_time": "2022-11-04T06:27:33.967Z"
   },
   {
    "duration": 1537,
    "start_time": "2022-11-04T06:27:34.049Z"
   },
   {
    "duration": 39,
    "start_time": "2022-11-04T06:27:35.588Z"
   },
   {
    "duration": 57,
    "start_time": "2022-11-04T06:27:35.629Z"
   },
   {
    "duration": 71,
    "start_time": "2022-11-04T06:27:35.688Z"
   },
   {
    "duration": 99,
    "start_time": "2022-11-04T06:27:35.761Z"
   },
   {
    "duration": 23,
    "start_time": "2022-11-04T06:27:35.862Z"
   },
   {
    "duration": 56,
    "start_time": "2022-11-04T06:27:35.887Z"
   },
   {
    "duration": 107,
    "start_time": "2022-11-04T06:27:35.945Z"
   },
   {
    "duration": 58,
    "start_time": "2022-11-04T06:27:36.053Z"
   },
   {
    "duration": 61,
    "start_time": "2022-11-04T06:27:36.113Z"
   },
   {
    "duration": 246,
    "start_time": "2022-11-04T06:27:36.176Z"
   },
   {
    "duration": 52,
    "start_time": "2022-11-04T06:27:36.424Z"
   },
   {
    "duration": 1414,
    "start_time": "2022-11-04T06:34:47.387Z"
   },
   {
    "duration": 52,
    "start_time": "2022-11-04T06:34:48.806Z"
   },
   {
    "duration": 24,
    "start_time": "2022-11-04T06:34:48.861Z"
   },
   {
    "duration": 53,
    "start_time": "2022-11-04T06:34:48.887Z"
   },
   {
    "duration": 2175,
    "start_time": "2022-11-04T06:34:48.943Z"
   },
   {
    "duration": 57,
    "start_time": "2022-11-04T06:34:51.121Z"
   },
   {
    "duration": 180,
    "start_time": "2022-11-04T06:34:51.180Z"
   },
   {
    "duration": 5,
    "start_time": "2022-11-04T06:34:51.361Z"
   },
   {
    "duration": 8,
    "start_time": "2022-11-04T06:34:51.367Z"
   },
   {
    "duration": 1673,
    "start_time": "2022-11-04T06:34:51.377Z"
   },
   {
    "duration": 50,
    "start_time": "2022-11-04T06:34:53.052Z"
   },
   {
    "duration": 4,
    "start_time": "2022-11-04T06:34:53.104Z"
   },
   {
    "duration": 43,
    "start_time": "2022-11-04T06:34:53.109Z"
   },
   {
    "duration": 48,
    "start_time": "2022-11-04T06:34:53.155Z"
   },
   {
    "duration": 41,
    "start_time": "2022-11-04T06:34:53.205Z"
   },
   {
    "duration": 12,
    "start_time": "2022-11-04T06:34:53.248Z"
   },
   {
    "duration": 35,
    "start_time": "2022-11-04T06:34:53.262Z"
   },
   {
    "duration": 37,
    "start_time": "2022-11-04T06:34:53.298Z"
   },
   {
    "duration": 49,
    "start_time": "2022-11-04T06:34:53.337Z"
   },
   {
    "duration": 24,
    "start_time": "2022-11-04T06:34:53.389Z"
   },
   {
    "duration": 54,
    "start_time": "2022-11-04T06:34:53.415Z"
   },
   {
    "duration": 50,
    "start_time": "2022-11-04T06:34:53.471Z"
   },
   {
    "duration": 137,
    "start_time": "2022-11-04T06:34:53.524Z"
   },
   {
    "duration": 1271,
    "start_time": "2022-11-04T06:43:34.422Z"
   },
   {
    "duration": 44,
    "start_time": "2022-11-04T06:43:35.695Z"
   },
   {
    "duration": 21,
    "start_time": "2022-11-04T06:43:35.741Z"
   },
   {
    "duration": 19,
    "start_time": "2022-11-04T06:43:35.764Z"
   },
   {
    "duration": 1828,
    "start_time": "2022-11-04T06:43:35.786Z"
   },
   {
    "duration": 38,
    "start_time": "2022-11-04T06:43:37.621Z"
   },
   {
    "duration": 155,
    "start_time": "2022-11-04T06:43:37.661Z"
   },
   {
    "duration": 7,
    "start_time": "2022-11-04T06:43:37.818Z"
   },
   {
    "duration": 9,
    "start_time": "2022-11-04T06:43:37.827Z"
   },
   {
    "duration": 1485,
    "start_time": "2022-11-04T06:43:37.837Z"
   },
   {
    "duration": 32,
    "start_time": "2022-11-04T06:43:39.325Z"
   },
   {
    "duration": 3,
    "start_time": "2022-11-04T06:43:39.359Z"
   },
   {
    "duration": 11,
    "start_time": "2022-11-04T06:43:39.364Z"
   },
   {
    "duration": 10,
    "start_time": "2022-11-04T06:43:39.378Z"
   },
   {
    "duration": 35,
    "start_time": "2022-11-04T06:43:39.390Z"
   },
   {
    "duration": 7,
    "start_time": "2022-11-04T06:43:39.427Z"
   },
   {
    "duration": 9,
    "start_time": "2022-11-04T06:43:39.436Z"
   },
   {
    "duration": 15,
    "start_time": "2022-11-04T06:43:39.446Z"
   },
   {
    "duration": 9,
    "start_time": "2022-11-04T06:43:39.463Z"
   },
   {
    "duration": 11,
    "start_time": "2022-11-04T06:43:39.473Z"
   },
   {
    "duration": 41,
    "start_time": "2022-11-04T06:43:39.485Z"
   },
   {
    "duration": 195,
    "start_time": "2022-11-04T06:43:39.528Z"
   },
   {
    "duration": 123,
    "start_time": "2022-11-04T06:43:39.726Z"
   },
   {
    "duration": 1294,
    "start_time": "2022-11-04T06:48:09.065Z"
   },
   {
    "duration": 48,
    "start_time": "2022-11-04T06:48:10.361Z"
   },
   {
    "duration": 16,
    "start_time": "2022-11-04T06:48:10.410Z"
   },
   {
    "duration": 24,
    "start_time": "2022-11-04T06:48:10.429Z"
   },
   {
    "duration": 1953,
    "start_time": "2022-11-04T06:48:10.454Z"
   },
   {
    "duration": 51,
    "start_time": "2022-11-04T06:48:12.408Z"
   },
   {
    "duration": 164,
    "start_time": "2022-11-04T06:48:12.461Z"
   },
   {
    "duration": 10,
    "start_time": "2022-11-04T06:48:12.627Z"
   },
   {
    "duration": 8,
    "start_time": "2022-11-04T06:48:12.640Z"
   },
   {
    "duration": 1469,
    "start_time": "2022-11-04T06:48:12.651Z"
   },
   {
    "duration": 34,
    "start_time": "2022-11-04T06:48:14.122Z"
   },
   {
    "duration": 2,
    "start_time": "2022-11-04T06:48:14.158Z"
   },
   {
    "duration": 11,
    "start_time": "2022-11-04T06:48:14.162Z"
   },
   {
    "duration": 10,
    "start_time": "2022-11-04T06:48:14.175Z"
   },
   {
    "duration": 6,
    "start_time": "2022-11-04T06:48:14.187Z"
   },
   {
    "duration": 40,
    "start_time": "2022-11-04T06:48:14.195Z"
   },
   {
    "duration": 13,
    "start_time": "2022-11-04T06:48:14.236Z"
   },
   {
    "duration": 15,
    "start_time": "2022-11-04T06:48:14.250Z"
   },
   {
    "duration": 11,
    "start_time": "2022-11-04T06:48:14.267Z"
   },
   {
    "duration": 11,
    "start_time": "2022-11-04T06:48:14.280Z"
   },
   {
    "duration": 37,
    "start_time": "2022-11-04T06:48:14.293Z"
   },
   {
    "duration": 32,
    "start_time": "2022-11-04T06:48:14.333Z"
   },
   {
    "duration": 128,
    "start_time": "2022-11-04T06:48:14.423Z"
   },
   {
    "duration": 1214,
    "start_time": "2022-11-04T07:09:41.064Z"
   },
   {
    "duration": 39,
    "start_time": "2022-11-04T07:09:42.280Z"
   },
   {
    "duration": 11,
    "start_time": "2022-11-04T07:09:42.321Z"
   },
   {
    "duration": 18,
    "start_time": "2022-11-04T07:09:42.334Z"
   },
   {
    "duration": 1733,
    "start_time": "2022-11-04T07:09:42.353Z"
   },
   {
    "duration": 44,
    "start_time": "2022-11-04T07:09:44.087Z"
   },
   {
    "duration": 160,
    "start_time": "2022-11-04T07:09:44.132Z"
   },
   {
    "duration": 4,
    "start_time": "2022-11-04T07:09:44.293Z"
   },
   {
    "duration": 7,
    "start_time": "2022-11-04T07:09:44.299Z"
   },
   {
    "duration": 1427,
    "start_time": "2022-11-04T07:09:44.309Z"
   },
   {
    "duration": 33,
    "start_time": "2022-11-04T07:09:45.738Z"
   },
   {
    "duration": 3,
    "start_time": "2022-11-04T07:09:45.773Z"
   },
   {
    "duration": 16,
    "start_time": "2022-11-04T07:09:45.778Z"
   },
   {
    "duration": 32,
    "start_time": "2022-11-04T07:09:45.795Z"
   },
   {
    "duration": 5,
    "start_time": "2022-11-04T07:09:45.829Z"
   },
   {
    "duration": 10,
    "start_time": "2022-11-04T07:09:45.836Z"
   },
   {
    "duration": 10,
    "start_time": "2022-11-04T07:09:45.848Z"
   },
   {
    "duration": 19,
    "start_time": "2022-11-04T07:09:45.860Z"
   },
   {
    "duration": 13,
    "start_time": "2022-11-04T07:09:45.880Z"
   },
   {
    "duration": 15,
    "start_time": "2022-11-04T07:09:45.922Z"
   },
   {
    "duration": 23,
    "start_time": "2022-11-04T07:09:45.939Z"
   },
   {
    "duration": 164,
    "start_time": "2022-11-04T07:09:45.964Z"
   },
   {
    "duration": 125,
    "start_time": "2022-11-04T07:09:46.131Z"
   },
   {
    "duration": 1417,
    "start_time": "2022-11-04T07:30:46.459Z"
   },
   {
    "duration": 40,
    "start_time": "2022-11-04T07:30:47.878Z"
   },
   {
    "duration": 19,
    "start_time": "2022-11-04T07:30:47.920Z"
   },
   {
    "duration": 32,
    "start_time": "2022-11-04T07:30:47.942Z"
   },
   {
    "duration": 2054,
    "start_time": "2022-11-04T07:30:47.976Z"
   },
   {
    "duration": 57,
    "start_time": "2022-11-04T07:30:50.032Z"
   },
   {
    "duration": 187,
    "start_time": "2022-11-04T07:30:50.090Z"
   },
   {
    "duration": 11,
    "start_time": "2022-11-04T07:30:50.279Z"
   },
   {
    "duration": 32,
    "start_time": "2022-11-04T07:30:50.294Z"
   },
   {
    "duration": 1489,
    "start_time": "2022-11-04T07:30:50.330Z"
   },
   {
    "duration": 50,
    "start_time": "2022-11-04T07:30:51.826Z"
   },
   {
    "duration": 4,
    "start_time": "2022-11-04T07:30:51.878Z"
   },
   {
    "duration": 26,
    "start_time": "2022-11-04T07:30:51.884Z"
   },
   {
    "duration": 22,
    "start_time": "2022-11-04T07:30:51.913Z"
   },
   {
    "duration": 25,
    "start_time": "2022-11-04T07:30:51.937Z"
   },
   {
    "duration": 35,
    "start_time": "2022-11-04T07:30:51.966Z"
   },
   {
    "duration": 47,
    "start_time": "2022-11-04T07:30:52.003Z"
   },
   {
    "duration": 54,
    "start_time": "2022-11-04T07:30:52.052Z"
   },
   {
    "duration": 21,
    "start_time": "2022-11-04T07:30:52.108Z"
   },
   {
    "duration": 26,
    "start_time": "2022-11-04T07:30:52.130Z"
   },
   {
    "duration": 39,
    "start_time": "2022-11-04T07:30:52.157Z"
   },
   {
    "duration": 326,
    "start_time": "2022-11-04T07:30:52.198Z"
   },
   {
    "duration": 69,
    "start_time": "2022-11-04T07:30:52.526Z"
   },
   {
    "duration": 1288,
    "start_time": "2022-11-04T07:32:39.506Z"
   },
   {
    "duration": 39,
    "start_time": "2022-11-04T07:32:40.795Z"
   },
   {
    "duration": 12,
    "start_time": "2022-11-04T07:32:40.836Z"
   },
   {
    "duration": 21,
    "start_time": "2022-11-04T07:32:40.849Z"
   },
   {
    "duration": 1823,
    "start_time": "2022-11-04T07:32:40.873Z"
   },
   {
    "duration": 49,
    "start_time": "2022-11-04T07:32:42.698Z"
   },
   {
    "duration": 158,
    "start_time": "2022-11-04T07:32:42.748Z"
   },
   {
    "duration": 4,
    "start_time": "2022-11-04T07:32:42.908Z"
   },
   {
    "duration": 15,
    "start_time": "2022-11-04T07:32:42.913Z"
   },
   {
    "duration": 1378,
    "start_time": "2022-11-04T07:32:42.930Z"
   },
   {
    "duration": 35,
    "start_time": "2022-11-04T07:32:44.310Z"
   },
   {
    "duration": 3,
    "start_time": "2022-11-04T07:32:44.346Z"
   },
   {
    "duration": 11,
    "start_time": "2022-11-04T07:32:44.351Z"
   },
   {
    "duration": 14,
    "start_time": "2022-11-04T07:32:44.365Z"
   },
   {
    "duration": 12,
    "start_time": "2022-11-04T07:32:44.380Z"
   },
   {
    "duration": 28,
    "start_time": "2022-11-04T07:32:44.394Z"
   },
   {
    "duration": 11,
    "start_time": "2022-11-04T07:32:44.424Z"
   },
   {
    "duration": 15,
    "start_time": "2022-11-04T07:32:44.437Z"
   },
   {
    "duration": 12,
    "start_time": "2022-11-04T07:32:44.454Z"
   },
   {
    "duration": 11,
    "start_time": "2022-11-04T07:32:44.468Z"
   },
   {
    "duration": 42,
    "start_time": "2022-11-04T07:32:44.481Z"
   },
   {
    "duration": 26,
    "start_time": "2022-11-04T07:32:44.525Z"
   },
   {
    "duration": 197,
    "start_time": "2022-11-04T07:32:44.553Z"
   },
   {
    "duration": 1294,
    "start_time": "2022-11-04T07:45:26.091Z"
   },
   {
    "duration": 38,
    "start_time": "2022-11-04T07:45:27.387Z"
   },
   {
    "duration": 14,
    "start_time": "2022-11-04T07:45:27.428Z"
   },
   {
    "duration": 17,
    "start_time": "2022-11-04T07:45:27.444Z"
   },
   {
    "duration": 1959,
    "start_time": "2022-11-04T07:45:27.463Z"
   },
   {
    "duration": 48,
    "start_time": "2022-11-04T07:45:29.424Z"
   },
   {
    "duration": 183,
    "start_time": "2022-11-04T07:45:29.474Z"
   },
   {
    "duration": 4,
    "start_time": "2022-11-04T07:45:29.658Z"
   },
   {
    "duration": 8,
    "start_time": "2022-11-04T07:45:29.664Z"
   },
   {
    "duration": 1412,
    "start_time": "2022-11-04T07:45:29.676Z"
   },
   {
    "duration": 33,
    "start_time": "2022-11-04T07:45:31.094Z"
   },
   {
    "duration": 3,
    "start_time": "2022-11-04T07:45:31.129Z"
   },
   {
    "duration": 33,
    "start_time": "2022-11-04T07:45:31.133Z"
   },
   {
    "duration": 62,
    "start_time": "2022-11-04T07:45:31.167Z"
   },
   {
    "duration": 22,
    "start_time": "2022-11-04T07:45:31.230Z"
   },
   {
    "duration": 17,
    "start_time": "2022-11-04T07:45:31.253Z"
   },
   {
    "duration": 18,
    "start_time": "2022-11-04T07:45:31.272Z"
   },
   {
    "duration": 28,
    "start_time": "2022-11-04T07:45:31.291Z"
   },
   {
    "duration": 20,
    "start_time": "2022-11-04T07:45:31.321Z"
   },
   {
    "duration": 18,
    "start_time": "2022-11-04T07:45:31.343Z"
   },
   {
    "duration": 32,
    "start_time": "2022-11-04T07:45:31.363Z"
   },
   {
    "duration": 133,
    "start_time": "2022-11-04T07:45:31.397Z"
   },
   {
    "duration": 295,
    "start_time": "2022-11-04T07:45:31.532Z"
   },
   {
    "duration": 94,
    "start_time": "2022-11-04T07:45:31.829Z"
   },
   {
    "duration": 1262,
    "start_time": "2022-11-04T07:52:24.770Z"
   },
   {
    "duration": 40,
    "start_time": "2022-11-04T07:52:26.034Z"
   },
   {
    "duration": 13,
    "start_time": "2022-11-04T07:52:26.076Z"
   },
   {
    "duration": 34,
    "start_time": "2022-11-04T07:52:26.092Z"
   },
   {
    "duration": 1830,
    "start_time": "2022-11-04T07:52:26.129Z"
   },
   {
    "duration": 48,
    "start_time": "2022-11-04T07:52:27.961Z"
   },
   {
    "duration": 151,
    "start_time": "2022-11-04T07:52:28.022Z"
   },
   {
    "duration": 4,
    "start_time": "2022-11-04T07:52:28.175Z"
   },
   {
    "duration": 17,
    "start_time": "2022-11-04T07:52:28.181Z"
   },
   {
    "duration": 1501,
    "start_time": "2022-11-04T07:52:28.201Z"
   },
   {
    "duration": 41,
    "start_time": "2022-11-04T07:52:29.704Z"
   },
   {
    "duration": 3,
    "start_time": "2022-11-04T07:52:29.746Z"
   },
   {
    "duration": 16,
    "start_time": "2022-11-04T07:52:29.751Z"
   },
   {
    "duration": 26,
    "start_time": "2022-11-04T07:52:29.769Z"
   },
   {
    "duration": 8,
    "start_time": "2022-11-04T07:52:29.797Z"
   },
   {
    "duration": 9,
    "start_time": "2022-11-04T07:52:29.807Z"
   },
   {
    "duration": 9,
    "start_time": "2022-11-04T07:52:29.818Z"
   },
   {
    "duration": 14,
    "start_time": "2022-11-04T07:52:29.829Z"
   },
   {
    "duration": 10,
    "start_time": "2022-11-04T07:52:29.844Z"
   },
   {
    "duration": 13,
    "start_time": "2022-11-04T07:52:29.856Z"
   },
   {
    "duration": 15,
    "start_time": "2022-11-04T07:52:29.871Z"
   },
   {
    "duration": 41,
    "start_time": "2022-11-04T07:52:29.888Z"
   },
   {
    "duration": 210,
    "start_time": "2022-11-04T07:52:29.931Z"
   },
   {
    "duration": 147,
    "start_time": "2022-11-04T07:52:30.227Z"
   },
   {
    "duration": 1300,
    "start_time": "2022-11-04T08:01:58.367Z"
   },
   {
    "duration": 39,
    "start_time": "2022-11-04T08:01:59.669Z"
   },
   {
    "duration": 13,
    "start_time": "2022-11-04T08:01:59.709Z"
   },
   {
    "duration": 15,
    "start_time": "2022-11-04T08:01:59.724Z"
   },
   {
    "duration": 1789,
    "start_time": "2022-11-04T08:01:59.741Z"
   },
   {
    "duration": 41,
    "start_time": "2022-11-04T08:02:01.531Z"
   },
   {
    "duration": 177,
    "start_time": "2022-11-04T08:02:01.574Z"
   },
   {
    "duration": 4,
    "start_time": "2022-11-04T08:02:01.753Z"
   },
   {
    "duration": 25,
    "start_time": "2022-11-04T08:02:01.759Z"
   },
   {
    "duration": 1410,
    "start_time": "2022-11-04T08:02:01.786Z"
   },
   {
    "duration": 50,
    "start_time": "2022-11-04T08:02:03.197Z"
   },
   {
    "duration": 3,
    "start_time": "2022-11-04T08:02:03.249Z"
   },
   {
    "duration": 18,
    "start_time": "2022-11-04T08:02:03.253Z"
   },
   {
    "duration": 13,
    "start_time": "2022-11-04T08:02:03.274Z"
   },
   {
    "duration": 7,
    "start_time": "2022-11-04T08:02:03.289Z"
   },
   {
    "duration": 28,
    "start_time": "2022-11-04T08:02:03.298Z"
   },
   {
    "duration": 9,
    "start_time": "2022-11-04T08:02:03.328Z"
   },
   {
    "duration": 13,
    "start_time": "2022-11-04T08:02:03.339Z"
   },
   {
    "duration": 10,
    "start_time": "2022-11-04T08:02:03.354Z"
   },
   {
    "duration": 11,
    "start_time": "2022-11-04T08:02:03.365Z"
   },
   {
    "duration": 17,
    "start_time": "2022-11-04T08:02:03.377Z"
   },
   {
    "duration": 52,
    "start_time": "2022-11-04T08:02:03.395Z"
   },
   {
    "duration": 203,
    "start_time": "2022-11-04T08:02:03.523Z"
   },
   {
    "duration": 123,
    "start_time": "2022-11-04T08:02:03.729Z"
   },
   {
    "duration": 117,
    "start_time": "2022-11-04T08:02:03.854Z"
   },
   {
    "duration": 0,
    "start_time": "2022-11-04T08:02:03.974Z"
   },
   {
    "duration": 1310,
    "start_time": "2022-11-04T08:02:48.944Z"
   },
   {
    "duration": 39,
    "start_time": "2022-11-04T08:02:50.256Z"
   },
   {
    "duration": 13,
    "start_time": "2022-11-04T08:02:50.296Z"
   },
   {
    "duration": 16,
    "start_time": "2022-11-04T08:02:50.311Z"
   },
   {
    "duration": 1834,
    "start_time": "2022-11-04T08:02:50.329Z"
   },
   {
    "duration": 43,
    "start_time": "2022-11-04T08:02:52.165Z"
   },
   {
    "duration": 165,
    "start_time": "2022-11-04T08:02:52.221Z"
   },
   {
    "duration": 5,
    "start_time": "2022-11-04T08:02:52.388Z"
   },
   {
    "duration": 17,
    "start_time": "2022-11-04T08:02:52.395Z"
   },
   {
    "duration": 1471,
    "start_time": "2022-11-04T08:02:52.414Z"
   },
   {
    "duration": 39,
    "start_time": "2022-11-04T08:02:53.887Z"
   },
   {
    "duration": 3,
    "start_time": "2022-11-04T08:02:53.927Z"
   },
   {
    "duration": 13,
    "start_time": "2022-11-04T08:02:53.931Z"
   },
   {
    "duration": 11,
    "start_time": "2022-11-04T08:02:53.947Z"
   },
   {
    "duration": 6,
    "start_time": "2022-11-04T08:02:53.960Z"
   },
   {
    "duration": 7,
    "start_time": "2022-11-04T08:02:53.967Z"
   },
   {
    "duration": 6,
    "start_time": "2022-11-04T08:02:53.975Z"
   },
   {
    "duration": 43,
    "start_time": "2022-11-04T08:02:53.983Z"
   },
   {
    "duration": 12,
    "start_time": "2022-11-04T08:02:54.027Z"
   },
   {
    "duration": 15,
    "start_time": "2022-11-04T08:02:54.041Z"
   },
   {
    "duration": 17,
    "start_time": "2022-11-04T08:02:54.058Z"
   },
   {
    "duration": 253,
    "start_time": "2022-11-04T08:02:54.077Z"
   },
   {
    "duration": 193,
    "start_time": "2022-11-04T08:02:54.333Z"
   },
   {
    "duration": 138,
    "start_time": "2022-11-04T08:02:54.528Z"
   },
   {
    "duration": 12,
    "start_time": "2022-11-04T08:02:54.668Z"
   },
   {
    "duration": 18,
    "start_time": "2022-11-04T08:02:54.682Z"
   },
   {
    "duration": 5,
    "start_time": "2022-11-04T08:04:48.968Z"
   },
   {
    "duration": 5,
    "start_time": "2022-11-04T08:05:18.995Z"
   },
   {
    "duration": 5,
    "start_time": "2022-11-04T08:05:31.474Z"
   },
   {
    "duration": 1243,
    "start_time": "2022-11-04T08:06:05.348Z"
   },
   {
    "duration": 39,
    "start_time": "2022-11-04T08:06:06.593Z"
   },
   {
    "duration": 13,
    "start_time": "2022-11-04T08:06:06.634Z"
   },
   {
    "duration": 16,
    "start_time": "2022-11-04T08:06:06.648Z"
   },
   {
    "duration": 1903,
    "start_time": "2022-11-04T08:06:06.666Z"
   },
   {
    "duration": 40,
    "start_time": "2022-11-04T08:06:08.570Z"
   },
   {
    "duration": 160,
    "start_time": "2022-11-04T08:06:08.622Z"
   },
   {
    "duration": 4,
    "start_time": "2022-11-04T08:06:08.784Z"
   },
   {
    "duration": 18,
    "start_time": "2022-11-04T08:06:08.790Z"
   },
   {
    "duration": 1529,
    "start_time": "2022-11-04T08:06:08.810Z"
   },
   {
    "duration": 34,
    "start_time": "2022-11-04T08:06:10.341Z"
   },
   {
    "duration": 3,
    "start_time": "2022-11-04T08:06:10.377Z"
   },
   {
    "duration": 17,
    "start_time": "2022-11-04T08:06:10.381Z"
   },
   {
    "duration": 23,
    "start_time": "2022-11-04T08:06:10.401Z"
   },
   {
    "duration": 22,
    "start_time": "2022-11-04T08:06:10.426Z"
   },
   {
    "duration": 9,
    "start_time": "2022-11-04T08:06:10.449Z"
   },
   {
    "duration": 17,
    "start_time": "2022-11-04T08:06:10.460Z"
   },
   {
    "duration": 21,
    "start_time": "2022-11-04T08:06:10.478Z"
   },
   {
    "duration": 13,
    "start_time": "2022-11-04T08:06:10.501Z"
   },
   {
    "duration": 19,
    "start_time": "2022-11-04T08:06:10.515Z"
   },
   {
    "duration": 18,
    "start_time": "2022-11-04T08:06:10.536Z"
   },
   {
    "duration": 70,
    "start_time": "2022-11-04T08:06:10.556Z"
   },
   {
    "duration": 295,
    "start_time": "2022-11-04T08:06:10.628Z"
   },
   {
    "duration": 125,
    "start_time": "2022-11-04T08:06:10.927Z"
   },
   {
    "duration": 17,
    "start_time": "2022-11-04T08:06:11.054Z"
   },
   {
    "duration": 7,
    "start_time": "2022-11-04T08:06:11.073Z"
   },
   {
    "duration": 16,
    "start_time": "2022-11-04T08:06:11.081Z"
   },
   {
    "duration": 8,
    "start_time": "2022-11-04T08:06:11.099Z"
   },
   {
    "duration": 1220,
    "start_time": "2022-11-04T08:07:35.866Z"
   },
   {
    "duration": 42,
    "start_time": "2022-11-04T08:07:37.088Z"
   },
   {
    "duration": 12,
    "start_time": "2022-11-04T08:07:37.132Z"
   },
   {
    "duration": 27,
    "start_time": "2022-11-04T08:07:37.145Z"
   },
   {
    "duration": 1817,
    "start_time": "2022-11-04T08:07:37.174Z"
   },
   {
    "duration": 59,
    "start_time": "2022-11-04T08:07:38.993Z"
   },
   {
    "duration": 187,
    "start_time": "2022-11-04T08:07:39.053Z"
   },
   {
    "duration": 5,
    "start_time": "2022-11-04T08:07:39.241Z"
   },
   {
    "duration": 25,
    "start_time": "2022-11-04T08:07:39.247Z"
   },
   {
    "duration": 1355,
    "start_time": "2022-11-04T08:07:39.274Z"
   },
   {
    "duration": 42,
    "start_time": "2022-11-04T08:07:40.631Z"
   },
   {
    "duration": 3,
    "start_time": "2022-11-04T08:07:40.674Z"
   },
   {
    "duration": 13,
    "start_time": "2022-11-04T08:07:40.680Z"
   },
   {
    "duration": 28,
    "start_time": "2022-11-04T08:07:40.696Z"
   },
   {
    "duration": 5,
    "start_time": "2022-11-04T08:07:40.726Z"
   },
   {
    "duration": 8,
    "start_time": "2022-11-04T08:07:40.732Z"
   },
   {
    "duration": 9,
    "start_time": "2022-11-04T08:07:40.741Z"
   },
   {
    "duration": 13,
    "start_time": "2022-11-04T08:07:40.752Z"
   },
   {
    "duration": 8,
    "start_time": "2022-11-04T08:07:40.766Z"
   },
   {
    "duration": 10,
    "start_time": "2022-11-04T08:07:40.775Z"
   },
   {
    "duration": 40,
    "start_time": "2022-11-04T08:07:40.786Z"
   },
   {
    "duration": 107,
    "start_time": "2022-11-04T08:07:40.828Z"
   },
   {
    "duration": 101,
    "start_time": "2022-11-04T08:07:41.021Z"
   },
   {
    "duration": 98,
    "start_time": "2022-11-04T08:07:41.125Z"
   },
   {
    "duration": 6,
    "start_time": "2022-11-04T08:07:41.225Z"
   },
   {
    "duration": 37,
    "start_time": "2022-11-04T08:07:41.232Z"
   },
   {
    "duration": 11,
    "start_time": "2022-11-04T08:07:41.271Z"
   },
   {
    "duration": 5,
    "start_time": "2022-11-04T08:07:41.284Z"
   },
   {
    "duration": 43,
    "start_time": "2022-11-04T08:07:41.291Z"
   },
   {
    "duration": 5,
    "start_time": "2022-11-04T08:07:41.336Z"
   },
   {
    "duration": 1261,
    "start_time": "2022-11-04T08:10:16.045Z"
   },
   {
    "duration": 40,
    "start_time": "2022-11-04T08:10:17.308Z"
   },
   {
    "duration": 13,
    "start_time": "2022-11-04T08:10:17.349Z"
   },
   {
    "duration": 16,
    "start_time": "2022-11-04T08:10:17.363Z"
   },
   {
    "duration": 1892,
    "start_time": "2022-11-04T08:10:17.382Z"
   },
   {
    "duration": 50,
    "start_time": "2022-11-04T08:10:19.275Z"
   },
   {
    "duration": 145,
    "start_time": "2022-11-04T08:10:19.327Z"
   },
   {
    "duration": 4,
    "start_time": "2022-11-04T08:10:19.473Z"
   },
   {
    "duration": 9,
    "start_time": "2022-11-04T08:10:19.479Z"
   },
   {
    "duration": 1362,
    "start_time": "2022-11-04T08:10:19.490Z"
   },
   {
    "duration": 31,
    "start_time": "2022-11-04T08:10:20.854Z"
   },
   {
    "duration": 3,
    "start_time": "2022-11-04T08:10:20.887Z"
   },
   {
    "duration": 12,
    "start_time": "2022-11-04T08:10:20.891Z"
   },
   {
    "duration": 11,
    "start_time": "2022-11-04T08:10:20.921Z"
   },
   {
    "duration": 7,
    "start_time": "2022-11-04T08:10:20.933Z"
   },
   {
    "duration": 6,
    "start_time": "2022-11-04T08:10:20.942Z"
   },
   {
    "duration": 8,
    "start_time": "2022-11-04T08:10:20.950Z"
   },
   {
    "duration": 19,
    "start_time": "2022-11-04T08:10:20.959Z"
   },
   {
    "duration": 8,
    "start_time": "2022-11-04T08:10:20.980Z"
   },
   {
    "duration": 13,
    "start_time": "2022-11-04T08:10:20.990Z"
   },
   {
    "duration": 31,
    "start_time": "2022-11-04T08:10:21.004Z"
   },
   {
    "duration": 85,
    "start_time": "2022-11-04T08:10:21.036Z"
   },
   {
    "duration": 112,
    "start_time": "2022-11-04T08:10:21.123Z"
   },
   {
    "duration": 100,
    "start_time": "2022-11-04T08:10:21.237Z"
   },
   {
    "duration": 5,
    "start_time": "2022-11-04T08:10:21.423Z"
   },
   {
    "duration": 46,
    "start_time": "2022-11-04T08:10:21.429Z"
   },
   {
    "duration": 11,
    "start_time": "2022-11-04T08:10:21.476Z"
   },
   {
    "duration": 6,
    "start_time": "2022-11-04T08:10:21.489Z"
   },
   {
    "duration": 30,
    "start_time": "2022-11-04T08:10:21.496Z"
   },
   {
    "duration": 4,
    "start_time": "2022-11-04T08:10:21.528Z"
   },
   {
    "duration": 1306,
    "start_time": "2022-11-04T08:17:32.985Z"
   },
   {
    "duration": 41,
    "start_time": "2022-11-04T08:17:34.292Z"
   },
   {
    "duration": 14,
    "start_time": "2022-11-04T08:17:34.334Z"
   },
   {
    "duration": 18,
    "start_time": "2022-11-04T08:17:34.349Z"
   },
   {
    "duration": 1753,
    "start_time": "2022-11-04T08:17:34.369Z"
   },
   {
    "duration": 38,
    "start_time": "2022-11-04T08:17:36.124Z"
   },
   {
    "duration": 156,
    "start_time": "2022-11-04T08:17:36.163Z"
   },
   {
    "duration": 4,
    "start_time": "2022-11-04T08:17:36.321Z"
   },
   {
    "duration": 10,
    "start_time": "2022-11-04T08:17:36.327Z"
   },
   {
    "duration": 1453,
    "start_time": "2022-11-04T08:17:36.339Z"
   },
   {
    "duration": 39,
    "start_time": "2022-11-04T08:17:37.794Z"
   },
   {
    "duration": 3,
    "start_time": "2022-11-04T08:17:37.835Z"
   },
   {
    "duration": 14,
    "start_time": "2022-11-04T08:17:37.840Z"
   },
   {
    "duration": 10,
    "start_time": "2022-11-04T08:17:37.857Z"
   },
   {
    "duration": 6,
    "start_time": "2022-11-04T08:17:37.869Z"
   },
   {
    "duration": 5,
    "start_time": "2022-11-04T08:17:37.876Z"
   },
   {
    "duration": 8,
    "start_time": "2022-11-04T08:17:37.882Z"
   },
   {
    "duration": 36,
    "start_time": "2022-11-04T08:17:37.891Z"
   },
   {
    "duration": 16,
    "start_time": "2022-11-04T08:17:37.929Z"
   },
   {
    "duration": 13,
    "start_time": "2022-11-04T08:17:37.946Z"
   },
   {
    "duration": 11,
    "start_time": "2022-11-04T08:17:37.961Z"
   },
   {
    "duration": 57,
    "start_time": "2022-11-04T08:17:37.973Z"
   },
   {
    "duration": 291,
    "start_time": "2022-11-04T08:17:38.031Z"
   },
   {
    "duration": 109,
    "start_time": "2022-11-04T08:17:38.324Z"
   },
   {
    "duration": 20,
    "start_time": "2022-11-04T08:17:38.435Z"
   },
   {
    "duration": 36,
    "start_time": "2022-11-04T08:17:38.457Z"
   },
   {
    "duration": 11,
    "start_time": "2022-11-04T08:17:38.495Z"
   },
   {
    "duration": 4,
    "start_time": "2022-11-04T08:17:38.507Z"
   },
   {
    "duration": 28,
    "start_time": "2022-11-04T08:17:38.522Z"
   },
   {
    "duration": 186,
    "start_time": "2022-11-04T08:17:38.552Z"
   },
   {
    "duration": 95,
    "start_time": "2022-11-04T08:17:38.739Z"
   },
   {
    "duration": 21,
    "start_time": "2022-11-04T08:17:38.921Z"
   },
   {
    "duration": 1251,
    "start_time": "2022-11-04T08:19:55.333Z"
   },
   {
    "duration": 39,
    "start_time": "2022-11-04T08:19:56.586Z"
   },
   {
    "duration": 13,
    "start_time": "2022-11-04T08:19:56.627Z"
   },
   {
    "duration": 16,
    "start_time": "2022-11-04T08:19:56.641Z"
   },
   {
    "duration": 1780,
    "start_time": "2022-11-04T08:19:56.659Z"
   },
   {
    "duration": 37,
    "start_time": "2022-11-04T08:19:58.441Z"
   },
   {
    "duration": 155,
    "start_time": "2022-11-04T08:19:58.480Z"
   },
   {
    "duration": 4,
    "start_time": "2022-11-04T08:19:58.637Z"
   },
   {
    "duration": 9,
    "start_time": "2022-11-04T08:19:58.642Z"
   },
   {
    "duration": 1557,
    "start_time": "2022-11-04T08:19:58.652Z"
   },
   {
    "duration": 36,
    "start_time": "2022-11-04T08:20:00.210Z"
   },
   {
    "duration": 20,
    "start_time": "2022-11-04T08:20:00.248Z"
   },
   {
    "duration": 43,
    "start_time": "2022-11-04T08:20:00.270Z"
   },
   {
    "duration": 23,
    "start_time": "2022-11-04T08:20:00.316Z"
   },
   {
    "duration": 35,
    "start_time": "2022-11-04T08:20:00.341Z"
   },
   {
    "duration": 26,
    "start_time": "2022-11-04T08:20:00.378Z"
   },
   {
    "duration": 54,
    "start_time": "2022-11-04T08:20:00.405Z"
   },
   {
    "duration": 41,
    "start_time": "2022-11-04T08:20:00.461Z"
   },
   {
    "duration": 27,
    "start_time": "2022-11-04T08:20:00.504Z"
   },
   {
    "duration": 12,
    "start_time": "2022-11-04T08:20:00.532Z"
   },
   {
    "duration": 23,
    "start_time": "2022-11-04T08:20:00.545Z"
   },
   {
    "duration": 60,
    "start_time": "2022-11-04T08:20:00.569Z"
   },
   {
    "duration": 192,
    "start_time": "2022-11-04T08:20:00.631Z"
   },
   {
    "duration": 99,
    "start_time": "2022-11-04T08:20:00.825Z"
   },
   {
    "duration": 21,
    "start_time": "2022-11-04T08:20:00.926Z"
   },
   {
    "duration": 50,
    "start_time": "2022-11-04T08:20:00.948Z"
   },
   {
    "duration": 13,
    "start_time": "2022-11-04T08:20:01.000Z"
   },
   {
    "duration": 6,
    "start_time": "2022-11-04T08:20:01.015Z"
   },
   {
    "duration": 31,
    "start_time": "2022-11-04T08:20:01.022Z"
   },
   {
    "duration": 196,
    "start_time": "2022-11-04T08:20:01.127Z"
   },
   {
    "duration": 103,
    "start_time": "2022-11-04T08:20:01.328Z"
   },
   {
    "duration": 10,
    "start_time": "2022-11-04T08:20:01.432Z"
   },
   {
    "duration": 80,
    "start_time": "2022-11-04T08:20:01.443Z"
   },
   {
    "duration": 126,
    "start_time": "2022-11-04T08:20:01.525Z"
   },
   {
    "duration": 1288,
    "start_time": "2022-11-04T08:22:33.604Z"
   },
   {
    "duration": 39,
    "start_time": "2022-11-04T08:22:34.894Z"
   },
   {
    "duration": 13,
    "start_time": "2022-11-04T08:22:34.934Z"
   },
   {
    "duration": 17,
    "start_time": "2022-11-04T08:22:34.949Z"
   },
   {
    "duration": 1761,
    "start_time": "2022-11-04T08:22:34.969Z"
   },
   {
    "duration": 38,
    "start_time": "2022-11-04T08:22:36.731Z"
   },
   {
    "duration": 154,
    "start_time": "2022-11-04T08:22:36.770Z"
   },
   {
    "duration": 3,
    "start_time": "2022-11-04T08:22:36.926Z"
   },
   {
    "duration": 8,
    "start_time": "2022-11-04T08:22:36.931Z"
   },
   {
    "duration": 1426,
    "start_time": "2022-11-04T08:22:36.941Z"
   },
   {
    "duration": 32,
    "start_time": "2022-11-04T08:22:38.369Z"
   },
   {
    "duration": 3,
    "start_time": "2022-11-04T08:22:38.402Z"
   },
   {
    "duration": 9,
    "start_time": "2022-11-04T08:22:38.421Z"
   },
   {
    "duration": 14,
    "start_time": "2022-11-04T08:22:38.432Z"
   },
   {
    "duration": 12,
    "start_time": "2022-11-04T08:22:38.448Z"
   },
   {
    "duration": 6,
    "start_time": "2022-11-04T08:22:38.461Z"
   },
   {
    "duration": 6,
    "start_time": "2022-11-04T08:22:38.469Z"
   },
   {
    "duration": 16,
    "start_time": "2022-11-04T08:22:38.476Z"
   },
   {
    "duration": 9,
    "start_time": "2022-11-04T08:22:38.493Z"
   },
   {
    "duration": 25,
    "start_time": "2022-11-04T08:22:38.503Z"
   },
   {
    "duration": 12,
    "start_time": "2022-11-04T08:22:38.529Z"
   },
   {
    "duration": 184,
    "start_time": "2022-11-04T08:22:38.543Z"
   },
   {
    "duration": 108,
    "start_time": "2022-11-04T08:22:38.729Z"
   },
   {
    "duration": 9,
    "start_time": "2022-11-04T08:22:38.926Z"
   },
   {
    "duration": 89,
    "start_time": "2022-11-04T08:22:38.937Z"
   },
   {
    "duration": 48,
    "start_time": "2022-11-04T08:22:39.028Z"
   },
   {
    "duration": 15,
    "start_time": "2022-11-04T08:22:39.078Z"
   },
   {
    "duration": 28,
    "start_time": "2022-11-04T08:22:39.095Z"
   },
   {
    "duration": 42,
    "start_time": "2022-11-04T08:22:39.125Z"
   },
   {
    "duration": 112,
    "start_time": "2022-11-04T08:22:39.223Z"
   },
   {
    "duration": 92,
    "start_time": "2022-11-04T08:22:39.337Z"
   },
   {
    "duration": 96,
    "start_time": "2022-11-04T08:22:39.432Z"
   },
   {
    "duration": 18,
    "start_time": "2022-11-04T08:22:39.530Z"
   },
   {
    "duration": 180,
    "start_time": "2022-11-04T08:22:39.549Z"
   },
   {
    "duration": 1241,
    "start_time": "2022-11-04T08:23:41.946Z"
   },
   {
    "duration": 41,
    "start_time": "2022-11-04T08:23:43.189Z"
   },
   {
    "duration": 17,
    "start_time": "2022-11-04T08:23:43.231Z"
   },
   {
    "duration": 15,
    "start_time": "2022-11-04T08:23:43.250Z"
   },
   {
    "duration": 1751,
    "start_time": "2022-11-04T08:23:43.266Z"
   },
   {
    "duration": 46,
    "start_time": "2022-11-04T08:23:45.018Z"
   },
   {
    "duration": 164,
    "start_time": "2022-11-04T08:23:45.065Z"
   },
   {
    "duration": 4,
    "start_time": "2022-11-04T08:23:45.231Z"
   },
   {
    "duration": 18,
    "start_time": "2022-11-04T08:23:45.236Z"
   },
   {
    "duration": 1392,
    "start_time": "2022-11-04T08:23:45.256Z"
   },
   {
    "duration": 30,
    "start_time": "2022-11-04T08:23:46.650Z"
   },
   {
    "duration": 2,
    "start_time": "2022-11-04T08:23:46.682Z"
   },
   {
    "duration": 11,
    "start_time": "2022-11-04T08:23:46.686Z"
   },
   {
    "duration": 32,
    "start_time": "2022-11-04T08:23:46.698Z"
   },
   {
    "duration": 6,
    "start_time": "2022-11-04T08:23:46.732Z"
   },
   {
    "duration": 5,
    "start_time": "2022-11-04T08:23:46.739Z"
   },
   {
    "duration": 7,
    "start_time": "2022-11-04T08:23:46.746Z"
   },
   {
    "duration": 15,
    "start_time": "2022-11-04T08:23:46.754Z"
   },
   {
    "duration": 7,
    "start_time": "2022-11-04T08:23:46.771Z"
   },
   {
    "duration": 12,
    "start_time": "2022-11-04T08:23:46.780Z"
   },
   {
    "duration": 11,
    "start_time": "2022-11-04T08:23:46.822Z"
   },
   {
    "duration": 191,
    "start_time": "2022-11-04T08:23:46.834Z"
   },
   {
    "duration": 119,
    "start_time": "2022-11-04T08:23:47.028Z"
   },
   {
    "duration": 99,
    "start_time": "2022-11-04T08:23:47.223Z"
   },
   {
    "duration": 7,
    "start_time": "2022-11-04T08:23:47.324Z"
   },
   {
    "duration": 35,
    "start_time": "2022-11-04T08:23:47.332Z"
   },
   {
    "duration": 10,
    "start_time": "2022-11-04T08:23:47.368Z"
   },
   {
    "duration": 3,
    "start_time": "2022-11-04T08:23:47.381Z"
   },
   {
    "duration": 51,
    "start_time": "2022-11-04T08:23:47.386Z"
   },
   {
    "duration": 294,
    "start_time": "2022-11-04T08:23:47.438Z"
   },
   {
    "duration": 99,
    "start_time": "2022-11-04T08:23:47.734Z"
   },
   {
    "duration": 21,
    "start_time": "2022-11-04T08:23:47.835Z"
   },
   {
    "duration": 65,
    "start_time": "2022-11-04T08:23:47.858Z"
   },
   {
    "duration": 203,
    "start_time": "2022-11-04T08:23:47.925Z"
   },
   {
    "duration": 1288,
    "start_time": "2022-11-04T08:25:25.899Z"
   },
   {
    "duration": 41,
    "start_time": "2022-11-04T08:25:27.188Z"
   },
   {
    "duration": 12,
    "start_time": "2022-11-04T08:25:27.233Z"
   },
   {
    "duration": 16,
    "start_time": "2022-11-04T08:25:27.247Z"
   },
   {
    "duration": 1809,
    "start_time": "2022-11-04T08:25:27.264Z"
   },
   {
    "duration": 57,
    "start_time": "2022-11-04T08:25:29.074Z"
   },
   {
    "duration": 171,
    "start_time": "2022-11-04T08:25:29.134Z"
   },
   {
    "duration": 5,
    "start_time": "2022-11-04T08:25:29.307Z"
   },
   {
    "duration": 11,
    "start_time": "2022-11-04T08:25:29.314Z"
   },
   {
    "duration": 1371,
    "start_time": "2022-11-04T08:25:29.327Z"
   },
   {
    "duration": 41,
    "start_time": "2022-11-04T08:25:30.700Z"
   },
   {
    "duration": 3,
    "start_time": "2022-11-04T08:25:30.742Z"
   },
   {
    "duration": 22,
    "start_time": "2022-11-04T08:25:30.747Z"
   },
   {
    "duration": 13,
    "start_time": "2022-11-04T08:25:30.770Z"
   },
   {
    "duration": 14,
    "start_time": "2022-11-04T08:25:30.785Z"
   },
   {
    "duration": 11,
    "start_time": "2022-11-04T08:25:30.801Z"
   },
   {
    "duration": 8,
    "start_time": "2022-11-04T08:25:30.814Z"
   },
   {
    "duration": 24,
    "start_time": "2022-11-04T08:25:30.824Z"
   },
   {
    "duration": 25,
    "start_time": "2022-11-04T08:25:30.850Z"
   },
   {
    "duration": 18,
    "start_time": "2022-11-04T08:25:30.876Z"
   },
   {
    "duration": 12,
    "start_time": "2022-11-04T08:25:30.896Z"
   },
   {
    "duration": 41,
    "start_time": "2022-11-04T08:25:30.910Z"
   },
   {
    "duration": 114,
    "start_time": "2022-11-04T08:25:31.025Z"
   },
   {
    "duration": 182,
    "start_time": "2022-11-04T08:25:31.140Z"
   },
   {
    "duration": 26,
    "start_time": "2022-11-04T08:25:31.324Z"
   },
   {
    "duration": 39,
    "start_time": "2022-11-04T08:25:31.352Z"
   },
   {
    "duration": 11,
    "start_time": "2022-11-04T08:25:31.392Z"
   },
   {
    "duration": 3,
    "start_time": "2022-11-04T08:25:31.405Z"
   },
   {
    "duration": 39,
    "start_time": "2022-11-04T08:25:31.409Z"
   },
   {
    "duration": 119,
    "start_time": "2022-11-04T08:25:31.523Z"
   },
   {
    "duration": 103,
    "start_time": "2022-11-04T08:25:31.723Z"
   },
   {
    "duration": 12,
    "start_time": "2022-11-04T08:25:31.828Z"
   },
   {
    "duration": 82,
    "start_time": "2022-11-04T08:25:31.841Z"
   },
   {
    "duration": 113,
    "start_time": "2022-11-04T08:25:31.925Z"
   },
   {
    "duration": 1252,
    "start_time": "2022-11-04T08:33:56.660Z"
   },
   {
    "duration": 39,
    "start_time": "2022-11-04T08:33:57.914Z"
   },
   {
    "duration": 13,
    "start_time": "2022-11-04T08:33:57.954Z"
   },
   {
    "duration": 16,
    "start_time": "2022-11-04T08:33:57.969Z"
   },
   {
    "duration": 1886,
    "start_time": "2022-11-04T08:33:57.987Z"
   },
   {
    "duration": 54,
    "start_time": "2022-11-04T08:33:59.876Z"
   },
   {
    "duration": 157,
    "start_time": "2022-11-04T08:33:59.931Z"
   },
   {
    "duration": 4,
    "start_time": "2022-11-04T08:34:00.090Z"
   },
   {
    "duration": 27,
    "start_time": "2022-11-04T08:34:00.096Z"
   },
   {
    "duration": 1489,
    "start_time": "2022-11-04T08:34:00.125Z"
   },
   {
    "duration": 47,
    "start_time": "2022-11-04T08:34:01.616Z"
   },
   {
    "duration": 3,
    "start_time": "2022-11-04T08:34:01.665Z"
   },
   {
    "duration": 32,
    "start_time": "2022-11-04T08:34:01.669Z"
   },
   {
    "duration": 33,
    "start_time": "2022-11-04T08:34:01.704Z"
   },
   {
    "duration": 33,
    "start_time": "2022-11-04T08:34:01.739Z"
   },
   {
    "duration": 17,
    "start_time": "2022-11-04T08:34:01.774Z"
   },
   {
    "duration": 20,
    "start_time": "2022-11-04T08:34:01.793Z"
   },
   {
    "duration": 14,
    "start_time": "2022-11-04T08:34:01.814Z"
   },
   {
    "duration": 14,
    "start_time": "2022-11-04T08:34:01.830Z"
   },
   {
    "duration": 12,
    "start_time": "2022-11-04T08:34:01.846Z"
   },
   {
    "duration": 13,
    "start_time": "2022-11-04T08:34:01.860Z"
   },
   {
    "duration": 57,
    "start_time": "2022-11-04T08:34:01.874Z"
   },
   {
    "duration": 115,
    "start_time": "2022-11-04T08:34:02.021Z"
   },
   {
    "duration": 99,
    "start_time": "2022-11-04T08:34:02.223Z"
   },
   {
    "duration": 8,
    "start_time": "2022-11-04T08:34:02.324Z"
   },
   {
    "duration": 43,
    "start_time": "2022-11-04T08:34:02.334Z"
   },
   {
    "duration": 12,
    "start_time": "2022-11-04T08:34:02.379Z"
   },
   {
    "duration": 15,
    "start_time": "2022-11-04T08:34:02.393Z"
   },
   {
    "duration": 114,
    "start_time": "2022-11-04T08:34:02.409Z"
   },
   {
    "duration": 299,
    "start_time": "2022-11-04T08:34:02.525Z"
   },
   {
    "duration": 16,
    "start_time": "2022-11-04T08:34:02.826Z"
   },
   {
    "duration": 19,
    "start_time": "2022-11-04T08:34:02.844Z"
   },
   {
    "duration": 59,
    "start_time": "2022-11-04T08:34:02.864Z"
   },
   {
    "duration": 108,
    "start_time": "2022-11-04T08:34:02.926Z"
   },
   {
    "duration": 1260,
    "start_time": "2022-11-04T09:06:23.330Z"
   },
   {
    "duration": 53,
    "start_time": "2022-11-04T09:06:24.592Z"
   },
   {
    "duration": 14,
    "start_time": "2022-11-04T09:06:24.647Z"
   },
   {
    "duration": 15,
    "start_time": "2022-11-04T09:06:24.664Z"
   },
   {
    "duration": 1748,
    "start_time": "2022-11-04T09:06:24.681Z"
   },
   {
    "duration": 37,
    "start_time": "2022-11-04T09:06:26.430Z"
   },
   {
    "duration": 154,
    "start_time": "2022-11-04T09:06:26.468Z"
   },
   {
    "duration": 4,
    "start_time": "2022-11-04T09:06:26.623Z"
   },
   {
    "duration": 11,
    "start_time": "2022-11-04T09:06:26.629Z"
   },
   {
    "duration": 4,
    "start_time": "2022-11-04T09:06:26.642Z"
   },
   {
    "duration": 1367,
    "start_time": "2022-11-04T09:06:26.647Z"
   },
   {
    "duration": 35,
    "start_time": "2022-11-04T09:06:28.015Z"
   },
   {
    "duration": 9,
    "start_time": "2022-11-04T09:06:28.052Z"
   },
   {
    "duration": 10,
    "start_time": "2022-11-04T09:06:28.062Z"
   },
   {
    "duration": 8,
    "start_time": "2022-11-04T09:06:28.073Z"
   },
   {
    "duration": 7,
    "start_time": "2022-11-04T09:06:28.083Z"
   },
   {
    "duration": 11,
    "start_time": "2022-11-04T09:06:28.091Z"
   },
   {
    "duration": 11,
    "start_time": "2022-11-04T09:06:28.122Z"
   },
   {
    "duration": 8,
    "start_time": "2022-11-04T09:06:28.134Z"
   },
   {
    "duration": 11,
    "start_time": "2022-11-04T09:06:28.144Z"
   },
   {
    "duration": 11,
    "start_time": "2022-11-04T09:06:28.156Z"
   },
   {
    "duration": 61,
    "start_time": "2022-11-04T09:06:28.169Z"
   },
   {
    "duration": 115,
    "start_time": "2022-11-04T09:06:28.322Z"
   },
   {
    "duration": 105,
    "start_time": "2022-11-04T09:06:28.523Z"
   },
   {
    "duration": 5,
    "start_time": "2022-11-04T09:06:28.629Z"
   },
   {
    "duration": 8,
    "start_time": "2022-11-04T09:06:28.636Z"
   },
   {
    "duration": 22,
    "start_time": "2022-11-04T09:06:28.646Z"
   },
   {
    "duration": 9,
    "start_time": "2022-11-04T09:06:28.672Z"
   },
   {
    "duration": 4,
    "start_time": "2022-11-04T09:06:28.682Z"
   },
   {
    "duration": 61,
    "start_time": "2022-11-04T09:06:28.687Z"
   },
   {
    "duration": 122,
    "start_time": "2022-11-04T09:06:28.823Z"
   },
   {
    "duration": 181,
    "start_time": "2022-11-04T09:06:28.947Z"
   },
   {
    "duration": 13,
    "start_time": "2022-11-04T09:06:29.130Z"
   },
   {
    "duration": 27,
    "start_time": "2022-11-04T09:06:29.145Z"
   },
   {
    "duration": 110,
    "start_time": "2022-11-04T09:06:29.223Z"
   },
   {
    "duration": 1281,
    "start_time": "2022-11-04T09:23:23.815Z"
   },
   {
    "duration": 38,
    "start_time": "2022-11-04T09:23:25.098Z"
   },
   {
    "duration": 11,
    "start_time": "2022-11-04T09:23:25.138Z"
   },
   {
    "duration": 14,
    "start_time": "2022-11-04T09:23:25.151Z"
   },
   {
    "duration": 1707,
    "start_time": "2022-11-04T09:23:25.166Z"
   },
   {
    "duration": 48,
    "start_time": "2022-11-04T09:23:26.875Z"
   },
   {
    "duration": 142,
    "start_time": "2022-11-04T09:23:26.924Z"
   },
   {
    "duration": 4,
    "start_time": "2022-11-04T09:23:27.068Z"
   },
   {
    "duration": 9,
    "start_time": "2022-11-04T09:23:27.074Z"
   },
   {
    "duration": 4,
    "start_time": "2022-11-04T09:23:27.085Z"
   },
   {
    "duration": 1394,
    "start_time": "2022-11-04T09:23:27.091Z"
   },
   {
    "duration": 37,
    "start_time": "2022-11-04T09:23:28.486Z"
   },
   {
    "duration": 8,
    "start_time": "2022-11-04T09:23:28.525Z"
   },
   {
    "duration": 13,
    "start_time": "2022-11-04T09:23:28.535Z"
   },
   {
    "duration": 8,
    "start_time": "2022-11-04T09:23:28.549Z"
   },
   {
    "duration": 5,
    "start_time": "2022-11-04T09:23:28.559Z"
   },
   {
    "duration": 8,
    "start_time": "2022-11-04T09:23:28.565Z"
   },
   {
    "duration": 18,
    "start_time": "2022-11-04T09:23:28.575Z"
   },
   {
    "duration": 31,
    "start_time": "2022-11-04T09:23:28.595Z"
   },
   {
    "duration": 11,
    "start_time": "2022-11-04T09:23:28.627Z"
   },
   {
    "duration": 27,
    "start_time": "2022-11-04T09:23:28.639Z"
   },
   {
    "duration": 158,
    "start_time": "2022-11-04T09:23:28.668Z"
   },
   {
    "duration": 193,
    "start_time": "2022-11-04T09:23:28.828Z"
   },
   {
    "duration": 100,
    "start_time": "2022-11-04T09:23:29.024Z"
   },
   {
    "duration": 7,
    "start_time": "2022-11-04T09:23:29.126Z"
   },
   {
    "duration": 15,
    "start_time": "2022-11-04T09:23:29.135Z"
   },
   {
    "duration": 22,
    "start_time": "2022-11-04T09:23:29.152Z"
   },
   {
    "duration": 10,
    "start_time": "2022-11-04T09:23:29.176Z"
   },
   {
    "duration": 3,
    "start_time": "2022-11-04T09:23:29.188Z"
   },
   {
    "duration": 51,
    "start_time": "2022-11-04T09:23:29.193Z"
   },
   {
    "duration": 188,
    "start_time": "2022-11-04T09:23:29.322Z"
   },
   {
    "duration": 0,
    "start_time": "2022-11-04T09:23:29.521Z"
   },
   {
    "duration": 0,
    "start_time": "2022-11-04T09:23:29.522Z"
   },
   {
    "duration": 0,
    "start_time": "2022-11-04T09:23:29.523Z"
   },
   {
    "duration": 0,
    "start_time": "2022-11-04T09:23:29.524Z"
   },
   {
    "duration": 0,
    "start_time": "2022-11-04T09:23:29.525Z"
   },
   {
    "duration": 0,
    "start_time": "2022-11-04T09:23:29.526Z"
   },
   {
    "duration": 1375,
    "start_time": "2022-11-04T09:24:30.632Z"
   },
   {
    "duration": 42,
    "start_time": "2022-11-04T09:24:32.009Z"
   },
   {
    "duration": 13,
    "start_time": "2022-11-04T09:24:32.052Z"
   },
   {
    "duration": 31,
    "start_time": "2022-11-04T09:24:32.066Z"
   },
   {
    "duration": 1774,
    "start_time": "2022-11-04T09:24:32.100Z"
   },
   {
    "duration": 48,
    "start_time": "2022-11-04T09:24:33.876Z"
   },
   {
    "duration": 145,
    "start_time": "2022-11-04T09:24:33.926Z"
   },
   {
    "duration": 4,
    "start_time": "2022-11-04T09:24:34.073Z"
   },
   {
    "duration": 9,
    "start_time": "2022-11-04T09:24:34.078Z"
   },
   {
    "duration": 5,
    "start_time": "2022-11-04T09:24:34.089Z"
   },
   {
    "duration": 1336,
    "start_time": "2022-11-04T09:24:34.095Z"
   },
   {
    "duration": 30,
    "start_time": "2022-11-04T09:24:35.432Z"
   },
   {
    "duration": 7,
    "start_time": "2022-11-04T09:24:35.464Z"
   },
   {
    "duration": 9,
    "start_time": "2022-11-04T09:24:35.474Z"
   },
   {
    "duration": 6,
    "start_time": "2022-11-04T09:24:35.485Z"
   },
   {
    "duration": 11,
    "start_time": "2022-11-04T09:24:35.492Z"
   },
   {
    "duration": 22,
    "start_time": "2022-11-04T09:24:35.504Z"
   },
   {
    "duration": 11,
    "start_time": "2022-11-04T09:24:35.527Z"
   },
   {
    "duration": 8,
    "start_time": "2022-11-04T09:24:35.539Z"
   },
   {
    "duration": 10,
    "start_time": "2022-11-04T09:24:35.548Z"
   },
   {
    "duration": 21,
    "start_time": "2022-11-04T09:24:35.560Z"
   },
   {
    "duration": 48,
    "start_time": "2022-11-04T09:24:35.582Z"
   },
   {
    "duration": 297,
    "start_time": "2022-11-04T09:24:35.631Z"
   },
   {
    "duration": 115,
    "start_time": "2022-11-04T09:24:35.930Z"
   },
   {
    "duration": 24,
    "start_time": "2022-11-04T09:24:36.046Z"
   },
   {
    "duration": 17,
    "start_time": "2022-11-04T09:24:36.071Z"
   },
   {
    "duration": 37,
    "start_time": "2022-11-04T09:24:36.089Z"
   },
   {
    "duration": 25,
    "start_time": "2022-11-04T09:24:36.127Z"
   },
   {
    "duration": 12,
    "start_time": "2022-11-04T09:24:36.153Z"
   },
   {
    "duration": 59,
    "start_time": "2022-11-04T09:24:36.166Z"
   },
   {
    "duration": 272,
    "start_time": "2022-11-04T09:24:36.226Z"
   },
   {
    "duration": 120,
    "start_time": "2022-11-04T09:24:36.501Z"
   },
   {
    "duration": 202,
    "start_time": "2022-11-04T09:24:36.625Z"
   },
   {
    "duration": 12,
    "start_time": "2022-11-04T09:24:36.828Z"
   },
   {
    "duration": 12,
    "start_time": "2022-11-04T09:24:36.841Z"
   },
   {
    "duration": 68,
    "start_time": "2022-11-04T09:24:36.855Z"
   },
   {
    "duration": 114,
    "start_time": "2022-11-04T09:24:36.925Z"
   },
   {
    "duration": 1251,
    "start_time": "2022-11-04T09:26:12.416Z"
   },
   {
    "duration": 42,
    "start_time": "2022-11-04T09:26:13.669Z"
   },
   {
    "duration": 12,
    "start_time": "2022-11-04T09:26:13.712Z"
   },
   {
    "duration": 18,
    "start_time": "2022-11-04T09:26:13.727Z"
   },
   {
    "duration": 1810,
    "start_time": "2022-11-04T09:26:13.746Z"
   },
   {
    "duration": 37,
    "start_time": "2022-11-04T09:26:15.558Z"
   },
   {
    "duration": 175,
    "start_time": "2022-11-04T09:26:15.597Z"
   },
   {
    "duration": 4,
    "start_time": "2022-11-04T09:26:15.773Z"
   },
   {
    "duration": 13,
    "start_time": "2022-11-04T09:26:15.779Z"
   },
   {
    "duration": 4,
    "start_time": "2022-11-04T09:26:15.795Z"
   },
   {
    "duration": 1403,
    "start_time": "2022-11-04T09:26:15.800Z"
   },
   {
    "duration": 46,
    "start_time": "2022-11-04T09:26:17.206Z"
   },
   {
    "duration": 8,
    "start_time": "2022-11-04T09:26:17.254Z"
   },
   {
    "duration": 12,
    "start_time": "2022-11-04T09:26:17.264Z"
   },
   {
    "duration": 6,
    "start_time": "2022-11-04T09:26:17.278Z"
   },
   {
    "duration": 7,
    "start_time": "2022-11-04T09:26:17.285Z"
   },
   {
    "duration": 8,
    "start_time": "2022-11-04T09:26:17.294Z"
   },
   {
    "duration": 14,
    "start_time": "2022-11-04T09:26:17.322Z"
   },
   {
    "duration": 8,
    "start_time": "2022-11-04T09:26:17.337Z"
   },
   {
    "duration": 11,
    "start_time": "2022-11-04T09:26:17.346Z"
   },
   {
    "duration": 12,
    "start_time": "2022-11-04T09:26:17.358Z"
   },
   {
    "duration": 57,
    "start_time": "2022-11-04T09:26:17.372Z"
   },
   {
    "duration": 206,
    "start_time": "2022-11-04T09:26:17.430Z"
   },
   {
    "duration": 100,
    "start_time": "2022-11-04T09:26:17.728Z"
   },
   {
    "duration": 4,
    "start_time": "2022-11-04T09:26:17.830Z"
   },
   {
    "duration": 15,
    "start_time": "2022-11-04T09:26:17.836Z"
   },
   {
    "duration": 32,
    "start_time": "2022-11-04T09:26:17.853Z"
   },
   {
    "duration": 38,
    "start_time": "2022-11-04T09:26:17.888Z"
   },
   {
    "duration": 4,
    "start_time": "2022-11-04T09:26:17.928Z"
   },
   {
    "duration": 99,
    "start_time": "2022-11-04T09:26:17.933Z"
   },
   {
    "duration": 299,
    "start_time": "2022-11-04T09:26:18.033Z"
   },
   {
    "duration": 12,
    "start_time": "2022-11-04T09:26:18.333Z"
   },
   {
    "duration": 5,
    "start_time": "2022-11-04T09:26:18.346Z"
   },
   {
    "duration": 71,
    "start_time": "2022-11-04T09:26:18.352Z"
   },
   {
    "duration": 109,
    "start_time": "2022-11-04T09:26:18.425Z"
   },
   {
    "duration": 1297,
    "start_time": "2022-11-04T09:32:47.692Z"
   },
   {
    "duration": 41,
    "start_time": "2022-11-04T09:32:48.991Z"
   },
   {
    "duration": 14,
    "start_time": "2022-11-04T09:32:49.034Z"
   },
   {
    "duration": 16,
    "start_time": "2022-11-04T09:32:49.051Z"
   },
   {
    "duration": 1704,
    "start_time": "2022-11-04T09:32:49.070Z"
   },
   {
    "duration": 35,
    "start_time": "2022-11-04T09:32:50.776Z"
   },
   {
    "duration": 155,
    "start_time": "2022-11-04T09:32:50.812Z"
   },
   {
    "duration": 5,
    "start_time": "2022-11-04T09:32:50.968Z"
   },
   {
    "duration": 28,
    "start_time": "2022-11-04T09:32:50.974Z"
   },
   {
    "duration": 26,
    "start_time": "2022-11-04T09:32:51.003Z"
   },
   {
    "duration": 1366,
    "start_time": "2022-11-04T09:32:51.031Z"
   },
   {
    "duration": 38,
    "start_time": "2022-11-04T09:32:52.398Z"
   },
   {
    "duration": 8,
    "start_time": "2022-11-04T09:32:52.437Z"
   },
   {
    "duration": 22,
    "start_time": "2022-11-04T09:32:52.448Z"
   },
   {
    "duration": 24,
    "start_time": "2022-11-04T09:32:52.471Z"
   },
   {
    "duration": 30,
    "start_time": "2022-11-04T09:32:52.496Z"
   },
   {
    "duration": 21,
    "start_time": "2022-11-04T09:32:52.527Z"
   },
   {
    "duration": 31,
    "start_time": "2022-11-04T09:32:52.550Z"
   },
   {
    "duration": 15,
    "start_time": "2022-11-04T09:32:52.583Z"
   },
   {
    "duration": 18,
    "start_time": "2022-11-04T09:32:52.600Z"
   },
   {
    "duration": 21,
    "start_time": "2022-11-04T09:32:52.620Z"
   },
   {
    "duration": 83,
    "start_time": "2022-11-04T09:32:52.643Z"
   },
   {
    "duration": 199,
    "start_time": "2022-11-04T09:32:52.727Z"
   },
   {
    "duration": 110,
    "start_time": "2022-11-04T09:32:52.928Z"
   },
   {
    "duration": 20,
    "start_time": "2022-11-04T09:32:53.039Z"
   },
   {
    "duration": 29,
    "start_time": "2022-11-04T09:32:53.061Z"
   },
   {
    "duration": 48,
    "start_time": "2022-11-04T09:32:53.092Z"
   },
   {
    "duration": 10,
    "start_time": "2022-11-04T09:32:53.141Z"
   },
   {
    "duration": 29,
    "start_time": "2022-11-04T09:32:53.153Z"
   },
   {
    "duration": 54,
    "start_time": "2022-11-04T09:32:53.184Z"
   },
   {
    "duration": 290,
    "start_time": "2022-11-04T09:32:53.323Z"
   },
   {
    "duration": 11,
    "start_time": "2022-11-04T09:32:53.621Z"
   },
   {
    "duration": 37,
    "start_time": "2022-11-04T09:32:53.633Z"
   },
   {
    "duration": 52,
    "start_time": "2022-11-04T09:32:53.671Z"
   },
   {
    "duration": 204,
    "start_time": "2022-11-04T09:32:53.725Z"
   },
   {
    "duration": 1204,
    "start_time": "2022-11-04T09:35:46.173Z"
   },
   {
    "duration": 39,
    "start_time": "2022-11-04T09:35:47.379Z"
   },
   {
    "duration": 13,
    "start_time": "2022-11-04T09:35:47.419Z"
   },
   {
    "duration": 14,
    "start_time": "2022-11-04T09:35:47.434Z"
   },
   {
    "duration": 1824,
    "start_time": "2022-11-04T09:35:47.449Z"
   },
   {
    "duration": 37,
    "start_time": "2022-11-04T09:35:49.275Z"
   },
   {
    "duration": 142,
    "start_time": "2022-11-04T09:35:49.322Z"
   },
   {
    "duration": 4,
    "start_time": "2022-11-04T09:35:49.466Z"
   },
   {
    "duration": 10,
    "start_time": "2022-11-04T09:35:49.472Z"
   },
   {
    "duration": 10,
    "start_time": "2022-11-04T09:35:49.485Z"
   },
   {
    "duration": 1342,
    "start_time": "2022-11-04T09:35:49.497Z"
   },
   {
    "duration": 36,
    "start_time": "2022-11-04T09:35:50.841Z"
   },
   {
    "duration": 9,
    "start_time": "2022-11-04T09:35:50.879Z"
   },
   {
    "duration": 14,
    "start_time": "2022-11-04T09:35:50.889Z"
   },
   {
    "duration": 20,
    "start_time": "2022-11-04T09:35:50.904Z"
   },
   {
    "duration": 10,
    "start_time": "2022-11-04T09:35:50.925Z"
   },
   {
    "duration": 12,
    "start_time": "2022-11-04T09:35:50.936Z"
   },
   {
    "duration": 16,
    "start_time": "2022-11-04T09:35:50.950Z"
   },
   {
    "duration": 8,
    "start_time": "2022-11-04T09:35:50.967Z"
   },
   {
    "duration": 18,
    "start_time": "2022-11-04T09:35:50.977Z"
   },
   {
    "duration": 21,
    "start_time": "2022-11-04T09:35:50.997Z"
   },
   {
    "duration": 42,
    "start_time": "2022-11-04T09:35:51.020Z"
   },
   {
    "duration": 113,
    "start_time": "2022-11-04T09:35:51.123Z"
   },
   {
    "duration": 107,
    "start_time": "2022-11-04T09:35:51.323Z"
   },
   {
    "duration": 5,
    "start_time": "2022-11-04T09:35:51.432Z"
   },
   {
    "duration": 12,
    "start_time": "2022-11-04T09:35:51.438Z"
   },
   {
    "duration": 22,
    "start_time": "2022-11-04T09:35:51.451Z"
   },
   {
    "duration": 10,
    "start_time": "2022-11-04T09:35:51.476Z"
   },
   {
    "duration": 5,
    "start_time": "2022-11-04T09:35:51.487Z"
   },
   {
    "duration": 129,
    "start_time": "2022-11-04T09:35:51.493Z"
   },
   {
    "duration": 230,
    "start_time": "2022-11-04T09:35:51.625Z"
   },
   {
    "duration": 11,
    "start_time": "2022-11-04T09:35:51.857Z"
   },
   {
    "duration": 3,
    "start_time": "2022-11-04T09:35:51.870Z"
   },
   {
    "duration": 54,
    "start_time": "2022-11-04T09:35:51.875Z"
   },
   {
    "duration": 194,
    "start_time": "2022-11-04T09:35:51.931Z"
   },
   {
    "duration": 1223,
    "start_time": "2022-11-04T09:39:10.275Z"
   },
   {
    "duration": 44,
    "start_time": "2022-11-04T09:39:11.500Z"
   },
   {
    "duration": 15,
    "start_time": "2022-11-04T09:39:11.546Z"
   },
   {
    "duration": 17,
    "start_time": "2022-11-04T09:39:11.563Z"
   },
   {
    "duration": 1724,
    "start_time": "2022-11-04T09:39:11.582Z"
   },
   {
    "duration": 50,
    "start_time": "2022-11-04T09:39:13.308Z"
   },
   {
    "duration": 151,
    "start_time": "2022-11-04T09:39:13.359Z"
   },
   {
    "duration": 12,
    "start_time": "2022-11-04T09:39:13.512Z"
   },
   {
    "duration": 8,
    "start_time": "2022-11-04T09:39:13.525Z"
   },
   {
    "duration": 4,
    "start_time": "2022-11-04T09:39:13.534Z"
   },
   {
    "duration": 1424,
    "start_time": "2022-11-04T09:39:13.539Z"
   },
   {
    "duration": 33,
    "start_time": "2022-11-04T09:39:14.964Z"
   },
   {
    "duration": 8,
    "start_time": "2022-11-04T09:39:14.999Z"
   },
   {
    "duration": 21,
    "start_time": "2022-11-04T09:39:15.024Z"
   },
   {
    "duration": 32,
    "start_time": "2022-11-04T09:39:15.046Z"
   },
   {
    "duration": 8,
    "start_time": "2022-11-04T09:39:15.080Z"
   },
   {
    "duration": 11,
    "start_time": "2022-11-04T09:39:15.090Z"
   },
   {
    "duration": 21,
    "start_time": "2022-11-04T09:39:15.103Z"
   },
   {
    "duration": 12,
    "start_time": "2022-11-04T09:39:15.125Z"
   },
   {
    "duration": 12,
    "start_time": "2022-11-04T09:39:15.138Z"
   },
   {
    "duration": 16,
    "start_time": "2022-11-04T09:39:15.152Z"
   },
   {
    "duration": 57,
    "start_time": "2022-11-04T09:39:15.169Z"
   },
   {
    "duration": 212,
    "start_time": "2022-11-04T09:39:15.228Z"
   },
   {
    "duration": 91,
    "start_time": "2022-11-04T09:39:15.442Z"
   },
   {
    "duration": 96,
    "start_time": "2022-11-04T09:39:15.535Z"
   },
   {
    "duration": 20,
    "start_time": "2022-11-04T09:39:15.633Z"
   },
   {
    "duration": 28,
    "start_time": "2022-11-04T09:39:15.654Z"
   },
   {
    "duration": 11,
    "start_time": "2022-11-04T09:39:15.684Z"
   },
   {
    "duration": 7,
    "start_time": "2022-11-04T09:39:15.697Z"
   },
   {
    "duration": 33,
    "start_time": "2022-11-04T09:39:15.705Z"
   },
   {
    "duration": 308,
    "start_time": "2022-11-04T09:39:15.740Z"
   },
   {
    "duration": 13,
    "start_time": "2022-11-04T09:39:16.050Z"
   },
   {
    "duration": 5,
    "start_time": "2022-11-04T09:39:16.065Z"
   },
   {
    "duration": 154,
    "start_time": "2022-11-04T09:39:16.071Z"
   },
   {
    "duration": 108,
    "start_time": "2022-11-04T09:39:16.227Z"
   },
   {
    "duration": 1309,
    "start_time": "2022-11-04T09:58:03.489Z"
   },
   {
    "duration": 41,
    "start_time": "2022-11-04T09:58:04.800Z"
   },
   {
    "duration": 12,
    "start_time": "2022-11-04T09:58:04.842Z"
   },
   {
    "duration": 19,
    "start_time": "2022-11-04T09:58:04.855Z"
   },
   {
    "duration": 1733,
    "start_time": "2022-11-04T09:58:04.876Z"
   },
   {
    "duration": 43,
    "start_time": "2022-11-04T09:58:06.611Z"
   },
   {
    "duration": 147,
    "start_time": "2022-11-04T09:58:06.655Z"
   },
   {
    "duration": 3,
    "start_time": "2022-11-04T09:58:06.804Z"
   },
   {
    "duration": 15,
    "start_time": "2022-11-04T09:58:06.809Z"
   },
   {
    "duration": 3,
    "start_time": "2022-11-04T09:58:06.825Z"
   },
   {
    "duration": 1378,
    "start_time": "2022-11-04T09:58:06.830Z"
   },
   {
    "duration": 40,
    "start_time": "2022-11-04T09:58:08.210Z"
   },
   {
    "duration": 9,
    "start_time": "2022-11-04T09:58:08.251Z"
   },
   {
    "duration": 25,
    "start_time": "2022-11-04T09:58:08.263Z"
   },
   {
    "duration": 7,
    "start_time": "2022-11-04T09:58:08.289Z"
   },
   {
    "duration": 6,
    "start_time": "2022-11-04T09:58:08.298Z"
   },
   {
    "duration": 8,
    "start_time": "2022-11-04T09:58:08.305Z"
   },
   {
    "duration": 14,
    "start_time": "2022-11-04T09:58:08.314Z"
   },
   {
    "duration": 11,
    "start_time": "2022-11-04T09:58:08.329Z"
   },
   {
    "duration": 10,
    "start_time": "2022-11-04T09:58:08.341Z"
   },
   {
    "duration": 17,
    "start_time": "2022-11-04T09:58:08.352Z"
   },
   {
    "duration": 60,
    "start_time": "2022-11-04T09:58:08.370Z"
   },
   {
    "duration": 291,
    "start_time": "2022-11-04T09:58:08.432Z"
   },
   {
    "duration": 102,
    "start_time": "2022-11-04T09:58:08.729Z"
   },
   {
    "duration": 4,
    "start_time": "2022-11-04T09:58:08.833Z"
   },
   {
    "duration": 11,
    "start_time": "2022-11-04T09:58:08.838Z"
   },
   {
    "duration": 59,
    "start_time": "2022-11-04T09:58:08.851Z"
   },
   {
    "duration": 16,
    "start_time": "2022-11-04T09:58:08.912Z"
   },
   {
    "duration": 9,
    "start_time": "2022-11-04T09:58:08.930Z"
   },
   {
    "duration": 88,
    "start_time": "2022-11-04T09:58:08.941Z"
   },
   {
    "duration": 315,
    "start_time": "2022-11-04T09:58:09.031Z"
   },
   {
    "duration": 13,
    "start_time": "2022-11-04T09:58:09.348Z"
   },
   {
    "duration": 12,
    "start_time": "2022-11-04T09:58:09.362Z"
   },
   {
    "duration": 55,
    "start_time": "2022-11-04T09:58:09.375Z"
   },
   {
    "duration": 189,
    "start_time": "2022-11-04T09:58:09.432Z"
   },
   {
    "duration": 1375,
    "start_time": "2022-11-04T10:17:16.801Z"
   },
   {
    "duration": 42,
    "start_time": "2022-11-04T10:17:18.178Z"
   },
   {
    "duration": 15,
    "start_time": "2022-11-04T10:17:18.222Z"
   },
   {
    "duration": 22,
    "start_time": "2022-11-04T10:17:18.239Z"
   },
   {
    "duration": 1898,
    "start_time": "2022-11-04T10:17:18.263Z"
   },
   {
    "duration": 38,
    "start_time": "2022-11-04T10:17:20.163Z"
   },
   {
    "duration": 158,
    "start_time": "2022-11-04T10:17:20.203Z"
   },
   {
    "duration": 5,
    "start_time": "2022-11-04T10:17:20.363Z"
   },
   {
    "duration": 40,
    "start_time": "2022-11-04T10:17:20.370Z"
   },
   {
    "duration": 9,
    "start_time": "2022-11-04T10:17:20.413Z"
   },
   {
    "duration": 1470,
    "start_time": "2022-11-04T10:17:20.423Z"
   },
   {
    "duration": 50,
    "start_time": "2022-11-04T10:17:21.894Z"
   },
   {
    "duration": 8,
    "start_time": "2022-11-04T10:17:21.946Z"
   },
   {
    "duration": 32,
    "start_time": "2022-11-04T10:17:21.955Z"
   },
   {
    "duration": 34,
    "start_time": "2022-11-04T10:17:21.988Z"
   },
   {
    "duration": 27,
    "start_time": "2022-11-04T10:17:22.023Z"
   },
   {
    "duration": 40,
    "start_time": "2022-11-04T10:17:22.051Z"
   },
   {
    "duration": 27,
    "start_time": "2022-11-04T10:17:22.092Z"
   },
   {
    "duration": 30,
    "start_time": "2022-11-04T10:17:22.120Z"
   },
   {
    "duration": 20,
    "start_time": "2022-11-04T10:17:22.151Z"
   },
   {
    "duration": 27,
    "start_time": "2022-11-04T10:17:22.173Z"
   },
   {
    "duration": 49,
    "start_time": "2022-11-04T10:17:22.201Z"
   },
   {
    "duration": 307,
    "start_time": "2022-11-04T10:17:22.324Z"
   },
   {
    "duration": 98,
    "start_time": "2022-11-04T10:17:22.633Z"
   },
   {
    "duration": 8,
    "start_time": "2022-11-04T10:17:22.732Z"
   },
   {
    "duration": 24,
    "start_time": "2022-11-04T10:17:22.741Z"
   },
   {
    "duration": 25,
    "start_time": "2022-11-04T10:17:22.767Z"
   },
   {
    "duration": 12,
    "start_time": "2022-11-04T10:17:22.795Z"
   },
   {
    "duration": 15,
    "start_time": "2022-11-04T10:17:22.808Z"
   },
   {
    "duration": 97,
    "start_time": "2022-11-04T10:17:22.824Z"
   },
   {
    "duration": 129,
    "start_time": "2022-11-04T10:17:22.924Z"
   },
   {
    "duration": 406,
    "start_time": "2022-11-04T10:17:23.055Z"
   },
   {
    "duration": 13,
    "start_time": "2022-11-04T10:17:23.463Z"
   },
   {
    "duration": 11,
    "start_time": "2022-11-04T10:17:23.478Z"
   },
   {
    "duration": 232,
    "start_time": "2022-11-04T10:17:23.491Z"
   },
   {
    "duration": 1271,
    "start_time": "2022-11-04T10:19:18.161Z"
   },
   {
    "duration": 39,
    "start_time": "2022-11-04T10:19:19.434Z"
   },
   {
    "duration": 13,
    "start_time": "2022-11-04T10:19:19.474Z"
   },
   {
    "duration": 16,
    "start_time": "2022-11-04T10:19:19.488Z"
   },
   {
    "duration": 1840,
    "start_time": "2022-11-04T10:19:19.506Z"
   },
   {
    "duration": 39,
    "start_time": "2022-11-04T10:19:21.347Z"
   },
   {
    "duration": 183,
    "start_time": "2022-11-04T10:19:21.387Z"
   },
   {
    "duration": 4,
    "start_time": "2022-11-04T10:19:21.571Z"
   },
   {
    "duration": 9,
    "start_time": "2022-11-04T10:19:21.577Z"
   },
   {
    "duration": 6,
    "start_time": "2022-11-04T10:19:21.588Z"
   },
   {
    "duration": 1415,
    "start_time": "2022-11-04T10:19:21.596Z"
   },
   {
    "duration": 37,
    "start_time": "2022-11-04T10:19:23.013Z"
   },
   {
    "duration": 9,
    "start_time": "2022-11-04T10:19:23.052Z"
   },
   {
    "duration": 14,
    "start_time": "2022-11-04T10:19:23.064Z"
   },
   {
    "duration": 9,
    "start_time": "2022-11-04T10:19:23.080Z"
   },
   {
    "duration": 10,
    "start_time": "2022-11-04T10:19:23.090Z"
   },
   {
    "duration": 23,
    "start_time": "2022-11-04T10:19:23.102Z"
   },
   {
    "duration": 13,
    "start_time": "2022-11-04T10:19:23.126Z"
   },
   {
    "duration": 9,
    "start_time": "2022-11-04T10:19:23.140Z"
   },
   {
    "duration": 11,
    "start_time": "2022-11-04T10:19:23.150Z"
   },
   {
    "duration": 12,
    "start_time": "2022-11-04T10:19:23.162Z"
   },
   {
    "duration": 247,
    "start_time": "2022-11-04T10:19:23.175Z"
   },
   {
    "duration": 28,
    "start_time": "2022-11-04T10:19:23.424Z"
   },
   {
    "duration": 104,
    "start_time": "2022-11-04T10:19:23.523Z"
   },
   {
    "duration": 4,
    "start_time": "2022-11-04T10:19:23.629Z"
   },
   {
    "duration": 12,
    "start_time": "2022-11-04T10:19:23.635Z"
   },
   {
    "duration": 24,
    "start_time": "2022-11-04T10:19:23.649Z"
   },
   {
    "duration": 10,
    "start_time": "2022-11-04T10:19:23.675Z"
   },
   {
    "duration": 4,
    "start_time": "2022-11-04T10:19:23.687Z"
   },
   {
    "duration": 29,
    "start_time": "2022-11-04T10:19:23.723Z"
   },
   {
    "duration": 1301,
    "start_time": "2022-11-04T10:19:23.754Z"
   },
   {
    "duration": 373,
    "start_time": "2022-11-04T10:19:25.057Z"
   },
   {
    "duration": 11,
    "start_time": "2022-11-04T10:19:25.432Z"
   },
   {
    "duration": 3,
    "start_time": "2022-11-04T10:19:25.445Z"
   },
   {
    "duration": 84,
    "start_time": "2022-11-04T10:19:25.450Z"
   },
   {
    "duration": 1213,
    "start_time": "2022-11-04T10:20:35.364Z"
   },
   {
    "duration": 39,
    "start_time": "2022-11-04T10:20:36.579Z"
   },
   {
    "duration": 11,
    "start_time": "2022-11-04T10:20:36.620Z"
   },
   {
    "duration": 14,
    "start_time": "2022-11-04T10:20:36.632Z"
   },
   {
    "duration": 1782,
    "start_time": "2022-11-04T10:20:36.648Z"
   },
   {
    "duration": 38,
    "start_time": "2022-11-04T10:20:38.431Z"
   },
   {
    "duration": 160,
    "start_time": "2022-11-04T10:20:38.470Z"
   },
   {
    "duration": 4,
    "start_time": "2022-11-04T10:20:38.632Z"
   },
   {
    "duration": 9,
    "start_time": "2022-11-04T10:20:38.637Z"
   },
   {
    "duration": 3,
    "start_time": "2022-11-04T10:20:38.647Z"
   },
   {
    "duration": 1475,
    "start_time": "2022-11-04T10:20:38.652Z"
   },
   {
    "duration": 31,
    "start_time": "2022-11-04T10:20:40.129Z"
   },
   {
    "duration": 9,
    "start_time": "2022-11-04T10:20:40.161Z"
   },
   {
    "duration": 12,
    "start_time": "2022-11-04T10:20:40.172Z"
   },
   {
    "duration": 8,
    "start_time": "2022-11-04T10:20:40.185Z"
   },
   {
    "duration": 28,
    "start_time": "2022-11-04T10:20:40.194Z"
   },
   {
    "duration": 7,
    "start_time": "2022-11-04T10:20:40.223Z"
   },
   {
    "duration": 22,
    "start_time": "2022-11-04T10:20:40.231Z"
   },
   {
    "duration": 8,
    "start_time": "2022-11-04T10:20:40.254Z"
   },
   {
    "duration": 11,
    "start_time": "2022-11-04T10:20:40.264Z"
   },
   {
    "duration": 14,
    "start_time": "2022-11-04T10:20:40.277Z"
   },
   {
    "duration": 40,
    "start_time": "2022-11-04T10:20:40.292Z"
   },
   {
    "duration": 203,
    "start_time": "2022-11-04T10:20:40.334Z"
   },
   {
    "duration": 99,
    "start_time": "2022-11-04T10:20:40.623Z"
   },
   {
    "duration": 5,
    "start_time": "2022-11-04T10:20:40.724Z"
   },
   {
    "duration": 10,
    "start_time": "2022-11-04T10:20:40.730Z"
   },
   {
    "duration": 22,
    "start_time": "2022-11-04T10:20:40.741Z"
   },
   {
    "duration": 10,
    "start_time": "2022-11-04T10:20:40.765Z"
   },
   {
    "duration": 4,
    "start_time": "2022-11-04T10:20:40.776Z"
   },
   {
    "duration": 144,
    "start_time": "2022-11-04T10:20:40.781Z"
   },
   {
    "duration": 707,
    "start_time": "2022-11-04T10:20:40.927Z"
   },
   {
    "duration": 368,
    "start_time": "2022-11-04T10:20:41.636Z"
   },
   {
    "duration": 18,
    "start_time": "2022-11-04T10:20:42.006Z"
   },
   {
    "duration": 5,
    "start_time": "2022-11-04T10:20:42.025Z"
   },
   {
    "duration": 96,
    "start_time": "2022-11-04T10:20:42.031Z"
   },
   {
    "duration": 1376,
    "start_time": "2022-11-04T10:21:20.523Z"
   },
   {
    "duration": 40,
    "start_time": "2022-11-04T10:21:21.901Z"
   },
   {
    "duration": 12,
    "start_time": "2022-11-04T10:21:21.943Z"
   },
   {
    "duration": 14,
    "start_time": "2022-11-04T10:21:21.957Z"
   },
   {
    "duration": 1801,
    "start_time": "2022-11-04T10:21:21.974Z"
   },
   {
    "duration": 46,
    "start_time": "2022-11-04T10:21:23.777Z"
   },
   {
    "duration": 151,
    "start_time": "2022-11-04T10:21:23.825Z"
   },
   {
    "duration": 4,
    "start_time": "2022-11-04T10:21:23.978Z"
   },
   {
    "duration": 7,
    "start_time": "2022-11-04T10:21:23.984Z"
   },
   {
    "duration": 3,
    "start_time": "2022-11-04T10:21:23.993Z"
   },
   {
    "duration": 1402,
    "start_time": "2022-11-04T10:21:23.998Z"
   },
   {
    "duration": 47,
    "start_time": "2022-11-04T10:21:25.402Z"
   },
   {
    "duration": 10,
    "start_time": "2022-11-04T10:21:25.451Z"
   },
   {
    "duration": 11,
    "start_time": "2022-11-04T10:21:25.464Z"
   },
   {
    "duration": 7,
    "start_time": "2022-11-04T10:21:25.477Z"
   },
   {
    "duration": 6,
    "start_time": "2022-11-04T10:21:25.485Z"
   },
   {
    "duration": 31,
    "start_time": "2022-11-04T10:21:25.493Z"
   },
   {
    "duration": 14,
    "start_time": "2022-11-04T10:21:25.525Z"
   },
   {
    "duration": 8,
    "start_time": "2022-11-04T10:21:25.540Z"
   },
   {
    "duration": 12,
    "start_time": "2022-11-04T10:21:25.550Z"
   },
   {
    "duration": 20,
    "start_time": "2022-11-04T10:21:25.563Z"
   },
   {
    "duration": 48,
    "start_time": "2022-11-04T10:21:25.585Z"
   },
   {
    "duration": 119,
    "start_time": "2022-11-04T10:21:25.723Z"
   },
   {
    "duration": 99,
    "start_time": "2022-11-04T10:21:25.927Z"
   },
   {
    "duration": 4,
    "start_time": "2022-11-04T10:21:26.028Z"
   },
   {
    "duration": 12,
    "start_time": "2022-11-04T10:21:26.033Z"
   },
   {
    "duration": 23,
    "start_time": "2022-11-04T10:21:26.046Z"
   },
   {
    "duration": 10,
    "start_time": "2022-11-04T10:21:26.071Z"
   },
   {
    "duration": 8,
    "start_time": "2022-11-04T10:21:26.083Z"
   },
   {
    "duration": 56,
    "start_time": "2022-11-04T10:21:26.092Z"
   },
   {
    "duration": 395,
    "start_time": "2022-11-04T10:21:26.150Z"
   },
   {
    "duration": 361,
    "start_time": "2022-11-04T10:21:26.546Z"
   },
   {
    "duration": 16,
    "start_time": "2022-11-04T10:21:26.909Z"
   },
   {
    "duration": 4,
    "start_time": "2022-11-04T10:21:26.927Z"
   },
   {
    "duration": 192,
    "start_time": "2022-11-04T10:21:26.932Z"
   },
   {
    "duration": 1239,
    "start_time": "2022-11-04T10:24:45.539Z"
   },
   {
    "duration": 38,
    "start_time": "2022-11-04T10:24:46.781Z"
   },
   {
    "duration": 12,
    "start_time": "2022-11-04T10:24:46.821Z"
   },
   {
    "duration": 15,
    "start_time": "2022-11-04T10:24:46.834Z"
   },
   {
    "duration": 1707,
    "start_time": "2022-11-04T10:24:46.850Z"
   },
   {
    "duration": 37,
    "start_time": "2022-11-04T10:24:48.559Z"
   },
   {
    "duration": 158,
    "start_time": "2022-11-04T10:24:48.598Z"
   },
   {
    "duration": 3,
    "start_time": "2022-11-04T10:24:48.758Z"
   },
   {
    "duration": 8,
    "start_time": "2022-11-04T10:24:48.763Z"
   },
   {
    "duration": 5,
    "start_time": "2022-11-04T10:24:48.772Z"
   },
   {
    "duration": 1445,
    "start_time": "2022-11-04T10:24:48.779Z"
   },
   {
    "duration": 31,
    "start_time": "2022-11-04T10:24:50.225Z"
   },
   {
    "duration": 8,
    "start_time": "2022-11-04T10:24:50.257Z"
   },
   {
    "duration": 10,
    "start_time": "2022-11-04T10:24:50.268Z"
   },
   {
    "duration": 5,
    "start_time": "2022-11-04T10:24:50.279Z"
   },
   {
    "duration": 6,
    "start_time": "2022-11-04T10:24:50.285Z"
   },
   {
    "duration": 7,
    "start_time": "2022-11-04T10:24:50.321Z"
   },
   {
    "duration": 21,
    "start_time": "2022-11-04T10:24:50.329Z"
   },
   {
    "duration": 9,
    "start_time": "2022-11-04T10:24:50.351Z"
   },
   {
    "duration": 11,
    "start_time": "2022-11-04T10:24:50.362Z"
   },
   {
    "duration": 21,
    "start_time": "2022-11-04T10:24:50.374Z"
   },
   {
    "duration": 42,
    "start_time": "2022-11-04T10:24:50.397Z"
   },
   {
    "duration": 201,
    "start_time": "2022-11-04T10:24:50.521Z"
   },
   {
    "duration": 110,
    "start_time": "2022-11-04T10:24:50.724Z"
   },
   {
    "duration": 5,
    "start_time": "2022-11-04T10:24:50.836Z"
   },
   {
    "duration": 13,
    "start_time": "2022-11-04T10:24:50.842Z"
   },
   {
    "duration": 31,
    "start_time": "2022-11-04T10:24:50.857Z"
   },
   {
    "duration": 11,
    "start_time": "2022-11-04T10:24:50.889Z"
   },
   {
    "duration": 21,
    "start_time": "2022-11-04T10:24:50.902Z"
   },
   {
    "duration": 198,
    "start_time": "2022-11-04T10:24:50.924Z"
   },
   {
    "duration": 321,
    "start_time": "2022-11-04T10:24:51.125Z"
   },
   {
    "duration": 297641,
    "start_time": "2022-11-04T10:24:51.448Z"
   },
   {
    "duration": 12,
    "start_time": "2022-11-04T10:29:49.091Z"
   },
   {
    "duration": 18,
    "start_time": "2022-11-04T10:29:49.105Z"
   },
   {
    "duration": 97,
    "start_time": "2022-11-04T10:29:49.125Z"
   },
   {
    "duration": 1332,
    "start_time": "2022-11-04T10:35:04.153Z"
   },
   {
    "duration": 39,
    "start_time": "2022-11-04T10:35:05.487Z"
   },
   {
    "duration": 13,
    "start_time": "2022-11-04T10:35:05.528Z"
   },
   {
    "duration": 19,
    "start_time": "2022-11-04T10:35:05.543Z"
   },
   {
    "duration": 1886,
    "start_time": "2022-11-04T10:35:05.565Z"
   },
   {
    "duration": 49,
    "start_time": "2022-11-04T10:35:07.453Z"
   },
   {
    "duration": 170,
    "start_time": "2022-11-04T10:35:07.504Z"
   },
   {
    "duration": 4,
    "start_time": "2022-11-04T10:35:07.676Z"
   },
   {
    "duration": 7,
    "start_time": "2022-11-04T10:35:07.681Z"
   },
   {
    "duration": 2,
    "start_time": "2022-11-04T10:35:07.690Z"
   },
   {
    "duration": 1452,
    "start_time": "2022-11-04T10:35:07.694Z"
   },
   {
    "duration": 38,
    "start_time": "2022-11-04T10:35:09.148Z"
   },
   {
    "duration": 9,
    "start_time": "2022-11-04T10:35:09.188Z"
   },
   {
    "duration": 29,
    "start_time": "2022-11-04T10:35:09.199Z"
   },
   {
    "duration": 7,
    "start_time": "2022-11-04T10:35:09.229Z"
   },
   {
    "duration": 5,
    "start_time": "2022-11-04T10:35:09.237Z"
   },
   {
    "duration": 9,
    "start_time": "2022-11-04T10:35:09.244Z"
   },
   {
    "duration": 17,
    "start_time": "2022-11-04T10:35:09.254Z"
   },
   {
    "duration": 9,
    "start_time": "2022-11-04T10:35:09.273Z"
   },
   {
    "duration": 11,
    "start_time": "2022-11-04T10:35:09.283Z"
   },
   {
    "duration": 34,
    "start_time": "2022-11-04T10:35:09.296Z"
   },
   {
    "duration": 92,
    "start_time": "2022-11-04T10:35:09.332Z"
   },
   {
    "duration": 115,
    "start_time": "2022-11-04T10:35:09.426Z"
   },
   {
    "duration": 179,
    "start_time": "2022-11-04T10:35:09.543Z"
   },
   {
    "duration": 9,
    "start_time": "2022-11-04T10:35:09.725Z"
   },
   {
    "duration": 9,
    "start_time": "2022-11-04T10:35:09.736Z"
   },
   {
    "duration": 23,
    "start_time": "2022-11-04T10:35:09.747Z"
   },
   {
    "duration": 11,
    "start_time": "2022-11-04T10:35:09.771Z"
   },
   {
    "duration": 3,
    "start_time": "2022-11-04T10:35:09.784Z"
   },
   {
    "duration": 133,
    "start_time": "2022-11-04T10:35:09.789Z"
   },
   {
    "duration": 331,
    "start_time": "2022-11-04T10:35:09.927Z"
   },
   {
    "duration": 1391682,
    "start_time": "2022-11-04T10:35:10.260Z"
   },
   {
    "duration": 0,
    "start_time": "2022-11-04T10:58:21.944Z"
   },
   {
    "duration": 0,
    "start_time": "2022-11-04T10:58:21.945Z"
   },
   {
    "duration": 0,
    "start_time": "2022-11-04T10:58:21.947Z"
   },
   {
    "duration": 1258,
    "start_time": "2022-11-04T10:59:10.360Z"
   },
   {
    "duration": 42,
    "start_time": "2022-11-04T10:59:11.620Z"
   },
   {
    "duration": 17,
    "start_time": "2022-11-04T10:59:11.665Z"
   },
   {
    "duration": 22,
    "start_time": "2022-11-04T10:59:11.685Z"
   },
   {
    "duration": 1794,
    "start_time": "2022-11-04T10:59:11.709Z"
   },
   {
    "duration": 47,
    "start_time": "2022-11-04T10:59:13.505Z"
   },
   {
    "duration": 143,
    "start_time": "2022-11-04T10:59:13.554Z"
   },
   {
    "duration": 4,
    "start_time": "2022-11-04T10:59:13.699Z"
   },
   {
    "duration": 16,
    "start_time": "2022-11-04T10:59:13.704Z"
   },
   {
    "duration": 25,
    "start_time": "2022-11-04T10:59:13.723Z"
   },
   {
    "duration": 1366,
    "start_time": "2022-11-04T10:59:13.750Z"
   },
   {
    "duration": 32,
    "start_time": "2022-11-04T10:59:15.122Z"
   },
   {
    "duration": 9,
    "start_time": "2022-11-04T10:59:15.155Z"
   },
   {
    "duration": 14,
    "start_time": "2022-11-04T10:59:15.165Z"
   },
   {
    "duration": 7,
    "start_time": "2022-11-04T10:59:15.181Z"
   },
   {
    "duration": 8,
    "start_time": "2022-11-04T10:59:15.190Z"
   },
   {
    "duration": 26,
    "start_time": "2022-11-04T10:59:15.199Z"
   },
   {
    "duration": 13,
    "start_time": "2022-11-04T10:59:15.226Z"
   },
   {
    "duration": 9,
    "start_time": "2022-11-04T10:59:15.240Z"
   },
   {
    "duration": 11,
    "start_time": "2022-11-04T10:59:15.251Z"
   },
   {
    "duration": 11,
    "start_time": "2022-11-04T10:59:15.263Z"
   },
   {
    "duration": 57,
    "start_time": "2022-11-04T10:59:15.276Z"
   },
   {
    "duration": 287,
    "start_time": "2022-11-04T10:59:15.335Z"
   },
   {
    "duration": 112,
    "start_time": "2022-11-04T10:59:15.625Z"
   },
   {
    "duration": 5,
    "start_time": "2022-11-04T10:59:15.739Z"
   },
   {
    "duration": 15,
    "start_time": "2022-11-04T10:59:15.745Z"
   },
   {
    "duration": 24,
    "start_time": "2022-11-04T10:59:15.761Z"
   },
   {
    "duration": 10,
    "start_time": "2022-11-04T10:59:15.788Z"
   },
   {
    "duration": 25,
    "start_time": "2022-11-04T10:59:15.799Z"
   },
   {
    "duration": 96,
    "start_time": "2022-11-04T10:59:15.826Z"
   },
   {
    "duration": 350,
    "start_time": "2022-11-04T10:59:15.924Z"
   },
   {
    "duration": 1628655,
    "start_time": "2022-11-04T10:59:16.275Z"
   },
   {
    "duration": 0,
    "start_time": "2022-11-04T11:26:24.932Z"
   },
   {
    "duration": 0,
    "start_time": "2022-11-04T11:26:24.933Z"
   },
   {
    "duration": 0,
    "start_time": "2022-11-04T11:26:24.934Z"
   },
   {
    "duration": 1309,
    "start_time": "2022-11-04T11:27:13.109Z"
   },
   {
    "duration": 39,
    "start_time": "2022-11-04T11:27:14.420Z"
   },
   {
    "duration": 12,
    "start_time": "2022-11-04T11:27:14.461Z"
   },
   {
    "duration": 30,
    "start_time": "2022-11-04T11:27:14.475Z"
   },
   {
    "duration": 1791,
    "start_time": "2022-11-04T11:27:14.507Z"
   },
   {
    "duration": 49,
    "start_time": "2022-11-04T11:27:16.300Z"
   },
   {
    "duration": 148,
    "start_time": "2022-11-04T11:27:16.350Z"
   },
   {
    "duration": 4,
    "start_time": "2022-11-04T11:27:16.500Z"
   },
   {
    "duration": 19,
    "start_time": "2022-11-04T11:27:16.505Z"
   },
   {
    "duration": 3,
    "start_time": "2022-11-04T11:27:16.526Z"
   },
   {
    "duration": 1373,
    "start_time": "2022-11-04T11:27:16.530Z"
   },
   {
    "duration": 37,
    "start_time": "2022-11-04T11:27:17.905Z"
   },
   {
    "duration": 9,
    "start_time": "2022-11-04T11:27:17.943Z"
   },
   {
    "duration": 19,
    "start_time": "2022-11-04T11:27:17.954Z"
   },
   {
    "duration": 8,
    "start_time": "2022-11-04T11:27:17.974Z"
   },
   {
    "duration": 17,
    "start_time": "2022-11-04T11:27:17.984Z"
   },
   {
    "duration": 22,
    "start_time": "2022-11-04T11:27:18.002Z"
   },
   {
    "duration": 28,
    "start_time": "2022-11-04T11:27:18.026Z"
   },
   {
    "duration": 17,
    "start_time": "2022-11-04T11:27:18.055Z"
   },
   {
    "duration": 19,
    "start_time": "2022-11-04T11:27:18.074Z"
   },
   {
    "duration": 29,
    "start_time": "2022-11-04T11:27:18.094Z"
   },
   {
    "duration": 97,
    "start_time": "2022-11-04T11:27:18.125Z"
   },
   {
    "duration": 201,
    "start_time": "2022-11-04T11:27:18.224Z"
   },
   {
    "duration": 101,
    "start_time": "2022-11-04T11:27:18.429Z"
   },
   {
    "duration": 20,
    "start_time": "2022-11-04T11:27:18.533Z"
   },
   {
    "duration": 31,
    "start_time": "2022-11-04T11:27:18.555Z"
   },
   {
    "duration": 37,
    "start_time": "2022-11-04T11:27:18.588Z"
   },
   {
    "duration": 13,
    "start_time": "2022-11-04T11:27:18.627Z"
   },
   {
    "duration": 4,
    "start_time": "2022-11-04T11:27:18.641Z"
   },
   {
    "duration": 76,
    "start_time": "2022-11-04T11:27:18.647Z"
   },
   {
    "duration": 388,
    "start_time": "2022-11-04T11:27:18.725Z"
   },
   {
    "duration": 1489394,
    "start_time": "2022-11-04T11:27:19.123Z"
   },
   {
    "duration": 0,
    "start_time": "2022-11-04T11:52:08.518Z"
   },
   {
    "duration": 0,
    "start_time": "2022-11-04T11:52:08.521Z"
   },
   {
    "duration": 0,
    "start_time": "2022-11-04T11:52:08.523Z"
   },
   {
    "duration": 1331,
    "start_time": "2022-11-04T11:52:25.310Z"
   },
   {
    "duration": 40,
    "start_time": "2022-11-04T11:52:26.642Z"
   },
   {
    "duration": 12,
    "start_time": "2022-11-04T11:52:26.683Z"
   },
   {
    "duration": 14,
    "start_time": "2022-11-04T11:52:26.697Z"
   },
   {
    "duration": 1724,
    "start_time": "2022-11-04T11:52:26.712Z"
   },
   {
    "duration": 38,
    "start_time": "2022-11-04T11:52:28.437Z"
   },
   {
    "duration": 161,
    "start_time": "2022-11-04T11:52:28.476Z"
   },
   {
    "duration": 4,
    "start_time": "2022-11-04T11:52:28.638Z"
   },
   {
    "duration": 12,
    "start_time": "2022-11-04T11:52:28.644Z"
   },
   {
    "duration": 5,
    "start_time": "2022-11-04T11:52:28.658Z"
   },
   {
    "duration": 1495,
    "start_time": "2022-11-04T11:52:28.664Z"
   },
   {
    "duration": 32,
    "start_time": "2022-11-04T11:52:30.161Z"
   },
   {
    "duration": 9,
    "start_time": "2022-11-04T11:52:30.194Z"
   },
   {
    "duration": 28,
    "start_time": "2022-11-04T11:52:30.204Z"
   },
   {
    "duration": 18,
    "start_time": "2022-11-04T11:52:30.233Z"
   },
   {
    "duration": 16,
    "start_time": "2022-11-04T11:52:30.252Z"
   },
   {
    "duration": 8,
    "start_time": "2022-11-04T11:52:30.269Z"
   },
   {
    "duration": 31,
    "start_time": "2022-11-04T11:52:30.278Z"
   },
   {
    "duration": 8,
    "start_time": "2022-11-04T11:52:30.310Z"
   },
   {
    "duration": 15,
    "start_time": "2022-11-04T11:52:30.319Z"
   },
   {
    "duration": 16,
    "start_time": "2022-11-04T11:52:30.335Z"
   },
   {
    "duration": 71,
    "start_time": "2022-11-04T11:52:30.353Z"
   },
   {
    "duration": 120,
    "start_time": "2022-11-04T11:52:30.426Z"
   },
   {
    "duration": 111,
    "start_time": "2022-11-04T11:52:30.624Z"
   },
   {
    "duration": 4,
    "start_time": "2022-11-04T11:52:30.736Z"
   },
   {
    "duration": 12,
    "start_time": "2022-11-04T11:52:30.742Z"
   },
   {
    "duration": 41,
    "start_time": "2022-11-04T11:52:30.755Z"
   },
   {
    "duration": 11,
    "start_time": "2022-11-04T11:52:30.800Z"
   },
   {
    "duration": 25,
    "start_time": "2022-11-04T11:52:30.813Z"
   },
   {
    "duration": 84,
    "start_time": "2022-11-04T11:52:30.839Z"
   },
   {
    "duration": 339,
    "start_time": "2022-11-04T11:52:30.925Z"
   },
   {
    "duration": 1463,
    "start_time": "2022-11-04T13:34:58.564Z"
   },
   {
    "duration": 358,
    "start_time": "2022-11-04T13:35:00.029Z"
   },
   {
    "duration": 12,
    "start_time": "2022-11-04T13:35:00.389Z"
   },
   {
    "duration": 43,
    "start_time": "2022-11-04T13:35:00.402Z"
   },
   {
    "duration": 1777,
    "start_time": "2022-11-04T13:35:00.447Z"
   },
   {
    "duration": 38,
    "start_time": "2022-11-04T13:35:02.226Z"
   },
   {
    "duration": 174,
    "start_time": "2022-11-04T13:35:02.265Z"
   },
   {
    "duration": 5,
    "start_time": "2022-11-04T13:35:02.441Z"
   },
   {
    "duration": 14,
    "start_time": "2022-11-04T13:35:02.449Z"
   },
   {
    "duration": 22,
    "start_time": "2022-11-04T13:35:02.465Z"
   },
   {
    "duration": 1434,
    "start_time": "2022-11-04T13:35:02.489Z"
   },
   {
    "duration": 31,
    "start_time": "2022-11-04T13:35:03.925Z"
   },
   {
    "duration": 20,
    "start_time": "2022-11-04T13:35:03.957Z"
   },
   {
    "duration": 10,
    "start_time": "2022-11-04T13:35:03.980Z"
   },
   {
    "duration": 9,
    "start_time": "2022-11-04T13:35:03.991Z"
   },
   {
    "duration": 20,
    "start_time": "2022-11-04T13:35:04.002Z"
   },
   {
    "duration": 9,
    "start_time": "2022-11-04T13:35:04.024Z"
   },
   {
    "duration": 27,
    "start_time": "2022-11-04T13:35:04.034Z"
   },
   {
    "duration": 10,
    "start_time": "2022-11-04T13:35:04.062Z"
   },
   {
    "duration": 21,
    "start_time": "2022-11-04T13:35:04.073Z"
   },
   {
    "duration": 19,
    "start_time": "2022-11-04T13:35:04.095Z"
   },
   {
    "duration": 63,
    "start_time": "2022-11-04T13:35:04.115Z"
   },
   {
    "duration": 198,
    "start_time": "2022-11-04T13:35:04.180Z"
   },
   {
    "duration": 97,
    "start_time": "2022-11-04T13:35:04.380Z"
   },
   {
    "duration": 6,
    "start_time": "2022-11-04T13:35:04.479Z"
   },
   {
    "duration": 14,
    "start_time": "2022-11-04T13:35:04.486Z"
   },
   {
    "duration": 23,
    "start_time": "2022-11-04T13:35:04.502Z"
   },
   {
    "duration": 11,
    "start_time": "2022-11-04T13:35:04.527Z"
   },
   {
    "duration": 4,
    "start_time": "2022-11-04T13:35:04.539Z"
   },
   {
    "duration": 55,
    "start_time": "2022-11-04T13:35:04.544Z"
   },
   {
    "duration": 389,
    "start_time": "2022-11-04T13:35:04.601Z"
   },
   {
    "duration": 383441,
    "start_time": "2022-11-04T13:35:04.992Z"
   },
   {
    "duration": 0,
    "start_time": "2022-11-04T13:41:28.435Z"
   },
   {
    "duration": 0,
    "start_time": "2022-11-04T13:41:28.436Z"
   },
   {
    "duration": 0,
    "start_time": "2022-11-04T13:41:28.438Z"
   },
   {
    "duration": 1219,
    "start_time": "2022-11-04T13:41:34.822Z"
   },
   {
    "duration": 39,
    "start_time": "2022-11-04T13:41:36.042Z"
   },
   {
    "duration": 12,
    "start_time": "2022-11-04T13:41:36.082Z"
   },
   {
    "duration": 14,
    "start_time": "2022-11-04T13:41:36.095Z"
   },
   {
    "duration": 1797,
    "start_time": "2022-11-04T13:41:36.111Z"
   },
   {
    "duration": 44,
    "start_time": "2022-11-04T13:41:37.912Z"
   },
   {
    "duration": 166,
    "start_time": "2022-11-04T13:41:37.958Z"
   },
   {
    "duration": 4,
    "start_time": "2022-11-04T13:41:38.126Z"
   },
   {
    "duration": 9,
    "start_time": "2022-11-04T13:41:38.132Z"
   },
   {
    "duration": 3,
    "start_time": "2022-11-04T13:41:38.143Z"
   },
   {
    "duration": 1356,
    "start_time": "2022-11-04T13:41:38.147Z"
   },
   {
    "duration": 32,
    "start_time": "2022-11-04T13:41:39.504Z"
   },
   {
    "duration": 9,
    "start_time": "2022-11-04T13:41:39.537Z"
   },
   {
    "duration": 9,
    "start_time": "2022-11-04T13:41:39.548Z"
   },
   {
    "duration": 4,
    "start_time": "2022-11-04T13:41:39.577Z"
   },
   {
    "duration": 7,
    "start_time": "2022-11-04T13:41:39.582Z"
   },
   {
    "duration": 7,
    "start_time": "2022-11-04T13:41:39.590Z"
   },
   {
    "duration": 17,
    "start_time": "2022-11-04T13:41:39.599Z"
   },
   {
    "duration": 8,
    "start_time": "2022-11-04T13:41:39.618Z"
   },
   {
    "duration": 11,
    "start_time": "2022-11-04T13:41:39.627Z"
   },
   {
    "duration": 11,
    "start_time": "2022-11-04T13:41:39.640Z"
   },
   {
    "duration": 46,
    "start_time": "2022-11-04T13:41:39.652Z"
   },
   {
    "duration": 185,
    "start_time": "2022-11-04T13:41:39.700Z"
   },
   {
    "duration": 194,
    "start_time": "2022-11-04T13:41:39.887Z"
   },
   {
    "duration": 5,
    "start_time": "2022-11-04T13:41:40.083Z"
   },
   {
    "duration": 12,
    "start_time": "2022-11-04T13:41:40.089Z"
   },
   {
    "duration": 23,
    "start_time": "2022-11-04T13:41:40.103Z"
   },
   {
    "duration": 11,
    "start_time": "2022-11-04T13:41:40.127Z"
   },
   {
    "duration": 4,
    "start_time": "2022-11-04T13:41:40.139Z"
   },
   {
    "duration": 103,
    "start_time": "2022-11-04T13:41:40.178Z"
   },
   {
    "duration": 359,
    "start_time": "2022-11-04T13:41:40.283Z"
   },
   {
    "duration": 2086,
    "start_time": "2022-11-04T13:41:40.643Z"
   },
   {
    "duration": 0,
    "start_time": "2022-11-04T13:41:42.731Z"
   },
   {
    "duration": 0,
    "start_time": "2022-11-04T13:41:42.732Z"
   },
   {
    "duration": 0,
    "start_time": "2022-11-04T13:41:42.734Z"
   },
   {
    "duration": 2025,
    "start_time": "2022-11-04T13:43:46.596Z"
   },
   {
    "duration": 11,
    "start_time": "2022-11-04T13:44:05.946Z"
   },
   {
    "duration": 5,
    "start_time": "2022-11-04T13:44:07.001Z"
   },
   {
    "duration": 21,
    "start_time": "2022-11-04T13:44:07.945Z"
   },
   {
    "duration": 129,
    "start_time": "2022-11-04T13:45:00.637Z"
   },
   {
    "duration": 839,
    "start_time": "2022-11-04T13:46:00.122Z"
   },
   {
    "duration": 302653,
    "start_time": "2022-11-04T13:47:24.391Z"
   },
   {
    "duration": 1270,
    "start_time": "2022-11-04T13:53:11.375Z"
   },
   {
    "duration": 39,
    "start_time": "2022-11-04T13:53:12.647Z"
   },
   {
    "duration": 12,
    "start_time": "2022-11-04T13:53:12.688Z"
   },
   {
    "duration": 16,
    "start_time": "2022-11-04T13:53:12.702Z"
   },
   {
    "duration": 1751,
    "start_time": "2022-11-04T13:53:12.720Z"
   },
   {
    "duration": 44,
    "start_time": "2022-11-04T13:53:14.473Z"
   },
   {
    "duration": 150,
    "start_time": "2022-11-04T13:53:14.519Z"
   },
   {
    "duration": 7,
    "start_time": "2022-11-04T13:53:14.671Z"
   },
   {
    "duration": 15,
    "start_time": "2022-11-04T13:53:14.680Z"
   },
   {
    "duration": 3,
    "start_time": "2022-11-04T13:53:14.697Z"
   },
   {
    "duration": 1343,
    "start_time": "2022-11-04T13:53:14.701Z"
   },
   {
    "duration": 39,
    "start_time": "2022-11-04T13:53:16.046Z"
   },
   {
    "duration": 10,
    "start_time": "2022-11-04T13:53:16.087Z"
   },
   {
    "duration": 11,
    "start_time": "2022-11-04T13:53:16.098Z"
   },
   {
    "duration": 5,
    "start_time": "2022-11-04T13:53:16.111Z"
   },
   {
    "duration": 6,
    "start_time": "2022-11-04T13:53:16.117Z"
   },
   {
    "duration": 7,
    "start_time": "2022-11-04T13:53:16.125Z"
   },
   {
    "duration": 43,
    "start_time": "2022-11-04T13:53:16.134Z"
   },
   {
    "duration": 10,
    "start_time": "2022-11-04T13:53:16.179Z"
   },
   {
    "duration": 12,
    "start_time": "2022-11-04T13:53:16.191Z"
   },
   {
    "duration": 11,
    "start_time": "2022-11-04T13:53:16.204Z"
   },
   {
    "duration": 67,
    "start_time": "2022-11-04T13:53:16.216Z"
   },
   {
    "duration": 191,
    "start_time": "2022-11-04T13:53:16.287Z"
   },
   {
    "duration": 97,
    "start_time": "2022-11-04T13:53:16.480Z"
   },
   {
    "duration": 5,
    "start_time": "2022-11-04T13:53:16.579Z"
   },
   {
    "duration": 11,
    "start_time": "2022-11-04T13:53:16.585Z"
   },
   {
    "duration": 22,
    "start_time": "2022-11-04T13:53:16.597Z"
   },
   {
    "duration": 10,
    "start_time": "2022-11-04T13:53:16.622Z"
   },
   {
    "duration": 4,
    "start_time": "2022-11-04T13:53:16.633Z"
   },
   {
    "duration": 54,
    "start_time": "2022-11-04T13:53:16.638Z"
   },
   {
    "duration": 403,
    "start_time": "2022-11-04T13:53:16.694Z"
   },
   {
    "duration": 1966,
    "start_time": "2022-11-04T13:53:17.098Z"
   },
   {
    "duration": 13,
    "start_time": "2022-11-04T13:53:19.066Z"
   },
   {
    "duration": 3,
    "start_time": "2022-11-04T13:53:19.080Z"
   },
   {
    "duration": 17,
    "start_time": "2022-11-04T13:53:19.085Z"
   },
   {
    "duration": 293,
    "start_time": "2022-11-04T13:53:19.104Z"
   },
   {
    "duration": 205400,
    "start_time": "2022-11-04T13:53:19.398Z"
   },
   {
    "duration": 1255,
    "start_time": "2022-11-04T14:01:12.792Z"
   },
   {
    "duration": 38,
    "start_time": "2022-11-04T14:01:14.049Z"
   },
   {
    "duration": 12,
    "start_time": "2022-11-04T14:01:14.088Z"
   },
   {
    "duration": 16,
    "start_time": "2022-11-04T14:01:14.102Z"
   },
   {
    "duration": 1701,
    "start_time": "2022-11-04T14:01:14.120Z"
   },
   {
    "duration": 43,
    "start_time": "2022-11-04T14:01:15.822Z"
   },
   {
    "duration": 160,
    "start_time": "2022-11-04T14:01:15.866Z"
   },
   {
    "duration": 6,
    "start_time": "2022-11-04T14:01:16.027Z"
   },
   {
    "duration": 15,
    "start_time": "2022-11-04T14:01:16.034Z"
   },
   {
    "duration": 3,
    "start_time": "2022-11-04T14:01:16.051Z"
   },
   {
    "duration": 1384,
    "start_time": "2022-11-04T14:01:16.056Z"
   },
   {
    "duration": 37,
    "start_time": "2022-11-04T14:01:17.441Z"
   },
   {
    "duration": 9,
    "start_time": "2022-11-04T14:01:17.479Z"
   },
   {
    "duration": 11,
    "start_time": "2022-11-04T14:01:17.490Z"
   },
   {
    "duration": 7,
    "start_time": "2022-11-04T14:01:17.503Z"
   },
   {
    "duration": 7,
    "start_time": "2022-11-04T14:01:17.511Z"
   },
   {
    "duration": 7,
    "start_time": "2022-11-04T14:01:17.519Z"
   },
   {
    "duration": 17,
    "start_time": "2022-11-04T14:01:17.527Z"
   },
   {
    "duration": 8,
    "start_time": "2022-11-04T14:01:17.545Z"
   },
   {
    "duration": 31,
    "start_time": "2022-11-04T14:01:17.555Z"
   },
   {
    "duration": 12,
    "start_time": "2022-11-04T14:01:17.588Z"
   },
   {
    "duration": 77,
    "start_time": "2022-11-04T14:01:17.601Z"
   },
   {
    "duration": 111,
    "start_time": "2022-11-04T14:01:17.680Z"
   },
   {
    "duration": 184,
    "start_time": "2022-11-04T14:01:17.793Z"
   },
   {
    "duration": 5,
    "start_time": "2022-11-04T14:01:17.979Z"
   },
   {
    "duration": 12,
    "start_time": "2022-11-04T14:01:17.985Z"
   },
   {
    "duration": 23,
    "start_time": "2022-11-04T14:01:17.999Z"
   },
   {
    "duration": 11,
    "start_time": "2022-11-04T14:01:18.023Z"
   },
   {
    "duration": 4,
    "start_time": "2022-11-04T14:01:18.035Z"
   },
   {
    "duration": 63,
    "start_time": "2022-11-04T14:01:18.040Z"
   },
   {
    "duration": 413,
    "start_time": "2022-11-04T14:01:18.104Z"
   },
   {
    "duration": 1923,
    "start_time": "2022-11-04T14:01:18.519Z"
   },
   {
    "duration": 10,
    "start_time": "2022-11-04T14:01:20.444Z"
   },
   {
    "duration": 4,
    "start_time": "2022-11-04T14:01:20.455Z"
   },
   {
    "duration": 34,
    "start_time": "2022-11-04T14:01:20.460Z"
   },
   {
    "duration": 221,
    "start_time": "2022-11-04T14:01:20.584Z"
   },
   {
    "duration": 908,
    "start_time": "2022-11-04T14:01:20.807Z"
   },
   {
    "duration": 1293,
    "start_time": "2022-11-04T14:02:09.774Z"
   },
   {
    "duration": 39,
    "start_time": "2022-11-04T14:02:11.068Z"
   },
   {
    "duration": 13,
    "start_time": "2022-11-04T14:02:11.108Z"
   },
   {
    "duration": 14,
    "start_time": "2022-11-04T14:02:11.123Z"
   },
   {
    "duration": 1861,
    "start_time": "2022-11-04T14:02:11.139Z"
   },
   {
    "duration": 40,
    "start_time": "2022-11-04T14:02:13.002Z"
   },
   {
    "duration": 152,
    "start_time": "2022-11-04T14:02:13.044Z"
   },
   {
    "duration": 4,
    "start_time": "2022-11-04T14:02:13.198Z"
   },
   {
    "duration": 9,
    "start_time": "2022-11-04T14:02:13.203Z"
   },
   {
    "duration": 6,
    "start_time": "2022-11-04T14:02:13.214Z"
   },
   {
    "duration": 1342,
    "start_time": "2022-11-04T14:02:13.221Z"
   },
   {
    "duration": 38,
    "start_time": "2022-11-04T14:02:14.565Z"
   },
   {
    "duration": 8,
    "start_time": "2022-11-04T14:02:14.605Z"
   },
   {
    "duration": 17,
    "start_time": "2022-11-04T14:02:14.615Z"
   },
   {
    "duration": 5,
    "start_time": "2022-11-04T14:02:14.633Z"
   },
   {
    "duration": 5,
    "start_time": "2022-11-04T14:02:14.639Z"
   },
   {
    "duration": 6,
    "start_time": "2022-11-04T14:02:14.646Z"
   },
   {
    "duration": 27,
    "start_time": "2022-11-04T14:02:14.653Z"
   },
   {
    "duration": 11,
    "start_time": "2022-11-04T14:02:14.682Z"
   },
   {
    "duration": 11,
    "start_time": "2022-11-04T14:02:14.695Z"
   },
   {
    "duration": 11,
    "start_time": "2022-11-04T14:02:14.707Z"
   },
   {
    "duration": 64,
    "start_time": "2022-11-04T14:02:14.720Z"
   },
   {
    "duration": 198,
    "start_time": "2022-11-04T14:02:14.785Z"
   },
   {
    "duration": 98,
    "start_time": "2022-11-04T14:02:14.985Z"
   },
   {
    "duration": 4,
    "start_time": "2022-11-04T14:02:15.085Z"
   },
   {
    "duration": 11,
    "start_time": "2022-11-04T14:02:15.091Z"
   },
   {
    "duration": 27,
    "start_time": "2022-11-04T14:02:15.103Z"
   },
   {
    "duration": 13,
    "start_time": "2022-11-04T14:02:15.133Z"
   },
   {
    "duration": 4,
    "start_time": "2022-11-04T14:02:15.178Z"
   },
   {
    "duration": 94,
    "start_time": "2022-11-04T14:02:15.184Z"
   },
   {
    "duration": 325,
    "start_time": "2022-11-04T14:02:15.287Z"
   },
   {
    "duration": 1984,
    "start_time": "2022-11-04T14:02:15.614Z"
   },
   {
    "duration": 11,
    "start_time": "2022-11-04T14:02:17.599Z"
   },
   {
    "duration": 4,
    "start_time": "2022-11-04T14:02:17.611Z"
   },
   {
    "duration": 66,
    "start_time": "2022-11-04T14:02:17.616Z"
   },
   {
    "duration": 272,
    "start_time": "2022-11-04T14:02:17.683Z"
   },
   {
    "duration": 873,
    "start_time": "2022-11-04T14:02:17.958Z"
   },
   {
    "duration": 99,
    "start_time": "2022-11-04T14:05:09.125Z"
   },
   {
    "duration": 4,
    "start_time": "2022-11-04T14:05:29.580Z"
   },
   {
    "duration": 1278,
    "start_time": "2022-11-04T14:09:22.483Z"
   },
   {
    "duration": 39,
    "start_time": "2022-11-04T14:09:23.762Z"
   },
   {
    "duration": 13,
    "start_time": "2022-11-04T14:09:23.802Z"
   },
   {
    "duration": 14,
    "start_time": "2022-11-04T14:09:23.816Z"
   },
   {
    "duration": 1723,
    "start_time": "2022-11-04T14:09:23.832Z"
   },
   {
    "duration": 48,
    "start_time": "2022-11-04T14:09:25.557Z"
   },
   {
    "duration": 144,
    "start_time": "2022-11-04T14:09:25.607Z"
   },
   {
    "duration": 4,
    "start_time": "2022-11-04T14:09:25.753Z"
   },
   {
    "duration": 18,
    "start_time": "2022-11-04T14:09:25.759Z"
   },
   {
    "duration": 3,
    "start_time": "2022-11-04T14:09:25.778Z"
   },
   {
    "duration": 1351,
    "start_time": "2022-11-04T14:09:25.783Z"
   },
   {
    "duration": 43,
    "start_time": "2022-11-04T14:09:27.137Z"
   },
   {
    "duration": 10,
    "start_time": "2022-11-04T14:09:27.182Z"
   },
   {
    "duration": 10,
    "start_time": "2022-11-04T14:09:27.196Z"
   },
   {
    "duration": 5,
    "start_time": "2022-11-04T14:09:27.208Z"
   },
   {
    "duration": 5,
    "start_time": "2022-11-04T14:09:27.215Z"
   },
   {
    "duration": 7,
    "start_time": "2022-11-04T14:09:27.222Z"
   },
   {
    "duration": 13,
    "start_time": "2022-11-04T14:09:27.231Z"
   },
   {
    "duration": 40,
    "start_time": "2022-11-04T14:09:27.246Z"
   },
   {
    "duration": 12,
    "start_time": "2022-11-04T14:09:27.287Z"
   },
   {
    "duration": 13,
    "start_time": "2022-11-04T14:09:27.301Z"
   },
   {
    "duration": 70,
    "start_time": "2022-11-04T14:09:27.315Z"
   },
   {
    "duration": 191,
    "start_time": "2022-11-04T14:09:27.387Z"
   },
   {
    "duration": 103,
    "start_time": "2022-11-04T14:09:27.580Z"
   },
   {
    "duration": 10,
    "start_time": "2022-11-04T14:09:27.686Z"
   },
   {
    "duration": 18,
    "start_time": "2022-11-04T14:09:27.698Z"
   },
   {
    "duration": 53,
    "start_time": "2022-11-04T14:09:27.718Z"
   },
   {
    "duration": 15,
    "start_time": "2022-11-04T14:09:27.774Z"
   },
   {
    "duration": 14,
    "start_time": "2022-11-04T14:09:27.791Z"
   },
   {
    "duration": 76,
    "start_time": "2022-11-04T14:09:27.807Z"
   },
   {
    "duration": 415,
    "start_time": "2022-11-04T14:09:27.885Z"
   },
   {
    "duration": 1917,
    "start_time": "2022-11-04T14:09:28.301Z"
   },
   {
    "duration": 11,
    "start_time": "2022-11-04T14:09:30.220Z"
   },
   {
    "duration": 16,
    "start_time": "2022-11-04T14:09:30.232Z"
   },
   {
    "duration": 34,
    "start_time": "2022-11-04T14:09:30.250Z"
   },
   {
    "duration": 311,
    "start_time": "2022-11-04T14:09:30.286Z"
   },
   {
    "duration": 834,
    "start_time": "2022-11-04T14:09:30.599Z"
   },
   {
    "duration": 11,
    "start_time": "2022-11-04T14:09:31.435Z"
   },
   {
    "duration": 5,
    "start_time": "2022-11-04T14:09:31.447Z"
   },
   {
    "duration": 1551,
    "start_time": "2022-11-04T14:10:22.675Z"
   },
   {
    "duration": 91,
    "start_time": "2022-11-04T14:14:18.703Z"
   },
   {
    "duration": 1244,
    "start_time": "2022-11-04T14:14:27.128Z"
   },
   {
    "duration": 39,
    "start_time": "2022-11-04T14:14:28.374Z"
   },
   {
    "duration": 12,
    "start_time": "2022-11-04T14:14:28.415Z"
   },
   {
    "duration": 17,
    "start_time": "2022-11-04T14:14:28.429Z"
   },
   {
    "duration": 1723,
    "start_time": "2022-11-04T14:14:28.448Z"
   },
   {
    "duration": 39,
    "start_time": "2022-11-04T14:14:30.172Z"
   },
   {
    "duration": 157,
    "start_time": "2022-11-04T14:14:30.213Z"
   },
   {
    "duration": 7,
    "start_time": "2022-11-04T14:14:30.371Z"
   },
   {
    "duration": 22,
    "start_time": "2022-11-04T14:14:30.379Z"
   },
   {
    "duration": 10,
    "start_time": "2022-11-04T14:14:30.403Z"
   },
   {
    "duration": 1436,
    "start_time": "2022-11-04T14:14:30.415Z"
   },
   {
    "duration": 40,
    "start_time": "2022-11-04T14:14:31.853Z"
   },
   {
    "duration": 9,
    "start_time": "2022-11-04T14:14:31.895Z"
   },
   {
    "duration": 10,
    "start_time": "2022-11-04T14:14:31.906Z"
   },
   {
    "duration": 18,
    "start_time": "2022-11-04T14:14:31.918Z"
   },
   {
    "duration": 6,
    "start_time": "2022-11-04T14:14:31.938Z"
   },
   {
    "duration": 10,
    "start_time": "2022-11-04T14:14:31.946Z"
   },
   {
    "duration": 21,
    "start_time": "2022-11-04T14:14:31.958Z"
   },
   {
    "duration": 9,
    "start_time": "2022-11-04T14:14:31.980Z"
   },
   {
    "duration": 13,
    "start_time": "2022-11-04T14:14:31.990Z"
   },
   {
    "duration": 15,
    "start_time": "2022-11-04T14:14:32.004Z"
   },
   {
    "duration": 62,
    "start_time": "2022-11-04T14:14:32.021Z"
   },
   {
    "duration": 112,
    "start_time": "2022-11-04T14:14:32.085Z"
   },
   {
    "duration": 99,
    "start_time": "2022-11-04T14:14:32.278Z"
   },
   {
    "duration": 5,
    "start_time": "2022-11-04T14:14:32.380Z"
   },
   {
    "duration": 12,
    "start_time": "2022-11-04T14:14:32.386Z"
   },
   {
    "duration": 23,
    "start_time": "2022-11-04T14:14:32.400Z"
   },
   {
    "duration": 9,
    "start_time": "2022-11-04T14:14:32.424Z"
   },
   {
    "duration": 4,
    "start_time": "2022-11-04T14:14:32.435Z"
   },
   {
    "duration": 58,
    "start_time": "2022-11-04T14:14:32.440Z"
   },
   {
    "duration": 422,
    "start_time": "2022-11-04T14:14:32.500Z"
   },
   {
    "duration": 1885,
    "start_time": "2022-11-04T14:14:32.924Z"
   },
   {
    "duration": 11,
    "start_time": "2022-11-04T14:14:34.811Z"
   },
   {
    "duration": 4,
    "start_time": "2022-11-04T14:14:34.823Z"
   },
   {
    "duration": 53,
    "start_time": "2022-11-04T14:14:34.829Z"
   },
   {
    "duration": 306,
    "start_time": "2022-11-04T14:14:34.883Z"
   },
   {
    "duration": 845,
    "start_time": "2022-11-04T14:14:35.190Z"
   },
   {
    "duration": 102,
    "start_time": "2022-11-04T14:14:36.036Z"
   },
   {
    "duration": 1205,
    "start_time": "2022-11-04T14:17:13.142Z"
   },
   {
    "duration": 38,
    "start_time": "2022-11-04T14:17:14.349Z"
   },
   {
    "duration": 11,
    "start_time": "2022-11-04T14:17:14.389Z"
   },
   {
    "duration": 27,
    "start_time": "2022-11-04T14:17:14.401Z"
   },
   {
    "duration": 1697,
    "start_time": "2022-11-04T14:17:14.430Z"
   },
   {
    "duration": 39,
    "start_time": "2022-11-04T14:17:16.129Z"
   },
   {
    "duration": 150,
    "start_time": "2022-11-04T14:17:16.177Z"
   },
   {
    "duration": 4,
    "start_time": "2022-11-04T14:17:16.328Z"
   },
   {
    "duration": 13,
    "start_time": "2022-11-04T14:17:16.333Z"
   },
   {
    "duration": 3,
    "start_time": "2022-11-04T14:17:16.347Z"
   },
   {
    "duration": 1417,
    "start_time": "2022-11-04T14:17:16.352Z"
   },
   {
    "duration": 43,
    "start_time": "2022-11-04T14:17:17.776Z"
   },
   {
    "duration": 11,
    "start_time": "2022-11-04T14:17:17.821Z"
   },
   {
    "duration": 16,
    "start_time": "2022-11-04T14:17:17.835Z"
   },
   {
    "duration": 27,
    "start_time": "2022-11-04T14:17:17.853Z"
   },
   {
    "duration": 16,
    "start_time": "2022-11-04T14:17:17.883Z"
   },
   {
    "duration": 17,
    "start_time": "2022-11-04T14:17:17.901Z"
   },
   {
    "duration": 20,
    "start_time": "2022-11-04T14:17:17.920Z"
   },
   {
    "duration": 13,
    "start_time": "2022-11-04T14:17:17.942Z"
   },
   {
    "duration": 19,
    "start_time": "2022-11-04T14:17:17.956Z"
   },
   {
    "duration": 20,
    "start_time": "2022-11-04T14:17:17.976Z"
   },
   {
    "duration": 82,
    "start_time": "2022-11-04T14:17:17.998Z"
   },
   {
    "duration": 109,
    "start_time": "2022-11-04T14:17:18.082Z"
   },
   {
    "duration": 193,
    "start_time": "2022-11-04T14:17:18.192Z"
   },
   {
    "duration": 6,
    "start_time": "2022-11-04T14:17:18.387Z"
   },
   {
    "duration": 9,
    "start_time": "2022-11-04T14:17:18.395Z"
   },
   {
    "duration": 23,
    "start_time": "2022-11-04T14:17:18.405Z"
   },
   {
    "duration": 10,
    "start_time": "2022-11-04T14:17:18.430Z"
   },
   {
    "duration": 4,
    "start_time": "2022-11-04T14:17:18.441Z"
   },
   {
    "duration": 30,
    "start_time": "2022-11-04T14:17:18.476Z"
   },
   {
    "duration": 317,
    "start_time": "2022-11-04T14:17:18.578Z"
   },
   {
    "duration": 1911,
    "start_time": "2022-11-04T14:17:18.897Z"
   },
   {
    "duration": 12,
    "start_time": "2022-11-04T14:17:20.810Z"
   },
   {
    "duration": 5,
    "start_time": "2022-11-04T14:17:20.823Z"
   },
   {
    "duration": 53,
    "start_time": "2022-11-04T14:17:20.830Z"
   },
   {
    "duration": 302,
    "start_time": "2022-11-04T14:17:20.884Z"
   },
   {
    "duration": 837,
    "start_time": "2022-11-04T14:17:21.188Z"
   },
   {
    "duration": 209,
    "start_time": "2022-11-04T14:17:22.027Z"
   },
   {
    "duration": 1292,
    "start_time": "2022-11-04T14:18:20.458Z"
   },
   {
    "duration": 39,
    "start_time": "2022-11-04T14:18:21.752Z"
   },
   {
    "duration": 13,
    "start_time": "2022-11-04T14:18:21.793Z"
   },
   {
    "duration": 14,
    "start_time": "2022-11-04T14:18:21.807Z"
   },
   {
    "duration": 1700,
    "start_time": "2022-11-04T14:18:21.824Z"
   },
   {
    "duration": 36,
    "start_time": "2022-11-04T14:18:23.525Z"
   },
   {
    "duration": 145,
    "start_time": "2022-11-04T14:18:23.562Z"
   },
   {
    "duration": 4,
    "start_time": "2022-11-04T14:18:23.708Z"
   },
   {
    "duration": 7,
    "start_time": "2022-11-04T14:18:23.714Z"
   },
   {
    "duration": 3,
    "start_time": "2022-11-04T14:18:23.723Z"
   },
   {
    "duration": 1356,
    "start_time": "2022-11-04T14:18:23.727Z"
   },
   {
    "duration": 31,
    "start_time": "2022-11-04T14:18:25.085Z"
   },
   {
    "duration": 8,
    "start_time": "2022-11-04T14:18:25.118Z"
   },
   {
    "duration": 9,
    "start_time": "2022-11-04T14:18:25.129Z"
   },
   {
    "duration": 6,
    "start_time": "2022-11-04T14:18:25.140Z"
   },
   {
    "duration": 30,
    "start_time": "2022-11-04T14:18:25.147Z"
   },
   {
    "duration": 7,
    "start_time": "2022-11-04T14:18:25.178Z"
   },
   {
    "duration": 12,
    "start_time": "2022-11-04T14:18:25.186Z"
   },
   {
    "duration": 8,
    "start_time": "2022-11-04T14:18:25.200Z"
   },
   {
    "duration": 10,
    "start_time": "2022-11-04T14:18:25.209Z"
   },
   {
    "duration": 11,
    "start_time": "2022-11-04T14:18:25.221Z"
   },
   {
    "duration": 56,
    "start_time": "2022-11-04T14:18:25.233Z"
   },
   {
    "duration": 116,
    "start_time": "2022-11-04T14:18:25.378Z"
   },
   {
    "duration": 90,
    "start_time": "2022-11-04T14:18:25.496Z"
   },
   {
    "duration": 91,
    "start_time": "2022-11-04T14:18:25.587Z"
   },
   {
    "duration": 8,
    "start_time": "2022-11-04T14:18:25.680Z"
   },
   {
    "duration": 23,
    "start_time": "2022-11-04T14:18:25.690Z"
   },
   {
    "duration": 10,
    "start_time": "2022-11-04T14:18:25.715Z"
   },
   {
    "duration": 3,
    "start_time": "2022-11-04T14:18:25.727Z"
   },
   {
    "duration": 54,
    "start_time": "2022-11-04T14:18:25.731Z"
   },
   {
    "duration": 412,
    "start_time": "2022-11-04T14:18:25.786Z"
   },
   {
    "duration": 2006,
    "start_time": "2022-11-04T14:18:26.200Z"
   },
   {
    "duration": 10,
    "start_time": "2022-11-04T14:18:28.208Z"
   },
   {
    "duration": 6,
    "start_time": "2022-11-04T14:18:28.220Z"
   },
   {
    "duration": 56,
    "start_time": "2022-11-04T14:18:28.227Z"
   },
   {
    "duration": 238,
    "start_time": "2022-11-04T14:18:28.285Z"
   },
   {
    "duration": 843,
    "start_time": "2022-11-04T14:18:28.525Z"
   },
   {
    "duration": 241,
    "start_time": "2022-11-04T14:18:29.369Z"
   },
   {
    "duration": 1293,
    "start_time": "2022-11-04T14:20:01.259Z"
   },
   {
    "duration": 38,
    "start_time": "2022-11-04T14:20:02.554Z"
   },
   {
    "duration": 11,
    "start_time": "2022-11-04T14:20:02.594Z"
   },
   {
    "duration": 14,
    "start_time": "2022-11-04T14:20:02.606Z"
   },
   {
    "duration": 1767,
    "start_time": "2022-11-04T14:20:02.621Z"
   },
   {
    "duration": 38,
    "start_time": "2022-11-04T14:20:04.389Z"
   },
   {
    "duration": 159,
    "start_time": "2022-11-04T14:20:04.429Z"
   },
   {
    "duration": 5,
    "start_time": "2022-11-04T14:20:04.589Z"
   },
   {
    "duration": 8,
    "start_time": "2022-11-04T14:20:04.595Z"
   },
   {
    "duration": 4,
    "start_time": "2022-11-04T14:20:04.605Z"
   },
   {
    "duration": 1418,
    "start_time": "2022-11-04T14:20:04.610Z"
   },
   {
    "duration": 31,
    "start_time": "2022-11-04T14:20:06.029Z"
   },
   {
    "duration": 20,
    "start_time": "2022-11-04T14:20:06.062Z"
   },
   {
    "duration": 12,
    "start_time": "2022-11-04T14:20:06.085Z"
   },
   {
    "duration": 6,
    "start_time": "2022-11-04T14:20:06.099Z"
   },
   {
    "duration": 8,
    "start_time": "2022-11-04T14:20:06.106Z"
   },
   {
    "duration": 8,
    "start_time": "2022-11-04T14:20:06.116Z"
   },
   {
    "duration": 14,
    "start_time": "2022-11-04T14:20:06.125Z"
   },
   {
    "duration": 9,
    "start_time": "2022-11-04T14:20:06.140Z"
   },
   {
    "duration": 31,
    "start_time": "2022-11-04T14:20:06.151Z"
   },
   {
    "duration": 12,
    "start_time": "2022-11-04T14:20:06.184Z"
   },
   {
    "duration": 185,
    "start_time": "2022-11-04T14:20:06.197Z"
   },
   {
    "duration": 112,
    "start_time": "2022-11-04T14:20:06.385Z"
   },
   {
    "duration": 181,
    "start_time": "2022-11-04T14:20:06.499Z"
   },
   {
    "duration": 13,
    "start_time": "2022-11-04T14:20:06.681Z"
   },
   {
    "duration": 13,
    "start_time": "2022-11-04T14:20:06.696Z"
   },
   {
    "duration": 23,
    "start_time": "2022-11-04T14:20:06.711Z"
   },
   {
    "duration": 10,
    "start_time": "2022-11-04T14:20:06.736Z"
   },
   {
    "duration": 19,
    "start_time": "2022-11-04T14:20:06.748Z"
   },
   {
    "duration": 110,
    "start_time": "2022-11-04T14:20:06.768Z"
   },
   {
    "duration": 312,
    "start_time": "2022-11-04T14:20:06.880Z"
   },
   {
    "duration": 1943,
    "start_time": "2022-11-04T14:20:07.193Z"
   },
   {
    "duration": 12,
    "start_time": "2022-11-04T14:20:09.137Z"
   },
   {
    "duration": 4,
    "start_time": "2022-11-04T14:20:09.150Z"
   },
   {
    "duration": 32,
    "start_time": "2022-11-04T14:20:09.155Z"
   },
   {
    "duration": 308,
    "start_time": "2022-11-04T14:20:09.189Z"
   },
   {
    "duration": 830,
    "start_time": "2022-11-04T14:20:09.498Z"
   },
   {
    "duration": 213,
    "start_time": "2022-11-04T14:20:10.329Z"
   },
   {
    "duration": 1526,
    "start_time": "2022-11-07T02:50:12.152Z"
   },
   {
    "duration": 97,
    "start_time": "2022-11-07T02:50:13.680Z"
   },
   {
    "duration": 14,
    "start_time": "2022-11-07T02:50:13.778Z"
   },
   {
    "duration": 19,
    "start_time": "2022-11-07T02:50:13.794Z"
   },
   {
    "duration": 1968,
    "start_time": "2022-11-07T02:50:13.815Z"
   },
   {
    "duration": 59,
    "start_time": "2022-11-07T02:50:15.785Z"
   },
   {
    "duration": 174,
    "start_time": "2022-11-07T02:50:15.847Z"
   },
   {
    "duration": 5,
    "start_time": "2022-11-07T02:50:16.023Z"
   },
   {
    "duration": 12,
    "start_time": "2022-11-07T02:50:16.038Z"
   },
   {
    "duration": 9,
    "start_time": "2022-11-07T02:50:16.052Z"
   },
   {
    "duration": 1847,
    "start_time": "2022-11-07T02:50:16.063Z"
   },
   {
    "duration": 51,
    "start_time": "2022-11-07T02:50:17.912Z"
   },
   {
    "duration": 10,
    "start_time": "2022-11-07T02:50:17.965Z"
   },
   {
    "duration": 11,
    "start_time": "2022-11-07T02:50:17.979Z"
   },
   {
    "duration": 8,
    "start_time": "2022-11-07T02:50:17.992Z"
   },
   {
    "duration": 7,
    "start_time": "2022-11-07T02:50:18.001Z"
   },
   {
    "duration": 30,
    "start_time": "2022-11-07T02:50:18.010Z"
   },
   {
    "duration": 25,
    "start_time": "2022-11-07T02:50:18.043Z"
   },
   {
    "duration": 9,
    "start_time": "2022-11-07T02:50:18.069Z"
   },
   {
    "duration": 11,
    "start_time": "2022-11-07T02:50:18.080Z"
   },
   {
    "duration": 12,
    "start_time": "2022-11-07T02:50:18.093Z"
   },
   {
    "duration": 136,
    "start_time": "2022-11-07T02:50:18.107Z"
   },
   {
    "duration": 200,
    "start_time": "2022-11-07T02:50:18.245Z"
   },
   {
    "duration": 104,
    "start_time": "2022-11-07T02:50:18.447Z"
   },
   {
    "duration": 5,
    "start_time": "2022-11-07T02:50:18.553Z"
   },
   {
    "duration": 23,
    "start_time": "2022-11-07T02:50:18.560Z"
   },
   {
    "duration": 42,
    "start_time": "2022-11-07T02:50:18.585Z"
   },
   {
    "duration": 20,
    "start_time": "2022-11-07T02:50:18.629Z"
   },
   {
    "duration": 17,
    "start_time": "2022-11-07T02:50:18.651Z"
   },
   {
    "duration": 73,
    "start_time": "2022-11-07T02:50:18.670Z"
   },
   {
    "duration": 237,
    "start_time": "2022-11-07T02:50:18.745Z"
   },
   {
    "duration": 0,
    "start_time": "2022-11-07T02:50:18.983Z"
   },
   {
    "duration": 0,
    "start_time": "2022-11-07T02:50:18.985Z"
   },
   {
    "duration": 0,
    "start_time": "2022-11-07T02:50:18.986Z"
   },
   {
    "duration": 0,
    "start_time": "2022-11-07T02:50:18.987Z"
   },
   {
    "duration": 0,
    "start_time": "2022-11-07T02:50:18.989Z"
   },
   {
    "duration": 0,
    "start_time": "2022-11-07T02:50:18.990Z"
   },
   {
    "duration": 0,
    "start_time": "2022-11-07T02:50:18.991Z"
   },
   {
    "duration": 1273,
    "start_time": "2022-11-07T02:54:15.652Z"
   },
   {
    "duration": 41,
    "start_time": "2022-11-07T02:54:16.926Z"
   },
   {
    "duration": 13,
    "start_time": "2022-11-07T02:54:16.969Z"
   },
   {
    "duration": 17,
    "start_time": "2022-11-07T02:54:16.984Z"
   },
   {
    "duration": 1926,
    "start_time": "2022-11-07T02:54:17.003Z"
   },
   {
    "duration": 40,
    "start_time": "2022-11-07T02:54:18.938Z"
   },
   {
    "duration": 172,
    "start_time": "2022-11-07T02:54:18.980Z"
   },
   {
    "duration": 4,
    "start_time": "2022-11-07T02:54:19.154Z"
   },
   {
    "duration": 5,
    "start_time": "2022-11-07T02:54:19.160Z"
   },
   {
    "duration": 112,
    "start_time": "2022-11-07T02:54:19.168Z"
   },
   {
    "duration": 0,
    "start_time": "2022-11-07T02:54:19.282Z"
   },
   {
    "duration": 0,
    "start_time": "2022-11-07T02:54:19.283Z"
   },
   {
    "duration": 0,
    "start_time": "2022-11-07T02:54:19.285Z"
   },
   {
    "duration": 0,
    "start_time": "2022-11-07T02:54:19.286Z"
   },
   {
    "duration": 0,
    "start_time": "2022-11-07T02:54:19.288Z"
   },
   {
    "duration": 0,
    "start_time": "2022-11-07T02:54:19.289Z"
   },
   {
    "duration": 0,
    "start_time": "2022-11-07T02:54:19.290Z"
   },
   {
    "duration": 0,
    "start_time": "2022-11-07T02:54:19.291Z"
   },
   {
    "duration": 0,
    "start_time": "2022-11-07T02:54:19.292Z"
   },
   {
    "duration": 0,
    "start_time": "2022-11-07T02:54:19.293Z"
   },
   {
    "duration": 0,
    "start_time": "2022-11-07T02:54:19.294Z"
   },
   {
    "duration": 0,
    "start_time": "2022-11-07T02:54:19.295Z"
   },
   {
    "duration": 0,
    "start_time": "2022-11-07T02:54:19.296Z"
   },
   {
    "duration": 0,
    "start_time": "2022-11-07T02:54:19.296Z"
   },
   {
    "duration": 0,
    "start_time": "2022-11-07T02:54:19.297Z"
   },
   {
    "duration": 0,
    "start_time": "2022-11-07T02:54:19.298Z"
   },
   {
    "duration": 0,
    "start_time": "2022-11-07T02:54:19.299Z"
   },
   {
    "duration": 0,
    "start_time": "2022-11-07T02:54:19.300Z"
   },
   {
    "duration": 0,
    "start_time": "2022-11-07T02:54:19.301Z"
   },
   {
    "duration": 0,
    "start_time": "2022-11-07T02:54:19.302Z"
   },
   {
    "duration": 0,
    "start_time": "2022-11-07T02:54:19.339Z"
   },
   {
    "duration": 0,
    "start_time": "2022-11-07T02:54:19.340Z"
   },
   {
    "duration": 0,
    "start_time": "2022-11-07T02:54:19.341Z"
   },
   {
    "duration": 0,
    "start_time": "2022-11-07T02:54:19.342Z"
   },
   {
    "duration": 0,
    "start_time": "2022-11-07T02:54:19.343Z"
   },
   {
    "duration": 0,
    "start_time": "2022-11-07T02:54:19.343Z"
   },
   {
    "duration": 0,
    "start_time": "2022-11-07T02:54:19.344Z"
   },
   {
    "duration": 0,
    "start_time": "2022-11-07T02:54:19.345Z"
   },
   {
    "duration": 0,
    "start_time": "2022-11-07T02:54:19.346Z"
   },
   {
    "duration": 1318,
    "start_time": "2022-11-07T02:58:40.340Z"
   },
   {
    "duration": 43,
    "start_time": "2022-11-07T02:58:41.661Z"
   },
   {
    "duration": 14,
    "start_time": "2022-11-07T02:58:41.706Z"
   },
   {
    "duration": 16,
    "start_time": "2022-11-07T02:58:41.722Z"
   },
   {
    "duration": 1857,
    "start_time": "2022-11-07T02:58:41.739Z"
   },
   {
    "duration": 54,
    "start_time": "2022-11-07T02:58:43.598Z"
   },
   {
    "duration": 177,
    "start_time": "2022-11-07T02:58:43.654Z"
   },
   {
    "duration": 7,
    "start_time": "2022-11-07T02:58:43.833Z"
   },
   {
    "duration": 5,
    "start_time": "2022-11-07T02:58:43.842Z"
   },
   {
    "duration": 5,
    "start_time": "2022-11-07T02:58:43.849Z"
   },
   {
    "duration": 5,
    "start_time": "2022-11-07T02:58:43.856Z"
   },
   {
    "duration": 1652,
    "start_time": "2022-11-07T02:58:43.863Z"
   },
   {
    "duration": 64,
    "start_time": "2022-11-07T02:58:45.516Z"
   },
   {
    "duration": 14,
    "start_time": "2022-11-07T02:58:45.583Z"
   },
   {
    "duration": 15,
    "start_time": "2022-11-07T02:58:45.600Z"
   },
   {
    "duration": 22,
    "start_time": "2022-11-07T02:58:45.617Z"
   },
   {
    "duration": 7,
    "start_time": "2022-11-07T02:58:45.641Z"
   },
   {
    "duration": 9,
    "start_time": "2022-11-07T02:58:45.649Z"
   },
   {
    "duration": 23,
    "start_time": "2022-11-07T02:58:45.660Z"
   },
   {
    "duration": 13,
    "start_time": "2022-11-07T02:58:45.685Z"
   },
   {
    "duration": 42,
    "start_time": "2022-11-07T02:58:45.700Z"
   },
   {
    "duration": 17,
    "start_time": "2022-11-07T02:58:45.744Z"
   },
   {
    "duration": 86,
    "start_time": "2022-11-07T02:58:45.763Z"
   },
   {
    "duration": 105,
    "start_time": "2022-11-07T02:58:45.938Z"
   },
   {
    "duration": 106,
    "start_time": "2022-11-07T02:58:46.045Z"
   },
   {
    "duration": 5,
    "start_time": "2022-11-07T02:58:46.153Z"
   },
   {
    "duration": 12,
    "start_time": "2022-11-07T02:58:46.160Z"
   },
   {
    "duration": 26,
    "start_time": "2022-11-07T02:58:46.177Z"
   },
   {
    "duration": 43,
    "start_time": "2022-11-07T02:58:46.205Z"
   },
   {
    "duration": 4,
    "start_time": "2022-11-07T02:58:46.250Z"
   },
   {
    "duration": 84,
    "start_time": "2022-11-07T02:58:46.256Z"
   },
   {
    "duration": 236,
    "start_time": "2022-11-07T02:58:46.342Z"
   },
   {
    "duration": 0,
    "start_time": "2022-11-07T02:58:46.587Z"
   },
   {
    "duration": 0,
    "start_time": "2022-11-07T02:58:46.589Z"
   },
   {
    "duration": 0,
    "start_time": "2022-11-07T02:58:46.591Z"
   },
   {
    "duration": 0,
    "start_time": "2022-11-07T02:58:46.592Z"
   },
   {
    "duration": 0,
    "start_time": "2022-11-07T02:58:46.594Z"
   },
   {
    "duration": 0,
    "start_time": "2022-11-07T02:58:46.595Z"
   },
   {
    "duration": 0,
    "start_time": "2022-11-07T02:58:46.596Z"
   },
   {
    "duration": 1338,
    "start_time": "2022-11-07T02:59:40.325Z"
   },
   {
    "duration": 42,
    "start_time": "2022-11-07T02:59:41.665Z"
   },
   {
    "duration": 15,
    "start_time": "2022-11-07T02:59:41.709Z"
   },
   {
    "duration": 17,
    "start_time": "2022-11-07T02:59:41.727Z"
   },
   {
    "duration": 1918,
    "start_time": "2022-11-07T02:59:41.746Z"
   },
   {
    "duration": 43,
    "start_time": "2022-11-07T02:59:43.665Z"
   },
   {
    "duration": 167,
    "start_time": "2022-11-07T02:59:43.710Z"
   },
   {
    "duration": 4,
    "start_time": "2022-11-07T02:59:43.878Z"
   },
   {
    "duration": 8,
    "start_time": "2022-11-07T02:59:43.884Z"
   },
   {
    "duration": 11,
    "start_time": "2022-11-07T02:59:43.895Z"
   },
   {
    "duration": 6,
    "start_time": "2022-11-07T02:59:43.908Z"
   },
   {
    "duration": 1577,
    "start_time": "2022-11-07T02:59:43.916Z"
   },
   {
    "duration": 47,
    "start_time": "2022-11-07T02:59:45.495Z"
   },
   {
    "duration": 9,
    "start_time": "2022-11-07T02:59:45.544Z"
   },
   {
    "duration": 12,
    "start_time": "2022-11-07T02:59:45.555Z"
   },
   {
    "duration": 6,
    "start_time": "2022-11-07T02:59:45.568Z"
   },
   {
    "duration": 6,
    "start_time": "2022-11-07T02:59:45.576Z"
   },
   {
    "duration": 7,
    "start_time": "2022-11-07T02:59:45.583Z"
   },
   {
    "duration": 16,
    "start_time": "2022-11-07T02:59:45.591Z"
   },
   {
    "duration": 37,
    "start_time": "2022-11-07T02:59:45.608Z"
   },
   {
    "duration": 10,
    "start_time": "2022-11-07T02:59:45.647Z"
   },
   {
    "duration": 13,
    "start_time": "2022-11-07T02:59:45.659Z"
   },
   {
    "duration": 136,
    "start_time": "2022-11-07T02:59:45.674Z"
   },
   {
    "duration": 0,
    "start_time": "2022-11-07T02:59:45.813Z"
   },
   {
    "duration": 0,
    "start_time": "2022-11-07T02:59:45.814Z"
   },
   {
    "duration": 0,
    "start_time": "2022-11-07T02:59:45.816Z"
   },
   {
    "duration": 0,
    "start_time": "2022-11-07T02:59:45.818Z"
   },
   {
    "duration": 0,
    "start_time": "2022-11-07T02:59:45.820Z"
   },
   {
    "duration": 0,
    "start_time": "2022-11-07T02:59:45.821Z"
   },
   {
    "duration": 0,
    "start_time": "2022-11-07T02:59:45.822Z"
   },
   {
    "duration": 0,
    "start_time": "2022-11-07T02:59:45.839Z"
   },
   {
    "duration": 0,
    "start_time": "2022-11-07T02:59:45.840Z"
   },
   {
    "duration": 0,
    "start_time": "2022-11-07T02:59:45.842Z"
   },
   {
    "duration": 0,
    "start_time": "2022-11-07T02:59:45.844Z"
   },
   {
    "duration": 0,
    "start_time": "2022-11-07T02:59:45.845Z"
   },
   {
    "duration": 0,
    "start_time": "2022-11-07T02:59:45.847Z"
   },
   {
    "duration": 1,
    "start_time": "2022-11-07T02:59:45.848Z"
   },
   {
    "duration": 0,
    "start_time": "2022-11-07T02:59:45.850Z"
   },
   {
    "duration": 0,
    "start_time": "2022-11-07T02:59:45.852Z"
   },
   {
    "duration": 1327,
    "start_time": "2022-11-07T03:00:54.816Z"
   },
   {
    "duration": 39,
    "start_time": "2022-11-07T03:00:56.145Z"
   },
   {
    "duration": 13,
    "start_time": "2022-11-07T03:00:56.185Z"
   },
   {
    "duration": 16,
    "start_time": "2022-11-07T03:00:56.199Z"
   },
   {
    "duration": 2017,
    "start_time": "2022-11-07T03:00:56.217Z"
   },
   {
    "duration": 43,
    "start_time": "2022-11-07T03:00:58.239Z"
   },
   {
    "duration": 181,
    "start_time": "2022-11-07T03:00:58.284Z"
   },
   {
    "duration": 4,
    "start_time": "2022-11-07T03:00:58.467Z"
   },
   {
    "duration": 6,
    "start_time": "2022-11-07T03:00:58.473Z"
   },
   {
    "duration": 7,
    "start_time": "2022-11-07T03:00:58.481Z"
   },
   {
    "duration": 5,
    "start_time": "2022-11-07T03:00:58.490Z"
   },
   {
    "duration": 1630,
    "start_time": "2022-11-07T03:00:58.496Z"
   },
   {
    "duration": 40,
    "start_time": "2022-11-07T03:01:00.128Z"
   },
   {
    "duration": 9,
    "start_time": "2022-11-07T03:01:00.170Z"
   },
   {
    "duration": 21,
    "start_time": "2022-11-07T03:01:00.181Z"
   },
   {
    "duration": 8,
    "start_time": "2022-11-07T03:01:00.203Z"
   },
   {
    "duration": 7,
    "start_time": "2022-11-07T03:01:00.213Z"
   },
   {
    "duration": 20,
    "start_time": "2022-11-07T03:01:00.222Z"
   },
   {
    "duration": 13,
    "start_time": "2022-11-07T03:01:00.243Z"
   },
   {
    "duration": 10,
    "start_time": "2022-11-07T03:01:00.258Z"
   },
   {
    "duration": 21,
    "start_time": "2022-11-07T03:01:00.269Z"
   },
   {
    "duration": 21,
    "start_time": "2022-11-07T03:01:00.291Z"
   },
   {
    "duration": 126,
    "start_time": "2022-11-07T03:01:00.313Z"
   },
   {
    "duration": 206,
    "start_time": "2022-11-07T03:01:00.442Z"
   },
   {
    "duration": 13,
    "start_time": "2022-11-07T03:01:00.738Z"
   },
   {
    "duration": 11,
    "start_time": "2022-11-07T03:01:00.752Z"
   },
   {
    "duration": 14,
    "start_time": "2022-11-07T03:01:00.765Z"
   },
   {
    "duration": 40,
    "start_time": "2022-11-07T03:01:00.781Z"
   },
   {
    "duration": 15,
    "start_time": "2022-11-07T03:01:00.823Z"
   },
   {
    "duration": 15,
    "start_time": "2022-11-07T03:01:00.840Z"
   },
   {
    "duration": 86,
    "start_time": "2022-11-07T03:01:00.856Z"
   },
   {
    "duration": 233,
    "start_time": "2022-11-07T03:01:00.944Z"
   },
   {
    "duration": 0,
    "start_time": "2022-11-07T03:01:01.179Z"
   },
   {
    "duration": 0,
    "start_time": "2022-11-07T03:01:01.180Z"
   },
   {
    "duration": 0,
    "start_time": "2022-11-07T03:01:01.181Z"
   },
   {
    "duration": 0,
    "start_time": "2022-11-07T03:01:01.182Z"
   },
   {
    "duration": 0,
    "start_time": "2022-11-07T03:01:01.183Z"
   },
   {
    "duration": 0,
    "start_time": "2022-11-07T03:01:01.184Z"
   },
   {
    "duration": 0,
    "start_time": "2022-11-07T03:01:01.185Z"
   },
   {
    "duration": 1337,
    "start_time": "2022-11-07T03:02:13.012Z"
   },
   {
    "duration": 40,
    "start_time": "2022-11-07T03:02:14.351Z"
   },
   {
    "duration": 13,
    "start_time": "2022-11-07T03:02:14.393Z"
   },
   {
    "duration": 17,
    "start_time": "2022-11-07T03:02:14.408Z"
   },
   {
    "duration": 1983,
    "start_time": "2022-11-07T03:02:14.426Z"
   },
   {
    "duration": 48,
    "start_time": "2022-11-07T03:02:16.410Z"
   },
   {
    "duration": 160,
    "start_time": "2022-11-07T03:02:16.459Z"
   },
   {
    "duration": 3,
    "start_time": "2022-11-07T03:02:16.621Z"
   },
   {
    "duration": 17,
    "start_time": "2022-11-07T03:02:16.626Z"
   },
   {
    "duration": 7,
    "start_time": "2022-11-07T03:02:16.646Z"
   },
   {
    "duration": 5,
    "start_time": "2022-11-07T03:02:16.655Z"
   },
   {
    "duration": 1720,
    "start_time": "2022-11-07T03:02:16.662Z"
   },
   {
    "duration": 35,
    "start_time": "2022-11-07T03:02:18.384Z"
   },
   {
    "duration": 24,
    "start_time": "2022-11-07T03:02:18.421Z"
   },
   {
    "duration": 11,
    "start_time": "2022-11-07T03:02:18.446Z"
   },
   {
    "duration": 9,
    "start_time": "2022-11-07T03:02:18.459Z"
   },
   {
    "duration": 5,
    "start_time": "2022-11-07T03:02:18.470Z"
   },
   {
    "duration": 6,
    "start_time": "2022-11-07T03:02:18.476Z"
   },
   {
    "duration": 14,
    "start_time": "2022-11-07T03:02:18.484Z"
   },
   {
    "duration": 9,
    "start_time": "2022-11-07T03:02:18.500Z"
   },
   {
    "duration": 12,
    "start_time": "2022-11-07T03:02:18.538Z"
   },
   {
    "duration": 16,
    "start_time": "2022-11-07T03:02:18.551Z"
   },
   {
    "duration": 121,
    "start_time": "2022-11-07T03:02:18.569Z"
   },
   {
    "duration": 0,
    "start_time": "2022-11-07T03:02:18.692Z"
   },
   {
    "duration": 0,
    "start_time": "2022-11-07T03:02:18.693Z"
   },
   {
    "duration": 0,
    "start_time": "2022-11-07T03:02:18.694Z"
   },
   {
    "duration": 0,
    "start_time": "2022-11-07T03:02:18.695Z"
   },
   {
    "duration": 0,
    "start_time": "2022-11-07T03:02:18.695Z"
   },
   {
    "duration": 0,
    "start_time": "2022-11-07T03:02:18.696Z"
   },
   {
    "duration": 0,
    "start_time": "2022-11-07T03:02:18.697Z"
   },
   {
    "duration": 0,
    "start_time": "2022-11-07T03:02:18.698Z"
   },
   {
    "duration": 0,
    "start_time": "2022-11-07T03:02:18.698Z"
   },
   {
    "duration": 0,
    "start_time": "2022-11-07T03:02:18.699Z"
   },
   {
    "duration": 0,
    "start_time": "2022-11-07T03:02:18.700Z"
   },
   {
    "duration": 0,
    "start_time": "2022-11-07T03:02:18.701Z"
   },
   {
    "duration": 0,
    "start_time": "2022-11-07T03:02:18.702Z"
   },
   {
    "duration": 0,
    "start_time": "2022-11-07T03:02:18.702Z"
   },
   {
    "duration": 0,
    "start_time": "2022-11-07T03:02:18.703Z"
   },
   {
    "duration": 0,
    "start_time": "2022-11-07T03:02:18.704Z"
   },
   {
    "duration": 1422,
    "start_time": "2022-11-07T03:03:01.589Z"
   },
   {
    "duration": 48,
    "start_time": "2022-11-07T03:03:03.013Z"
   },
   {
    "duration": 14,
    "start_time": "2022-11-07T03:03:03.063Z"
   },
   {
    "duration": 17,
    "start_time": "2022-11-07T03:03:03.079Z"
   },
   {
    "duration": 2133,
    "start_time": "2022-11-07T03:03:03.098Z"
   },
   {
    "duration": 41,
    "start_time": "2022-11-07T03:03:05.238Z"
   },
   {
    "duration": 162,
    "start_time": "2022-11-07T03:03:05.280Z"
   },
   {
    "duration": 5,
    "start_time": "2022-11-07T03:03:05.444Z"
   },
   {
    "duration": 6,
    "start_time": "2022-11-07T03:03:05.450Z"
   },
   {
    "duration": 7,
    "start_time": "2022-11-07T03:03:05.457Z"
   },
   {
    "duration": 4,
    "start_time": "2022-11-07T03:03:05.466Z"
   },
   {
    "duration": 1619,
    "start_time": "2022-11-07T03:03:05.472Z"
   },
   {
    "duration": 56,
    "start_time": "2022-11-07T03:03:07.094Z"
   },
   {
    "duration": 15,
    "start_time": "2022-11-07T03:03:07.154Z"
   },
   {
    "duration": 33,
    "start_time": "2022-11-07T03:03:07.170Z"
   },
   {
    "duration": 19,
    "start_time": "2022-11-07T03:03:07.205Z"
   },
   {
    "duration": 22,
    "start_time": "2022-11-07T03:03:07.226Z"
   },
   {
    "duration": 15,
    "start_time": "2022-11-07T03:03:07.251Z"
   },
   {
    "duration": 22,
    "start_time": "2022-11-07T03:03:07.268Z"
   },
   {
    "duration": 10,
    "start_time": "2022-11-07T03:03:07.293Z"
   },
   {
    "duration": 16,
    "start_time": "2022-11-07T03:03:07.305Z"
   },
   {
    "duration": 28,
    "start_time": "2022-11-07T03:03:07.323Z"
   },
   {
    "duration": 89,
    "start_time": "2022-11-07T03:03:07.354Z"
   },
   {
    "duration": 196,
    "start_time": "2022-11-07T03:03:07.447Z"
   },
   {
    "duration": 106,
    "start_time": "2022-11-07T03:03:07.645Z"
   },
   {
    "duration": 9,
    "start_time": "2022-11-07T03:03:07.753Z"
   },
   {
    "duration": 30,
    "start_time": "2022-11-07T03:03:07.763Z"
   },
   {
    "duration": 44,
    "start_time": "2022-11-07T03:03:07.795Z"
   },
   {
    "duration": 11,
    "start_time": "2022-11-07T03:03:07.841Z"
   },
   {
    "duration": 3,
    "start_time": "2022-11-07T03:03:07.854Z"
   },
   {
    "duration": 85,
    "start_time": "2022-11-07T03:03:07.859Z"
   },
   {
    "duration": 226,
    "start_time": "2022-11-07T03:03:07.946Z"
   },
   {
    "duration": 0,
    "start_time": "2022-11-07T03:03:08.174Z"
   },
   {
    "duration": 0,
    "start_time": "2022-11-07T03:03:08.175Z"
   },
   {
    "duration": 0,
    "start_time": "2022-11-07T03:03:08.176Z"
   },
   {
    "duration": 0,
    "start_time": "2022-11-07T03:03:08.177Z"
   },
   {
    "duration": 0,
    "start_time": "2022-11-07T03:03:08.178Z"
   },
   {
    "duration": 0,
    "start_time": "2022-11-07T03:03:08.180Z"
   },
   {
    "duration": 0,
    "start_time": "2022-11-07T03:03:08.181Z"
   },
   {
    "duration": 14,
    "start_time": "2022-11-07T03:03:40.412Z"
   },
   {
    "duration": 1340,
    "start_time": "2022-11-07T03:03:57.706Z"
   },
   {
    "duration": 40,
    "start_time": "2022-11-07T03:03:59.048Z"
   },
   {
    "duration": 15,
    "start_time": "2022-11-07T03:03:59.090Z"
   },
   {
    "duration": 16,
    "start_time": "2022-11-07T03:03:59.106Z"
   },
   {
    "duration": 1937,
    "start_time": "2022-11-07T03:03:59.124Z"
   },
   {
    "duration": 48,
    "start_time": "2022-11-07T03:04:01.063Z"
   },
   {
    "duration": 176,
    "start_time": "2022-11-07T03:04:01.113Z"
   },
   {
    "duration": 4,
    "start_time": "2022-11-07T03:04:01.291Z"
   },
   {
    "duration": 15,
    "start_time": "2022-11-07T03:04:01.296Z"
   },
   {
    "duration": 132,
    "start_time": "2022-11-07T03:04:01.312Z"
   },
   {
    "duration": 0,
    "start_time": "2022-11-07T03:04:01.447Z"
   },
   {
    "duration": 0,
    "start_time": "2022-11-07T03:04:01.448Z"
   },
   {
    "duration": 0,
    "start_time": "2022-11-07T03:04:01.451Z"
   },
   {
    "duration": 0,
    "start_time": "2022-11-07T03:04:01.452Z"
   },
   {
    "duration": 0,
    "start_time": "2022-11-07T03:04:01.453Z"
   },
   {
    "duration": 0,
    "start_time": "2022-11-07T03:04:01.454Z"
   },
   {
    "duration": 0,
    "start_time": "2022-11-07T03:04:01.455Z"
   },
   {
    "duration": 0,
    "start_time": "2022-11-07T03:04:01.457Z"
   },
   {
    "duration": 0,
    "start_time": "2022-11-07T03:04:01.458Z"
   },
   {
    "duration": 0,
    "start_time": "2022-11-07T03:04:01.459Z"
   },
   {
    "duration": 0,
    "start_time": "2022-11-07T03:04:01.460Z"
   },
   {
    "duration": 0,
    "start_time": "2022-11-07T03:04:01.461Z"
   },
   {
    "duration": 0,
    "start_time": "2022-11-07T03:04:01.462Z"
   },
   {
    "duration": 0,
    "start_time": "2022-11-07T03:04:01.463Z"
   },
   {
    "duration": 0,
    "start_time": "2022-11-07T03:04:01.464Z"
   },
   {
    "duration": 0,
    "start_time": "2022-11-07T03:04:01.465Z"
   },
   {
    "duration": 0,
    "start_time": "2022-11-07T03:04:01.466Z"
   },
   {
    "duration": 0,
    "start_time": "2022-11-07T03:04:01.467Z"
   },
   {
    "duration": 0,
    "start_time": "2022-11-07T03:04:01.468Z"
   },
   {
    "duration": 0,
    "start_time": "2022-11-07T03:04:01.469Z"
   },
   {
    "duration": 0,
    "start_time": "2022-11-07T03:04:01.470Z"
   },
   {
    "duration": 0,
    "start_time": "2022-11-07T03:04:01.472Z"
   },
   {
    "duration": 0,
    "start_time": "2022-11-07T03:04:01.472Z"
   },
   {
    "duration": 0,
    "start_time": "2022-11-07T03:04:01.473Z"
   },
   {
    "duration": 0,
    "start_time": "2022-11-07T03:04:01.474Z"
   },
   {
    "duration": 0,
    "start_time": "2022-11-07T03:04:01.475Z"
   },
   {
    "duration": 0,
    "start_time": "2022-11-07T03:04:01.476Z"
   },
   {
    "duration": 0,
    "start_time": "2022-11-07T03:04:01.477Z"
   },
   {
    "duration": 0,
    "start_time": "2022-11-07T03:04:01.478Z"
   },
   {
    "duration": 1316,
    "start_time": "2022-11-07T03:04:22.879Z"
   },
   {
    "duration": 44,
    "start_time": "2022-11-07T03:04:24.197Z"
   },
   {
    "duration": 14,
    "start_time": "2022-11-07T03:04:24.245Z"
   },
   {
    "duration": 17,
    "start_time": "2022-11-07T03:04:24.261Z"
   },
   {
    "duration": 1908,
    "start_time": "2022-11-07T03:04:24.281Z"
   },
   {
    "duration": 54,
    "start_time": "2022-11-07T03:04:26.191Z"
   },
   {
    "duration": 158,
    "start_time": "2022-11-07T03:04:26.247Z"
   },
   {
    "duration": 4,
    "start_time": "2022-11-07T03:04:26.407Z"
   },
   {
    "duration": 9,
    "start_time": "2022-11-07T03:04:26.412Z"
   },
   {
    "duration": 19,
    "start_time": "2022-11-07T03:04:26.423Z"
   },
   {
    "duration": 3,
    "start_time": "2022-11-07T03:04:26.444Z"
   },
   {
    "duration": 1616,
    "start_time": "2022-11-07T03:04:26.449Z"
   },
   {
    "duration": 35,
    "start_time": "2022-11-07T03:04:28.067Z"
   },
   {
    "duration": 8,
    "start_time": "2022-11-07T03:04:28.105Z"
   },
   {
    "duration": 33,
    "start_time": "2022-11-07T03:04:28.115Z"
   },
   {
    "duration": 7,
    "start_time": "2022-11-07T03:04:28.149Z"
   },
   {
    "duration": 9,
    "start_time": "2022-11-07T03:04:28.158Z"
   },
   {
    "duration": 8,
    "start_time": "2022-11-07T03:04:28.168Z"
   },
   {
    "duration": 16,
    "start_time": "2022-11-07T03:04:28.177Z"
   },
   {
    "duration": 10,
    "start_time": "2022-11-07T03:04:28.195Z"
   },
   {
    "duration": 35,
    "start_time": "2022-11-07T03:04:28.207Z"
   },
   {
    "duration": 17,
    "start_time": "2022-11-07T03:04:28.243Z"
   },
   {
    "duration": 124,
    "start_time": "2022-11-07T03:04:28.261Z"
   },
   {
    "duration": 0,
    "start_time": "2022-11-07T03:04:28.387Z"
   },
   {
    "duration": 0,
    "start_time": "2022-11-07T03:04:28.388Z"
   },
   {
    "duration": 0,
    "start_time": "2022-11-07T03:04:28.389Z"
   },
   {
    "duration": 0,
    "start_time": "2022-11-07T03:04:28.391Z"
   },
   {
    "duration": 0,
    "start_time": "2022-11-07T03:04:28.392Z"
   },
   {
    "duration": 0,
    "start_time": "2022-11-07T03:04:28.394Z"
   },
   {
    "duration": 0,
    "start_time": "2022-11-07T03:04:28.395Z"
   },
   {
    "duration": 0,
    "start_time": "2022-11-07T03:04:28.396Z"
   },
   {
    "duration": 0,
    "start_time": "2022-11-07T03:04:28.397Z"
   },
   {
    "duration": 0,
    "start_time": "2022-11-07T03:04:28.398Z"
   },
   {
    "duration": 0,
    "start_time": "2022-11-07T03:04:28.399Z"
   },
   {
    "duration": 0,
    "start_time": "2022-11-07T03:04:28.400Z"
   },
   {
    "duration": 0,
    "start_time": "2022-11-07T03:04:28.402Z"
   },
   {
    "duration": 0,
    "start_time": "2022-11-07T03:04:28.403Z"
   },
   {
    "duration": 0,
    "start_time": "2022-11-07T03:04:28.404Z"
   },
   {
    "duration": 0,
    "start_time": "2022-11-07T03:04:28.406Z"
   },
   {
    "duration": 1512,
    "start_time": "2022-11-07T03:06:28.035Z"
   },
   {
    "duration": 41,
    "start_time": "2022-11-07T03:06:29.549Z"
   },
   {
    "duration": 13,
    "start_time": "2022-11-07T03:06:29.592Z"
   },
   {
    "duration": 40,
    "start_time": "2022-11-07T03:06:29.607Z"
   },
   {
    "duration": 1994,
    "start_time": "2022-11-07T03:06:29.649Z"
   },
   {
    "duration": 43,
    "start_time": "2022-11-07T03:06:31.645Z"
   },
   {
    "duration": 178,
    "start_time": "2022-11-07T03:06:31.690Z"
   },
   {
    "duration": 4,
    "start_time": "2022-11-07T03:06:31.869Z"
   },
   {
    "duration": 6,
    "start_time": "2022-11-07T03:06:31.875Z"
   },
   {
    "duration": 30,
    "start_time": "2022-11-07T03:06:31.882Z"
   },
   {
    "duration": 4,
    "start_time": "2022-11-07T03:06:31.914Z"
   },
   {
    "duration": 1584,
    "start_time": "2022-11-07T03:06:31.920Z"
   },
   {
    "duration": 49,
    "start_time": "2022-11-07T03:06:33.506Z"
   },
   {
    "duration": 11,
    "start_time": "2022-11-07T03:06:33.560Z"
   },
   {
    "duration": 11,
    "start_time": "2022-11-07T03:06:33.573Z"
   },
   {
    "duration": 6,
    "start_time": "2022-11-07T03:06:33.586Z"
   },
   {
    "duration": 6,
    "start_time": "2022-11-07T03:06:33.593Z"
   },
   {
    "duration": 8,
    "start_time": "2022-11-07T03:06:33.601Z"
   },
   {
    "duration": 39,
    "start_time": "2022-11-07T03:06:33.611Z"
   },
   {
    "duration": 10,
    "start_time": "2022-11-07T03:06:33.652Z"
   },
   {
    "duration": 12,
    "start_time": "2022-11-07T03:06:33.664Z"
   },
   {
    "duration": 13,
    "start_time": "2022-11-07T03:06:33.677Z"
   },
   {
    "duration": 150,
    "start_time": "2022-11-07T03:06:33.691Z"
   },
   {
    "duration": 0,
    "start_time": "2022-11-07T03:06:33.843Z"
   },
   {
    "duration": 0,
    "start_time": "2022-11-07T03:06:33.844Z"
   },
   {
    "duration": 0,
    "start_time": "2022-11-07T03:06:33.846Z"
   },
   {
    "duration": 0,
    "start_time": "2022-11-07T03:06:33.847Z"
   },
   {
    "duration": 0,
    "start_time": "2022-11-07T03:06:33.849Z"
   },
   {
    "duration": 0,
    "start_time": "2022-11-07T03:06:33.850Z"
   },
   {
    "duration": 0,
    "start_time": "2022-11-07T03:06:33.852Z"
   },
   {
    "duration": 0,
    "start_time": "2022-11-07T03:06:33.853Z"
   },
   {
    "duration": 0,
    "start_time": "2022-11-07T03:06:33.854Z"
   },
   {
    "duration": 0,
    "start_time": "2022-11-07T03:06:33.856Z"
   },
   {
    "duration": 0,
    "start_time": "2022-11-07T03:06:33.857Z"
   },
   {
    "duration": 0,
    "start_time": "2022-11-07T03:06:33.859Z"
   },
   {
    "duration": 0,
    "start_time": "2022-11-07T03:06:33.860Z"
   },
   {
    "duration": 0,
    "start_time": "2022-11-07T03:06:33.861Z"
   },
   {
    "duration": 0,
    "start_time": "2022-11-07T03:06:33.863Z"
   },
   {
    "duration": 0,
    "start_time": "2022-11-07T03:06:33.864Z"
   },
   {
    "duration": 1310,
    "start_time": "2022-11-07T03:07:08.194Z"
   },
   {
    "duration": 40,
    "start_time": "2022-11-07T03:07:09.507Z"
   },
   {
    "duration": 13,
    "start_time": "2022-11-07T03:07:09.549Z"
   },
   {
    "duration": 16,
    "start_time": "2022-11-07T03:07:09.564Z"
   },
   {
    "duration": 1952,
    "start_time": "2022-11-07T03:07:09.582Z"
   },
   {
    "duration": 49,
    "start_time": "2022-11-07T03:07:11.538Z"
   },
   {
    "duration": 189,
    "start_time": "2022-11-07T03:07:11.589Z"
   },
   {
    "duration": 5,
    "start_time": "2022-11-07T03:07:11.779Z"
   },
   {
    "duration": 7,
    "start_time": "2022-11-07T03:07:11.786Z"
   },
   {
    "duration": 24,
    "start_time": "2022-11-07T03:07:11.796Z"
   },
   {
    "duration": 6,
    "start_time": "2022-11-07T03:07:11.822Z"
   },
   {
    "duration": 1696,
    "start_time": "2022-11-07T03:07:11.829Z"
   },
   {
    "duration": 43,
    "start_time": "2022-11-07T03:07:13.527Z"
   },
   {
    "duration": 9,
    "start_time": "2022-11-07T03:07:13.572Z"
   },
   {
    "duration": 10,
    "start_time": "2022-11-07T03:07:13.583Z"
   },
   {
    "duration": 6,
    "start_time": "2022-11-07T03:07:13.595Z"
   },
   {
    "duration": 7,
    "start_time": "2022-11-07T03:07:13.603Z"
   },
   {
    "duration": 32,
    "start_time": "2022-11-07T03:07:13.611Z"
   },
   {
    "duration": 15,
    "start_time": "2022-11-07T03:07:13.644Z"
   },
   {
    "duration": 8,
    "start_time": "2022-11-07T03:07:13.660Z"
   },
   {
    "duration": 10,
    "start_time": "2022-11-07T03:07:13.670Z"
   },
   {
    "duration": 12,
    "start_time": "2022-11-07T03:07:13.682Z"
   },
   {
    "duration": 59,
    "start_time": "2022-11-07T03:07:13.695Z"
   },
   {
    "duration": 202,
    "start_time": "2022-11-07T03:07:13.839Z"
   },
   {
    "duration": 104,
    "start_time": "2022-11-07T03:07:14.043Z"
   },
   {
    "duration": 5,
    "start_time": "2022-11-07T03:07:14.149Z"
   },
   {
    "duration": 10,
    "start_time": "2022-11-07T03:07:14.155Z"
   },
   {
    "duration": 24,
    "start_time": "2022-11-07T03:07:14.169Z"
   },
   {
    "duration": 49,
    "start_time": "2022-11-07T03:07:14.195Z"
   },
   {
    "duration": 4,
    "start_time": "2022-11-07T03:07:14.246Z"
   },
   {
    "duration": 89,
    "start_time": "2022-11-07T03:07:14.252Z"
   },
   {
    "duration": 237,
    "start_time": "2022-11-07T03:07:14.344Z"
   },
   {
    "duration": 0,
    "start_time": "2022-11-07T03:07:14.583Z"
   },
   {
    "duration": 0,
    "start_time": "2022-11-07T03:07:14.584Z"
   },
   {
    "duration": 0,
    "start_time": "2022-11-07T03:07:14.586Z"
   },
   {
    "duration": 0,
    "start_time": "2022-11-07T03:07:14.587Z"
   },
   {
    "duration": 0,
    "start_time": "2022-11-07T03:07:14.589Z"
   },
   {
    "duration": 0,
    "start_time": "2022-11-07T03:07:14.590Z"
   },
   {
    "duration": 0,
    "start_time": "2022-11-07T03:07:14.592Z"
   },
   {
    "duration": 1321,
    "start_time": "2022-11-07T03:13:23.008Z"
   },
   {
    "duration": 40,
    "start_time": "2022-11-07T03:13:24.331Z"
   },
   {
    "duration": 12,
    "start_time": "2022-11-07T03:13:24.373Z"
   },
   {
    "duration": 16,
    "start_time": "2022-11-07T03:13:24.387Z"
   },
   {
    "duration": 1904,
    "start_time": "2022-11-07T03:13:24.405Z"
   },
   {
    "duration": 49,
    "start_time": "2022-11-07T03:13:26.311Z"
   },
   {
    "duration": 162,
    "start_time": "2022-11-07T03:13:26.361Z"
   },
   {
    "duration": 4,
    "start_time": "2022-11-07T03:13:26.525Z"
   },
   {
    "duration": 4,
    "start_time": "2022-11-07T03:13:26.538Z"
   },
   {
    "duration": 7,
    "start_time": "2022-11-07T03:13:26.544Z"
   },
   {
    "duration": 4,
    "start_time": "2022-11-07T03:13:26.553Z"
   },
   {
    "duration": 1712,
    "start_time": "2022-11-07T03:13:26.559Z"
   },
   {
    "duration": 38,
    "start_time": "2022-11-07T03:13:28.273Z"
   },
   {
    "duration": 27,
    "start_time": "2022-11-07T03:13:28.314Z"
   },
   {
    "duration": 12,
    "start_time": "2022-11-07T03:13:28.343Z"
   },
   {
    "duration": 6,
    "start_time": "2022-11-07T03:13:28.358Z"
   },
   {
    "duration": 6,
    "start_time": "2022-11-07T03:13:28.366Z"
   },
   {
    "duration": 11,
    "start_time": "2022-11-07T03:13:28.373Z"
   },
   {
    "duration": 26,
    "start_time": "2022-11-07T03:13:28.385Z"
   },
   {
    "duration": 32,
    "start_time": "2022-11-07T03:13:28.413Z"
   },
   {
    "duration": 13,
    "start_time": "2022-11-07T03:13:28.446Z"
   },
   {
    "duration": 12,
    "start_time": "2022-11-07T03:13:28.461Z"
   },
   {
    "duration": 171,
    "start_time": "2022-11-07T03:13:28.475Z"
   },
   {
    "duration": 126,
    "start_time": "2022-11-07T03:13:28.648Z"
   },
   {
    "duration": 2212,
    "start_time": "2022-11-07T03:13:28.776Z"
   },
   {
    "duration": 17,
    "start_time": "2022-11-07T03:13:30.990Z"
   },
   {
    "duration": 40,
    "start_time": "2022-11-07T03:13:31.009Z"
   },
   {
    "duration": 28,
    "start_time": "2022-11-07T03:13:31.051Z"
   },
   {
    "duration": 38,
    "start_time": "2022-11-07T03:13:31.080Z"
   },
   {
    "duration": 18,
    "start_time": "2022-11-07T03:13:31.120Z"
   },
   {
    "duration": 26,
    "start_time": "2022-11-07T03:13:31.139Z"
   },
   {
    "duration": 80,
    "start_time": "2022-11-07T03:13:31.166Z"
   },
   {
    "duration": 124,
    "start_time": "2022-11-07T03:13:31.248Z"
   },
   {
    "duration": 2159,
    "start_time": "2022-11-07T03:13:31.374Z"
   },
   {
    "duration": 12,
    "start_time": "2022-11-07T03:13:33.538Z"
   },
   {
    "duration": 4,
    "start_time": "2022-11-07T03:13:33.552Z"
   },
   {
    "duration": 83,
    "start_time": "2022-11-07T03:13:33.557Z"
   },
   {
    "duration": 212,
    "start_time": "2022-11-07T03:13:33.643Z"
   },
   {
    "duration": 0,
    "start_time": "2022-11-07T03:13:33.856Z"
   },
   {
    "duration": 0,
    "start_time": "2022-11-07T03:13:33.857Z"
   },
   {
    "duration": 1524,
    "start_time": "2022-11-07T03:14:46.996Z"
   },
   {
    "duration": 47,
    "start_time": "2022-11-07T03:14:48.523Z"
   },
   {
    "duration": 21,
    "start_time": "2022-11-07T03:14:48.572Z"
   },
   {
    "duration": 27,
    "start_time": "2022-11-07T03:14:48.597Z"
   },
   {
    "duration": 2172,
    "start_time": "2022-11-07T03:14:48.626Z"
   },
   {
    "duration": 50,
    "start_time": "2022-11-07T03:14:50.801Z"
   },
   {
    "duration": 182,
    "start_time": "2022-11-07T03:14:50.853Z"
   },
   {
    "duration": 4,
    "start_time": "2022-11-07T03:14:51.038Z"
   },
   {
    "duration": 8,
    "start_time": "2022-11-07T03:14:51.043Z"
   },
   {
    "duration": 8,
    "start_time": "2022-11-07T03:14:51.054Z"
   },
   {
    "duration": 5,
    "start_time": "2022-11-07T03:14:51.064Z"
   },
   {
    "duration": 1680,
    "start_time": "2022-11-07T03:14:51.070Z"
   },
   {
    "duration": 39,
    "start_time": "2022-11-07T03:14:52.753Z"
   },
   {
    "duration": 10,
    "start_time": "2022-11-07T03:14:52.794Z"
   },
   {
    "duration": 35,
    "start_time": "2022-11-07T03:14:52.805Z"
   },
   {
    "duration": 8,
    "start_time": "2022-11-07T03:14:52.842Z"
   },
   {
    "duration": 6,
    "start_time": "2022-11-07T03:14:52.851Z"
   },
   {
    "duration": 9,
    "start_time": "2022-11-07T03:14:52.859Z"
   },
   {
    "duration": 15,
    "start_time": "2022-11-07T03:14:52.869Z"
   },
   {
    "duration": 9,
    "start_time": "2022-11-07T03:14:52.885Z"
   },
   {
    "duration": 45,
    "start_time": "2022-11-07T03:14:52.896Z"
   },
   {
    "duration": 16,
    "start_time": "2022-11-07T03:14:52.943Z"
   },
   {
    "duration": 83,
    "start_time": "2022-11-07T03:14:52.960Z"
   },
   {
    "duration": 118,
    "start_time": "2022-11-07T03:14:53.045Z"
   },
   {
    "duration": 2133,
    "start_time": "2022-11-07T03:14:53.165Z"
   },
   {
    "duration": 14,
    "start_time": "2022-11-07T03:14:55.300Z"
   },
   {
    "duration": 4,
    "start_time": "2022-11-07T03:14:55.316Z"
   },
   {
    "duration": 9,
    "start_time": "2022-11-07T03:14:55.340Z"
   },
   {
    "duration": 26,
    "start_time": "2022-11-07T03:14:55.351Z"
   },
   {
    "duration": 11,
    "start_time": "2022-11-07T03:14:55.379Z"
   },
   {
    "duration": 4,
    "start_time": "2022-11-07T03:14:55.392Z"
   },
   {
    "duration": 153,
    "start_time": "2022-11-07T03:14:55.398Z"
   },
   {
    "duration": 45,
    "start_time": "2022-11-07T03:14:55.638Z"
   },
   {
    "duration": 2395,
    "start_time": "2022-11-07T03:14:55.685Z"
   },
   {
    "duration": 13,
    "start_time": "2022-11-07T03:14:58.081Z"
   },
   {
    "duration": 9,
    "start_time": "2022-11-07T03:14:58.095Z"
   },
   {
    "duration": 41,
    "start_time": "2022-11-07T03:14:58.105Z"
   },
   {
    "duration": 315,
    "start_time": "2022-11-07T03:14:58.148Z"
   },
   {
    "duration": 0,
    "start_time": "2022-11-07T03:14:58.464Z"
   },
   {
    "duration": 0,
    "start_time": "2022-11-07T03:14:58.467Z"
   },
   {
    "duration": 18,
    "start_time": "2022-11-07T03:16:27.508Z"
   },
   {
    "duration": 928,
    "start_time": "2022-11-07T03:16:29.236Z"
   },
   {
    "duration": 226,
    "start_time": "2022-11-07T03:16:40.329Z"
   },
   {
    "duration": 1422,
    "start_time": "2022-11-07T03:16:53.726Z"
   },
   {
    "duration": 42,
    "start_time": "2022-11-07T03:16:55.150Z"
   },
   {
    "duration": 18,
    "start_time": "2022-11-07T03:16:55.195Z"
   },
   {
    "duration": 18,
    "start_time": "2022-11-07T03:16:55.215Z"
   },
   {
    "duration": 1900,
    "start_time": "2022-11-07T03:16:55.236Z"
   },
   {
    "duration": 54,
    "start_time": "2022-11-07T03:16:57.139Z"
   },
   {
    "duration": 211,
    "start_time": "2022-11-07T03:16:57.195Z"
   },
   {
    "duration": 5,
    "start_time": "2022-11-07T03:16:57.407Z"
   },
   {
    "duration": 7,
    "start_time": "2022-11-07T03:16:57.413Z"
   },
   {
    "duration": 16,
    "start_time": "2022-11-07T03:16:57.422Z"
   },
   {
    "duration": 3,
    "start_time": "2022-11-07T03:16:57.440Z"
   },
   {
    "duration": 1589,
    "start_time": "2022-11-07T03:16:57.444Z"
   },
   {
    "duration": 36,
    "start_time": "2022-11-07T03:16:59.038Z"
   },
   {
    "duration": 9,
    "start_time": "2022-11-07T03:16:59.077Z"
   },
   {
    "duration": 16,
    "start_time": "2022-11-07T03:16:59.088Z"
   },
   {
    "duration": 9,
    "start_time": "2022-11-07T03:16:59.106Z"
   },
   {
    "duration": 27,
    "start_time": "2022-11-07T03:16:59.117Z"
   },
   {
    "duration": 8,
    "start_time": "2022-11-07T03:16:59.145Z"
   },
   {
    "duration": 12,
    "start_time": "2022-11-07T03:16:59.155Z"
   },
   {
    "duration": 8,
    "start_time": "2022-11-07T03:16:59.169Z"
   },
   {
    "duration": 12,
    "start_time": "2022-11-07T03:16:59.179Z"
   },
   {
    "duration": 15,
    "start_time": "2022-11-07T03:16:59.192Z"
   },
   {
    "duration": 132,
    "start_time": "2022-11-07T03:16:59.209Z"
   },
   {
    "duration": 128,
    "start_time": "2022-11-07T03:16:59.344Z"
   },
   {
    "duration": 2168,
    "start_time": "2022-11-07T03:16:59.474Z"
   },
   {
    "duration": 15,
    "start_time": "2022-11-07T03:17:01.644Z"
   },
   {
    "duration": 5,
    "start_time": "2022-11-07T03:17:01.660Z"
   },
   {
    "duration": 11,
    "start_time": "2022-11-07T03:17:01.667Z"
   },
   {
    "duration": 26,
    "start_time": "2022-11-07T03:17:01.679Z"
   },
   {
    "duration": 39,
    "start_time": "2022-11-07T03:17:01.707Z"
   },
   {
    "duration": 3,
    "start_time": "2022-11-07T03:17:01.748Z"
   },
   {
    "duration": 96,
    "start_time": "2022-11-07T03:17:01.753Z"
   },
   {
    "duration": 39,
    "start_time": "2022-11-07T03:17:01.938Z"
   },
   {
    "duration": 2130,
    "start_time": "2022-11-07T03:17:01.979Z"
   },
   {
    "duration": 12,
    "start_time": "2022-11-07T03:17:04.111Z"
   },
   {
    "duration": 17,
    "start_time": "2022-11-07T03:17:04.125Z"
   },
   {
    "duration": 196,
    "start_time": "2022-11-07T03:17:04.143Z"
   },
   {
    "duration": 19,
    "start_time": "2022-11-07T03:17:04.341Z"
   },
   {
    "duration": 940,
    "start_time": "2022-11-07T03:17:04.362Z"
   },
   {
    "duration": 231,
    "start_time": "2022-11-07T03:17:05.303Z"
   },
   {
    "duration": 1545,
    "start_time": "2022-11-07T03:26:16.800Z"
   },
   {
    "duration": 44,
    "start_time": "2022-11-07T03:26:18.348Z"
   },
   {
    "duration": 15,
    "start_time": "2022-11-07T03:26:18.393Z"
   },
   {
    "duration": 17,
    "start_time": "2022-11-07T03:26:18.410Z"
   },
   {
    "duration": 2049,
    "start_time": "2022-11-07T03:26:18.429Z"
   },
   {
    "duration": 48,
    "start_time": "2022-11-07T03:26:20.480Z"
   },
   {
    "duration": 215,
    "start_time": "2022-11-07T03:26:20.539Z"
   },
   {
    "duration": 5,
    "start_time": "2022-11-07T03:26:20.756Z"
   },
   {
    "duration": 7,
    "start_time": "2022-11-07T03:26:20.763Z"
   },
   {
    "duration": 7,
    "start_time": "2022-11-07T03:26:20.772Z"
   },
   {
    "duration": 2,
    "start_time": "2022-11-07T03:26:20.781Z"
   },
   {
    "duration": 1743,
    "start_time": "2022-11-07T03:26:20.785Z"
   },
   {
    "duration": 43,
    "start_time": "2022-11-07T03:26:22.530Z"
   },
   {
    "duration": 10,
    "start_time": "2022-11-07T03:26:22.578Z"
   },
   {
    "duration": 18,
    "start_time": "2022-11-07T03:26:22.589Z"
   },
   {
    "duration": 24,
    "start_time": "2022-11-07T03:26:22.609Z"
   },
   {
    "duration": 8,
    "start_time": "2022-11-07T03:26:22.639Z"
   },
   {
    "duration": 8,
    "start_time": "2022-11-07T03:26:22.648Z"
   },
   {
    "duration": 21,
    "start_time": "2022-11-07T03:26:22.658Z"
   },
   {
    "duration": 10,
    "start_time": "2022-11-07T03:26:22.681Z"
   },
   {
    "duration": 12,
    "start_time": "2022-11-07T03:26:22.692Z"
   },
   {
    "duration": 38,
    "start_time": "2022-11-07T03:26:22.706Z"
   },
   {
    "duration": 92,
    "start_time": "2022-11-07T03:26:22.746Z"
   },
   {
    "duration": 132,
    "start_time": "2022-11-07T03:26:22.842Z"
   },
   {
    "duration": 2192,
    "start_time": "2022-11-07T03:26:22.977Z"
   },
   {
    "duration": 14,
    "start_time": "2022-11-07T03:26:25.171Z"
   },
   {
    "duration": 4,
    "start_time": "2022-11-07T03:26:25.187Z"
   },
   {
    "duration": 10,
    "start_time": "2022-11-07T03:26:25.192Z"
   },
   {
    "duration": 40,
    "start_time": "2022-11-07T03:26:25.204Z"
   },
   {
    "duration": 12,
    "start_time": "2022-11-07T03:26:25.246Z"
   },
   {
    "duration": 3,
    "start_time": "2022-11-07T03:26:25.260Z"
   },
   {
    "duration": 81,
    "start_time": "2022-11-07T03:26:25.265Z"
   },
   {
    "duration": 130,
    "start_time": "2022-11-07T03:26:25.348Z"
   },
   {
    "duration": 2292,
    "start_time": "2022-11-07T03:26:25.480Z"
   },
   {
    "duration": 12,
    "start_time": "2022-11-07T03:26:27.774Z"
   },
   {
    "duration": 4,
    "start_time": "2022-11-07T03:26:27.788Z"
   },
   {
    "duration": 52,
    "start_time": "2022-11-07T03:26:27.794Z"
   },
   {
    "duration": 195,
    "start_time": "2022-11-07T03:26:27.848Z"
   },
   {
    "duration": 972,
    "start_time": "2022-11-07T03:26:28.045Z"
   },
   {
    "duration": 245,
    "start_time": "2022-11-07T03:26:29.020Z"
   },
   {
    "duration": 1270,
    "start_time": "2022-11-07T03:29:22.586Z"
   },
   {
    "duration": 40,
    "start_time": "2022-11-07T03:29:23.858Z"
   },
   {
    "duration": 13,
    "start_time": "2022-11-07T03:29:23.900Z"
   },
   {
    "duration": 18,
    "start_time": "2022-11-07T03:29:23.914Z"
   },
   {
    "duration": 1910,
    "start_time": "2022-11-07T03:29:23.935Z"
   },
   {
    "duration": 41,
    "start_time": "2022-11-07T03:29:25.847Z"
   },
   {
    "duration": 166,
    "start_time": "2022-11-07T03:29:25.890Z"
   },
   {
    "duration": 5,
    "start_time": "2022-11-07T03:29:26.057Z"
   },
   {
    "duration": 21,
    "start_time": "2022-11-07T03:29:26.063Z"
   },
   {
    "duration": 7,
    "start_time": "2022-11-07T03:29:26.085Z"
   },
   {
    "duration": 3,
    "start_time": "2022-11-07T03:29:26.094Z"
   },
   {
    "duration": 1663,
    "start_time": "2022-11-07T03:29:26.098Z"
   },
   {
    "duration": 35,
    "start_time": "2022-11-07T03:29:27.763Z"
   },
   {
    "duration": 9,
    "start_time": "2022-11-07T03:29:27.801Z"
   },
   {
    "duration": 31,
    "start_time": "2022-11-07T03:29:27.812Z"
   },
   {
    "duration": 7,
    "start_time": "2022-11-07T03:29:27.844Z"
   },
   {
    "duration": 8,
    "start_time": "2022-11-07T03:29:27.852Z"
   },
   {
    "duration": 6,
    "start_time": "2022-11-07T03:29:27.861Z"
   },
   {
    "duration": 14,
    "start_time": "2022-11-07T03:29:27.869Z"
   },
   {
    "duration": 9,
    "start_time": "2022-11-07T03:29:27.884Z"
   },
   {
    "duration": 11,
    "start_time": "2022-11-07T03:29:27.895Z"
   },
   {
    "duration": 38,
    "start_time": "2022-11-07T03:29:27.907Z"
   },
   {
    "duration": 94,
    "start_time": "2022-11-07T03:29:27.947Z"
   },
   {
    "duration": 2047,
    "start_time": "2022-11-07T03:29:28.043Z"
   },
   {
    "duration": 95778,
    "start_time": "2022-11-07T03:29:30.091Z"
   },
   {
    "duration": 0,
    "start_time": "2022-11-07T03:31:05.871Z"
   },
   {
    "duration": 0,
    "start_time": "2022-11-07T03:31:05.872Z"
   },
   {
    "duration": 0,
    "start_time": "2022-11-07T03:31:05.873Z"
   },
   {
    "duration": 0,
    "start_time": "2022-11-07T03:31:05.875Z"
   },
   {
    "duration": 0,
    "start_time": "2022-11-07T03:31:05.876Z"
   },
   {
    "duration": 0,
    "start_time": "2022-11-07T03:31:05.877Z"
   },
   {
    "duration": 0,
    "start_time": "2022-11-07T03:31:05.878Z"
   },
   {
    "duration": 0,
    "start_time": "2022-11-07T03:31:05.878Z"
   },
   {
    "duration": 0,
    "start_time": "2022-11-07T03:31:05.880Z"
   },
   {
    "duration": 0,
    "start_time": "2022-11-07T03:31:05.881Z"
   },
   {
    "duration": 0,
    "start_time": "2022-11-07T03:31:05.882Z"
   },
   {
    "duration": 0,
    "start_time": "2022-11-07T03:31:05.883Z"
   },
   {
    "duration": 0,
    "start_time": "2022-11-07T03:31:05.884Z"
   },
   {
    "duration": 0,
    "start_time": "2022-11-07T03:31:05.885Z"
   },
   {
    "duration": 0,
    "start_time": "2022-11-07T03:31:05.886Z"
   },
   {
    "duration": 1336,
    "start_time": "2022-11-07T03:32:01.102Z"
   },
   {
    "duration": 45,
    "start_time": "2022-11-07T03:32:02.439Z"
   },
   {
    "duration": 14,
    "start_time": "2022-11-07T03:32:02.485Z"
   },
   {
    "duration": 61,
    "start_time": "2022-11-07T03:32:02.501Z"
   },
   {
    "duration": 1921,
    "start_time": "2022-11-07T03:32:02.564Z"
   },
   {
    "duration": 42,
    "start_time": "2022-11-07T03:32:04.486Z"
   },
   {
    "duration": 164,
    "start_time": "2022-11-07T03:32:04.539Z"
   },
   {
    "duration": 9,
    "start_time": "2022-11-07T03:32:04.705Z"
   },
   {
    "duration": 12,
    "start_time": "2022-11-07T03:32:04.715Z"
   },
   {
    "duration": 17,
    "start_time": "2022-11-07T03:32:04.728Z"
   },
   {
    "duration": 3,
    "start_time": "2022-11-07T03:32:04.746Z"
   },
   {
    "duration": 1597,
    "start_time": "2022-11-07T03:32:04.751Z"
   },
   {
    "duration": 36,
    "start_time": "2022-11-07T03:32:06.350Z"
   },
   {
    "duration": 10,
    "start_time": "2022-11-07T03:32:06.390Z"
   },
   {
    "duration": 16,
    "start_time": "2022-11-07T03:32:06.401Z"
   },
   {
    "duration": 7,
    "start_time": "2022-11-07T03:32:06.439Z"
   },
   {
    "duration": 7,
    "start_time": "2022-11-07T03:32:06.448Z"
   },
   {
    "duration": 7,
    "start_time": "2022-11-07T03:32:06.457Z"
   },
   {
    "duration": 14,
    "start_time": "2022-11-07T03:32:06.466Z"
   },
   {
    "duration": 11,
    "start_time": "2022-11-07T03:32:06.483Z"
   },
   {
    "duration": 46,
    "start_time": "2022-11-07T03:32:06.495Z"
   },
   {
    "duration": 17,
    "start_time": "2022-11-07T03:32:06.544Z"
   },
   {
    "duration": 84,
    "start_time": "2022-11-07T03:32:06.563Z"
   },
   {
    "duration": 27,
    "start_time": "2022-11-07T03:32:06.739Z"
   },
   {
    "duration": 42911,
    "start_time": "2022-11-07T03:32:06.768Z"
   },
   {
    "duration": 0,
    "start_time": "2022-11-07T03:32:49.681Z"
   },
   {
    "duration": 0,
    "start_time": "2022-11-07T03:32:49.682Z"
   },
   {
    "duration": 0,
    "start_time": "2022-11-07T03:32:49.683Z"
   },
   {
    "duration": 0,
    "start_time": "2022-11-07T03:32:49.684Z"
   },
   {
    "duration": 0,
    "start_time": "2022-11-07T03:32:49.685Z"
   },
   {
    "duration": 0,
    "start_time": "2022-11-07T03:32:49.686Z"
   },
   {
    "duration": 0,
    "start_time": "2022-11-07T03:32:49.687Z"
   },
   {
    "duration": 0,
    "start_time": "2022-11-07T03:32:49.688Z"
   },
   {
    "duration": 0,
    "start_time": "2022-11-07T03:32:49.689Z"
   },
   {
    "duration": 0,
    "start_time": "2022-11-07T03:32:49.690Z"
   },
   {
    "duration": 0,
    "start_time": "2022-11-07T03:32:49.691Z"
   },
   {
    "duration": 0,
    "start_time": "2022-11-07T03:32:49.692Z"
   },
   {
    "duration": 0,
    "start_time": "2022-11-07T03:32:49.693Z"
   },
   {
    "duration": 0,
    "start_time": "2022-11-07T03:32:49.694Z"
   },
   {
    "duration": 0,
    "start_time": "2022-11-07T03:32:49.695Z"
   },
   {
    "duration": 1346,
    "start_time": "2022-11-07T03:33:09.306Z"
   },
   {
    "duration": 41,
    "start_time": "2022-11-07T03:33:10.654Z"
   },
   {
    "duration": 17,
    "start_time": "2022-11-07T03:33:10.697Z"
   },
   {
    "duration": 18,
    "start_time": "2022-11-07T03:33:10.716Z"
   },
   {
    "duration": 1947,
    "start_time": "2022-11-07T03:33:10.737Z"
   },
   {
    "duration": 53,
    "start_time": "2022-11-07T03:33:12.686Z"
   },
   {
    "duration": 168,
    "start_time": "2022-11-07T03:33:12.741Z"
   },
   {
    "duration": 8,
    "start_time": "2022-11-07T03:33:12.912Z"
   },
   {
    "duration": 16,
    "start_time": "2022-11-07T03:33:12.923Z"
   },
   {
    "duration": 9,
    "start_time": "2022-11-07T03:33:12.942Z"
   },
   {
    "duration": 4,
    "start_time": "2022-11-07T03:33:12.953Z"
   },
   {
    "duration": 1575,
    "start_time": "2022-11-07T03:33:12.958Z"
   },
   {
    "duration": 36,
    "start_time": "2022-11-07T03:33:14.538Z"
   },
   {
    "duration": 10,
    "start_time": "2022-11-07T03:33:14.576Z"
   },
   {
    "duration": 11,
    "start_time": "2022-11-07T03:33:14.588Z"
   },
   {
    "duration": 6,
    "start_time": "2022-11-07T03:33:14.601Z"
   },
   {
    "duration": 6,
    "start_time": "2022-11-07T03:33:14.608Z"
   },
   {
    "duration": 8,
    "start_time": "2022-11-07T03:33:14.638Z"
   },
   {
    "duration": 16,
    "start_time": "2022-11-07T03:33:14.648Z"
   },
   {
    "duration": 10,
    "start_time": "2022-11-07T03:33:14.666Z"
   },
   {
    "duration": 14,
    "start_time": "2022-11-07T03:33:14.677Z"
   },
   {
    "duration": 12,
    "start_time": "2022-11-07T03:33:14.693Z"
   },
   {
    "duration": 132,
    "start_time": "2022-11-07T03:33:14.707Z"
   },
   {
    "duration": 120,
    "start_time": "2022-11-07T03:33:14.840Z"
   },
   {
    "duration": 1507,
    "start_time": "2022-11-07T04:19:46.842Z"
   },
   {
    "duration": 40,
    "start_time": "2022-11-07T04:19:48.352Z"
   },
   {
    "duration": 12,
    "start_time": "2022-11-07T04:19:48.394Z"
   },
   {
    "duration": 15,
    "start_time": "2022-11-07T04:19:48.409Z"
   },
   {
    "duration": 1924,
    "start_time": "2022-11-07T04:19:48.426Z"
   },
   {
    "duration": 44,
    "start_time": "2022-11-07T04:19:50.352Z"
   },
   {
    "duration": 178,
    "start_time": "2022-11-07T04:19:50.398Z"
   },
   {
    "duration": 5,
    "start_time": "2022-11-07T04:19:50.577Z"
   },
   {
    "duration": 6,
    "start_time": "2022-11-07T04:19:50.584Z"
   },
   {
    "duration": 15,
    "start_time": "2022-11-07T04:19:50.592Z"
   },
   {
    "duration": 9,
    "start_time": "2022-11-07T04:19:50.608Z"
   },
   {
    "duration": 1621,
    "start_time": "2022-11-07T04:19:50.618Z"
   },
   {
    "duration": 34,
    "start_time": "2022-11-07T04:19:52.241Z"
   },
   {
    "duration": 10,
    "start_time": "2022-11-07T04:19:52.277Z"
   },
   {
    "duration": 11,
    "start_time": "2022-11-07T04:19:52.289Z"
   },
   {
    "duration": 8,
    "start_time": "2022-11-07T04:19:52.301Z"
   },
   {
    "duration": 30,
    "start_time": "2022-11-07T04:19:52.311Z"
   },
   {
    "duration": 7,
    "start_time": "2022-11-07T04:19:52.343Z"
   },
   {
    "duration": 17,
    "start_time": "2022-11-07T04:19:52.351Z"
   },
   {
    "duration": 9,
    "start_time": "2022-11-07T04:19:52.369Z"
   },
   {
    "duration": 10,
    "start_time": "2022-11-07T04:19:52.380Z"
   },
   {
    "duration": 13,
    "start_time": "2022-11-07T04:19:52.392Z"
   },
   {
    "duration": 133,
    "start_time": "2022-11-07T04:19:52.407Z"
   },
   {
    "duration": 119,
    "start_time": "2022-11-07T04:19:52.543Z"
   },
   {
    "duration": 746,
    "start_time": "2022-11-07T04:19:52.664Z"
   },
   {
    "duration": 15,
    "start_time": "2022-11-07T04:19:53.412Z"
   },
   {
    "duration": 4,
    "start_time": "2022-11-07T04:19:53.438Z"
   },
   {
    "duration": 9,
    "start_time": "2022-11-07T04:19:53.446Z"
   },
   {
    "duration": 25,
    "start_time": "2022-11-07T04:19:53.457Z"
   },
   {
    "duration": 13,
    "start_time": "2022-11-07T04:19:53.483Z"
   },
   {
    "duration": 4,
    "start_time": "2022-11-07T04:19:53.497Z"
   },
   {
    "duration": 137,
    "start_time": "2022-11-07T04:19:53.502Z"
   },
   {
    "duration": 125,
    "start_time": "2022-11-07T04:19:53.642Z"
   },
   {
    "duration": 2171,
    "start_time": "2022-11-07T04:19:53.768Z"
   },
   {
    "duration": 11,
    "start_time": "2022-11-07T04:19:55.940Z"
   },
   {
    "duration": 6,
    "start_time": "2022-11-07T04:19:55.953Z"
   },
   {
    "duration": 83,
    "start_time": "2022-11-07T04:19:55.960Z"
   },
   {
    "duration": 110,
    "start_time": "2022-11-07T04:19:56.045Z"
   },
   {
    "duration": 928,
    "start_time": "2022-11-07T04:19:56.157Z"
   },
   {
    "duration": 266,
    "start_time": "2022-11-07T04:19:57.087Z"
   },
   {
    "duration": 1342,
    "start_time": "2022-11-07T04:24:57.510Z"
   },
   {
    "duration": 42,
    "start_time": "2022-11-07T04:24:58.854Z"
   },
   {
    "duration": 13,
    "start_time": "2022-11-07T04:24:58.898Z"
   },
   {
    "duration": 17,
    "start_time": "2022-11-07T04:24:58.913Z"
   },
   {
    "duration": 2017,
    "start_time": "2022-11-07T04:24:58.931Z"
   },
   {
    "duration": 45,
    "start_time": "2022-11-07T04:25:00.950Z"
   },
   {
    "duration": 176,
    "start_time": "2022-11-07T04:25:00.997Z"
   },
   {
    "duration": 4,
    "start_time": "2022-11-07T04:25:01.175Z"
   },
   {
    "duration": 13,
    "start_time": "2022-11-07T04:25:01.180Z"
   },
   {
    "duration": 13,
    "start_time": "2022-11-07T04:25:01.196Z"
   },
   {
    "duration": 11,
    "start_time": "2022-11-07T04:25:01.210Z"
   },
   {
    "duration": 1666,
    "start_time": "2022-11-07T04:25:01.223Z"
   },
   {
    "duration": 50,
    "start_time": "2022-11-07T04:25:02.891Z"
   },
   {
    "duration": 12,
    "start_time": "2022-11-07T04:25:02.943Z"
   },
   {
    "duration": 14,
    "start_time": "2022-11-07T04:25:02.957Z"
   },
   {
    "duration": 11,
    "start_time": "2022-11-07T04:25:02.972Z"
   },
   {
    "duration": 5,
    "start_time": "2022-11-07T04:25:02.985Z"
   },
   {
    "duration": 6,
    "start_time": "2022-11-07T04:25:02.991Z"
   },
   {
    "duration": 14,
    "start_time": "2022-11-07T04:25:02.999Z"
   },
   {
    "duration": 10,
    "start_time": "2022-11-07T04:25:03.039Z"
   },
   {
    "duration": 13,
    "start_time": "2022-11-07T04:25:03.051Z"
   },
   {
    "duration": 13,
    "start_time": "2022-11-07T04:25:03.065Z"
   },
   {
    "duration": 159,
    "start_time": "2022-11-07T04:25:03.080Z"
   },
   {
    "duration": 119,
    "start_time": "2022-11-07T04:25:03.242Z"
   },
   {
    "duration": 776,
    "start_time": "2022-11-07T04:25:03.363Z"
   },
   {
    "duration": 14,
    "start_time": "2022-11-07T04:25:04.140Z"
   },
   {
    "duration": 4,
    "start_time": "2022-11-07T04:25:04.156Z"
   },
   {
    "duration": 8,
    "start_time": "2022-11-07T04:25:04.163Z"
   },
   {
    "duration": 31,
    "start_time": "2022-11-07T04:25:04.172Z"
   },
   {
    "duration": 12,
    "start_time": "2022-11-07T04:25:04.204Z"
   },
   {
    "duration": 24,
    "start_time": "2022-11-07T04:25:04.218Z"
   },
   {
    "duration": 97,
    "start_time": "2022-11-07T04:25:04.244Z"
   },
   {
    "duration": 3058,
    "start_time": "2022-11-07T04:25:04.343Z"
   },
   {
    "duration": 2251,
    "start_time": "2022-11-07T04:25:07.403Z"
   },
   {
    "duration": 12,
    "start_time": "2022-11-07T04:25:09.656Z"
   },
   {
    "duration": 5,
    "start_time": "2022-11-07T04:25:09.669Z"
   },
   {
    "duration": 71,
    "start_time": "2022-11-07T04:25:09.676Z"
   },
   {
    "duration": 19,
    "start_time": "2022-11-07T04:25:09.839Z"
   },
   {
    "duration": 983,
    "start_time": "2022-11-07T04:25:09.860Z"
   },
   {
    "duration": 243,
    "start_time": "2022-11-07T04:25:10.845Z"
   },
   {
    "duration": 1278,
    "start_time": "2022-11-07T04:28:11.255Z"
   },
   {
    "duration": 41,
    "start_time": "2022-11-07T04:28:12.535Z"
   },
   {
    "duration": 12,
    "start_time": "2022-11-07T04:28:12.578Z"
   },
   {
    "duration": 16,
    "start_time": "2022-11-07T04:28:12.592Z"
   },
   {
    "duration": 1949,
    "start_time": "2022-11-07T04:28:12.610Z"
   },
   {
    "duration": 43,
    "start_time": "2022-11-07T04:28:14.561Z"
   },
   {
    "duration": 183,
    "start_time": "2022-11-07T04:28:14.606Z"
   },
   {
    "duration": 4,
    "start_time": "2022-11-07T04:28:14.790Z"
   },
   {
    "duration": 5,
    "start_time": "2022-11-07T04:28:14.796Z"
   },
   {
    "duration": 6,
    "start_time": "2022-11-07T04:28:14.803Z"
   },
   {
    "duration": 3,
    "start_time": "2022-11-07T04:28:14.810Z"
   },
   {
    "duration": 1585,
    "start_time": "2022-11-07T04:28:14.814Z"
   },
   {
    "duration": 47,
    "start_time": "2022-11-07T04:28:16.400Z"
   },
   {
    "duration": 9,
    "start_time": "2022-11-07T04:28:16.448Z"
   },
   {
    "duration": 11,
    "start_time": "2022-11-07T04:28:16.459Z"
   },
   {
    "duration": 6,
    "start_time": "2022-11-07T04:28:16.471Z"
   },
   {
    "duration": 6,
    "start_time": "2022-11-07T04:28:16.478Z"
   },
   {
    "duration": 6,
    "start_time": "2022-11-07T04:28:16.486Z"
   },
   {
    "duration": 16,
    "start_time": "2022-11-07T04:28:16.494Z"
   },
   {
    "duration": 34,
    "start_time": "2022-11-07T04:28:16.512Z"
   },
   {
    "duration": 22,
    "start_time": "2022-11-07T04:28:16.548Z"
   },
   {
    "duration": 13,
    "start_time": "2022-11-07T04:28:16.572Z"
   },
   {
    "duration": 60,
    "start_time": "2022-11-07T04:28:16.587Z"
   },
   {
    "duration": 106,
    "start_time": "2022-11-07T04:28:16.739Z"
   },
   {
    "duration": 806,
    "start_time": "2022-11-07T04:28:16.846Z"
   },
   {
    "duration": 14,
    "start_time": "2022-11-07T04:28:17.654Z"
   },
   {
    "duration": 4,
    "start_time": "2022-11-07T04:28:17.669Z"
   },
   {
    "duration": 11,
    "start_time": "2022-11-07T04:28:17.676Z"
   },
   {
    "duration": 26,
    "start_time": "2022-11-07T04:28:17.689Z"
   },
   {
    "duration": 32,
    "start_time": "2022-11-07T04:28:17.716Z"
   },
   {
    "duration": 4,
    "start_time": "2022-11-07T04:28:17.750Z"
   },
   {
    "duration": 87,
    "start_time": "2022-11-07T04:28:17.755Z"
   },
   {
    "duration": 126,
    "start_time": "2022-11-07T04:28:17.844Z"
   },
   {
    "duration": 1643038,
    "start_time": "2022-11-07T04:28:17.971Z"
   },
   {
    "duration": 0,
    "start_time": "2022-11-07T04:55:41.011Z"
   },
   {
    "duration": 0,
    "start_time": "2022-11-07T04:55:41.012Z"
   },
   {
    "duration": 0,
    "start_time": "2022-11-07T04:55:41.013Z"
   },
   {
    "duration": 0,
    "start_time": "2022-11-07T04:55:41.014Z"
   },
   {
    "duration": 0,
    "start_time": "2022-11-07T04:55:41.015Z"
   },
   {
    "duration": 0,
    "start_time": "2022-11-07T04:55:41.016Z"
   },
   {
    "duration": 1333,
    "start_time": "2022-11-07T04:56:49.033Z"
   },
   {
    "duration": 40,
    "start_time": "2022-11-07T04:56:50.368Z"
   },
   {
    "duration": 12,
    "start_time": "2022-11-07T04:56:50.410Z"
   },
   {
    "duration": 16,
    "start_time": "2022-11-07T04:56:50.424Z"
   },
   {
    "duration": 2047,
    "start_time": "2022-11-07T04:56:50.441Z"
   },
   {
    "duration": 54,
    "start_time": "2022-11-07T04:56:52.490Z"
   },
   {
    "duration": 184,
    "start_time": "2022-11-07T04:56:52.545Z"
   },
   {
    "duration": 9,
    "start_time": "2022-11-07T04:56:52.731Z"
   },
   {
    "duration": 5,
    "start_time": "2022-11-07T04:56:52.742Z"
   },
   {
    "duration": 6,
    "start_time": "2022-11-07T04:56:52.751Z"
   },
   {
    "duration": 6,
    "start_time": "2022-11-07T04:56:52.758Z"
   },
   {
    "duration": 1627,
    "start_time": "2022-11-07T04:56:52.765Z"
   },
   {
    "duration": 47,
    "start_time": "2022-11-07T04:56:54.394Z"
   },
   {
    "duration": 12,
    "start_time": "2022-11-07T04:56:54.443Z"
   },
   {
    "duration": 14,
    "start_time": "2022-11-07T04:56:54.456Z"
   },
   {
    "duration": 7,
    "start_time": "2022-11-07T04:56:54.472Z"
   },
   {
    "duration": 10,
    "start_time": "2022-11-07T04:56:54.480Z"
   },
   {
    "duration": 10,
    "start_time": "2022-11-07T04:56:54.492Z"
   },
   {
    "duration": 35,
    "start_time": "2022-11-07T04:56:54.504Z"
   },
   {
    "duration": 9,
    "start_time": "2022-11-07T04:56:54.540Z"
   },
   {
    "duration": 16,
    "start_time": "2022-11-07T04:56:54.551Z"
   },
   {
    "duration": 22,
    "start_time": "2022-11-07T04:56:54.568Z"
   },
   {
    "duration": 148,
    "start_time": "2022-11-07T04:56:54.591Z"
   },
   {
    "duration": 117,
    "start_time": "2022-11-07T04:56:54.741Z"
   },
   {
    "duration": 915,
    "start_time": "2022-11-07T04:56:54.859Z"
   },
   {
    "duration": 15,
    "start_time": "2022-11-07T04:56:55.775Z"
   },
   {
    "duration": 4,
    "start_time": "2022-11-07T04:56:55.792Z"
   },
   {
    "duration": 10,
    "start_time": "2022-11-07T04:56:55.800Z"
   },
   {
    "duration": 51,
    "start_time": "2022-11-07T04:56:55.811Z"
   },
   {
    "duration": 12,
    "start_time": "2022-11-07T04:56:55.863Z"
   },
   {
    "duration": 5,
    "start_time": "2022-11-07T04:56:55.876Z"
   },
   {
    "duration": 158,
    "start_time": "2022-11-07T04:56:55.882Z"
   },
   {
    "duration": 125,
    "start_time": "2022-11-07T04:56:56.042Z"
   },
   {
    "duration": 684785,
    "start_time": "2022-11-07T04:56:56.169Z"
   },
   {
    "duration": 0,
    "start_time": "2022-11-07T05:08:20.956Z"
   },
   {
    "duration": 0,
    "start_time": "2022-11-07T05:08:20.957Z"
   },
   {
    "duration": 0,
    "start_time": "2022-11-07T05:08:20.959Z"
   },
   {
    "duration": 0,
    "start_time": "2022-11-07T05:08:20.960Z"
   },
   {
    "duration": 0,
    "start_time": "2022-11-07T05:08:20.961Z"
   },
   {
    "duration": 0,
    "start_time": "2022-11-07T05:08:20.962Z"
   },
   {
    "duration": 1272,
    "start_time": "2022-11-07T05:09:12.585Z"
   },
   {
    "duration": 41,
    "start_time": "2022-11-07T05:09:13.859Z"
   },
   {
    "duration": 14,
    "start_time": "2022-11-07T05:09:13.902Z"
   },
   {
    "duration": 18,
    "start_time": "2022-11-07T05:09:13.918Z"
   },
   {
    "duration": 1922,
    "start_time": "2022-11-07T05:09:13.938Z"
   },
   {
    "duration": 42,
    "start_time": "2022-11-07T05:09:15.862Z"
   },
   {
    "duration": 183,
    "start_time": "2022-11-07T05:09:15.906Z"
   },
   {
    "duration": 5,
    "start_time": "2022-11-07T05:09:16.091Z"
   },
   {
    "duration": 5,
    "start_time": "2022-11-07T05:09:16.098Z"
   },
   {
    "duration": 9,
    "start_time": "2022-11-07T05:09:16.106Z"
   },
   {
    "duration": 22,
    "start_time": "2022-11-07T05:09:16.116Z"
   },
   {
    "duration": 1775,
    "start_time": "2022-11-07T05:09:16.140Z"
   },
   {
    "duration": 47,
    "start_time": "2022-11-07T05:09:17.917Z"
   },
   {
    "duration": 12,
    "start_time": "2022-11-07T05:09:17.966Z"
   },
   {
    "duration": 12,
    "start_time": "2022-11-07T05:09:17.980Z"
   },
   {
    "duration": 7,
    "start_time": "2022-11-07T05:09:17.994Z"
   },
   {
    "duration": 7,
    "start_time": "2022-11-07T05:09:18.002Z"
   },
   {
    "duration": 33,
    "start_time": "2022-11-07T05:09:18.010Z"
   },
   {
    "duration": 16,
    "start_time": "2022-11-07T05:09:18.045Z"
   },
   {
    "duration": 10,
    "start_time": "2022-11-07T05:09:18.063Z"
   },
   {
    "duration": 12,
    "start_time": "2022-11-07T05:09:18.075Z"
   },
   {
    "duration": 11,
    "start_time": "2022-11-07T05:09:18.089Z"
   },
   {
    "duration": 137,
    "start_time": "2022-11-07T05:09:18.102Z"
   },
   {
    "duration": 124,
    "start_time": "2022-11-07T05:09:18.241Z"
   },
   {
    "duration": 808,
    "start_time": "2022-11-07T05:09:18.367Z"
   },
   {
    "duration": 16,
    "start_time": "2022-11-07T05:09:19.176Z"
   },
   {
    "duration": 5,
    "start_time": "2022-11-07T05:09:19.194Z"
   },
   {
    "duration": 12,
    "start_time": "2022-11-07T05:09:19.202Z"
   },
   {
    "duration": 49,
    "start_time": "2022-11-07T05:09:19.217Z"
   },
   {
    "duration": 14,
    "start_time": "2022-11-07T05:09:19.268Z"
   },
   {
    "duration": 4,
    "start_time": "2022-11-07T05:09:19.284Z"
   },
   {
    "duration": 149,
    "start_time": "2022-11-07T05:09:19.290Z"
   },
   {
    "duration": 127,
    "start_time": "2022-11-07T05:09:19.442Z"
   },
   {
    "duration": 164768,
    "start_time": "2022-11-07T05:09:19.571Z"
   },
   {
    "duration": 11,
    "start_time": "2022-11-07T05:12:04.342Z"
   },
   {
    "duration": 5,
    "start_time": "2022-11-07T05:12:04.355Z"
   },
   {
    "duration": 79,
    "start_time": "2022-11-07T05:12:04.361Z"
   },
   {
    "duration": 112,
    "start_time": "2022-11-07T05:12:04.442Z"
   },
   {
    "duration": 956,
    "start_time": "2022-11-07T05:12:04.556Z"
   },
   {
    "duration": 279,
    "start_time": "2022-11-07T05:12:05.514Z"
   },
   {
    "duration": 1349,
    "start_time": "2022-11-07T05:12:47.735Z"
   },
   {
    "duration": 43,
    "start_time": "2022-11-07T05:12:49.087Z"
   },
   {
    "duration": 15,
    "start_time": "2022-11-07T05:12:49.132Z"
   },
   {
    "duration": 17,
    "start_time": "2022-11-07T05:12:49.150Z"
   },
   {
    "duration": 2259,
    "start_time": "2022-11-07T05:12:49.168Z"
   },
   {
    "duration": 55,
    "start_time": "2022-11-07T05:12:51.428Z"
   },
   {
    "duration": 234,
    "start_time": "2022-11-07T05:12:51.485Z"
   },
   {
    "duration": 5,
    "start_time": "2022-11-07T05:12:51.721Z"
   },
   {
    "duration": 10,
    "start_time": "2022-11-07T05:12:51.728Z"
   },
   {
    "duration": 9,
    "start_time": "2022-11-07T05:12:51.741Z"
   },
   {
    "duration": 4,
    "start_time": "2022-11-07T05:12:51.752Z"
   },
   {
    "duration": 1863,
    "start_time": "2022-11-07T05:12:51.758Z"
   },
   {
    "duration": 42,
    "start_time": "2022-11-07T05:12:53.623Z"
   },
   {
    "duration": 11,
    "start_time": "2022-11-07T05:12:53.667Z"
   },
   {
    "duration": 12,
    "start_time": "2022-11-07T05:12:53.680Z"
   },
   {
    "duration": 9,
    "start_time": "2022-11-07T05:12:53.693Z"
   },
   {
    "duration": 8,
    "start_time": "2022-11-07T05:12:53.703Z"
   },
   {
    "duration": 27,
    "start_time": "2022-11-07T05:12:53.713Z"
   },
   {
    "duration": 13,
    "start_time": "2022-11-07T05:12:53.742Z"
   },
   {
    "duration": 8,
    "start_time": "2022-11-07T05:12:53.757Z"
   },
   {
    "duration": 13,
    "start_time": "2022-11-07T05:12:53.767Z"
   },
   {
    "duration": 13,
    "start_time": "2022-11-07T05:12:53.782Z"
   },
   {
    "duration": 59,
    "start_time": "2022-11-07T05:12:53.797Z"
   },
   {
    "duration": 121,
    "start_time": "2022-11-07T05:12:53.940Z"
   },
   {
    "duration": 793,
    "start_time": "2022-11-07T05:12:54.063Z"
   },
   {
    "duration": 15,
    "start_time": "2022-11-07T05:12:54.858Z"
   },
   {
    "duration": 4,
    "start_time": "2022-11-07T05:12:54.875Z"
   },
   {
    "duration": 10,
    "start_time": "2022-11-07T05:12:54.883Z"
   },
   {
    "duration": 55,
    "start_time": "2022-11-07T05:12:54.895Z"
   },
   {
    "duration": 12,
    "start_time": "2022-11-07T05:12:54.953Z"
   },
   {
    "duration": 17,
    "start_time": "2022-11-07T05:12:54.967Z"
   },
   {
    "duration": 157,
    "start_time": "2022-11-07T05:12:54.986Z"
   },
   {
    "duration": 124,
    "start_time": "2022-11-07T05:12:55.145Z"
   },
   {
    "duration": 2259,
    "start_time": "2022-11-07T05:12:55.271Z"
   },
   {
    "duration": 17,
    "start_time": "2022-11-07T05:12:57.532Z"
   },
   {
    "duration": 6,
    "start_time": "2022-11-07T05:12:57.551Z"
   },
   {
    "duration": 82,
    "start_time": "2022-11-07T05:12:57.558Z"
   },
   {
    "duration": 110,
    "start_time": "2022-11-07T05:12:57.642Z"
   },
   {
    "duration": 972,
    "start_time": "2022-11-07T05:12:57.754Z"
   },
   {
    "duration": 238,
    "start_time": "2022-11-07T05:12:58.728Z"
   },
   {
    "duration": 4,
    "start_time": "2022-11-07T05:15:54.903Z"
   },
   {
    "duration": 113,
    "start_time": "2022-11-07T05:18:17.361Z"
   },
   {
    "duration": 231,
    "start_time": "2022-11-07T05:18:29.580Z"
   },
   {
    "duration": 120,
    "start_time": "2022-11-07T05:18:34.842Z"
   },
   {
    "duration": 152,
    "start_time": "2022-11-07T05:18:50.350Z"
   },
   {
    "duration": 1256,
    "start_time": "2022-11-07T05:19:04.684Z"
   },
   {
    "duration": 41,
    "start_time": "2022-11-07T05:19:05.942Z"
   },
   {
    "duration": 13,
    "start_time": "2022-11-07T05:19:05.984Z"
   },
   {
    "duration": 16,
    "start_time": "2022-11-07T05:19:05.999Z"
   },
   {
    "duration": 2078,
    "start_time": "2022-11-07T05:19:06.018Z"
   },
   {
    "duration": 51,
    "start_time": "2022-11-07T05:19:08.098Z"
   },
   {
    "duration": 167,
    "start_time": "2022-11-07T05:19:08.151Z"
   },
   {
    "duration": 5,
    "start_time": "2022-11-07T05:19:08.319Z"
   },
   {
    "duration": 16,
    "start_time": "2022-11-07T05:19:08.325Z"
   },
   {
    "duration": 8,
    "start_time": "2022-11-07T05:19:08.343Z"
   },
   {
    "duration": 3,
    "start_time": "2022-11-07T05:19:08.352Z"
   },
   {
    "duration": 1614,
    "start_time": "2022-11-07T05:19:08.356Z"
   },
   {
    "duration": 33,
    "start_time": "2022-11-07T05:19:09.972Z"
   },
   {
    "duration": 31,
    "start_time": "2022-11-07T05:19:10.009Z"
   },
   {
    "duration": 11,
    "start_time": "2022-11-07T05:19:10.042Z"
   },
   {
    "duration": 11,
    "start_time": "2022-11-07T05:19:10.055Z"
   },
   {
    "duration": 17,
    "start_time": "2022-11-07T05:19:10.067Z"
   },
   {
    "duration": 21,
    "start_time": "2022-11-07T05:19:10.086Z"
   },
   {
    "duration": 21,
    "start_time": "2022-11-07T05:19:10.109Z"
   },
   {
    "duration": 14,
    "start_time": "2022-11-07T05:19:10.132Z"
   },
   {
    "duration": 20,
    "start_time": "2022-11-07T05:19:10.148Z"
   },
   {
    "duration": 21,
    "start_time": "2022-11-07T05:19:10.169Z"
   },
   {
    "duration": 149,
    "start_time": "2022-11-07T05:19:10.191Z"
   },
   {
    "duration": 119,
    "start_time": "2022-11-07T05:19:10.343Z"
   },
   {
    "duration": 772,
    "start_time": "2022-11-07T05:19:10.463Z"
   },
   {
    "duration": 16,
    "start_time": "2022-11-07T05:19:11.238Z"
   },
   {
    "duration": 10,
    "start_time": "2022-11-07T05:19:11.256Z"
   },
   {
    "duration": 20,
    "start_time": "2022-11-07T05:19:11.267Z"
   },
   {
    "duration": 24,
    "start_time": "2022-11-07T05:19:11.289Z"
   },
   {
    "duration": 12,
    "start_time": "2022-11-07T05:19:11.315Z"
   },
   {
    "duration": 4,
    "start_time": "2022-11-07T05:19:11.339Z"
   },
   {
    "duration": 96,
    "start_time": "2022-11-07T05:19:11.344Z"
   },
   {
    "duration": 129,
    "start_time": "2022-11-07T05:19:11.443Z"
   },
   {
    "duration": 2244,
    "start_time": "2022-11-07T05:19:11.574Z"
   },
   {
    "duration": 21,
    "start_time": "2022-11-07T05:19:13.820Z"
   },
   {
    "duration": 5,
    "start_time": "2022-11-07T05:19:13.843Z"
   },
   {
    "duration": 94,
    "start_time": "2022-11-07T05:19:13.850Z"
   },
   {
    "duration": 111,
    "start_time": "2022-11-07T05:19:13.947Z"
   },
   {
    "duration": 1003,
    "start_time": "2022-11-07T05:19:14.061Z"
   },
   {
    "duration": 222,
    "start_time": "2022-11-07T05:19:15.065Z"
   },
   {
    "duration": 171,
    "start_time": "2022-11-07T05:19:15.290Z"
   },
   {
    "duration": 1365,
    "start_time": "2022-11-07T05:31:13.697Z"
   },
   {
    "duration": 45,
    "start_time": "2022-11-07T05:31:15.064Z"
   },
   {
    "duration": 15,
    "start_time": "2022-11-07T05:31:15.110Z"
   },
   {
    "duration": 16,
    "start_time": "2022-11-07T05:31:15.127Z"
   },
   {
    "duration": 1931,
    "start_time": "2022-11-07T05:31:15.146Z"
   },
   {
    "duration": 49,
    "start_time": "2022-11-07T05:31:17.079Z"
   },
   {
    "duration": 197,
    "start_time": "2022-11-07T05:31:17.144Z"
   },
   {
    "duration": 5,
    "start_time": "2022-11-07T05:31:17.344Z"
   },
   {
    "duration": 18,
    "start_time": "2022-11-07T05:31:17.350Z"
   },
   {
    "duration": 20,
    "start_time": "2022-11-07T05:31:17.371Z"
   },
   {
    "duration": 9,
    "start_time": "2022-11-07T05:31:17.393Z"
   },
   {
    "duration": 1774,
    "start_time": "2022-11-07T05:31:17.404Z"
   },
   {
    "duration": 42,
    "start_time": "2022-11-07T05:31:19.180Z"
   },
   {
    "duration": 12,
    "start_time": "2022-11-07T05:31:19.238Z"
   },
   {
    "duration": 19,
    "start_time": "2022-11-07T05:31:19.252Z"
   },
   {
    "duration": 12,
    "start_time": "2022-11-07T05:31:19.274Z"
   },
   {
    "duration": 10,
    "start_time": "2022-11-07T05:31:19.288Z"
   },
   {
    "duration": 7,
    "start_time": "2022-11-07T05:31:19.300Z"
   },
   {
    "duration": 40,
    "start_time": "2022-11-07T05:31:19.309Z"
   },
   {
    "duration": 10,
    "start_time": "2022-11-07T05:31:19.351Z"
   },
   {
    "duration": 19,
    "start_time": "2022-11-07T05:31:19.363Z"
   },
   {
    "duration": 14,
    "start_time": "2022-11-07T05:31:19.383Z"
   },
   {
    "duration": 240,
    "start_time": "2022-11-07T05:31:19.399Z"
   },
   {
    "duration": 32,
    "start_time": "2022-11-07T05:31:19.641Z"
   },
   {
    "duration": 845,
    "start_time": "2022-11-07T05:31:19.675Z"
   },
   {
    "duration": 22,
    "start_time": "2022-11-07T05:31:20.522Z"
   },
   {
    "duration": 6,
    "start_time": "2022-11-07T05:31:20.546Z"
   },
   {
    "duration": 13,
    "start_time": "2022-11-07T05:31:20.555Z"
   },
   {
    "duration": 29,
    "start_time": "2022-11-07T05:31:20.570Z"
   },
   {
    "duration": 54,
    "start_time": "2022-11-07T05:31:20.601Z"
   },
   {
    "duration": 5,
    "start_time": "2022-11-07T05:31:20.657Z"
   },
   {
    "duration": 175,
    "start_time": "2022-11-07T05:31:20.664Z"
   },
   {
    "duration": 38,
    "start_time": "2022-11-07T05:31:20.841Z"
   },
   {
    "duration": 2339,
    "start_time": "2022-11-07T05:31:20.881Z"
   },
   {
    "duration": 21,
    "start_time": "2022-11-07T05:31:23.222Z"
   },
   {
    "duration": 4,
    "start_time": "2022-11-07T05:31:23.244Z"
   },
   {
    "duration": 90,
    "start_time": "2022-11-07T05:31:23.250Z"
   },
   {
    "duration": 112,
    "start_time": "2022-11-07T05:31:23.342Z"
   },
   {
    "duration": 961,
    "start_time": "2022-11-07T05:31:23.456Z"
   },
   {
    "duration": 240,
    "start_time": "2022-11-07T05:31:24.419Z"
   },
   {
    "duration": 167,
    "start_time": "2022-11-07T05:31:24.663Z"
   }
  ],
  "kernelspec": {
   "display_name": "Python 3 (ipykernel)",
   "language": "python",
   "name": "python3"
  },
  "language_info": {
   "codemirror_mode": {
    "name": "ipython",
    "version": 3
   },
   "file_extension": ".py",
   "mimetype": "text/x-python",
   "name": "python",
   "nbconvert_exporter": "python",
   "pygments_lexer": "ipython3",
   "version": "3.9.12"
  },
  "toc": {
   "base_numbering": 1,
   "nav_menu": {},
   "number_sections": true,
   "sideBar": true,
   "skip_h1_title": true,
   "title_cell": "Содержание",
   "title_sidebar": "Contents",
   "toc_cell": true,
   "toc_position": {
    "height": "calc(100% - 180px)",
    "left": "10px",
    "top": "150px",
    "width": "233.1875px"
   },
   "toc_section_display": true,
   "toc_window_display": true
  }
 },
 "nbformat": 4,
 "nbformat_minor": 2
}
