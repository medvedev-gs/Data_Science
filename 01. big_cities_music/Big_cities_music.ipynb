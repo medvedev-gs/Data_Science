{
 "cells": [
  {
   "cell_type": "markdown",
   "metadata": {
    "id": "E0vqbgi9ay0H"
   },
   "source": [
    "# Яндекс.Музыка"
   ]
  },
  {
   "cell_type": "markdown",
   "metadata": {
    "id": "VUC88oWjTJw2"
   },
   "source": [
    "Сравнение Москвы и Петербурга окружено мифами. Например:\n",
    " * Москва — мегаполис, подчинённый жёсткому ритму рабочей недели;\n",
    " * Петербург — культурная столица, со своими вкусами.\n",
    "\n",
    "**Цель исследования** — проверить три гипотезы:\n",
    "1. Активность пользователей зависит от дня недели. Причём в Москве и Петербурге это проявляется по-разному.\n",
    "2. В понедельник утром в Москве преобладают одни жанры, а в Петербурге — другие. Так же и вечером пятницы преобладают разные жанры — в зависимости от города. \n",
    "3. Москва и Петербург предпочитают разные жанры музыки. В Москве чаще слушают поп-музыку, в Петербурге — русский рэп.\n",
    "\n",
    "**Ход исследования**\n",
    "\n",
    "Перед проверкой гипотез понадобится обзор данных. \n",
    "\n",
    "Проверка данных на ошибки и оценка их влияния на исследование. Исправление самых критичных ошибок данных.\n",
    " \n",
    "Таким образом, исследование пройдёт в три этапа:\n",
    " 1. Обзор данных.\n",
    " 2. Предобработка данных.\n",
    " 3. Проверка гипотез.\n",
    "\n"
   ]
  },
  {
   "cell_type": "markdown",
   "metadata": {
    "id": "57eAOGIz_Zcs"
   },
   "source": [
    "## Импорт библиотеки pandas."
   ]
  },
  {
   "cell_type": "code",
   "execution_count": 1,
   "metadata": {
    "id": "AXN7PHPN_Zcs"
   },
   "outputs": [],
   "source": [
    "import pandas as pd"
   ]
  },
  {
   "cell_type": "markdown",
   "metadata": {
    "id": "SG23P8tt_Zcs"
   },
   "source": [
    "## Импорт файла с данными."
   ]
  },
  {
   "cell_type": "code",
   "execution_count": 2,
   "metadata": {
    "id": "fFVu7vqh_Zct"
   },
   "outputs": [],
   "source": [
    "df = pd.read_csv('yandex_music_project.csv')"
   ]
  },
  {
   "cell_type": "markdown",
   "metadata": {
    "id": "rDoOMd3uTqnZ"
   },
   "source": [
    "## Обзор данных."
   ]
  },
  {
   "cell_type": "code",
   "execution_count": 3,
   "metadata": {
    "id": "oWTVX3gW_Zct"
   },
   "outputs": [
    {
     "data": {
      "text/html": [
       "<div>\n",
       "<style scoped>\n",
       "    .dataframe tbody tr th:only-of-type {\n",
       "        vertical-align: middle;\n",
       "    }\n",
       "\n",
       "    .dataframe tbody tr th {\n",
       "        vertical-align: top;\n",
       "    }\n",
       "\n",
       "    .dataframe thead th {\n",
       "        text-align: right;\n",
       "    }\n",
       "</style>\n",
       "<table border=\"1\" class=\"dataframe\">\n",
       "  <thead>\n",
       "    <tr style=\"text-align: right;\">\n",
       "      <th></th>\n",
       "      <th>userID</th>\n",
       "      <th>Track</th>\n",
       "      <th>artist</th>\n",
       "      <th>genre</th>\n",
       "      <th>City</th>\n",
       "      <th>time</th>\n",
       "      <th>Day</th>\n",
       "    </tr>\n",
       "  </thead>\n",
       "  <tbody>\n",
       "    <tr>\n",
       "      <th>0</th>\n",
       "      <td>FFB692EC</td>\n",
       "      <td>Kamigata To Boots</td>\n",
       "      <td>The Mass Missile</td>\n",
       "      <td>rock</td>\n",
       "      <td>Saint-Petersburg</td>\n",
       "      <td>20:28:33</td>\n",
       "      <td>Wednesday</td>\n",
       "    </tr>\n",
       "    <tr>\n",
       "      <th>1</th>\n",
       "      <td>55204538</td>\n",
       "      <td>Delayed Because of Accident</td>\n",
       "      <td>Andreas Rönnberg</td>\n",
       "      <td>rock</td>\n",
       "      <td>Moscow</td>\n",
       "      <td>14:07:09</td>\n",
       "      <td>Friday</td>\n",
       "    </tr>\n",
       "    <tr>\n",
       "      <th>2</th>\n",
       "      <td>20EC38</td>\n",
       "      <td>Funiculì funiculà</td>\n",
       "      <td>Mario Lanza</td>\n",
       "      <td>pop</td>\n",
       "      <td>Saint-Petersburg</td>\n",
       "      <td>20:58:07</td>\n",
       "      <td>Wednesday</td>\n",
       "    </tr>\n",
       "    <tr>\n",
       "      <th>3</th>\n",
       "      <td>A3DD03C9</td>\n",
       "      <td>Dragons in the Sunset</td>\n",
       "      <td>Fire + Ice</td>\n",
       "      <td>folk</td>\n",
       "      <td>Saint-Petersburg</td>\n",
       "      <td>08:37:09</td>\n",
       "      <td>Monday</td>\n",
       "    </tr>\n",
       "    <tr>\n",
       "      <th>4</th>\n",
       "      <td>E2DC1FAE</td>\n",
       "      <td>Soul People</td>\n",
       "      <td>Space Echo</td>\n",
       "      <td>dance</td>\n",
       "      <td>Moscow</td>\n",
       "      <td>08:34:34</td>\n",
       "      <td>Monday</td>\n",
       "    </tr>\n",
       "    <tr>\n",
       "      <th>5</th>\n",
       "      <td>842029A1</td>\n",
       "      <td>Преданная</td>\n",
       "      <td>IMPERVTOR</td>\n",
       "      <td>rusrap</td>\n",
       "      <td>Saint-Petersburg</td>\n",
       "      <td>13:09:41</td>\n",
       "      <td>Friday</td>\n",
       "    </tr>\n",
       "    <tr>\n",
       "      <th>6</th>\n",
       "      <td>4CB90AA5</td>\n",
       "      <td>True</td>\n",
       "      <td>Roman Messer</td>\n",
       "      <td>dance</td>\n",
       "      <td>Moscow</td>\n",
       "      <td>13:00:07</td>\n",
       "      <td>Wednesday</td>\n",
       "    </tr>\n",
       "    <tr>\n",
       "      <th>7</th>\n",
       "      <td>F03E1C1F</td>\n",
       "      <td>Feeling This Way</td>\n",
       "      <td>Polina Griffith</td>\n",
       "      <td>dance</td>\n",
       "      <td>Moscow</td>\n",
       "      <td>20:47:49</td>\n",
       "      <td>Wednesday</td>\n",
       "    </tr>\n",
       "    <tr>\n",
       "      <th>8</th>\n",
       "      <td>8FA1D3BE</td>\n",
       "      <td>И вновь продолжается бой</td>\n",
       "      <td>NaN</td>\n",
       "      <td>ruspop</td>\n",
       "      <td>Moscow</td>\n",
       "      <td>09:17:40</td>\n",
       "      <td>Friday</td>\n",
       "    </tr>\n",
       "    <tr>\n",
       "      <th>9</th>\n",
       "      <td>E772D5C0</td>\n",
       "      <td>Pessimist</td>\n",
       "      <td>NaN</td>\n",
       "      <td>dance</td>\n",
       "      <td>Saint-Petersburg</td>\n",
       "      <td>21:20:49</td>\n",
       "      <td>Wednesday</td>\n",
       "    </tr>\n",
       "  </tbody>\n",
       "</table>\n",
       "</div>"
      ],
      "text/plain": [
       "     userID                        Track            artist   genre  \\\n",
       "0  FFB692EC            Kamigata To Boots  The Mass Missile    rock   \n",
       "1  55204538  Delayed Because of Accident  Andreas Rönnberg    rock   \n",
       "2    20EC38            Funiculì funiculà       Mario Lanza     pop   \n",
       "3  A3DD03C9        Dragons in the Sunset        Fire + Ice    folk   \n",
       "4  E2DC1FAE                  Soul People        Space Echo   dance   \n",
       "5  842029A1                    Преданная         IMPERVTOR  rusrap   \n",
       "6  4CB90AA5                         True      Roman Messer   dance   \n",
       "7  F03E1C1F             Feeling This Way   Polina Griffith   dance   \n",
       "8  8FA1D3BE     И вновь продолжается бой               NaN  ruspop   \n",
       "9  E772D5C0                    Pessimist               NaN   dance   \n",
       "\n",
       "             City        time        Day  \n",
       "0  Saint-Petersburg  20:28:33  Wednesday  \n",
       "1            Moscow  14:07:09     Friday  \n",
       "2  Saint-Petersburg  20:58:07  Wednesday  \n",
       "3  Saint-Petersburg  08:37:09     Monday  \n",
       "4            Moscow  08:34:34     Monday  \n",
       "5  Saint-Petersburg  13:09:41     Friday  \n",
       "6            Moscow  13:00:07  Wednesday  \n",
       "7            Moscow  20:47:49  Wednesday  \n",
       "8            Moscow  09:17:40     Friday  \n",
       "9  Saint-Petersburg  21:20:49  Wednesday  "
      ]
     },
     "execution_count": 3,
     "metadata": {},
     "output_type": "execute_result"
    }
   ],
   "source": [
    "df.head(10)"
   ]
  },
  {
   "cell_type": "code",
   "execution_count": 4,
   "metadata": {
    "id": "DSf2kIb-_Zct"
   },
   "outputs": [
    {
     "name": "stdout",
     "output_type": "stream",
     "text": [
      "<class 'pandas.core.frame.DataFrame'>\n",
      "RangeIndex: 65079 entries, 0 to 65078\n",
      "Data columns (total 7 columns):\n",
      " #   Column    Non-Null Count  Dtype \n",
      "---  ------    --------------  ----- \n",
      " 0     userID  65079 non-null  object\n",
      " 1   Track     63848 non-null  object\n",
      " 2   artist    57876 non-null  object\n",
      " 3   genre     63881 non-null  object\n",
      " 4     City    65079 non-null  object\n",
      " 5   time      65079 non-null  object\n",
      " 6   Day       65079 non-null  object\n",
      "dtypes: object(7)\n",
      "memory usage: 3.5+ MB\n"
     ]
    }
   ],
   "source": [
    "df.info()"
   ]
  },
  {
   "cell_type": "markdown",
   "metadata": {
    "id": "TaQ2Iwbr_Zct"
   },
   "source": [
    "Итак, в таблице семь столбцов. Тип данных во всех столбцах — `object`.\n",
    "\n",
    "Согласно документации к данным:\n",
    "* `userID` — идентификатор пользователя;\n",
    "* `Track` — название трека;  \n",
    "* `artist` — имя исполнителя;\n",
    "* `genre` — название жанра;\n",
    "* `City` — город пользователя;\n",
    "* `time` — время начала прослушивания;\n",
    "* `Day` — день недели."
   ]
  },
  {
   "cell_type": "markdown",
   "metadata": {
    "id": "SjYF6Ub9_Zct"
   },
   "source": [
    "## Предобработка данных"
   ]
  },
  {
   "cell_type": "markdown",
   "metadata": {
    "id": "dIaKXr29_Zct"
   },
   "source": [
    "### Стиль заголовков"
   ]
  },
  {
   "cell_type": "markdown",
   "metadata": {
    "id": "dIaKXr29_Zct"
   },
   "source": [
    "Названия столбцов:"
   ]
  },
  {
   "cell_type": "code",
   "execution_count": 5,
   "metadata": {
    "id": "oKOTdF_Q_Zct"
   },
   "outputs": [
    {
     "data": {
      "text/plain": [
       "Index(['  userID', 'Track', 'artist', 'genre', '  City  ', 'time', 'Day'], dtype='object')"
      ]
     },
     "execution_count": 5,
     "metadata": {},
     "output_type": "execute_result"
    }
   ],
   "source": [
    "df.columns"
   ]
  },
  {
   "cell_type": "markdown",
   "metadata": {
    "id": "zj5534cv_Zct"
   },
   "source": [
    "Приведем названия в соответствие с хорошим стилем."
   ]
  },
  {
   "cell_type": "code",
   "execution_count": 6,
   "metadata": {
    "id": "ISlFqs5y_Zct"
   },
   "outputs": [],
   "source": [
    "df = df.rename(columns = {'  userID':'user_id', 'Track':'track', '  City  ':'city', 'Day':'day'})"
   ]
  },
  {
   "cell_type": "code",
   "execution_count": 7,
   "metadata": {
    "id": "d4NOAmTW_Zct"
   },
   "outputs": [
    {
     "data": {
      "text/plain": [
       "Index(['user_id', 'track', 'artist', 'genre', 'city', 'time', 'day'], dtype='object')"
      ]
     },
     "execution_count": 7,
     "metadata": {},
     "output_type": "execute_result"
    }
   ],
   "source": [
    "df.columns"
   ]
  },
  {
   "cell_type": "markdown",
   "metadata": {
    "id": "5ISfbcfY_Zct"
   },
   "source": [
    "### Пропуски значений"
   ]
  },
  {
   "cell_type": "markdown",
   "metadata": {
    "id": "5ISfbcfY_Zct"
   },
   "source": [
    "Посчитаем, сколько в таблице пропущенных значений. Для этого достаточно двух методов `pandas`:"
   ]
  },
  {
   "cell_type": "code",
   "execution_count": 8,
   "metadata": {
    "id": "RskX29qr_Zct"
   },
   "outputs": [
    {
     "name": "stdout",
     "output_type": "stream",
     "text": [
      "user_id       0\n",
      "track      1231\n",
      "artist     7203\n",
      "genre      1198\n",
      "city          0\n",
      "time          0\n",
      "day           0\n",
      "dtype: int64\n"
     ]
    }
   ],
   "source": [
    "print(df.isna().sum())"
   ]
  },
  {
   "cell_type": "markdown",
   "metadata": {
    "id": "qubhgnlO_Zct"
   },
   "source": [
    "Не все пропущенные значения влияют на исследование. Так в `track` и `artist` пропуски не важны для работы. Достаточно заменить их явными обозначениями.\n",
    "\n",
    "Но пропуски в `genre` могут помешать сравнению музыкальных вкусов в Москве и Санкт-Петербурге. На практике было бы правильно установить причину пропусков и восстановить данные. Но такой возможности нет. Придётся:\n",
    "* заполнить и эти пропуски явными обозначениями,\n",
    "* оценить, насколько они повредят расчётам. "
   ]
  },
  {
   "cell_type": "markdown",
   "metadata": {
    "id": "fSv2laPA_Zct"
   },
   "source": [
    "Заменим пропущенные значения в столбцах `track`, `artist` и `genre` на строку `'unknown'`. Для этого создадим список `columns_to_replace`, переберем его элементы циклом `for` и для каждого столбца выполним замену пропущенных значений:"
   ]
  },
  {
   "cell_type": "code",
   "execution_count": 9,
   "metadata": {
    "id": "KplB5qWs_Zct"
   },
   "outputs": [],
   "source": [
    "columns_to_replace = ['track', 'artist', 'genre']\n",
    "for column in columns_to_replace:\n",
    "    df[column] = df[column].fillna('unknown')"
   ]
  },
  {
   "cell_type": "markdown",
   "metadata": {
    "id": "Ilsm-MZo_Zct"
   },
   "source": [
    "Убедимся, что в таблице не осталось пропусков. Для этого ещё раз посчитаем пропущенные значения."
   ]
  },
  {
   "cell_type": "code",
   "execution_count": 10,
   "metadata": {
    "id": "Tq4nYRX4_Zct",
    "scrolled": true
   },
   "outputs": [
    {
     "name": "stdout",
     "output_type": "stream",
     "text": [
      "user_id    0\n",
      "track      0\n",
      "artist     0\n",
      "genre      0\n",
      "city       0\n",
      "time       0\n",
      "day        0\n",
      "dtype: int64\n"
     ]
    }
   ],
   "source": [
    "print(df.isna().sum())"
   ]
  },
  {
   "cell_type": "markdown",
   "metadata": {
    "id": "BWKRtBJ3_Zct"
   },
   "source": [
    "### Дубликаты"
   ]
  },
  {
   "cell_type": "markdown",
   "metadata": {
    "id": "BWKRtBJ3_Zct"
   },
   "source": [
    "Посчитаем явные дубликаты в таблице:"
   ]
  },
  {
   "cell_type": "code",
   "execution_count": 11,
   "metadata": {
    "id": "36eES_S0_Zct",
    "scrolled": true
   },
   "outputs": [
    {
     "name": "stdout",
     "output_type": "stream",
     "text": [
      "3826\n"
     ]
    }
   ],
   "source": [
    "print(df.duplicated().sum())"
   ]
  },
  {
   "cell_type": "markdown",
   "metadata": {
    "id": "Ot25h6XR_Zct"
   },
   "source": [
    "Удалим явные дубликаты:"
   ]
  },
  {
   "cell_type": "code",
   "execution_count": 12,
   "metadata": {
    "id": "exFHq6tt_Zct"
   },
   "outputs": [],
   "source": [
    "df = df.drop_duplicates().reset_index(drop=True)"
   ]
  },
  {
   "cell_type": "markdown",
   "metadata": {
    "id": "Im2YwBEG_Zct"
   },
   "source": [
    "Убедимся, что полностью избавились от дубликатов:"
   ]
  },
  {
   "cell_type": "code",
   "execution_count": 13,
   "metadata": {
    "id": "-8PuNWQ0_Zct"
   },
   "outputs": [
    {
     "name": "stdout",
     "output_type": "stream",
     "text": [
      "0\n"
     ]
    }
   ],
   "source": [
    "print(df.duplicated().sum())"
   ]
  },
  {
   "cell_type": "markdown",
   "metadata": {
    "id": "QlFBsxAr_Zct"
   },
   "source": [
    "Теперь избавимся от неявных дубликатов в колонке `genre`."
   ]
  },
  {
   "cell_type": "markdown",
   "metadata": {
    "id": "eSjWwsOh_Zct"
   },
   "source": [
    "Выведем на экран список уникальных названий жанров, отсортированный в алфавитном порядке."
   ]
  },
  {
   "cell_type": "code",
   "execution_count": 14,
   "metadata": {
    "id": "JIUcqzZN_Zct",
    "scrolled": false
   },
   "outputs": [
    {
     "data": {
      "text/plain": [
       "array(['acid', 'acoustic', 'action', 'adult', 'africa', 'afrikaans',\n",
       "       'alternative', 'alternativepunk', 'ambient', 'americana',\n",
       "       'animated', 'anime', 'arabesk', 'arabic', 'arena',\n",
       "       'argentinetango', 'art', 'audiobook', 'author', 'avantgarde',\n",
       "       'axé', 'baile', 'balkan', 'beats', 'bigroom', 'black', 'bluegrass',\n",
       "       'blues', 'bollywood', 'bossa', 'brazilian', 'breakbeat', 'breaks',\n",
       "       'broadway', 'cantautori', 'cantopop', 'canzone', 'caribbean',\n",
       "       'caucasian', 'celtic', 'chamber', 'chanson', 'children', 'chill',\n",
       "       'chinese', 'choral', 'christian', 'christmas', 'classical',\n",
       "       'classicmetal', 'club', 'colombian', 'comedy', 'conjazz',\n",
       "       'contemporary', 'country', 'cuban', 'dance', 'dancehall',\n",
       "       'dancepop', 'dark', 'death', 'deep', 'deutschrock', 'deutschspr',\n",
       "       'dirty', 'disco', 'dnb', 'documentary', 'downbeat', 'downtempo',\n",
       "       'drum', 'dub', 'dubstep', 'eastern', 'easy', 'electronic',\n",
       "       'electropop', 'emo', 'entehno', 'epicmetal', 'estrada', 'ethnic',\n",
       "       'eurofolk', 'european', 'experimental', 'extrememetal', 'fado',\n",
       "       'fairytail', 'film', 'fitness', 'flamenco', 'folk', 'folklore',\n",
       "       'folkmetal', 'folkrock', 'folktronica', 'forró', 'frankreich',\n",
       "       'französisch', 'french', 'funk', 'future', 'gangsta', 'garage',\n",
       "       'german', 'ghazal', 'gitarre', 'glitch', 'gospel', 'gothic',\n",
       "       'grime', 'grunge', 'gypsy', 'handsup', \"hard'n'heavy\", 'hardcore',\n",
       "       'hardstyle', 'hardtechno', 'hip', 'hip-hop', 'hiphop',\n",
       "       'historisch', 'holiday', 'hop', 'horror', 'house', 'hymn', 'idm',\n",
       "       'independent', 'indian', 'indie', 'indipop', 'industrial',\n",
       "       'inspirational', 'instrumental', 'international', 'irish', 'jam',\n",
       "       'japanese', 'jazz', 'jewish', 'jpop', 'jungle', 'k-pop',\n",
       "       'karadeniz', 'karaoke', 'kayokyoku', 'korean', 'laiko', 'latin',\n",
       "       'latino', 'leftfield', 'local', 'lounge', 'loungeelectronic',\n",
       "       'lovers', 'malaysian', 'mandopop', 'marschmusik', 'meditative',\n",
       "       'mediterranean', 'melodic', 'metal', 'metalcore', 'mexican',\n",
       "       'middle', 'minimal', 'miscellaneous', 'modern', 'mood', 'mpb',\n",
       "       'muslim', 'native', 'neoklassik', 'neue', 'new', 'newage',\n",
       "       'newwave', 'nu', 'nujazz', 'numetal', 'oceania', 'old', 'opera',\n",
       "       'orchestral', 'other', 'piano', 'podcasts', 'pop', 'popdance',\n",
       "       'popelectronic', 'popeurodance', 'poprussian', 'post',\n",
       "       'posthardcore', 'postrock', 'power', 'progmetal', 'progressive',\n",
       "       'psychedelic', 'punjabi', 'punk', 'quebecois', 'ragga', 'ram',\n",
       "       'rancheras', 'rap', 'rave', 'reggae', 'reggaeton', 'regional',\n",
       "       'relax', 'religious', 'retro', 'rhythm', 'rnb', 'rnr', 'rock',\n",
       "       'rockabilly', 'rockalternative', 'rockindie', 'rockother',\n",
       "       'romance', 'roots', 'ruspop', 'rusrap', 'rusrock', 'russian',\n",
       "       'salsa', 'samba', 'scenic', 'schlager', 'self', 'sertanejo',\n",
       "       'shanson', 'shoegazing', 'showtunes', 'singer', 'ska', 'skarock',\n",
       "       'slow', 'smooth', 'soft', 'soul', 'soulful', 'sound', 'soundtrack',\n",
       "       'southern', 'specialty', 'speech', 'spiritual', 'sport',\n",
       "       'stonerrock', 'surf', 'swing', 'synthpop', 'synthrock',\n",
       "       'sängerportrait', 'tango', 'tanzorchester', 'taraftar', 'tatar',\n",
       "       'tech', 'techno', 'teen', 'thrash', 'top', 'traditional',\n",
       "       'tradjazz', 'trance', 'tribal', 'trip', 'triphop', 'tropical',\n",
       "       'türk', 'türkçe', 'ukrrock', 'unknown', 'urban', 'uzbek',\n",
       "       'variété', 'vi', 'videogame', 'vocal', 'western', 'world',\n",
       "       'worldbeat', 'ïîï', 'электроника'], dtype=object)"
      ]
     },
     "execution_count": 14,
     "metadata": {},
     "output_type": "execute_result"
    }
   ],
   "source": [
    "df['genre'].sort_values().unique()"
   ]
  },
  {
   "cell_type": "raw",
   "metadata": {
    "id": "qej-Qmuo_Zct"
   },
   "source": [
    "Просмотрим список и найдем неявные дубликаты."
   ]
  },
  {
   "cell_type": "code",
   "execution_count": 15,
   "metadata": {
    "id": "ErNDkmns_Zct"
   },
   "outputs": [],
   "source": [
    "def replace_wrong_genres(wrong_genres, correct_genres):\n",
    "    for genre in wrong_genres:\n",
    "        df['genre'] = df['genre'].replace(genre, correct_genres)"
   ]
  },
  {
   "cell_type": "code",
   "execution_count": 16,
   "metadata": {
    "id": "YN5i2hpmSo09"
   },
   "outputs": [],
   "source": [
    "replace_wrong_genres(['hip', 'hop', 'hip-hop'], 'hiphop')"
   ]
  },
  {
   "cell_type": "markdown",
   "metadata": {
    "id": "zQKF16_RG15m"
   },
   "source": [
    "Проверим, что заменили неправильные названия:"
   ]
  },
  {
   "cell_type": "code",
   "execution_count": 17,
   "metadata": {
    "id": "wvixALnFG15m",
    "scrolled": false
   },
   "outputs": [
    {
     "data": {
      "text/plain": [
       "array(['acid', 'acoustic', 'action', 'adult', 'africa', 'afrikaans',\n",
       "       'alternative', 'alternativepunk', 'ambient', 'americana',\n",
       "       'animated', 'anime', 'arabesk', 'arabic', 'arena',\n",
       "       'argentinetango', 'art', 'audiobook', 'author', 'avantgarde',\n",
       "       'axé', 'baile', 'balkan', 'beats', 'bigroom', 'black', 'bluegrass',\n",
       "       'blues', 'bollywood', 'bossa', 'brazilian', 'breakbeat', 'breaks',\n",
       "       'broadway', 'cantautori', 'cantopop', 'canzone', 'caribbean',\n",
       "       'caucasian', 'celtic', 'chamber', 'chanson', 'children', 'chill',\n",
       "       'chinese', 'choral', 'christian', 'christmas', 'classical',\n",
       "       'classicmetal', 'club', 'colombian', 'comedy', 'conjazz',\n",
       "       'contemporary', 'country', 'cuban', 'dance', 'dancehall',\n",
       "       'dancepop', 'dark', 'death', 'deep', 'deutschrock', 'deutschspr',\n",
       "       'dirty', 'disco', 'dnb', 'documentary', 'downbeat', 'downtempo',\n",
       "       'drum', 'dub', 'dubstep', 'eastern', 'easy', 'electronic',\n",
       "       'electropop', 'emo', 'entehno', 'epicmetal', 'estrada', 'ethnic',\n",
       "       'eurofolk', 'european', 'experimental', 'extrememetal', 'fado',\n",
       "       'fairytail', 'film', 'fitness', 'flamenco', 'folk', 'folklore',\n",
       "       'folkmetal', 'folkrock', 'folktronica', 'forró', 'frankreich',\n",
       "       'französisch', 'french', 'funk', 'future', 'gangsta', 'garage',\n",
       "       'german', 'ghazal', 'gitarre', 'glitch', 'gospel', 'gothic',\n",
       "       'grime', 'grunge', 'gypsy', 'handsup', \"hard'n'heavy\", 'hardcore',\n",
       "       'hardstyle', 'hardtechno', 'hiphop', 'historisch', 'holiday',\n",
       "       'horror', 'house', 'hymn', 'idm', 'independent', 'indian', 'indie',\n",
       "       'indipop', 'industrial', 'inspirational', 'instrumental',\n",
       "       'international', 'irish', 'jam', 'japanese', 'jazz', 'jewish',\n",
       "       'jpop', 'jungle', 'k-pop', 'karadeniz', 'karaoke', 'kayokyoku',\n",
       "       'korean', 'laiko', 'latin', 'latino', 'leftfield', 'local',\n",
       "       'lounge', 'loungeelectronic', 'lovers', 'malaysian', 'mandopop',\n",
       "       'marschmusik', 'meditative', 'mediterranean', 'melodic', 'metal',\n",
       "       'metalcore', 'mexican', 'middle', 'minimal', 'miscellaneous',\n",
       "       'modern', 'mood', 'mpb', 'muslim', 'native', 'neoklassik', 'neue',\n",
       "       'new', 'newage', 'newwave', 'nu', 'nujazz', 'numetal', 'oceania',\n",
       "       'old', 'opera', 'orchestral', 'other', 'piano', 'podcasts', 'pop',\n",
       "       'popdance', 'popelectronic', 'popeurodance', 'poprussian', 'post',\n",
       "       'posthardcore', 'postrock', 'power', 'progmetal', 'progressive',\n",
       "       'psychedelic', 'punjabi', 'punk', 'quebecois', 'ragga', 'ram',\n",
       "       'rancheras', 'rap', 'rave', 'reggae', 'reggaeton', 'regional',\n",
       "       'relax', 'religious', 'retro', 'rhythm', 'rnb', 'rnr', 'rock',\n",
       "       'rockabilly', 'rockalternative', 'rockindie', 'rockother',\n",
       "       'romance', 'roots', 'ruspop', 'rusrap', 'rusrock', 'russian',\n",
       "       'salsa', 'samba', 'scenic', 'schlager', 'self', 'sertanejo',\n",
       "       'shanson', 'shoegazing', 'showtunes', 'singer', 'ska', 'skarock',\n",
       "       'slow', 'smooth', 'soft', 'soul', 'soulful', 'sound', 'soundtrack',\n",
       "       'southern', 'specialty', 'speech', 'spiritual', 'sport',\n",
       "       'stonerrock', 'surf', 'swing', 'synthpop', 'synthrock',\n",
       "       'sängerportrait', 'tango', 'tanzorchester', 'taraftar', 'tatar',\n",
       "       'tech', 'techno', 'teen', 'thrash', 'top', 'traditional',\n",
       "       'tradjazz', 'trance', 'tribal', 'trip', 'triphop', 'tropical',\n",
       "       'türk', 'türkçe', 'ukrrock', 'unknown', 'urban', 'uzbek',\n",
       "       'variété', 'vi', 'videogame', 'vocal', 'western', 'world',\n",
       "       'worldbeat', 'ïîï', 'электроника'], dtype=object)"
      ]
     },
     "execution_count": 17,
     "metadata": {},
     "output_type": "execute_result"
    }
   ],
   "source": [
    "df['genre'].sort_values().unique()"
   ]
  },
  {
   "cell_type": "markdown",
   "metadata": {
    "id": "jz6a9-7HQUDd"
   },
   "source": [
    "**Выводы**\n",
    "\n",
    "Предобработка обнаружила три проблемы в данных:\n",
    "\n",
    "- нарушения в стиле заголовков,\n",
    "- пропущенные значения,\n",
    "- дубликаты — явные и неявные.\n",
    "\n",
    "Исправили заголовки, чтобы упростить работу с таблицей. Без дубликатов исследование станет более точным.\n",
    "\n",
    "Пропущенные значения заменили на `'unknown'`. Ещё предстоит увидеть, не повредят ли исследованию пропуски в колонке `genre`.\n",
    "\n",
    "Теперь можно перейти к проверке гипотез. "
   ]
  },
  {
   "cell_type": "markdown",
   "metadata": {
    "id": "WttZHXH0SqKk"
   },
   "source": [
    "## Проверка гипотез"
   ]
  },
  {
   "cell_type": "markdown",
   "metadata": {
    "id": "Im936VVi_Zcu"
   },
   "source": [
    "### Сравнение поведения пользователей двух столиц"
   ]
  },
  {
   "cell_type": "markdown",
   "metadata": {
    "id": "nwt_MuaL_Zcu"
   },
   "source": [
    "Первая гипотеза утверждает, что пользователи по-разному слушают музыку в Москве и Санкт-Петербурге. Проверим это предположение по данным о трёх днях недели — понедельнике, среде и пятнице. Для этого:\n",
    "\n",
    "* Разделим пользователей Москвы и Санкт-Петербурга\n",
    "* Сравним, сколько треков послушала каждая группа пользователей в понедельник, среду и пятницу.\n"
   ]
  },
  {
   "cell_type": "code",
   "execution_count": 18,
   "metadata": {
    "id": "0_Qs96oh_Zcu"
   },
   "outputs": [
    {
     "name": "stdout",
     "output_type": "stream",
     "text": [
      "city\n",
      "Moscow              42741\n",
      "Saint-Petersburg    18512\n",
      "Name: user_id, dtype: int64\n"
     ]
    }
   ],
   "source": [
    "print(df.groupby('city')['user_id'].count())"
   ]
  },
  {
   "cell_type": "markdown",
   "metadata": {
    "id": "dzli3w8o_Zcu"
   },
   "source": [
    "В Москве прослушиваний больше, чем в Петербурге. Из этого не следует, что московские пользователи чаще слушают музыку. Просто самих пользователей в Москве больше.\n",
    "\n",
    "Теперь сгруппируем данные по дню недели и подсчитаем прослушивания в понедельник, среду и пятницу."
   ]
  },
  {
   "cell_type": "code",
   "execution_count": 19,
   "metadata": {
    "id": "uZMKjiJz_Zcu"
   },
   "outputs": [
    {
     "name": "stdout",
     "output_type": "stream",
     "text": [
      "day\n",
      "Friday       21840\n",
      "Monday       21354\n",
      "Wednesday    18059\n",
      "Name: user_id, dtype: int64\n"
     ]
    }
   ],
   "source": [
    "print(df.groupby('day')['user_id'].count())"
   ]
  },
  {
   "cell_type": "markdown",
   "metadata": {
    "id": "cC2tNrlL_Zcu"
   },
   "source": [
    "В среднем пользователи из двух городов менее активны по средам. Но картина может измениться, если рассмотреть каждый город в отдельности."
   ]
  },
  {
   "cell_type": "code",
   "execution_count": 20,
   "metadata": {
    "id": "Nz3GdQB1_Zcu"
   },
   "outputs": [],
   "source": [
    "def number_tracks(day, city):\n",
    "    track_list = df[df['day'] == day]\n",
    "    track_list = track_list[track_list['city'] == city]\n",
    "    track_list_count = track_list['user_id'].count()\n",
    "    return track_list_count"
   ]
  },
  {
   "cell_type": "markdown",
   "metadata": {
    "id": "ytf7xFrFJQ2r"
   },
   "source": [
    "Вызовем ф-ию `number_tracks()` шесть раз, меняя значение параметров — так, чтобы получить данные для каждого города в каждый из трёх дней."
   ]
  },
  {
   "cell_type": "code",
   "execution_count": 21,
   "metadata": {
    "id": "rJcRATNQ_Zcu"
   },
   "outputs": [
    {
     "name": "stdout",
     "output_type": "stream",
     "text": [
      "15740\n"
     ]
    }
   ],
   "source": [
    "print(number_tracks('Monday', 'Moscow'))"
   ]
  },
  {
   "cell_type": "code",
   "execution_count": 22,
   "metadata": {
    "id": "hq_ncZ5T_Zcu"
   },
   "outputs": [
    {
     "name": "stdout",
     "output_type": "stream",
     "text": [
      "5614\n"
     ]
    }
   ],
   "source": [
    "print(number_tracks('Monday', 'Saint-Petersburg'))"
   ]
  },
  {
   "cell_type": "code",
   "execution_count": 23,
   "metadata": {
    "id": "_NTy2VPU_Zcu"
   },
   "outputs": [
    {
     "name": "stdout",
     "output_type": "stream",
     "text": [
      "11056\n"
     ]
    }
   ],
   "source": [
    "print(number_tracks('Wednesday', 'Moscow'))"
   ]
  },
  {
   "cell_type": "code",
   "execution_count": 24,
   "metadata": {
    "id": "j2y3TAwo_Zcu"
   },
   "outputs": [
    {
     "name": "stdout",
     "output_type": "stream",
     "text": [
      "7003\n"
     ]
    }
   ],
   "source": [
    "print(number_tracks('Wednesday', 'Saint-Petersburg'))"
   ]
  },
  {
   "cell_type": "code",
   "execution_count": 25,
   "metadata": {
    "id": "vYDw5u_K_Zcu"
   },
   "outputs": [
    {
     "name": "stdout",
     "output_type": "stream",
     "text": [
      "15945\n"
     ]
    }
   ],
   "source": [
    "print(number_tracks('Friday', 'Moscow'))"
   ]
  },
  {
   "cell_type": "code",
   "execution_count": 26,
   "metadata": {
    "id": "8_yzFtW3_Zcu"
   },
   "outputs": [
    {
     "name": "stdout",
     "output_type": "stream",
     "text": [
      "5895\n"
     ]
    }
   ],
   "source": [
    "print(number_tracks('Friday', 'Saint-Petersburg'))"
   ]
  },
  {
   "cell_type": "markdown",
   "metadata": {
    "id": "7QXffbO-_Zcu"
   },
   "source": [
    "Создадим c помощью конструктора `pd.DataFrame` таблицу, где\n",
    "* названия колонок — `['city', 'monday', 'wednesday', 'friday']`;\n",
    "* данные — результаты, которые получили с помощью `number_tracks`."
   ]
  },
  {
   "cell_type": "code",
   "execution_count": 27,
   "metadata": {
    "id": "APAcLpOr_Zcu"
   },
   "outputs": [
    {
     "data": {
      "text/html": [
       "<div>\n",
       "<style scoped>\n",
       "    .dataframe tbody tr th:only-of-type {\n",
       "        vertical-align: middle;\n",
       "    }\n",
       "\n",
       "    .dataframe tbody tr th {\n",
       "        vertical-align: top;\n",
       "    }\n",
       "\n",
       "    .dataframe thead th {\n",
       "        text-align: right;\n",
       "    }\n",
       "</style>\n",
       "<table border=\"1\" class=\"dataframe\">\n",
       "  <thead>\n",
       "    <tr style=\"text-align: right;\">\n",
       "      <th></th>\n",
       "      <th>city</th>\n",
       "      <th>monday</th>\n",
       "      <th>wednesday</th>\n",
       "      <th>friday</th>\n",
       "    </tr>\n",
       "  </thead>\n",
       "  <tbody>\n",
       "    <tr>\n",
       "      <th>0</th>\n",
       "      <td>Moscow</td>\n",
       "      <td>15740</td>\n",
       "      <td>11056</td>\n",
       "      <td>15945</td>\n",
       "    </tr>\n",
       "    <tr>\n",
       "      <th>1</th>\n",
       "      <td>Saint-Petersburg</td>\n",
       "      <td>5614</td>\n",
       "      <td>7003</td>\n",
       "      <td>5895</td>\n",
       "    </tr>\n",
       "  </tbody>\n",
       "</table>\n",
       "</div>"
      ],
      "text/plain": [
       "               city  monday  wednesday  friday\n",
       "0            Moscow   15740      11056   15945\n",
       "1  Saint-Petersburg    5614       7003    5895"
      ]
     },
     "metadata": {},
     "output_type": "display_data"
    }
   ],
   "source": [
    "result_columns = ['city', 'monday', 'wednesday', 'friday']\n",
    "result_data = [\n",
    "    ['Moscow', number_tracks('Monday', 'Moscow'), number_tracks('Wednesday', 'Moscow'), number_tracks('Friday', 'Moscow')],\n",
    "    ['Saint-Petersburg', number_tracks('Monday', 'Saint-Petersburg'), number_tracks('Wednesday', 'Saint-Petersburg'), number_tracks('Friday', 'Saint-Petersburg')]\n",
    "]\n",
    "result = pd.DataFrame(data = result_data, columns = result_columns)\n",
    "display(result)"
   ]
  },
  {
   "cell_type": "markdown",
   "metadata": {
    "id": "-EgPIHYu_Zcu"
   },
   "source": [
    "**Выводы**\n",
    "\n",
    "Данные показывают разницу поведения пользователей:\n",
    "\n",
    "- В Москве пик прослушиваний приходится на понедельник и пятницу, а в среду заметен спад.\n",
    "- В Петербурге, наоборот, больше слушают музыку по средам. Активность в понедельник и пятницу здесь почти в равной мере уступает среде.\n",
    "\n",
    "Значит, данные говорят в пользу первой гипотезы."
   ]
  },
  {
   "cell_type": "markdown",
   "metadata": {
    "id": "atZAxtq4_Zcu"
   },
   "source": [
    "### Музыка в начале и в конце недели"
   ]
  },
  {
   "cell_type": "markdown",
   "metadata": {
    "id": "eXrQqXFH_Zcu"
   },
   "source": [
    "Согласно второй гипотезе, утром в понедельник в Москве преобладают одни жанры, а в Петербурге — другие. Так же и вечером пятницы преобладают разные жанры — в зависимости от города."
   ]
  },
  {
   "cell_type": "markdown",
   "metadata": {
    "id": "S8UcW6Hw_Zcu"
   },
   "source": [
    "Сохраним таблицы с данными в две переменные:\n",
    "* по Москве — в `moscow_general`;\n",
    "* по Санкт-Петербургу — в `spb_general`."
   ]
  },
  {
   "cell_type": "code",
   "execution_count": 28,
   "metadata": {
    "id": "qeaFfM_P_Zcu"
   },
   "outputs": [
    {
     "data": {
      "text/html": [
       "<div>\n",
       "<style scoped>\n",
       "    .dataframe tbody tr th:only-of-type {\n",
       "        vertical-align: middle;\n",
       "    }\n",
       "\n",
       "    .dataframe tbody tr th {\n",
       "        vertical-align: top;\n",
       "    }\n",
       "\n",
       "    .dataframe thead th {\n",
       "        text-align: right;\n",
       "    }\n",
       "</style>\n",
       "<table border=\"1\" class=\"dataframe\">\n",
       "  <thead>\n",
       "    <tr style=\"text-align: right;\">\n",
       "      <th></th>\n",
       "      <th>user_id</th>\n",
       "      <th>track</th>\n",
       "      <th>artist</th>\n",
       "      <th>genre</th>\n",
       "      <th>city</th>\n",
       "      <th>time</th>\n",
       "      <th>day</th>\n",
       "    </tr>\n",
       "  </thead>\n",
       "  <tbody>\n",
       "    <tr>\n",
       "      <th>1</th>\n",
       "      <td>55204538</td>\n",
       "      <td>Delayed Because of Accident</td>\n",
       "      <td>Andreas Rönnberg</td>\n",
       "      <td>rock</td>\n",
       "      <td>Moscow</td>\n",
       "      <td>14:07:09</td>\n",
       "      <td>Friday</td>\n",
       "    </tr>\n",
       "    <tr>\n",
       "      <th>4</th>\n",
       "      <td>E2DC1FAE</td>\n",
       "      <td>Soul People</td>\n",
       "      <td>Space Echo</td>\n",
       "      <td>dance</td>\n",
       "      <td>Moscow</td>\n",
       "      <td>08:34:34</td>\n",
       "      <td>Monday</td>\n",
       "    </tr>\n",
       "    <tr>\n",
       "      <th>6</th>\n",
       "      <td>4CB90AA5</td>\n",
       "      <td>True</td>\n",
       "      <td>Roman Messer</td>\n",
       "      <td>dance</td>\n",
       "      <td>Moscow</td>\n",
       "      <td>13:00:07</td>\n",
       "      <td>Wednesday</td>\n",
       "    </tr>\n",
       "    <tr>\n",
       "      <th>7</th>\n",
       "      <td>F03E1C1F</td>\n",
       "      <td>Feeling This Way</td>\n",
       "      <td>Polina Griffith</td>\n",
       "      <td>dance</td>\n",
       "      <td>Moscow</td>\n",
       "      <td>20:47:49</td>\n",
       "      <td>Wednesday</td>\n",
       "    </tr>\n",
       "    <tr>\n",
       "      <th>8</th>\n",
       "      <td>8FA1D3BE</td>\n",
       "      <td>И вновь продолжается бой</td>\n",
       "      <td>unknown</td>\n",
       "      <td>ruspop</td>\n",
       "      <td>Moscow</td>\n",
       "      <td>09:17:40</td>\n",
       "      <td>Friday</td>\n",
       "    </tr>\n",
       "    <tr>\n",
       "      <th>...</th>\n",
       "      <td>...</td>\n",
       "      <td>...</td>\n",
       "      <td>...</td>\n",
       "      <td>...</td>\n",
       "      <td>...</td>\n",
       "      <td>...</td>\n",
       "      <td>...</td>\n",
       "    </tr>\n",
       "    <tr>\n",
       "      <th>61247</th>\n",
       "      <td>83A474E7</td>\n",
       "      <td>I Worship Only What You Bleed</td>\n",
       "      <td>The Black Dahlia Murder</td>\n",
       "      <td>extrememetal</td>\n",
       "      <td>Moscow</td>\n",
       "      <td>21:07:12</td>\n",
       "      <td>Monday</td>\n",
       "    </tr>\n",
       "    <tr>\n",
       "      <th>61248</th>\n",
       "      <td>729CBB09</td>\n",
       "      <td>My Name</td>\n",
       "      <td>McLean</td>\n",
       "      <td>rnb</td>\n",
       "      <td>Moscow</td>\n",
       "      <td>13:32:28</td>\n",
       "      <td>Wednesday</td>\n",
       "    </tr>\n",
       "    <tr>\n",
       "      <th>61250</th>\n",
       "      <td>C5E3A0D5</td>\n",
       "      <td>Jalopiina</td>\n",
       "      <td>unknown</td>\n",
       "      <td>industrial</td>\n",
       "      <td>Moscow</td>\n",
       "      <td>20:09:26</td>\n",
       "      <td>Friday</td>\n",
       "    </tr>\n",
       "    <tr>\n",
       "      <th>61251</th>\n",
       "      <td>321D0506</td>\n",
       "      <td>Freight Train</td>\n",
       "      <td>Chas McDevitt</td>\n",
       "      <td>rock</td>\n",
       "      <td>Moscow</td>\n",
       "      <td>21:43:59</td>\n",
       "      <td>Friday</td>\n",
       "    </tr>\n",
       "    <tr>\n",
       "      <th>61252</th>\n",
       "      <td>3A64EF84</td>\n",
       "      <td>Tell Me Sweet Little Lies</td>\n",
       "      <td>Monica Lopez</td>\n",
       "      <td>country</td>\n",
       "      <td>Moscow</td>\n",
       "      <td>21:59:46</td>\n",
       "      <td>Friday</td>\n",
       "    </tr>\n",
       "  </tbody>\n",
       "</table>\n",
       "<p>42741 rows × 7 columns</p>\n",
       "</div>"
      ],
      "text/plain": [
       "        user_id                          track                   artist  \\\n",
       "1      55204538    Delayed Because of Accident         Andreas Rönnberg   \n",
       "4      E2DC1FAE                    Soul People               Space Echo   \n",
       "6      4CB90AA5                           True             Roman Messer   \n",
       "7      F03E1C1F               Feeling This Way          Polina Griffith   \n",
       "8      8FA1D3BE       И вновь продолжается бой                  unknown   \n",
       "...         ...                            ...                      ...   \n",
       "61247  83A474E7  I Worship Only What You Bleed  The Black Dahlia Murder   \n",
       "61248  729CBB09                        My Name                   McLean   \n",
       "61250  C5E3A0D5                      Jalopiina                  unknown   \n",
       "61251  321D0506                  Freight Train            Chas McDevitt   \n",
       "61252  3A64EF84      Tell Me Sweet Little Lies             Monica Lopez   \n",
       "\n",
       "              genre    city      time        day  \n",
       "1              rock  Moscow  14:07:09     Friday  \n",
       "4             dance  Moscow  08:34:34     Monday  \n",
       "6             dance  Moscow  13:00:07  Wednesday  \n",
       "7             dance  Moscow  20:47:49  Wednesday  \n",
       "8            ruspop  Moscow  09:17:40     Friday  \n",
       "...             ...     ...       ...        ...  \n",
       "61247  extrememetal  Moscow  21:07:12     Monday  \n",
       "61248           rnb  Moscow  13:32:28  Wednesday  \n",
       "61250    industrial  Moscow  20:09:26     Friday  \n",
       "61251          rock  Moscow  21:43:59     Friday  \n",
       "61252       country  Moscow  21:59:46     Friday  \n",
       "\n",
       "[42741 rows x 7 columns]"
      ]
     },
     "metadata": {},
     "output_type": "display_data"
    }
   ],
   "source": [
    "moscow_general = df[df['city'] == 'Moscow']\n",
    "display(moscow_general)"
   ]
  },
  {
   "cell_type": "code",
   "execution_count": 29,
   "metadata": {
    "id": "ORaVRKto_Zcu"
   },
   "outputs": [],
   "source": [
    "spb_general = df[df['city'] == 'Saint-Petersburg']"
   ]
  },
  {
   "cell_type": "markdown",
   "metadata": {
    "id": "MEJV-CX2_Zcu"
   },
   "source": [
    "Создадим функцию `genre_weekday()` с четырьмя параметрами:\n",
    "* таблица (датафрейм) с данными,\n",
    "* день недели,\n",
    "* начальная временная метка в формате 'hh:mm', \n",
    "* последняя временная метка в формате 'hh:mm'.\n",
    "\n",
    "Функция возвращает информацию о топ-10 жанров тех треков, которые прослушивали в указанный день, в промежутке между двумя отметками времени."
   ]
  },
  {
   "cell_type": "code",
   "execution_count": 30,
   "metadata": {
    "id": "laJT9BYl_Zcu"
   },
   "outputs": [],
   "source": [
    "def genre_weekday(table, day, time1, time2):\n",
    "    genre_df = table[(table['day'] == day) & (table['time'] > time1) & (table['time'] < time2)]\n",
    "    genre_df_count = genre_df.groupby('genre')['user_id'].count()\n",
    "    genre_df_sorted = genre_df_count.sort_values(ascending = False)\n",
    "    return(genre_df_sorted.head(10))"
   ]
  },
  {
   "cell_type": "markdown",
   "metadata": {
    "id": "la2s2_PF_Zcu"
   },
   "source": [
    "Cравним результаты функции `genre_weekday()` для Москвы и Санкт-Петербурга в понедельник утром (с 7:00 до 11:00) и в пятницу вечером (с 17:00 до 23:00):"
   ]
  },
  {
   "cell_type": "code",
   "execution_count": 31,
   "metadata": {
    "id": "yz7itPUQ_Zcu"
   },
   "outputs": [
    {
     "data": {
      "text/plain": [
       "genre\n",
       "pop            781\n",
       "dance          549\n",
       "electronic     480\n",
       "rock           474\n",
       "hiphop         286\n",
       "ruspop         186\n",
       "world          181\n",
       "rusrap         175\n",
       "alternative    164\n",
       "unknown        161\n",
       "Name: user_id, dtype: int64"
      ]
     },
     "execution_count": 31,
     "metadata": {},
     "output_type": "execute_result"
    }
   ],
   "source": [
    "genre_weekday(moscow_general, 'Monday', '07:00', '11:00')"
   ]
  },
  {
   "cell_type": "code",
   "execution_count": 32,
   "metadata": {
    "id": "kwUcHPdy_Zcu"
   },
   "outputs": [
    {
     "data": {
      "text/plain": [
       "genre\n",
       "pop            218\n",
       "dance          182\n",
       "rock           162\n",
       "electronic     147\n",
       "hiphop          80\n",
       "ruspop          64\n",
       "alternative     58\n",
       "rusrap          55\n",
       "jazz            44\n",
       "classical       40\n",
       "Name: user_id, dtype: int64"
      ]
     },
     "execution_count": 32,
     "metadata": {},
     "output_type": "execute_result"
    }
   ],
   "source": [
    "genre_weekday(spb_general, 'Monday', '07:00', '11:00')"
   ]
  },
  {
   "cell_type": "code",
   "execution_count": 33,
   "metadata": {
    "id": "EzXVRE1o_Zcu"
   },
   "outputs": [
    {
     "data": {
      "text/plain": [
       "genre\n",
       "pop            717\n",
       "dance          524\n",
       "rock           518\n",
       "electronic     485\n",
       "hiphop         238\n",
       "alternative    182\n",
       "classical      172\n",
       "world          172\n",
       "ruspop         149\n",
       "rusrap         133\n",
       "Name: user_id, dtype: int64"
      ]
     },
     "execution_count": 33,
     "metadata": {},
     "output_type": "execute_result"
    }
   ],
   "source": [
    "genre_weekday(moscow_general, 'Monday', '17:00', '23:00')"
   ]
  },
  {
   "cell_type": "code",
   "execution_count": 34,
   "metadata": {
    "id": "JZaEKu5v_Zcu"
   },
   "outputs": [
    {
     "data": {
      "text/plain": [
       "genre\n",
       "pop            263\n",
       "rock           208\n",
       "electronic     192\n",
       "dance          191\n",
       "hiphop         104\n",
       "alternative     72\n",
       "classical       71\n",
       "jazz            57\n",
       "rusrap          54\n",
       "ruspop          53\n",
       "Name: user_id, dtype: int64"
      ]
     },
     "execution_count": 34,
     "metadata": {},
     "output_type": "execute_result"
    }
   ],
   "source": [
    "genre_weekday(spb_general, 'Monday', '17:00', '23:00')"
   ]
  },
  {
   "cell_type": "markdown",
   "metadata": {
    "id": "wrCe4MNX_Zcu"
   },
   "source": [
    "**Выводы**\n",
    "\n",
    "Если сравнить топ-10 жанров в понедельник утром, можно сделать такие выводы:\n",
    "\n",
    "1. В Москве и Петербурге слушают похожую музыку. Единственное отличие — в московский рейтинг вошёл жанр “world”, а в петербургский — джаз и классика.\n",
    "\n",
    "2. В Москве пропущенных значений оказалось так много, что значение `'unknown'` заняло десятое место среди самых популярных жанров. Значит, пропущенные значения занимают существенную долю в данных и угрожают достоверности исследования.\n",
    "\n",
    "Вечер пятницы не меняет эту картину. Некоторые жанры поднимаются немного выше, другие спускаются, но в целом топ-10 остаётся тем же самым.\n",
    "\n",
    "Таким образом, вторая гипотеза подтвердилась лишь частично:\n",
    "* Пользователи слушают похожую музыку в начале недели и в конце.\n",
    "* Разница между Москвой и Петербургом не слишком выражена. В Москве чаще слушают русскую популярную музыку, в Петербурге — джаз.\n",
    "\n",
    "Однако пропуски в данных ставят под сомнение этот результат. В Москве их так много, что рейтинг топ-10 мог бы выглядеть иначе, если бы не утерянные  данные о жанрах."
   ]
  },
  {
   "cell_type": "markdown",
   "metadata": {
    "id": "JolODAqr_Zcu"
   },
   "source": [
    "### Жанровые предпочтения в Москве и Петербурге\n",
    "\n",
    "Гипотеза: Петербург — столица рэпа, музыку этого жанра там слушают чаще, чем в Москве.  А Москва — город контрастов, в котором, тем не менее, преобладает поп-музыка."
   ]
  },
  {
   "cell_type": "markdown",
   "metadata": {
    "id": "DlegSvaT_Zcu"
   },
   "source": [
    "Сгруппируем таблицу `moscow_general` по жанру и посчитаем прослушивания треков каждого жанра методом `count()`. Затем отсортируем результат в порядке убывания и сохраним его в таблице `moscow_genres`."
   ]
  },
  {
   "cell_type": "code",
   "execution_count": 35,
   "metadata": {
    "id": "r19lIPke_Zcu"
   },
   "outputs": [],
   "source": [
    "moscow_genres = moscow_general.groupby('genre')['user_id'].count().sort_values(ascending = False) "
   ]
  },
  {
   "cell_type": "code",
   "execution_count": 36,
   "metadata": {
    "id": "WhCSooF8_Zcv"
   },
   "outputs": [
    {
     "name": "stdout",
     "output_type": "stream",
     "text": [
      "genre\n",
      "pop            5892\n",
      "dance          4435\n",
      "rock           3965\n",
      "electronic     3786\n",
      "hiphop         2096\n",
      "classical      1616\n",
      "world          1432\n",
      "alternative    1379\n",
      "ruspop         1372\n",
      "rusrap         1161\n",
      "Name: user_id, dtype: int64\n"
     ]
    }
   ],
   "source": [
    "print(moscow_genres.head(10))"
   ]
  },
  {
   "cell_type": "markdown",
   "metadata": {
    "id": "cnPG2vnN_Zcv"
   },
   "source": [
    "Сгруппирем таблицу `spb_general` по жанру. Посчитаем прослушивания треков каждого жанра. Результат отсортируем в порядке убывания и сохраните в таблице `spb_genres`:"
   ]
  },
  {
   "cell_type": "code",
   "execution_count": 37,
   "metadata": {
    "id": "gluLIpE7_Zcv"
   },
   "outputs": [],
   "source": [
    "spb_genres = spb_general.groupby('genre')['user_id'].count().sort_values(ascending = False)"
   ]
  },
  {
   "cell_type": "markdown",
   "metadata": {
    "id": "5Doha_ODgyQ8"
   },
   "source": [
    "Выведем на экран первые десять строк `spb_genres`:"
   ]
  },
  {
   "cell_type": "code",
   "execution_count": 38,
   "metadata": {
    "id": "uaGJHjVU_Zcv"
   },
   "outputs": [
    {
     "name": "stdout",
     "output_type": "stream",
     "text": [
      "genre\n",
      "pop            2431\n",
      "dance          1932\n",
      "rock           1879\n",
      "electronic     1736\n",
      "hiphop          960\n",
      "alternative     649\n",
      "classical       646\n",
      "rusrap          564\n",
      "ruspop          538\n",
      "world           515\n",
      "Name: user_id, dtype: int64\n"
     ]
    }
   ],
   "source": [
    "print(spb_genres.head(10))"
   ]
  },
  {
   "cell_type": "markdown",
   "metadata": {
    "id": "RY51YJYu_Zcv"
   },
   "source": [
    "**Выводы**"
   ]
  },
  {
   "cell_type": "markdown",
   "metadata": {
    "id": "nVhnJEm__Zcv"
   },
   "source": [
    "Гипотеза частично подтвердилась:\n",
    "* Поп-музыка — самый популярный жанр в Москве, как и предполагала гипотеза. Более того, в топ-10 жанров встречается близкий жанр — русская популярная музыка.\n",
    "* Вопреки ожиданиям, рэп одинаково популярен в Москве и Петербурге. \n"
   ]
  },
  {
   "cell_type": "markdown",
   "metadata": {
    "id": "ykKQ0N65_Zcv"
   },
   "source": [
    "## Итоги исследования"
   ]
  },
  {
   "cell_type": "markdown",
   "metadata": {
    "id": "tjUwbHb3_Zcv"
   },
   "source": [
    "Проверили три гипотезы и установили:\n",
    "\n",
    "1. День недели по-разному влияет на активность пользователей в Москве и Петербурге. \n",
    "\n",
    "Первая гипотеза полностью подтвердилась.\n",
    "\n",
    "2. Музыкальные предпочтения не сильно меняются в течение недели — будь то Москва или Петербург. Небольшие различия заметны в начале недели, по понедельникам:\n",
    "* в Москве слушают музыку жанра “world”,\n",
    "* в Петербурге — джаз и классику.\n",
    "\n",
    "Таким образом, вторая гипотеза подтвердилась лишь отчасти. Этот результат мог оказаться иным, если бы не пропуски в данных.\n",
    "\n",
    "3. Во вкусах пользователей Москвы и Петербурга больше общего чем различий. Вопреки ожиданиям, предпочтения жанров в Петербурге напоминают московские.\n",
    "\n",
    "Третья гипотеза не подтвердилась. Если различия в предпочтениях и существуют, на основной массе пользователей они незаметны."
   ]
  }
 ],
 "metadata": {
  "ExecuteTimeLog": [
   {
    "duration": 49,
    "start_time": "2022-09-16T09:42:50.333Z"
   },
   {
    "duration": 5,
    "start_time": "2022-09-16T09:43:43.352Z"
   },
   {
    "duration": 6,
    "start_time": "2022-09-16T09:43:46.659Z"
   },
   {
    "duration": 351,
    "start_time": "2022-09-16T09:44:51.780Z"
   },
   {
    "duration": 34,
    "start_time": "2022-09-16T09:44:57.439Z"
   },
   {
    "duration": 230,
    "start_time": "2022-09-16T09:45:55.361Z"
   },
   {
    "duration": 158,
    "start_time": "2022-09-16T09:45:59.341Z"
   },
   {
    "duration": 8,
    "start_time": "2022-09-16T09:46:05.848Z"
   },
   {
    "duration": 24,
    "start_time": "2022-09-16T09:46:23.441Z"
   },
   {
    "duration": 9,
    "start_time": "2022-09-16T09:49:08.097Z"
   },
   {
    "duration": 15,
    "start_time": "2022-09-16T09:51:35.512Z"
   },
   {
    "duration": 24,
    "start_time": "2022-09-16T09:51:48.465Z"
   },
   {
    "duration": 32,
    "start_time": "2022-09-16T09:51:56.587Z"
   },
   {
    "duration": 24,
    "start_time": "2022-09-16T09:52:03.681Z"
   },
   {
    "duration": 4,
    "start_time": "2022-09-16T09:52:16.733Z"
   },
   {
    "duration": 5,
    "start_time": "2022-09-16T09:54:54.136Z"
   },
   {
    "duration": 21,
    "start_time": "2022-09-16T09:54:58.702Z"
   },
   {
    "duration": 5,
    "start_time": "2022-09-16T09:55:02.736Z"
   },
   {
    "duration": 2,
    "start_time": "2022-09-16T09:55:14.465Z"
   },
   {
    "duration": 175,
    "start_time": "2022-09-16T09:55:14.469Z"
   },
   {
    "duration": 11,
    "start_time": "2022-09-16T09:55:14.646Z"
   },
   {
    "duration": 29,
    "start_time": "2022-09-16T09:55:14.658Z"
   },
   {
    "duration": 5,
    "start_time": "2022-09-16T09:55:14.689Z"
   },
   {
    "duration": 40,
    "start_time": "2022-09-16T09:55:14.695Z"
   },
   {
    "duration": 11,
    "start_time": "2022-09-16T09:55:14.737Z"
   },
   {
    "duration": 11,
    "start_time": "2022-09-16T09:55:14.750Z"
   },
   {
    "duration": 6,
    "start_time": "2022-09-16T09:55:14.762Z"
   },
   {
    "duration": 5,
    "start_time": "2022-09-16T09:55:14.770Z"
   },
   {
    "duration": 4,
    "start_time": "2022-09-16T09:55:14.776Z"
   },
   {
    "duration": 5,
    "start_time": "2022-09-16T09:55:14.781Z"
   },
   {
    "duration": 4,
    "start_time": "2022-09-16T09:55:14.790Z"
   },
   {
    "duration": 5,
    "start_time": "2022-09-16T09:55:14.797Z"
   },
   {
    "duration": 32,
    "start_time": "2022-09-16T09:55:14.804Z"
   },
   {
    "duration": 8,
    "start_time": "2022-09-16T09:55:14.838Z"
   },
   {
    "duration": 36,
    "start_time": "2022-09-16T09:55:14.847Z"
   },
   {
    "duration": 4,
    "start_time": "2022-09-16T09:55:14.884Z"
   },
   {
    "duration": 5,
    "start_time": "2022-09-16T09:55:14.889Z"
   },
   {
    "duration": 5,
    "start_time": "2022-09-16T09:55:14.895Z"
   },
   {
    "duration": 7,
    "start_time": "2022-09-16T09:55:14.902Z"
   },
   {
    "duration": 24,
    "start_time": "2022-09-16T09:55:14.910Z"
   },
   {
    "duration": 4,
    "start_time": "2022-09-16T09:55:14.935Z"
   },
   {
    "duration": 6,
    "start_time": "2022-09-16T09:55:14.940Z"
   },
   {
    "duration": 4,
    "start_time": "2022-09-16T09:55:14.947Z"
   },
   {
    "duration": 8,
    "start_time": "2022-09-16T09:55:14.953Z"
   },
   {
    "duration": 6,
    "start_time": "2022-09-16T09:55:14.962Z"
   },
   {
    "duration": 6,
    "start_time": "2022-09-16T09:55:14.969Z"
   },
   {
    "duration": 5,
    "start_time": "2022-09-16T09:55:14.977Z"
   },
   {
    "duration": 6,
    "start_time": "2022-09-16T09:55:14.983Z"
   },
   {
    "duration": 7,
    "start_time": "2022-09-16T09:55:14.990Z"
   },
   {
    "duration": 8,
    "start_time": "2022-09-16T09:55:14.999Z"
   },
   {
    "duration": 33,
    "start_time": "2022-09-16T09:55:15.008Z"
   },
   {
    "duration": 5,
    "start_time": "2022-09-16T09:55:15.042Z"
   },
   {
    "duration": 7,
    "start_time": "2022-09-16T09:55:15.048Z"
   },
   {
    "duration": 4,
    "start_time": "2022-09-16T09:55:15.057Z"
   },
   {
    "duration": 8,
    "start_time": "2022-09-16T09:55:15.064Z"
   },
   {
    "duration": 9,
    "start_time": "2022-09-16T09:55:15.073Z"
   },
   {
    "duration": 2,
    "start_time": "2022-09-16T09:57:07.081Z"
   },
   {
    "duration": 198,
    "start_time": "2022-09-16T09:57:07.085Z"
   },
   {
    "duration": 10,
    "start_time": "2022-09-16T09:57:07.285Z"
   },
   {
    "duration": 48,
    "start_time": "2022-09-16T09:57:07.296Z"
   },
   {
    "duration": 10,
    "start_time": "2022-09-16T09:57:07.349Z"
   },
   {
    "duration": 12,
    "start_time": "2022-09-16T09:57:07.360Z"
   },
   {
    "duration": 4,
    "start_time": "2022-09-16T09:57:07.374Z"
   },
   {
    "duration": 10,
    "start_time": "2022-09-16T09:57:07.379Z"
   },
   {
    "duration": 12,
    "start_time": "2022-09-16T09:57:07.391Z"
   },
   {
    "duration": 43,
    "start_time": "2022-09-16T09:57:07.405Z"
   },
   {
    "duration": 5,
    "start_time": "2022-09-16T09:57:07.449Z"
   },
   {
    "duration": 5,
    "start_time": "2022-09-16T09:57:07.455Z"
   },
   {
    "duration": 6,
    "start_time": "2022-09-16T09:57:07.463Z"
   },
   {
    "duration": 4,
    "start_time": "2022-09-16T09:57:07.470Z"
   },
   {
    "duration": 4,
    "start_time": "2022-09-16T09:57:07.475Z"
   },
   {
    "duration": 9,
    "start_time": "2022-09-16T09:57:07.481Z"
   },
   {
    "duration": 8,
    "start_time": "2022-09-16T09:57:07.491Z"
   },
   {
    "duration": 7,
    "start_time": "2022-09-16T09:57:07.500Z"
   },
   {
    "duration": 44,
    "start_time": "2022-09-16T09:57:07.508Z"
   },
   {
    "duration": 7,
    "start_time": "2022-09-16T09:57:07.554Z"
   },
   {
    "duration": 6,
    "start_time": "2022-09-16T09:57:07.562Z"
   },
   {
    "duration": 7,
    "start_time": "2022-09-16T09:57:07.570Z"
   },
   {
    "duration": 7,
    "start_time": "2022-09-16T09:57:07.578Z"
   },
   {
    "duration": 6,
    "start_time": "2022-09-16T09:57:07.587Z"
   },
   {
    "duration": 6,
    "start_time": "2022-09-16T09:57:07.595Z"
   },
   {
    "duration": 5,
    "start_time": "2022-09-16T09:57:07.602Z"
   },
   {
    "duration": 39,
    "start_time": "2022-09-16T09:57:07.608Z"
   },
   {
    "duration": 4,
    "start_time": "2022-09-16T09:57:07.649Z"
   },
   {
    "duration": 5,
    "start_time": "2022-09-16T09:57:07.654Z"
   },
   {
    "duration": 5,
    "start_time": "2022-09-16T09:57:07.661Z"
   },
   {
    "duration": 6,
    "start_time": "2022-09-16T09:57:07.667Z"
   },
   {
    "duration": 4,
    "start_time": "2022-09-16T09:57:07.675Z"
   },
   {
    "duration": 17,
    "start_time": "2022-09-16T09:57:07.681Z"
   },
   {
    "duration": 31,
    "start_time": "2022-09-16T09:57:07.700Z"
   },
   {
    "duration": 32,
    "start_time": "2022-09-16T09:57:07.733Z"
   },
   {
    "duration": 23,
    "start_time": "2022-09-16T09:57:07.766Z"
   },
   {
    "duration": 62,
    "start_time": "2022-09-16T09:57:07.792Z"
   },
   {
    "duration": 14,
    "start_time": "2022-09-16T09:57:07.856Z"
   },
   {
    "duration": 20,
    "start_time": "2022-09-16T09:58:26.550Z"
   },
   {
    "duration": 20,
    "start_time": "2022-09-16T10:03:18.344Z"
   },
   {
    "duration": 18,
    "start_time": "2022-09-16T10:03:41.249Z"
   },
   {
    "duration": 21,
    "start_time": "2022-09-16T10:03:44.449Z"
   },
   {
    "duration": 23,
    "start_time": "2022-09-16T10:03:49.537Z"
   },
   {
    "duration": 2,
    "start_time": "2022-09-16T10:03:54.648Z"
   },
   {
    "duration": 200,
    "start_time": "2022-09-16T10:03:54.652Z"
   },
   {
    "duration": 17,
    "start_time": "2022-09-16T10:03:54.856Z"
   },
   {
    "duration": 60,
    "start_time": "2022-09-16T10:03:54.875Z"
   },
   {
    "duration": 4,
    "start_time": "2022-09-16T10:03:54.948Z"
   },
   {
    "duration": 9,
    "start_time": "2022-09-16T10:03:54.953Z"
   },
   {
    "duration": 3,
    "start_time": "2022-09-16T10:03:54.964Z"
   },
   {
    "duration": 21,
    "start_time": "2022-09-16T10:03:54.968Z"
   },
   {
    "duration": 14,
    "start_time": "2022-09-16T10:03:54.990Z"
   },
   {
    "duration": 43,
    "start_time": "2022-09-16T10:03:55.006Z"
   },
   {
    "duration": 10,
    "start_time": "2022-09-16T10:03:55.050Z"
   },
   {
    "duration": 6,
    "start_time": "2022-09-16T10:03:55.062Z"
   },
   {
    "duration": 6,
    "start_time": "2022-09-16T10:03:55.069Z"
   },
   {
    "duration": 3,
    "start_time": "2022-09-16T10:03:55.078Z"
   },
   {
    "duration": 4,
    "start_time": "2022-09-16T10:03:55.082Z"
   },
   {
    "duration": 5,
    "start_time": "2022-09-16T10:03:55.087Z"
   },
   {
    "duration": 5,
    "start_time": "2022-09-16T10:03:55.093Z"
   },
   {
    "duration": 4,
    "start_time": "2022-09-16T10:03:55.099Z"
   },
   {
    "duration": 44,
    "start_time": "2022-09-16T10:03:55.104Z"
   },
   {
    "duration": 6,
    "start_time": "2022-09-16T10:03:55.150Z"
   },
   {
    "duration": 8,
    "start_time": "2022-09-16T10:03:55.157Z"
   },
   {
    "duration": 4,
    "start_time": "2022-09-16T10:03:55.166Z"
   },
   {
    "duration": 8,
    "start_time": "2022-09-16T10:03:55.171Z"
   },
   {
    "duration": 5,
    "start_time": "2022-09-16T10:03:55.180Z"
   },
   {
    "duration": 5,
    "start_time": "2022-09-16T10:03:55.186Z"
   },
   {
    "duration": 6,
    "start_time": "2022-09-16T10:03:55.193Z"
   },
   {
    "duration": 13,
    "start_time": "2022-09-16T10:03:55.201Z"
   },
   {
    "duration": 19,
    "start_time": "2022-09-16T10:03:55.227Z"
   },
   {
    "duration": 6,
    "start_time": "2022-09-16T10:03:55.248Z"
   },
   {
    "duration": 5,
    "start_time": "2022-09-16T10:03:55.255Z"
   },
   {
    "duration": 8,
    "start_time": "2022-09-16T10:03:55.262Z"
   },
   {
    "duration": 14,
    "start_time": "2022-09-16T10:03:55.271Z"
   },
   {
    "duration": 7,
    "start_time": "2022-09-16T10:03:55.287Z"
   },
   {
    "duration": 4,
    "start_time": "2022-09-16T10:03:55.295Z"
   },
   {
    "duration": 5,
    "start_time": "2022-09-16T10:03:55.300Z"
   },
   {
    "duration": 42,
    "start_time": "2022-09-16T10:03:55.307Z"
   },
   {
    "duration": 6,
    "start_time": "2022-09-16T10:03:55.350Z"
   },
   {
    "duration": 4,
    "start_time": "2022-09-16T10:03:55.357Z"
   },
   {
    "duration": 60,
    "start_time": "2022-09-16T10:05:28.231Z"
   },
   {
    "duration": 78,
    "start_time": "2022-09-16T10:06:36.107Z"
   },
   {
    "duration": 70,
    "start_time": "2022-09-16T10:06:49.500Z"
   },
   {
    "duration": 3,
    "start_time": "2022-09-16T10:06:53.336Z"
   },
   {
    "duration": 155,
    "start_time": "2022-09-16T10:06:53.341Z"
   },
   {
    "duration": 9,
    "start_time": "2022-09-16T10:06:53.498Z"
   },
   {
    "duration": 49,
    "start_time": "2022-09-16T10:06:53.508Z"
   },
   {
    "duration": 4,
    "start_time": "2022-09-16T10:06:53.559Z"
   },
   {
    "duration": 10,
    "start_time": "2022-09-16T10:06:53.565Z"
   },
   {
    "duration": 7,
    "start_time": "2022-09-16T10:06:53.576Z"
   },
   {
    "duration": 21,
    "start_time": "2022-09-16T10:06:53.585Z"
   },
   {
    "duration": 44,
    "start_time": "2022-09-16T10:06:53.607Z"
   },
   {
    "duration": 23,
    "start_time": "2022-09-16T10:06:53.652Z"
   },
   {
    "duration": 75,
    "start_time": "2022-09-16T10:06:53.676Z"
   },
   {
    "duration": 75,
    "start_time": "2022-09-16T10:06:53.752Z"
   },
   {
    "duration": 57,
    "start_time": "2022-09-16T10:06:53.836Z"
   },
   {
    "duration": 2,
    "start_time": "2022-09-16T10:06:53.897Z"
   },
   {
    "duration": 19,
    "start_time": "2022-09-16T10:06:53.900Z"
   },
   {
    "duration": 13,
    "start_time": "2022-09-16T10:06:53.932Z"
   },
   {
    "duration": 9,
    "start_time": "2022-09-16T10:06:53.947Z"
   },
   {
    "duration": 6,
    "start_time": "2022-09-16T10:06:53.957Z"
   },
   {
    "duration": 9,
    "start_time": "2022-09-16T10:06:53.964Z"
   },
   {
    "duration": 20,
    "start_time": "2022-09-16T10:06:53.975Z"
   },
   {
    "duration": 37,
    "start_time": "2022-09-16T10:06:53.996Z"
   },
   {
    "duration": 14,
    "start_time": "2022-09-16T10:06:54.034Z"
   },
   {
    "duration": 24,
    "start_time": "2022-09-16T10:06:54.049Z"
   },
   {
    "duration": 13,
    "start_time": "2022-09-16T10:06:54.074Z"
   },
   {
    "duration": 12,
    "start_time": "2022-09-16T10:06:54.088Z"
   },
   {
    "duration": 5,
    "start_time": "2022-09-16T10:06:54.101Z"
   },
   {
    "duration": 47,
    "start_time": "2022-09-16T10:06:54.107Z"
   },
   {
    "duration": 29,
    "start_time": "2022-09-16T10:06:54.156Z"
   },
   {
    "duration": 17,
    "start_time": "2022-09-16T10:06:54.187Z"
   },
   {
    "duration": 46,
    "start_time": "2022-09-16T10:06:54.206Z"
   },
   {
    "duration": 23,
    "start_time": "2022-09-16T10:06:54.254Z"
   },
   {
    "duration": 21,
    "start_time": "2022-09-16T10:06:54.279Z"
   },
   {
    "duration": 56,
    "start_time": "2022-09-16T10:06:54.302Z"
   },
   {
    "duration": 14,
    "start_time": "2022-09-16T10:06:54.360Z"
   },
   {
    "duration": 22,
    "start_time": "2022-09-16T10:06:54.376Z"
   },
   {
    "duration": 34,
    "start_time": "2022-09-16T10:06:54.399Z"
   },
   {
    "duration": 18,
    "start_time": "2022-09-16T10:06:54.435Z"
   },
   {
    "duration": 19,
    "start_time": "2022-09-16T10:06:54.455Z"
   },
   {
    "duration": 19,
    "start_time": "2022-09-16T10:10:36.204Z"
   },
   {
    "duration": 8,
    "start_time": "2022-09-16T10:10:44.388Z"
   },
   {
    "duration": 7,
    "start_time": "2022-09-16T10:10:51.370Z"
   },
   {
    "duration": 15,
    "start_time": "2022-09-16T10:11:15.189Z"
   },
   {
    "duration": 45,
    "start_time": "2022-09-16T10:26:11.352Z"
   },
   {
    "duration": 3,
    "start_time": "2022-09-16T10:26:19.740Z"
   },
   {
    "duration": 1080,
    "start_time": "2022-09-16T10:27:53.873Z"
   },
   {
    "duration": 2,
    "start_time": "2022-09-16T10:29:09.259Z"
   },
   {
    "duration": 174,
    "start_time": "2022-09-16T10:29:09.264Z"
   },
   {
    "duration": 10,
    "start_time": "2022-09-16T10:29:09.440Z"
   },
   {
    "duration": 25,
    "start_time": "2022-09-16T10:29:09.451Z"
   },
   {
    "duration": 4,
    "start_time": "2022-09-16T10:29:09.477Z"
   },
   {
    "duration": 30,
    "start_time": "2022-09-16T10:29:09.482Z"
   },
   {
    "duration": 24,
    "start_time": "2022-09-16T10:29:09.513Z"
   },
   {
    "duration": 27,
    "start_time": "2022-09-16T10:29:09.538Z"
   },
   {
    "duration": 19,
    "start_time": "2022-09-16T10:29:09.566Z"
   },
   {
    "duration": 18,
    "start_time": "2022-09-16T10:29:09.587Z"
   },
   {
    "duration": 90,
    "start_time": "2022-09-16T10:29:09.607Z"
   },
   {
    "duration": 73,
    "start_time": "2022-09-16T10:29:09.699Z"
   },
   {
    "duration": 66,
    "start_time": "2022-09-16T10:29:09.773Z"
   },
   {
    "duration": 10,
    "start_time": "2022-09-16T10:29:09.842Z"
   },
   {
    "duration": 2,
    "start_time": "2022-09-16T10:29:09.854Z"
   },
   {
    "duration": 2130,
    "start_time": "2022-09-16T10:29:09.858Z"
   },
   {
    "duration": 0,
    "start_time": "2022-09-16T10:29:11.990Z"
   },
   {
    "duration": 0,
    "start_time": "2022-09-16T10:29:11.991Z"
   },
   {
    "duration": 0,
    "start_time": "2022-09-16T10:29:11.992Z"
   },
   {
    "duration": 0,
    "start_time": "2022-09-16T10:29:11.993Z"
   },
   {
    "duration": 0,
    "start_time": "2022-09-16T10:29:11.995Z"
   },
   {
    "duration": 0,
    "start_time": "2022-09-16T10:29:11.995Z"
   },
   {
    "duration": 0,
    "start_time": "2022-09-16T10:29:11.996Z"
   },
   {
    "duration": 0,
    "start_time": "2022-09-16T10:29:11.997Z"
   },
   {
    "duration": 0,
    "start_time": "2022-09-16T10:29:11.999Z"
   },
   {
    "duration": 0,
    "start_time": "2022-09-16T10:29:11.999Z"
   },
   {
    "duration": 0,
    "start_time": "2022-09-16T10:29:12.000Z"
   },
   {
    "duration": 0,
    "start_time": "2022-09-16T10:29:12.001Z"
   },
   {
    "duration": 0,
    "start_time": "2022-09-16T10:29:12.002Z"
   },
   {
    "duration": 0,
    "start_time": "2022-09-16T10:29:12.003Z"
   },
   {
    "duration": 0,
    "start_time": "2022-09-16T10:29:12.004Z"
   },
   {
    "duration": 0,
    "start_time": "2022-09-16T10:29:12.005Z"
   },
   {
    "duration": 0,
    "start_time": "2022-09-16T10:29:12.006Z"
   },
   {
    "duration": 0,
    "start_time": "2022-09-16T10:29:12.007Z"
   },
   {
    "duration": 0,
    "start_time": "2022-09-16T10:29:12.012Z"
   },
   {
    "duration": 0,
    "start_time": "2022-09-16T10:29:12.013Z"
   },
   {
    "duration": 0,
    "start_time": "2022-09-16T10:29:12.014Z"
   },
   {
    "duration": 0,
    "start_time": "2022-09-16T10:29:12.015Z"
   },
   {
    "duration": 12,
    "start_time": "2022-09-16T10:30:25.599Z"
   },
   {
    "duration": 2,
    "start_time": "2022-09-16T10:31:07.061Z"
   },
   {
    "duration": 11,
    "start_time": "2022-09-16T10:31:11.327Z"
   },
   {
    "duration": 9,
    "start_time": "2022-09-16T10:31:17.543Z"
   },
   {
    "duration": 3,
    "start_time": "2022-09-16T10:32:27.808Z"
   },
   {
    "duration": 179,
    "start_time": "2022-09-16T10:32:27.812Z"
   },
   {
    "duration": 9,
    "start_time": "2022-09-16T10:32:27.993Z"
   },
   {
    "duration": 49,
    "start_time": "2022-09-16T10:32:28.003Z"
   },
   {
    "duration": 3,
    "start_time": "2022-09-16T10:32:28.055Z"
   },
   {
    "duration": 7,
    "start_time": "2022-09-16T10:32:28.060Z"
   },
   {
    "duration": 4,
    "start_time": "2022-09-16T10:32:28.069Z"
   },
   {
    "duration": 21,
    "start_time": "2022-09-16T10:32:28.075Z"
   },
   {
    "duration": 39,
    "start_time": "2022-09-16T10:32:28.098Z"
   },
   {
    "duration": 24,
    "start_time": "2022-09-16T10:32:28.139Z"
   },
   {
    "duration": 64,
    "start_time": "2022-09-16T10:32:28.165Z"
   },
   {
    "duration": 62,
    "start_time": "2022-09-16T10:32:28.231Z"
   },
   {
    "duration": 79,
    "start_time": "2022-09-16T10:32:28.294Z"
   },
   {
    "duration": 9,
    "start_time": "2022-09-16T10:32:28.376Z"
   },
   {
    "duration": 2,
    "start_time": "2022-09-16T10:32:28.387Z"
   },
   {
    "duration": 33,
    "start_time": "2022-09-16T10:32:28.390Z"
   },
   {
    "duration": 15,
    "start_time": "2022-09-16T10:32:28.429Z"
   },
   {
    "duration": 5,
    "start_time": "2022-09-16T10:32:28.445Z"
   },
   {
    "duration": 5,
    "start_time": "2022-09-16T10:32:28.452Z"
   },
   {
    "duration": 6,
    "start_time": "2022-09-16T10:32:28.458Z"
   },
   {
    "duration": 4,
    "start_time": "2022-09-16T10:32:28.465Z"
   },
   {
    "duration": 3,
    "start_time": "2022-09-16T10:32:28.471Z"
   },
   {
    "duration": 4,
    "start_time": "2022-09-16T10:32:28.476Z"
   },
   {
    "duration": 6,
    "start_time": "2022-09-16T10:32:28.481Z"
   },
   {
    "duration": 13,
    "start_time": "2022-09-16T10:32:28.488Z"
   },
   {
    "duration": 4,
    "start_time": "2022-09-16T10:32:28.502Z"
   },
   {
    "duration": 32,
    "start_time": "2022-09-16T10:32:28.508Z"
   },
   {
    "duration": 7,
    "start_time": "2022-09-16T10:32:28.542Z"
   },
   {
    "duration": 5,
    "start_time": "2022-09-16T10:32:28.550Z"
   },
   {
    "duration": 7,
    "start_time": "2022-09-16T10:32:28.556Z"
   },
   {
    "duration": 6,
    "start_time": "2022-09-16T10:32:28.564Z"
   },
   {
    "duration": 12,
    "start_time": "2022-09-16T10:32:28.571Z"
   },
   {
    "duration": 11,
    "start_time": "2022-09-16T10:32:28.585Z"
   },
   {
    "duration": 4,
    "start_time": "2022-09-16T10:32:28.598Z"
   },
   {
    "duration": 4,
    "start_time": "2022-09-16T10:32:28.603Z"
   },
   {
    "duration": 35,
    "start_time": "2022-09-16T10:32:28.608Z"
   },
   {
    "duration": 4,
    "start_time": "2022-09-16T10:32:28.645Z"
   },
   {
    "duration": 27,
    "start_time": "2022-09-16T10:38:57.235Z"
   },
   {
    "duration": 26,
    "start_time": "2022-09-16T10:40:16.743Z"
   },
   {
    "duration": 3,
    "start_time": "2022-09-16T10:48:06.544Z"
   },
   {
    "duration": 3,
    "start_time": "2022-09-16T10:48:10.368Z"
   },
   {
    "duration": 29,
    "start_time": "2022-09-16T10:49:30.407Z"
   },
   {
    "duration": 14,
    "start_time": "2022-09-16T10:50:06.833Z"
   },
   {
    "duration": 3,
    "start_time": "2022-09-16T10:50:17.580Z"
   },
   {
    "duration": 33,
    "start_time": "2022-09-16T10:50:20.702Z"
   },
   {
    "duration": 4,
    "start_time": "2022-09-16T10:50:57.795Z"
   },
   {
    "duration": 18,
    "start_time": "2022-09-16T10:50:59.928Z"
   },
   {
    "duration": 2,
    "start_time": "2022-09-16T10:51:01.483Z"
   },
   {
    "duration": 14,
    "start_time": "2022-09-16T11:05:17.033Z"
   },
   {
    "duration": 51,
    "start_time": "2022-09-16T11:05:38.137Z"
   },
   {
    "duration": 12,
    "start_time": "2022-09-16T11:06:14.277Z"
   },
   {
    "duration": 24,
    "start_time": "2022-09-16T11:06:19.199Z"
   },
   {
    "duration": 16,
    "start_time": "2022-09-16T11:06:40.944Z"
   },
   {
    "duration": 3,
    "start_time": "2022-09-16T11:08:02.174Z"
   },
   {
    "duration": 3,
    "start_time": "2022-09-16T11:08:05.791Z"
   },
   {
    "duration": 12,
    "start_time": "2022-09-16T11:08:16.536Z"
   },
   {
    "duration": 17,
    "start_time": "2022-09-16T11:08:39.736Z"
   },
   {
    "duration": 366,
    "start_time": "2022-09-16T11:08:47.738Z"
   },
   {
    "duration": 3,
    "start_time": "2022-09-16T11:09:00.161Z"
   },
   {
    "duration": 22,
    "start_time": "2022-09-16T11:09:02.544Z"
   },
   {
    "duration": 5,
    "start_time": "2022-09-16T11:11:15.951Z"
   },
   {
    "duration": 20,
    "start_time": "2022-09-16T11:11:19.571Z"
   },
   {
    "duration": 4,
    "start_time": "2022-09-16T11:11:41.860Z"
   },
   {
    "duration": 3,
    "start_time": "2022-09-16T11:12:43.379Z"
   },
   {
    "duration": 21,
    "start_time": "2022-09-16T11:12:54.955Z"
   },
   {
    "duration": 27,
    "start_time": "2022-09-16T11:13:08.138Z"
   },
   {
    "duration": 84,
    "start_time": "2022-09-16T11:13:17.595Z"
   },
   {
    "duration": 77,
    "start_time": "2022-09-16T11:13:28.463Z"
   },
   {
    "duration": 7,
    "start_time": "2022-09-16T11:14:12.993Z"
   },
   {
    "duration": 15,
    "start_time": "2022-09-16T11:14:20.066Z"
   },
   {
    "duration": 11,
    "start_time": "2022-09-16T11:14:57.396Z"
   },
   {
    "duration": 10,
    "start_time": "2022-09-16T11:15:04.693Z"
   },
   {
    "duration": 45,
    "start_time": "2022-09-16T11:15:18.201Z"
   },
   {
    "duration": 16,
    "start_time": "2022-09-16T11:17:35.278Z"
   },
   {
    "duration": 35,
    "start_time": "2022-09-16T11:18:45.104Z"
   },
   {
    "duration": 19,
    "start_time": "2022-09-16T11:18:45.755Z"
   },
   {
    "duration": 18,
    "start_time": "2022-09-16T11:18:46.278Z"
   },
   {
    "duration": 15,
    "start_time": "2022-09-16T11:18:46.937Z"
   },
   {
    "duration": 39,
    "start_time": "2022-09-16T11:18:47.608Z"
   },
   {
    "duration": 18,
    "start_time": "2022-09-16T11:18:48.237Z"
   },
   {
    "duration": 3,
    "start_time": "2022-09-16T11:20:12.474Z"
   },
   {
    "duration": 22,
    "start_time": "2022-09-16T11:20:14.600Z"
   },
   {
    "duration": 12,
    "start_time": "2022-09-16T11:20:15.288Z"
   },
   {
    "duration": 13,
    "start_time": "2022-09-16T11:20:15.961Z"
   },
   {
    "duration": 13,
    "start_time": "2022-09-16T11:20:17.040Z"
   },
   {
    "duration": 14,
    "start_time": "2022-09-16T11:20:17.657Z"
   },
   {
    "duration": 13,
    "start_time": "2022-09-16T11:20:18.344Z"
   },
   {
    "duration": 106,
    "start_time": "2022-09-16T11:22:19.800Z"
   },
   {
    "duration": 16,
    "start_time": "2022-09-16T11:24:27.738Z"
   },
   {
    "duration": 11,
    "start_time": "2022-09-16T11:30:50.147Z"
   },
   {
    "duration": 4,
    "start_time": "2022-09-16T11:31:08.888Z"
   },
   {
    "duration": 7,
    "start_time": "2022-09-16T11:32:13.371Z"
   },
   {
    "duration": 21,
    "start_time": "2022-09-16T11:32:42.729Z"
   },
   {
    "duration": 3,
    "start_time": "2022-09-16T11:33:03.485Z"
   },
   {
    "duration": 191,
    "start_time": "2022-09-16T11:33:03.490Z"
   },
   {
    "duration": 10,
    "start_time": "2022-09-16T11:33:03.682Z"
   },
   {
    "duration": 51,
    "start_time": "2022-09-16T11:33:03.693Z"
   },
   {
    "duration": 7,
    "start_time": "2022-09-16T11:33:03.747Z"
   },
   {
    "duration": 11,
    "start_time": "2022-09-16T11:33:03.756Z"
   },
   {
    "duration": 11,
    "start_time": "2022-09-16T11:33:03.769Z"
   },
   {
    "duration": 34,
    "start_time": "2022-09-16T11:33:03.781Z"
   },
   {
    "duration": 63,
    "start_time": "2022-09-16T11:33:03.819Z"
   },
   {
    "duration": 30,
    "start_time": "2022-09-16T11:33:03.885Z"
   },
   {
    "duration": 91,
    "start_time": "2022-09-16T11:33:03.916Z"
   },
   {
    "duration": 90,
    "start_time": "2022-09-16T11:33:04.011Z"
   },
   {
    "duration": 76,
    "start_time": "2022-09-16T11:33:04.103Z"
   },
   {
    "duration": 12,
    "start_time": "2022-09-16T11:33:04.183Z"
   },
   {
    "duration": 27,
    "start_time": "2022-09-16T11:33:04.197Z"
   },
   {
    "duration": 24,
    "start_time": "2022-09-16T11:33:04.236Z"
   },
   {
    "duration": 11,
    "start_time": "2022-09-16T11:33:04.262Z"
   },
   {
    "duration": 12,
    "start_time": "2022-09-16T11:33:04.274Z"
   },
   {
    "duration": 11,
    "start_time": "2022-09-16T11:33:04.287Z"
   },
   {
    "duration": 3,
    "start_time": "2022-09-16T11:33:04.300Z"
   },
   {
    "duration": 54,
    "start_time": "2022-09-16T11:33:04.304Z"
   },
   {
    "duration": 12,
    "start_time": "2022-09-16T11:33:04.360Z"
   },
   {
    "duration": 11,
    "start_time": "2022-09-16T11:33:04.374Z"
   },
   {
    "duration": 14,
    "start_time": "2022-09-16T11:33:04.386Z"
   },
   {
    "duration": 35,
    "start_time": "2022-09-16T11:33:04.401Z"
   },
   {
    "duration": 24,
    "start_time": "2022-09-16T11:33:04.438Z"
   },
   {
    "duration": 8,
    "start_time": "2022-09-16T11:33:04.463Z"
   },
   {
    "duration": 8,
    "start_time": "2022-09-16T11:33:04.473Z"
   },
   {
    "duration": 7,
    "start_time": "2022-09-16T11:33:04.483Z"
   },
   {
    "duration": 44,
    "start_time": "2022-09-16T11:33:04.491Z"
   },
   {
    "duration": 10,
    "start_time": "2022-09-16T11:33:04.537Z"
   },
   {
    "duration": 9,
    "start_time": "2022-09-16T11:33:04.548Z"
   },
   {
    "duration": 10,
    "start_time": "2022-09-16T11:33:04.558Z"
   },
   {
    "duration": 7,
    "start_time": "2022-09-16T11:33:04.569Z"
   },
   {
    "duration": 6,
    "start_time": "2022-09-16T11:33:04.577Z"
   },
   {
    "duration": 8,
    "start_time": "2022-09-16T11:33:04.584Z"
   },
   {
    "duration": 9,
    "start_time": "2022-09-16T11:33:04.593Z"
   },
   {
    "duration": 34,
    "start_time": "2022-09-16T11:33:04.604Z"
   },
   {
    "duration": 4,
    "start_time": "2022-09-16T11:34:23.777Z"
   },
   {
    "duration": 6,
    "start_time": "2022-09-16T11:34:32.205Z"
   },
   {
    "duration": 6,
    "start_time": "2022-09-16T11:57:51.224Z"
   },
   {
    "duration": 7,
    "start_time": "2022-09-16T11:58:28.908Z"
   },
   {
    "duration": 179,
    "start_time": "2022-09-16T11:58:28.917Z"
   },
   {
    "duration": 9,
    "start_time": "2022-09-16T11:58:29.098Z"
   },
   {
    "duration": 42,
    "start_time": "2022-09-16T11:58:29.112Z"
   },
   {
    "duration": 3,
    "start_time": "2022-09-16T11:58:29.156Z"
   },
   {
    "duration": 9,
    "start_time": "2022-09-16T11:58:29.160Z"
   },
   {
    "duration": 6,
    "start_time": "2022-09-16T11:58:29.171Z"
   },
   {
    "duration": 44,
    "start_time": "2022-09-16T11:58:29.179Z"
   },
   {
    "duration": 21,
    "start_time": "2022-09-16T11:58:29.225Z"
   },
   {
    "duration": 19,
    "start_time": "2022-09-16T11:58:29.248Z"
   },
   {
    "duration": 67,
    "start_time": "2022-09-16T11:58:29.269Z"
   },
   {
    "duration": 85,
    "start_time": "2022-09-16T11:58:29.338Z"
   },
   {
    "duration": 56,
    "start_time": "2022-09-16T11:58:29.430Z"
   },
   {
    "duration": 9,
    "start_time": "2022-09-16T11:58:29.488Z"
   },
   {
    "duration": 4,
    "start_time": "2022-09-16T11:58:29.499Z"
   },
   {
    "duration": 20,
    "start_time": "2022-09-16T11:58:29.512Z"
   },
   {
    "duration": 9,
    "start_time": "2022-09-16T11:58:29.534Z"
   },
   {
    "duration": 10,
    "start_time": "2022-09-16T11:58:29.545Z"
   },
   {
    "duration": 10,
    "start_time": "2022-09-16T11:58:29.557Z"
   },
   {
    "duration": 6,
    "start_time": "2022-09-16T11:58:29.568Z"
   },
   {
    "duration": 18,
    "start_time": "2022-09-16T11:58:29.575Z"
   },
   {
    "duration": 39,
    "start_time": "2022-09-16T11:58:29.595Z"
   },
   {
    "duration": 18,
    "start_time": "2022-09-16T11:58:29.636Z"
   },
   {
    "duration": 13,
    "start_time": "2022-09-16T11:58:29.656Z"
   },
   {
    "duration": 13,
    "start_time": "2022-09-16T11:58:29.670Z"
   },
   {
    "duration": 41,
    "start_time": "2022-09-16T11:58:29.685Z"
   },
   {
    "duration": 8,
    "start_time": "2022-09-16T11:58:29.728Z"
   },
   {
    "duration": 15,
    "start_time": "2022-09-16T11:58:29.738Z"
   },
   {
    "duration": 9,
    "start_time": "2022-09-16T11:58:29.754Z"
   },
   {
    "duration": 4,
    "start_time": "2022-09-16T11:58:29.764Z"
   },
   {
    "duration": 52,
    "start_time": "2022-09-16T11:58:29.770Z"
   },
   {
    "duration": 0,
    "start_time": "2022-09-16T11:58:29.824Z"
   },
   {
    "duration": 0,
    "start_time": "2022-09-16T11:58:29.825Z"
   },
   {
    "duration": 0,
    "start_time": "2022-09-16T11:58:29.826Z"
   },
   {
    "duration": 0,
    "start_time": "2022-09-16T11:58:29.827Z"
   },
   {
    "duration": 0,
    "start_time": "2022-09-16T11:58:29.828Z"
   },
   {
    "duration": 0,
    "start_time": "2022-09-16T11:58:29.829Z"
   },
   {
    "duration": 0,
    "start_time": "2022-09-16T11:58:29.830Z"
   },
   {
    "duration": 3,
    "start_time": "2022-09-16T11:58:59.222Z"
   },
   {
    "duration": 17,
    "start_time": "2022-09-16T11:59:00.785Z"
   },
   {
    "duration": 27,
    "start_time": "2022-09-16T11:59:42.754Z"
   },
   {
    "duration": 3,
    "start_time": "2022-09-16T12:03:58.341Z"
   },
   {
    "duration": 22,
    "start_time": "2022-09-16T12:04:00.122Z"
   },
   {
    "duration": 4,
    "start_time": "2022-09-16T12:04:40.859Z"
   },
   {
    "duration": 17,
    "start_time": "2022-09-16T12:04:42.137Z"
   },
   {
    "duration": 3,
    "start_time": "2022-09-16T12:04:57.184Z"
   },
   {
    "duration": 29,
    "start_time": "2022-09-16T12:04:58.391Z"
   },
   {
    "duration": 4,
    "start_time": "2022-09-16T12:05:11.957Z"
   },
   {
    "duration": 17,
    "start_time": "2022-09-16T12:05:12.972Z"
   },
   {
    "duration": 5,
    "start_time": "2022-09-16T12:06:18.136Z"
   },
   {
    "duration": 18,
    "start_time": "2022-09-16T12:06:19.292Z"
   },
   {
    "duration": 11,
    "start_time": "2022-09-16T12:06:45.657Z"
   },
   {
    "duration": 4,
    "start_time": "2022-09-16T12:07:45.544Z"
   },
   {
    "duration": 17,
    "start_time": "2022-09-16T12:07:46.854Z"
   },
   {
    "duration": 12,
    "start_time": "2022-09-16T12:07:47.540Z"
   },
   {
    "duration": 18,
    "start_time": "2022-09-16T12:07:48.133Z"
   },
   {
    "duration": 12,
    "start_time": "2022-09-16T12:07:49.540Z"
   },
   {
    "duration": 8,
    "start_time": "2022-09-16T12:13:52.468Z"
   },
   {
    "duration": 24,
    "start_time": "2022-09-16T12:14:14.133Z"
   },
   {
    "duration": 10,
    "start_time": "2022-09-16T12:14:42.583Z"
   },
   {
    "duration": 14,
    "start_time": "2022-09-16T12:14:53.142Z"
   },
   {
    "duration": 8,
    "start_time": "2022-09-16T12:14:54.992Z"
   },
   {
    "duration": 8,
    "start_time": "2022-09-16T12:15:53.892Z"
   },
   {
    "duration": 3,
    "start_time": "2022-09-16T12:16:02.149Z"
   },
   {
    "duration": 7,
    "start_time": "2022-09-16T12:16:21.673Z"
   },
   {
    "duration": 14,
    "start_time": "2022-09-16T12:16:24.308Z"
   },
   {
    "duration": 4,
    "start_time": "2022-09-16T12:16:25.593Z"
   },
   {
    "duration": 410,
    "start_time": "2022-09-16T20:23:22.462Z"
   },
   {
    "duration": 465,
    "start_time": "2022-09-16T20:23:22.874Z"
   },
   {
    "duration": 15,
    "start_time": "2022-09-16T20:23:23.341Z"
   },
   {
    "duration": 38,
    "start_time": "2022-09-16T20:23:23.358Z"
   },
   {
    "duration": 3,
    "start_time": "2022-09-16T20:23:23.398Z"
   },
   {
    "duration": 16,
    "start_time": "2022-09-16T20:23:23.402Z"
   },
   {
    "duration": 5,
    "start_time": "2022-09-16T20:23:23.420Z"
   },
   {
    "duration": 28,
    "start_time": "2022-09-16T20:23:23.426Z"
   },
   {
    "duration": 41,
    "start_time": "2022-09-16T20:23:23.455Z"
   },
   {
    "duration": 21,
    "start_time": "2022-09-16T20:23:23.498Z"
   },
   {
    "duration": 67,
    "start_time": "2022-09-16T20:23:23.521Z"
   },
   {
    "duration": 72,
    "start_time": "2022-09-16T20:23:23.590Z"
   },
   {
    "duration": 62,
    "start_time": "2022-09-16T20:23:23.663Z"
   },
   {
    "duration": 9,
    "start_time": "2022-09-16T20:23:23.728Z"
   },
   {
    "duration": 4,
    "start_time": "2022-09-16T20:23:23.738Z"
   },
   {
    "duration": 10,
    "start_time": "2022-09-16T20:23:23.744Z"
   },
   {
    "duration": 36,
    "start_time": "2022-09-16T20:23:23.756Z"
   },
   {
    "duration": 12,
    "start_time": "2022-09-16T20:23:23.794Z"
   },
   {
    "duration": 12,
    "start_time": "2022-09-16T20:23:23.807Z"
   },
   {
    "duration": 4,
    "start_time": "2022-09-16T20:23:23.821Z"
   },
   {
    "duration": 18,
    "start_time": "2022-09-16T20:23:23.826Z"
   },
   {
    "duration": 47,
    "start_time": "2022-09-16T20:23:23.845Z"
   },
   {
    "duration": 14,
    "start_time": "2022-09-16T20:23:23.893Z"
   },
   {
    "duration": 12,
    "start_time": "2022-09-16T20:23:23.908Z"
   },
   {
    "duration": 14,
    "start_time": "2022-09-16T20:23:23.921Z"
   },
   {
    "duration": 13,
    "start_time": "2022-09-16T20:23:23.937Z"
   },
   {
    "duration": 39,
    "start_time": "2022-09-16T20:23:23.952Z"
   },
   {
    "duration": 20,
    "start_time": "2022-09-16T20:23:23.993Z"
   },
   {
    "duration": 9,
    "start_time": "2022-09-16T20:23:24.015Z"
   },
   {
    "duration": 5,
    "start_time": "2022-09-16T20:23:24.025Z"
   },
   {
    "duration": 19,
    "start_time": "2022-09-16T20:23:24.032Z"
   },
   {
    "duration": 46,
    "start_time": "2022-09-16T20:23:24.053Z"
   },
   {
    "duration": 15,
    "start_time": "2022-09-16T20:23:24.100Z"
   },
   {
    "duration": 11,
    "start_time": "2022-09-16T20:23:24.116Z"
   },
   {
    "duration": 8,
    "start_time": "2022-09-16T20:23:24.129Z"
   },
   {
    "duration": 4,
    "start_time": "2022-09-16T20:23:24.138Z"
   },
   {
    "duration": 9,
    "start_time": "2022-09-16T20:23:24.143Z"
   },
   {
    "duration": 28,
    "start_time": "2022-09-16T20:23:24.154Z"
   },
   {
    "duration": 397,
    "start_time": "2022-09-17T06:40:34.450Z"
   },
   {
    "duration": 491,
    "start_time": "2022-09-17T06:40:34.849Z"
   },
   {
    "duration": 22,
    "start_time": "2022-09-17T06:40:35.341Z"
   },
   {
    "duration": 116,
    "start_time": "2022-09-17T06:40:35.365Z"
   },
   {
    "duration": 38,
    "start_time": "2022-09-17T06:40:35.483Z"
   },
   {
    "duration": 64,
    "start_time": "2022-09-17T06:40:35.523Z"
   },
   {
    "duration": 30,
    "start_time": "2022-09-17T06:40:35.589Z"
   },
   {
    "duration": 67,
    "start_time": "2022-09-17T06:40:35.620Z"
   },
   {
    "duration": 47,
    "start_time": "2022-09-17T06:40:35.689Z"
   },
   {
    "duration": 26,
    "start_time": "2022-09-17T06:40:35.738Z"
   },
   {
    "duration": 79,
    "start_time": "2022-09-17T06:40:35.766Z"
   },
   {
    "duration": 84,
    "start_time": "2022-09-17T06:40:35.846Z"
   },
   {
    "duration": 72,
    "start_time": "2022-09-17T06:40:35.931Z"
   },
   {
    "duration": 10,
    "start_time": "2022-09-17T06:40:36.008Z"
   },
   {
    "duration": 3,
    "start_time": "2022-09-17T06:40:36.019Z"
   },
   {
    "duration": 11,
    "start_time": "2022-09-17T06:40:36.023Z"
   },
   {
    "duration": 10,
    "start_time": "2022-09-17T06:40:36.036Z"
   },
   {
    "duration": 12,
    "start_time": "2022-09-17T06:40:36.047Z"
   },
   {
    "duration": 12,
    "start_time": "2022-09-17T06:40:36.089Z"
   },
   {
    "duration": 4,
    "start_time": "2022-09-17T06:40:36.102Z"
   },
   {
    "duration": 19,
    "start_time": "2022-09-17T06:40:36.107Z"
   },
   {
    "duration": 13,
    "start_time": "2022-09-17T06:40:36.128Z"
   },
   {
    "duration": 14,
    "start_time": "2022-09-17T06:40:36.143Z"
   },
   {
    "duration": 15,
    "start_time": "2022-09-17T06:40:36.189Z"
   },
   {
    "duration": 50,
    "start_time": "2022-09-17T06:40:36.206Z"
   },
   {
    "duration": 25,
    "start_time": "2022-09-17T06:40:36.257Z"
   },
   {
    "duration": 20,
    "start_time": "2022-09-17T06:40:36.283Z"
   },
   {
    "duration": 43,
    "start_time": "2022-09-17T06:40:36.305Z"
   },
   {
    "duration": 20,
    "start_time": "2022-09-17T06:40:36.350Z"
   },
   {
    "duration": 4,
    "start_time": "2022-09-17T06:40:36.372Z"
   },
   {
    "duration": 51,
    "start_time": "2022-09-17T06:40:36.377Z"
   },
   {
    "duration": 12,
    "start_time": "2022-09-17T06:40:36.429Z"
   },
   {
    "duration": 38,
    "start_time": "2022-09-17T06:40:36.443Z"
   },
   {
    "duration": 17,
    "start_time": "2022-09-17T06:40:36.483Z"
   },
   {
    "duration": 23,
    "start_time": "2022-09-17T06:40:36.502Z"
   },
   {
    "duration": 20,
    "start_time": "2022-09-17T06:40:36.527Z"
   },
   {
    "duration": 21,
    "start_time": "2022-09-17T06:40:36.549Z"
   },
   {
    "duration": 12,
    "start_time": "2022-09-17T06:40:36.572Z"
   },
   {
    "duration": 409,
    "start_time": "2022-09-17T06:45:19.493Z"
   },
   {
    "duration": 185,
    "start_time": "2022-09-17T06:45:19.904Z"
   },
   {
    "duration": 18,
    "start_time": "2022-09-17T06:45:20.091Z"
   },
   {
    "duration": 45,
    "start_time": "2022-09-17T06:45:20.111Z"
   },
   {
    "duration": 32,
    "start_time": "2022-09-17T06:45:20.158Z"
   },
   {
    "duration": 49,
    "start_time": "2022-09-17T06:45:20.192Z"
   },
   {
    "duration": 44,
    "start_time": "2022-09-17T06:45:20.243Z"
   },
   {
    "duration": 61,
    "start_time": "2022-09-17T06:45:20.289Z"
   },
   {
    "duration": 35,
    "start_time": "2022-09-17T06:45:20.352Z"
   },
   {
    "duration": 48,
    "start_time": "2022-09-17T06:45:20.389Z"
   },
   {
    "duration": 88,
    "start_time": "2022-09-17T06:45:20.439Z"
   },
   {
    "duration": 85,
    "start_time": "2022-09-17T06:45:20.528Z"
   },
   {
    "duration": 58,
    "start_time": "2022-09-17T06:45:20.614Z"
   },
   {
    "duration": 21,
    "start_time": "2022-09-17T06:45:20.674Z"
   },
   {
    "duration": 22,
    "start_time": "2022-09-17T06:45:20.697Z"
   },
   {
    "duration": 42,
    "start_time": "2022-09-17T06:45:20.720Z"
   },
   {
    "duration": 31,
    "start_time": "2022-09-17T06:45:20.764Z"
   },
   {
    "duration": 55,
    "start_time": "2022-09-17T06:45:20.797Z"
   },
   {
    "duration": 31,
    "start_time": "2022-09-17T06:45:20.854Z"
   },
   {
    "duration": 34,
    "start_time": "2022-09-17T06:45:20.887Z"
   },
   {
    "duration": 56,
    "start_time": "2022-09-17T06:45:20.923Z"
   },
   {
    "duration": 35,
    "start_time": "2022-09-17T06:45:20.981Z"
   },
   {
    "duration": 36,
    "start_time": "2022-09-17T06:45:21.018Z"
   },
   {
    "duration": 27,
    "start_time": "2022-09-17T06:45:21.056Z"
   },
   {
    "duration": 42,
    "start_time": "2022-09-17T06:45:21.085Z"
   },
   {
    "duration": 21,
    "start_time": "2022-09-17T06:45:21.129Z"
   },
   {
    "duration": 29,
    "start_time": "2022-09-17T06:45:21.152Z"
   },
   {
    "duration": 57,
    "start_time": "2022-09-17T06:45:21.186Z"
   },
   {
    "duration": 22,
    "start_time": "2022-09-17T06:45:21.246Z"
   },
   {
    "duration": 35,
    "start_time": "2022-09-17T06:45:21.269Z"
   },
   {
    "duration": 55,
    "start_time": "2022-09-17T06:45:21.306Z"
   },
   {
    "duration": 47,
    "start_time": "2022-09-17T06:45:21.362Z"
   },
   {
    "duration": 80,
    "start_time": "2022-09-17T06:45:21.411Z"
   },
   {
    "duration": 66,
    "start_time": "2022-09-17T06:45:21.493Z"
   },
   {
    "duration": 36,
    "start_time": "2022-09-17T06:45:21.561Z"
   },
   {
    "duration": 36,
    "start_time": "2022-09-17T06:45:21.599Z"
   },
   {
    "duration": 33,
    "start_time": "2022-09-17T06:45:21.637Z"
   },
   {
    "duration": 21,
    "start_time": "2022-09-17T06:45:21.672Z"
   },
   {
    "duration": 393,
    "start_time": "2022-09-17T06:50:03.644Z"
   },
   {
    "duration": 188,
    "start_time": "2022-09-17T06:50:04.039Z"
   },
   {
    "duration": 18,
    "start_time": "2022-09-17T06:50:04.229Z"
   },
   {
    "duration": 44,
    "start_time": "2022-09-17T06:50:04.249Z"
   },
   {
    "duration": 15,
    "start_time": "2022-09-17T06:50:04.295Z"
   },
   {
    "duration": 42,
    "start_time": "2022-09-17T06:50:04.312Z"
   },
   {
    "duration": 25,
    "start_time": "2022-09-17T06:50:04.356Z"
   },
   {
    "duration": 39,
    "start_time": "2022-09-17T06:50:04.383Z"
   },
   {
    "duration": 32,
    "start_time": "2022-09-17T06:50:04.424Z"
   },
   {
    "duration": 35,
    "start_time": "2022-09-17T06:50:04.459Z"
   },
   {
    "duration": 105,
    "start_time": "2022-09-17T06:50:04.496Z"
   },
   {
    "duration": 95,
    "start_time": "2022-09-17T06:50:04.602Z"
   },
   {
    "duration": 62,
    "start_time": "2022-09-17T06:50:04.699Z"
   },
   {
    "duration": 27,
    "start_time": "2022-09-17T06:50:04.763Z"
   },
   {
    "duration": 3,
    "start_time": "2022-09-17T06:50:04.792Z"
   },
   {
    "duration": 18,
    "start_time": "2022-09-17T06:50:04.796Z"
   },
   {
    "duration": 11,
    "start_time": "2022-09-17T06:50:04.816Z"
   },
   {
    "duration": 13,
    "start_time": "2022-09-17T06:50:04.828Z"
   },
   {
    "duration": 48,
    "start_time": "2022-09-17T06:50:04.842Z"
   },
   {
    "duration": 7,
    "start_time": "2022-09-17T06:50:04.892Z"
   },
   {
    "duration": 21,
    "start_time": "2022-09-17T06:50:04.901Z"
   },
   {
    "duration": 17,
    "start_time": "2022-09-17T06:50:04.924Z"
   },
   {
    "duration": 48,
    "start_time": "2022-09-17T06:50:04.943Z"
   },
   {
    "duration": 25,
    "start_time": "2022-09-17T06:50:04.994Z"
   },
   {
    "duration": 22,
    "start_time": "2022-09-17T06:50:05.021Z"
   },
   {
    "duration": 44,
    "start_time": "2022-09-17T06:50:05.045Z"
   },
   {
    "duration": 11,
    "start_time": "2022-09-17T06:50:05.091Z"
   },
   {
    "duration": 24,
    "start_time": "2022-09-17T06:50:05.106Z"
   },
   {
    "duration": 10,
    "start_time": "2022-09-17T06:50:05.132Z"
   },
   {
    "duration": 4,
    "start_time": "2022-09-17T06:50:05.143Z"
   },
   {
    "duration": 56,
    "start_time": "2022-09-17T06:50:05.149Z"
   },
   {
    "duration": 14,
    "start_time": "2022-09-17T06:50:05.207Z"
   },
   {
    "duration": 18,
    "start_time": "2022-09-17T06:50:05.223Z"
   },
   {
    "duration": 13,
    "start_time": "2022-09-17T06:50:05.243Z"
   },
   {
    "duration": 41,
    "start_time": "2022-09-17T06:50:05.257Z"
   },
   {
    "duration": 8,
    "start_time": "2022-09-17T06:50:05.300Z"
   },
   {
    "duration": 9,
    "start_time": "2022-09-17T06:50:05.310Z"
   },
   {
    "duration": 5,
    "start_time": "2022-09-17T06:50:05.321Z"
   },
   {
    "duration": 412,
    "start_time": "2022-09-17T06:54:14.829Z"
   },
   {
    "duration": 207,
    "start_time": "2022-09-17T06:54:15.243Z"
   },
   {
    "duration": 37,
    "start_time": "2022-09-17T06:54:15.454Z"
   },
   {
    "duration": 45,
    "start_time": "2022-09-17T06:54:15.493Z"
   },
   {
    "duration": 15,
    "start_time": "2022-09-17T06:54:15.539Z"
   },
   {
    "duration": 31,
    "start_time": "2022-09-17T06:54:15.556Z"
   },
   {
    "duration": 23,
    "start_time": "2022-09-17T06:54:15.589Z"
   },
   {
    "duration": 32,
    "start_time": "2022-09-17T06:54:15.614Z"
   },
   {
    "duration": 25,
    "start_time": "2022-09-17T06:54:15.649Z"
   },
   {
    "duration": 25,
    "start_time": "2022-09-17T06:54:15.676Z"
   },
   {
    "duration": 82,
    "start_time": "2022-09-17T06:54:15.702Z"
   },
   {
    "duration": 87,
    "start_time": "2022-09-17T06:54:15.786Z"
   },
   {
    "duration": 75,
    "start_time": "2022-09-17T06:54:15.875Z"
   },
   {
    "duration": 85,
    "start_time": "2022-09-17T06:54:15.951Z"
   },
   {
    "duration": 0,
    "start_time": "2022-09-17T06:54:16.039Z"
   },
   {
    "duration": 0,
    "start_time": "2022-09-17T06:54:16.040Z"
   },
   {
    "duration": 0,
    "start_time": "2022-09-17T06:54:16.041Z"
   },
   {
    "duration": 0,
    "start_time": "2022-09-17T06:54:16.042Z"
   },
   {
    "duration": 0,
    "start_time": "2022-09-17T06:54:16.043Z"
   },
   {
    "duration": 0,
    "start_time": "2022-09-17T06:54:16.044Z"
   },
   {
    "duration": 0,
    "start_time": "2022-09-17T06:54:16.045Z"
   },
   {
    "duration": 0,
    "start_time": "2022-09-17T06:54:16.046Z"
   },
   {
    "duration": 0,
    "start_time": "2022-09-17T06:54:16.047Z"
   },
   {
    "duration": 0,
    "start_time": "2022-09-17T06:54:16.048Z"
   },
   {
    "duration": 0,
    "start_time": "2022-09-17T06:54:16.049Z"
   },
   {
    "duration": 0,
    "start_time": "2022-09-17T06:54:16.050Z"
   },
   {
    "duration": 0,
    "start_time": "2022-09-17T06:54:16.051Z"
   },
   {
    "duration": 0,
    "start_time": "2022-09-17T06:54:16.052Z"
   },
   {
    "duration": 0,
    "start_time": "2022-09-17T06:54:16.053Z"
   },
   {
    "duration": 0,
    "start_time": "2022-09-17T06:54:16.054Z"
   },
   {
    "duration": 0,
    "start_time": "2022-09-17T06:54:16.055Z"
   },
   {
    "duration": 0,
    "start_time": "2022-09-17T06:54:16.057Z"
   },
   {
    "duration": 0,
    "start_time": "2022-09-17T06:54:16.089Z"
   },
   {
    "duration": 0,
    "start_time": "2022-09-17T06:54:16.090Z"
   },
   {
    "duration": 0,
    "start_time": "2022-09-17T06:54:16.091Z"
   },
   {
    "duration": 0,
    "start_time": "2022-09-17T06:54:16.092Z"
   },
   {
    "duration": 0,
    "start_time": "2022-09-17T06:54:16.093Z"
   },
   {
    "duration": 0,
    "start_time": "2022-09-17T06:54:16.094Z"
   },
   {
    "duration": 413,
    "start_time": "2022-09-17T06:55:35.711Z"
   },
   {
    "duration": 183,
    "start_time": "2022-09-17T06:55:36.126Z"
   },
   {
    "duration": 18,
    "start_time": "2022-09-17T06:55:36.311Z"
   },
   {
    "duration": 33,
    "start_time": "2022-09-17T06:55:36.330Z"
   },
   {
    "duration": 30,
    "start_time": "2022-09-17T06:55:36.365Z"
   },
   {
    "duration": 19,
    "start_time": "2022-09-17T06:55:36.396Z"
   },
   {
    "duration": 18,
    "start_time": "2022-09-17T06:55:36.416Z"
   },
   {
    "duration": 51,
    "start_time": "2022-09-17T06:55:36.436Z"
   },
   {
    "duration": 34,
    "start_time": "2022-09-17T06:55:36.489Z"
   },
   {
    "duration": 26,
    "start_time": "2022-09-17T06:55:36.525Z"
   },
   {
    "duration": 107,
    "start_time": "2022-09-17T06:55:36.553Z"
   },
   {
    "duration": 86,
    "start_time": "2022-09-17T06:55:36.662Z"
   },
   {
    "duration": 68,
    "start_time": "2022-09-17T06:55:36.750Z"
   },
   {
    "duration": 79,
    "start_time": "2022-09-17T06:55:36.820Z"
   },
   {
    "duration": 0,
    "start_time": "2022-09-17T06:55:36.902Z"
   },
   {
    "duration": 0,
    "start_time": "2022-09-17T06:55:36.903Z"
   },
   {
    "duration": 0,
    "start_time": "2022-09-17T06:55:36.904Z"
   },
   {
    "duration": 0,
    "start_time": "2022-09-17T06:55:36.906Z"
   },
   {
    "duration": 0,
    "start_time": "2022-09-17T06:55:36.908Z"
   },
   {
    "duration": 0,
    "start_time": "2022-09-17T06:55:36.909Z"
   },
   {
    "duration": 0,
    "start_time": "2022-09-17T06:55:36.911Z"
   },
   {
    "duration": 0,
    "start_time": "2022-09-17T06:55:36.913Z"
   },
   {
    "duration": 0,
    "start_time": "2022-09-17T06:55:36.914Z"
   },
   {
    "duration": 0,
    "start_time": "2022-09-17T06:55:36.916Z"
   },
   {
    "duration": 0,
    "start_time": "2022-09-17T06:55:36.918Z"
   },
   {
    "duration": 0,
    "start_time": "2022-09-17T06:55:36.919Z"
   },
   {
    "duration": 0,
    "start_time": "2022-09-17T06:55:36.921Z"
   },
   {
    "duration": 0,
    "start_time": "2022-09-17T06:55:36.922Z"
   },
   {
    "duration": 0,
    "start_time": "2022-09-17T06:55:36.924Z"
   },
   {
    "duration": 0,
    "start_time": "2022-09-17T06:55:36.925Z"
   },
   {
    "duration": 1,
    "start_time": "2022-09-17T06:55:36.926Z"
   },
   {
    "duration": 0,
    "start_time": "2022-09-17T06:55:36.928Z"
   },
   {
    "duration": 0,
    "start_time": "2022-09-17T06:55:36.929Z"
   },
   {
    "duration": 0,
    "start_time": "2022-09-17T06:55:36.931Z"
   },
   {
    "duration": 0,
    "start_time": "2022-09-17T06:55:36.933Z"
   },
   {
    "duration": 0,
    "start_time": "2022-09-17T06:55:36.934Z"
   },
   {
    "duration": 0,
    "start_time": "2022-09-17T06:55:36.935Z"
   },
   {
    "duration": 0,
    "start_time": "2022-09-17T06:55:36.989Z"
   },
   {
    "duration": 7,
    "start_time": "2022-09-17T06:56:41.549Z"
   },
   {
    "duration": 74,
    "start_time": "2022-09-17T06:56:49.949Z"
   },
   {
    "duration": 43,
    "start_time": "2022-09-17T06:57:04.692Z"
   },
   {
    "duration": 474,
    "start_time": "2022-09-17T06:59:09.735Z"
   },
   {
    "duration": 203,
    "start_time": "2022-09-17T06:59:10.211Z"
   },
   {
    "duration": 19,
    "start_time": "2022-09-17T06:59:10.416Z"
   },
   {
    "duration": 63,
    "start_time": "2022-09-17T06:59:10.438Z"
   },
   {
    "duration": 29,
    "start_time": "2022-09-17T06:59:10.502Z"
   },
   {
    "duration": 19,
    "start_time": "2022-09-17T06:59:10.533Z"
   },
   {
    "duration": 57,
    "start_time": "2022-09-17T06:59:10.554Z"
   },
   {
    "duration": 75,
    "start_time": "2022-09-17T06:59:10.613Z"
   },
   {
    "duration": 27,
    "start_time": "2022-09-17T06:59:10.690Z"
   },
   {
    "duration": 38,
    "start_time": "2022-09-17T06:59:10.721Z"
   },
   {
    "duration": 130,
    "start_time": "2022-09-17T06:59:10.762Z"
   },
   {
    "duration": 96,
    "start_time": "2022-09-17T06:59:10.893Z"
   },
   {
    "duration": 64,
    "start_time": "2022-09-17T06:59:10.991Z"
   },
   {
    "duration": 62,
    "start_time": "2022-09-17T06:59:11.057Z"
   },
   {
    "duration": 4,
    "start_time": "2022-09-17T06:59:11.120Z"
   },
   {
    "duration": 19,
    "start_time": "2022-09-17T06:59:11.126Z"
   },
   {
    "duration": 85,
    "start_time": "2022-09-17T06:59:11.147Z"
   },
   {
    "duration": 0,
    "start_time": "2022-09-17T06:59:11.234Z"
   },
   {
    "duration": 0,
    "start_time": "2022-09-17T06:59:11.235Z"
   },
   {
    "duration": 0,
    "start_time": "2022-09-17T06:59:11.237Z"
   },
   {
    "duration": 0,
    "start_time": "2022-09-17T06:59:11.238Z"
   },
   {
    "duration": 0,
    "start_time": "2022-09-17T06:59:11.239Z"
   },
   {
    "duration": 0,
    "start_time": "2022-09-17T06:59:11.240Z"
   },
   {
    "duration": 0,
    "start_time": "2022-09-17T06:59:11.241Z"
   },
   {
    "duration": 0,
    "start_time": "2022-09-17T06:59:11.242Z"
   },
   {
    "duration": 0,
    "start_time": "2022-09-17T06:59:11.243Z"
   },
   {
    "duration": 0,
    "start_time": "2022-09-17T06:59:11.245Z"
   },
   {
    "duration": 0,
    "start_time": "2022-09-17T06:59:11.246Z"
   },
   {
    "duration": 0,
    "start_time": "2022-09-17T06:59:11.247Z"
   },
   {
    "duration": 0,
    "start_time": "2022-09-17T06:59:11.248Z"
   },
   {
    "duration": 0,
    "start_time": "2022-09-17T06:59:11.250Z"
   },
   {
    "duration": 0,
    "start_time": "2022-09-17T06:59:11.251Z"
   },
   {
    "duration": 0,
    "start_time": "2022-09-17T06:59:11.289Z"
   },
   {
    "duration": 0,
    "start_time": "2022-09-17T06:59:11.291Z"
   },
   {
    "duration": 0,
    "start_time": "2022-09-17T06:59:11.292Z"
   },
   {
    "duration": 0,
    "start_time": "2022-09-17T06:59:11.293Z"
   },
   {
    "duration": 0,
    "start_time": "2022-09-17T06:59:11.294Z"
   },
   {
    "duration": 0,
    "start_time": "2022-09-17T06:59:11.295Z"
   },
   {
    "duration": 23,
    "start_time": "2022-09-17T07:00:01.496Z"
   },
   {
    "duration": 25,
    "start_time": "2022-09-17T07:00:17.500Z"
   },
   {
    "duration": 40,
    "start_time": "2022-09-17T07:00:23.081Z"
   },
   {
    "duration": 406,
    "start_time": "2022-09-17T07:00:33.946Z"
   },
   {
    "duration": 194,
    "start_time": "2022-09-17T07:00:34.354Z"
   },
   {
    "duration": 19,
    "start_time": "2022-09-17T07:00:34.549Z"
   },
   {
    "duration": 59,
    "start_time": "2022-09-17T07:00:34.570Z"
   },
   {
    "duration": 9,
    "start_time": "2022-09-17T07:00:34.635Z"
   },
   {
    "duration": 16,
    "start_time": "2022-09-17T07:00:34.645Z"
   },
   {
    "duration": 21,
    "start_time": "2022-09-17T07:00:34.663Z"
   },
   {
    "duration": 47,
    "start_time": "2022-09-17T07:00:34.685Z"
   },
   {
    "duration": 38,
    "start_time": "2022-09-17T07:00:34.734Z"
   },
   {
    "duration": 26,
    "start_time": "2022-09-17T07:00:34.775Z"
   },
   {
    "duration": 86,
    "start_time": "2022-09-17T07:00:34.802Z"
   },
   {
    "duration": 85,
    "start_time": "2022-09-17T07:00:34.890Z"
   },
   {
    "duration": 76,
    "start_time": "2022-09-17T07:00:34.977Z"
   },
   {
    "duration": 61,
    "start_time": "2022-09-17T07:00:35.054Z"
   },
   {
    "duration": 3,
    "start_time": "2022-09-17T07:00:35.117Z"
   },
   {
    "duration": 20,
    "start_time": "2022-09-17T07:00:35.123Z"
   },
   {
    "duration": 84,
    "start_time": "2022-09-17T07:00:35.146Z"
   },
   {
    "duration": 0,
    "start_time": "2022-09-17T07:00:35.232Z"
   },
   {
    "duration": 0,
    "start_time": "2022-09-17T07:00:35.233Z"
   },
   {
    "duration": 0,
    "start_time": "2022-09-17T07:00:35.234Z"
   },
   {
    "duration": 0,
    "start_time": "2022-09-17T07:00:35.235Z"
   },
   {
    "duration": 0,
    "start_time": "2022-09-17T07:00:35.236Z"
   },
   {
    "duration": 0,
    "start_time": "2022-09-17T07:00:35.237Z"
   },
   {
    "duration": 0,
    "start_time": "2022-09-17T07:00:35.238Z"
   },
   {
    "duration": 0,
    "start_time": "2022-09-17T07:00:35.239Z"
   },
   {
    "duration": 0,
    "start_time": "2022-09-17T07:00:35.241Z"
   },
   {
    "duration": 0,
    "start_time": "2022-09-17T07:00:35.242Z"
   },
   {
    "duration": 0,
    "start_time": "2022-09-17T07:00:35.243Z"
   },
   {
    "duration": 0,
    "start_time": "2022-09-17T07:00:35.244Z"
   },
   {
    "duration": 0,
    "start_time": "2022-09-17T07:00:35.245Z"
   },
   {
    "duration": 0,
    "start_time": "2022-09-17T07:00:35.246Z"
   },
   {
    "duration": 0,
    "start_time": "2022-09-17T07:00:35.247Z"
   },
   {
    "duration": 0,
    "start_time": "2022-09-17T07:00:35.248Z"
   },
   {
    "duration": 0,
    "start_time": "2022-09-17T07:00:35.249Z"
   },
   {
    "duration": 0,
    "start_time": "2022-09-17T07:00:35.251Z"
   },
   {
    "duration": 0,
    "start_time": "2022-09-17T07:00:35.290Z"
   },
   {
    "duration": 0,
    "start_time": "2022-09-17T07:00:35.292Z"
   },
   {
    "duration": 0,
    "start_time": "2022-09-17T07:00:35.293Z"
   },
   {
    "duration": 41,
    "start_time": "2022-09-17T07:02:17.851Z"
   },
   {
    "duration": 7,
    "start_time": "2022-09-17T07:03:27.904Z"
   },
   {
    "duration": 488,
    "start_time": "2022-09-17T07:03:36.463Z"
   },
   {
    "duration": 178,
    "start_time": "2022-09-17T07:03:36.954Z"
   },
   {
    "duration": 18,
    "start_time": "2022-09-17T07:03:37.134Z"
   },
   {
    "duration": 45,
    "start_time": "2022-09-17T07:03:37.154Z"
   },
   {
    "duration": 5,
    "start_time": "2022-09-17T07:03:37.202Z"
   },
   {
    "duration": 15,
    "start_time": "2022-09-17T07:03:37.208Z"
   },
   {
    "duration": 7,
    "start_time": "2022-09-17T07:03:37.224Z"
   },
   {
    "duration": 26,
    "start_time": "2022-09-17T07:03:37.233Z"
   },
   {
    "duration": 44,
    "start_time": "2022-09-17T07:03:37.261Z"
   },
   {
    "duration": 27,
    "start_time": "2022-09-17T07:03:37.307Z"
   },
   {
    "duration": 104,
    "start_time": "2022-09-17T07:03:37.336Z"
   },
   {
    "duration": 105,
    "start_time": "2022-09-17T07:03:37.442Z"
   },
   {
    "duration": 70,
    "start_time": "2022-09-17T07:03:37.549Z"
   },
   {
    "duration": 47,
    "start_time": "2022-09-17T07:03:37.624Z"
   },
   {
    "duration": 18,
    "start_time": "2022-09-17T07:03:37.672Z"
   },
   {
    "duration": 11,
    "start_time": "2022-09-17T07:03:37.691Z"
   },
   {
    "duration": 43,
    "start_time": "2022-09-17T07:03:37.704Z"
   },
   {
    "duration": 14,
    "start_time": "2022-09-17T07:03:37.748Z"
   },
   {
    "duration": 18,
    "start_time": "2022-09-17T07:03:37.790Z"
   },
   {
    "duration": 4,
    "start_time": "2022-09-17T07:03:37.811Z"
   },
   {
    "duration": 53,
    "start_time": "2022-09-17T07:03:37.818Z"
   },
   {
    "duration": 25,
    "start_time": "2022-09-17T07:03:37.873Z"
   },
   {
    "duration": 22,
    "start_time": "2022-09-17T07:03:37.901Z"
   },
   {
    "duration": 21,
    "start_time": "2022-09-17T07:03:37.925Z"
   },
   {
    "duration": 45,
    "start_time": "2022-09-17T07:03:37.948Z"
   },
   {
    "duration": 23,
    "start_time": "2022-09-17T07:03:37.995Z"
   },
   {
    "duration": 13,
    "start_time": "2022-09-17T07:03:38.020Z"
   },
   {
    "duration": 53,
    "start_time": "2022-09-17T07:03:38.036Z"
   },
   {
    "duration": 10,
    "start_time": "2022-09-17T07:03:38.091Z"
   },
   {
    "duration": 10,
    "start_time": "2022-09-17T07:03:38.103Z"
   },
   {
    "duration": 25,
    "start_time": "2022-09-17T07:03:38.115Z"
   },
   {
    "duration": 13,
    "start_time": "2022-09-17T07:03:38.141Z"
   },
   {
    "duration": 45,
    "start_time": "2022-09-17T07:03:38.157Z"
   },
   {
    "duration": 17,
    "start_time": "2022-09-17T07:03:38.205Z"
   },
   {
    "duration": 18,
    "start_time": "2022-09-17T07:03:38.224Z"
   },
   {
    "duration": 7,
    "start_time": "2022-09-17T07:03:38.244Z"
   },
   {
    "duration": 21,
    "start_time": "2022-09-17T07:03:38.253Z"
   },
   {
    "duration": 14,
    "start_time": "2022-09-17T07:03:38.277Z"
   },
   {
    "duration": 407,
    "start_time": "2022-09-17T07:07:40.631Z"
   },
   {
    "duration": 194,
    "start_time": "2022-09-17T07:07:41.040Z"
   },
   {
    "duration": 17,
    "start_time": "2022-09-17T07:07:41.236Z"
   },
   {
    "duration": 45,
    "start_time": "2022-09-17T07:07:41.255Z"
   },
   {
    "duration": 4,
    "start_time": "2022-09-17T07:07:41.304Z"
   },
   {
    "duration": 12,
    "start_time": "2022-09-17T07:07:41.310Z"
   },
   {
    "duration": 6,
    "start_time": "2022-09-17T07:07:41.324Z"
   },
   {
    "duration": 57,
    "start_time": "2022-09-17T07:07:41.332Z"
   },
   {
    "duration": 39,
    "start_time": "2022-09-17T07:07:41.392Z"
   },
   {
    "duration": 45,
    "start_time": "2022-09-17T07:07:41.433Z"
   },
   {
    "duration": 105,
    "start_time": "2022-09-17T07:07:41.480Z"
   },
   {
    "duration": 93,
    "start_time": "2022-09-17T07:07:41.587Z"
   },
   {
    "duration": 97,
    "start_time": "2022-09-17T07:07:41.683Z"
   },
   {
    "duration": 71,
    "start_time": "2022-09-17T07:07:41.790Z"
   },
   {
    "duration": 3,
    "start_time": "2022-09-17T07:07:41.863Z"
   },
   {
    "duration": 33,
    "start_time": "2022-09-17T07:07:41.868Z"
   },
   {
    "duration": 65,
    "start_time": "2022-09-17T07:07:41.904Z"
   },
   {
    "duration": 25,
    "start_time": "2022-09-17T07:07:41.971Z"
   },
   {
    "duration": 31,
    "start_time": "2022-09-17T07:07:41.999Z"
   },
   {
    "duration": 6,
    "start_time": "2022-09-17T07:07:42.035Z"
   },
   {
    "duration": 36,
    "start_time": "2022-09-17T07:07:42.043Z"
   },
   {
    "duration": 25,
    "start_time": "2022-09-17T07:07:42.081Z"
   },
   {
    "duration": 29,
    "start_time": "2022-09-17T07:07:42.109Z"
   },
   {
    "duration": 15,
    "start_time": "2022-09-17T07:07:42.141Z"
   },
   {
    "duration": 31,
    "start_time": "2022-09-17T07:07:42.158Z"
   },
   {
    "duration": 21,
    "start_time": "2022-09-17T07:07:42.192Z"
   },
   {
    "duration": 100,
    "start_time": "2022-09-17T07:07:42.215Z"
   },
   {
    "duration": 31,
    "start_time": "2022-09-17T07:07:42.317Z"
   },
   {
    "duration": 11,
    "start_time": "2022-09-17T07:07:42.350Z"
   },
   {
    "duration": 26,
    "start_time": "2022-09-17T07:07:42.363Z"
   },
   {
    "duration": 28,
    "start_time": "2022-09-17T07:07:42.392Z"
   },
   {
    "duration": 14,
    "start_time": "2022-09-17T07:07:42.421Z"
   },
   {
    "duration": 24,
    "start_time": "2022-09-17T07:07:42.436Z"
   },
   {
    "duration": 33,
    "start_time": "2022-09-17T07:07:42.462Z"
   },
   {
    "duration": 21,
    "start_time": "2022-09-17T07:07:42.498Z"
   },
   {
    "duration": 12,
    "start_time": "2022-09-17T07:07:42.520Z"
   },
   {
    "duration": 13,
    "start_time": "2022-09-17T07:07:42.534Z"
   },
   {
    "duration": 38,
    "start_time": "2022-09-17T07:07:42.549Z"
   },
   {
    "duration": 435,
    "start_time": "2022-09-17T07:13:19.936Z"
   },
   {
    "duration": 204,
    "start_time": "2022-09-17T07:13:20.373Z"
   },
   {
    "duration": 39,
    "start_time": "2022-09-17T07:13:20.579Z"
   },
   {
    "duration": 38,
    "start_time": "2022-09-17T07:13:20.621Z"
   },
   {
    "duration": 5,
    "start_time": "2022-09-17T07:13:20.661Z"
   },
   {
    "duration": 35,
    "start_time": "2022-09-17T07:13:20.667Z"
   },
   {
    "duration": 21,
    "start_time": "2022-09-17T07:13:20.704Z"
   },
   {
    "duration": 70,
    "start_time": "2022-09-17T07:13:20.727Z"
   },
   {
    "duration": 95,
    "start_time": "2022-09-17T07:13:20.799Z"
   },
   {
    "duration": 39,
    "start_time": "2022-09-17T07:13:20.897Z"
   },
   {
    "duration": 100,
    "start_time": "2022-09-17T07:13:20.938Z"
   },
   {
    "duration": 95,
    "start_time": "2022-09-17T07:13:21.041Z"
   },
   {
    "duration": 89,
    "start_time": "2022-09-17T07:13:21.137Z"
   },
   {
    "duration": 43,
    "start_time": "2022-09-17T07:13:21.231Z"
   },
   {
    "duration": 14,
    "start_time": "2022-09-17T07:13:21.275Z"
   },
   {
    "duration": 33,
    "start_time": "2022-09-17T07:13:21.297Z"
   },
   {
    "duration": 67,
    "start_time": "2022-09-17T07:13:21.332Z"
   },
   {
    "duration": 70,
    "start_time": "2022-09-17T07:13:21.401Z"
   },
   {
    "duration": 13,
    "start_time": "2022-09-17T07:13:21.473Z"
   },
   {
    "duration": 58,
    "start_time": "2022-09-17T07:13:21.488Z"
   },
   {
    "duration": 51,
    "start_time": "2022-09-17T07:13:21.548Z"
   },
   {
    "duration": 54,
    "start_time": "2022-09-17T07:13:21.601Z"
   },
   {
    "duration": 37,
    "start_time": "2022-09-17T07:13:21.658Z"
   },
   {
    "duration": 40,
    "start_time": "2022-09-17T07:13:21.697Z"
   },
   {
    "duration": 17,
    "start_time": "2022-09-17T07:13:21.739Z"
   },
   {
    "duration": 38,
    "start_time": "2022-09-17T07:13:21.758Z"
   },
   {
    "duration": 133,
    "start_time": "2022-09-17T07:13:21.799Z"
   },
   {
    "duration": 27,
    "start_time": "2022-09-17T07:13:21.936Z"
   },
   {
    "duration": 12,
    "start_time": "2022-09-17T07:13:21.965Z"
   },
   {
    "duration": 15,
    "start_time": "2022-09-17T07:13:21.979Z"
   },
   {
    "duration": 87,
    "start_time": "2022-09-17T07:13:21.997Z"
   },
   {
    "duration": 0,
    "start_time": "2022-09-17T07:13:22.087Z"
   },
   {
    "duration": 0,
    "start_time": "2022-09-17T07:13:22.089Z"
   },
   {
    "duration": 0,
    "start_time": "2022-09-17T07:13:22.091Z"
   },
   {
    "duration": 0,
    "start_time": "2022-09-17T07:13:22.092Z"
   },
   {
    "duration": 0,
    "start_time": "2022-09-17T07:13:22.093Z"
   },
   {
    "duration": 0,
    "start_time": "2022-09-17T07:13:22.097Z"
   },
   {
    "duration": 0,
    "start_time": "2022-09-17T07:13:22.098Z"
   },
   {
    "duration": 0,
    "start_time": "2022-09-17T07:13:22.104Z"
   },
   {
    "duration": 443,
    "start_time": "2022-09-17T07:15:53.114Z"
   },
   {
    "duration": 220,
    "start_time": "2022-09-17T07:15:53.559Z"
   },
   {
    "duration": 30,
    "start_time": "2022-09-17T07:15:53.781Z"
   },
   {
    "duration": 43,
    "start_time": "2022-09-17T07:15:53.813Z"
   },
   {
    "duration": 4,
    "start_time": "2022-09-17T07:15:53.859Z"
   },
   {
    "duration": 20,
    "start_time": "2022-09-17T07:15:53.864Z"
   },
   {
    "duration": 37,
    "start_time": "2022-09-17T07:15:53.892Z"
   },
   {
    "duration": 42,
    "start_time": "2022-09-17T07:15:53.930Z"
   },
   {
    "duration": 23,
    "start_time": "2022-09-17T07:15:53.974Z"
   },
   {
    "duration": 41,
    "start_time": "2022-09-17T07:15:53.999Z"
   },
   {
    "duration": 83,
    "start_time": "2022-09-17T07:15:54.042Z"
   },
   {
    "duration": 101,
    "start_time": "2022-09-17T07:15:54.127Z"
   },
   {
    "duration": 67,
    "start_time": "2022-09-17T07:15:54.230Z"
   },
   {
    "duration": 50,
    "start_time": "2022-09-17T07:15:54.304Z"
   },
   {
    "duration": 3,
    "start_time": "2022-09-17T07:15:54.355Z"
   },
   {
    "duration": 37,
    "start_time": "2022-09-17T07:15:54.360Z"
   },
   {
    "duration": 54,
    "start_time": "2022-09-17T07:15:54.399Z"
   },
   {
    "duration": 11,
    "start_time": "2022-09-17T07:15:54.455Z"
   },
   {
    "duration": 19,
    "start_time": "2022-09-17T07:15:54.468Z"
   },
   {
    "duration": 30,
    "start_time": "2022-09-17T07:15:54.489Z"
   },
   {
    "duration": 39,
    "start_time": "2022-09-17T07:15:54.520Z"
   },
   {
    "duration": 13,
    "start_time": "2022-09-17T07:15:54.561Z"
   },
   {
    "duration": 21,
    "start_time": "2022-09-17T07:15:54.576Z"
   },
   {
    "duration": 32,
    "start_time": "2022-09-17T07:15:54.599Z"
   },
   {
    "duration": 29,
    "start_time": "2022-09-17T07:15:54.632Z"
   },
   {
    "duration": 15,
    "start_time": "2022-09-17T07:15:54.663Z"
   },
   {
    "duration": 97,
    "start_time": "2022-09-17T07:15:54.680Z"
   },
   {
    "duration": 35,
    "start_time": "2022-09-17T07:15:54.779Z"
   },
   {
    "duration": 10,
    "start_time": "2022-09-17T07:15:54.816Z"
   },
   {
    "duration": 4,
    "start_time": "2022-09-17T07:15:54.828Z"
   },
   {
    "duration": 21,
    "start_time": "2022-09-17T07:15:54.833Z"
   },
   {
    "duration": 11,
    "start_time": "2022-09-17T07:15:54.856Z"
   },
   {
    "duration": 50,
    "start_time": "2022-09-17T07:15:54.868Z"
   },
   {
    "duration": 12,
    "start_time": "2022-09-17T07:15:54.920Z"
   },
   {
    "duration": 10,
    "start_time": "2022-09-17T07:15:54.934Z"
   },
   {
    "duration": 4,
    "start_time": "2022-09-17T07:15:54.945Z"
   },
   {
    "duration": 11,
    "start_time": "2022-09-17T07:15:54.950Z"
   },
   {
    "duration": 26,
    "start_time": "2022-09-17T07:15:54.963Z"
   },
   {
    "duration": 412,
    "start_time": "2022-09-17T07:17:55.523Z"
   },
   {
    "duration": 211,
    "start_time": "2022-09-17T07:17:55.937Z"
   },
   {
    "duration": 18,
    "start_time": "2022-09-17T07:17:56.150Z"
   },
   {
    "duration": 41,
    "start_time": "2022-09-17T07:17:56.170Z"
   },
   {
    "duration": 5,
    "start_time": "2022-09-17T07:17:56.214Z"
   },
   {
    "duration": 15,
    "start_time": "2022-09-17T07:17:56.221Z"
   },
   {
    "duration": 9,
    "start_time": "2022-09-17T07:17:56.238Z"
   },
   {
    "duration": 45,
    "start_time": "2022-09-17T07:17:56.249Z"
   },
   {
    "duration": 31,
    "start_time": "2022-09-17T07:17:56.297Z"
   },
   {
    "duration": 26,
    "start_time": "2022-09-17T07:17:56.330Z"
   },
   {
    "duration": 89,
    "start_time": "2022-09-17T07:17:56.358Z"
   },
   {
    "duration": 99,
    "start_time": "2022-09-17T07:17:56.449Z"
   },
   {
    "duration": 80,
    "start_time": "2022-09-17T07:17:56.550Z"
   },
   {
    "duration": 42,
    "start_time": "2022-09-17T07:17:56.634Z"
   },
   {
    "duration": 12,
    "start_time": "2022-09-17T07:17:56.678Z"
   },
   {
    "duration": 46,
    "start_time": "2022-09-17T07:17:56.693Z"
   },
   {
    "duration": 56,
    "start_time": "2022-09-17T07:17:56.741Z"
   },
   {
    "duration": 13,
    "start_time": "2022-09-17T07:17:56.800Z"
   },
   {
    "duration": 40,
    "start_time": "2022-09-17T07:17:56.815Z"
   },
   {
    "duration": 4,
    "start_time": "2022-09-17T07:17:56.857Z"
   },
   {
    "duration": 58,
    "start_time": "2022-09-17T07:17:56.863Z"
   },
   {
    "duration": 17,
    "start_time": "2022-09-17T07:17:56.924Z"
   },
   {
    "duration": 19,
    "start_time": "2022-09-17T07:17:56.943Z"
   },
   {
    "duration": 14,
    "start_time": "2022-09-17T07:17:56.964Z"
   },
   {
    "duration": 27,
    "start_time": "2022-09-17T07:17:56.980Z"
   },
   {
    "duration": 16,
    "start_time": "2022-09-17T07:17:57.009Z"
   },
   {
    "duration": 105,
    "start_time": "2022-09-17T07:17:57.027Z"
   },
   {
    "duration": 21,
    "start_time": "2022-09-17T07:17:57.134Z"
   },
   {
    "duration": 11,
    "start_time": "2022-09-17T07:17:57.157Z"
   },
   {
    "duration": 22,
    "start_time": "2022-09-17T07:17:57.170Z"
   },
   {
    "duration": 31,
    "start_time": "2022-09-17T07:17:57.194Z"
   },
   {
    "duration": 12,
    "start_time": "2022-09-17T07:17:57.226Z"
   },
   {
    "duration": 18,
    "start_time": "2022-09-17T07:17:57.240Z"
   },
   {
    "duration": 31,
    "start_time": "2022-09-17T07:17:57.260Z"
   },
   {
    "duration": 23,
    "start_time": "2022-09-17T07:17:57.293Z"
   },
   {
    "duration": 4,
    "start_time": "2022-09-17T07:17:57.318Z"
   },
   {
    "duration": 11,
    "start_time": "2022-09-17T07:17:57.323Z"
   },
   {
    "duration": 11,
    "start_time": "2022-09-17T07:17:57.336Z"
   },
   {
    "duration": 426,
    "start_time": "2022-09-17T18:19:18.609Z"
   },
   {
    "duration": 175,
    "start_time": "2022-09-17T18:19:19.038Z"
   },
   {
    "duration": 17,
    "start_time": "2022-09-17T18:19:19.215Z"
   },
   {
    "duration": 33,
    "start_time": "2022-09-17T18:19:19.234Z"
   },
   {
    "duration": 25,
    "start_time": "2022-09-17T18:19:19.270Z"
   },
   {
    "duration": 12,
    "start_time": "2022-09-17T18:19:19.297Z"
   },
   {
    "duration": 7,
    "start_time": "2022-09-17T18:19:19.310Z"
   },
   {
    "duration": 27,
    "start_time": "2022-09-17T18:19:19.319Z"
   },
   {
    "duration": 18,
    "start_time": "2022-09-17T18:19:19.348Z"
   },
   {
    "duration": 46,
    "start_time": "2022-09-17T18:19:19.367Z"
   },
   {
    "duration": 62,
    "start_time": "2022-09-17T18:19:19.415Z"
   },
   {
    "duration": 96,
    "start_time": "2022-09-17T18:19:19.478Z"
   },
   {
    "duration": 66,
    "start_time": "2022-09-17T18:19:19.576Z"
   },
   {
    "duration": 35,
    "start_time": "2022-09-17T18:19:19.646Z"
   },
   {
    "duration": 3,
    "start_time": "2022-09-17T18:19:19.694Z"
   },
   {
    "duration": 11,
    "start_time": "2022-09-17T18:19:19.699Z"
   },
   {
    "duration": 37,
    "start_time": "2022-09-17T18:19:19.712Z"
   },
   {
    "duration": 12,
    "start_time": "2022-09-17T18:19:19.751Z"
   },
   {
    "duration": 34,
    "start_time": "2022-09-17T18:19:19.765Z"
   },
   {
    "duration": 3,
    "start_time": "2022-09-17T18:19:19.801Z"
   },
   {
    "duration": 19,
    "start_time": "2022-09-17T18:19:19.806Z"
   },
   {
    "duration": 12,
    "start_time": "2022-09-17T18:19:19.827Z"
   },
   {
    "duration": 13,
    "start_time": "2022-09-17T18:19:19.841Z"
   },
   {
    "duration": 39,
    "start_time": "2022-09-17T18:19:19.856Z"
   },
   {
    "duration": 15,
    "start_time": "2022-09-17T18:19:19.897Z"
   },
   {
    "duration": 13,
    "start_time": "2022-09-17T18:19:19.914Z"
   },
   {
    "duration": 92,
    "start_time": "2022-09-17T18:19:19.928Z"
   },
   {
    "duration": 19,
    "start_time": "2022-09-17T18:19:20.022Z"
   },
   {
    "duration": 9,
    "start_time": "2022-09-17T18:19:20.043Z"
   },
   {
    "duration": 4,
    "start_time": "2022-09-17T18:19:20.054Z"
   },
   {
    "duration": 39,
    "start_time": "2022-09-17T18:19:20.059Z"
   },
   {
    "duration": 11,
    "start_time": "2022-09-17T18:19:20.099Z"
   },
   {
    "duration": 16,
    "start_time": "2022-09-17T18:19:20.112Z"
   },
   {
    "duration": 11,
    "start_time": "2022-09-17T18:19:20.129Z"
   },
   {
    "duration": 12,
    "start_time": "2022-09-17T18:19:20.141Z"
   },
   {
    "duration": 4,
    "start_time": "2022-09-17T18:19:20.155Z"
   },
   {
    "duration": 39,
    "start_time": "2022-09-17T18:19:20.160Z"
   },
   {
    "duration": 4,
    "start_time": "2022-09-17T18:19:20.200Z"
   }
  ],
  "colab": {
   "collapsed_sections": [
    "E0vqbgi9ay0H",
    "VUC88oWjTJw2"
   ],
   "name": "yandex_music_project.ipynb",
   "provenance": []
  },
  "kernelspec": {
   "display_name": "Python 3 (ipykernel)",
   "language": "python",
   "name": "python3"
  },
  "language_info": {
   "codemirror_mode": {
    "name": "ipython",
    "version": 3
   },
   "file_extension": ".py",
   "mimetype": "text/x-python",
   "name": "python",
   "nbconvert_exporter": "python",
   "pygments_lexer": "ipython3",
   "version": "3.9.12"
  },
  "toc": {
   "base_numbering": 1,
   "nav_menu": {},
   "number_sections": true,
   "sideBar": true,
   "skip_h1_title": true,
   "title_cell": "Table of Contents",
   "title_sidebar": "Contents",
   "toc_cell": false,
   "toc_position": {},
   "toc_section_display": true,
   "toc_window_display": false
  }
 },
 "nbformat": 4,
 "nbformat_minor": 1
}
