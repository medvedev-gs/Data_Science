{
 "cells": [
  {
   "cell_type": "markdown",
   "id": "f516a650",
   "metadata": {
    "deletable": false,
    "editable": false,
    "id": "c81daeeb"
   },
   "source": [
    "# Исследование надежности заемщиков\n"
   ]
  },
  {
   "cell_type": "markdown",
   "id": "7b1e9c01",
   "metadata": {},
   "source": [
    "В данном исследовании проведен анализ влияния основных факторов на платежеспособность клиента.\n",
    "\n",
    "Цель: выявить наличие зависимости между семейным положением, количеством детей, уровнем дохода и целью получения кредита и вероятностью просрочки по кредиту. Результаты исследования могут быть использованы для внесения изменений в скоринговую модель банка.\n",
    "\n",
    "В качестве исходных данных использованы предоставленные клиентом сводные данные по 21,5 тыс. заемщиков. Данные включают в себя сведения о занятости, об уровне дохода, образовании, семейном положении клиента и прочие.\n",
    "\n",
    "В ходе подготовки к проведению исследования были устранены ошибки в данных, такие как пропуски, выбросы и пр., проведена типизация данных и категоризация по ряду признаков.\n",
    "\n",
    "В ходе исследования оценим, насколько различные группы клиентов, разбитые по отобранным признакам исправно погашают задолженность, какие группы наиболее подвержены просрочке по платежам.\n",
    "\n",
    "Выводы приведены в конце работы."
   ]
  },
  {
   "cell_type": "markdown",
   "id": "22fe17a4",
   "metadata": {},
   "source": [
    "## Импорт библиотек."
   ]
  },
  {
   "cell_type": "code",
   "execution_count": 1,
   "id": "b495b1ef",
   "metadata": {
    "deletable": false,
    "id": "7bcf75c9"
   },
   "outputs": [],
   "source": [
    "import pandas as pd"
   ]
  },
  {
   "cell_type": "markdown",
   "id": "c9110cd3",
   "metadata": {},
   "source": [
    "## Загрузка данных"
   ]
  },
  {
   "cell_type": "code",
   "execution_count": 2,
   "id": "eb88d4bc",
   "metadata": {},
   "outputs": [],
   "source": [
    "data = pd.read_csv('data.csv')"
   ]
  },
  {
   "cell_type": "markdown",
   "id": "7ba393ed",
   "metadata": {},
   "source": [
    "## Обзор данных"
   ]
  },
  {
   "cell_type": "code",
   "execution_count": 3,
   "id": "439c5eec",
   "metadata": {
    "deletable": false,
    "id": "2a7cab99",
    "outputId": "1a8f3ef2-d323-4ec2-ddf7-89670b5944c4"
   },
   "outputs": [
    {
     "data": {
      "text/html": [
       "<div>\n",
       "<style scoped>\n",
       "    .dataframe tbody tr th:only-of-type {\n",
       "        vertical-align: middle;\n",
       "    }\n",
       "\n",
       "    .dataframe tbody tr th {\n",
       "        vertical-align: top;\n",
       "    }\n",
       "\n",
       "    .dataframe thead th {\n",
       "        text-align: right;\n",
       "    }\n",
       "</style>\n",
       "<table border=\"1\" class=\"dataframe\">\n",
       "  <thead>\n",
       "    <tr style=\"text-align: right;\">\n",
       "      <th></th>\n",
       "      <th>children</th>\n",
       "      <th>days_employed</th>\n",
       "      <th>dob_years</th>\n",
       "      <th>education</th>\n",
       "      <th>education_id</th>\n",
       "      <th>family_status</th>\n",
       "      <th>family_status_id</th>\n",
       "      <th>gender</th>\n",
       "      <th>income_type</th>\n",
       "      <th>debt</th>\n",
       "      <th>total_income</th>\n",
       "      <th>purpose</th>\n",
       "    </tr>\n",
       "  </thead>\n",
       "  <tbody>\n",
       "    <tr>\n",
       "      <th>0</th>\n",
       "      <td>1</td>\n",
       "      <td>-8437.673028</td>\n",
       "      <td>42</td>\n",
       "      <td>высшее</td>\n",
       "      <td>0</td>\n",
       "      <td>женат / замужем</td>\n",
       "      <td>0</td>\n",
       "      <td>F</td>\n",
       "      <td>сотрудник</td>\n",
       "      <td>0</td>\n",
       "      <td>253875.639453</td>\n",
       "      <td>покупка жилья</td>\n",
       "    </tr>\n",
       "    <tr>\n",
       "      <th>1</th>\n",
       "      <td>1</td>\n",
       "      <td>-4024.803754</td>\n",
       "      <td>36</td>\n",
       "      <td>среднее</td>\n",
       "      <td>1</td>\n",
       "      <td>женат / замужем</td>\n",
       "      <td>0</td>\n",
       "      <td>F</td>\n",
       "      <td>сотрудник</td>\n",
       "      <td>0</td>\n",
       "      <td>112080.014102</td>\n",
       "      <td>приобретение автомобиля</td>\n",
       "    </tr>\n",
       "    <tr>\n",
       "      <th>2</th>\n",
       "      <td>0</td>\n",
       "      <td>-5623.422610</td>\n",
       "      <td>33</td>\n",
       "      <td>Среднее</td>\n",
       "      <td>1</td>\n",
       "      <td>женат / замужем</td>\n",
       "      <td>0</td>\n",
       "      <td>M</td>\n",
       "      <td>сотрудник</td>\n",
       "      <td>0</td>\n",
       "      <td>145885.952297</td>\n",
       "      <td>покупка жилья</td>\n",
       "    </tr>\n",
       "    <tr>\n",
       "      <th>3</th>\n",
       "      <td>3</td>\n",
       "      <td>-4124.747207</td>\n",
       "      <td>32</td>\n",
       "      <td>среднее</td>\n",
       "      <td>1</td>\n",
       "      <td>женат / замужем</td>\n",
       "      <td>0</td>\n",
       "      <td>M</td>\n",
       "      <td>сотрудник</td>\n",
       "      <td>0</td>\n",
       "      <td>267628.550329</td>\n",
       "      <td>дополнительное образование</td>\n",
       "    </tr>\n",
       "    <tr>\n",
       "      <th>4</th>\n",
       "      <td>0</td>\n",
       "      <td>340266.072047</td>\n",
       "      <td>53</td>\n",
       "      <td>среднее</td>\n",
       "      <td>1</td>\n",
       "      <td>гражданский брак</td>\n",
       "      <td>1</td>\n",
       "      <td>F</td>\n",
       "      <td>пенсионер</td>\n",
       "      <td>0</td>\n",
       "      <td>158616.077870</td>\n",
       "      <td>сыграть свадьбу</td>\n",
       "    </tr>\n",
       "  </tbody>\n",
       "</table>\n",
       "</div>"
      ],
      "text/plain": [
       "   children  days_employed  dob_years education  education_id  \\\n",
       "0         1   -8437.673028         42    высшее             0   \n",
       "1         1   -4024.803754         36   среднее             1   \n",
       "2         0   -5623.422610         33   Среднее             1   \n",
       "3         3   -4124.747207         32   среднее             1   \n",
       "4         0  340266.072047         53   среднее             1   \n",
       "\n",
       "      family_status  family_status_id gender income_type  debt   total_income  \\\n",
       "0   женат / замужем                 0      F   сотрудник     0  253875.639453   \n",
       "1   женат / замужем                 0      F   сотрудник     0  112080.014102   \n",
       "2   женат / замужем                 0      M   сотрудник     0  145885.952297   \n",
       "3   женат / замужем                 0      M   сотрудник     0  267628.550329   \n",
       "4  гражданский брак                 1      F   пенсионер     0  158616.077870   \n",
       "\n",
       "                      purpose  \n",
       "0               покупка жилья  \n",
       "1     приобретение автомобиля  \n",
       "2               покупка жилья  \n",
       "3  дополнительное образование  \n",
       "4             сыграть свадьбу  "
      ]
     },
     "execution_count": 3,
     "metadata": {},
     "output_type": "execute_result"
    }
   ],
   "source": [
    "data.head()"
   ]
  },
  {
   "cell_type": "code",
   "execution_count": 4,
   "id": "20d57e68",
   "metadata": {
    "deletable": false,
    "id": "2b757bca",
    "outputId": "15376089-8dad-46c9-b520-c05248d43158"
   },
   "outputs": [
    {
     "name": "stdout",
     "output_type": "stream",
     "text": [
      "<class 'pandas.core.frame.DataFrame'>\n",
      "RangeIndex: 21525 entries, 0 to 21524\n",
      "Data columns (total 12 columns):\n",
      " #   Column            Non-Null Count  Dtype  \n",
      "---  ------            --------------  -----  \n",
      " 0   children          21525 non-null  int64  \n",
      " 1   days_employed     19351 non-null  float64\n",
      " 2   dob_years         21525 non-null  int64  \n",
      " 3   education         21525 non-null  object \n",
      " 4   education_id      21525 non-null  int64  \n",
      " 5   family_status     21525 non-null  object \n",
      " 6   family_status_id  21525 non-null  int64  \n",
      " 7   gender            21525 non-null  object \n",
      " 8   income_type       21525 non-null  object \n",
      " 9   debt              21525 non-null  int64  \n",
      " 10  total_income      19351 non-null  float64\n",
      " 11  purpose           21525 non-null  object \n",
      "dtypes: float64(2), int64(5), object(5)\n",
      "memory usage: 2.0+ MB\n"
     ]
    }
   ],
   "source": [
    "data.info()"
   ]
  },
  {
   "cell_type": "markdown",
   "id": "8e0dcc81",
   "metadata": {
    "deletable": false,
    "editable": false,
    "id": "333ec665"
   },
   "source": [
    "## Предобработка данных"
   ]
  },
  {
   "cell_type": "markdown",
   "id": "6e16d484",
   "metadata": {
    "deletable": false,
    "editable": false,
    "id": "02d92d53"
   },
   "source": [
    "### Удаление пропусков"
   ]
  },
  {
   "cell_type": "code",
   "execution_count": 5,
   "id": "92ef90a2",
   "metadata": {
    "deletable": false,
    "id": "7f9b2309",
    "outputId": "81f4d817-781c-465c-ed15-91ce4446810d"
   },
   "outputs": [
    {
     "data": {
      "text/plain": [
       "children               0\n",
       "days_employed       2174\n",
       "dob_years              0\n",
       "education              0\n",
       "education_id           0\n",
       "family_status          0\n",
       "family_status_id       0\n",
       "gender                 0\n",
       "income_type            0\n",
       "debt                   0\n",
       "total_income        2174\n",
       "purpose                0\n",
       "dtype: int64"
      ]
     },
     "execution_count": 5,
     "metadata": {},
     "output_type": "execute_result"
    }
   ],
   "source": [
    "data.isna().sum()"
   ]
  },
  {
   "cell_type": "markdown",
   "id": "e877a03a",
   "metadata": {},
   "source": [
    "Заполним пропуски медианными значениями для соответствующего типа дохода."
   ]
  },
  {
   "cell_type": "code",
   "execution_count": 6,
   "id": "5dbf8027",
   "metadata": {
    "deletable": false,
    "id": "42006a93"
   },
   "outputs": [],
   "source": [
    "for t in data['income_type'].unique():\n",
    "    data.loc[(data['income_type'] == t) & (data['total_income'].isna()), 'total_income'] = \\\n",
    "    data.loc[(data['income_type'] == t), 'total_income'].median()"
   ]
  },
  {
   "cell_type": "markdown",
   "id": "7a0b32fb",
   "metadata": {
    "deletable": false,
    "editable": false,
    "id": "89da5ece"
   },
   "source": [
    "### Обработка аномальных значений"
   ]
  },
  {
   "cell_type": "code",
   "execution_count": 7,
   "id": "173fed88",
   "metadata": {
    "deletable": false,
    "id": "f6f055bf"
   },
   "outputs": [],
   "source": [
    "data['days_employed'] = data['days_employed'].abs()"
   ]
  },
  {
   "cell_type": "code",
   "execution_count": 8,
   "id": "97641fcb",
   "metadata": {
    "deletable": false,
    "id": "85a5faf6",
    "outputId": "801ef80e-522b-4668-f34e-565af7432bcf"
   },
   "outputs": [
    {
     "data": {
      "text/plain": [
       "income_type\n",
       "безработный        366413.652744\n",
       "в декрете            3296.759962\n",
       "госслужащий          2689.368353\n",
       "компаньон            1547.382223\n",
       "пенсионер          365213.306266\n",
       "предприниматель       520.848083\n",
       "сотрудник            1574.202821\n",
       "студент               578.751554\n",
       "Name: days_employed, dtype: float64"
      ]
     },
     "execution_count": 8,
     "metadata": {},
     "output_type": "execute_result"
    }
   ],
   "source": [
    "data.groupby('income_type')['days_employed'].agg('median')"
   ]
  },
  {
   "cell_type": "code",
   "execution_count": 9,
   "id": "dc30a472",
   "metadata": {
    "deletable": false,
    "id": "ef5056eb",
    "outputId": "6975b15c-7f95-4697-d16d-a0c79b657b03"
   },
   "outputs": [
    {
     "data": {
      "text/plain": [
       "array([ 1,  0,  3,  2, -1,  4, 20,  5])"
      ]
     },
     "execution_count": 9,
     "metadata": {},
     "output_type": "execute_result"
    }
   ],
   "source": [
    "data['children'].unique()"
   ]
  },
  {
   "cell_type": "code",
   "execution_count": 10,
   "id": "887eca14",
   "metadata": {
    "deletable": false,
    "id": "3ff9801d"
   },
   "outputs": [],
   "source": [
    "data = data[(data['children'] != -1) & (data['children'] != 20)]"
   ]
  },
  {
   "cell_type": "code",
   "execution_count": 11,
   "id": "710863ff",
   "metadata": {
    "deletable": false,
    "id": "ad4fa8b7",
    "outputId": "b2097101-d49d-44d9-901b-32a65c9463d1"
   },
   "outputs": [
    {
     "data": {
      "text/plain": [
       "array([1, 0, 3, 2, 4, 5])"
      ]
     },
     "execution_count": 11,
     "metadata": {},
     "output_type": "execute_result"
    }
   ],
   "source": [
    "data['children'].unique()"
   ]
  },
  {
   "cell_type": "markdown",
   "id": "7c609b37",
   "metadata": {
    "deletable": false,
    "editable": false,
    "id": "75440b63"
   },
   "source": [
    "### Удаление пропусков (продолжение)"
   ]
  },
  {
   "cell_type": "code",
   "execution_count": 12,
   "id": "39ec4b05",
   "metadata": {
    "deletable": false,
    "id": "af6b1a7e"
   },
   "outputs": [],
   "source": [
    "for t in data['income_type'].unique():\n",
    "    data.loc[(data['income_type'] == t) & (data['days_employed'].isna()), 'days_employed'] = \\\n",
    "    data.loc[(data['income_type'] == t), 'days_employed'].median()"
   ]
  },
  {
   "cell_type": "code",
   "execution_count": 13,
   "id": "f6719507",
   "metadata": {
    "deletable": false,
    "id": "55f78bc2",
    "outputId": "8da1e4e1-358e-4e87-98c9-f261bce0a7b2"
   },
   "outputs": [
    {
     "data": {
      "text/plain": [
       "children            0\n",
       "days_employed       0\n",
       "dob_years           0\n",
       "education           0\n",
       "education_id        0\n",
       "family_status       0\n",
       "family_status_id    0\n",
       "gender              0\n",
       "income_type         0\n",
       "debt                0\n",
       "total_income        0\n",
       "purpose             0\n",
       "dtype: int64"
      ]
     },
     "execution_count": 13,
     "metadata": {},
     "output_type": "execute_result"
    }
   ],
   "source": [
    "data.isna().sum()"
   ]
  },
  {
   "cell_type": "markdown",
   "id": "d7d669ab",
   "metadata": {
    "deletable": false,
    "editable": false,
    "id": "ddc81e43"
   },
   "source": [
    "### Изменение типов данных"
   ]
  },
  {
   "cell_type": "code",
   "execution_count": 14,
   "id": "f08b94bc",
   "metadata": {
    "deletable": false,
    "id": "920b65ad"
   },
   "outputs": [],
   "source": [
    "data['total_income'] = data['total_income'].astype(int)"
   ]
  },
  {
   "cell_type": "markdown",
   "id": "98c10cf2",
   "metadata": {
    "deletable": false,
    "editable": false,
    "id": "80c420ba"
   },
   "source": [
    "### Обработка дубликатов"
   ]
  },
  {
   "cell_type": "code",
   "execution_count": 15,
   "id": "ea514ed7",
   "metadata": {
    "deletable": false
   },
   "outputs": [],
   "source": [
    "data['education'] = data['education'].str.lower()"
   ]
  },
  {
   "cell_type": "code",
   "execution_count": 16,
   "id": "2fbba6d0",
   "metadata": {
    "deletable": false,
    "id": "3ee445e4",
    "outputId": "9684deba-1934-42d1-99e1-cda61740f822"
   },
   "outputs": [
    {
     "data": {
      "text/plain": [
       "71"
      ]
     },
     "execution_count": 16,
     "metadata": {},
     "output_type": "execute_result"
    }
   ],
   "source": [
    "data.duplicated().sum()"
   ]
  },
  {
   "cell_type": "code",
   "execution_count": 17,
   "id": "c07d6b7f",
   "metadata": {
    "deletable": false,
    "id": "8575fe05"
   },
   "outputs": [],
   "source": [
    "data = data.drop_duplicates()"
   ]
  },
  {
   "cell_type": "markdown",
   "id": "99472317",
   "metadata": {
    "deletable": false,
    "editable": false,
    "id": "9904cf55"
   },
   "source": [
    "### Категоризация данных"
   ]
  },
  {
   "cell_type": "code",
   "execution_count": 18,
   "id": "4ab4818d",
   "metadata": {
    "deletable": false,
    "id": "e1771346"
   },
   "outputs": [],
   "source": [
    "def categorize_income(income):\n",
    "    try:\n",
    "        if 0 <= income <= 30000:\n",
    "            return 'E'\n",
    "        elif 30001 <= income <= 50000:\n",
    "            return 'D'\n",
    "        elif 50001 <= income <= 200000:\n",
    "            return 'C'\n",
    "        elif 200001 <= income <= 1000000:\n",
    "            return 'B'\n",
    "        elif income >= 1000001:\n",
    "            return 'A'\n",
    "    except:\n",
    "        pass"
   ]
  },
  {
   "cell_type": "code",
   "execution_count": 19,
   "id": "adcb4932",
   "metadata": {
    "deletable": false,
    "id": "d5f3586d"
   },
   "outputs": [],
   "source": [
    "data['total_income_category'] = data['total_income'].apply(categorize_income)"
   ]
  },
  {
   "cell_type": "code",
   "execution_count": 20,
   "id": "afb0d18e",
   "metadata": {
    "deletable": false,
    "id": "f67ce9b3",
    "outputId": "673c12d9-7d7e-4ae0-9812-c622c89dd244"
   },
   "outputs": [
    {
     "data": {
      "text/plain": [
       "array(['покупка жилья', 'приобретение автомобиля',\n",
       "       'дополнительное образование', 'сыграть свадьбу',\n",
       "       'операции с жильем', 'образование', 'на проведение свадьбы',\n",
       "       'покупка жилья для семьи', 'покупка недвижимости',\n",
       "       'покупка коммерческой недвижимости', 'покупка жилой недвижимости',\n",
       "       'строительство собственной недвижимости', 'недвижимость',\n",
       "       'строительство недвижимости', 'на покупку подержанного автомобиля',\n",
       "       'на покупку своего автомобиля',\n",
       "       'операции с коммерческой недвижимостью',\n",
       "       'строительство жилой недвижимости', 'жилье',\n",
       "       'операции со своей недвижимостью', 'автомобили',\n",
       "       'заняться образованием', 'сделка с подержанным автомобилем',\n",
       "       'получение образования', 'автомобиль', 'свадьба',\n",
       "       'получение дополнительного образования', 'покупка своего жилья',\n",
       "       'операции с недвижимостью', 'получение высшего образования',\n",
       "       'свой автомобиль', 'сделка с автомобилем',\n",
       "       'профильное образование', 'высшее образование',\n",
       "       'покупка жилья для сдачи', 'на покупку автомобиля', 'ремонт жилью',\n",
       "       'заняться высшим образованием'], dtype=object)"
      ]
     },
     "execution_count": 20,
     "metadata": {},
     "output_type": "execute_result"
    }
   ],
   "source": [
    "data['purpose'].unique()"
   ]
  },
  {
   "cell_type": "code",
   "execution_count": 21,
   "id": "f099f0bc",
   "metadata": {
    "deletable": false,
    "id": "e149fab4"
   },
   "outputs": [],
   "source": [
    "def categorize_purpose(row):\n",
    "    try:\n",
    "        if 'автом' in row:\n",
    "            return 'операции с автомобилем'\n",
    "        elif 'жил' in row or 'недвиж' in row:\n",
    "            return 'операции с недвижимостью'\n",
    "        elif 'свад' in row:\n",
    "            return 'проведение свадьбы'\n",
    "        elif 'образов' in row:\n",
    "            return 'получение образования'\n",
    "    except:\n",
    "        return 'нет категории'"
   ]
  },
  {
   "cell_type": "code",
   "execution_count": 22,
   "id": "f5ea996a",
   "metadata": {
    "deletable": false,
    "id": "bf36e69b"
   },
   "outputs": [],
   "source": [
    "data['purpose_category'] = data['purpose'].apply(categorize_purpose)"
   ]
  },
  {
   "cell_type": "markdown",
   "id": "73f4253b",
   "metadata": {
    "deletable": false,
    "editable": false,
    "id": "c5d66278"
   },
   "source": [
    "#### 3.1 Есть ли зависимость между количеством детей и возвратом кредита в срок?"
   ]
  },
  {
   "cell_type": "markdown",
   "id": "5769add0",
   "metadata": {},
   "source": [
    "Ознакомимся с данными: выведем инфо после всех вышесделанных преобразований, проверим, какие возможные значения принимают величина 'children', величина 'debt', чтобы понять, с чем предстоит работать и выбрать подходящие методы (например, 'debt' в принципе может хранить сведения о сумме просрочки, о количестве дней просрочки и тд, в нашем случае выясняется, что это просто флаг, отмечающий наличие или отсутствие просрочки как таковой)."
   ]
  },
  {
   "cell_type": "code",
   "execution_count": 23,
   "id": "f465d982",
   "metadata": {
    "deletable": false,
    "id": "2cacfc4a"
   },
   "outputs": [
    {
     "name": "stdout",
     "output_type": "stream",
     "text": [
      "<class 'pandas.core.frame.DataFrame'>\n",
      "Int64Index: 21331 entries, 0 to 21524\n",
      "Data columns (total 14 columns):\n",
      " #   Column                 Non-Null Count  Dtype  \n",
      "---  ------                 --------------  -----  \n",
      " 0   children               21331 non-null  int64  \n",
      " 1   days_employed          21331 non-null  float64\n",
      " 2   dob_years              21331 non-null  int64  \n",
      " 3   education              21331 non-null  object \n",
      " 4   education_id           21331 non-null  int64  \n",
      " 5   family_status          21331 non-null  object \n",
      " 6   family_status_id       21331 non-null  int64  \n",
      " 7   gender                 21331 non-null  object \n",
      " 8   income_type            21331 non-null  object \n",
      " 9   debt                   21331 non-null  int64  \n",
      " 10  total_income           21331 non-null  int64  \n",
      " 11  purpose                21331 non-null  object \n",
      " 12  total_income_category  21331 non-null  object \n",
      " 13  purpose_category       21331 non-null  object \n",
      "dtypes: float64(1), int64(6), object(7)\n",
      "memory usage: 2.4+ MB\n",
      "Уникальные значения 'children': [1 0 3 2 4 5]\n",
      "Уникальные значения 'debt': [0 1]\n"
     ]
    }
   ],
   "source": [
    "data.info()\n",
    "print('Уникальные значения \\'children\\':', data['children'].unique())\n",
    "print('Уникальные значения \\'debt\\':', data['debt'].unique())"
   ]
  },
  {
   "cell_type": "markdown",
   "id": "88997bcf",
   "metadata": {},
   "source": [
    "Посчитаем общее количество просроченных клиентов и среднее значение просрочки для всей выборки."
   ]
  },
  {
   "cell_type": "code",
   "execution_count": 24,
   "id": "78498eb8",
   "metadata": {},
   "outputs": [
    {
     "name": "stdout",
     "output_type": "stream",
     "text": [
      "Всего клиентов: 21331 Клиентов с просрочкой: 1732\n",
      "Средний процент просрочки по всей выборке: 8.119638085415593\n"
     ]
    }
   ],
   "source": [
    "print('Всего клиентов:', data['debt'].count(), 'Клиентов с просрочкой:', data['debt'].sum())\n",
    "print('Средний процент просрочки по всей выборке:', data['debt'].mean() * 100)"
   ]
  },
  {
   "cell_type": "markdown",
   "id": "962f1140",
   "metadata": {},
   "source": [
    "Теперь сгруппируем выборку по критерию количества детей и посчитаем процент просрочки для каждой группы. Чтобы оставалась возможность проверить самостоятельно точность расчетов, выведем все необходимые промежуточные результаты расчетов на экран, несмотря на явную избыточность этой информации для клиента."
   ]
  },
  {
   "cell_type": "code",
   "execution_count": 25,
   "id": "c3e23879",
   "metadata": {},
   "outputs": [
    {
     "data": {
      "text/html": [
       "<div>\n",
       "<style scoped>\n",
       "    .dataframe tbody tr th:only-of-type {\n",
       "        vertical-align: middle;\n",
       "    }\n",
       "\n",
       "    .dataframe tbody tr th {\n",
       "        vertical-align: top;\n",
       "    }\n",
       "\n",
       "    .dataframe thead th {\n",
       "        text-align: right;\n",
       "    }\n",
       "</style>\n",
       "<table border=\"1\" class=\"dataframe\">\n",
       "  <thead>\n",
       "    <tr style=\"text-align: right;\">\n",
       "      <th></th>\n",
       "      <th>count</th>\n",
       "      <th>sum</th>\n",
       "      <th>mean</th>\n",
       "    </tr>\n",
       "    <tr>\n",
       "      <th>children</th>\n",
       "      <th></th>\n",
       "      <th></th>\n",
       "      <th></th>\n",
       "    </tr>\n",
       "  </thead>\n",
       "  <tbody>\n",
       "    <tr>\n",
       "      <th>4</th>\n",
       "      <td>41</td>\n",
       "      <td>4</td>\n",
       "      <td>0.097561</td>\n",
       "    </tr>\n",
       "    <tr>\n",
       "      <th>2</th>\n",
       "      <td>2052</td>\n",
       "      <td>194</td>\n",
       "      <td>0.094542</td>\n",
       "    </tr>\n",
       "    <tr>\n",
       "      <th>1</th>\n",
       "      <td>4808</td>\n",
       "      <td>444</td>\n",
       "      <td>0.092346</td>\n",
       "    </tr>\n",
       "    <tr>\n",
       "      <th>3</th>\n",
       "      <td>330</td>\n",
       "      <td>27</td>\n",
       "      <td>0.081818</td>\n",
       "    </tr>\n",
       "    <tr>\n",
       "      <th>0</th>\n",
       "      <td>14091</td>\n",
       "      <td>1063</td>\n",
       "      <td>0.075438</td>\n",
       "    </tr>\n",
       "    <tr>\n",
       "      <th>5</th>\n",
       "      <td>9</td>\n",
       "      <td>0</td>\n",
       "      <td>0.000000</td>\n",
       "    </tr>\n",
       "  </tbody>\n",
       "</table>\n",
       "</div>"
      ],
      "text/plain": [
       "          count   sum      mean\n",
       "children                       \n",
       "4            41     4  0.097561\n",
       "2          2052   194  0.094542\n",
       "1          4808   444  0.092346\n",
       "3           330    27  0.081818\n",
       "0         14091  1063  0.075438\n",
       "5             9     0  0.000000"
      ]
     },
     "execution_count": 25,
     "metadata": {},
     "output_type": "execute_result"
    }
   ],
   "source": [
    "data.groupby('children')['debt'].agg(['count', 'sum', 'mean']).sort_values(by = 'mean', ascending = False)"
   ]
  },
  {
   "cell_type": "markdown",
   "id": "cc27d337",
   "metadata": {
    "deletable": false,
    "id": "3a6b99ec"
   },
   "source": [
    "**Вывод:** "
   ]
  },
  {
   "cell_type": "markdown",
   "id": "13508338",
   "metadata": {},
   "source": [
    "Опишем результат: среди бездетных семей процент просрочки ниже среднего, у семей с 1, 2 и 4 детьми процент просрочки выше среднего, при этом обращает внимание, что у семей с 3 детьми просрочка выше среднего, но сильно ниже, чем у семей с 1, 2 и 4 детьми, а у семей с 5 детьми просрочка отсутсвует.\n",
    "В целом, статистика по России показывает, что рождение детей сказывается на экономическом положении семей негативно, заметно ухудшая их материальное положение. Если взять вышеприведенное утверждение за исходную гипотезу, можем предположить, что наше небольшое исследование гипотезу скорее подтверждает, но с оговорками.\n",
    "Более хорошая статистика по семьям с 3 и 5 детьми может быть связана с влиянием прочих факторов - например с целью кредита. Так, например, могут влиять особенности законодательного регулирования ипотечного кредитования - на ипотечное жилье не распространяется т.н. \"исполнительский иммунитет\", что дополнительно дисциплинирует заемщиков по ипотеке."
   ]
  },
  {
   "cell_type": "markdown",
   "id": "ba515201",
   "metadata": {
    "deletable": false,
    "editable": false,
    "id": "97be82ca"
   },
   "source": [
    "#### 3.2 Есть ли зависимость между семейным положением и возвратом кредита в срок?"
   ]
  },
  {
   "cell_type": "code",
   "execution_count": 26,
   "id": "53f3c993",
   "metadata": {},
   "outputs": [
    {
     "data": {
      "text/html": [
       "<div>\n",
       "<style scoped>\n",
       "    .dataframe tbody tr th:only-of-type {\n",
       "        vertical-align: middle;\n",
       "    }\n",
       "\n",
       "    .dataframe tbody tr th {\n",
       "        vertical-align: top;\n",
       "    }\n",
       "\n",
       "    .dataframe thead th {\n",
       "        text-align: right;\n",
       "    }\n",
       "</style>\n",
       "<table border=\"1\" class=\"dataframe\">\n",
       "  <thead>\n",
       "    <tr style=\"text-align: right;\">\n",
       "      <th></th>\n",
       "      <th>count</th>\n",
       "      <th>sum</th>\n",
       "      <th>mean</th>\n",
       "    </tr>\n",
       "    <tr>\n",
       "      <th>family_status</th>\n",
       "      <th></th>\n",
       "      <th></th>\n",
       "      <th></th>\n",
       "    </tr>\n",
       "  </thead>\n",
       "  <tbody>\n",
       "    <tr>\n",
       "      <th>Не женат / не замужем</th>\n",
       "      <td>2796</td>\n",
       "      <td>273</td>\n",
       "      <td>0.097639</td>\n",
       "    </tr>\n",
       "    <tr>\n",
       "      <th>гражданский брак</th>\n",
       "      <td>4134</td>\n",
       "      <td>385</td>\n",
       "      <td>0.093130</td>\n",
       "    </tr>\n",
       "    <tr>\n",
       "      <th>женат / замужем</th>\n",
       "      <td>12261</td>\n",
       "      <td>927</td>\n",
       "      <td>0.075606</td>\n",
       "    </tr>\n",
       "    <tr>\n",
       "      <th>в разводе</th>\n",
       "      <td>1189</td>\n",
       "      <td>84</td>\n",
       "      <td>0.070648</td>\n",
       "    </tr>\n",
       "    <tr>\n",
       "      <th>вдовец / вдова</th>\n",
       "      <td>951</td>\n",
       "      <td>63</td>\n",
       "      <td>0.066246</td>\n",
       "    </tr>\n",
       "  </tbody>\n",
       "</table>\n",
       "</div>"
      ],
      "text/plain": [
       "                       count  sum      mean\n",
       "family_status                              \n",
       "Не женат / не замужем   2796  273  0.097639\n",
       "гражданский брак        4134  385  0.093130\n",
       "женат / замужем        12261  927  0.075606\n",
       "в разводе               1189   84  0.070648\n",
       "вдовец / вдова           951   63  0.066246"
      ]
     },
     "execution_count": 26,
     "metadata": {},
     "output_type": "execute_result"
    }
   ],
   "source": [
    "data.groupby('family_status')['debt'].agg(['count', 'sum', 'mean'])\\\n",
    "  .sort_values(by = 'mean', ascending = False)"
   ]
  },
  {
   "cell_type": "markdown",
   "id": "2d5c094e",
   "metadata": {
    "deletable": false,
    "id": "1cef7837"
   },
   "source": [
    "**Вывод:** "
   ]
  },
  {
   "cell_type": "markdown",
   "id": "ed314f1c",
   "metadata": {},
   "source": [
    "Вдовцы и вдовы платят максимально аккуратно, также процент просрочки ниже среднего у женатых и разведенных, самые ненадежные заемщики неженатые и в гражданском браке"
   ]
  },
  {
   "cell_type": "markdown",
   "id": "1c3b2f00",
   "metadata": {
    "deletable": false,
    "editable": false,
    "id": "1e8b2fca"
   },
   "source": [
    "#### 3.3 Есть ли зависимость между уровнем дохода и возвратом кредита в срок?"
   ]
  },
  {
   "cell_type": "code",
   "execution_count": 27,
   "id": "009a2f9b",
   "metadata": {
    "deletable": false,
    "id": "cd7e3720"
   },
   "outputs": [
    {
     "data": {
      "text/html": [
       "<div>\n",
       "<style scoped>\n",
       "    .dataframe tbody tr th:only-of-type {\n",
       "        vertical-align: middle;\n",
       "    }\n",
       "\n",
       "    .dataframe tbody tr th {\n",
       "        vertical-align: top;\n",
       "    }\n",
       "\n",
       "    .dataframe thead th {\n",
       "        text-align: right;\n",
       "    }\n",
       "</style>\n",
       "<table border=\"1\" class=\"dataframe\">\n",
       "  <thead>\n",
       "    <tr style=\"text-align: right;\">\n",
       "      <th></th>\n",
       "      <th>count</th>\n",
       "      <th>sum</th>\n",
       "      <th>mean</th>\n",
       "    </tr>\n",
       "    <tr>\n",
       "      <th>total_income_category</th>\n",
       "      <th></th>\n",
       "      <th></th>\n",
       "      <th></th>\n",
       "    </tr>\n",
       "  </thead>\n",
       "  <tbody>\n",
       "    <tr>\n",
       "      <th>E</th>\n",
       "      <td>22</td>\n",
       "      <td>2</td>\n",
       "      <td>0.090909</td>\n",
       "    </tr>\n",
       "    <tr>\n",
       "      <th>C</th>\n",
       "      <td>15921</td>\n",
       "      <td>1353</td>\n",
       "      <td>0.084982</td>\n",
       "    </tr>\n",
       "    <tr>\n",
       "      <th>A</th>\n",
       "      <td>25</td>\n",
       "      <td>2</td>\n",
       "      <td>0.080000</td>\n",
       "    </tr>\n",
       "    <tr>\n",
       "      <th>B</th>\n",
       "      <td>5014</td>\n",
       "      <td>354</td>\n",
       "      <td>0.070602</td>\n",
       "    </tr>\n",
       "    <tr>\n",
       "      <th>D</th>\n",
       "      <td>349</td>\n",
       "      <td>21</td>\n",
       "      <td>0.060172</td>\n",
       "    </tr>\n",
       "  </tbody>\n",
       "</table>\n",
       "</div>"
      ],
      "text/plain": [
       "                       count   sum      mean\n",
       "total_income_category                       \n",
       "E                         22     2  0.090909\n",
       "C                      15921  1353  0.084982\n",
       "A                         25     2  0.080000\n",
       "B                       5014   354  0.070602\n",
       "D                        349    21  0.060172"
      ]
     },
     "execution_count": 27,
     "metadata": {},
     "output_type": "execute_result"
    }
   ],
   "source": [
    "data.groupby('total_income_category')['debt'].agg(['count', 'sum', 'mean'])\\\n",
    "  .sort_values(by = 'mean', ascending = False)"
   ]
  },
  {
   "cell_type": "markdown",
   "id": "29d5a06e",
   "metadata": {
    "deletable": false,
    "id": "e8593def"
   },
   "source": [
    "**Вывод:** "
   ]
  },
  {
   "cell_type": "markdown",
   "id": "a19f9415",
   "metadata": {},
   "source": [
    "Явно лучше всех платит вторая категория D, хуже всех категория E"
   ]
  },
  {
   "cell_type": "markdown",
   "id": "1459c294",
   "metadata": {},
   "source": [
    "Если опираться на две самых больших категории, можно сделать вывод, что повышение категории дохода ведет к снижению просрочки."
   ]
  },
  {
   "cell_type": "markdown",
   "id": "911e3059",
   "metadata": {
    "deletable": false,
    "editable": false,
    "id": "99ecbd1f"
   },
   "source": [
    "#### 3.4 Как разные цели кредита влияют на его возврат в срок?"
   ]
  },
  {
   "cell_type": "code",
   "execution_count": 28,
   "id": "36c32921",
   "metadata": {
    "deletable": false,
    "id": "2b687290"
   },
   "outputs": [
    {
     "data": {
      "text/html": [
       "<div>\n",
       "<style scoped>\n",
       "    .dataframe tbody tr th:only-of-type {\n",
       "        vertical-align: middle;\n",
       "    }\n",
       "\n",
       "    .dataframe tbody tr th {\n",
       "        vertical-align: top;\n",
       "    }\n",
       "\n",
       "    .dataframe thead th {\n",
       "        text-align: right;\n",
       "    }\n",
       "</style>\n",
       "<table border=\"1\" class=\"dataframe\">\n",
       "  <thead>\n",
       "    <tr style=\"text-align: right;\">\n",
       "      <th></th>\n",
       "      <th>count</th>\n",
       "      <th>sum</th>\n",
       "      <th>mean</th>\n",
       "    </tr>\n",
       "    <tr>\n",
       "      <th>purpose_category</th>\n",
       "      <th></th>\n",
       "      <th></th>\n",
       "      <th></th>\n",
       "    </tr>\n",
       "  </thead>\n",
       "  <tbody>\n",
       "    <tr>\n",
       "      <th>операции с автомобилем</th>\n",
       "      <td>4279</td>\n",
       "      <td>400</td>\n",
       "      <td>0.093480</td>\n",
       "    </tr>\n",
       "    <tr>\n",
       "      <th>получение образования</th>\n",
       "      <td>3988</td>\n",
       "      <td>369</td>\n",
       "      <td>0.092528</td>\n",
       "    </tr>\n",
       "    <tr>\n",
       "      <th>проведение свадьбы</th>\n",
       "      <td>2313</td>\n",
       "      <td>183</td>\n",
       "      <td>0.079118</td>\n",
       "    </tr>\n",
       "    <tr>\n",
       "      <th>операции с недвижимостью</th>\n",
       "      <td>10751</td>\n",
       "      <td>780</td>\n",
       "      <td>0.072551</td>\n",
       "    </tr>\n",
       "  </tbody>\n",
       "</table>\n",
       "</div>"
      ],
      "text/plain": [
       "                          count  sum      mean\n",
       "purpose_category                              \n",
       "операции с автомобилем     4279  400  0.093480\n",
       "получение образования      3988  369  0.092528\n",
       "проведение свадьбы         2313  183  0.079118\n",
       "операции с недвижимостью  10751  780  0.072551"
      ]
     },
     "execution_count": 28,
     "metadata": {},
     "output_type": "execute_result"
    }
   ],
   "source": [
    "data.groupby('purpose_category')['debt'].agg(['count', 'sum', 'mean'])\\\n",
    "  .sort_values(by = 'mean', ascending = False)"
   ]
  },
  {
   "cell_type": "markdown",
   "id": "1d7cf545",
   "metadata": {
    "deletable": false,
    "id": "b4bb2ce6"
   },
   "source": [
    "**Вывод:** "
   ]
  },
  {
   "cell_type": "markdown",
   "id": "9327b6e7",
   "metadata": {},
   "source": [
    "Лучше всего с возвратами у кредитов на свадьбу и жилье."
   ]
  },
  {
   "cell_type": "markdown",
   "id": "abad5eba",
   "metadata": {
    "deletable": false,
    "editable": false,
    "id": "6db5255a"
   },
   "source": [
    "### Шаг 4: общий вывод."
   ]
  },
  {
   "cell_type": "markdown",
   "id": "ec621225",
   "metadata": {
    "deletable": false,
    "id": "bad65432"
   },
   "source": [
    "В ходе исследования мы выполнили следующие этапы: предобработка данных, анализ, формулировка выводов.\n",
    "\n",
    "На этапе предобработки были обработаны пропущенные значения, аномальные значения и дубликаты. Пропущенные значения заменены на медианное значение. Аномальные значения обнаружены в столбцах 'days_imployed' в двух категориях заемщиков: безработные и пенсионеры. Поскольку эти данные в расчета не применяются, какие либо замены не производились. Дубликаты были удалены.\n",
    "\n",
    "Кроме того, мы сгруппировали всех заемщиков на пять групп в зависимости от размера дохода, где 'A' максимальная категория заемщика (с максимальным доходом), 'E' в свою очередь минимальное значение - клиенты с минимальным уровнем дохода. Это поможет нам исследовать зависимость вероятность просрочки от уровня дохода.\n",
    "Также цели кредита были приведены к четырем возможным типам. Что также поможет изучить связь целей кредитования с вероятностью просрочки.\n",
    "\n",
    "Анализ данных заключается в изучении влияния следующих факторов на вероятность возникновения просроченной задолженности: 1) семейное положение клиента, 2) количество детей, 3) уровень дохода, 4) цели получения кредита.\n",
    "В качестве методики анализа применили анализ средних значений, а именно, нашли среднее значение вероятности просрочки по всей выборке, далее последовательно сгруппировали всю базу заемщиков по четырем вышеописанным критериям и нашли средние значения для каждой группировки. Результаты опишем ниже.\n",
    "\n",
    "В качестве дальнейших шагов уточнения результатов можем предложить проведение корреляционно - регрессионного анализа, построение многофакторной можели. Применимость предложенных методов требует отдельного изучения.\n",
    "На этапе изучения зависимости просрочки от количества детей заемщика приходим к выводу, что в целом существует взаимосвязь - рождение детей приводит к росту вероятности просрочки и, в целом рост количества детей также ведет дополнительно к росту вероятности просрочки. При этом были проигнорированы частично выпадающие из общей закономерности значения для заемщиков с 3 и с 5 детьми ввиду малого количества наблюдений и малой статистической значимости этих групп.\n",
    "\n",
    "На этапе изучения семейного положения пришли к выводу о том, что наличие зарегистрированного брака (включая развод) также положительно влияют на своевременное погашение кредита, а несемейные клиенты менее дисциплинированны и им свойственен рост вероятности прсрочки.\n",
    "На этапе изучения доходов пришли к выводу, что чем выше доходы клиента, тем выше вероятность своевременного погашения кредита.\n",
    "\n",
    "Относительно целей получения кредита пришли к выводу, что наиболее рискованными являются кредиты на автомобиль и на образование, в свою очередь кредиты на жилье и на свадьбу.\n",
    "\n",
    "Согласно проведенному исследованию семейное положение, количество детей, уровень дохода и цели кредита влияют на наличие просроченной задолженности и могут быть учтены в скоринговой модели в целях снижения просроченной задолженности. При этом следует учесть, что внедрение изменений в модель приведет к изменению и других параметров кредитного портфеля.\n",
    "\n",
    "Отдельно отметим качество исходных данных. Рекомендуем в целях повышения качества данных исключить человеческий фактор в работе с данными - в частности, клиентам предложить заполнять анкету в электронном виде, что позволит избежать возникновения ошибок на этапе ввода данных, также исключить ручную обработку данных сотрудниками банка, и обратить внимание на системы хранения, передачи и обработки данных на предмет возможного возникновения ошибок."
   ]
  }
 ],
 "metadata": {
  "ExecuteTimeLog": [
   {
    "duration": 49,
    "start_time": "2022-09-22T03:19:47.164Z"
   },
   {
    "duration": 435,
    "start_time": "2022-09-22T03:20:01.001Z"
   },
   {
    "duration": 35,
    "start_time": "2022-09-22T03:20:01.439Z"
   },
   {
    "duration": 29,
    "start_time": "2022-09-22T03:20:01.476Z"
   },
   {
    "duration": 22,
    "start_time": "2022-09-22T03:20:01.508Z"
   },
   {
    "duration": 63,
    "start_time": "2022-09-22T03:20:01.532Z"
   },
   {
    "duration": 18,
    "start_time": "2022-09-22T03:20:01.598Z"
   },
   {
    "duration": 55,
    "start_time": "2022-09-22T03:20:01.618Z"
   },
   {
    "duration": 121,
    "start_time": "2022-09-22T03:20:01.675Z"
   },
   {
    "duration": 20,
    "start_time": "2022-09-22T03:20:01.798Z"
   },
   {
    "duration": 9,
    "start_time": "2022-09-22T03:20:01.822Z"
   },
   {
    "duration": 49,
    "start_time": "2022-09-22T03:20:01.832Z"
   },
   {
    "duration": 12,
    "start_time": "2022-09-22T03:20:01.882Z"
   },
   {
    "duration": 10,
    "start_time": "2022-09-22T03:20:01.895Z"
   },
   {
    "duration": 25,
    "start_time": "2022-09-22T03:20:01.906Z"
   },
   {
    "duration": 32,
    "start_time": "2022-09-22T03:20:01.933Z"
   },
   {
    "duration": 18,
    "start_time": "2022-09-22T03:20:01.967Z"
   },
   {
    "duration": 10,
    "start_time": "2022-09-22T03:20:01.987Z"
   },
   {
    "duration": 44,
    "start_time": "2022-09-22T03:20:01.999Z"
   },
   {
    "duration": 35,
    "start_time": "2022-09-22T03:20:02.045Z"
   },
   {
    "duration": 5,
    "start_time": "2022-09-22T03:20:02.082Z"
   },
   {
    "duration": 20,
    "start_time": "2022-09-22T03:20:02.088Z"
   },
   {
    "duration": 41,
    "start_time": "2022-09-22T03:20:02.109Z"
   },
   {
    "duration": 7,
    "start_time": "2022-09-22T03:20:02.152Z"
   },
   {
    "duration": 9,
    "start_time": "2022-09-22T03:20:02.160Z"
   },
   {
    "duration": 8,
    "start_time": "2022-09-22T03:20:02.170Z"
   },
   {
    "duration": 19,
    "start_time": "2022-09-22T03:20:49.003Z"
   },
   {
    "duration": 528,
    "start_time": "2022-09-22T11:10:41.347Z"
   },
   {
    "duration": 20,
    "start_time": "2022-09-22T11:10:41.877Z"
   },
   {
    "duration": 18,
    "start_time": "2022-09-22T11:10:41.898Z"
   },
   {
    "duration": 12,
    "start_time": "2022-09-22T11:10:41.918Z"
   },
   {
    "duration": 41,
    "start_time": "2022-09-22T11:10:41.932Z"
   },
   {
    "duration": 3,
    "start_time": "2022-09-22T11:10:41.974Z"
   },
   {
    "duration": 12,
    "start_time": "2022-09-22T11:10:41.979Z"
   },
   {
    "duration": 5,
    "start_time": "2022-09-22T11:10:41.992Z"
   },
   {
    "duration": 7,
    "start_time": "2022-09-22T11:10:41.998Z"
   },
   {
    "duration": 17,
    "start_time": "2022-09-22T11:10:42.008Z"
   },
   {
    "duration": 30,
    "start_time": "2022-09-22T11:10:42.026Z"
   },
   {
    "duration": 7,
    "start_time": "2022-09-22T11:10:42.058Z"
   },
   {
    "duration": 5,
    "start_time": "2022-09-22T11:10:42.067Z"
   },
   {
    "duration": 13,
    "start_time": "2022-09-22T11:10:42.073Z"
   },
   {
    "duration": 39,
    "start_time": "2022-09-22T11:10:42.087Z"
   },
   {
    "duration": 16,
    "start_time": "2022-09-22T11:10:42.127Z"
   },
   {
    "duration": 4,
    "start_time": "2022-09-22T11:10:42.144Z"
   },
   {
    "duration": 12,
    "start_time": "2022-09-22T11:10:42.149Z"
   },
   {
    "duration": 6,
    "start_time": "2022-09-22T11:10:42.162Z"
   },
   {
    "duration": 4,
    "start_time": "2022-09-22T11:10:42.170Z"
   },
   {
    "duration": 13,
    "start_time": "2022-09-22T11:10:42.175Z"
   },
   {
    "duration": 1406,
    "start_time": "2022-09-22T11:10:42.190Z"
   },
   {
    "duration": 0,
    "start_time": "2022-09-22T11:10:43.597Z"
   },
   {
    "duration": 0,
    "start_time": "2022-09-22T11:10:43.598Z"
   },
   {
    "duration": 0,
    "start_time": "2022-09-22T11:10:43.599Z"
   },
   {
    "duration": 44,
    "start_time": "2022-09-22T14:56:32.635Z"
   },
   {
    "duration": 686,
    "start_time": "2022-09-22T14:56:47.558Z"
   },
   {
    "duration": 23,
    "start_time": "2022-09-22T14:56:48.246Z"
   },
   {
    "duration": 18,
    "start_time": "2022-09-22T14:56:48.270Z"
   },
   {
    "duration": 9,
    "start_time": "2022-09-22T14:56:48.290Z"
   },
   {
    "duration": 36,
    "start_time": "2022-09-22T14:56:48.300Z"
   },
   {
    "duration": 3,
    "start_time": "2022-09-22T14:56:48.338Z"
   },
   {
    "duration": 11,
    "start_time": "2022-09-22T14:56:48.342Z"
   },
   {
    "duration": 5,
    "start_time": "2022-09-22T14:56:48.354Z"
   },
   {
    "duration": 9,
    "start_time": "2022-09-22T14:56:48.360Z"
   },
   {
    "duration": 4,
    "start_time": "2022-09-22T14:56:48.371Z"
   },
   {
    "duration": 57,
    "start_time": "2022-09-22T14:56:48.376Z"
   },
   {
    "duration": 10,
    "start_time": "2022-09-22T14:56:48.435Z"
   },
   {
    "duration": 6,
    "start_time": "2022-09-22T14:56:48.446Z"
   },
   {
    "duration": 18,
    "start_time": "2022-09-22T14:56:48.453Z"
   },
   {
    "duration": 22,
    "start_time": "2022-09-22T14:56:48.473Z"
   },
   {
    "duration": 16,
    "start_time": "2022-09-22T14:56:48.496Z"
   },
   {
    "duration": 21,
    "start_time": "2022-09-22T14:56:48.514Z"
   },
   {
    "duration": 17,
    "start_time": "2022-09-22T14:56:48.537Z"
   },
   {
    "duration": 9,
    "start_time": "2022-09-22T14:56:48.556Z"
   },
   {
    "duration": 4,
    "start_time": "2022-09-22T14:56:48.566Z"
   },
   {
    "duration": 20,
    "start_time": "2022-09-22T14:56:48.571Z"
   },
   {
    "duration": 77,
    "start_time": "2022-09-22T14:56:48.593Z"
   },
   {
    "duration": 0,
    "start_time": "2022-09-22T14:56:48.671Z"
   },
   {
    "duration": 0,
    "start_time": "2022-09-22T14:56:48.672Z"
   },
   {
    "duration": 0,
    "start_time": "2022-09-22T14:56:48.673Z"
   },
   {
    "duration": 24,
    "start_time": "2022-09-22T14:57:31.252Z"
   },
   {
    "duration": 17,
    "start_time": "2022-09-22T14:57:50.998Z"
   },
   {
    "duration": 21,
    "start_time": "2022-09-22T14:58:01.637Z"
   },
   {
    "duration": 18,
    "start_time": "2022-09-22T14:58:21.313Z"
   },
   {
    "duration": 17,
    "start_time": "2022-09-22T14:58:37.552Z"
   },
   {
    "duration": 30,
    "start_time": "2022-09-22T15:02:11.189Z"
   },
   {
    "duration": 18,
    "start_time": "2022-09-22T15:02:38.950Z"
   },
   {
    "duration": 25,
    "start_time": "2022-09-22T15:06:16.281Z"
   },
   {
    "duration": 22,
    "start_time": "2022-09-22T15:19:15.877Z"
   },
   {
    "duration": 493,
    "start_time": "2022-09-22T15:21:08.936Z"
   },
   {
    "duration": 21,
    "start_time": "2022-09-22T15:21:09.430Z"
   },
   {
    "duration": 15,
    "start_time": "2022-09-22T15:21:09.453Z"
   },
   {
    "duration": 10,
    "start_time": "2022-09-22T15:21:09.470Z"
   },
   {
    "duration": 59,
    "start_time": "2022-09-22T15:21:09.483Z"
   },
   {
    "duration": 3,
    "start_time": "2022-09-22T15:21:09.544Z"
   },
   {
    "duration": 10,
    "start_time": "2022-09-22T15:21:09.548Z"
   },
   {
    "duration": 19,
    "start_time": "2022-09-22T15:21:09.559Z"
   },
   {
    "duration": 8,
    "start_time": "2022-09-22T15:21:09.579Z"
   },
   {
    "duration": 4,
    "start_time": "2022-09-22T15:21:09.589Z"
   },
   {
    "duration": 44,
    "start_time": "2022-09-22T15:21:09.594Z"
   },
   {
    "duration": 10,
    "start_time": "2022-09-22T15:21:09.640Z"
   },
   {
    "duration": 3,
    "start_time": "2022-09-22T15:21:09.652Z"
   },
   {
    "duration": 14,
    "start_time": "2022-09-22T15:21:09.657Z"
   },
   {
    "duration": 33,
    "start_time": "2022-09-22T15:21:09.672Z"
   },
   {
    "duration": 32,
    "start_time": "2022-09-22T15:21:09.706Z"
   },
   {
    "duration": 4,
    "start_time": "2022-09-22T15:21:09.739Z"
   },
   {
    "duration": 22,
    "start_time": "2022-09-22T15:21:09.745Z"
   },
   {
    "duration": 11,
    "start_time": "2022-09-22T15:21:09.768Z"
   },
   {
    "duration": 7,
    "start_time": "2022-09-22T15:21:09.780Z"
   },
   {
    "duration": 14,
    "start_time": "2022-09-22T15:21:09.788Z"
   },
   {
    "duration": 37,
    "start_time": "2022-09-22T15:21:09.804Z"
   },
   {
    "duration": 0,
    "start_time": "2022-09-22T15:21:09.842Z"
   },
   {
    "duration": 0,
    "start_time": "2022-09-22T15:21:09.843Z"
   },
   {
    "duration": 0,
    "start_time": "2022-09-22T15:21:09.844Z"
   },
   {
    "duration": 61,
    "start_time": "2022-09-22T15:21:36.596Z"
   },
   {
    "duration": 473,
    "start_time": "2022-09-22T15:22:31.548Z"
   },
   {
    "duration": 23,
    "start_time": "2022-09-22T15:22:32.024Z"
   },
   {
    "duration": 25,
    "start_time": "2022-09-22T15:22:32.049Z"
   },
   {
    "duration": 9,
    "start_time": "2022-09-22T15:22:32.076Z"
   },
   {
    "duration": 40,
    "start_time": "2022-09-22T15:22:32.086Z"
   },
   {
    "duration": 8,
    "start_time": "2022-09-22T15:22:32.127Z"
   },
   {
    "duration": 25,
    "start_time": "2022-09-22T15:22:32.136Z"
   },
   {
    "duration": 16,
    "start_time": "2022-09-22T15:22:32.163Z"
   },
   {
    "duration": 27,
    "start_time": "2022-09-22T15:22:32.181Z"
   },
   {
    "duration": 25,
    "start_time": "2022-09-22T15:22:32.211Z"
   },
   {
    "duration": 51,
    "start_time": "2022-09-22T15:22:32.237Z"
   },
   {
    "duration": 10,
    "start_time": "2022-09-22T15:22:32.290Z"
   },
   {
    "duration": 25,
    "start_time": "2022-09-22T15:22:32.302Z"
   },
   {
    "duration": 31,
    "start_time": "2022-09-22T15:22:32.328Z"
   },
   {
    "duration": 32,
    "start_time": "2022-09-22T15:22:32.361Z"
   },
   {
    "duration": 17,
    "start_time": "2022-09-22T15:22:32.394Z"
   },
   {
    "duration": 3,
    "start_time": "2022-09-22T15:22:32.413Z"
   },
   {
    "duration": 20,
    "start_time": "2022-09-22T15:22:32.418Z"
   },
   {
    "duration": 6,
    "start_time": "2022-09-22T15:22:32.440Z"
   },
   {
    "duration": 17,
    "start_time": "2022-09-22T15:22:32.448Z"
   },
   {
    "duration": 30,
    "start_time": "2022-09-22T15:22:32.467Z"
   },
   {
    "duration": 33,
    "start_time": "2022-09-22T15:22:32.498Z"
   },
   {
    "duration": 7,
    "start_time": "2022-09-22T15:22:32.533Z"
   },
   {
    "duration": 13,
    "start_time": "2022-09-22T15:22:32.542Z"
   },
   {
    "duration": 8,
    "start_time": "2022-09-22T15:22:32.557Z"
   },
   {
    "duration": 447,
    "start_time": "2022-09-22T15:22:53.978Z"
   },
   {
    "duration": 21,
    "start_time": "2022-09-22T15:22:54.427Z"
   },
   {
    "duration": 15,
    "start_time": "2022-09-22T15:22:54.450Z"
   },
   {
    "duration": 9,
    "start_time": "2022-09-22T15:22:54.467Z"
   },
   {
    "duration": 33,
    "start_time": "2022-09-22T15:22:54.478Z"
   },
   {
    "duration": 4,
    "start_time": "2022-09-22T15:22:54.533Z"
   },
   {
    "duration": 15,
    "start_time": "2022-09-22T15:22:54.538Z"
   },
   {
    "duration": 4,
    "start_time": "2022-09-22T15:22:54.554Z"
   },
   {
    "duration": 10,
    "start_time": "2022-09-22T15:22:54.560Z"
   },
   {
    "duration": 5,
    "start_time": "2022-09-22T15:22:54.572Z"
   },
   {
    "duration": 55,
    "start_time": "2022-09-22T15:22:54.579Z"
   },
   {
    "duration": 11,
    "start_time": "2022-09-22T15:22:54.635Z"
   },
   {
    "duration": 4,
    "start_time": "2022-09-22T15:22:54.647Z"
   },
   {
    "duration": 12,
    "start_time": "2022-09-22T15:22:54.652Z"
   },
   {
    "duration": 18,
    "start_time": "2022-09-22T15:22:54.666Z"
   },
   {
    "duration": 17,
    "start_time": "2022-09-22T15:22:54.686Z"
   },
   {
    "duration": 29,
    "start_time": "2022-09-22T15:22:54.704Z"
   },
   {
    "duration": 15,
    "start_time": "2022-09-22T15:22:54.735Z"
   },
   {
    "duration": 6,
    "start_time": "2022-09-22T15:22:54.751Z"
   },
   {
    "duration": 3,
    "start_time": "2022-09-22T15:22:54.758Z"
   },
   {
    "duration": 13,
    "start_time": "2022-09-22T15:22:54.762Z"
   },
   {
    "duration": 29,
    "start_time": "2022-09-22T15:22:54.776Z"
   },
   {
    "duration": 2,
    "start_time": "2022-09-22T15:22:54.806Z"
   },
   {
    "duration": 5,
    "start_time": "2022-09-22T15:22:54.810Z"
   },
   {
    "duration": 17,
    "start_time": "2022-09-22T15:22:54.817Z"
   },
   {
    "duration": 87,
    "start_time": "2022-09-22T15:24:14.327Z"
   },
   {
    "duration": 20,
    "start_time": "2022-09-22T15:24:33.541Z"
   },
   {
    "duration": 24,
    "start_time": "2022-09-22T15:25:57.842Z"
   },
   {
    "duration": 22,
    "start_time": "2022-09-22T15:26:22.126Z"
   },
   {
    "duration": 21,
    "start_time": "2022-09-22T15:27:17.669Z"
   },
   {
    "duration": 424,
    "start_time": "2022-09-22T15:29:12.685Z"
   },
   {
    "duration": 19,
    "start_time": "2022-09-22T15:29:13.111Z"
   },
   {
    "duration": 14,
    "start_time": "2022-09-22T15:29:13.132Z"
   },
   {
    "duration": 9,
    "start_time": "2022-09-22T15:29:13.148Z"
   },
   {
    "duration": 33,
    "start_time": "2022-09-22T15:29:13.159Z"
   },
   {
    "duration": 3,
    "start_time": "2022-09-22T15:29:13.194Z"
   },
   {
    "duration": 36,
    "start_time": "2022-09-22T15:29:13.198Z"
   },
   {
    "duration": 4,
    "start_time": "2022-09-22T15:29:13.236Z"
   },
   {
    "duration": 11,
    "start_time": "2022-09-22T15:29:13.241Z"
   },
   {
    "duration": 4,
    "start_time": "2022-09-22T15:29:13.254Z"
   },
   {
    "duration": 33,
    "start_time": "2022-09-22T15:29:13.259Z"
   },
   {
    "duration": 10,
    "start_time": "2022-09-22T15:29:13.293Z"
   },
   {
    "duration": 28,
    "start_time": "2022-09-22T15:29:13.305Z"
   },
   {
    "duration": 10,
    "start_time": "2022-09-22T15:29:13.335Z"
   },
   {
    "duration": 46,
    "start_time": "2022-09-22T15:29:13.346Z"
   },
   {
    "duration": 22,
    "start_time": "2022-09-22T15:29:13.394Z"
   },
   {
    "duration": 3,
    "start_time": "2022-09-22T15:29:13.418Z"
   },
   {
    "duration": 13,
    "start_time": "2022-09-22T15:29:13.423Z"
   },
   {
    "duration": 5,
    "start_time": "2022-09-22T15:29:13.438Z"
   },
   {
    "duration": 5,
    "start_time": "2022-09-22T15:29:13.444Z"
   },
   {
    "duration": 14,
    "start_time": "2022-09-22T15:29:13.451Z"
   },
   {
    "duration": 26,
    "start_time": "2022-09-22T15:29:13.466Z"
   },
   {
    "duration": 2,
    "start_time": "2022-09-22T15:29:13.494Z"
   },
   {
    "duration": 6,
    "start_time": "2022-09-22T15:29:13.498Z"
   },
   {
    "duration": 9,
    "start_time": "2022-09-22T15:29:13.505Z"
   },
   {
    "duration": 499,
    "start_time": "2022-09-22T15:31:10.832Z"
   },
   {
    "duration": 22,
    "start_time": "2022-09-22T15:31:11.333Z"
   },
   {
    "duration": 17,
    "start_time": "2022-09-22T15:31:11.357Z"
   },
   {
    "duration": 12,
    "start_time": "2022-09-22T15:31:11.376Z"
   },
   {
    "duration": 53,
    "start_time": "2022-09-22T15:31:11.389Z"
   },
   {
    "duration": 4,
    "start_time": "2022-09-22T15:31:11.443Z"
   },
   {
    "duration": 11,
    "start_time": "2022-09-22T15:31:11.448Z"
   },
   {
    "duration": 5,
    "start_time": "2022-09-22T15:31:11.461Z"
   },
   {
    "duration": 8,
    "start_time": "2022-09-22T15:31:11.467Z"
   },
   {
    "duration": 5,
    "start_time": "2022-09-22T15:31:11.477Z"
   },
   {
    "duration": 64,
    "start_time": "2022-09-22T15:31:11.483Z"
   },
   {
    "duration": 11,
    "start_time": "2022-09-22T15:31:11.549Z"
   },
   {
    "duration": 4,
    "start_time": "2022-09-22T15:31:11.562Z"
   },
   {
    "duration": 22,
    "start_time": "2022-09-22T15:31:11.568Z"
   },
   {
    "duration": 33,
    "start_time": "2022-09-22T15:31:11.592Z"
   },
   {
    "duration": 23,
    "start_time": "2022-09-22T15:31:11.627Z"
   },
   {
    "duration": 4,
    "start_time": "2022-09-22T15:31:11.652Z"
   },
   {
    "duration": 16,
    "start_time": "2022-09-22T15:31:11.658Z"
   },
   {
    "duration": 8,
    "start_time": "2022-09-22T15:31:11.675Z"
   },
   {
    "duration": 4,
    "start_time": "2022-09-22T15:31:11.684Z"
   },
   {
    "duration": 16,
    "start_time": "2022-09-22T15:31:11.690Z"
   },
   {
    "duration": 39,
    "start_time": "2022-09-22T15:31:11.708Z"
   },
   {
    "duration": 17,
    "start_time": "2022-09-22T15:31:11.749Z"
   },
   {
    "duration": 3,
    "start_time": "2022-09-22T15:31:11.767Z"
   },
   {
    "duration": 13,
    "start_time": "2022-09-22T15:31:11.772Z"
   },
   {
    "duration": 5,
    "start_time": "2022-09-22T15:31:11.787Z"
   },
   {
    "duration": 5,
    "start_time": "2022-09-22T15:33:39.562Z"
   },
   {
    "duration": 8,
    "start_time": "2022-09-22T15:34:14.629Z"
   },
   {
    "duration": 6,
    "start_time": "2022-09-22T15:38:40.149Z"
   },
   {
    "duration": 6,
    "start_time": "2022-09-22T15:41:40.453Z"
   },
   {
    "duration": 5,
    "start_time": "2022-09-22T15:41:51.949Z"
   },
   {
    "duration": 6,
    "start_time": "2022-09-22T15:43:10.110Z"
   },
   {
    "duration": 461,
    "start_time": "2022-09-22T15:44:29.457Z"
   },
   {
    "duration": 23,
    "start_time": "2022-09-22T15:44:29.920Z"
   },
   {
    "duration": 34,
    "start_time": "2022-09-22T15:44:29.945Z"
   },
   {
    "duration": 17,
    "start_time": "2022-09-22T15:44:29.981Z"
   },
   {
    "duration": 58,
    "start_time": "2022-09-22T15:44:29.999Z"
   },
   {
    "duration": 4,
    "start_time": "2022-09-22T15:44:30.058Z"
   },
   {
    "duration": 34,
    "start_time": "2022-09-22T15:44:30.063Z"
   },
   {
    "duration": 20,
    "start_time": "2022-09-22T15:44:30.099Z"
   },
   {
    "duration": 36,
    "start_time": "2022-09-22T15:44:30.121Z"
   },
   {
    "duration": 34,
    "start_time": "2022-09-22T15:44:30.160Z"
   },
   {
    "duration": 57,
    "start_time": "2022-09-22T15:44:30.195Z"
   },
   {
    "duration": 10,
    "start_time": "2022-09-22T15:44:30.254Z"
   },
   {
    "duration": 23,
    "start_time": "2022-09-22T15:44:30.266Z"
   },
   {
    "duration": 52,
    "start_time": "2022-09-22T15:44:30.291Z"
   },
   {
    "duration": 46,
    "start_time": "2022-09-22T15:44:30.345Z"
   },
   {
    "duration": 16,
    "start_time": "2022-09-22T15:44:30.393Z"
   },
   {
    "duration": 25,
    "start_time": "2022-09-22T15:44:30.411Z"
   },
   {
    "duration": 25,
    "start_time": "2022-09-22T15:44:30.438Z"
   },
   {
    "duration": 40,
    "start_time": "2022-09-22T15:44:30.464Z"
   },
   {
    "duration": 32,
    "start_time": "2022-09-22T15:44:30.506Z"
   },
   {
    "duration": 63,
    "start_time": "2022-09-22T15:44:30.539Z"
   },
   {
    "duration": 62,
    "start_time": "2022-09-22T15:44:30.603Z"
   },
   {
    "duration": 29,
    "start_time": "2022-09-22T15:44:30.666Z"
   },
   {
    "duration": 19,
    "start_time": "2022-09-22T15:44:30.696Z"
   },
   {
    "duration": 31,
    "start_time": "2022-09-22T15:44:30.716Z"
   },
   {
    "duration": 58,
    "start_time": "2022-09-22T15:44:30.749Z"
   },
   {
    "duration": 32,
    "start_time": "2022-09-22T15:44:30.809Z"
   },
   {
    "duration": 4,
    "start_time": "2022-09-22T15:45:23.294Z"
   },
   {
    "duration": 7,
    "start_time": "2022-09-22T15:45:44.480Z"
   },
   {
    "duration": 443,
    "start_time": "2022-09-22T15:48:43.382Z"
   },
   {
    "duration": 21,
    "start_time": "2022-09-22T15:48:43.827Z"
   },
   {
    "duration": 15,
    "start_time": "2022-09-22T15:48:43.850Z"
   },
   {
    "duration": 10,
    "start_time": "2022-09-22T15:48:43.867Z"
   },
   {
    "duration": 55,
    "start_time": "2022-09-22T15:48:43.878Z"
   },
   {
    "duration": 4,
    "start_time": "2022-09-22T15:48:43.935Z"
   },
   {
    "duration": 9,
    "start_time": "2022-09-22T15:48:43.941Z"
   },
   {
    "duration": 4,
    "start_time": "2022-09-22T15:48:43.951Z"
   },
   {
    "duration": 8,
    "start_time": "2022-09-22T15:48:43.956Z"
   },
   {
    "duration": 4,
    "start_time": "2022-09-22T15:48:43.967Z"
   },
   {
    "duration": 35,
    "start_time": "2022-09-22T15:48:43.972Z"
   },
   {
    "duration": 33,
    "start_time": "2022-09-22T15:48:44.008Z"
   },
   {
    "duration": 5,
    "start_time": "2022-09-22T15:48:44.042Z"
   },
   {
    "duration": 13,
    "start_time": "2022-09-22T15:48:44.048Z"
   },
   {
    "duration": 18,
    "start_time": "2022-09-22T15:48:44.063Z"
   },
   {
    "duration": 15,
    "start_time": "2022-09-22T15:48:44.083Z"
   },
   {
    "duration": 3,
    "start_time": "2022-09-22T15:48:44.099Z"
   },
   {
    "duration": 37,
    "start_time": "2022-09-22T15:48:44.103Z"
   },
   {
    "duration": 5,
    "start_time": "2022-09-22T15:48:44.141Z"
   },
   {
    "duration": 7,
    "start_time": "2022-09-22T15:48:44.147Z"
   },
   {
    "duration": 12,
    "start_time": "2022-09-22T15:48:44.156Z"
   },
   {
    "duration": 29,
    "start_time": "2022-09-22T15:48:44.170Z"
   },
   {
    "duration": 5,
    "start_time": "2022-09-22T15:48:44.201Z"
   },
   {
    "duration": 18,
    "start_time": "2022-09-22T15:48:44.207Z"
   },
   {
    "duration": 8,
    "start_time": "2022-09-22T15:48:44.226Z"
   },
   {
    "duration": 5,
    "start_time": "2022-09-22T15:48:44.236Z"
   },
   {
    "duration": 5,
    "start_time": "2022-09-22T15:48:44.242Z"
   },
   {
    "duration": 495,
    "start_time": "2022-09-22T15:50:51.427Z"
   },
   {
    "duration": 21,
    "start_time": "2022-09-22T15:50:51.925Z"
   },
   {
    "duration": 16,
    "start_time": "2022-09-22T15:50:51.948Z"
   },
   {
    "duration": 10,
    "start_time": "2022-09-22T15:50:51.966Z"
   },
   {
    "duration": 33,
    "start_time": "2022-09-22T15:50:51.978Z"
   },
   {
    "duration": 21,
    "start_time": "2022-09-22T15:50:52.013Z"
   },
   {
    "duration": 9,
    "start_time": "2022-09-22T15:50:52.036Z"
   },
   {
    "duration": 4,
    "start_time": "2022-09-22T15:50:52.047Z"
   },
   {
    "duration": 12,
    "start_time": "2022-09-22T15:50:52.052Z"
   },
   {
    "duration": 7,
    "start_time": "2022-09-22T15:50:52.065Z"
   },
   {
    "duration": 35,
    "start_time": "2022-09-22T15:50:52.073Z"
   },
   {
    "duration": 32,
    "start_time": "2022-09-22T15:50:52.109Z"
   },
   {
    "duration": 4,
    "start_time": "2022-09-22T15:50:52.143Z"
   },
   {
    "duration": 20,
    "start_time": "2022-09-22T15:50:52.150Z"
   },
   {
    "duration": 35,
    "start_time": "2022-09-22T15:50:52.172Z"
   },
   {
    "duration": 29,
    "start_time": "2022-09-22T15:50:52.209Z"
   },
   {
    "duration": 3,
    "start_time": "2022-09-22T15:50:52.240Z"
   },
   {
    "duration": 13,
    "start_time": "2022-09-22T15:50:52.245Z"
   },
   {
    "duration": 12,
    "start_time": "2022-09-22T15:50:52.260Z"
   },
   {
    "duration": 11,
    "start_time": "2022-09-22T15:50:52.273Z"
   },
   {
    "duration": 20,
    "start_time": "2022-09-22T15:50:52.286Z"
   },
   {
    "duration": 35,
    "start_time": "2022-09-22T15:50:52.307Z"
   },
   {
    "duration": 6,
    "start_time": "2022-09-22T15:50:52.344Z"
   },
   {
    "duration": 76,
    "start_time": "2022-09-22T15:50:52.351Z"
   },
   {
    "duration": 0,
    "start_time": "2022-09-22T15:50:52.429Z"
   },
   {
    "duration": 0,
    "start_time": "2022-09-22T15:50:52.430Z"
   },
   {
    "duration": 0,
    "start_time": "2022-09-22T15:50:52.432Z"
   },
   {
    "duration": 427,
    "start_time": "2022-09-22T15:54:19.180Z"
   },
   {
    "duration": 22,
    "start_time": "2022-09-22T15:54:19.608Z"
   },
   {
    "duration": 34,
    "start_time": "2022-09-22T15:54:19.632Z"
   },
   {
    "duration": 11,
    "start_time": "2022-09-22T15:54:19.668Z"
   },
   {
    "duration": 43,
    "start_time": "2022-09-22T15:54:19.681Z"
   },
   {
    "duration": 3,
    "start_time": "2022-09-22T15:54:19.726Z"
   },
   {
    "duration": 10,
    "start_time": "2022-09-22T15:54:19.730Z"
   },
   {
    "duration": 4,
    "start_time": "2022-09-22T15:54:19.741Z"
   },
   {
    "duration": 8,
    "start_time": "2022-09-22T15:54:19.746Z"
   },
   {
    "duration": 5,
    "start_time": "2022-09-22T15:54:19.757Z"
   },
   {
    "duration": 46,
    "start_time": "2022-09-22T15:54:19.763Z"
   },
   {
    "duration": 23,
    "start_time": "2022-09-22T15:54:19.811Z"
   },
   {
    "duration": 4,
    "start_time": "2022-09-22T15:54:19.835Z"
   },
   {
    "duration": 24,
    "start_time": "2022-09-22T15:54:19.840Z"
   },
   {
    "duration": 19,
    "start_time": "2022-09-22T15:54:19.866Z"
   },
   {
    "duration": 14,
    "start_time": "2022-09-22T15:54:19.887Z"
   },
   {
    "duration": 3,
    "start_time": "2022-09-22T15:54:19.903Z"
   },
   {
    "duration": 14,
    "start_time": "2022-09-22T15:54:19.907Z"
   },
   {
    "duration": 12,
    "start_time": "2022-09-22T15:54:19.922Z"
   },
   {
    "duration": 3,
    "start_time": "2022-09-22T15:54:19.935Z"
   },
   {
    "duration": 12,
    "start_time": "2022-09-22T15:54:19.939Z"
   },
   {
    "duration": 16,
    "start_time": "2022-09-22T15:54:19.953Z"
   },
   {
    "duration": 4,
    "start_time": "2022-09-22T15:54:19.971Z"
   },
   {
    "duration": 17,
    "start_time": "2022-09-22T15:54:19.976Z"
   },
   {
    "duration": 2,
    "start_time": "2022-09-22T15:54:19.994Z"
   },
   {
    "duration": 8,
    "start_time": "2022-09-22T15:54:19.997Z"
   },
   {
    "duration": 2,
    "start_time": "2022-09-22T15:54:20.033Z"
   },
   {
    "duration": 16,
    "start_time": "2022-09-22T15:56:09.867Z"
   },
   {
    "duration": 65,
    "start_time": "2022-09-22T15:56:35.045Z"
   },
   {
    "duration": 11,
    "start_time": "2022-09-22T15:56:50.047Z"
   },
   {
    "duration": 13,
    "start_time": "2022-09-22T15:58:06.379Z"
   },
   {
    "duration": 11,
    "start_time": "2022-09-22T15:58:16.659Z"
   },
   {
    "duration": 10,
    "start_time": "2022-09-22T15:58:27.948Z"
   },
   {
    "duration": 16,
    "start_time": "2022-09-22T16:01:55.657Z"
   },
   {
    "duration": 13,
    "start_time": "2022-09-22T16:02:23.162Z"
   },
   {
    "duration": 15,
    "start_time": "2022-09-22T16:04:32.228Z"
   },
   {
    "duration": 16,
    "start_time": "2022-09-22T16:04:51.641Z"
   },
   {
    "duration": 16,
    "start_time": "2022-09-22T16:06:20.089Z"
   },
   {
    "duration": 15,
    "start_time": "2022-09-22T16:09:05.046Z"
   },
   {
    "duration": 458,
    "start_time": "2022-09-22T16:09:57.587Z"
   },
   {
    "duration": 27,
    "start_time": "2022-09-22T16:09:58.048Z"
   },
   {
    "duration": 15,
    "start_time": "2022-09-22T16:09:58.076Z"
   },
   {
    "duration": 8,
    "start_time": "2022-09-22T16:09:58.093Z"
   },
   {
    "duration": 64,
    "start_time": "2022-09-22T16:09:58.103Z"
   },
   {
    "duration": 5,
    "start_time": "2022-09-22T16:09:58.169Z"
   },
   {
    "duration": 36,
    "start_time": "2022-09-22T16:09:58.175Z"
   },
   {
    "duration": 18,
    "start_time": "2022-09-22T16:09:58.212Z"
   },
   {
    "duration": 30,
    "start_time": "2022-09-22T16:09:58.231Z"
   },
   {
    "duration": 10,
    "start_time": "2022-09-22T16:09:58.264Z"
   },
   {
    "duration": 43,
    "start_time": "2022-09-22T16:09:58.275Z"
   },
   {
    "duration": 9,
    "start_time": "2022-09-22T16:09:58.319Z"
   },
   {
    "duration": 24,
    "start_time": "2022-09-22T16:09:58.329Z"
   },
   {
    "duration": 25,
    "start_time": "2022-09-22T16:09:58.354Z"
   },
   {
    "duration": 33,
    "start_time": "2022-09-22T16:09:58.380Z"
   },
   {
    "duration": 16,
    "start_time": "2022-09-22T16:09:58.415Z"
   },
   {
    "duration": 22,
    "start_time": "2022-09-22T16:09:58.433Z"
   },
   {
    "duration": 17,
    "start_time": "2022-09-22T16:09:58.456Z"
   },
   {
    "duration": 19,
    "start_time": "2022-09-22T16:09:58.474Z"
   },
   {
    "duration": 26,
    "start_time": "2022-09-22T16:09:58.494Z"
   },
   {
    "duration": 26,
    "start_time": "2022-09-22T16:09:58.521Z"
   },
   {
    "duration": 39,
    "start_time": "2022-09-22T16:09:58.548Z"
   },
   {
    "duration": 12,
    "start_time": "2022-09-22T16:09:58.589Z"
   },
   {
    "duration": 58,
    "start_time": "2022-09-22T16:09:58.603Z"
   },
   {
    "duration": 3,
    "start_time": "2022-09-22T16:09:58.663Z"
   },
   {
    "duration": 30,
    "start_time": "2022-09-22T16:09:58.668Z"
   },
   {
    "duration": 34,
    "start_time": "2022-09-22T16:09:58.700Z"
   },
   {
    "duration": 470,
    "start_time": "2022-09-22T16:18:20.634Z"
   },
   {
    "duration": 20,
    "start_time": "2022-09-22T16:18:21.106Z"
   },
   {
    "duration": 15,
    "start_time": "2022-09-22T16:18:21.128Z"
   },
   {
    "duration": 9,
    "start_time": "2022-09-22T16:18:21.145Z"
   },
   {
    "duration": 34,
    "start_time": "2022-09-22T16:18:21.155Z"
   },
   {
    "duration": 3,
    "start_time": "2022-09-22T16:18:21.191Z"
   },
   {
    "duration": 13,
    "start_time": "2022-09-22T16:18:21.196Z"
   },
   {
    "duration": 24,
    "start_time": "2022-09-22T16:18:21.210Z"
   },
   {
    "duration": 11,
    "start_time": "2022-09-22T16:18:21.235Z"
   },
   {
    "duration": 4,
    "start_time": "2022-09-22T16:18:21.248Z"
   },
   {
    "duration": 31,
    "start_time": "2022-09-22T16:18:21.254Z"
   },
   {
    "duration": 9,
    "start_time": "2022-09-22T16:18:21.286Z"
   },
   {
    "duration": 4,
    "start_time": "2022-09-22T16:18:21.297Z"
   },
   {
    "duration": 33,
    "start_time": "2022-09-22T16:18:21.302Z"
   },
   {
    "duration": 18,
    "start_time": "2022-09-22T16:18:21.337Z"
   },
   {
    "duration": 17,
    "start_time": "2022-09-22T16:18:21.356Z"
   },
   {
    "duration": 4,
    "start_time": "2022-09-22T16:18:21.375Z"
   },
   {
    "duration": 27,
    "start_time": "2022-09-22T16:18:21.381Z"
   },
   {
    "duration": 10,
    "start_time": "2022-09-22T16:18:21.410Z"
   },
   {
    "duration": 3,
    "start_time": "2022-09-22T16:18:21.434Z"
   },
   {
    "duration": 10,
    "start_time": "2022-09-22T16:18:21.439Z"
   },
   {
    "duration": 19,
    "start_time": "2022-09-22T16:18:21.451Z"
   },
   {
    "duration": 5,
    "start_time": "2022-09-22T16:18:21.472Z"
   },
   {
    "duration": 18,
    "start_time": "2022-09-22T16:18:21.479Z"
   },
   {
    "duration": 3,
    "start_time": "2022-09-22T16:18:21.499Z"
   },
   {
    "duration": 4,
    "start_time": "2022-09-22T16:18:21.533Z"
   },
   {
    "duration": 7,
    "start_time": "2022-09-22T16:18:21.539Z"
   },
   {
    "duration": 60,
    "start_time": "2022-09-22T16:30:03.011Z"
   },
   {
    "duration": 461,
    "start_time": "2022-09-22T16:30:09.348Z"
   },
   {
    "duration": 21,
    "start_time": "2022-09-22T16:30:09.811Z"
   },
   {
    "duration": 15,
    "start_time": "2022-09-22T16:30:09.833Z"
   },
   {
    "duration": 23,
    "start_time": "2022-09-22T16:30:09.850Z"
   },
   {
    "duration": 33,
    "start_time": "2022-09-22T16:30:09.875Z"
   },
   {
    "duration": 3,
    "start_time": "2022-09-22T16:30:09.909Z"
   },
   {
    "duration": 21,
    "start_time": "2022-09-22T16:30:09.914Z"
   },
   {
    "duration": 4,
    "start_time": "2022-09-22T16:30:09.937Z"
   },
   {
    "duration": 11,
    "start_time": "2022-09-22T16:30:09.943Z"
   },
   {
    "duration": 13,
    "start_time": "2022-09-22T16:30:09.957Z"
   },
   {
    "duration": 38,
    "start_time": "2022-09-22T16:30:09.971Z"
   },
   {
    "duration": 10,
    "start_time": "2022-09-22T16:30:10.011Z"
   },
   {
    "duration": 13,
    "start_time": "2022-09-22T16:30:10.023Z"
   },
   {
    "duration": 12,
    "start_time": "2022-09-22T16:30:10.038Z"
   },
   {
    "duration": 25,
    "start_time": "2022-09-22T16:30:10.051Z"
   },
   {
    "duration": 16,
    "start_time": "2022-09-22T16:30:10.077Z"
   },
   {
    "duration": 4,
    "start_time": "2022-09-22T16:30:10.095Z"
   },
   {
    "duration": 13,
    "start_time": "2022-09-22T16:30:10.100Z"
   },
   {
    "duration": 24,
    "start_time": "2022-09-22T16:30:10.115Z"
   },
   {
    "duration": 5,
    "start_time": "2022-09-22T16:30:10.140Z"
   },
   {
    "duration": 17,
    "start_time": "2022-09-22T16:30:10.146Z"
   },
   {
    "duration": 40,
    "start_time": "2022-09-22T16:30:10.164Z"
   },
   {
    "duration": 5,
    "start_time": "2022-09-22T16:30:10.206Z"
   },
   {
    "duration": 14,
    "start_time": "2022-09-22T16:30:10.213Z"
   },
   {
    "duration": 60,
    "start_time": "2022-09-22T16:30:10.234Z"
   },
   {
    "duration": 0,
    "start_time": "2022-09-22T16:30:10.296Z"
   },
   {
    "duration": 0,
    "start_time": "2022-09-22T16:30:10.298Z"
   },
   {
    "duration": 0,
    "start_time": "2022-09-22T16:30:10.299Z"
   },
   {
    "duration": 6,
    "start_time": "2022-09-22T16:30:25.485Z"
   },
   {
    "duration": 7,
    "start_time": "2022-09-22T16:30:42.636Z"
   },
   {
    "duration": 10,
    "start_time": "2022-09-22T16:31:29.840Z"
   },
   {
    "duration": 8,
    "start_time": "2022-09-22T16:31:48.489Z"
   },
   {
    "duration": 10,
    "start_time": "2022-09-22T16:32:02.323Z"
   },
   {
    "duration": 12,
    "start_time": "2022-09-22T16:32:43.111Z"
   },
   {
    "duration": 1005,
    "start_time": "2022-09-22T18:34:47.328Z"
   },
   {
    "duration": 26,
    "start_time": "2022-09-22T18:34:48.335Z"
   },
   {
    "duration": 13,
    "start_time": "2022-09-22T18:34:48.363Z"
   },
   {
    "duration": 9,
    "start_time": "2022-09-22T18:34:48.378Z"
   },
   {
    "duration": 55,
    "start_time": "2022-09-22T18:34:48.388Z"
   },
   {
    "duration": 3,
    "start_time": "2022-09-22T18:34:48.444Z"
   },
   {
    "duration": 10,
    "start_time": "2022-09-22T18:34:48.449Z"
   },
   {
    "duration": 4,
    "start_time": "2022-09-22T18:34:48.460Z"
   },
   {
    "duration": 9,
    "start_time": "2022-09-22T18:34:48.466Z"
   },
   {
    "duration": 5,
    "start_time": "2022-09-22T18:34:48.500Z"
   },
   {
    "duration": 48,
    "start_time": "2022-09-22T18:34:48.507Z"
   },
   {
    "duration": 8,
    "start_time": "2022-09-22T18:34:48.556Z"
   },
   {
    "duration": 5,
    "start_time": "2022-09-22T18:34:48.566Z"
   },
   {
    "duration": 37,
    "start_time": "2022-09-22T18:34:48.573Z"
   },
   {
    "duration": 23,
    "start_time": "2022-09-22T18:34:48.612Z"
   },
   {
    "duration": 18,
    "start_time": "2022-09-22T18:34:48.637Z"
   },
   {
    "duration": 5,
    "start_time": "2022-09-22T18:34:48.657Z"
   },
   {
    "duration": 17,
    "start_time": "2022-09-22T18:34:48.663Z"
   },
   {
    "duration": 29,
    "start_time": "2022-09-22T18:34:48.682Z"
   },
   {
    "duration": 5,
    "start_time": "2022-09-22T18:34:48.712Z"
   },
   {
    "duration": 13,
    "start_time": "2022-09-22T18:34:48.719Z"
   },
   {
    "duration": 21,
    "start_time": "2022-09-22T18:34:48.733Z"
   },
   {
    "duration": 5,
    "start_time": "2022-09-22T18:34:48.755Z"
   },
   {
    "duration": 18,
    "start_time": "2022-09-22T18:34:48.761Z"
   },
   {
    "duration": 2,
    "start_time": "2022-09-22T18:34:48.780Z"
   },
   {
    "duration": 19,
    "start_time": "2022-09-22T18:34:48.783Z"
   },
   {
    "duration": 17,
    "start_time": "2022-09-22T18:34:48.803Z"
   },
   {
    "duration": 16,
    "start_time": "2022-09-22T18:38:30.534Z"
   },
   {
    "duration": 14,
    "start_time": "2022-09-22T18:41:37.752Z"
   },
   {
    "duration": 420,
    "start_time": "2022-09-22T18:43:50.033Z"
   },
   {
    "duration": 20,
    "start_time": "2022-09-22T18:43:50.454Z"
   },
   {
    "duration": 15,
    "start_time": "2022-09-22T18:43:50.476Z"
   },
   {
    "duration": 14,
    "start_time": "2022-09-22T18:43:50.492Z"
   },
   {
    "duration": 43,
    "start_time": "2022-09-22T18:43:50.509Z"
   },
   {
    "duration": 4,
    "start_time": "2022-09-22T18:43:50.553Z"
   },
   {
    "duration": 12,
    "start_time": "2022-09-22T18:43:50.559Z"
   },
   {
    "duration": 4,
    "start_time": "2022-09-22T18:43:50.574Z"
   },
   {
    "duration": 32,
    "start_time": "2022-09-22T18:43:50.579Z"
   },
   {
    "duration": 14,
    "start_time": "2022-09-22T18:43:50.612Z"
   },
   {
    "duration": 35,
    "start_time": "2022-09-22T18:43:50.627Z"
   },
   {
    "duration": 8,
    "start_time": "2022-09-22T18:43:50.664Z"
   },
   {
    "duration": 5,
    "start_time": "2022-09-22T18:43:50.673Z"
   },
   {
    "duration": 26,
    "start_time": "2022-09-22T18:43:50.681Z"
   },
   {
    "duration": 38,
    "start_time": "2022-09-22T18:43:50.708Z"
   },
   {
    "duration": 15,
    "start_time": "2022-09-22T18:43:50.747Z"
   },
   {
    "duration": 4,
    "start_time": "2022-09-22T18:43:50.763Z"
   },
   {
    "duration": 14,
    "start_time": "2022-09-22T18:43:50.768Z"
   },
   {
    "duration": 5,
    "start_time": "2022-09-22T18:43:50.784Z"
   },
   {
    "duration": 4,
    "start_time": "2022-09-22T18:43:50.790Z"
   },
   {
    "duration": 13,
    "start_time": "2022-09-22T18:43:50.803Z"
   },
   {
    "duration": 17,
    "start_time": "2022-09-22T18:43:50.818Z"
   },
   {
    "duration": 4,
    "start_time": "2022-09-22T18:43:50.836Z"
   },
   {
    "duration": 12,
    "start_time": "2022-09-22T18:43:50.842Z"
   },
   {
    "duration": 14,
    "start_time": "2022-09-22T18:43:50.855Z"
   },
   {
    "duration": 43,
    "start_time": "2022-09-22T18:43:50.870Z"
   },
   {
    "duration": 20,
    "start_time": "2022-09-22T18:43:50.915Z"
   },
   {
    "duration": 422,
    "start_time": "2022-09-22T18:54:55.234Z"
   },
   {
    "duration": 20,
    "start_time": "2022-09-22T18:54:55.658Z"
   },
   {
    "duration": 12,
    "start_time": "2022-09-22T18:54:55.680Z"
   },
   {
    "duration": 15,
    "start_time": "2022-09-22T18:54:55.694Z"
   },
   {
    "duration": 32,
    "start_time": "2022-09-22T18:54:55.713Z"
   },
   {
    "duration": 3,
    "start_time": "2022-09-22T18:54:55.746Z"
   },
   {
    "duration": 9,
    "start_time": "2022-09-22T18:54:55.751Z"
   },
   {
    "duration": 4,
    "start_time": "2022-09-22T18:54:55.762Z"
   },
   {
    "duration": 8,
    "start_time": "2022-09-22T18:54:55.767Z"
   },
   {
    "duration": 28,
    "start_time": "2022-09-22T18:54:55.778Z"
   },
   {
    "duration": 32,
    "start_time": "2022-09-22T18:54:55.808Z"
   },
   {
    "duration": 8,
    "start_time": "2022-09-22T18:54:55.842Z"
   },
   {
    "duration": 8,
    "start_time": "2022-09-22T18:54:55.851Z"
   },
   {
    "duration": 10,
    "start_time": "2022-09-22T18:54:55.860Z"
   },
   {
    "duration": 44,
    "start_time": "2022-09-22T18:54:55.872Z"
   },
   {
    "duration": 16,
    "start_time": "2022-09-22T18:54:55.917Z"
   },
   {
    "duration": 4,
    "start_time": "2022-09-22T18:54:55.934Z"
   },
   {
    "duration": 11,
    "start_time": "2022-09-22T18:54:55.939Z"
   },
   {
    "duration": 6,
    "start_time": "2022-09-22T18:54:55.952Z"
   },
   {
    "duration": 3,
    "start_time": "2022-09-22T18:54:55.959Z"
   },
   {
    "duration": 9,
    "start_time": "2022-09-22T18:54:55.964Z"
   },
   {
    "duration": 41,
    "start_time": "2022-09-22T18:54:55.975Z"
   },
   {
    "duration": 6,
    "start_time": "2022-09-22T18:54:56.017Z"
   },
   {
    "duration": 17,
    "start_time": "2022-09-22T18:54:56.024Z"
   },
   {
    "duration": 17,
    "start_time": "2022-09-22T18:54:56.043Z"
   },
   {
    "duration": 50,
    "start_time": "2022-09-22T18:54:56.061Z"
   },
   {
    "duration": 18,
    "start_time": "2022-09-22T18:54:56.112Z"
   },
   {
    "duration": 468,
    "start_time": "2022-09-22T19:12:13.420Z"
   },
   {
    "duration": 33,
    "start_time": "2022-09-22T19:12:13.890Z"
   },
   {
    "duration": 16,
    "start_time": "2022-09-22T19:12:13.925Z"
   },
   {
    "duration": 8,
    "start_time": "2022-09-22T19:12:13.944Z"
   },
   {
    "duration": 35,
    "start_time": "2022-09-22T19:12:13.953Z"
   },
   {
    "duration": 3,
    "start_time": "2022-09-22T19:12:13.990Z"
   },
   {
    "duration": 34,
    "start_time": "2022-09-22T19:12:13.994Z"
   },
   {
    "duration": 12,
    "start_time": "2022-09-22T19:12:14.030Z"
   },
   {
    "duration": 14,
    "start_time": "2022-09-22T19:12:14.044Z"
   },
   {
    "duration": 5,
    "start_time": "2022-09-22T19:12:14.061Z"
   },
   {
    "duration": 45,
    "start_time": "2022-09-22T19:12:14.067Z"
   },
   {
    "duration": 12,
    "start_time": "2022-09-22T19:12:14.118Z"
   },
   {
    "duration": 28,
    "start_time": "2022-09-22T19:12:14.132Z"
   },
   {
    "duration": 46,
    "start_time": "2022-09-22T19:12:14.164Z"
   },
   {
    "duration": 30,
    "start_time": "2022-09-22T19:12:14.217Z"
   },
   {
    "duration": 46,
    "start_time": "2022-09-22T19:12:14.248Z"
   },
   {
    "duration": 28,
    "start_time": "2022-09-22T19:12:14.296Z"
   },
   {
    "duration": 22,
    "start_time": "2022-09-22T19:12:14.325Z"
   },
   {
    "duration": 26,
    "start_time": "2022-09-22T19:12:14.349Z"
   },
   {
    "duration": 16,
    "start_time": "2022-09-22T19:12:14.376Z"
   },
   {
    "duration": 44,
    "start_time": "2022-09-22T19:12:14.394Z"
   },
   {
    "duration": 57,
    "start_time": "2022-09-22T19:12:14.440Z"
   },
   {
    "duration": 18,
    "start_time": "2022-09-22T19:12:14.499Z"
   },
   {
    "duration": 41,
    "start_time": "2022-09-22T19:12:14.523Z"
   },
   {
    "duration": 24,
    "start_time": "2022-09-22T19:12:14.566Z"
   },
   {
    "duration": 29,
    "start_time": "2022-09-22T19:12:14.592Z"
   },
   {
    "duration": 28,
    "start_time": "2022-09-22T19:12:14.623Z"
   },
   {
    "duration": 726,
    "start_time": "2022-09-23T07:34:46.986Z"
   },
   {
    "duration": 20,
    "start_time": "2022-09-23T07:34:47.714Z"
   },
   {
    "duration": 14,
    "start_time": "2022-09-23T07:34:47.736Z"
   },
   {
    "duration": 9,
    "start_time": "2022-09-23T07:34:47.751Z"
   },
   {
    "duration": 48,
    "start_time": "2022-09-23T07:34:47.761Z"
   },
   {
    "duration": 4,
    "start_time": "2022-09-23T07:34:47.811Z"
   },
   {
    "duration": 12,
    "start_time": "2022-09-23T07:34:47.817Z"
   },
   {
    "duration": 27,
    "start_time": "2022-09-23T07:34:47.831Z"
   },
   {
    "duration": 11,
    "start_time": "2022-09-23T07:34:47.859Z"
   },
   {
    "duration": 4,
    "start_time": "2022-09-23T07:34:47.872Z"
   },
   {
    "duration": 30,
    "start_time": "2022-09-23T07:34:47.877Z"
   },
   {
    "duration": 10,
    "start_time": "2022-09-23T07:34:47.908Z"
   },
   {
    "duration": 7,
    "start_time": "2022-09-23T07:34:47.919Z"
   },
   {
    "duration": 39,
    "start_time": "2022-09-23T07:34:47.927Z"
   },
   {
    "duration": 21,
    "start_time": "2022-09-23T07:34:47.967Z"
   },
   {
    "duration": 27,
    "start_time": "2022-09-23T07:34:47.989Z"
   },
   {
    "duration": 5,
    "start_time": "2022-09-23T07:34:48.017Z"
   },
   {
    "duration": 26,
    "start_time": "2022-09-23T07:34:48.023Z"
   },
   {
    "duration": 8,
    "start_time": "2022-09-23T07:34:48.051Z"
   },
   {
    "duration": 4,
    "start_time": "2022-09-23T07:34:48.060Z"
   },
   {
    "duration": 13,
    "start_time": "2022-09-23T07:34:48.066Z"
   },
   {
    "duration": 29,
    "start_time": "2022-09-23T07:34:48.081Z"
   },
   {
    "duration": 5,
    "start_time": "2022-09-23T07:34:48.111Z"
   },
   {
    "duration": 15,
    "start_time": "2022-09-23T07:34:48.117Z"
   },
   {
    "duration": 14,
    "start_time": "2022-09-23T07:34:48.133Z"
   },
   {
    "duration": 14,
    "start_time": "2022-09-23T07:34:48.148Z"
   },
   {
    "duration": 15,
    "start_time": "2022-09-23T07:34:48.163Z"
   },
   {
    "duration": 11,
    "start_time": "2022-09-23T07:38:50.867Z"
   },
   {
    "duration": 865,
    "start_time": "2022-09-23T07:43:19.811Z"
   },
   {
    "duration": 728,
    "start_time": "2022-09-23T11:36:50.322Z"
   },
   {
    "duration": 20,
    "start_time": "2022-09-23T11:36:51.052Z"
   },
   {
    "duration": 12,
    "start_time": "2022-09-23T11:36:51.074Z"
   },
   {
    "duration": 16,
    "start_time": "2022-09-23T11:36:51.087Z"
   },
   {
    "duration": 49,
    "start_time": "2022-09-23T11:36:51.104Z"
   },
   {
    "duration": 3,
    "start_time": "2022-09-23T11:36:51.154Z"
   },
   {
    "duration": 11,
    "start_time": "2022-09-23T11:36:51.158Z"
   },
   {
    "duration": 13,
    "start_time": "2022-09-23T11:36:51.170Z"
   },
   {
    "duration": 8,
    "start_time": "2022-09-23T11:36:51.185Z"
   },
   {
    "duration": 9,
    "start_time": "2022-09-23T11:36:51.194Z"
   },
   {
    "duration": 43,
    "start_time": "2022-09-23T11:36:51.204Z"
   },
   {
    "duration": 10,
    "start_time": "2022-09-23T11:36:51.248Z"
   },
   {
    "duration": 6,
    "start_time": "2022-09-23T11:36:51.260Z"
   },
   {
    "duration": 12,
    "start_time": "2022-09-23T11:36:51.269Z"
   },
   {
    "duration": 24,
    "start_time": "2022-09-23T11:36:51.283Z"
   },
   {
    "duration": 26,
    "start_time": "2022-09-23T11:36:51.309Z"
   },
   {
    "duration": 4,
    "start_time": "2022-09-23T11:36:51.336Z"
   },
   {
    "duration": 16,
    "start_time": "2022-09-23T11:36:51.341Z"
   },
   {
    "duration": 14,
    "start_time": "2022-09-23T11:36:51.359Z"
   },
   {
    "duration": 6,
    "start_time": "2022-09-23T11:36:51.374Z"
   },
   {
    "duration": 39,
    "start_time": "2022-09-23T11:36:51.381Z"
   },
   {
    "duration": 28,
    "start_time": "2022-09-23T11:36:51.422Z"
   },
   {
    "duration": 4,
    "start_time": "2022-09-23T11:36:51.452Z"
   },
   {
    "duration": 17,
    "start_time": "2022-09-23T11:36:51.457Z"
   },
   {
    "duration": 10,
    "start_time": "2022-09-23T11:36:51.475Z"
   },
   {
    "duration": 14,
    "start_time": "2022-09-23T11:36:51.486Z"
   },
   {
    "duration": 24,
    "start_time": "2022-09-23T11:36:51.501Z"
   },
   {
    "duration": 20,
    "start_time": "2022-09-23T11:36:51.526Z"
   },
   {
    "duration": 744,
    "start_time": "2022-09-23T11:36:51.547Z"
   },
   {
    "duration": 418,
    "start_time": "2022-09-23T11:42:55.982Z"
   },
   {
    "duration": 74,
    "start_time": "2022-09-23T11:42:56.402Z"
   },
   {
    "duration": 23,
    "start_time": "2022-09-23T11:42:56.478Z"
   },
   {
    "duration": 14,
    "start_time": "2022-09-23T11:42:56.503Z"
   },
   {
    "duration": 10,
    "start_time": "2022-09-23T11:42:56.518Z"
   },
   {
    "duration": 36,
    "start_time": "2022-09-23T11:42:56.529Z"
   },
   {
    "duration": 4,
    "start_time": "2022-09-23T11:42:56.566Z"
   },
   {
    "duration": 11,
    "start_time": "2022-09-23T11:42:56.571Z"
   },
   {
    "duration": 4,
    "start_time": "2022-09-23T11:42:56.583Z"
   },
   {
    "duration": 7,
    "start_time": "2022-09-23T11:42:56.610Z"
   },
   {
    "duration": 5,
    "start_time": "2022-09-23T11:42:56.618Z"
   },
   {
    "duration": 30,
    "start_time": "2022-09-23T11:42:56.624Z"
   },
   {
    "duration": 8,
    "start_time": "2022-09-23T11:42:56.656Z"
   },
   {
    "duration": 3,
    "start_time": "2022-09-23T11:42:56.665Z"
   },
   {
    "duration": 11,
    "start_time": "2022-09-23T11:42:56.669Z"
   },
   {
    "duration": 19,
    "start_time": "2022-09-23T11:42:56.709Z"
   },
   {
    "duration": 16,
    "start_time": "2022-09-23T11:42:56.729Z"
   },
   {
    "duration": 4,
    "start_time": "2022-09-23T11:42:56.746Z"
   },
   {
    "duration": 11,
    "start_time": "2022-09-23T11:42:56.751Z"
   },
   {
    "duration": 7,
    "start_time": "2022-09-23T11:42:56.763Z"
   },
   {
    "duration": 4,
    "start_time": "2022-09-23T11:42:56.771Z"
   },
   {
    "duration": 35,
    "start_time": "2022-09-23T11:42:56.776Z"
   },
   {
    "duration": 16,
    "start_time": "2022-09-23T11:42:56.813Z"
   },
   {
    "duration": 5,
    "start_time": "2022-09-23T11:42:56.830Z"
   },
   {
    "duration": 12,
    "start_time": "2022-09-23T11:42:56.836Z"
   },
   {
    "duration": 9,
    "start_time": "2022-09-23T11:42:56.850Z"
   },
   {
    "duration": 48,
    "start_time": "2022-09-23T11:42:56.861Z"
   },
   {
    "duration": 14,
    "start_time": "2022-09-23T11:42:56.912Z"
   },
   {
    "duration": 15,
    "start_time": "2022-09-23T11:42:56.928Z"
   },
   {
    "duration": 576,
    "start_time": "2022-09-23T11:42:56.945Z"
   },
   {
    "duration": 411,
    "start_time": "2022-09-23T11:44:02.299Z"
   },
   {
    "duration": 69,
    "start_time": "2022-09-23T11:44:02.712Z"
   },
   {
    "duration": 21,
    "start_time": "2022-09-23T11:44:02.783Z"
   },
   {
    "duration": 16,
    "start_time": "2022-09-23T11:44:02.805Z"
   },
   {
    "duration": 10,
    "start_time": "2022-09-23T11:44:02.823Z"
   },
   {
    "duration": 30,
    "start_time": "2022-09-23T11:44:02.835Z"
   },
   {
    "duration": 3,
    "start_time": "2022-09-23T11:44:02.867Z"
   },
   {
    "duration": 14,
    "start_time": "2022-09-23T11:44:02.871Z"
   },
   {
    "duration": 9,
    "start_time": "2022-09-23T11:44:02.887Z"
   },
   {
    "duration": 16,
    "start_time": "2022-09-23T11:44:02.897Z"
   },
   {
    "duration": 15,
    "start_time": "2022-09-23T11:44:02.915Z"
   },
   {
    "duration": 46,
    "start_time": "2022-09-23T11:44:02.931Z"
   },
   {
    "duration": 8,
    "start_time": "2022-09-23T11:44:02.978Z"
   },
   {
    "duration": 26,
    "start_time": "2022-09-23T11:44:02.989Z"
   },
   {
    "duration": 35,
    "start_time": "2022-09-23T11:44:03.016Z"
   },
   {
    "duration": 37,
    "start_time": "2022-09-23T11:44:03.052Z"
   },
   {
    "duration": 16,
    "start_time": "2022-09-23T11:44:03.091Z"
   },
   {
    "duration": 4,
    "start_time": "2022-09-23T11:44:03.108Z"
   },
   {
    "duration": 14,
    "start_time": "2022-09-23T11:44:03.113Z"
   },
   {
    "duration": 5,
    "start_time": "2022-09-23T11:44:03.129Z"
   },
   {
    "duration": 11,
    "start_time": "2022-09-23T11:44:03.135Z"
   },
   {
    "duration": 16,
    "start_time": "2022-09-23T11:44:03.147Z"
   },
   {
    "duration": 16,
    "start_time": "2022-09-23T11:44:03.164Z"
   },
   {
    "duration": 5,
    "start_time": "2022-09-23T11:44:03.182Z"
   },
   {
    "duration": 22,
    "start_time": "2022-09-23T11:44:03.188Z"
   },
   {
    "duration": 9,
    "start_time": "2022-09-23T11:44:03.212Z"
   },
   {
    "duration": 14,
    "start_time": "2022-09-23T11:44:03.223Z"
   },
   {
    "duration": 12,
    "start_time": "2022-09-23T11:44:03.239Z"
   },
   {
    "duration": 14,
    "start_time": "2022-09-23T11:44:03.253Z"
   },
   {
    "duration": 586,
    "start_time": "2022-09-23T11:44:03.269Z"
   },
   {
    "duration": 75,
    "start_time": "2022-09-23T12:06:33.335Z"
   },
   {
    "duration": 10,
    "start_time": "2022-09-23T12:08:01.538Z"
   },
   {
    "duration": 7,
    "start_time": "2022-09-23T12:09:22.146Z"
   },
   {
    "duration": 371,
    "start_time": "2022-09-23T12:10:30.368Z"
   },
   {
    "duration": 72,
    "start_time": "2022-09-23T12:10:30.741Z"
   },
   {
    "duration": 28,
    "start_time": "2022-09-23T12:10:30.815Z"
   },
   {
    "duration": 21,
    "start_time": "2022-09-23T12:10:30.845Z"
   },
   {
    "duration": 17,
    "start_time": "2022-09-23T12:10:30.868Z"
   },
   {
    "duration": 52,
    "start_time": "2022-09-23T12:10:30.887Z"
   },
   {
    "duration": 3,
    "start_time": "2022-09-23T12:10:30.940Z"
   },
   {
    "duration": 28,
    "start_time": "2022-09-23T12:10:30.945Z"
   },
   {
    "duration": 9,
    "start_time": "2022-09-23T12:10:30.975Z"
   },
   {
    "duration": 10,
    "start_time": "2022-09-23T12:10:30.985Z"
   },
   {
    "duration": 4,
    "start_time": "2022-09-23T12:10:30.997Z"
   },
   {
    "duration": 47,
    "start_time": "2022-09-23T12:10:31.002Z"
   },
   {
    "duration": 9,
    "start_time": "2022-09-23T12:10:31.050Z"
   },
   {
    "duration": 7,
    "start_time": "2022-09-23T12:10:31.061Z"
   },
   {
    "duration": 12,
    "start_time": "2022-09-23T12:10:31.070Z"
   },
   {
    "duration": 35,
    "start_time": "2022-09-23T12:10:31.084Z"
   },
   {
    "duration": 23,
    "start_time": "2022-09-23T12:10:31.121Z"
   },
   {
    "duration": 4,
    "start_time": "2022-09-23T12:10:31.145Z"
   },
   {
    "duration": 34,
    "start_time": "2022-09-23T12:10:31.150Z"
   },
   {
    "duration": 12,
    "start_time": "2022-09-23T12:10:31.185Z"
   },
   {
    "duration": 7,
    "start_time": "2022-09-23T12:10:31.198Z"
   },
   {
    "duration": 29,
    "start_time": "2022-09-23T12:10:31.207Z"
   },
   {
    "duration": 34,
    "start_time": "2022-09-23T12:10:31.237Z"
   },
   {
    "duration": 18,
    "start_time": "2022-09-23T12:10:31.273Z"
   },
   {
    "duration": 51,
    "start_time": "2022-09-23T12:10:31.292Z"
   },
   {
    "duration": 11,
    "start_time": "2022-09-23T12:10:31.345Z"
   },
   {
    "duration": 17,
    "start_time": "2022-09-23T12:10:31.358Z"
   },
   {
    "duration": 14,
    "start_time": "2022-09-23T12:10:31.376Z"
   },
   {
    "duration": 44,
    "start_time": "2022-09-23T12:10:31.392Z"
   },
   {
    "duration": 12,
    "start_time": "2022-09-23T12:10:31.437Z"
   },
   {
    "duration": 643,
    "start_time": "2022-09-23T12:10:31.450Z"
   },
   {
    "duration": 79,
    "start_time": "2022-09-23T12:11:10.492Z"
   },
   {
    "duration": 355,
    "start_time": "2022-09-23T12:11:45.733Z"
   },
   {
    "duration": 91,
    "start_time": "2022-09-23T12:11:46.090Z"
   },
   {
    "duration": 22,
    "start_time": "2022-09-23T12:11:46.182Z"
   },
   {
    "duration": 19,
    "start_time": "2022-09-23T12:11:46.205Z"
   },
   {
    "duration": 11,
    "start_time": "2022-09-23T12:11:46.226Z"
   },
   {
    "duration": 34,
    "start_time": "2022-09-23T12:11:46.239Z"
   },
   {
    "duration": 3,
    "start_time": "2022-09-23T12:11:46.276Z"
   },
   {
    "duration": 37,
    "start_time": "2022-09-23T12:11:46.281Z"
   },
   {
    "duration": 6,
    "start_time": "2022-09-23T12:11:46.320Z"
   },
   {
    "duration": 14,
    "start_time": "2022-09-23T12:11:46.328Z"
   },
   {
    "duration": 4,
    "start_time": "2022-09-23T12:11:46.344Z"
   },
   {
    "duration": 30,
    "start_time": "2022-09-23T12:11:46.349Z"
   },
   {
    "duration": 29,
    "start_time": "2022-09-23T12:11:46.380Z"
   },
   {
    "duration": 4,
    "start_time": "2022-09-23T12:11:46.413Z"
   },
   {
    "duration": 17,
    "start_time": "2022-09-23T12:11:46.419Z"
   },
   {
    "duration": 21,
    "start_time": "2022-09-23T12:11:46.438Z"
   },
   {
    "duration": 18,
    "start_time": "2022-09-23T12:11:46.460Z"
   },
   {
    "duration": 3,
    "start_time": "2022-09-23T12:11:46.479Z"
   },
   {
    "duration": 47,
    "start_time": "2022-09-23T12:11:46.484Z"
   },
   {
    "duration": 7,
    "start_time": "2022-09-23T12:11:46.533Z"
   },
   {
    "duration": 4,
    "start_time": "2022-09-23T12:11:46.542Z"
   },
   {
    "duration": 11,
    "start_time": "2022-09-23T12:11:46.547Z"
   },
   {
    "duration": 19,
    "start_time": "2022-09-23T12:11:46.560Z"
   },
   {
    "duration": 5,
    "start_time": "2022-09-23T12:11:46.581Z"
   },
   {
    "duration": 16,
    "start_time": "2022-09-23T12:11:46.610Z"
   },
   {
    "duration": 12,
    "start_time": "2022-09-23T12:11:46.627Z"
   },
   {
    "duration": 17,
    "start_time": "2022-09-23T12:11:46.641Z"
   },
   {
    "duration": 17,
    "start_time": "2022-09-23T12:11:46.659Z"
   },
   {
    "duration": 48,
    "start_time": "2022-09-23T12:11:46.677Z"
   },
   {
    "duration": 6,
    "start_time": "2022-09-23T12:11:46.727Z"
   },
   {
    "duration": 628,
    "start_time": "2022-09-23T12:11:46.735Z"
   },
   {
    "duration": 6,
    "start_time": "2022-09-23T12:15:48.618Z"
   },
   {
    "duration": 419,
    "start_time": "2022-09-23T12:20:45.510Z"
   },
   {
    "duration": 99,
    "start_time": "2022-09-23T12:20:45.931Z"
   },
   {
    "duration": 22,
    "start_time": "2022-09-23T12:20:46.032Z"
   },
   {
    "duration": 15,
    "start_time": "2022-09-23T12:20:46.056Z"
   },
   {
    "duration": 11,
    "start_time": "2022-09-23T12:20:46.072Z"
   },
   {
    "duration": 55,
    "start_time": "2022-09-23T12:20:46.084Z"
   },
   {
    "duration": 3,
    "start_time": "2022-09-23T12:20:46.141Z"
   },
   {
    "duration": 11,
    "start_time": "2022-09-23T12:20:46.145Z"
   },
   {
    "duration": 5,
    "start_time": "2022-09-23T12:20:46.157Z"
   },
   {
    "duration": 14,
    "start_time": "2022-09-23T12:20:46.164Z"
   },
   {
    "duration": 8,
    "start_time": "2022-09-23T12:20:46.180Z"
   },
   {
    "duration": 70,
    "start_time": "2022-09-23T12:20:46.190Z"
   },
   {
    "duration": 11,
    "start_time": "2022-09-23T12:20:46.261Z"
   },
   {
    "duration": 5,
    "start_time": "2022-09-23T12:20:46.274Z"
   },
   {
    "duration": 15,
    "start_time": "2022-09-23T12:20:46.281Z"
   },
   {
    "duration": 32,
    "start_time": "2022-09-23T12:20:46.298Z"
   },
   {
    "duration": 17,
    "start_time": "2022-09-23T12:20:46.332Z"
   },
   {
    "duration": 3,
    "start_time": "2022-09-23T12:20:46.351Z"
   },
   {
    "duration": 15,
    "start_time": "2022-09-23T12:20:46.356Z"
   },
   {
    "duration": 9,
    "start_time": "2022-09-23T12:20:46.373Z"
   },
   {
    "duration": 6,
    "start_time": "2022-09-23T12:20:46.383Z"
   },
   {
    "duration": 58,
    "start_time": "2022-09-23T12:20:46.390Z"
   },
   {
    "duration": 25,
    "start_time": "2022-09-23T12:20:46.450Z"
   },
   {
    "duration": 5,
    "start_time": "2022-09-23T12:20:46.477Z"
   },
   {
    "duration": 16,
    "start_time": "2022-09-23T12:20:46.484Z"
   },
   {
    "duration": 13,
    "start_time": "2022-09-23T12:20:46.502Z"
   },
   {
    "duration": 15,
    "start_time": "2022-09-23T12:20:46.519Z"
   },
   {
    "duration": 21,
    "start_time": "2022-09-23T12:20:46.537Z"
   },
   {
    "duration": 23,
    "start_time": "2022-09-23T12:20:46.560Z"
   },
   {
    "duration": 26,
    "start_time": "2022-09-23T12:20:46.584Z"
   },
   {
    "duration": 611,
    "start_time": "2022-09-23T12:20:46.613Z"
   },
   {
    "duration": 413,
    "start_time": "2022-09-23T12:27:09.287Z"
   },
   {
    "duration": 73,
    "start_time": "2022-09-23T12:27:09.702Z"
   },
   {
    "duration": 21,
    "start_time": "2022-09-23T12:27:09.777Z"
   },
   {
    "duration": 14,
    "start_time": "2022-09-23T12:27:09.800Z"
   },
   {
    "duration": 14,
    "start_time": "2022-09-23T12:27:09.816Z"
   },
   {
    "duration": 34,
    "start_time": "2022-09-23T12:27:09.832Z"
   },
   {
    "duration": 4,
    "start_time": "2022-09-23T12:27:09.868Z"
   },
   {
    "duration": 9,
    "start_time": "2022-09-23T12:27:09.874Z"
   },
   {
    "duration": 35,
    "start_time": "2022-09-23T12:27:09.885Z"
   },
   {
    "duration": 9,
    "start_time": "2022-09-23T12:27:09.926Z"
   },
   {
    "duration": 7,
    "start_time": "2022-09-23T12:27:09.937Z"
   },
   {
    "duration": 71,
    "start_time": "2022-09-23T12:27:09.946Z"
   },
   {
    "duration": 16,
    "start_time": "2022-09-23T12:27:10.018Z"
   },
   {
    "duration": 5,
    "start_time": "2022-09-23T12:27:10.035Z"
   },
   {
    "duration": 23,
    "start_time": "2022-09-23T12:27:10.041Z"
   },
   {
    "duration": 25,
    "start_time": "2022-09-23T12:27:10.066Z"
   },
   {
    "duration": 39,
    "start_time": "2022-09-23T12:27:10.092Z"
   },
   {
    "duration": 3,
    "start_time": "2022-09-23T12:27:10.133Z"
   },
   {
    "duration": 13,
    "start_time": "2022-09-23T12:27:10.137Z"
   },
   {
    "duration": 14,
    "start_time": "2022-09-23T12:27:10.151Z"
   },
   {
    "duration": 6,
    "start_time": "2022-09-23T12:27:10.166Z"
   },
   {
    "duration": 12,
    "start_time": "2022-09-23T12:27:10.174Z"
   },
   {
    "duration": 46,
    "start_time": "2022-09-23T12:27:10.187Z"
   },
   {
    "duration": 4,
    "start_time": "2022-09-23T12:27:10.236Z"
   },
   {
    "duration": 26,
    "start_time": "2022-09-23T12:27:10.242Z"
   },
   {
    "duration": 14,
    "start_time": "2022-09-23T12:27:10.270Z"
   },
   {
    "duration": 35,
    "start_time": "2022-09-23T12:27:10.285Z"
   },
   {
    "duration": 16,
    "start_time": "2022-09-23T12:27:10.324Z"
   },
   {
    "duration": 16,
    "start_time": "2022-09-23T12:27:10.342Z"
   },
   {
    "duration": 5,
    "start_time": "2022-09-23T12:27:10.360Z"
   },
   {
    "duration": 656,
    "start_time": "2022-09-23T12:27:10.367Z"
   },
   {
    "duration": 385,
    "start_time": "2022-09-23T12:29:45.980Z"
   },
   {
    "duration": 81,
    "start_time": "2022-09-23T12:29:46.366Z"
   },
   {
    "duration": 21,
    "start_time": "2022-09-23T12:29:46.449Z"
   },
   {
    "duration": 15,
    "start_time": "2022-09-23T12:29:46.472Z"
   },
   {
    "duration": 42,
    "start_time": "2022-09-23T12:29:46.488Z"
   },
   {
    "duration": 56,
    "start_time": "2022-09-23T12:29:46.532Z"
   },
   {
    "duration": 3,
    "start_time": "2022-09-23T12:29:46.590Z"
   },
   {
    "duration": 9,
    "start_time": "2022-09-23T12:29:46.595Z"
   },
   {
    "duration": 15,
    "start_time": "2022-09-23T12:29:46.605Z"
   },
   {
    "duration": 28,
    "start_time": "2022-09-23T12:29:46.622Z"
   },
   {
    "duration": 5,
    "start_time": "2022-09-23T12:29:46.652Z"
   },
   {
    "duration": 34,
    "start_time": "2022-09-23T12:29:46.658Z"
   },
   {
    "duration": 8,
    "start_time": "2022-09-23T12:29:46.694Z"
   },
   {
    "duration": 7,
    "start_time": "2022-09-23T12:29:46.704Z"
   },
   {
    "duration": 28,
    "start_time": "2022-09-23T12:29:46.723Z"
   },
   {
    "duration": 20,
    "start_time": "2022-09-23T12:29:46.753Z"
   },
   {
    "duration": 16,
    "start_time": "2022-09-23T12:29:46.775Z"
   },
   {
    "duration": 3,
    "start_time": "2022-09-23T12:29:46.792Z"
   },
   {
    "duration": 12,
    "start_time": "2022-09-23T12:29:46.796Z"
   },
   {
    "duration": 38,
    "start_time": "2022-09-23T12:29:46.809Z"
   },
   {
    "duration": 4,
    "start_time": "2022-09-23T12:29:46.848Z"
   },
   {
    "duration": 10,
    "start_time": "2022-09-23T12:29:46.854Z"
   },
   {
    "duration": 16,
    "start_time": "2022-09-23T12:29:46.865Z"
   },
   {
    "duration": 4,
    "start_time": "2022-09-23T12:29:46.883Z"
   },
   {
    "duration": 26,
    "start_time": "2022-09-23T12:29:46.889Z"
   },
   {
    "duration": 11,
    "start_time": "2022-09-23T12:29:46.933Z"
   },
   {
    "duration": 15,
    "start_time": "2022-09-23T12:29:46.946Z"
   },
   {
    "duration": 13,
    "start_time": "2022-09-23T12:29:46.964Z"
   },
   {
    "duration": 14,
    "start_time": "2022-09-23T12:29:46.978Z"
   },
   {
    "duration": 6,
    "start_time": "2022-09-23T12:29:46.993Z"
   },
   {
    "duration": 618,
    "start_time": "2022-09-23T12:29:47.009Z"
   },
   {
    "duration": 397,
    "start_time": "2022-09-23T12:31:46.830Z"
   },
   {
    "duration": 83,
    "start_time": "2022-09-23T12:31:47.232Z"
   },
   {
    "duration": 29,
    "start_time": "2022-09-23T12:31:47.317Z"
   },
   {
    "duration": 14,
    "start_time": "2022-09-23T12:31:47.347Z"
   },
   {
    "duration": 9,
    "start_time": "2022-09-23T12:31:47.362Z"
   },
   {
    "duration": 49,
    "start_time": "2022-09-23T12:31:47.372Z"
   },
   {
    "duration": 11,
    "start_time": "2022-09-23T12:31:47.424Z"
   },
   {
    "duration": 13,
    "start_time": "2022-09-23T12:31:47.438Z"
   },
   {
    "duration": 5,
    "start_time": "2022-09-23T12:31:47.452Z"
   },
   {
    "duration": 9,
    "start_time": "2022-09-23T12:31:47.458Z"
   },
   {
    "duration": 4,
    "start_time": "2022-09-23T12:31:47.468Z"
   },
   {
    "duration": 65,
    "start_time": "2022-09-23T12:31:47.474Z"
   },
   {
    "duration": 9,
    "start_time": "2022-09-23T12:31:47.541Z"
   },
   {
    "duration": 3,
    "start_time": "2022-09-23T12:31:47.553Z"
   },
   {
    "duration": 18,
    "start_time": "2022-09-23T12:31:47.557Z"
   },
   {
    "duration": 20,
    "start_time": "2022-09-23T12:31:47.577Z"
   },
   {
    "duration": 32,
    "start_time": "2022-09-23T12:31:47.599Z"
   },
   {
    "duration": 4,
    "start_time": "2022-09-23T12:31:47.633Z"
   },
   {
    "duration": 18,
    "start_time": "2022-09-23T12:31:47.638Z"
   },
   {
    "duration": 9,
    "start_time": "2022-09-23T12:31:47.658Z"
   },
   {
    "duration": 3,
    "start_time": "2022-09-23T12:31:47.669Z"
   },
   {
    "duration": 10,
    "start_time": "2022-09-23T12:31:47.673Z"
   },
   {
    "duration": 46,
    "start_time": "2022-09-23T12:31:47.684Z"
   },
   {
    "duration": 7,
    "start_time": "2022-09-23T12:31:47.735Z"
   },
   {
    "duration": 16,
    "start_time": "2022-09-23T12:31:47.743Z"
   },
   {
    "duration": 9,
    "start_time": "2022-09-23T12:31:47.761Z"
   },
   {
    "duration": 14,
    "start_time": "2022-09-23T12:31:47.772Z"
   },
   {
    "duration": 49,
    "start_time": "2022-09-23T12:31:47.787Z"
   },
   {
    "duration": 15,
    "start_time": "2022-09-23T12:31:47.839Z"
   },
   {
    "duration": 6,
    "start_time": "2022-09-23T12:31:47.856Z"
   },
   {
    "duration": 628,
    "start_time": "2022-09-23T12:31:47.863Z"
   },
   {
    "duration": 384,
    "start_time": "2022-09-23T12:33:36.052Z"
   },
   {
    "duration": 97,
    "start_time": "2022-09-23T12:33:36.438Z"
   },
   {
    "duration": 65,
    "start_time": "2022-09-23T12:33:36.539Z"
   },
   {
    "duration": 0,
    "start_time": "2022-09-23T12:33:36.607Z"
   },
   {
    "duration": 0,
    "start_time": "2022-09-23T12:33:36.608Z"
   },
   {
    "duration": 0,
    "start_time": "2022-09-23T12:33:36.609Z"
   },
   {
    "duration": 0,
    "start_time": "2022-09-23T12:33:36.609Z"
   },
   {
    "duration": 0,
    "start_time": "2022-09-23T12:33:36.610Z"
   },
   {
    "duration": 0,
    "start_time": "2022-09-23T12:33:36.610Z"
   },
   {
    "duration": 0,
    "start_time": "2022-09-23T12:33:36.611Z"
   },
   {
    "duration": 0,
    "start_time": "2022-09-23T12:33:36.611Z"
   },
   {
    "duration": 0,
    "start_time": "2022-09-23T12:33:36.612Z"
   },
   {
    "duration": 0,
    "start_time": "2022-09-23T12:33:36.612Z"
   },
   {
    "duration": 0,
    "start_time": "2022-09-23T12:33:36.613Z"
   },
   {
    "duration": 0,
    "start_time": "2022-09-23T12:33:36.620Z"
   },
   {
    "duration": 0,
    "start_time": "2022-09-23T12:33:36.621Z"
   },
   {
    "duration": 0,
    "start_time": "2022-09-23T12:33:36.622Z"
   },
   {
    "duration": 0,
    "start_time": "2022-09-23T12:33:36.622Z"
   },
   {
    "duration": 0,
    "start_time": "2022-09-23T12:33:36.622Z"
   },
   {
    "duration": 0,
    "start_time": "2022-09-23T12:33:36.623Z"
   },
   {
    "duration": 0,
    "start_time": "2022-09-23T12:33:36.624Z"
   },
   {
    "duration": 0,
    "start_time": "2022-09-23T12:33:36.625Z"
   },
   {
    "duration": 0,
    "start_time": "2022-09-23T12:33:36.625Z"
   },
   {
    "duration": 0,
    "start_time": "2022-09-23T12:33:36.626Z"
   },
   {
    "duration": 0,
    "start_time": "2022-09-23T12:33:36.627Z"
   },
   {
    "duration": 0,
    "start_time": "2022-09-23T12:33:36.627Z"
   },
   {
    "duration": 0,
    "start_time": "2022-09-23T12:33:36.634Z"
   },
   {
    "duration": 0,
    "start_time": "2022-09-23T12:33:36.635Z"
   },
   {
    "duration": 0,
    "start_time": "2022-09-23T12:33:36.637Z"
   },
   {
    "duration": 0,
    "start_time": "2022-09-23T12:33:36.638Z"
   },
   {
    "duration": 0,
    "start_time": "2022-09-23T12:33:36.639Z"
   },
   {
    "duration": 0,
    "start_time": "2022-09-23T12:33:36.640Z"
   },
   {
    "duration": 394,
    "start_time": "2022-09-23T12:34:28.388Z"
   },
   {
    "duration": 99,
    "start_time": "2022-09-23T12:34:28.784Z"
   },
   {
    "duration": 21,
    "start_time": "2022-09-23T12:34:28.884Z"
   },
   {
    "duration": 30,
    "start_time": "2022-09-23T12:34:28.906Z"
   },
   {
    "duration": 14,
    "start_time": "2022-09-23T12:34:28.939Z"
   },
   {
    "duration": 30,
    "start_time": "2022-09-23T12:34:28.955Z"
   },
   {
    "duration": 4,
    "start_time": "2022-09-23T12:34:28.986Z"
   },
   {
    "duration": 13,
    "start_time": "2022-09-23T12:34:28.991Z"
   },
   {
    "duration": 12,
    "start_time": "2022-09-23T12:34:29.005Z"
   },
   {
    "duration": 32,
    "start_time": "2022-09-23T12:34:29.018Z"
   },
   {
    "duration": 5,
    "start_time": "2022-09-23T12:34:29.051Z"
   },
   {
    "duration": 30,
    "start_time": "2022-09-23T12:34:29.057Z"
   },
   {
    "duration": 8,
    "start_time": "2022-09-23T12:34:29.088Z"
   },
   {
    "duration": 4,
    "start_time": "2022-09-23T12:34:29.098Z"
   },
   {
    "duration": 32,
    "start_time": "2022-09-23T12:34:29.103Z"
   },
   {
    "duration": 22,
    "start_time": "2022-09-23T12:34:29.139Z"
   },
   {
    "duration": 15,
    "start_time": "2022-09-23T12:34:29.162Z"
   },
   {
    "duration": 4,
    "start_time": "2022-09-23T12:34:29.178Z"
   },
   {
    "duration": 14,
    "start_time": "2022-09-23T12:34:29.183Z"
   },
   {
    "duration": 29,
    "start_time": "2022-09-23T12:34:29.198Z"
   },
   {
    "duration": 3,
    "start_time": "2022-09-23T12:34:29.229Z"
   },
   {
    "duration": 13,
    "start_time": "2022-09-23T12:34:29.234Z"
   },
   {
    "duration": 25,
    "start_time": "2022-09-23T12:34:29.249Z"
   },
   {
    "duration": 5,
    "start_time": "2022-09-23T12:34:29.276Z"
   },
   {
    "duration": 13,
    "start_time": "2022-09-23T12:34:29.282Z"
   },
   {
    "duration": 23,
    "start_time": "2022-09-23T12:34:29.320Z"
   },
   {
    "duration": 19,
    "start_time": "2022-09-23T12:34:29.344Z"
   },
   {
    "duration": 14,
    "start_time": "2022-09-23T12:34:29.364Z"
   },
   {
    "duration": 15,
    "start_time": "2022-09-23T12:34:29.380Z"
   },
   {
    "duration": 27,
    "start_time": "2022-09-23T12:34:29.396Z"
   },
   {
    "duration": 636,
    "start_time": "2022-09-23T12:34:29.424Z"
   },
   {
    "duration": 4,
    "start_time": "2022-09-23T12:36:32.689Z"
   },
   {
    "duration": 385,
    "start_time": "2022-09-23T12:36:54.714Z"
   },
   {
    "duration": 71,
    "start_time": "2022-09-23T12:36:55.101Z"
   },
   {
    "duration": 21,
    "start_time": "2022-09-23T12:36:55.174Z"
   },
   {
    "duration": 13,
    "start_time": "2022-09-23T12:36:55.197Z"
   },
   {
    "duration": 8,
    "start_time": "2022-09-23T12:36:55.212Z"
   },
   {
    "duration": 28,
    "start_time": "2022-09-23T12:36:55.221Z"
   },
   {
    "duration": 3,
    "start_time": "2022-09-23T12:36:55.250Z"
   },
   {
    "duration": 9,
    "start_time": "2022-09-23T12:36:55.255Z"
   },
   {
    "duration": 5,
    "start_time": "2022-09-23T12:36:55.265Z"
   },
   {
    "duration": 8,
    "start_time": "2022-09-23T12:36:55.273Z"
   },
   {
    "duration": 30,
    "start_time": "2022-09-23T12:36:55.283Z"
   },
   {
    "duration": 31,
    "start_time": "2022-09-23T12:36:55.315Z"
   },
   {
    "duration": 9,
    "start_time": "2022-09-23T12:36:55.348Z"
   },
   {
    "duration": 5,
    "start_time": "2022-09-23T12:36:55.358Z"
   },
   {
    "duration": 12,
    "start_time": "2022-09-23T12:36:55.364Z"
   },
   {
    "duration": 43,
    "start_time": "2022-09-23T12:36:55.377Z"
   },
   {
    "duration": 15,
    "start_time": "2022-09-23T12:36:55.421Z"
   },
   {
    "duration": 3,
    "start_time": "2022-09-23T12:36:55.438Z"
   },
   {
    "duration": 17,
    "start_time": "2022-09-23T12:36:55.442Z"
   },
   {
    "duration": 9,
    "start_time": "2022-09-23T12:36:55.460Z"
   },
   {
    "duration": 3,
    "start_time": "2022-09-23T12:36:55.470Z"
   },
   {
    "duration": 9,
    "start_time": "2022-09-23T12:36:55.475Z"
   },
   {
    "duration": 32,
    "start_time": "2022-09-23T12:36:55.486Z"
   },
   {
    "duration": 6,
    "start_time": "2022-09-23T12:36:55.519Z"
   },
   {
    "duration": 12,
    "start_time": "2022-09-23T12:36:55.526Z"
   },
   {
    "duration": 11,
    "start_time": "2022-09-23T12:36:55.540Z"
   },
   {
    "duration": 14,
    "start_time": "2022-09-23T12:36:55.552Z"
   },
   {
    "duration": 47,
    "start_time": "2022-09-23T12:36:55.569Z"
   },
   {
    "duration": 14,
    "start_time": "2022-09-23T12:36:55.618Z"
   },
   {
    "duration": 6,
    "start_time": "2022-09-23T12:36:55.634Z"
   },
   {
    "duration": 572,
    "start_time": "2022-09-23T12:36:55.641Z"
   },
   {
    "duration": 394,
    "start_time": "2022-09-23T12:37:43.411Z"
   },
   {
    "duration": 70,
    "start_time": "2022-09-23T12:37:43.807Z"
   },
   {
    "duration": 21,
    "start_time": "2022-09-23T12:37:43.878Z"
   },
   {
    "duration": 16,
    "start_time": "2022-09-23T12:37:43.902Z"
   },
   {
    "duration": 8,
    "start_time": "2022-09-23T12:37:43.920Z"
   },
   {
    "duration": 32,
    "start_time": "2022-09-23T12:37:43.929Z"
   },
   {
    "duration": 3,
    "start_time": "2022-09-23T12:37:43.962Z"
   },
   {
    "duration": 10,
    "start_time": "2022-09-23T12:37:43.966Z"
   },
   {
    "duration": 3,
    "start_time": "2022-09-23T12:37:43.977Z"
   },
   {
    "duration": 25,
    "start_time": "2022-09-23T12:37:43.984Z"
   },
   {
    "duration": 3,
    "start_time": "2022-09-23T12:37:44.011Z"
   },
   {
    "duration": 35,
    "start_time": "2022-09-23T12:37:44.016Z"
   },
   {
    "duration": 8,
    "start_time": "2022-09-23T12:37:44.053Z"
   },
   {
    "duration": 3,
    "start_time": "2022-09-23T12:37:44.063Z"
   },
   {
    "duration": 13,
    "start_time": "2022-09-23T12:37:44.067Z"
   },
   {
    "duration": 38,
    "start_time": "2022-09-23T12:37:44.081Z"
   },
   {
    "duration": 15,
    "start_time": "2022-09-23T12:37:44.121Z"
   },
   {
    "duration": 3,
    "start_time": "2022-09-23T12:37:44.137Z"
   },
   {
    "duration": 10,
    "start_time": "2022-09-23T12:37:44.142Z"
   },
   {
    "duration": 5,
    "start_time": "2022-09-23T12:37:44.153Z"
   },
   {
    "duration": 3,
    "start_time": "2022-09-23T12:37:44.160Z"
   },
   {
    "duration": 11,
    "start_time": "2022-09-23T12:37:44.164Z"
   },
   {
    "duration": 38,
    "start_time": "2022-09-23T12:37:44.176Z"
   },
   {
    "duration": 4,
    "start_time": "2022-09-23T12:37:44.215Z"
   },
   {
    "duration": 14,
    "start_time": "2022-09-23T12:37:44.220Z"
   },
   {
    "duration": 9,
    "start_time": "2022-09-23T12:37:44.235Z"
   },
   {
    "duration": 13,
    "start_time": "2022-09-23T12:37:44.246Z"
   },
   {
    "duration": 13,
    "start_time": "2022-09-23T12:37:44.261Z"
   },
   {
    "duration": 44,
    "start_time": "2022-09-23T12:37:44.276Z"
   },
   {
    "duration": 6,
    "start_time": "2022-09-23T12:37:44.321Z"
   },
   {
    "duration": 599,
    "start_time": "2022-09-23T12:37:44.328Z"
   },
   {
    "duration": 418,
    "start_time": "2022-09-23T13:00:19.661Z"
   },
   {
    "duration": 78,
    "start_time": "2022-09-23T13:00:20.081Z"
   },
   {
    "duration": 24,
    "start_time": "2022-09-23T13:00:20.161Z"
   },
   {
    "duration": 27,
    "start_time": "2022-09-23T13:00:20.187Z"
   },
   {
    "duration": 14,
    "start_time": "2022-09-23T13:00:20.217Z"
   },
   {
    "duration": 48,
    "start_time": "2022-09-23T13:00:20.233Z"
   },
   {
    "duration": 3,
    "start_time": "2022-09-23T13:00:20.283Z"
   },
   {
    "duration": 33,
    "start_time": "2022-09-23T13:00:20.288Z"
   },
   {
    "duration": 13,
    "start_time": "2022-09-23T13:00:20.322Z"
   },
   {
    "duration": 12,
    "start_time": "2022-09-23T13:00:20.336Z"
   },
   {
    "duration": 4,
    "start_time": "2022-09-23T13:00:20.350Z"
   },
   {
    "duration": 32,
    "start_time": "2022-09-23T13:00:20.356Z"
   },
   {
    "duration": 35,
    "start_time": "2022-09-23T13:00:20.390Z"
   },
   {
    "duration": 5,
    "start_time": "2022-09-23T13:00:20.428Z"
   },
   {
    "duration": 17,
    "start_time": "2022-09-23T13:00:20.434Z"
   },
   {
    "duration": 29,
    "start_time": "2022-09-23T13:00:20.453Z"
   },
   {
    "duration": 40,
    "start_time": "2022-09-23T13:00:20.484Z"
   },
   {
    "duration": 4,
    "start_time": "2022-09-23T13:00:20.526Z"
   },
   {
    "duration": 22,
    "start_time": "2022-09-23T13:00:20.532Z"
   },
   {
    "duration": 7,
    "start_time": "2022-09-23T13:00:20.557Z"
   },
   {
    "duration": 8,
    "start_time": "2022-09-23T13:00:20.566Z"
   },
   {
    "duration": 16,
    "start_time": "2022-09-23T13:00:20.575Z"
   },
   {
    "duration": 35,
    "start_time": "2022-09-23T13:00:20.593Z"
   },
   {
    "duration": 12,
    "start_time": "2022-09-23T13:00:20.629Z"
   },
   {
    "duration": 23,
    "start_time": "2022-09-23T13:00:20.642Z"
   },
   {
    "duration": 13,
    "start_time": "2022-09-23T13:00:20.667Z"
   },
   {
    "duration": 33,
    "start_time": "2022-09-23T13:00:20.682Z"
   },
   {
    "duration": 14,
    "start_time": "2022-09-23T13:00:20.716Z"
   },
   {
    "duration": 15,
    "start_time": "2022-09-23T13:00:20.732Z"
   },
   {
    "duration": 15,
    "start_time": "2022-09-23T13:00:20.749Z"
   },
   {
    "duration": 7,
    "start_time": "2022-09-23T13:00:20.766Z"
   },
   {
    "duration": 600,
    "start_time": "2022-09-23T13:00:20.775Z"
   },
   {
    "duration": 384,
    "start_time": "2022-09-23T13:03:22.457Z"
   },
   {
    "duration": 71,
    "start_time": "2022-09-23T13:03:22.843Z"
   },
   {
    "duration": 22,
    "start_time": "2022-09-23T13:03:22.915Z"
   },
   {
    "duration": 13,
    "start_time": "2022-09-23T13:03:22.939Z"
   },
   {
    "duration": 8,
    "start_time": "2022-09-23T13:03:22.954Z"
   },
   {
    "duration": 60,
    "start_time": "2022-09-23T13:03:22.963Z"
   },
   {
    "duration": 3,
    "start_time": "2022-09-23T13:03:23.024Z"
   },
   {
    "duration": 10,
    "start_time": "2022-09-23T13:03:23.028Z"
   },
   {
    "duration": 4,
    "start_time": "2022-09-23T13:03:23.039Z"
   },
   {
    "duration": 7,
    "start_time": "2022-09-23T13:03:23.046Z"
   },
   {
    "duration": 5,
    "start_time": "2022-09-23T13:03:23.055Z"
   },
   {
    "duration": 61,
    "start_time": "2022-09-23T13:03:23.061Z"
   },
   {
    "duration": 10,
    "start_time": "2022-09-23T13:03:23.125Z"
   },
   {
    "duration": 4,
    "start_time": "2022-09-23T13:03:23.136Z"
   },
   {
    "duration": 14,
    "start_time": "2022-09-23T13:03:23.142Z"
   },
   {
    "duration": 34,
    "start_time": "2022-09-23T13:03:23.157Z"
   },
   {
    "duration": 37,
    "start_time": "2022-09-23T13:03:23.193Z"
   },
   {
    "duration": 5,
    "start_time": "2022-09-23T13:03:23.232Z"
   },
   {
    "duration": 17,
    "start_time": "2022-09-23T13:03:23.238Z"
   },
   {
    "duration": 6,
    "start_time": "2022-09-23T13:03:23.257Z"
   },
   {
    "duration": 7,
    "start_time": "2022-09-23T13:03:23.264Z"
   },
   {
    "duration": 9,
    "start_time": "2022-09-23T13:03:23.273Z"
   },
   {
    "duration": 40,
    "start_time": "2022-09-23T13:03:23.284Z"
   },
   {
    "duration": 5,
    "start_time": "2022-09-23T13:03:23.325Z"
   },
   {
    "duration": 12,
    "start_time": "2022-09-23T13:03:23.332Z"
   },
   {
    "duration": 9,
    "start_time": "2022-09-23T13:03:23.346Z"
   },
   {
    "duration": 10,
    "start_time": "2022-09-23T13:03:23.357Z"
   },
   {
    "duration": 43,
    "start_time": "2022-09-23T13:03:23.370Z"
   },
   {
    "duration": 16,
    "start_time": "2022-09-23T13:03:23.414Z"
   },
   {
    "duration": 6,
    "start_time": "2022-09-23T13:03:23.431Z"
   },
   {
    "duration": 13924,
    "start_time": "2022-09-23T13:03:23.439Z"
   },
   {
    "duration": 373,
    "start_time": "2022-09-23T14:49:26.470Z"
   },
   {
    "duration": 297,
    "start_time": "2022-09-23T14:49:26.845Z"
   },
   {
    "duration": 22,
    "start_time": "2022-09-23T14:49:27.144Z"
   },
   {
    "duration": 14,
    "start_time": "2022-09-23T14:49:27.168Z"
   },
   {
    "duration": 11,
    "start_time": "2022-09-23T14:49:27.183Z"
   },
   {
    "duration": 43,
    "start_time": "2022-09-23T14:49:27.196Z"
   },
   {
    "duration": 3,
    "start_time": "2022-09-23T14:49:27.241Z"
   },
   {
    "duration": 15,
    "start_time": "2022-09-23T14:49:27.245Z"
   },
   {
    "duration": 15,
    "start_time": "2022-09-23T14:49:27.261Z"
   },
   {
    "duration": 17,
    "start_time": "2022-09-23T14:49:27.280Z"
   },
   {
    "duration": 12,
    "start_time": "2022-09-23T14:49:27.299Z"
   },
   {
    "duration": 43,
    "start_time": "2022-09-23T14:49:27.312Z"
   },
   {
    "duration": 8,
    "start_time": "2022-09-23T14:49:27.357Z"
   },
   {
    "duration": 12,
    "start_time": "2022-09-23T14:49:27.366Z"
   },
   {
    "duration": 23,
    "start_time": "2022-09-23T14:49:27.380Z"
   },
   {
    "duration": 38,
    "start_time": "2022-09-23T14:49:27.404Z"
   },
   {
    "duration": 18,
    "start_time": "2022-09-23T14:49:27.444Z"
   },
   {
    "duration": 4,
    "start_time": "2022-09-23T14:49:27.463Z"
   },
   {
    "duration": 24,
    "start_time": "2022-09-23T14:49:27.468Z"
   },
   {
    "duration": 11,
    "start_time": "2022-09-23T14:49:27.494Z"
   },
   {
    "duration": 5,
    "start_time": "2022-09-23T14:49:27.506Z"
   },
   {
    "duration": 18,
    "start_time": "2022-09-23T14:49:27.512Z"
   },
   {
    "duration": 18,
    "start_time": "2022-09-23T14:49:27.531Z"
   },
   {
    "duration": 4,
    "start_time": "2022-09-23T14:49:27.551Z"
   },
   {
    "duration": 19,
    "start_time": "2022-09-23T14:49:27.557Z"
   },
   {
    "duration": 13,
    "start_time": "2022-09-23T14:49:27.578Z"
   },
   {
    "duration": 17,
    "start_time": "2022-09-23T14:49:27.592Z"
   },
   {
    "duration": 18,
    "start_time": "2022-09-23T14:49:27.612Z"
   },
   {
    "duration": 22,
    "start_time": "2022-09-23T14:49:27.632Z"
   },
   {
    "duration": 22,
    "start_time": "2022-09-23T14:49:27.655Z"
   },
   {
    "duration": 919,
    "start_time": "2022-09-23T14:49:27.678Z"
   },
   {
    "duration": 13,
    "start_time": "2022-09-23T14:53:55.466Z"
   },
   {
    "duration": 456,
    "start_time": "2022-09-23T14:55:17.496Z"
   },
   {
    "duration": 73,
    "start_time": "2022-09-23T14:55:17.953Z"
   },
   {
    "duration": 22,
    "start_time": "2022-09-23T14:55:18.028Z"
   },
   {
    "duration": 15,
    "start_time": "2022-09-23T14:55:18.052Z"
   },
   {
    "duration": 10,
    "start_time": "2022-09-23T14:55:18.068Z"
   },
   {
    "duration": 54,
    "start_time": "2022-09-23T14:55:18.080Z"
   },
   {
    "duration": 6,
    "start_time": "2022-09-23T14:55:18.136Z"
   },
   {
    "duration": 15,
    "start_time": "2022-09-23T14:55:18.145Z"
   },
   {
    "duration": 4,
    "start_time": "2022-09-23T14:55:18.162Z"
   },
   {
    "duration": 7,
    "start_time": "2022-09-23T14:55:18.168Z"
   },
   {
    "duration": 5,
    "start_time": "2022-09-23T14:55:18.176Z"
   },
   {
    "duration": 67,
    "start_time": "2022-09-23T14:55:18.182Z"
   },
   {
    "duration": 10,
    "start_time": "2022-09-23T14:55:18.251Z"
   },
   {
    "duration": 6,
    "start_time": "2022-09-23T14:55:18.262Z"
   },
   {
    "duration": 19,
    "start_time": "2022-09-23T14:55:18.276Z"
   },
   {
    "duration": 25,
    "start_time": "2022-09-23T14:55:18.297Z"
   },
   {
    "duration": 17,
    "start_time": "2022-09-23T14:55:18.323Z"
   },
   {
    "duration": 3,
    "start_time": "2022-09-23T14:55:18.342Z"
   },
   {
    "duration": 12,
    "start_time": "2022-09-23T14:55:18.346Z"
   },
   {
    "duration": 23,
    "start_time": "2022-09-23T14:55:18.359Z"
   },
   {
    "duration": 26,
    "start_time": "2022-09-23T14:55:18.383Z"
   },
   {
    "duration": 34,
    "start_time": "2022-09-23T14:55:18.410Z"
   },
   {
    "duration": 21,
    "start_time": "2022-09-23T14:55:18.446Z"
   },
   {
    "duration": 5,
    "start_time": "2022-09-23T14:55:18.468Z"
   },
   {
    "duration": 14,
    "start_time": "2022-09-23T14:55:18.475Z"
   },
   {
    "duration": 10,
    "start_time": "2022-09-23T14:55:18.490Z"
   },
   {
    "duration": 26,
    "start_time": "2022-09-23T14:55:18.502Z"
   },
   {
    "duration": 10,
    "start_time": "2022-09-23T14:55:18.531Z"
   },
   {
    "duration": 11,
    "start_time": "2022-09-23T14:55:18.543Z"
   },
   {
    "duration": 11,
    "start_time": "2022-09-23T14:55:18.555Z"
   },
   {
    "duration": 597,
    "start_time": "2022-09-23T14:55:18.568Z"
   },
   {
    "duration": 11,
    "start_time": "2022-09-23T14:56:21.621Z"
   },
   {
    "duration": 12,
    "start_time": "2022-09-23T14:56:27.050Z"
   },
   {
    "duration": 11,
    "start_time": "2022-09-23T14:56:35.056Z"
   },
   {
    "duration": 12,
    "start_time": "2022-09-23T14:56:54.294Z"
   },
   {
    "duration": 5,
    "start_time": "2022-09-23T15:01:56.474Z"
   },
   {
    "duration": 80,
    "start_time": "2022-09-23T15:02:42.417Z"
   },
   {
    "duration": 5,
    "start_time": "2022-09-23T15:03:00.178Z"
   },
   {
    "duration": 383,
    "start_time": "2022-09-23T15:49:08.026Z"
   },
   {
    "duration": 72,
    "start_time": "2022-09-23T15:49:08.411Z"
   },
   {
    "duration": 20,
    "start_time": "2022-09-23T15:49:08.485Z"
   },
   {
    "duration": 13,
    "start_time": "2022-09-23T15:49:08.507Z"
   },
   {
    "duration": 9,
    "start_time": "2022-09-23T15:49:08.522Z"
   },
   {
    "duration": 40,
    "start_time": "2022-09-23T15:49:08.532Z"
   },
   {
    "duration": 3,
    "start_time": "2022-09-23T15:49:08.574Z"
   },
   {
    "duration": 13,
    "start_time": "2022-09-23T15:49:08.578Z"
   },
   {
    "duration": 5,
    "start_time": "2022-09-23T15:49:08.592Z"
   },
   {
    "duration": 13,
    "start_time": "2022-09-23T15:49:08.598Z"
   },
   {
    "duration": 4,
    "start_time": "2022-09-23T15:49:08.613Z"
   },
   {
    "duration": 34,
    "start_time": "2022-09-23T15:49:08.618Z"
   },
   {
    "duration": 9,
    "start_time": "2022-09-23T15:49:08.654Z"
   },
   {
    "duration": 9,
    "start_time": "2022-09-23T15:49:08.665Z"
   },
   {
    "duration": 15,
    "start_time": "2022-09-23T15:49:08.675Z"
   },
   {
    "duration": 19,
    "start_time": "2022-09-23T15:49:08.709Z"
   },
   {
    "duration": 16,
    "start_time": "2022-09-23T15:49:08.730Z"
   },
   {
    "duration": 4,
    "start_time": "2022-09-23T15:49:08.747Z"
   },
   {
    "duration": 11,
    "start_time": "2022-09-23T15:49:08.752Z"
   },
   {
    "duration": 5,
    "start_time": "2022-09-23T15:49:08.765Z"
   },
   {
    "duration": 7,
    "start_time": "2022-09-23T15:49:08.771Z"
   },
   {
    "duration": 34,
    "start_time": "2022-09-23T15:49:08.780Z"
   },
   {
    "duration": 19,
    "start_time": "2022-09-23T15:49:08.816Z"
   },
   {
    "duration": 5,
    "start_time": "2022-09-23T15:49:08.837Z"
   },
   {
    "duration": 13,
    "start_time": "2022-09-23T15:49:08.844Z"
   },
   {
    "duration": 10,
    "start_time": "2022-09-23T15:49:08.858Z"
   },
   {
    "duration": 40,
    "start_time": "2022-09-23T15:49:08.870Z"
   },
   {
    "duration": 14,
    "start_time": "2022-09-23T15:49:08.912Z"
   },
   {
    "duration": 13,
    "start_time": "2022-09-23T15:49:08.928Z"
   },
   {
    "duration": 6,
    "start_time": "2022-09-23T15:49:08.942Z"
   },
   {
    "duration": 606,
    "start_time": "2022-09-23T15:49:08.949Z"
   },
   {
    "duration": 409,
    "start_time": "2022-09-23T15:49:42.238Z"
   },
   {
    "duration": 84,
    "start_time": "2022-09-23T15:49:42.649Z"
   },
   {
    "duration": 29,
    "start_time": "2022-09-23T15:49:42.735Z"
   },
   {
    "duration": 17,
    "start_time": "2022-09-23T15:49:42.767Z"
   },
   {
    "duration": 22,
    "start_time": "2022-09-23T15:49:42.787Z"
   },
   {
    "duration": 31,
    "start_time": "2022-09-23T15:49:42.811Z"
   },
   {
    "duration": 3,
    "start_time": "2022-09-23T15:49:42.844Z"
   },
   {
    "duration": 9,
    "start_time": "2022-09-23T15:49:42.849Z"
   },
   {
    "duration": 5,
    "start_time": "2022-09-23T15:49:42.860Z"
   },
   {
    "duration": 9,
    "start_time": "2022-09-23T15:49:42.866Z"
   },
   {
    "duration": 4,
    "start_time": "2022-09-23T15:49:42.877Z"
   },
   {
    "duration": 31,
    "start_time": "2022-09-23T15:49:42.912Z"
   },
   {
    "duration": 8,
    "start_time": "2022-09-23T15:49:42.944Z"
   },
   {
    "duration": 3,
    "start_time": "2022-09-23T15:49:42.956Z"
   },
   {
    "duration": 15,
    "start_time": "2022-09-23T15:49:42.960Z"
   },
   {
    "duration": 35,
    "start_time": "2022-09-23T15:49:42.976Z"
   },
   {
    "duration": 17,
    "start_time": "2022-09-23T15:49:43.012Z"
   },
   {
    "duration": 3,
    "start_time": "2022-09-23T15:49:43.031Z"
   },
   {
    "duration": 19,
    "start_time": "2022-09-23T15:49:43.036Z"
   },
   {
    "duration": 6,
    "start_time": "2022-09-23T15:49:43.057Z"
   },
   {
    "duration": 4,
    "start_time": "2022-09-23T15:49:43.064Z"
   },
   {
    "duration": 9,
    "start_time": "2022-09-23T15:49:43.070Z"
   },
   {
    "duration": 37,
    "start_time": "2022-09-23T15:49:43.081Z"
   },
   {
    "duration": 4,
    "start_time": "2022-09-23T15:49:43.120Z"
   },
   {
    "duration": 12,
    "start_time": "2022-09-23T15:49:43.125Z"
   },
   {
    "duration": 10,
    "start_time": "2022-09-23T15:49:43.139Z"
   },
   {
    "duration": 12,
    "start_time": "2022-09-23T15:49:43.150Z"
   },
   {
    "duration": 11,
    "start_time": "2022-09-23T15:49:43.163Z"
   },
   {
    "duration": 45,
    "start_time": "2022-09-23T15:49:43.175Z"
   },
   {
    "duration": 6,
    "start_time": "2022-09-23T15:49:43.222Z"
   },
   {
    "duration": 601,
    "start_time": "2022-09-23T15:49:43.230Z"
   },
   {
    "duration": 399,
    "start_time": "2022-09-23T15:50:43.106Z"
   },
   {
    "duration": 73,
    "start_time": "2022-09-23T15:50:43.509Z"
   },
   {
    "duration": 21,
    "start_time": "2022-09-23T15:50:43.586Z"
   },
   {
    "duration": 14,
    "start_time": "2022-09-23T15:50:43.608Z"
   },
   {
    "duration": 18,
    "start_time": "2022-09-23T15:50:43.623Z"
   },
   {
    "duration": 38,
    "start_time": "2022-09-23T15:50:43.642Z"
   },
   {
    "duration": 3,
    "start_time": "2022-09-23T15:50:43.681Z"
   },
   {
    "duration": 11,
    "start_time": "2022-09-23T15:50:43.686Z"
   },
   {
    "duration": 17,
    "start_time": "2022-09-23T15:50:43.699Z"
   },
   {
    "duration": 18,
    "start_time": "2022-09-23T15:50:43.718Z"
   },
   {
    "duration": 45,
    "start_time": "2022-09-23T15:50:43.738Z"
   },
   {
    "duration": 33,
    "start_time": "2022-09-23T15:50:43.784Z"
   },
   {
    "duration": 10,
    "start_time": "2022-09-23T15:50:43.819Z"
   },
   {
    "duration": 11,
    "start_time": "2022-09-23T15:50:43.830Z"
   },
   {
    "duration": 26,
    "start_time": "2022-09-23T15:50:43.843Z"
   },
   {
    "duration": 63,
    "start_time": "2022-09-23T15:50:43.871Z"
   },
   {
    "duration": 17,
    "start_time": "2022-09-23T15:50:43.936Z"
   },
   {
    "duration": 3,
    "start_time": "2022-09-23T15:50:43.955Z"
   },
   {
    "duration": 11,
    "start_time": "2022-09-23T15:50:43.959Z"
   },
   {
    "duration": 6,
    "start_time": "2022-09-23T15:50:43.972Z"
   },
   {
    "duration": 11,
    "start_time": "2022-09-23T15:50:43.979Z"
   },
   {
    "duration": 21,
    "start_time": "2022-09-23T15:50:43.992Z"
   },
   {
    "duration": 24,
    "start_time": "2022-09-23T15:50:44.014Z"
   },
   {
    "duration": 3,
    "start_time": "2022-09-23T15:50:44.040Z"
   },
   {
    "duration": 16,
    "start_time": "2022-09-23T15:50:44.044Z"
   },
   {
    "duration": 9,
    "start_time": "2022-09-23T15:50:44.062Z"
   },
   {
    "duration": 15,
    "start_time": "2022-09-23T15:50:44.074Z"
   },
   {
    "duration": 27,
    "start_time": "2022-09-23T15:50:44.091Z"
   },
   {
    "duration": 18,
    "start_time": "2022-09-23T15:50:44.120Z"
   },
   {
    "duration": 6,
    "start_time": "2022-09-23T15:50:44.139Z"
   },
   {
    "duration": 625,
    "start_time": "2022-09-23T15:50:44.146Z"
   },
   {
    "duration": 369,
    "start_time": "2022-09-23T19:27:04.070Z"
   },
   {
    "duration": 284,
    "start_time": "2022-09-23T19:27:04.441Z"
   },
   {
    "duration": 21,
    "start_time": "2022-09-23T19:27:04.727Z"
   },
   {
    "duration": 14,
    "start_time": "2022-09-23T19:27:04.749Z"
   },
   {
    "duration": 9,
    "start_time": "2022-09-23T19:27:04.764Z"
   },
   {
    "duration": 39,
    "start_time": "2022-09-23T19:27:04.774Z"
   },
   {
    "duration": 3,
    "start_time": "2022-09-23T19:27:04.814Z"
   },
   {
    "duration": 11,
    "start_time": "2022-09-23T19:27:04.819Z"
   },
   {
    "duration": 16,
    "start_time": "2022-09-23T19:27:04.831Z"
   },
   {
    "duration": 9,
    "start_time": "2022-09-23T19:27:04.850Z"
   },
   {
    "duration": 4,
    "start_time": "2022-09-23T19:27:04.861Z"
   },
   {
    "duration": 44,
    "start_time": "2022-09-23T19:27:04.866Z"
   },
   {
    "duration": 9,
    "start_time": "2022-09-23T19:27:04.912Z"
   },
   {
    "duration": 14,
    "start_time": "2022-09-23T19:27:04.922Z"
   },
   {
    "duration": 24,
    "start_time": "2022-09-23T19:27:04.938Z"
   },
   {
    "duration": 23,
    "start_time": "2022-09-23T19:27:04.963Z"
   },
   {
    "duration": 19,
    "start_time": "2022-09-23T19:27:04.988Z"
   },
   {
    "duration": 3,
    "start_time": "2022-09-23T19:27:05.009Z"
   },
   {
    "duration": 15,
    "start_time": "2022-09-23T19:27:05.013Z"
   },
   {
    "duration": 21,
    "start_time": "2022-09-23T19:27:05.029Z"
   },
   {
    "duration": 8,
    "start_time": "2022-09-23T19:27:05.052Z"
   },
   {
    "duration": 23,
    "start_time": "2022-09-23T19:27:05.061Z"
   },
   {
    "duration": 26,
    "start_time": "2022-09-23T19:27:05.085Z"
   },
   {
    "duration": 16,
    "start_time": "2022-09-23T19:27:05.112Z"
   },
   {
    "duration": 32,
    "start_time": "2022-09-23T19:27:05.129Z"
   },
   {
    "duration": 10,
    "start_time": "2022-09-23T19:27:05.162Z"
   },
   {
    "duration": 14,
    "start_time": "2022-09-23T19:27:05.173Z"
   },
   {
    "duration": 20,
    "start_time": "2022-09-23T19:27:05.190Z"
   },
   {
    "duration": 17,
    "start_time": "2022-09-23T19:27:05.212Z"
   },
   {
    "duration": 17,
    "start_time": "2022-09-23T19:27:05.230Z"
   },
   {
    "duration": 845,
    "start_time": "2022-09-23T19:27:05.248Z"
   },
   {
    "duration": 47,
    "start_time": "2022-09-23T19:33:37.348Z"
   }
  ],
  "celltoolbar": "Tags",
  "colab": {
   "name": "dpp_template_part2.ipynb",
   "provenance": []
  },
  "kernelspec": {
   "display_name": "Python 3 (ipykernel)",
   "language": "python",
   "name": "python3"
  },
  "language_info": {
   "codemirror_mode": {
    "name": "ipython",
    "version": 3
   },
   "file_extension": ".py",
   "mimetype": "text/x-python",
   "name": "python",
   "nbconvert_exporter": "python",
   "pygments_lexer": "ipython3",
   "version": "3.9.12"
  },
  "toc": {
   "base_numbering": 1,
   "nav_menu": {},
   "number_sections": true,
   "sideBar": true,
   "skip_h1_title": true,
   "title_cell": "Table of Contents",
   "title_sidebar": "Contents",
   "toc_cell": false,
   "toc_position": {},
   "toc_section_display": true,
   "toc_window_display": false
  }
 },
 "nbformat": 4,
 "nbformat_minor": 5
}
