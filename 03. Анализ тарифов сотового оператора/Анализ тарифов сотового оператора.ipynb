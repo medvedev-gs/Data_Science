{
 "cells": [
  {
   "cell_type": "markdown",
   "metadata": {},
   "source": [
    "# Анализ тарифов"
   ]
  },
  {
   "cell_type": "markdown",
   "metadata": {},
   "source": [
    "## Описание:"
   ]
  },
  {
   "cell_type": "markdown",
   "metadata": {},
   "source": [
    "Клиентам предлагают два тарифных плана: «Смарт» и «Ультра». Чтобы скорректировать рекламный бюджет, коммерческий департамент хочет понять, какой тариф приносит больше денег.\n",
    "\n",
    "Сделаем предварительный анализ тарифов на небольшой выборке клиентов. В нашем распоряжении данные 500 пользователей «Мегалайна»: кто они, откуда, каким тарифом пользуются, сколько звонков и сообщений каждый отправил за 2018-й год. Проанализируем поведение клиентов и сделаем вывод — какой тариф лучше.\n",
    "\n",
    "Описание тарифов:\n",
    "\n",
    "Тариф «Смарт»\n",
    "Ежемесячная плата: 550 рублей\n",
    "Включено 500 минут разговора, 50 сообщений и 15 Гб интернет-трафика\n",
    "Стоимость услуг сверх тарифного пакета: \n",
    "Минута разговора — 3 рубля. Количество использованных минут и мегабайтов «Мегалайн» всегда округляет вверх. Если пользователь проговорил всего 1 секунду, в тарифе засчитывается целая минута.\n",
    "Сообщение — 3 рубля.\n",
    "1 Гб интернет-трафика — 200 рублей.\n",
    "\n",
    "Тариф «Ультра»\n",
    "Ежемесячная плата: 1950 рублей\n",
    "Включено 3000 минут разговора, 1000 сообщений и 30 Гб интернет-трафика\n",
    "Стоимость услуг сверх тарифного пакета: \n",
    "Минута разговора — 1 рубль;\n",
    "Сообщение — 1 рубль;\n",
    "1 Гб интернет-трафика: 150 рублей."
   ]
  },
  {
   "cell_type": "markdown",
   "metadata": {},
   "source": [
    "## Импорт"
   ]
  },
  {
   "cell_type": "code",
   "execution_count": 1,
   "metadata": {
    "deletable": false
   },
   "outputs": [],
   "source": [
    "import numpy as np\n",
    "import pandas as pd\n",
    "\n",
    "from scipy import stats as st\n",
    "\n",
    "import matplotlib.pyplot as plt\n",
    "import seaborn as sns"
   ]
  },
  {
   "cell_type": "code",
   "execution_count": 2,
   "metadata": {},
   "outputs": [],
   "source": [
    "sns.set_theme()"
   ]
  },
  {
   "cell_type": "markdown",
   "metadata": {
    "deletable": false,
    "editable": false
   },
   "source": [
    "### Откроем файл с данными и изучим общую информацию"
   ]
  },
  {
   "cell_type": "markdown",
   "metadata": {
    "deletable": false,
    "editable": false,
    "tags": [
     "start_task"
    ]
   },
   "source": [
    "датафрейм с данными о звонках сохраним в переменную `calls`."
   ]
  },
  {
   "cell_type": "code",
   "execution_count": 3,
   "metadata": {
    "deletable": false
   },
   "outputs": [],
   "source": [
    "calls = pd.read_csv('calls.csv')"
   ]
  },
  {
   "cell_type": "code",
   "execution_count": 4,
   "metadata": {
    "deletable": false
   },
   "outputs": [
    {
     "data": {
      "text/html": [
       "<div>\n",
       "<style scoped>\n",
       "    .dataframe tbody tr th:only-of-type {\n",
       "        vertical-align: middle;\n",
       "    }\n",
       "\n",
       "    .dataframe tbody tr th {\n",
       "        vertical-align: top;\n",
       "    }\n",
       "\n",
       "    .dataframe thead th {\n",
       "        text-align: right;\n",
       "    }\n",
       "</style>\n",
       "<table border=\"1\" class=\"dataframe\">\n",
       "  <thead>\n",
       "    <tr style=\"text-align: right;\">\n",
       "      <th></th>\n",
       "      <th>id</th>\n",
       "      <th>call_date</th>\n",
       "      <th>duration</th>\n",
       "      <th>user_id</th>\n",
       "    </tr>\n",
       "  </thead>\n",
       "  <tbody>\n",
       "    <tr>\n",
       "      <th>0</th>\n",
       "      <td>1000_0</td>\n",
       "      <td>2018-07-25</td>\n",
       "      <td>0.00</td>\n",
       "      <td>1000</td>\n",
       "    </tr>\n",
       "    <tr>\n",
       "      <th>1</th>\n",
       "      <td>1000_1</td>\n",
       "      <td>2018-08-17</td>\n",
       "      <td>0.00</td>\n",
       "      <td>1000</td>\n",
       "    </tr>\n",
       "    <tr>\n",
       "      <th>2</th>\n",
       "      <td>1000_2</td>\n",
       "      <td>2018-06-11</td>\n",
       "      <td>2.85</td>\n",
       "      <td>1000</td>\n",
       "    </tr>\n",
       "    <tr>\n",
       "      <th>3</th>\n",
       "      <td>1000_3</td>\n",
       "      <td>2018-09-21</td>\n",
       "      <td>13.80</td>\n",
       "      <td>1000</td>\n",
       "    </tr>\n",
       "    <tr>\n",
       "      <th>4</th>\n",
       "      <td>1000_4</td>\n",
       "      <td>2018-12-15</td>\n",
       "      <td>5.18</td>\n",
       "      <td>1000</td>\n",
       "    </tr>\n",
       "  </tbody>\n",
       "</table>\n",
       "</div>"
      ],
      "text/plain": [
       "       id   call_date  duration  user_id\n",
       "0  1000_0  2018-07-25      0.00     1000\n",
       "1  1000_1  2018-08-17      0.00     1000\n",
       "2  1000_2  2018-06-11      2.85     1000\n",
       "3  1000_3  2018-09-21     13.80     1000\n",
       "4  1000_4  2018-12-15      5.18     1000"
      ]
     },
     "execution_count": 4,
     "metadata": {},
     "output_type": "execute_result"
    }
   ],
   "source": [
    "calls.head()"
   ]
  },
  {
   "cell_type": "code",
   "execution_count": 5,
   "metadata": {
    "deletable": false
   },
   "outputs": [
    {
     "name": "stdout",
     "output_type": "stream",
     "text": [
      "<class 'pandas.core.frame.DataFrame'>\n",
      "RangeIndex: 202607 entries, 0 to 202606\n",
      "Data columns (total 4 columns):\n",
      " #   Column     Non-Null Count   Dtype  \n",
      "---  ------     --------------   -----  \n",
      " 0   id         202607 non-null  object \n",
      " 1   call_date  202607 non-null  object \n",
      " 2   duration   202607 non-null  float64\n",
      " 3   user_id    202607 non-null  int64  \n",
      "dtypes: float64(1), int64(1), object(2)\n",
      "memory usage: 6.2+ MB\n"
     ]
    }
   ],
   "source": [
    "calls.info()"
   ]
  },
  {
   "cell_type": "markdown",
   "metadata": {
    "deletable": false,
    "editable": false,
    "tags": [
     "start_task"
    ]
   },
   "source": [
    "выведем гистограмму для столбца с продолжительностью звонков."
   ]
  },
  {
   "cell_type": "code",
   "execution_count": 6,
   "metadata": {
    "deletable": false
   },
   "outputs": [
    {
     "data": {
      "image/png": "[encoded data removed]",
      "text/plain": [
       "<Figure size 432x288 with 1 Axes>"
      ]
     },
     "metadata": {},
     "output_type": "display_data"
    }
   ],
   "source": [
    "calls['duration'].hist()\n",
    "plt.show()"
   ]
  },
  {
   "cell_type": "markdown",
   "metadata": {
    "deletable": false,
    "editable": false,
    "tags": [
     "start_task"
    ]
   },
   "source": [
    "сведения о сессиях интернет связи сохраним в переменную `sessions`."
   ]
  },
  {
   "cell_type": "code",
   "execution_count": 7,
   "metadata": {
    "deletable": false
   },
   "outputs": [],
   "source": [
    "sessions = pd.read_csv('internet.csv')"
   ]
  },
  {
   "cell_type": "code",
   "execution_count": 8,
   "metadata": {
    "deletable": false
   },
   "outputs": [
    {
     "data": {
      "text/html": [
       "<div>\n",
       "<style scoped>\n",
       "    .dataframe tbody tr th:only-of-type {\n",
       "        vertical-align: middle;\n",
       "    }\n",
       "\n",
       "    .dataframe tbody tr th {\n",
       "        vertical-align: top;\n",
       "    }\n",
       "\n",
       "    .dataframe thead th {\n",
       "        text-align: right;\n",
       "    }\n",
       "</style>\n",
       "<table border=\"1\" class=\"dataframe\">\n",
       "  <thead>\n",
       "    <tr style=\"text-align: right;\">\n",
       "      <th></th>\n",
       "      <th>Unnamed: 0</th>\n",
       "      <th>id</th>\n",
       "      <th>mb_used</th>\n",
       "      <th>session_date</th>\n",
       "      <th>user_id</th>\n",
       "    </tr>\n",
       "  </thead>\n",
       "  <tbody>\n",
       "    <tr>\n",
       "      <th>0</th>\n",
       "      <td>0</td>\n",
       "      <td>1000_0</td>\n",
       "      <td>112.95</td>\n",
       "      <td>2018-11-25</td>\n",
       "      <td>1000</td>\n",
       "    </tr>\n",
       "    <tr>\n",
       "      <th>1</th>\n",
       "      <td>1</td>\n",
       "      <td>1000_1</td>\n",
       "      <td>1052.81</td>\n",
       "      <td>2018-09-07</td>\n",
       "      <td>1000</td>\n",
       "    </tr>\n",
       "    <tr>\n",
       "      <th>2</th>\n",
       "      <td>2</td>\n",
       "      <td>1000_2</td>\n",
       "      <td>1197.26</td>\n",
       "      <td>2018-06-25</td>\n",
       "      <td>1000</td>\n",
       "    </tr>\n",
       "    <tr>\n",
       "      <th>3</th>\n",
       "      <td>3</td>\n",
       "      <td>1000_3</td>\n",
       "      <td>550.27</td>\n",
       "      <td>2018-08-22</td>\n",
       "      <td>1000</td>\n",
       "    </tr>\n",
       "    <tr>\n",
       "      <th>4</th>\n",
       "      <td>4</td>\n",
       "      <td>1000_4</td>\n",
       "      <td>302.56</td>\n",
       "      <td>2018-09-24</td>\n",
       "      <td>1000</td>\n",
       "    </tr>\n",
       "  </tbody>\n",
       "</table>\n",
       "</div>"
      ],
      "text/plain": [
       "   Unnamed: 0      id  mb_used session_date  user_id\n",
       "0           0  1000_0   112.95   2018-11-25     1000\n",
       "1           1  1000_1  1052.81   2018-09-07     1000\n",
       "2           2  1000_2  1197.26   2018-06-25     1000\n",
       "3           3  1000_3   550.27   2018-08-22     1000\n",
       "4           4  1000_4   302.56   2018-09-24     1000"
      ]
     },
     "execution_count": 8,
     "metadata": {},
     "output_type": "execute_result"
    }
   ],
   "source": [
    "sessions.head()"
   ]
  },
  {
   "cell_type": "code",
   "execution_count": 9,
   "metadata": {
    "deletable": false
   },
   "outputs": [
    {
     "name": "stdout",
     "output_type": "stream",
     "text": [
      "<class 'pandas.core.frame.DataFrame'>\n",
      "RangeIndex: 149396 entries, 0 to 149395\n",
      "Data columns (total 5 columns):\n",
      " #   Column        Non-Null Count   Dtype  \n",
      "---  ------        --------------   -----  \n",
      " 0   Unnamed: 0    149396 non-null  int64  \n",
      " 1   id            149396 non-null  object \n",
      " 2   mb_used       149396 non-null  float64\n",
      " 3   session_date  149396 non-null  object \n",
      " 4   user_id       149396 non-null  int64  \n",
      "dtypes: float64(1), int64(2), object(2)\n",
      "memory usage: 5.7+ MB\n"
     ]
    }
   ],
   "source": [
    "sessions.info()"
   ]
  },
  {
   "cell_type": "markdown",
   "metadata": {
    "deletable": false,
    "editable": false,
    "tags": [
     "start_task"
    ]
   },
   "source": [
    "выведем гистограмму для столбца с количеством потраченных мегабайт."
   ]
  },
  {
   "cell_type": "code",
   "execution_count": 10,
   "metadata": {
    "deletable": false
   },
   "outputs": [
    {
     "data": {
      "image/png": "[encoded data removed]",
      "text/plain": [
       "<Figure size 432x288 with 1 Axes>"
      ]
     },
     "metadata": {},
     "output_type": "display_data"
    }
   ],
   "source": [
    "sessions['mb_used'].hist()\n",
    "plt.show()"
   ]
  },
  {
   "cell_type": "markdown",
   "metadata": {
    "deletable": false,
    "editable": false,
    "tags": [
     "start_task"
    ]
   },
   "source": [
    "сведения о переданных смс сохраним в переменную `messages`."
   ]
  },
  {
   "cell_type": "code",
   "execution_count": 11,
   "metadata": {
    "deletable": false
   },
   "outputs": [],
   "source": [
    "messages = pd.read_csv('messages.csv')"
   ]
  },
  {
   "cell_type": "code",
   "execution_count": 12,
   "metadata": {
    "deletable": false
   },
   "outputs": [
    {
     "data": {
      "text/html": [
       "<div>\n",
       "<style scoped>\n",
       "    .dataframe tbody tr th:only-of-type {\n",
       "        vertical-align: middle;\n",
       "    }\n",
       "\n",
       "    .dataframe tbody tr th {\n",
       "        vertical-align: top;\n",
       "    }\n",
       "\n",
       "    .dataframe thead th {\n",
       "        text-align: right;\n",
       "    }\n",
       "</style>\n",
       "<table border=\"1\" class=\"dataframe\">\n",
       "  <thead>\n",
       "    <tr style=\"text-align: right;\">\n",
       "      <th></th>\n",
       "      <th>id</th>\n",
       "      <th>message_date</th>\n",
       "      <th>user_id</th>\n",
       "    </tr>\n",
       "  </thead>\n",
       "  <tbody>\n",
       "    <tr>\n",
       "      <th>0</th>\n",
       "      <td>1000_0</td>\n",
       "      <td>2018-06-27</td>\n",
       "      <td>1000</td>\n",
       "    </tr>\n",
       "    <tr>\n",
       "      <th>1</th>\n",
       "      <td>1000_1</td>\n",
       "      <td>2018-10-08</td>\n",
       "      <td>1000</td>\n",
       "    </tr>\n",
       "    <tr>\n",
       "      <th>2</th>\n",
       "      <td>1000_2</td>\n",
       "      <td>2018-08-04</td>\n",
       "      <td>1000</td>\n",
       "    </tr>\n",
       "    <tr>\n",
       "      <th>3</th>\n",
       "      <td>1000_3</td>\n",
       "      <td>2018-06-16</td>\n",
       "      <td>1000</td>\n",
       "    </tr>\n",
       "    <tr>\n",
       "      <th>4</th>\n",
       "      <td>1000_4</td>\n",
       "      <td>2018-12-05</td>\n",
       "      <td>1000</td>\n",
       "    </tr>\n",
       "  </tbody>\n",
       "</table>\n",
       "</div>"
      ],
      "text/plain": [
       "       id message_date  user_id\n",
       "0  1000_0   2018-06-27     1000\n",
       "1  1000_1   2018-10-08     1000\n",
       "2  1000_2   2018-08-04     1000\n",
       "3  1000_3   2018-06-16     1000\n",
       "4  1000_4   2018-12-05     1000"
      ]
     },
     "execution_count": 12,
     "metadata": {},
     "output_type": "execute_result"
    }
   ],
   "source": [
    "messages.head()"
   ]
  },
  {
   "cell_type": "code",
   "execution_count": 13,
   "metadata": {
    "deletable": false
   },
   "outputs": [
    {
     "name": "stdout",
     "output_type": "stream",
     "text": [
      "<class 'pandas.core.frame.DataFrame'>\n",
      "RangeIndex: 123036 entries, 0 to 123035\n",
      "Data columns (total 3 columns):\n",
      " #   Column        Non-Null Count   Dtype \n",
      "---  ------        --------------   ----- \n",
      " 0   id            123036 non-null  object\n",
      " 1   message_date  123036 non-null  object\n",
      " 2   user_id       123036 non-null  int64 \n",
      "dtypes: int64(1), object(2)\n",
      "memory usage: 2.8+ MB\n"
     ]
    }
   ],
   "source": [
    "messages.info()"
   ]
  },
  {
   "cell_type": "markdown",
   "metadata": {
    "deletable": false,
    "editable": false,
    "tags": [
     "start_task"
    ]
   },
   "source": [
    "сведения о тарифе сохраним в переменную `tariffs`."
   ]
  },
  {
   "cell_type": "code",
   "execution_count": 14,
   "metadata": {
    "deletable": false
   },
   "outputs": [],
   "source": [
    "tariffs = pd.read_csv('tariffs.csv')"
   ]
  },
  {
   "cell_type": "code",
   "execution_count": 15,
   "metadata": {
    "deletable": false
   },
   "outputs": [
    {
     "data": {
      "text/html": [
       "<div>\n",
       "<style scoped>\n",
       "    .dataframe tbody tr th:only-of-type {\n",
       "        vertical-align: middle;\n",
       "    }\n",
       "\n",
       "    .dataframe tbody tr th {\n",
       "        vertical-align: top;\n",
       "    }\n",
       "\n",
       "    .dataframe thead th {\n",
       "        text-align: right;\n",
       "    }\n",
       "</style>\n",
       "<table border=\"1\" class=\"dataframe\">\n",
       "  <thead>\n",
       "    <tr style=\"text-align: right;\">\n",
       "      <th></th>\n",
       "      <th>messages_included</th>\n",
       "      <th>mb_per_month_included</th>\n",
       "      <th>minutes_included</th>\n",
       "      <th>rub_monthly_fee</th>\n",
       "      <th>rub_per_gb</th>\n",
       "      <th>rub_per_message</th>\n",
       "      <th>rub_per_minute</th>\n",
       "      <th>tariff_name</th>\n",
       "    </tr>\n",
       "  </thead>\n",
       "  <tbody>\n",
       "    <tr>\n",
       "      <th>0</th>\n",
       "      <td>50</td>\n",
       "      <td>15360</td>\n",
       "      <td>500</td>\n",
       "      <td>550</td>\n",
       "      <td>200</td>\n",
       "      <td>3</td>\n",
       "      <td>3</td>\n",
       "      <td>smart</td>\n",
       "    </tr>\n",
       "    <tr>\n",
       "      <th>1</th>\n",
       "      <td>1000</td>\n",
       "      <td>30720</td>\n",
       "      <td>3000</td>\n",
       "      <td>1950</td>\n",
       "      <td>150</td>\n",
       "      <td>1</td>\n",
       "      <td>1</td>\n",
       "      <td>ultra</td>\n",
       "    </tr>\n",
       "  </tbody>\n",
       "</table>\n",
       "</div>"
      ],
      "text/plain": [
       "   messages_included  mb_per_month_included  minutes_included  \\\n",
       "0                 50                  15360               500   \n",
       "1               1000                  30720              3000   \n",
       "\n",
       "   rub_monthly_fee  rub_per_gb  rub_per_message  rub_per_minute tariff_name  \n",
       "0              550         200                3               3       smart  \n",
       "1             1950         150                1               1       ultra  "
      ]
     },
     "execution_count": 15,
     "metadata": {},
     "output_type": "execute_result"
    }
   ],
   "source": [
    "tariffs"
   ]
  },
  {
   "cell_type": "code",
   "execution_count": 16,
   "metadata": {
    "deletable": false
   },
   "outputs": [
    {
     "name": "stdout",
     "output_type": "stream",
     "text": [
      "<class 'pandas.core.frame.DataFrame'>\n",
      "RangeIndex: 2 entries, 0 to 1\n",
      "Data columns (total 8 columns):\n",
      " #   Column                 Non-Null Count  Dtype \n",
      "---  ------                 --------------  ----- \n",
      " 0   messages_included      2 non-null      int64 \n",
      " 1   mb_per_month_included  2 non-null      int64 \n",
      " 2   minutes_included       2 non-null      int64 \n",
      " 3   rub_monthly_fee        2 non-null      int64 \n",
      " 4   rub_per_gb             2 non-null      int64 \n",
      " 5   rub_per_message        2 non-null      int64 \n",
      " 6   rub_per_minute         2 non-null      int64 \n",
      " 7   tariff_name            2 non-null      object\n",
      "dtypes: int64(7), object(1)\n",
      "memory usage: 256.0+ bytes\n"
     ]
    }
   ],
   "source": [
    "tariffs.info()"
   ]
  },
  {
   "cell_type": "markdown",
   "metadata": {
    "deletable": false,
    "editable": false,
    "tags": [
     "start_task"
    ]
   },
   "source": [
    "сведения о пользователях сохраним в переменную `users`."
   ]
  },
  {
   "cell_type": "code",
   "execution_count": 17,
   "metadata": {
    "deletable": false
   },
   "outputs": [],
   "source": [
    "users = pd.read_csv('users.csv')"
   ]
  },
  {
   "cell_type": "code",
   "execution_count": 18,
   "metadata": {
    "deletable": false
   },
   "outputs": [
    {
     "data": {
      "text/html": [
       "<div>\n",
       "<style scoped>\n",
       "    .dataframe tbody tr th:only-of-type {\n",
       "        vertical-align: middle;\n",
       "    }\n",
       "\n",
       "    .dataframe tbody tr th {\n",
       "        vertical-align: top;\n",
       "    }\n",
       "\n",
       "    .dataframe thead th {\n",
       "        text-align: right;\n",
       "    }\n",
       "</style>\n",
       "<table border=\"1\" class=\"dataframe\">\n",
       "  <thead>\n",
       "    <tr style=\"text-align: right;\">\n",
       "      <th></th>\n",
       "      <th>user_id</th>\n",
       "      <th>age</th>\n",
       "      <th>churn_date</th>\n",
       "      <th>city</th>\n",
       "      <th>first_name</th>\n",
       "      <th>last_name</th>\n",
       "      <th>reg_date</th>\n",
       "      <th>tariff</th>\n",
       "    </tr>\n",
       "  </thead>\n",
       "  <tbody>\n",
       "    <tr>\n",
       "      <th>0</th>\n",
       "      <td>1000</td>\n",
       "      <td>52</td>\n",
       "      <td>NaN</td>\n",
       "      <td>Краснодар</td>\n",
       "      <td>Рафаил</td>\n",
       "      <td>Верещагин</td>\n",
       "      <td>2018-05-25</td>\n",
       "      <td>ultra</td>\n",
       "    </tr>\n",
       "    <tr>\n",
       "      <th>1</th>\n",
       "      <td>1001</td>\n",
       "      <td>41</td>\n",
       "      <td>NaN</td>\n",
       "      <td>Москва</td>\n",
       "      <td>Иван</td>\n",
       "      <td>Ежов</td>\n",
       "      <td>2018-11-01</td>\n",
       "      <td>smart</td>\n",
       "    </tr>\n",
       "    <tr>\n",
       "      <th>2</th>\n",
       "      <td>1002</td>\n",
       "      <td>59</td>\n",
       "      <td>NaN</td>\n",
       "      <td>Стерлитамак</td>\n",
       "      <td>Евгений</td>\n",
       "      <td>Абрамович</td>\n",
       "      <td>2018-06-17</td>\n",
       "      <td>smart</td>\n",
       "    </tr>\n",
       "    <tr>\n",
       "      <th>3</th>\n",
       "      <td>1003</td>\n",
       "      <td>23</td>\n",
       "      <td>NaN</td>\n",
       "      <td>Москва</td>\n",
       "      <td>Белла</td>\n",
       "      <td>Белякова</td>\n",
       "      <td>2018-08-17</td>\n",
       "      <td>ultra</td>\n",
       "    </tr>\n",
       "    <tr>\n",
       "      <th>4</th>\n",
       "      <td>1004</td>\n",
       "      <td>68</td>\n",
       "      <td>NaN</td>\n",
       "      <td>Новокузнецк</td>\n",
       "      <td>Татьяна</td>\n",
       "      <td>Авдеенко</td>\n",
       "      <td>2018-05-14</td>\n",
       "      <td>ultra</td>\n",
       "    </tr>\n",
       "  </tbody>\n",
       "</table>\n",
       "</div>"
      ],
      "text/plain": [
       "   user_id  age churn_date         city first_name  last_name    reg_date  \\\n",
       "0     1000   52        NaN    Краснодар     Рафаил  Верещагин  2018-05-25   \n",
       "1     1001   41        NaN       Москва       Иван       Ежов  2018-11-01   \n",
       "2     1002   59        NaN  Стерлитамак    Евгений  Абрамович  2018-06-17   \n",
       "3     1003   23        NaN       Москва      Белла   Белякова  2018-08-17   \n",
       "4     1004   68        NaN  Новокузнецк    Татьяна   Авдеенко  2018-05-14   \n",
       "\n",
       "  tariff  \n",
       "0  ultra  \n",
       "1  smart  \n",
       "2  smart  \n",
       "3  ultra  \n",
       "4  ultra  "
      ]
     },
     "execution_count": 18,
     "metadata": {},
     "output_type": "execute_result"
    }
   ],
   "source": [
    "users.head()"
   ]
  },
  {
   "cell_type": "code",
   "execution_count": 19,
   "metadata": {
    "deletable": false
   },
   "outputs": [
    {
     "name": "stdout",
     "output_type": "stream",
     "text": [
      "<class 'pandas.core.frame.DataFrame'>\n",
      "RangeIndex: 500 entries, 0 to 499\n",
      "Data columns (total 8 columns):\n",
      " #   Column      Non-Null Count  Dtype \n",
      "---  ------      --------------  ----- \n",
      " 0   user_id     500 non-null    int64 \n",
      " 1   age         500 non-null    int64 \n",
      " 2   churn_date  38 non-null     object\n",
      " 3   city        500 non-null    object\n",
      " 4   first_name  500 non-null    object\n",
      " 5   last_name   500 non-null    object\n",
      " 6   reg_date    500 non-null    object\n",
      " 7   tariff      500 non-null    object\n",
      "dtypes: int64(2), object(6)\n",
      "memory usage: 31.4+ KB\n"
     ]
    }
   ],
   "source": [
    "users.info()"
   ]
  },
  {
   "cell_type": "markdown",
   "metadata": {
    "deletable": false,
    "editable": false
   },
   "source": [
    "### Подготовка данных"
   ]
  },
  {
   "cell_type": "code",
   "execution_count": 20,
   "metadata": {
    "deletable": false
   },
   "outputs": [],
   "source": [
    "# обработка столбца reg_date\n",
    "users['reg_date'] = pd.to_datetime(users['reg_date'], format = '%Y-%m-%d')\n",
    "# обработка столбца churn_date\n",
    "users['churn_date'] = pd.to_datetime(users['churn_date'], format = '%Y-%m-%d')\n",
    "# обработка столбца call_date\n",
    "calls['call_date'] = pd.to_datetime(calls['call_date'], format = '%Y-%m-%d')\n",
    "# обработка столбца message_date\n",
    "messages['message_date'] = pd.to_datetime(messages['message_date'], format = '%Y-%m-%d')\n",
    "# обработка столбца session_date\n",
    "sessions['session_date'] = pd.to_datetime(sessions['session_date'], format = '%Y-%m-%d')"
   ]
  },
  {
   "cell_type": "code",
   "execution_count": 21,
   "metadata": {
    "deletable": false
   },
   "outputs": [],
   "source": [
    "# округление значений столбца duration с помощью np.ceil() и приведение типа к int\n",
    "calls['duration'] = np.ceil(calls['duration']).astype('int')"
   ]
  },
  {
   "cell_type": "code",
   "execution_count": 22,
   "metadata": {
    "deletable": false
   },
   "outputs": [],
   "source": [
    "sessions = sessions.drop('Unnamed: 0', axis = 1)"
   ]
  },
  {
   "cell_type": "code",
   "execution_count": 23,
   "metadata": {
    "deletable": false
   },
   "outputs": [],
   "source": [
    "calls['month'] = pd.DatetimeIndex(calls['call_date']).month"
   ]
  },
  {
   "cell_type": "code",
   "execution_count": 24,
   "metadata": {
    "deletable": false
   },
   "outputs": [],
   "source": [
    "messages['month'] = pd.DatetimeIndex(messages['message_date']).month"
   ]
  },
  {
   "cell_type": "code",
   "execution_count": 25,
   "metadata": {
    "deletable": false
   },
   "outputs": [],
   "source": [
    "sessions['month'] = pd.DatetimeIndex(sessions['session_date']).month"
   ]
  },
  {
   "cell_type": "markdown",
   "metadata": {
    "deletable": false,
    "editable": false,
    "tags": [
     "start_task"
    ]
   },
   "source": [
    "Посчитаем количество сделанных звонков разговора для каждого пользователя по месяцам."
   ]
  },
  {
   "cell_type": "code",
   "execution_count": 26,
   "metadata": {
    "deletable": false
   },
   "outputs": [],
   "source": [
    "# подсчёт количества звонков для каждого пользователя по месяцам\n",
    "calls_per_month = calls.groupby(['user_id', \n",
    "                                 'month']).agg(calls = ('duration', 'count'))"
   ]
  },
  {
   "cell_type": "code",
   "execution_count": 27,
   "metadata": {
    "deletable": false
   },
   "outputs": [
    {
     "data": {
      "text/html": [
       "<div>\n",
       "<style scoped>\n",
       "    .dataframe tbody tr th:only-of-type {\n",
       "        vertical-align: middle;\n",
       "    }\n",
       "\n",
       "    .dataframe tbody tr th {\n",
       "        vertical-align: top;\n",
       "    }\n",
       "\n",
       "    .dataframe thead th {\n",
       "        text-align: right;\n",
       "    }\n",
       "</style>\n",
       "<table border=\"1\" class=\"dataframe\">\n",
       "  <thead>\n",
       "    <tr style=\"text-align: right;\">\n",
       "      <th></th>\n",
       "      <th></th>\n",
       "      <th>calls</th>\n",
       "    </tr>\n",
       "    <tr>\n",
       "      <th>user_id</th>\n",
       "      <th>month</th>\n",
       "      <th></th>\n",
       "    </tr>\n",
       "  </thead>\n",
       "  <tbody>\n",
       "    <tr>\n",
       "      <th rowspan=\"8\" valign=\"top\">1000</th>\n",
       "      <th>5</th>\n",
       "      <td>22</td>\n",
       "    </tr>\n",
       "    <tr>\n",
       "      <th>6</th>\n",
       "      <td>43</td>\n",
       "    </tr>\n",
       "    <tr>\n",
       "      <th>7</th>\n",
       "      <td>47</td>\n",
       "    </tr>\n",
       "    <tr>\n",
       "      <th>8</th>\n",
       "      <td>52</td>\n",
       "    </tr>\n",
       "    <tr>\n",
       "      <th>9</th>\n",
       "      <td>58</td>\n",
       "    </tr>\n",
       "    <tr>\n",
       "      <th>10</th>\n",
       "      <td>57</td>\n",
       "    </tr>\n",
       "    <tr>\n",
       "      <th>11</th>\n",
       "      <td>43</td>\n",
       "    </tr>\n",
       "    <tr>\n",
       "      <th>12</th>\n",
       "      <td>46</td>\n",
       "    </tr>\n",
       "    <tr>\n",
       "      <th rowspan=\"2\" valign=\"top\">1001</th>\n",
       "      <th>11</th>\n",
       "      <td>59</td>\n",
       "    </tr>\n",
       "    <tr>\n",
       "      <th>12</th>\n",
       "      <td>63</td>\n",
       "    </tr>\n",
       "    <tr>\n",
       "      <th rowspan=\"7\" valign=\"top\">1002</th>\n",
       "      <th>6</th>\n",
       "      <td>15</td>\n",
       "    </tr>\n",
       "    <tr>\n",
       "      <th>7</th>\n",
       "      <td>26</td>\n",
       "    </tr>\n",
       "    <tr>\n",
       "      <th>8</th>\n",
       "      <td>42</td>\n",
       "    </tr>\n",
       "    <tr>\n",
       "      <th>9</th>\n",
       "      <td>36</td>\n",
       "    </tr>\n",
       "    <tr>\n",
       "      <th>10</th>\n",
       "      <td>33</td>\n",
       "    </tr>\n",
       "    <tr>\n",
       "      <th>11</th>\n",
       "      <td>32</td>\n",
       "    </tr>\n",
       "    <tr>\n",
       "      <th>12</th>\n",
       "      <td>33</td>\n",
       "    </tr>\n",
       "    <tr>\n",
       "      <th rowspan=\"5\" valign=\"top\">1003</th>\n",
       "      <th>8</th>\n",
       "      <td>55</td>\n",
       "    </tr>\n",
       "    <tr>\n",
       "      <th>9</th>\n",
       "      <td>134</td>\n",
       "    </tr>\n",
       "    <tr>\n",
       "      <th>10</th>\n",
       "      <td>108</td>\n",
       "    </tr>\n",
       "    <tr>\n",
       "      <th>11</th>\n",
       "      <td>115</td>\n",
       "    </tr>\n",
       "    <tr>\n",
       "      <th>12</th>\n",
       "      <td>108</td>\n",
       "    </tr>\n",
       "    <tr>\n",
       "      <th rowspan=\"8\" valign=\"top\">1004</th>\n",
       "      <th>5</th>\n",
       "      <td>9</td>\n",
       "    </tr>\n",
       "    <tr>\n",
       "      <th>6</th>\n",
       "      <td>31</td>\n",
       "    </tr>\n",
       "    <tr>\n",
       "      <th>7</th>\n",
       "      <td>22</td>\n",
       "    </tr>\n",
       "    <tr>\n",
       "      <th>8</th>\n",
       "      <td>19</td>\n",
       "    </tr>\n",
       "    <tr>\n",
       "      <th>9</th>\n",
       "      <td>26</td>\n",
       "    </tr>\n",
       "    <tr>\n",
       "      <th>10</th>\n",
       "      <td>29</td>\n",
       "    </tr>\n",
       "    <tr>\n",
       "      <th>11</th>\n",
       "      <td>19</td>\n",
       "    </tr>\n",
       "    <tr>\n",
       "      <th>12</th>\n",
       "      <td>21</td>\n",
       "    </tr>\n",
       "  </tbody>\n",
       "</table>\n",
       "</div>"
      ],
      "text/plain": [
       "               calls\n",
       "user_id month       \n",
       "1000    5         22\n",
       "        6         43\n",
       "        7         47\n",
       "        8         52\n",
       "        9         58\n",
       "        10        57\n",
       "        11        43\n",
       "        12        46\n",
       "1001    11        59\n",
       "        12        63\n",
       "1002    6         15\n",
       "        7         26\n",
       "        8         42\n",
       "        9         36\n",
       "        10        33\n",
       "        11        32\n",
       "        12        33\n",
       "1003    8         55\n",
       "        9        134\n",
       "        10       108\n",
       "        11       115\n",
       "        12       108\n",
       "1004    5          9\n",
       "        6         31\n",
       "        7         22\n",
       "        8         19\n",
       "        9         26\n",
       "        10        29\n",
       "        11        19\n",
       "        12        21"
      ]
     },
     "execution_count": 27,
     "metadata": {},
     "output_type": "execute_result"
    }
   ],
   "source": [
    "# вывод 30 первых строк на экран\n",
    "calls_per_month.head(30)"
   ]
  },
  {
   "cell_type": "markdown",
   "metadata": {
    "deletable": false,
    "editable": false,
    "tags": [
     "start_task"
    ]
   },
   "source": [
    "Посчитаем количество израсходованных минут разговора для каждого пользователя по месяцам и сохраним в переменную `minutes_per_month`."
   ]
  },
  {
   "cell_type": "code",
   "execution_count": 28,
   "metadata": {
    "deletable": false
   },
   "outputs": [],
   "source": [
    "# подсчёт израсходованных минут для каждого пользователя по месяцам\n",
    "minutes_per_month = calls.groupby(['user_id', \n",
    "                                   'month']).agg(minutes = ('duration', 'sum'))"
   ]
  },
  {
   "cell_type": "code",
   "execution_count": 29,
   "metadata": {
    "deletable": false
   },
   "outputs": [
    {
     "data": {
      "text/html": [
       "<div>\n",
       "<style scoped>\n",
       "    .dataframe tbody tr th:only-of-type {\n",
       "        vertical-align: middle;\n",
       "    }\n",
       "\n",
       "    .dataframe tbody tr th {\n",
       "        vertical-align: top;\n",
       "    }\n",
       "\n",
       "    .dataframe thead th {\n",
       "        text-align: right;\n",
       "    }\n",
       "</style>\n",
       "<table border=\"1\" class=\"dataframe\">\n",
       "  <thead>\n",
       "    <tr style=\"text-align: right;\">\n",
       "      <th></th>\n",
       "      <th></th>\n",
       "      <th>minutes</th>\n",
       "    </tr>\n",
       "    <tr>\n",
       "      <th>user_id</th>\n",
       "      <th>month</th>\n",
       "      <th></th>\n",
       "    </tr>\n",
       "  </thead>\n",
       "  <tbody>\n",
       "    <tr>\n",
       "      <th rowspan=\"8\" valign=\"top\">1000</th>\n",
       "      <th>5</th>\n",
       "      <td>159</td>\n",
       "    </tr>\n",
       "    <tr>\n",
       "      <th>6</th>\n",
       "      <td>172</td>\n",
       "    </tr>\n",
       "    <tr>\n",
       "      <th>7</th>\n",
       "      <td>340</td>\n",
       "    </tr>\n",
       "    <tr>\n",
       "      <th>8</th>\n",
       "      <td>408</td>\n",
       "    </tr>\n",
       "    <tr>\n",
       "      <th>9</th>\n",
       "      <td>466</td>\n",
       "    </tr>\n",
       "    <tr>\n",
       "      <th>10</th>\n",
       "      <td>350</td>\n",
       "    </tr>\n",
       "    <tr>\n",
       "      <th>11</th>\n",
       "      <td>338</td>\n",
       "    </tr>\n",
       "    <tr>\n",
       "      <th>12</th>\n",
       "      <td>333</td>\n",
       "    </tr>\n",
       "    <tr>\n",
       "      <th rowspan=\"2\" valign=\"top\">1001</th>\n",
       "      <th>11</th>\n",
       "      <td>430</td>\n",
       "    </tr>\n",
       "    <tr>\n",
       "      <th>12</th>\n",
       "      <td>414</td>\n",
       "    </tr>\n",
       "    <tr>\n",
       "      <th rowspan=\"7\" valign=\"top\">1002</th>\n",
       "      <th>6</th>\n",
       "      <td>117</td>\n",
       "    </tr>\n",
       "    <tr>\n",
       "      <th>7</th>\n",
       "      <td>214</td>\n",
       "    </tr>\n",
       "    <tr>\n",
       "      <th>8</th>\n",
       "      <td>289</td>\n",
       "    </tr>\n",
       "    <tr>\n",
       "      <th>9</th>\n",
       "      <td>206</td>\n",
       "    </tr>\n",
       "    <tr>\n",
       "      <th>10</th>\n",
       "      <td>212</td>\n",
       "    </tr>\n",
       "    <tr>\n",
       "      <th>11</th>\n",
       "      <td>243</td>\n",
       "    </tr>\n",
       "    <tr>\n",
       "      <th>12</th>\n",
       "      <td>236</td>\n",
       "    </tr>\n",
       "    <tr>\n",
       "      <th rowspan=\"5\" valign=\"top\">1003</th>\n",
       "      <th>8</th>\n",
       "      <td>380</td>\n",
       "    </tr>\n",
       "    <tr>\n",
       "      <th>9</th>\n",
       "      <td>961</td>\n",
       "    </tr>\n",
       "    <tr>\n",
       "      <th>10</th>\n",
       "      <td>855</td>\n",
       "    </tr>\n",
       "    <tr>\n",
       "      <th>11</th>\n",
       "      <td>824</td>\n",
       "    </tr>\n",
       "    <tr>\n",
       "      <th>12</th>\n",
       "      <td>802</td>\n",
       "    </tr>\n",
       "    <tr>\n",
       "      <th rowspan=\"8\" valign=\"top\">1004</th>\n",
       "      <th>5</th>\n",
       "      <td>35</td>\n",
       "    </tr>\n",
       "    <tr>\n",
       "      <th>6</th>\n",
       "      <td>171</td>\n",
       "    </tr>\n",
       "    <tr>\n",
       "      <th>7</th>\n",
       "      <td>135</td>\n",
       "    </tr>\n",
       "    <tr>\n",
       "      <th>8</th>\n",
       "      <td>137</td>\n",
       "    </tr>\n",
       "    <tr>\n",
       "      <th>9</th>\n",
       "      <td>117</td>\n",
       "    </tr>\n",
       "    <tr>\n",
       "      <th>10</th>\n",
       "      <td>145</td>\n",
       "    </tr>\n",
       "    <tr>\n",
       "      <th>11</th>\n",
       "      <td>117</td>\n",
       "    </tr>\n",
       "    <tr>\n",
       "      <th>12</th>\n",
       "      <td>130</td>\n",
       "    </tr>\n",
       "  </tbody>\n",
       "</table>\n",
       "</div>"
      ],
      "text/plain": [
       "               minutes\n",
       "user_id month         \n",
       "1000    5          159\n",
       "        6          172\n",
       "        7          340\n",
       "        8          408\n",
       "        9          466\n",
       "        10         350\n",
       "        11         338\n",
       "        12         333\n",
       "1001    11         430\n",
       "        12         414\n",
       "1002    6          117\n",
       "        7          214\n",
       "        8          289\n",
       "        9          206\n",
       "        10         212\n",
       "        11         243\n",
       "        12         236\n",
       "1003    8          380\n",
       "        9          961\n",
       "        10         855\n",
       "        11         824\n",
       "        12         802\n",
       "1004    5           35\n",
       "        6          171\n",
       "        7          135\n",
       "        8          137\n",
       "        9          117\n",
       "        10         145\n",
       "        11         117\n",
       "        12         130"
      ]
     },
     "execution_count": 29,
     "metadata": {},
     "output_type": "execute_result"
    }
   ],
   "source": [
    "# вывод первых 30 строк на экран\n",
    "minutes_per_month.head(30)"
   ]
  },
  {
   "cell_type": "markdown",
   "metadata": {
    "deletable": false,
    "editable": false,
    "tags": [
     "start_task"
    ]
   },
   "source": [
    "Посчитаем количество отправленных сообщений по месяцам для каждого пользователя и сохраните в переменную `messages_per_month`."
   ]
  },
  {
   "cell_type": "code",
   "execution_count": 30,
   "metadata": {
    "deletable": false
   },
   "outputs": [],
   "source": [
    "# подсчёт количества отправленных сообщений для каждого пользователя по месяцам\n",
    "messages_per_month = messages.groupby(['user_id', \n",
    "                                       'month']).agg(messages = ('message_date', 'count'))"
   ]
  },
  {
   "cell_type": "code",
   "execution_count": 31,
   "metadata": {
    "deletable": false
   },
   "outputs": [
    {
     "data": {
      "text/html": [
       "<div>\n",
       "<style scoped>\n",
       "    .dataframe tbody tr th:only-of-type {\n",
       "        vertical-align: middle;\n",
       "    }\n",
       "\n",
       "    .dataframe tbody tr th {\n",
       "        vertical-align: top;\n",
       "    }\n",
       "\n",
       "    .dataframe thead th {\n",
       "        text-align: right;\n",
       "    }\n",
       "</style>\n",
       "<table border=\"1\" class=\"dataframe\">\n",
       "  <thead>\n",
       "    <tr style=\"text-align: right;\">\n",
       "      <th></th>\n",
       "      <th></th>\n",
       "      <th>messages</th>\n",
       "    </tr>\n",
       "    <tr>\n",
       "      <th>user_id</th>\n",
       "      <th>month</th>\n",
       "      <th></th>\n",
       "    </tr>\n",
       "  </thead>\n",
       "  <tbody>\n",
       "    <tr>\n",
       "      <th rowspan=\"8\" valign=\"top\">1000</th>\n",
       "      <th>5</th>\n",
       "      <td>22</td>\n",
       "    </tr>\n",
       "    <tr>\n",
       "      <th>6</th>\n",
       "      <td>60</td>\n",
       "    </tr>\n",
       "    <tr>\n",
       "      <th>7</th>\n",
       "      <td>75</td>\n",
       "    </tr>\n",
       "    <tr>\n",
       "      <th>8</th>\n",
       "      <td>81</td>\n",
       "    </tr>\n",
       "    <tr>\n",
       "      <th>9</th>\n",
       "      <td>57</td>\n",
       "    </tr>\n",
       "    <tr>\n",
       "      <th>10</th>\n",
       "      <td>73</td>\n",
       "    </tr>\n",
       "    <tr>\n",
       "      <th>11</th>\n",
       "      <td>58</td>\n",
       "    </tr>\n",
       "    <tr>\n",
       "      <th>12</th>\n",
       "      <td>70</td>\n",
       "    </tr>\n",
       "    <tr>\n",
       "      <th rowspan=\"7\" valign=\"top\">1002</th>\n",
       "      <th>6</th>\n",
       "      <td>4</td>\n",
       "    </tr>\n",
       "    <tr>\n",
       "      <th>7</th>\n",
       "      <td>11</td>\n",
       "    </tr>\n",
       "    <tr>\n",
       "      <th>8</th>\n",
       "      <td>13</td>\n",
       "    </tr>\n",
       "    <tr>\n",
       "      <th>9</th>\n",
       "      <td>4</td>\n",
       "    </tr>\n",
       "    <tr>\n",
       "      <th>10</th>\n",
       "      <td>10</td>\n",
       "    </tr>\n",
       "    <tr>\n",
       "      <th>11</th>\n",
       "      <td>16</td>\n",
       "    </tr>\n",
       "    <tr>\n",
       "      <th>12</th>\n",
       "      <td>12</td>\n",
       "    </tr>\n",
       "    <tr>\n",
       "      <th rowspan=\"5\" valign=\"top\">1003</th>\n",
       "      <th>8</th>\n",
       "      <td>37</td>\n",
       "    </tr>\n",
       "    <tr>\n",
       "      <th>9</th>\n",
       "      <td>91</td>\n",
       "    </tr>\n",
       "    <tr>\n",
       "      <th>10</th>\n",
       "      <td>83</td>\n",
       "    </tr>\n",
       "    <tr>\n",
       "      <th>11</th>\n",
       "      <td>94</td>\n",
       "    </tr>\n",
       "    <tr>\n",
       "      <th>12</th>\n",
       "      <td>75</td>\n",
       "    </tr>\n",
       "    <tr>\n",
       "      <th rowspan=\"8\" valign=\"top\">1004</th>\n",
       "      <th>5</th>\n",
       "      <td>95</td>\n",
       "    </tr>\n",
       "    <tr>\n",
       "      <th>6</th>\n",
       "      <td>134</td>\n",
       "    </tr>\n",
       "    <tr>\n",
       "      <th>7</th>\n",
       "      <td>181</td>\n",
       "    </tr>\n",
       "    <tr>\n",
       "      <th>8</th>\n",
       "      <td>151</td>\n",
       "    </tr>\n",
       "    <tr>\n",
       "      <th>9</th>\n",
       "      <td>146</td>\n",
       "    </tr>\n",
       "    <tr>\n",
       "      <th>10</th>\n",
       "      <td>165</td>\n",
       "    </tr>\n",
       "    <tr>\n",
       "      <th>11</th>\n",
       "      <td>158</td>\n",
       "    </tr>\n",
       "    <tr>\n",
       "      <th>12</th>\n",
       "      <td>162</td>\n",
       "    </tr>\n",
       "    <tr>\n",
       "      <th rowspan=\"2\" valign=\"top\">1005</th>\n",
       "      <th>1</th>\n",
       "      <td>7</td>\n",
       "    </tr>\n",
       "    <tr>\n",
       "      <th>2</th>\n",
       "      <td>38</td>\n",
       "    </tr>\n",
       "  </tbody>\n",
       "</table>\n",
       "</div>"
      ],
      "text/plain": [
       "               messages\n",
       "user_id month          \n",
       "1000    5            22\n",
       "        6            60\n",
       "        7            75\n",
       "        8            81\n",
       "        9            57\n",
       "        10           73\n",
       "        11           58\n",
       "        12           70\n",
       "1002    6             4\n",
       "        7            11\n",
       "        8            13\n",
       "        9             4\n",
       "        10           10\n",
       "        11           16\n",
       "        12           12\n",
       "1003    8            37\n",
       "        9            91\n",
       "        10           83\n",
       "        11           94\n",
       "        12           75\n",
       "1004    5            95\n",
       "        6           134\n",
       "        7           181\n",
       "        8           151\n",
       "        9           146\n",
       "        10          165\n",
       "        11          158\n",
       "        12          162\n",
       "1005    1             7\n",
       "        2            38"
      ]
     },
     "execution_count": 31,
     "metadata": {},
     "output_type": "execute_result"
    }
   ],
   "source": [
    "# вывод первых 30 строк на экран\n",
    "messages_per_month.head(30)"
   ]
  },
  {
   "cell_type": "markdown",
   "metadata": {
    "deletable": false,
    "editable": false,
    "tags": [
     "start_task"
    ]
   },
   "source": [
    "Посчитаем количество потраченных мегабайт по месяцам для каждого пользователя и сохраните в переменную `sessions_per_month`."
   ]
  },
  {
   "cell_type": "code",
   "execution_count": 32,
   "metadata": {
    "deletable": false
   },
   "outputs": [],
   "source": [
    "# подсчёт потраченных мегабайт для каждого пользователя по месяцам\n",
    "sessions_per_month = sessions.groupby(['user_id', \n",
    "                                       'month']).agg({'mb_used': 'sum'})"
   ]
  },
  {
   "cell_type": "code",
   "execution_count": 33,
   "metadata": {
    "deletable": false
   },
   "outputs": [
    {
     "data": {
      "text/html": [
       "<div>\n",
       "<style scoped>\n",
       "    .dataframe tbody tr th:only-of-type {\n",
       "        vertical-align: middle;\n",
       "    }\n",
       "\n",
       "    .dataframe tbody tr th {\n",
       "        vertical-align: top;\n",
       "    }\n",
       "\n",
       "    .dataframe thead th {\n",
       "        text-align: right;\n",
       "    }\n",
       "</style>\n",
       "<table border=\"1\" class=\"dataframe\">\n",
       "  <thead>\n",
       "    <tr style=\"text-align: right;\">\n",
       "      <th></th>\n",
       "      <th></th>\n",
       "      <th>mb_used</th>\n",
       "    </tr>\n",
       "    <tr>\n",
       "      <th>user_id</th>\n",
       "      <th>month</th>\n",
       "      <th></th>\n",
       "    </tr>\n",
       "  </thead>\n",
       "  <tbody>\n",
       "    <tr>\n",
       "      <th rowspan=\"8\" valign=\"top\">1000</th>\n",
       "      <th>5</th>\n",
       "      <td>2253.49</td>\n",
       "    </tr>\n",
       "    <tr>\n",
       "      <th>6</th>\n",
       "      <td>23233.77</td>\n",
       "    </tr>\n",
       "    <tr>\n",
       "      <th>7</th>\n",
       "      <td>14003.64</td>\n",
       "    </tr>\n",
       "    <tr>\n",
       "      <th>8</th>\n",
       "      <td>14055.93</td>\n",
       "    </tr>\n",
       "    <tr>\n",
       "      <th>9</th>\n",
       "      <td>14568.91</td>\n",
       "    </tr>\n",
       "    <tr>\n",
       "      <th>10</th>\n",
       "      <td>14702.49</td>\n",
       "    </tr>\n",
       "    <tr>\n",
       "      <th>11</th>\n",
       "      <td>14756.47</td>\n",
       "    </tr>\n",
       "    <tr>\n",
       "      <th>12</th>\n",
       "      <td>9817.61</td>\n",
       "    </tr>\n",
       "    <tr>\n",
       "      <th rowspan=\"2\" valign=\"top\">1001</th>\n",
       "      <th>11</th>\n",
       "      <td>18429.34</td>\n",
       "    </tr>\n",
       "    <tr>\n",
       "      <th>12</th>\n",
       "      <td>14036.66</td>\n",
       "    </tr>\n",
       "    <tr>\n",
       "      <th rowspan=\"7\" valign=\"top\">1002</th>\n",
       "      <th>6</th>\n",
       "      <td>10856.82</td>\n",
       "    </tr>\n",
       "    <tr>\n",
       "      <th>7</th>\n",
       "      <td>17580.10</td>\n",
       "    </tr>\n",
       "    <tr>\n",
       "      <th>8</th>\n",
       "      <td>20319.26</td>\n",
       "    </tr>\n",
       "    <tr>\n",
       "      <th>9</th>\n",
       "      <td>16691.08</td>\n",
       "    </tr>\n",
       "    <tr>\n",
       "      <th>10</th>\n",
       "      <td>13888.25</td>\n",
       "    </tr>\n",
       "    <tr>\n",
       "      <th>11</th>\n",
       "      <td>18587.28</td>\n",
       "    </tr>\n",
       "    <tr>\n",
       "      <th>12</th>\n",
       "      <td>18113.73</td>\n",
       "    </tr>\n",
       "    <tr>\n",
       "      <th rowspan=\"5\" valign=\"top\">1003</th>\n",
       "      <th>8</th>\n",
       "      <td>8565.21</td>\n",
       "    </tr>\n",
       "    <tr>\n",
       "      <th>9</th>\n",
       "      <td>12468.87</td>\n",
       "    </tr>\n",
       "    <tr>\n",
       "      <th>10</th>\n",
       "      <td>14768.14</td>\n",
       "    </tr>\n",
       "    <tr>\n",
       "      <th>11</th>\n",
       "      <td>11356.89</td>\n",
       "    </tr>\n",
       "    <tr>\n",
       "      <th>12</th>\n",
       "      <td>10121.53</td>\n",
       "    </tr>\n",
       "    <tr>\n",
       "      <th rowspan=\"8\" valign=\"top\">1004</th>\n",
       "      <th>5</th>\n",
       "      <td>13403.98</td>\n",
       "    </tr>\n",
       "    <tr>\n",
       "      <th>6</th>\n",
       "      <td>17600.02</td>\n",
       "    </tr>\n",
       "    <tr>\n",
       "      <th>7</th>\n",
       "      <td>22229.58</td>\n",
       "    </tr>\n",
       "    <tr>\n",
       "      <th>8</th>\n",
       "      <td>28584.37</td>\n",
       "    </tr>\n",
       "    <tr>\n",
       "      <th>9</th>\n",
       "      <td>15109.03</td>\n",
       "    </tr>\n",
       "    <tr>\n",
       "      <th>10</th>\n",
       "      <td>18475.44</td>\n",
       "    </tr>\n",
       "    <tr>\n",
       "      <th>11</th>\n",
       "      <td>15616.02</td>\n",
       "    </tr>\n",
       "    <tr>\n",
       "      <th>12</th>\n",
       "      <td>18021.04</td>\n",
       "    </tr>\n",
       "  </tbody>\n",
       "</table>\n",
       "</div>"
      ],
      "text/plain": [
       "                mb_used\n",
       "user_id month          \n",
       "1000    5       2253.49\n",
       "        6      23233.77\n",
       "        7      14003.64\n",
       "        8      14055.93\n",
       "        9      14568.91\n",
       "        10     14702.49\n",
       "        11     14756.47\n",
       "        12      9817.61\n",
       "1001    11     18429.34\n",
       "        12     14036.66\n",
       "1002    6      10856.82\n",
       "        7      17580.10\n",
       "        8      20319.26\n",
       "        9      16691.08\n",
       "        10     13888.25\n",
       "        11     18587.28\n",
       "        12     18113.73\n",
       "1003    8       8565.21\n",
       "        9      12468.87\n",
       "        10     14768.14\n",
       "        11     11356.89\n",
       "        12     10121.53\n",
       "1004    5      13403.98\n",
       "        6      17600.02\n",
       "        7      22229.58\n",
       "        8      28584.37\n",
       "        9      15109.03\n",
       "        10     18475.44\n",
       "        11     15616.02\n",
       "        12     18021.04"
      ]
     },
     "execution_count": 33,
     "metadata": {},
     "output_type": "execute_result"
    }
   ],
   "source": [
    "# вывод первых 30 строк на экран\n",
    "sessions_per_month.head(30)"
   ]
  },
  {
   "cell_type": "markdown",
   "metadata": {
    "deletable": false,
    "editable": false
   },
   "source": [
    "### Анализ данных и подсчёт выручки"
   ]
  },
  {
   "cell_type": "markdown",
   "metadata": {
    "deletable": false,
    "editable": false
   },
   "source": [
    "Объединяем все посчитанные выше значения в один датафрейм `user_behavior`.\n",
    "Для каждой пары \"пользователь - месяц\" будут доступны информация о тарифе, количестве звонков, сообщений и потраченных мегабайтах."
   ]
  },
  {
   "cell_type": "code",
   "execution_count": 34,
   "metadata": {
    "deletable": false
   },
   "outputs": [
    {
     "data": {
      "text/plain": [
       "7.6"
      ]
     },
     "execution_count": 34,
     "metadata": {},
     "output_type": "execute_result"
    }
   ],
   "source": [
    "users['churn_date'].count() / users['churn_date'].shape[0] * 100"
   ]
  },
  {
   "cell_type": "markdown",
   "metadata": {
    "deletable": false,
    "editable": false
   },
   "source": [
    "Расторгли договор 7.6% клиентов из датасета"
   ]
  },
  {
   "cell_type": "code",
   "execution_count": 35,
   "metadata": {
    "deletable": false
   },
   "outputs": [
    {
     "data": {
      "text/html": [
       "<div>\n",
       "<style scoped>\n",
       "    .dataframe tbody tr th:only-of-type {\n",
       "        vertical-align: middle;\n",
       "    }\n",
       "\n",
       "    .dataframe tbody tr th {\n",
       "        vertical-align: top;\n",
       "    }\n",
       "\n",
       "    .dataframe thead th {\n",
       "        text-align: right;\n",
       "    }\n",
       "</style>\n",
       "<table border=\"1\" class=\"dataframe\">\n",
       "  <thead>\n",
       "    <tr style=\"text-align: right;\">\n",
       "      <th></th>\n",
       "      <th>user_id</th>\n",
       "      <th>month</th>\n",
       "      <th>calls</th>\n",
       "      <th>messages</th>\n",
       "      <th>mb_used</th>\n",
       "      <th>minutes</th>\n",
       "      <th>age</th>\n",
       "      <th>churn_date</th>\n",
       "      <th>city</th>\n",
       "      <th>first_name</th>\n",
       "      <th>last_name</th>\n",
       "      <th>reg_date</th>\n",
       "      <th>tariff</th>\n",
       "    </tr>\n",
       "  </thead>\n",
       "  <tbody>\n",
       "    <tr>\n",
       "      <th>0</th>\n",
       "      <td>1000</td>\n",
       "      <td>5</td>\n",
       "      <td>22.0</td>\n",
       "      <td>22.0</td>\n",
       "      <td>2253.49</td>\n",
       "      <td>159.0</td>\n",
       "      <td>52</td>\n",
       "      <td>NaT</td>\n",
       "      <td>Краснодар</td>\n",
       "      <td>Рафаил</td>\n",
       "      <td>Верещагин</td>\n",
       "      <td>2018-05-25</td>\n",
       "      <td>ultra</td>\n",
       "    </tr>\n",
       "    <tr>\n",
       "      <th>1</th>\n",
       "      <td>1000</td>\n",
       "      <td>6</td>\n",
       "      <td>43.0</td>\n",
       "      <td>60.0</td>\n",
       "      <td>23233.77</td>\n",
       "      <td>172.0</td>\n",
       "      <td>52</td>\n",
       "      <td>NaT</td>\n",
       "      <td>Краснодар</td>\n",
       "      <td>Рафаил</td>\n",
       "      <td>Верещагин</td>\n",
       "      <td>2018-05-25</td>\n",
       "      <td>ultra</td>\n",
       "    </tr>\n",
       "    <tr>\n",
       "      <th>2</th>\n",
       "      <td>1000</td>\n",
       "      <td>7</td>\n",
       "      <td>47.0</td>\n",
       "      <td>75.0</td>\n",
       "      <td>14003.64</td>\n",
       "      <td>340.0</td>\n",
       "      <td>52</td>\n",
       "      <td>NaT</td>\n",
       "      <td>Краснодар</td>\n",
       "      <td>Рафаил</td>\n",
       "      <td>Верещагин</td>\n",
       "      <td>2018-05-25</td>\n",
       "      <td>ultra</td>\n",
       "    </tr>\n",
       "    <tr>\n",
       "      <th>3</th>\n",
       "      <td>1000</td>\n",
       "      <td>8</td>\n",
       "      <td>52.0</td>\n",
       "      <td>81.0</td>\n",
       "      <td>14055.93</td>\n",
       "      <td>408.0</td>\n",
       "      <td>52</td>\n",
       "      <td>NaT</td>\n",
       "      <td>Краснодар</td>\n",
       "      <td>Рафаил</td>\n",
       "      <td>Верещагин</td>\n",
       "      <td>2018-05-25</td>\n",
       "      <td>ultra</td>\n",
       "    </tr>\n",
       "    <tr>\n",
       "      <th>4</th>\n",
       "      <td>1000</td>\n",
       "      <td>9</td>\n",
       "      <td>58.0</td>\n",
       "      <td>57.0</td>\n",
       "      <td>14568.91</td>\n",
       "      <td>466.0</td>\n",
       "      <td>52</td>\n",
       "      <td>NaT</td>\n",
       "      <td>Краснодар</td>\n",
       "      <td>Рафаил</td>\n",
       "      <td>Верещагин</td>\n",
       "      <td>2018-05-25</td>\n",
       "      <td>ultra</td>\n",
       "    </tr>\n",
       "  </tbody>\n",
       "</table>\n",
       "</div>"
      ],
      "text/plain": [
       "   user_id  month  calls  messages   mb_used  minutes  age churn_date  \\\n",
       "0     1000      5   22.0      22.0   2253.49    159.0   52        NaT   \n",
       "1     1000      6   43.0      60.0  23233.77    172.0   52        NaT   \n",
       "2     1000      7   47.0      75.0  14003.64    340.0   52        NaT   \n",
       "3     1000      8   52.0      81.0  14055.93    408.0   52        NaT   \n",
       "4     1000      9   58.0      57.0  14568.91    466.0   52        NaT   \n",
       "\n",
       "        city first_name  last_name   reg_date tariff  \n",
       "0  Краснодар     Рафаил  Верещагин 2018-05-25  ultra  \n",
       "1  Краснодар     Рафаил  Верещагин 2018-05-25  ultra  \n",
       "2  Краснодар     Рафаил  Верещагин 2018-05-25  ultra  \n",
       "3  Краснодар     Рафаил  Верещагин 2018-05-25  ultra  \n",
       "4  Краснодар     Рафаил  Верещагин 2018-05-25  ultra  "
      ]
     },
     "execution_count": 35,
     "metadata": {},
     "output_type": "execute_result"
    }
   ],
   "source": [
    "user_behavior = calls_per_month\\\n",
    "    .merge(messages_per_month, left_index=True, right_index=True, how='outer')\\\n",
    "    .merge(sessions_per_month, left_index=True, right_index=True, how='outer')\\\n",
    "    .merge(minutes_per_month, left_index=True, right_index=True, how='outer')\\\n",
    "    .reset_index()\\\n",
    "    .merge(users, how='left', left_on='user_id', right_on='user_id')\\\n",
    "\n",
    "user_behavior.head()"
   ]
  },
  {
   "cell_type": "markdown",
   "metadata": {
    "deletable": false,
    "editable": false
   },
   "source": [
    "Проверим пропуски в таблице `user_behavior` после объединения:"
   ]
  },
  {
   "cell_type": "code",
   "execution_count": 36,
   "metadata": {
    "deletable": false
   },
   "outputs": [
    {
     "data": {
      "text/plain": [
       "user_id          0\n",
       "month            0\n",
       "calls           40\n",
       "messages       497\n",
       "mb_used         11\n",
       "minutes         40\n",
       "age              0\n",
       "churn_date    3027\n",
       "city             0\n",
       "first_name       0\n",
       "last_name        0\n",
       "reg_date         0\n",
       "tariff           0\n",
       "dtype: int64"
      ]
     },
     "execution_count": 36,
     "metadata": {},
     "output_type": "execute_result"
    }
   ],
   "source": [
    "user_behavior.isna().sum()"
   ]
  },
  {
   "cell_type": "markdown",
   "metadata": {
    "deletable": false,
    "editable": false
   },
   "source": [
    "Заполним образовавшиеся пропуски в данных:"
   ]
  },
  {
   "cell_type": "code",
   "execution_count": 37,
   "metadata": {
    "deletable": false
   },
   "outputs": [],
   "source": [
    "user_behavior['calls'] = user_behavior['calls'].fillna(0)\n",
    "user_behavior['minutes'] = user_behavior['minutes'].fillna(0)\n",
    "user_behavior['messages'] = user_behavior['messages'].fillna(0)\n",
    "user_behavior['mb_used'] = user_behavior['mb_used'].fillna(0)"
   ]
  },
  {
   "cell_type": "markdown",
   "metadata": {
    "deletable": false,
    "editable": false
   },
   "source": [
    "Присоединяем информацию о тарифах"
   ]
  },
  {
   "cell_type": "code",
   "execution_count": 38,
   "metadata": {
    "deletable": false
   },
   "outputs": [],
   "source": [
    "# переименование столбца tariff_name на более простое tariff\n",
    "tariffs = tariffs.rename(\n",
    "    columns={\n",
    "        'tariff_name': 'tariff'\n",
    "    }\n",
    ")"
   ]
  },
  {
   "cell_type": "code",
   "execution_count": 39,
   "metadata": {
    "deletable": false
   },
   "outputs": [],
   "source": [
    "user_behavior = user_behavior.merge(tariffs, on='tariff')"
   ]
  },
  {
   "cell_type": "markdown",
   "metadata": {
    "deletable": false,
    "editable": false
   },
   "source": [
    "Считаем количество минут разговора, сообщений и мегабайт, превышающих включенные в тариф\n"
   ]
  },
  {
   "cell_type": "code",
   "execution_count": 40,
   "metadata": {
    "deletable": false
   },
   "outputs": [],
   "source": [
    "user_behavior['paid_minutes'] = user_behavior['minutes'] - user_behavior['minutes_included']\n",
    "user_behavior['paid_messages'] = user_behavior['messages'] - user_behavior['messages_included']\n",
    "user_behavior['paid_mb'] = user_behavior['mb_used'] - user_behavior['mb_per_month_included']\n",
    "\n",
    "for col in ['paid_messages', 'paid_minutes', 'paid_mb']:\n",
    "    user_behavior.loc[user_behavior[col] < 0, col] = 0"
   ]
  },
  {
   "cell_type": "markdown",
   "metadata": {
    "deletable": false,
    "editable": false
   },
   "source": [
    "Переводим превышающие тариф мегабайты в гигабайты и сохраняем в столбец `paid_gb`"
   ]
  },
  {
   "cell_type": "code",
   "execution_count": 41,
   "metadata": {
    "deletable": false
   },
   "outputs": [],
   "source": [
    "user_behavior['paid_gb'] = np.ceil(user_behavior['paid_mb'] / 1024).astype(int)"
   ]
  },
  {
   "cell_type": "markdown",
   "metadata": {
    "deletable": false,
    "editable": false
   },
   "source": [
    "Считаем выручку за минуты разговора, сообщения и интернет"
   ]
  },
  {
   "cell_type": "code",
   "execution_count": 42,
   "metadata": {
    "deletable": false
   },
   "outputs": [],
   "source": [
    "user_behavior['cost_minutes'] = user_behavior['paid_minutes'] * user_behavior['rub_per_minute']\n",
    "user_behavior['cost_messages'] = user_behavior['paid_messages'] * user_behavior['rub_per_message']\n",
    "user_behavior['cost_gb'] = user_behavior['paid_gb'] * user_behavior['rub_per_gb']"
   ]
  },
  {
   "cell_type": "markdown",
   "metadata": {
    "deletable": false,
    "editable": false
   },
   "source": [
    "Считаем помесячную выручку с каждого пользователя, она будет храниться в столбец `total_cost`"
   ]
  },
  {
   "cell_type": "code",
   "execution_count": 43,
   "metadata": {
    "deletable": false
   },
   "outputs": [],
   "source": [
    "user_behavior['total_cost'] = \\\n",
    "      user_behavior['rub_monthly_fee']\\\n",
    "    + user_behavior['cost_minutes']\\\n",
    "    + user_behavior['cost_messages']\\\n",
    "    + user_behavior['cost_gb']"
   ]
  },
  {
   "cell_type": "markdown",
   "metadata": {
    "deletable": false,
    "editable": false
   },
   "source": [
    "Датафрейм `stats_df` для каждой пары \"месяц-тариф\" будет хранить основные характеристики"
   ]
  },
  {
   "cell_type": "code",
   "execution_count": 44,
   "metadata": {
    "deletable": false
   },
   "outputs": [
    {
     "data": {
      "text/html": [
       "<div>\n",
       "<style scoped>\n",
       "    .dataframe tbody tr th:only-of-type {\n",
       "        vertical-align: middle;\n",
       "    }\n",
       "\n",
       "    .dataframe tbody tr th {\n",
       "        vertical-align: top;\n",
       "    }\n",
       "\n",
       "    .dataframe thead th {\n",
       "        text-align: right;\n",
       "    }\n",
       "</style>\n",
       "<table border=\"1\" class=\"dataframe\">\n",
       "  <thead>\n",
       "    <tr style=\"text-align: right;\">\n",
       "      <th></th>\n",
       "      <th>month</th>\n",
       "      <th>tariff</th>\n",
       "      <th>calls_mean</th>\n",
       "      <th>sessions_mean</th>\n",
       "      <th>messages_mean</th>\n",
       "      <th>minutes_mean</th>\n",
       "      <th>calls_std</th>\n",
       "      <th>sessions_std</th>\n",
       "      <th>messages_std</th>\n",
       "      <th>minutes_std</th>\n",
       "      <th>calls_median</th>\n",
       "      <th>sessions_median</th>\n",
       "      <th>messages_median</th>\n",
       "      <th>minutes_median</th>\n",
       "    </tr>\n",
       "  </thead>\n",
       "  <tbody>\n",
       "    <tr>\n",
       "      <th>0</th>\n",
       "      <td>1</td>\n",
       "      <td>smart</td>\n",
       "      <td>27.68</td>\n",
       "      <td>8513.72</td>\n",
       "      <td>18.24</td>\n",
       "      <td>203.85</td>\n",
       "      <td>20.81</td>\n",
       "      <td>6444.68</td>\n",
       "      <td>16.20</td>\n",
       "      <td>154.23</td>\n",
       "      <td>20.5</td>\n",
       "      <td>7096.18</td>\n",
       "      <td>15.0</td>\n",
       "      <td>162.5</td>\n",
       "    </tr>\n",
       "    <tr>\n",
       "      <th>1</th>\n",
       "      <td>1</td>\n",
       "      <td>ultra</td>\n",
       "      <td>59.44</td>\n",
       "      <td>13140.68</td>\n",
       "      <td>33.78</td>\n",
       "      <td>428.11</td>\n",
       "      <td>41.64</td>\n",
       "      <td>6865.35</td>\n",
       "      <td>30.67</td>\n",
       "      <td>269.76</td>\n",
       "      <td>51.0</td>\n",
       "      <td>14791.37</td>\n",
       "      <td>32.0</td>\n",
       "      <td>382.0</td>\n",
       "    </tr>\n",
       "    <tr>\n",
       "      <th>2</th>\n",
       "      <td>2</td>\n",
       "      <td>smart</td>\n",
       "      <td>40.19</td>\n",
       "      <td>11597.05</td>\n",
       "      <td>24.09</td>\n",
       "      <td>298.69</td>\n",
       "      <td>25.39</td>\n",
       "      <td>6247.35</td>\n",
       "      <td>21.75</td>\n",
       "      <td>190.82</td>\n",
       "      <td>38.5</td>\n",
       "      <td>12553.71</td>\n",
       "      <td>20.0</td>\n",
       "      <td>258.0</td>\n",
       "    </tr>\n",
       "    <tr>\n",
       "      <th>3</th>\n",
       "      <td>2</td>\n",
       "      <td>ultra</td>\n",
       "      <td>41.54</td>\n",
       "      <td>11775.94</td>\n",
       "      <td>21.96</td>\n",
       "      <td>297.12</td>\n",
       "      <td>40.97</td>\n",
       "      <td>10644.64</td>\n",
       "      <td>26.77</td>\n",
       "      <td>296.51</td>\n",
       "      <td>25.0</td>\n",
       "      <td>7327.12</td>\n",
       "      <td>5.5</td>\n",
       "      <td>168.0</td>\n",
       "    </tr>\n",
       "    <tr>\n",
       "      <th>4</th>\n",
       "      <td>3</td>\n",
       "      <td>smart</td>\n",
       "      <td>54.32</td>\n",
       "      <td>15104.16</td>\n",
       "      <td>31.86</td>\n",
       "      <td>390.05</td>\n",
       "      <td>25.54</td>\n",
       "      <td>5828.24</td>\n",
       "      <td>26.80</td>\n",
       "      <td>191.89</td>\n",
       "      <td>59.0</td>\n",
       "      <td>15670.25</td>\n",
       "      <td>23.0</td>\n",
       "      <td>409.0</td>\n",
       "    </tr>\n",
       "    <tr>\n",
       "      <th>5</th>\n",
       "      <td>3</td>\n",
       "      <td>ultra</td>\n",
       "      <td>67.68</td>\n",
       "      <td>17535.55</td>\n",
       "      <td>32.30</td>\n",
       "      <td>489.65</td>\n",
       "      <td>44.84</td>\n",
       "      <td>10951.79</td>\n",
       "      <td>41.62</td>\n",
       "      <td>333.74</td>\n",
       "      <td>57.0</td>\n",
       "      <td>17495.18</td>\n",
       "      <td>20.0</td>\n",
       "      <td>403.0</td>\n",
       "    </tr>\n",
       "    <tr>\n",
       "      <th>6</th>\n",
       "      <td>4</td>\n",
       "      <td>smart</td>\n",
       "      <td>51.31</td>\n",
       "      <td>13462.18</td>\n",
       "      <td>30.74</td>\n",
       "      <td>367.13</td>\n",
       "      <td>25.70</td>\n",
       "      <td>5698.25</td>\n",
       "      <td>24.54</td>\n",
       "      <td>186.49</td>\n",
       "      <td>52.0</td>\n",
       "      <td>14087.65</td>\n",
       "      <td>28.0</td>\n",
       "      <td>368.5</td>\n",
       "    </tr>\n",
       "    <tr>\n",
       "      <th>7</th>\n",
       "      <td>4</td>\n",
       "      <td>ultra</td>\n",
       "      <td>64.09</td>\n",
       "      <td>16828.13</td>\n",
       "      <td>31.56</td>\n",
       "      <td>458.02</td>\n",
       "      <td>36.27</td>\n",
       "      <td>9718.65</td>\n",
       "      <td>37.51</td>\n",
       "      <td>267.68</td>\n",
       "      <td>61.0</td>\n",
       "      <td>16645.78</td>\n",
       "      <td>17.0</td>\n",
       "      <td>453.0</td>\n",
       "    </tr>\n",
       "    <tr>\n",
       "      <th>8</th>\n",
       "      <td>5</td>\n",
       "      <td>smart</td>\n",
       "      <td>55.24</td>\n",
       "      <td>15805.18</td>\n",
       "      <td>33.77</td>\n",
       "      <td>387.36</td>\n",
       "      <td>25.38</td>\n",
       "      <td>5978.23</td>\n",
       "      <td>27.04</td>\n",
       "      <td>186.60</td>\n",
       "      <td>59.0</td>\n",
       "      <td>16323.94</td>\n",
       "      <td>30.0</td>\n",
       "      <td>433.0</td>\n",
       "    </tr>\n",
       "    <tr>\n",
       "      <th>9</th>\n",
       "      <td>5</td>\n",
       "      <td>ultra</td>\n",
       "      <td>72.51</td>\n",
       "      <td>19363.15</td>\n",
       "      <td>37.85</td>\n",
       "      <td>510.33</td>\n",
       "      <td>41.08</td>\n",
       "      <td>10046.11</td>\n",
       "      <td>40.31</td>\n",
       "      <td>289.60</td>\n",
       "      <td>75.0</td>\n",
       "      <td>18696.43</td>\n",
       "      <td>25.0</td>\n",
       "      <td>519.0</td>\n",
       "    </tr>\n",
       "  </tbody>\n",
       "</table>\n",
       "</div>"
      ],
      "text/plain": [
       "   month tariff  calls_mean  sessions_mean  messages_mean  minutes_mean  \\\n",
       "0      1  smart       27.68        8513.72          18.24        203.85   \n",
       "1      1  ultra       59.44       13140.68          33.78        428.11   \n",
       "2      2  smart       40.19       11597.05          24.09        298.69   \n",
       "3      2  ultra       41.54       11775.94          21.96        297.12   \n",
       "4      3  smart       54.32       15104.16          31.86        390.05   \n",
       "5      3  ultra       67.68       17535.55          32.30        489.65   \n",
       "6      4  smart       51.31       13462.18          30.74        367.13   \n",
       "7      4  ultra       64.09       16828.13          31.56        458.02   \n",
       "8      5  smart       55.24       15805.18          33.77        387.36   \n",
       "9      5  ultra       72.51       19363.15          37.85        510.33   \n",
       "\n",
       "   calls_std  sessions_std  messages_std  minutes_std  calls_median  \\\n",
       "0      20.81       6444.68         16.20       154.23          20.5   \n",
       "1      41.64       6865.35         30.67       269.76          51.0   \n",
       "2      25.39       6247.35         21.75       190.82          38.5   \n",
       "3      40.97      10644.64         26.77       296.51          25.0   \n",
       "4      25.54       5828.24         26.80       191.89          59.0   \n",
       "5      44.84      10951.79         41.62       333.74          57.0   \n",
       "6      25.70       5698.25         24.54       186.49          52.0   \n",
       "7      36.27       9718.65         37.51       267.68          61.0   \n",
       "8      25.38       5978.23         27.04       186.60          59.0   \n",
       "9      41.08      10046.11         40.31       289.60          75.0   \n",
       "\n",
       "   sessions_median  messages_median  minutes_median  \n",
       "0          7096.18             15.0           162.5  \n",
       "1         14791.37             32.0           382.0  \n",
       "2         12553.71             20.0           258.0  \n",
       "3          7327.12              5.5           168.0  \n",
       "4         15670.25             23.0           409.0  \n",
       "5         17495.18             20.0           403.0  \n",
       "6         14087.65             28.0           368.5  \n",
       "7         16645.78             17.0           453.0  \n",
       "8         16323.94             30.0           433.0  \n",
       "9         18696.43             25.0           519.0  "
      ]
     },
     "execution_count": 44,
     "metadata": {},
     "output_type": "execute_result"
    }
   ],
   "source": [
    "# сохранение статистических метрик для каждой пары месяц-тариф\n",
    "# в одной таблице stats_df (среднее значение, стандартное отклонение, медиана)\n",
    "stats_df = user_behavior.pivot_table(\n",
    "            index=['month', 'tariff'],\\\n",
    "            values=['calls', 'minutes', 'messages', 'mb_used'],\\\n",
    "            aggfunc=['mean', 'std', 'median']\\\n",
    ").round(2).reset_index()\n",
    "\n",
    "stats_df.columns=['month', 'tariff', 'calls_mean', 'sessions_mean', 'messages_mean', 'minutes_mean',\n",
    "                                     'calls_std',  'sessions_std', 'messages_std', 'minutes_std', \n",
    "                                     'calls_median', 'sessions_median', 'messages_median',  'minutes_median']\n",
    "\n",
    "stats_df.head(10)"
   ]
  },
  {
   "cell_type": "markdown",
   "metadata": {
    "deletable": false,
    "editable": false
   },
   "source": [
    "Распределение среднего количества звонков по видам тарифов и месяцам"
   ]
  },
  {
   "cell_type": "code",
   "execution_count": 45,
   "metadata": {
    "deletable": false
   },
   "outputs": [
    {
     "data": {
      "text/plain": [
       "[Text(0.5, 0, 'Номер месяца'), Text(0, 0.5, 'Среднее количество звонков')]"
      ]
     },
     "execution_count": 45,
     "metadata": {},
     "output_type": "execute_result"
    },
    {
     "data": {
      "image/png": "[encoded data removed]",
      "text/plain": [
       "<Figure size 432x288 with 1 Axes>"
      ]
     },
     "metadata": {},
     "output_type": "display_data"
    }
   ],
   "source": [
    "ax = sns.barplot(x='month',\n",
    "            y='calls_mean',\n",
    "            hue=\"tariff\",\n",
    "            data=stats_df)\n",
    "ax.set_title('Распределение количества звонков по видам тарифов и месяцам')\n",
    "ax.set(xlabel='Номер месяца', ylabel='Среднее количество звонков')"
   ]
  },
  {
   "cell_type": "code",
   "execution_count": 46,
   "metadata": {
    "deletable": false
   },
   "outputs": [
    {
     "data": {
      "image/png": "[encoded data removed]",
      "text/plain": [
       "<Figure size 432x288 with 1 Axes>"
      ]
     },
     "metadata": {},
     "output_type": "display_data"
    }
   ],
   "source": [
    "user_behavior.groupby('tariff')['calls'].plot(kind='hist', bins=35, alpha=0.65)\n",
    "plt.legend(['Smart', 'Ultra'])\n",
    "plt.xlabel('Количество звонков')\n",
    "plt.ylabel('Количество клиентов')\n",
    "plt.show()"
   ]
  },
  {
   "cell_type": "markdown",
   "metadata": {
    "deletable": false,
    "editable": false
   },
   "source": [
    "Распределение средней продолжительности звонков по видам тарифов и месяцам"
   ]
  },
  {
   "cell_type": "code",
   "execution_count": 47,
   "metadata": {
    "deletable": false
   },
   "outputs": [
    {
     "data": {
      "text/plain": [
       "[Text(0.5, 0, 'Номер месяца'),\n",
       " Text(0, 0.5, 'Средняя продолжительность звонков')]"
      ]
     },
     "execution_count": 47,
     "metadata": {},
     "output_type": "execute_result"
    },
    {
     "data": {
      "image/png": "[encoded data removed]",
      "text/plain": [
       "<Figure size 432x288 with 1 Axes>"
      ]
     },
     "metadata": {},
     "output_type": "display_data"
    }
   ],
   "source": [
    "ax = sns.barplot(x='month',\n",
    "            y='minutes_mean',\n",
    "            hue=\"tariff\",\n",
    "            data=stats_df)\n",
    "ax.set_title('Распределение продолжительности звонков по видам тарифов и месяцам')\n",
    "ax.set(xlabel='Номер месяца', ylabel='Средняя продолжительность звонков')"
   ]
  },
  {
   "cell_type": "code",
   "execution_count": 48,
   "metadata": {
    "deletable": false
   },
   "outputs": [
    {
     "data": {
      "text/plain": [
       "<AxesSubplot:>"
      ]
     },
     "execution_count": 48,
     "metadata": {},
     "output_type": "execute_result"
    },
    {
     "data": {
      "image/png": "[encoded data removed]",
      "text/plain": [
       "<Figure size 432x288 with 1 Axes>"
      ]
     },
     "metadata": {},
     "output_type": "display_data"
    }
   ],
   "source": [
    "user_behavior[user_behavior['tariff'] =='smart']['minutes'].hist(bins=35, alpha=0.65)\n",
    "user_behavior[user_behavior['tariff'] =='ultra']['minutes'].hist(bins=35, alpha=0.65)"
   ]
  },
  {
   "cell_type": "markdown",
   "metadata": {
    "deletable": false,
    "editable": false
   },
   "source": [
    "Средняя длительность разговоров у абонентов тарифа Ultra больше, чем у абонентов тарифа Smart. В течение года пользователи обоих тарифов увеличивают среднюю продолжительность своих разговоров. Рост средней длительности разговоров у абонентов тарифа Smart равномерный в течение года. Пользователи тарифа Ultra не проявляют подобной линейной стабильности. Стоит отметить, что феврале у абонентов обоих тарифных планов наблюдались самые низкие показатели."
   ]
  },
  {
   "cell_type": "markdown",
   "metadata": {
    "deletable": false,
    "editable": false
   },
   "source": [
    "Распределение среднего количества сообщений по видам тарифов и месяцам"
   ]
  },
  {
   "cell_type": "code",
   "execution_count": 49,
   "metadata": {
    "deletable": false
   },
   "outputs": [
    {
     "data": {
      "image/png": "[encoded data removed]",
      "text/plain": [
       "<Figure size 432x288 with 1 Axes>"
      ]
     },
     "metadata": {},
     "output_type": "display_data"
    }
   ],
   "source": [
    "ax = sns.barplot(x='month',\n",
    "            y='messages_mean',\n",
    "            hue=\"tariff\",\n",
    "            data=stats_df)\n",
    "ax.set_title('Распределение количества сообщений по видам тарифов и месяцам')\n",
    "ax.set(xlabel='Номер месяца', ylabel='Среднее количество сообщений');"
   ]
  },
  {
   "cell_type": "code",
   "execution_count": 50,
   "metadata": {
    "deletable": false
   },
   "outputs": [
    {
     "data": {
      "text/plain": [
       "<AxesSubplot:>"
      ]
     },
     "execution_count": 50,
     "metadata": {},
     "output_type": "execute_result"
    },
    {
     "data": {
      "image/png": "[encoded data removed]",
      "text/plain": [
       "<Figure size 432x288 with 1 Axes>"
      ]
     },
     "metadata": {},
     "output_type": "display_data"
    }
   ],
   "source": [
    "user_behavior[user_behavior['tariff'] =='smart']['messages'].hist(bins=35, alpha=0.65)\n",
    "user_behavior[user_behavior['tariff'] =='ultra']['messages'].hist(bins=35, alpha=0.65)"
   ]
  },
  {
   "cell_type": "markdown",
   "metadata": {},
   "source": [
    "В среднем количество сообщений пользователи тарифа Ultra отправляют больше - почти на 20 сообщений больше, чем пользователи тарифа Smart. Количество сообщений в течение года на обоих тарифак растет. Динамика по отправке сообщений схожа с тенденциями по длительности разговоров: в феврале отмечено наименьшее количество сообщений за год и пользователи тарифа Ultra также проявляют нелинейную положительную динамику."
   ]
  },
  {
   "cell_type": "code",
   "execution_count": 51,
   "metadata": {
    "deletable": false
   },
   "outputs": [
    {
     "data": {
      "image/png": "[encoded data removed]",
      "text/plain": [
       "<Figure size 432x288 with 1 Axes>"
      ]
     },
     "metadata": {},
     "output_type": "display_data"
    }
   ],
   "source": [
    "ax = sns.barplot(x='month',\n",
    "            y='sessions_mean',\n",
    "            hue=\"tariff\",\n",
    "            data=stats_df)\n",
    "ax.set_title('Распределение количества потраченного трафика (Мб) по видам тарифов и месяцам')\n",
    "ax.set(xlabel='Номер месяца', ylabel='Среднее количество мегабайт');"
   ]
  },
  {
   "cell_type": "markdown",
   "metadata": {
    "deletable": false,
    "editable": false
   },
   "source": [
    "Сравнение потраченных мегабайт среди пользователей тарифов Smart и Ultra"
   ]
  },
  {
   "cell_type": "code",
   "execution_count": 52,
   "metadata": {
    "deletable": false
   },
   "outputs": [
    {
     "data": {
      "text/plain": [
       "<AxesSubplot:>"
      ]
     },
     "execution_count": 52,
     "metadata": {},
     "output_type": "execute_result"
    },
    {
     "data": {
      "image/png": "[encoded data removed]",
      "text/plain": [
       "<Figure size 432x288 with 1 Axes>"
      ]
     },
     "metadata": {},
     "output_type": "display_data"
    }
   ],
   "source": [
    "user_behavior[user_behavior['tariff'] =='smart']['mb_used'].hist(bins=35, alpha=0.65)\n",
    "user_behavior[user_behavior['tariff'] =='ultra']['mb_used'].hist(bins=35, alpha=0.65)"
   ]
  },
  {
   "cell_type": "markdown",
   "metadata": {
    "deletable": false,
    "editable": false
   },
   "source": [
    "Меньше всего пользователи использовали интернет в январе, феврале и апреле. Чаще всего абоненты тарифа Smart тратят 15-17 Гб, а абоненты тарифного плана Ultra - 19-21 ГБ."
   ]
  },
  {
   "cell_type": "markdown",
   "metadata": {
    "deletable": false,
    "editable": false
   },
   "source": [
    "### Проверка гипотез"
   ]
  },
  {
   "cell_type": "markdown",
   "metadata": {
    "deletable": false,
    "editable": false,
    "tags": [
     "start_task"
    ]
   },
   "source": [
    "Проверим гипотезу: средняя выручка пользователей тарифов «Ультра» и «Смарт» различаются;\n",
    "\n",
    "```\n",
    "H_0: Выручка (total_cost) пользователей \"Ультра\" = выручка (total_cost) пользователей \"Смарт\"`\n",
    "H_a: Выручка (total_cost) пользователей \"Ультра\" ≠ выручка (total_cost) пользователей \"Смарт\"`\n",
    "alpha = 0.05\n",
    "```"
   ]
  },
  {
   "cell_type": "code",
   "execution_count": 53,
   "metadata": {},
   "outputs": [],
   "source": [
    "ultra_tariff = user_behavior.loc[user_behavior['tariff'] =='ultra', 'total_cost']\n",
    "smart_tariff = user_behavior.loc[user_behavior['tariff'] =='smart', 'total_cost']"
   ]
  },
  {
   "cell_type": "code",
   "execution_count": 54,
   "metadata": {
    "deletable": false
   },
   "outputs": [
    {
     "name": "stdout",
     "output_type": "stream",
     "text": [
      "4.2606313931076085e-250\n",
      "Отвергаем нулевую гипотезу\n"
     ]
    }
   ],
   "source": [
    "results = st.ttest_ind (ultra_tariff, smart_tariff, equal_var = False)\n",
    "alpha = 0.05\n",
    "\n",
    "# вывод значения p-value на экран \n",
    "print(results.pvalue)\n",
    "# условный оператор с выводом строки с ответом\n",
    "if results.pvalue < alpha:\n",
    "    print(\"Отвергаем нулевую гипотезу\")\n",
    "else:\n",
    "    print(\"Не получилось отвергнуть нулевую гипотезу\") "
   ]
  },
  {
   "cell_type": "markdown",
   "metadata": {
    "deletable": false,
    "editable": false,
    "tags": [
     "start_task"
    ]
   },
   "source": [
    "Проверим гипотезу: пользователи из Москвы приносят больше выручки, чем пользователи из других городов;\n",
    "\n",
    "```\n",
    "H_0: Выручка (total_cost) пользователей из Москвы = выручка (total_cost) пользователей не из Москвы`\n",
    "H_1: Выручка (total_cost) пользователей из Москвы ≠ выручка (total_cost) пользователей не из Москвы`\n",
    "alpha = 0.05\n",
    "```"
   ]
  },
  {
   "cell_type": "code",
   "execution_count": 55,
   "metadata": {
    "deletable": false
   },
   "outputs": [
    {
     "name": "stdout",
     "output_type": "stream",
     "text": [
      "0.5257376663729298\n",
      "Не получилось отвергнуть нулевую гипотезу\n"
     ]
    }
   ],
   "source": [
    "mos_users = user_behavior.loc[user_behavior['city'] =='Москва', 'total_cost']\n",
    "nonmos_users = user_behavior.loc[user_behavior['city'] !='Москва', 'total_cost']\n",
    "results = st.ttest_ind (mos_users, nonmos_users, equal_var = False)\n",
    "alpha = 0.05\n",
    "# вывод значения p-value на экран\n",
    "print(results.pvalue)\n",
    "# условный оператор с выводом строки с ответом\n",
    "if results.pvalue < alpha:\n",
    "    print(\"Отвергаем нулевую гипотезу\")\n",
    "else:\n",
    "    print(\"Не получилось отвергнуть нулевую гипотезу\") "
   ]
  },
  {
   "cell_type": "markdown",
   "metadata": {
    "deletable": false
   },
   "source": [
    "## Выводы:"
   ]
  },
  {
   "cell_type": "markdown",
   "metadata": {},
   "source": [
    "Провели необходимую предобработку данных. Анализ пользовательского поведения. По результатам тестирования гипотез можем констатировать:\n",
    "\n",
    "а) выручка статистически значемо различается для двух различных тарифов,\n",
    "\n",
    "б) выручка (совокупная) пользователей Московского региона статистически значимо не отличается от выручки других регионов."
   ]
  }
 ],
 "metadata": {
  "ExecuteTimeLog": [
   {
    "duration": 640,
    "start_time": "2022-10-04T10:35:50.195Z"
   },
   {
    "duration": 171,
    "start_time": "2022-10-04T10:35:50.837Z"
   },
   {
    "duration": 13,
    "start_time": "2022-10-04T10:35:51.009Z"
   },
   {
    "duration": 38,
    "start_time": "2022-10-04T10:35:51.025Z"
   },
   {
    "duration": 172,
    "start_time": "2022-10-04T10:35:51.066Z"
   },
   {
    "duration": 161,
    "start_time": "2022-10-04T10:35:51.240Z"
   },
   {
    "duration": 11,
    "start_time": "2022-10-04T10:35:51.402Z"
   },
   {
    "duration": 45,
    "start_time": "2022-10-04T10:35:51.414Z"
   },
   {
    "duration": 208,
    "start_time": "2022-10-04T10:35:51.462Z"
   },
   {
    "duration": 112,
    "start_time": "2022-10-04T10:35:51.672Z"
   },
   {
    "duration": 9,
    "start_time": "2022-10-04T10:35:51.786Z"
   },
   {
    "duration": 26,
    "start_time": "2022-10-04T10:35:51.797Z"
   },
   {
    "duration": 16,
    "start_time": "2022-10-04T10:35:51.825Z"
   },
   {
    "duration": 12,
    "start_time": "2022-10-04T10:35:51.844Z"
   },
   {
    "duration": 15,
    "start_time": "2022-10-04T10:35:51.858Z"
   },
   {
    "duration": 41,
    "start_time": "2022-10-04T10:35:51.874Z"
   },
   {
    "duration": 11,
    "start_time": "2022-10-04T10:35:51.916Z"
   },
   {
    "duration": 25,
    "start_time": "2022-10-04T10:35:51.928Z"
   },
   {
    "duration": 83,
    "start_time": "2022-10-04T10:35:51.954Z"
   },
   {
    "duration": 15,
    "start_time": "2022-10-04T10:35:52.039Z"
   },
   {
    "duration": 10,
    "start_time": "2022-10-04T10:35:52.055Z"
   },
   {
    "duration": 27,
    "start_time": "2022-10-04T10:35:52.067Z"
   },
   {
    "duration": 15,
    "start_time": "2022-10-04T10:35:52.096Z"
   },
   {
    "duration": 19,
    "start_time": "2022-10-04T10:35:52.113Z"
   },
   {
    "duration": 45,
    "start_time": "2022-10-04T10:35:52.154Z"
   },
   {
    "duration": 32,
    "start_time": "2022-10-04T10:35:52.201Z"
   },
   {
    "duration": 19,
    "start_time": "2022-10-04T10:35:52.235Z"
   },
   {
    "duration": 2,
    "start_time": "2022-10-04T10:35:52.256Z"
   },
   {
    "duration": 9,
    "start_time": "2022-10-04T10:35:52.259Z"
   },
   {
    "duration": 6,
    "start_time": "2022-10-04T10:35:52.269Z"
   },
   {
    "duration": 5,
    "start_time": "2022-10-04T10:35:52.277Z"
   },
   {
    "duration": 8,
    "start_time": "2022-10-04T10:35:52.284Z"
   },
   {
    "duration": 8,
    "start_time": "2022-10-04T10:35:52.293Z"
   },
   {
    "duration": 85,
    "start_time": "2022-10-04T10:35:52.303Z"
   },
   {
    "duration": 0,
    "start_time": "2022-10-04T10:35:52.391Z"
   },
   {
    "duration": 0,
    "start_time": "2022-10-04T10:35:52.392Z"
   },
   {
    "duration": 1,
    "start_time": "2022-10-04T10:35:52.393Z"
   },
   {
    "duration": 0,
    "start_time": "2022-10-04T10:35:52.395Z"
   },
   {
    "duration": 0,
    "start_time": "2022-10-04T10:35:52.396Z"
   },
   {
    "duration": 0,
    "start_time": "2022-10-04T10:35:52.397Z"
   },
   {
    "duration": 0,
    "start_time": "2022-10-04T10:35:52.398Z"
   },
   {
    "duration": 0,
    "start_time": "2022-10-04T10:35:52.399Z"
   },
   {
    "duration": 0,
    "start_time": "2022-10-04T10:35:52.400Z"
   },
   {
    "duration": 0,
    "start_time": "2022-10-04T10:35:52.401Z"
   },
   {
    "duration": 0,
    "start_time": "2022-10-04T10:35:52.402Z"
   },
   {
    "duration": 0,
    "start_time": "2022-10-04T10:35:52.403Z"
   },
   {
    "duration": 0,
    "start_time": "2022-10-04T10:35:52.404Z"
   },
   {
    "duration": 0,
    "start_time": "2022-10-04T10:35:52.405Z"
   },
   {
    "duration": 0,
    "start_time": "2022-10-04T10:35:52.406Z"
   },
   {
    "duration": 0,
    "start_time": "2022-10-04T10:35:52.407Z"
   },
   {
    "duration": 0,
    "start_time": "2022-10-04T10:35:52.408Z"
   },
   {
    "duration": 0,
    "start_time": "2022-10-04T10:35:52.409Z"
   },
   {
    "duration": 0,
    "start_time": "2022-10-04T10:35:52.410Z"
   },
   {
    "duration": 0,
    "start_time": "2022-10-04T10:35:52.412Z"
   },
   {
    "duration": 654,
    "start_time": "2022-10-04T10:37:16.342Z"
   },
   {
    "duration": 175,
    "start_time": "2022-10-04T10:37:16.998Z"
   },
   {
    "duration": 14,
    "start_time": "2022-10-04T10:37:17.175Z"
   },
   {
    "duration": 27,
    "start_time": "2022-10-04T10:37:17.192Z"
   },
   {
    "duration": 188,
    "start_time": "2022-10-04T10:37:17.223Z"
   },
   {
    "duration": 143,
    "start_time": "2022-10-04T10:37:17.414Z"
   },
   {
    "duration": 11,
    "start_time": "2022-10-04T10:37:17.558Z"
   },
   {
    "duration": 23,
    "start_time": "2022-10-04T10:37:17.570Z"
   },
   {
    "duration": 172,
    "start_time": "2022-10-04T10:37:17.596Z"
   },
   {
    "duration": 99,
    "start_time": "2022-10-04T10:37:17.771Z"
   },
   {
    "duration": 8,
    "start_time": "2022-10-04T10:37:17.873Z"
   },
   {
    "duration": 20,
    "start_time": "2022-10-04T10:37:17.882Z"
   },
   {
    "duration": 16,
    "start_time": "2022-10-04T10:37:17.903Z"
   },
   {
    "duration": 7,
    "start_time": "2022-10-04T10:37:17.922Z"
   },
   {
    "duration": 24,
    "start_time": "2022-10-04T10:37:17.931Z"
   },
   {
    "duration": 29,
    "start_time": "2022-10-04T10:37:17.957Z"
   },
   {
    "duration": 10,
    "start_time": "2022-10-04T10:37:17.988Z"
   },
   {
    "duration": 14,
    "start_time": "2022-10-04T10:37:17.999Z"
   },
   {
    "duration": 77,
    "start_time": "2022-10-04T10:37:18.015Z"
   },
   {
    "duration": 7,
    "start_time": "2022-10-04T10:37:18.093Z"
   },
   {
    "duration": 16,
    "start_time": "2022-10-04T10:37:18.101Z"
   },
   {
    "duration": 30,
    "start_time": "2022-10-04T10:37:18.118Z"
   },
   {
    "duration": 17,
    "start_time": "2022-10-04T10:37:18.150Z"
   },
   {
    "duration": 18,
    "start_time": "2022-10-04T10:37:18.169Z"
   },
   {
    "duration": 44,
    "start_time": "2022-10-04T10:37:18.189Z"
   },
   {
    "duration": 42,
    "start_time": "2022-10-04T10:37:18.253Z"
   },
   {
    "duration": 3,
    "start_time": "2022-10-04T10:37:18.298Z"
   },
   {
    "duration": 5,
    "start_time": "2022-10-04T10:37:18.303Z"
   },
   {
    "duration": 9,
    "start_time": "2022-10-04T10:37:18.310Z"
   },
   {
    "duration": 12,
    "start_time": "2022-10-04T10:37:18.320Z"
   },
   {
    "duration": 5,
    "start_time": "2022-10-04T10:37:18.334Z"
   },
   {
    "duration": 6,
    "start_time": "2022-10-04T10:37:18.340Z"
   },
   {
    "duration": 8,
    "start_time": "2022-10-04T10:37:18.347Z"
   },
   {
    "duration": 75,
    "start_time": "2022-10-04T10:37:18.356Z"
   },
   {
    "duration": 0,
    "start_time": "2022-10-04T10:37:18.433Z"
   },
   {
    "duration": 0,
    "start_time": "2022-10-04T10:37:18.434Z"
   },
   {
    "duration": 0,
    "start_time": "2022-10-04T10:37:18.435Z"
   },
   {
    "duration": 0,
    "start_time": "2022-10-04T10:37:18.436Z"
   },
   {
    "duration": 0,
    "start_time": "2022-10-04T10:37:18.437Z"
   },
   {
    "duration": 0,
    "start_time": "2022-10-04T10:37:18.438Z"
   },
   {
    "duration": 0,
    "start_time": "2022-10-04T10:37:18.439Z"
   },
   {
    "duration": 0,
    "start_time": "2022-10-04T10:37:18.454Z"
   },
   {
    "duration": 0,
    "start_time": "2022-10-04T10:37:18.455Z"
   },
   {
    "duration": 0,
    "start_time": "2022-10-04T10:37:18.456Z"
   },
   {
    "duration": 0,
    "start_time": "2022-10-04T10:37:18.456Z"
   },
   {
    "duration": 0,
    "start_time": "2022-10-04T10:37:18.458Z"
   },
   {
    "duration": 0,
    "start_time": "2022-10-04T10:37:18.458Z"
   },
   {
    "duration": 0,
    "start_time": "2022-10-04T10:37:18.459Z"
   },
   {
    "duration": 0,
    "start_time": "2022-10-04T10:37:18.460Z"
   },
   {
    "duration": 0,
    "start_time": "2022-10-04T10:37:18.461Z"
   },
   {
    "duration": 0,
    "start_time": "2022-10-04T10:37:18.462Z"
   },
   {
    "duration": 0,
    "start_time": "2022-10-04T10:37:18.463Z"
   },
   {
    "duration": 0,
    "start_time": "2022-10-04T10:37:18.464Z"
   },
   {
    "duration": 0,
    "start_time": "2022-10-04T10:37:18.465Z"
   },
   {
    "duration": 34,
    "start_time": "2022-10-04T10:40:49.685Z"
   },
   {
    "duration": 33,
    "start_time": "2022-10-04T10:40:50.805Z"
   },
   {
    "duration": 686,
    "start_time": "2022-10-04T10:51:52.089Z"
   },
   {
    "duration": 178,
    "start_time": "2022-10-04T10:51:52.777Z"
   },
   {
    "duration": 15,
    "start_time": "2022-10-04T10:51:52.957Z"
   },
   {
    "duration": 26,
    "start_time": "2022-10-04T10:51:52.974Z"
   },
   {
    "duration": 194,
    "start_time": "2022-10-04T10:51:53.003Z"
   },
   {
    "duration": 143,
    "start_time": "2022-10-04T10:51:53.199Z"
   },
   {
    "duration": 11,
    "start_time": "2022-10-04T10:51:53.345Z"
   },
   {
    "duration": 37,
    "start_time": "2022-10-04T10:51:53.357Z"
   },
   {
    "duration": 159,
    "start_time": "2022-10-04T10:51:53.396Z"
   },
   {
    "duration": 99,
    "start_time": "2022-10-04T10:51:53.556Z"
   },
   {
    "duration": 10,
    "start_time": "2022-10-04T10:51:53.657Z"
   },
   {
    "duration": 23,
    "start_time": "2022-10-04T10:51:53.669Z"
   },
   {
    "duration": 16,
    "start_time": "2022-10-04T10:51:53.694Z"
   },
   {
    "duration": 9,
    "start_time": "2022-10-04T10:51:53.713Z"
   },
   {
    "duration": 41,
    "start_time": "2022-10-04T10:51:53.724Z"
   },
   {
    "duration": 52,
    "start_time": "2022-10-04T10:51:53.767Z"
   },
   {
    "duration": 11,
    "start_time": "2022-10-04T10:51:53.822Z"
   },
   {
    "duration": 27,
    "start_time": "2022-10-04T10:51:53.835Z"
   },
   {
    "duration": 133,
    "start_time": "2022-10-04T10:51:53.864Z"
   },
   {
    "duration": 7,
    "start_time": "2022-10-04T10:51:53.999Z"
   },
   {
    "duration": 10,
    "start_time": "2022-10-04T10:51:54.008Z"
   },
   {
    "duration": 42,
    "start_time": "2022-10-04T10:51:54.020Z"
   },
   {
    "duration": 16,
    "start_time": "2022-10-04T10:51:54.064Z"
   },
   {
    "duration": 18,
    "start_time": "2022-10-04T10:51:54.082Z"
   },
   {
    "duration": 25,
    "start_time": "2022-10-04T10:51:54.102Z"
   },
   {
    "duration": 98,
    "start_time": "2022-10-04T10:51:54.129Z"
   },
   {
    "duration": 0,
    "start_time": "2022-10-04T10:51:54.230Z"
   },
   {
    "duration": 0,
    "start_time": "2022-10-04T10:51:54.231Z"
   },
   {
    "duration": 1,
    "start_time": "2022-10-04T10:51:54.232Z"
   },
   {
    "duration": 0,
    "start_time": "2022-10-04T10:51:54.234Z"
   },
   {
    "duration": 0,
    "start_time": "2022-10-04T10:51:54.254Z"
   },
   {
    "duration": 0,
    "start_time": "2022-10-04T10:51:54.255Z"
   },
   {
    "duration": 0,
    "start_time": "2022-10-04T10:51:54.256Z"
   },
   {
    "duration": 0,
    "start_time": "2022-10-04T10:51:54.258Z"
   },
   {
    "duration": 0,
    "start_time": "2022-10-04T10:51:54.259Z"
   },
   {
    "duration": 0,
    "start_time": "2022-10-04T10:51:54.260Z"
   },
   {
    "duration": 0,
    "start_time": "2022-10-04T10:51:54.261Z"
   },
   {
    "duration": 0,
    "start_time": "2022-10-04T10:51:54.263Z"
   },
   {
    "duration": 0,
    "start_time": "2022-10-04T10:51:54.264Z"
   },
   {
    "duration": 0,
    "start_time": "2022-10-04T10:51:54.265Z"
   },
   {
    "duration": 0,
    "start_time": "2022-10-04T10:51:54.266Z"
   },
   {
    "duration": 0,
    "start_time": "2022-10-04T10:51:54.267Z"
   },
   {
    "duration": 0,
    "start_time": "2022-10-04T10:51:54.268Z"
   },
   {
    "duration": 0,
    "start_time": "2022-10-04T10:51:54.269Z"
   },
   {
    "duration": 0,
    "start_time": "2022-10-04T10:51:54.270Z"
   },
   {
    "duration": 0,
    "start_time": "2022-10-04T10:51:54.271Z"
   },
   {
    "duration": 0,
    "start_time": "2022-10-04T10:51:54.273Z"
   },
   {
    "duration": 0,
    "start_time": "2022-10-04T10:51:54.275Z"
   },
   {
    "duration": 0,
    "start_time": "2022-10-04T10:51:54.276Z"
   },
   {
    "duration": 0,
    "start_time": "2022-10-04T10:51:54.278Z"
   },
   {
    "duration": 0,
    "start_time": "2022-10-04T10:51:54.280Z"
   },
   {
    "duration": 0,
    "start_time": "2022-10-04T10:51:54.282Z"
   },
   {
    "duration": 0,
    "start_time": "2022-10-04T10:51:54.283Z"
   },
   {
    "duration": 0,
    "start_time": "2022-10-04T10:51:54.284Z"
   },
   {
    "duration": 713,
    "start_time": "2022-10-04T10:52:40.458Z"
   },
   {
    "duration": 191,
    "start_time": "2022-10-04T10:52:41.174Z"
   },
   {
    "duration": 15,
    "start_time": "2022-10-04T10:52:41.367Z"
   },
   {
    "duration": 27,
    "start_time": "2022-10-04T10:52:41.384Z"
   },
   {
    "duration": 273,
    "start_time": "2022-10-04T10:52:41.414Z"
   },
   {
    "duration": 192,
    "start_time": "2022-10-04T10:52:41.690Z"
   },
   {
    "duration": 14,
    "start_time": "2022-10-04T10:52:41.884Z"
   },
   {
    "duration": 36,
    "start_time": "2022-10-04T10:52:41.900Z"
   },
   {
    "duration": 198,
    "start_time": "2022-10-04T10:52:41.938Z"
   },
   {
    "duration": 105,
    "start_time": "2022-10-04T10:52:42.138Z"
   },
   {
    "duration": 10,
    "start_time": "2022-10-04T10:52:42.245Z"
   },
   {
    "duration": 30,
    "start_time": "2022-10-04T10:52:42.257Z"
   },
   {
    "duration": 30,
    "start_time": "2022-10-04T10:52:42.289Z"
   },
   {
    "duration": 11,
    "start_time": "2022-10-04T10:52:42.322Z"
   },
   {
    "duration": 38,
    "start_time": "2022-10-04T10:52:42.336Z"
   },
   {
    "duration": 74,
    "start_time": "2022-10-04T10:52:42.376Z"
   },
   {
    "duration": 20,
    "start_time": "2022-10-04T10:52:42.453Z"
   },
   {
    "duration": 20,
    "start_time": "2022-10-04T10:52:42.475Z"
   },
   {
    "duration": 89,
    "start_time": "2022-10-04T10:52:42.497Z"
   },
   {
    "duration": 8,
    "start_time": "2022-10-04T10:52:42.588Z"
   },
   {
    "duration": 32,
    "start_time": "2022-10-04T10:52:42.597Z"
   },
   {
    "duration": 43,
    "start_time": "2022-10-04T10:52:42.631Z"
   },
   {
    "duration": 18,
    "start_time": "2022-10-04T10:52:42.677Z"
   },
   {
    "duration": 27,
    "start_time": "2022-10-04T10:52:42.697Z"
   },
   {
    "duration": 37,
    "start_time": "2022-10-04T10:52:42.726Z"
   },
   {
    "duration": 9,
    "start_time": "2022-10-04T10:52:42.768Z"
   },
   {
    "duration": 38,
    "start_time": "2022-10-04T10:52:42.779Z"
   },
   {
    "duration": 10,
    "start_time": "2022-10-04T10:52:42.818Z"
   },
   {
    "duration": 33,
    "start_time": "2022-10-04T10:52:42.830Z"
   },
   {
    "duration": 14,
    "start_time": "2022-10-04T10:52:42.865Z"
   },
   {
    "duration": 35,
    "start_time": "2022-10-04T10:52:42.881Z"
   },
   {
    "duration": 21,
    "start_time": "2022-10-04T10:52:42.918Z"
   },
   {
    "duration": 11,
    "start_time": "2022-10-04T10:52:42.941Z"
   },
   {
    "duration": 102,
    "start_time": "2022-10-04T10:52:42.953Z"
   },
   {
    "duration": 9,
    "start_time": "2022-10-04T10:52:43.057Z"
   },
   {
    "duration": 951,
    "start_time": "2022-10-04T10:52:43.068Z"
   },
   {
    "duration": 0,
    "start_time": "2022-10-04T10:52:44.021Z"
   },
   {
    "duration": 0,
    "start_time": "2022-10-04T10:52:44.022Z"
   },
   {
    "duration": 0,
    "start_time": "2022-10-04T10:52:44.024Z"
   },
   {
    "duration": 0,
    "start_time": "2022-10-04T10:52:44.025Z"
   },
   {
    "duration": 0,
    "start_time": "2022-10-04T10:52:44.026Z"
   },
   {
    "duration": 0,
    "start_time": "2022-10-04T10:52:44.028Z"
   },
   {
    "duration": 0,
    "start_time": "2022-10-04T10:52:44.029Z"
   },
   {
    "duration": 0,
    "start_time": "2022-10-04T10:52:44.030Z"
   },
   {
    "duration": 0,
    "start_time": "2022-10-04T10:52:44.031Z"
   },
   {
    "duration": 0,
    "start_time": "2022-10-04T10:52:44.033Z"
   },
   {
    "duration": 0,
    "start_time": "2022-10-04T10:52:44.034Z"
   },
   {
    "duration": 0,
    "start_time": "2022-10-04T10:52:44.035Z"
   },
   {
    "duration": 0,
    "start_time": "2022-10-04T10:52:44.036Z"
   },
   {
    "duration": 0,
    "start_time": "2022-10-04T10:52:44.037Z"
   },
   {
    "duration": 0,
    "start_time": "2022-10-04T10:52:44.038Z"
   },
   {
    "duration": 0,
    "start_time": "2022-10-04T10:52:44.039Z"
   },
   {
    "duration": 0,
    "start_time": "2022-10-04T10:52:44.040Z"
   },
   {
    "duration": 0,
    "start_time": "2022-10-04T10:52:44.041Z"
   },
   {
    "duration": 713,
    "start_time": "2022-10-04T11:15:36.611Z"
   },
   {
    "duration": 174,
    "start_time": "2022-10-04T11:15:37.326Z"
   },
   {
    "duration": 14,
    "start_time": "2022-10-04T11:15:37.501Z"
   },
   {
    "duration": 37,
    "start_time": "2022-10-04T11:15:37.517Z"
   },
   {
    "duration": 179,
    "start_time": "2022-10-04T11:15:37.556Z"
   },
   {
    "duration": 144,
    "start_time": "2022-10-04T11:15:37.737Z"
   },
   {
    "duration": 10,
    "start_time": "2022-10-04T11:15:37.883Z"
   },
   {
    "duration": 25,
    "start_time": "2022-10-04T11:15:37.895Z"
   },
   {
    "duration": 175,
    "start_time": "2022-10-04T11:15:37.922Z"
   },
   {
    "duration": 101,
    "start_time": "2022-10-04T11:15:38.100Z"
   },
   {
    "duration": 8,
    "start_time": "2022-10-04T11:15:38.203Z"
   },
   {
    "duration": 26,
    "start_time": "2022-10-04T11:15:38.212Z"
   },
   {
    "duration": 27,
    "start_time": "2022-10-04T11:15:38.241Z"
   },
   {
    "duration": 10,
    "start_time": "2022-10-04T11:15:38.270Z"
   },
   {
    "duration": 14,
    "start_time": "2022-10-04T11:15:38.281Z"
   },
   {
    "duration": 31,
    "start_time": "2022-10-04T11:15:38.297Z"
   },
   {
    "duration": 11,
    "start_time": "2022-10-04T11:15:38.330Z"
   },
   {
    "duration": 16,
    "start_time": "2022-10-04T11:15:38.343Z"
   },
   {
    "duration": 84,
    "start_time": "2022-10-04T11:15:38.361Z"
   },
   {
    "duration": 8,
    "start_time": "2022-10-04T11:15:38.455Z"
   },
   {
    "duration": 12,
    "start_time": "2022-10-04T11:15:38.464Z"
   },
   {
    "duration": 28,
    "start_time": "2022-10-04T11:15:38.478Z"
   },
   {
    "duration": 17,
    "start_time": "2022-10-04T11:15:38.508Z"
   },
   {
    "duration": 20,
    "start_time": "2022-10-04T11:15:38.554Z"
   },
   {
    "duration": 30,
    "start_time": "2022-10-04T11:15:38.576Z"
   },
   {
    "duration": 10,
    "start_time": "2022-10-04T11:15:38.608Z"
   },
   {
    "duration": 69,
    "start_time": "2022-10-04T11:15:38.620Z"
   },
   {
    "duration": 12,
    "start_time": "2022-10-04T11:15:38.695Z"
   },
   {
    "duration": 22,
    "start_time": "2022-10-04T11:15:38.710Z"
   },
   {
    "duration": 22,
    "start_time": "2022-10-04T11:15:38.733Z"
   },
   {
    "duration": 20,
    "start_time": "2022-10-04T11:15:38.756Z"
   },
   {
    "duration": 10,
    "start_time": "2022-10-04T11:15:38.778Z"
   },
   {
    "duration": 9,
    "start_time": "2022-10-04T11:15:38.789Z"
   },
   {
    "duration": 120,
    "start_time": "2022-10-04T11:15:38.800Z"
   },
   {
    "duration": 11,
    "start_time": "2022-10-04T11:15:38.922Z"
   },
   {
    "duration": 22,
    "start_time": "2022-10-04T11:15:38.934Z"
   },
   {
    "duration": 6,
    "start_time": "2022-10-04T11:15:38.958Z"
   },
   {
    "duration": 12,
    "start_time": "2022-10-04T11:15:38.966Z"
   },
   {
    "duration": 12,
    "start_time": "2022-10-04T11:15:38.980Z"
   },
   {
    "duration": 6,
    "start_time": "2022-10-04T11:15:38.994Z"
   },
   {
    "duration": 10,
    "start_time": "2022-10-04T11:15:39.002Z"
   },
   {
    "duration": 12,
    "start_time": "2022-10-04T11:15:39.013Z"
   },
   {
    "duration": 81,
    "start_time": "2022-10-04T11:15:39.027Z"
   },
   {
    "duration": 831,
    "start_time": "2022-10-04T11:15:39.111Z"
   },
   {
    "duration": 270,
    "start_time": "2022-10-04T11:15:39.944Z"
   },
   {
    "duration": 410,
    "start_time": "2022-10-04T11:15:40.216Z"
   },
   {
    "duration": 252,
    "start_time": "2022-10-04T11:15:40.628Z"
   },
   {
    "duration": 291,
    "start_time": "2022-10-04T11:15:40.882Z"
   },
   {
    "duration": 227,
    "start_time": "2022-10-04T11:15:41.175Z"
   },
   {
    "duration": 418,
    "start_time": "2022-10-04T11:15:41.403Z"
   },
   {
    "duration": 229,
    "start_time": "2022-10-04T11:15:41.823Z"
   },
   {
    "duration": 3,
    "start_time": "2022-10-04T11:15:42.055Z"
   },
   {
    "duration": 6,
    "start_time": "2022-10-04T11:15:42.060Z"
   },
   {
    "duration": 5,
    "start_time": "2022-10-04T11:15:42.067Z"
   },
   {
    "duration": 97,
    "start_time": "2022-10-04T11:54:35.659Z"
   },
   {
    "duration": 726,
    "start_time": "2022-10-04T11:54:50.198Z"
   },
   {
    "duration": 182,
    "start_time": "2022-10-04T11:54:50.926Z"
   },
   {
    "duration": 14,
    "start_time": "2022-10-04T11:54:51.110Z"
   },
   {
    "duration": 40,
    "start_time": "2022-10-04T11:54:51.125Z"
   },
   {
    "duration": 177,
    "start_time": "2022-10-04T11:54:51.168Z"
   },
   {
    "duration": 176,
    "start_time": "2022-10-04T11:54:51.346Z"
   },
   {
    "duration": 12,
    "start_time": "2022-10-04T11:54:51.525Z"
   },
   {
    "duration": 51,
    "start_time": "2022-10-04T11:54:51.539Z"
   },
   {
    "duration": 186,
    "start_time": "2022-10-04T11:54:51.593Z"
   },
   {
    "duration": 104,
    "start_time": "2022-10-04T11:54:51.781Z"
   },
   {
    "duration": 8,
    "start_time": "2022-10-04T11:54:51.887Z"
   },
   {
    "duration": 23,
    "start_time": "2022-10-04T11:54:51.897Z"
   },
   {
    "duration": 33,
    "start_time": "2022-10-04T11:54:51.922Z"
   },
   {
    "duration": 9,
    "start_time": "2022-10-04T11:54:51.958Z"
   },
   {
    "duration": 32,
    "start_time": "2022-10-04T11:54:51.968Z"
   },
   {
    "duration": 53,
    "start_time": "2022-10-04T11:54:52.001Z"
   },
   {
    "duration": 12,
    "start_time": "2022-10-04T11:54:52.056Z"
   },
   {
    "duration": 13,
    "start_time": "2022-10-04T11:54:52.069Z"
   },
   {
    "duration": 102,
    "start_time": "2022-10-04T11:54:52.084Z"
   },
   {
    "duration": 7,
    "start_time": "2022-10-04T11:54:52.188Z"
   },
   {
    "duration": 14,
    "start_time": "2022-10-04T11:54:52.197Z"
   },
   {
    "duration": 44,
    "start_time": "2022-10-04T11:54:52.213Z"
   },
   {
    "duration": 17,
    "start_time": "2022-10-04T11:54:52.259Z"
   },
   {
    "duration": 20,
    "start_time": "2022-10-04T11:54:52.278Z"
   },
   {
    "duration": 44,
    "start_time": "2022-10-04T11:54:52.300Z"
   },
   {
    "duration": 16,
    "start_time": "2022-10-04T11:54:52.345Z"
   },
   {
    "duration": 44,
    "start_time": "2022-10-04T11:54:52.363Z"
   },
   {
    "duration": 9,
    "start_time": "2022-10-04T11:54:52.409Z"
   },
   {
    "duration": 35,
    "start_time": "2022-10-04T11:54:52.419Z"
   },
   {
    "duration": 20,
    "start_time": "2022-10-04T11:54:52.456Z"
   },
   {
    "duration": 59,
    "start_time": "2022-10-04T11:54:52.478Z"
   },
   {
    "duration": 11,
    "start_time": "2022-10-04T11:54:52.539Z"
   },
   {
    "duration": 18,
    "start_time": "2022-10-04T11:54:52.552Z"
   },
   {
    "duration": 130,
    "start_time": "2022-10-04T11:54:52.572Z"
   },
   {
    "duration": 9,
    "start_time": "2022-10-04T11:54:52.704Z"
   },
   {
    "duration": 10,
    "start_time": "2022-10-04T11:54:52.714Z"
   },
   {
    "duration": 23,
    "start_time": "2022-10-04T11:54:52.726Z"
   },
   {
    "duration": 22,
    "start_time": "2022-10-04T11:54:52.750Z"
   },
   {
    "duration": 10,
    "start_time": "2022-10-04T11:54:52.774Z"
   },
   {
    "duration": 9,
    "start_time": "2022-10-04T11:54:52.786Z"
   },
   {
    "duration": 11,
    "start_time": "2022-10-04T11:54:52.799Z"
   },
   {
    "duration": 27,
    "start_time": "2022-10-04T11:54:52.812Z"
   },
   {
    "duration": 60,
    "start_time": "2022-10-04T11:54:52.841Z"
   },
   {
    "duration": 860,
    "start_time": "2022-10-04T11:54:52.902Z"
   },
   {
    "duration": 284,
    "start_time": "2022-10-04T11:54:53.764Z"
   },
   {
    "duration": 415,
    "start_time": "2022-10-04T11:54:54.050Z"
   },
   {
    "duration": 244,
    "start_time": "2022-10-04T11:54:54.467Z"
   },
   {
    "duration": 279,
    "start_time": "2022-10-04T11:54:54.713Z"
   },
   {
    "duration": 237,
    "start_time": "2022-10-04T11:54:54.994Z"
   },
   {
    "duration": 351,
    "start_time": "2022-10-04T11:54:55.233Z"
   },
   {
    "duration": 253,
    "start_time": "2022-10-04T11:54:55.586Z"
   },
   {
    "duration": 3,
    "start_time": "2022-10-04T11:54:55.841Z"
   },
   {
    "duration": 861,
    "start_time": "2022-10-04T11:54:55.853Z"
   },
   {
    "duration": 0,
    "start_time": "2022-10-04T11:54:56.715Z"
   },
   {
    "duration": 0,
    "start_time": "2022-10-04T11:54:56.716Z"
   },
   {
    "duration": 0,
    "start_time": "2022-10-04T11:54:56.717Z"
   },
   {
    "duration": 708,
    "start_time": "2022-10-04T11:55:43.381Z"
   },
   {
    "duration": 175,
    "start_time": "2022-10-04T11:55:44.091Z"
   },
   {
    "duration": 15,
    "start_time": "2022-10-04T11:55:44.267Z"
   },
   {
    "duration": 28,
    "start_time": "2022-10-04T11:55:44.284Z"
   },
   {
    "duration": 219,
    "start_time": "2022-10-04T11:55:44.316Z"
   },
   {
    "duration": 157,
    "start_time": "2022-10-04T11:55:44.537Z"
   },
   {
    "duration": 9,
    "start_time": "2022-10-04T11:55:44.696Z"
   },
   {
    "duration": 27,
    "start_time": "2022-10-04T11:55:44.707Z"
   },
   {
    "duration": 163,
    "start_time": "2022-10-04T11:55:44.736Z"
   },
   {
    "duration": 97,
    "start_time": "2022-10-04T11:55:44.900Z"
   },
   {
    "duration": 9,
    "start_time": "2022-10-04T11:55:44.999Z"
   },
   {
    "duration": 45,
    "start_time": "2022-10-04T11:55:45.010Z"
   },
   {
    "duration": 18,
    "start_time": "2022-10-04T11:55:45.057Z"
   },
   {
    "duration": 11,
    "start_time": "2022-10-04T11:55:45.079Z"
   },
   {
    "duration": 19,
    "start_time": "2022-10-04T11:55:45.092Z"
   },
   {
    "duration": 42,
    "start_time": "2022-10-04T11:55:45.114Z"
   },
   {
    "duration": 11,
    "start_time": "2022-10-04T11:55:45.158Z"
   },
   {
    "duration": 15,
    "start_time": "2022-10-04T11:55:45.170Z"
   },
   {
    "duration": 95,
    "start_time": "2022-10-04T11:55:45.186Z"
   },
   {
    "duration": 6,
    "start_time": "2022-10-04T11:55:45.284Z"
   },
   {
    "duration": 23,
    "start_time": "2022-10-04T11:55:45.292Z"
   },
   {
    "duration": 32,
    "start_time": "2022-10-04T11:55:45.317Z"
   },
   {
    "duration": 17,
    "start_time": "2022-10-04T11:55:45.351Z"
   },
   {
    "duration": 19,
    "start_time": "2022-10-04T11:55:45.369Z"
   },
   {
    "duration": 30,
    "start_time": "2022-10-04T11:55:45.390Z"
   },
   {
    "duration": 33,
    "start_time": "2022-10-04T11:55:45.422Z"
   },
   {
    "duration": 33,
    "start_time": "2022-10-04T11:55:45.457Z"
   },
   {
    "duration": 9,
    "start_time": "2022-10-04T11:55:45.491Z"
   },
   {
    "duration": 40,
    "start_time": "2022-10-04T11:55:45.503Z"
   },
   {
    "duration": 28,
    "start_time": "2022-10-04T11:55:45.545Z"
   },
   {
    "duration": 32,
    "start_time": "2022-10-04T11:55:45.575Z"
   },
   {
    "duration": 28,
    "start_time": "2022-10-04T11:55:45.609Z"
   },
   {
    "duration": 22,
    "start_time": "2022-10-04T11:55:45.638Z"
   },
   {
    "duration": 108,
    "start_time": "2022-10-04T11:55:45.662Z"
   },
   {
    "duration": 8,
    "start_time": "2022-10-04T11:55:45.771Z"
   },
   {
    "duration": 45,
    "start_time": "2022-10-04T11:55:45.780Z"
   },
   {
    "duration": 14,
    "start_time": "2022-10-04T11:55:45.827Z"
   },
   {
    "duration": 29,
    "start_time": "2022-10-04T11:55:45.843Z"
   },
   {
    "duration": 38,
    "start_time": "2022-10-04T11:55:45.873Z"
   },
   {
    "duration": 16,
    "start_time": "2022-10-04T11:55:45.913Z"
   },
   {
    "duration": 17,
    "start_time": "2022-10-04T11:55:45.933Z"
   },
   {
    "duration": 9,
    "start_time": "2022-10-04T11:55:45.951Z"
   },
   {
    "duration": 52,
    "start_time": "2022-10-04T11:55:45.961Z"
   },
   {
    "duration": 830,
    "start_time": "2022-10-04T11:55:46.014Z"
   },
   {
    "duration": 262,
    "start_time": "2022-10-04T11:55:46.846Z"
   },
   {
    "duration": 403,
    "start_time": "2022-10-04T11:55:47.110Z"
   },
   {
    "duration": 228,
    "start_time": "2022-10-04T11:55:47.515Z"
   },
   {
    "duration": 268,
    "start_time": "2022-10-04T11:55:47.745Z"
   },
   {
    "duration": 216,
    "start_time": "2022-10-04T11:55:48.015Z"
   },
   {
    "duration": 316,
    "start_time": "2022-10-04T11:55:48.233Z"
   },
   {
    "duration": 229,
    "start_time": "2022-10-04T11:55:48.551Z"
   },
   {
    "duration": 2,
    "start_time": "2022-10-04T11:55:48.782Z"
   },
   {
    "duration": 11,
    "start_time": "2022-10-04T11:55:48.786Z"
   },
   {
    "duration": 264,
    "start_time": "2022-10-04T11:55:48.799Z"
   },
   {
    "duration": 105,
    "start_time": "2022-10-04T11:55:49.065Z"
   },
   {
    "duration": 0,
    "start_time": "2022-10-04T11:55:49.172Z"
   },
   {
    "duration": 118,
    "start_time": "2022-10-04T12:40:33.374Z"
   },
   {
    "duration": 793,
    "start_time": "2022-10-04T12:40:44.640Z"
   },
   {
    "duration": 195,
    "start_time": "2022-10-04T12:40:45.436Z"
   },
   {
    "duration": 23,
    "start_time": "2022-10-04T12:40:45.633Z"
   },
   {
    "duration": 30,
    "start_time": "2022-10-04T12:40:45.658Z"
   },
   {
    "duration": 198,
    "start_time": "2022-10-04T12:40:45.689Z"
   },
   {
    "duration": 155,
    "start_time": "2022-10-04T12:40:45.889Z"
   },
   {
    "duration": 17,
    "start_time": "2022-10-04T12:40:46.046Z"
   },
   {
    "duration": 34,
    "start_time": "2022-10-04T12:40:46.065Z"
   },
   {
    "duration": 190,
    "start_time": "2022-10-04T12:40:46.101Z"
   },
   {
    "duration": 110,
    "start_time": "2022-10-04T12:40:46.294Z"
   },
   {
    "duration": 8,
    "start_time": "2022-10-04T12:40:46.406Z"
   },
   {
    "duration": 36,
    "start_time": "2022-10-04T12:40:46.416Z"
   },
   {
    "duration": 46,
    "start_time": "2022-10-04T12:40:46.453Z"
   },
   {
    "duration": 8,
    "start_time": "2022-10-04T12:40:46.501Z"
   },
   {
    "duration": 19,
    "start_time": "2022-10-04T12:40:46.511Z"
   },
   {
    "duration": 45,
    "start_time": "2022-10-04T12:40:46.531Z"
   },
   {
    "duration": 11,
    "start_time": "2022-10-04T12:40:46.579Z"
   },
   {
    "duration": 16,
    "start_time": "2022-10-04T12:40:46.591Z"
   },
   {
    "duration": 95,
    "start_time": "2022-10-04T12:40:46.609Z"
   },
   {
    "duration": 6,
    "start_time": "2022-10-04T12:40:46.706Z"
   },
   {
    "duration": 11,
    "start_time": "2022-10-04T12:40:46.713Z"
   },
   {
    "duration": 37,
    "start_time": "2022-10-04T12:40:46.725Z"
   },
   {
    "duration": 19,
    "start_time": "2022-10-04T12:40:46.764Z"
   },
   {
    "duration": 22,
    "start_time": "2022-10-04T12:40:46.785Z"
   },
   {
    "duration": 45,
    "start_time": "2022-10-04T12:40:46.809Z"
   },
   {
    "duration": 11,
    "start_time": "2022-10-04T12:40:46.856Z"
   },
   {
    "duration": 41,
    "start_time": "2022-10-04T12:40:46.869Z"
   },
   {
    "duration": 8,
    "start_time": "2022-10-04T12:40:46.914Z"
   },
   {
    "duration": 36,
    "start_time": "2022-10-04T12:40:46.923Z"
   },
   {
    "duration": 9,
    "start_time": "2022-10-04T12:40:46.961Z"
   },
   {
    "duration": 32,
    "start_time": "2022-10-04T12:40:46.972Z"
   },
   {
    "duration": 11,
    "start_time": "2022-10-04T12:40:47.006Z"
   },
   {
    "duration": 8,
    "start_time": "2022-10-04T12:40:47.019Z"
   },
   {
    "duration": 121,
    "start_time": "2022-10-04T12:40:47.029Z"
   },
   {
    "duration": 9,
    "start_time": "2022-10-04T12:40:47.153Z"
   },
   {
    "duration": 21,
    "start_time": "2022-10-04T12:40:47.165Z"
   },
   {
    "duration": 8,
    "start_time": "2022-10-04T12:40:47.188Z"
   },
   {
    "duration": 13,
    "start_time": "2022-10-04T12:40:47.197Z"
   },
   {
    "duration": 12,
    "start_time": "2022-10-04T12:40:47.212Z"
   },
   {
    "duration": 11,
    "start_time": "2022-10-04T12:40:47.226Z"
   },
   {
    "duration": 13,
    "start_time": "2022-10-04T12:40:47.239Z"
   },
   {
    "duration": 15,
    "start_time": "2022-10-04T12:40:47.254Z"
   },
   {
    "duration": 61,
    "start_time": "2022-10-04T12:40:47.272Z"
   },
   {
    "duration": 828,
    "start_time": "2022-10-04T12:40:47.334Z"
   },
   {
    "duration": 270,
    "start_time": "2022-10-04T12:40:48.164Z"
   },
   {
    "duration": 456,
    "start_time": "2022-10-04T12:40:48.436Z"
   },
   {
    "duration": 231,
    "start_time": "2022-10-04T12:40:48.894Z"
   },
   {
    "duration": 297,
    "start_time": "2022-10-04T12:40:49.127Z"
   },
   {
    "duration": 242,
    "start_time": "2022-10-04T12:40:49.425Z"
   },
   {
    "duration": 355,
    "start_time": "2022-10-04T12:40:49.669Z"
   },
   {
    "duration": 258,
    "start_time": "2022-10-04T12:40:50.025Z"
   },
   {
    "duration": 3,
    "start_time": "2022-10-04T12:40:50.285Z"
   },
   {
    "duration": 22,
    "start_time": "2022-10-04T12:40:50.290Z"
   },
   {
    "duration": 264,
    "start_time": "2022-10-04T12:40:50.314Z"
   },
   {
    "duration": 131,
    "start_time": "2022-10-04T12:40:50.580Z"
   },
   {
    "duration": 0,
    "start_time": "2022-10-04T12:40:50.713Z"
   },
   {
    "duration": 704,
    "start_time": "2022-10-04T12:41:41.785Z"
   },
   {
    "duration": 184,
    "start_time": "2022-10-04T12:41:42.492Z"
   },
   {
    "duration": 16,
    "start_time": "2022-10-04T12:41:42.678Z"
   },
   {
    "duration": 27,
    "start_time": "2022-10-04T12:41:42.696Z"
   },
   {
    "duration": 205,
    "start_time": "2022-10-04T12:41:42.726Z"
   },
   {
    "duration": 141,
    "start_time": "2022-10-04T12:41:42.933Z"
   },
   {
    "duration": 11,
    "start_time": "2022-10-04T12:41:43.076Z"
   },
   {
    "duration": 36,
    "start_time": "2022-10-04T12:41:43.089Z"
   },
   {
    "duration": 201,
    "start_time": "2022-10-04T12:41:43.127Z"
   },
   {
    "duration": 139,
    "start_time": "2022-10-04T12:41:43.330Z"
   },
   {
    "duration": 11,
    "start_time": "2022-10-04T12:41:43.472Z"
   },
   {
    "duration": 39,
    "start_time": "2022-10-04T12:41:43.485Z"
   },
   {
    "duration": 62,
    "start_time": "2022-10-04T12:41:43.526Z"
   },
   {
    "duration": 13,
    "start_time": "2022-10-04T12:41:43.592Z"
   },
   {
    "duration": 53,
    "start_time": "2022-10-04T12:41:43.608Z"
   },
   {
    "duration": 71,
    "start_time": "2022-10-04T12:41:43.664Z"
   },
   {
    "duration": 12,
    "start_time": "2022-10-04T12:41:43.737Z"
   },
   {
    "duration": 30,
    "start_time": "2022-10-04T12:41:43.751Z"
   },
   {
    "duration": 95,
    "start_time": "2022-10-04T12:41:43.784Z"
   },
   {
    "duration": 8,
    "start_time": "2022-10-04T12:41:43.881Z"
   },
   {
    "duration": 11,
    "start_time": "2022-10-04T12:41:43.891Z"
   },
   {
    "duration": 92,
    "start_time": "2022-10-04T12:41:43.904Z"
   },
   {
    "duration": 26,
    "start_time": "2022-10-04T12:41:43.998Z"
   },
   {
    "duration": 46,
    "start_time": "2022-10-04T12:41:44.027Z"
   },
   {
    "duration": 30,
    "start_time": "2022-10-04T12:41:44.076Z"
   },
   {
    "duration": 9,
    "start_time": "2022-10-04T12:41:44.108Z"
   },
   {
    "duration": 55,
    "start_time": "2022-10-04T12:41:44.118Z"
   },
   {
    "duration": 13,
    "start_time": "2022-10-04T12:41:44.176Z"
   },
   {
    "duration": 47,
    "start_time": "2022-10-04T12:41:44.191Z"
   },
   {
    "duration": 10,
    "start_time": "2022-10-04T12:41:44.241Z"
   },
   {
    "duration": 40,
    "start_time": "2022-10-04T12:41:44.252Z"
   },
   {
    "duration": 13,
    "start_time": "2022-10-04T12:41:44.294Z"
   },
   {
    "duration": 17,
    "start_time": "2022-10-04T12:41:44.308Z"
   },
   {
    "duration": 114,
    "start_time": "2022-10-04T12:41:44.327Z"
   },
   {
    "duration": 22,
    "start_time": "2022-10-04T12:41:44.443Z"
   },
   {
    "duration": 14,
    "start_time": "2022-10-04T12:41:44.468Z"
   },
   {
    "duration": 18,
    "start_time": "2022-10-04T12:41:44.484Z"
   },
   {
    "duration": 15,
    "start_time": "2022-10-04T12:41:44.504Z"
   },
   {
    "duration": 11,
    "start_time": "2022-10-04T12:41:44.521Z"
   },
   {
    "duration": 6,
    "start_time": "2022-10-04T12:41:44.534Z"
   },
   {
    "duration": 13,
    "start_time": "2022-10-04T12:41:44.544Z"
   },
   {
    "duration": 48,
    "start_time": "2022-10-04T12:41:44.560Z"
   },
   {
    "duration": 87,
    "start_time": "2022-10-04T12:41:44.610Z"
   },
   {
    "duration": 921,
    "start_time": "2022-10-04T12:41:44.700Z"
   },
   {
    "duration": 314,
    "start_time": "2022-10-04T12:41:45.623Z"
   },
   {
    "duration": 485,
    "start_time": "2022-10-04T12:41:45.938Z"
   },
   {
    "duration": 282,
    "start_time": "2022-10-04T12:41:46.425Z"
   },
   {
    "duration": 326,
    "start_time": "2022-10-04T12:41:46.708Z"
   },
   {
    "duration": 270,
    "start_time": "2022-10-04T12:41:47.036Z"
   },
   {
    "duration": 386,
    "start_time": "2022-10-04T12:41:47.307Z"
   },
   {
    "duration": 265,
    "start_time": "2022-10-04T12:41:47.694Z"
   },
   {
    "duration": 6,
    "start_time": "2022-10-04T12:41:47.962Z"
   },
   {
    "duration": 31,
    "start_time": "2022-10-04T12:41:47.970Z"
   },
   {
    "duration": 285,
    "start_time": "2022-10-04T12:41:48.003Z"
   },
   {
    "duration": 5,
    "start_time": "2022-10-04T12:41:48.290Z"
   },
   {
    "duration": 15,
    "start_time": "2022-10-04T12:41:48.298Z"
   },
   {
    "duration": 700,
    "start_time": "2022-10-04T12:43:29.108Z"
   },
   {
    "duration": 198,
    "start_time": "2022-10-04T12:43:29.810Z"
   },
   {
    "duration": 15,
    "start_time": "2022-10-04T12:43:30.010Z"
   },
   {
    "duration": 57,
    "start_time": "2022-10-04T12:43:30.026Z"
   },
   {
    "duration": 219,
    "start_time": "2022-10-04T12:43:30.087Z"
   },
   {
    "duration": 172,
    "start_time": "2022-10-04T12:43:30.308Z"
   },
   {
    "duration": 10,
    "start_time": "2022-10-04T12:43:30.483Z"
   },
   {
    "duration": 73,
    "start_time": "2022-10-04T12:43:30.496Z"
   },
   {
    "duration": 203,
    "start_time": "2022-10-04T12:43:30.575Z"
   },
   {
    "duration": 122,
    "start_time": "2022-10-04T12:43:30.780Z"
   },
   {
    "duration": 10,
    "start_time": "2022-10-04T12:43:30.904Z"
   },
   {
    "duration": 44,
    "start_time": "2022-10-04T12:43:30.916Z"
   },
   {
    "duration": 44,
    "start_time": "2022-10-04T12:43:30.963Z"
   },
   {
    "duration": 68,
    "start_time": "2022-10-04T12:43:31.011Z"
   },
   {
    "duration": 61,
    "start_time": "2022-10-04T12:43:31.082Z"
   },
   {
    "duration": 55,
    "start_time": "2022-10-04T12:43:31.146Z"
   },
   {
    "duration": 12,
    "start_time": "2022-10-04T12:43:31.203Z"
   },
   {
    "duration": 64,
    "start_time": "2022-10-04T12:43:31.217Z"
   },
   {
    "duration": 197,
    "start_time": "2022-10-04T12:43:31.283Z"
   },
   {
    "duration": 44,
    "start_time": "2022-10-04T12:43:31.482Z"
   },
   {
    "duration": 68,
    "start_time": "2022-10-04T12:43:31.528Z"
   },
   {
    "duration": 63,
    "start_time": "2022-10-04T12:43:31.598Z"
   },
   {
    "duration": 34,
    "start_time": "2022-10-04T12:43:31.664Z"
   },
   {
    "duration": 44,
    "start_time": "2022-10-04T12:43:31.700Z"
   },
   {
    "duration": 46,
    "start_time": "2022-10-04T12:43:31.747Z"
   },
   {
    "duration": 27,
    "start_time": "2022-10-04T12:43:31.796Z"
   },
   {
    "duration": 43,
    "start_time": "2022-10-04T12:43:31.828Z"
   },
   {
    "duration": 13,
    "start_time": "2022-10-04T12:43:31.873Z"
   },
   {
    "duration": 52,
    "start_time": "2022-10-04T12:43:31.889Z"
   },
   {
    "duration": 86,
    "start_time": "2022-10-04T12:43:31.943Z"
   },
   {
    "duration": 29,
    "start_time": "2022-10-04T12:43:32.031Z"
   },
   {
    "duration": 18,
    "start_time": "2022-10-04T12:43:32.064Z"
   },
   {
    "duration": 21,
    "start_time": "2022-10-04T12:43:32.084Z"
   },
   {
    "duration": 141,
    "start_time": "2022-10-04T12:43:32.107Z"
   },
   {
    "duration": 15,
    "start_time": "2022-10-04T12:43:32.249Z"
   },
   {
    "duration": 43,
    "start_time": "2022-10-04T12:43:32.266Z"
   },
   {
    "duration": 17,
    "start_time": "2022-10-04T12:43:32.311Z"
   },
   {
    "duration": 44,
    "start_time": "2022-10-04T12:43:32.330Z"
   },
   {
    "duration": 23,
    "start_time": "2022-10-04T12:43:32.376Z"
   },
   {
    "duration": 11,
    "start_time": "2022-10-04T12:43:32.401Z"
   },
   {
    "duration": 9,
    "start_time": "2022-10-04T12:43:32.417Z"
   },
   {
    "duration": 9,
    "start_time": "2022-10-04T12:43:32.428Z"
   },
   {
    "duration": 84,
    "start_time": "2022-10-04T12:43:32.439Z"
   },
   {
    "duration": 870,
    "start_time": "2022-10-04T12:43:32.525Z"
   },
   {
    "duration": 342,
    "start_time": "2022-10-04T12:43:33.397Z"
   },
   {
    "duration": 490,
    "start_time": "2022-10-04T12:43:33.741Z"
   },
   {
    "duration": 283,
    "start_time": "2022-10-04T12:43:34.233Z"
   },
   {
    "duration": 347,
    "start_time": "2022-10-04T12:43:34.517Z"
   },
   {
    "duration": 260,
    "start_time": "2022-10-04T12:43:34.867Z"
   },
   {
    "duration": 339,
    "start_time": "2022-10-04T12:43:35.129Z"
   },
   {
    "duration": 304,
    "start_time": "2022-10-04T12:43:35.471Z"
   },
   {
    "duration": 4,
    "start_time": "2022-10-04T12:43:35.778Z"
   },
   {
    "duration": 22,
    "start_time": "2022-10-04T12:43:35.784Z"
   },
   {
    "duration": 39,
    "start_time": "2022-10-04T12:43:35.809Z"
   },
   {
    "duration": 29,
    "start_time": "2022-10-04T12:43:35.850Z"
   },
   {
    "duration": 13,
    "start_time": "2022-10-04T12:43:35.881Z"
   },
   {
    "duration": 35,
    "start_time": "2022-10-04T12:43:35.896Z"
   },
   {
    "duration": 633,
    "start_time": "2022-10-04T12:47:22.866Z"
   },
   {
    "duration": 172,
    "start_time": "2022-10-04T12:47:23.501Z"
   },
   {
    "duration": 14,
    "start_time": "2022-10-04T12:47:23.674Z"
   },
   {
    "duration": 37,
    "start_time": "2022-10-04T12:47:23.690Z"
   },
   {
    "duration": 170,
    "start_time": "2022-10-04T12:47:23.729Z"
   },
   {
    "duration": 140,
    "start_time": "2022-10-04T12:47:23.900Z"
   },
   {
    "duration": 12,
    "start_time": "2022-10-04T12:47:24.042Z"
   },
   {
    "duration": 31,
    "start_time": "2022-10-04T12:47:24.056Z"
   },
   {
    "duration": 162,
    "start_time": "2022-10-04T12:47:24.088Z"
   },
   {
    "duration": 93,
    "start_time": "2022-10-04T12:47:24.253Z"
   },
   {
    "duration": 7,
    "start_time": "2022-10-04T12:47:24.348Z"
   },
   {
    "duration": 25,
    "start_time": "2022-10-04T12:47:24.357Z"
   },
   {
    "duration": 16,
    "start_time": "2022-10-04T12:47:24.384Z"
   },
   {
    "duration": 8,
    "start_time": "2022-10-04T12:47:24.403Z"
   },
   {
    "duration": 29,
    "start_time": "2022-10-04T12:47:24.412Z"
   },
   {
    "duration": 34,
    "start_time": "2022-10-04T12:47:24.442Z"
   },
   {
    "duration": 11,
    "start_time": "2022-10-04T12:47:24.478Z"
   },
   {
    "duration": 24,
    "start_time": "2022-10-04T12:47:24.491Z"
   },
   {
    "duration": 98,
    "start_time": "2022-10-04T12:47:24.517Z"
   },
   {
    "duration": 7,
    "start_time": "2022-10-04T12:47:24.617Z"
   },
   {
    "duration": 11,
    "start_time": "2022-10-04T12:47:24.626Z"
   },
   {
    "duration": 62,
    "start_time": "2022-10-04T12:47:24.639Z"
   },
   {
    "duration": 17,
    "start_time": "2022-10-04T12:47:24.703Z"
   },
   {
    "duration": 20,
    "start_time": "2022-10-04T12:47:24.721Z"
   },
   {
    "duration": 38,
    "start_time": "2022-10-04T12:47:24.743Z"
   },
   {
    "duration": 10,
    "start_time": "2022-10-04T12:47:24.783Z"
   },
   {
    "duration": 37,
    "start_time": "2022-10-04T12:47:24.795Z"
   },
   {
    "duration": 25,
    "start_time": "2022-10-04T12:47:24.834Z"
   },
   {
    "duration": 29,
    "start_time": "2022-10-04T12:47:24.861Z"
   },
   {
    "duration": 9,
    "start_time": "2022-10-04T12:47:24.892Z"
   },
   {
    "duration": 27,
    "start_time": "2022-10-04T12:47:24.903Z"
   },
   {
    "duration": 23,
    "start_time": "2022-10-04T12:47:24.932Z"
   },
   {
    "duration": 10,
    "start_time": "2022-10-04T12:47:24.957Z"
   },
   {
    "duration": 116,
    "start_time": "2022-10-04T12:47:24.968Z"
   },
   {
    "duration": 8,
    "start_time": "2022-10-04T12:47:25.086Z"
   },
   {
    "duration": 10,
    "start_time": "2022-10-04T12:47:25.095Z"
   },
   {
    "duration": 8,
    "start_time": "2022-10-04T12:47:25.107Z"
   },
   {
    "duration": 24,
    "start_time": "2022-10-04T12:47:25.117Z"
   },
   {
    "duration": 46,
    "start_time": "2022-10-04T12:47:25.143Z"
   },
   {
    "duration": 83,
    "start_time": "2022-10-04T12:47:25.191Z"
   },
   {
    "duration": 9,
    "start_time": "2022-10-04T12:47:25.278Z"
   },
   {
    "duration": 9,
    "start_time": "2022-10-04T12:47:25.289Z"
   },
   {
    "duration": 58,
    "start_time": "2022-10-04T12:47:25.300Z"
   },
   {
    "duration": 770,
    "start_time": "2022-10-04T12:47:25.360Z"
   },
   {
    "duration": 257,
    "start_time": "2022-10-04T12:47:26.132Z"
   },
   {
    "duration": 404,
    "start_time": "2022-10-04T12:47:26.391Z"
   },
   {
    "duration": 241,
    "start_time": "2022-10-04T12:47:26.797Z"
   },
   {
    "duration": 291,
    "start_time": "2022-10-04T12:47:27.040Z"
   },
   {
    "duration": 211,
    "start_time": "2022-10-04T12:47:27.333Z"
   },
   {
    "duration": 341,
    "start_time": "2022-10-04T12:47:27.546Z"
   },
   {
    "duration": 226,
    "start_time": "2022-10-04T12:47:27.889Z"
   },
   {
    "duration": 3,
    "start_time": "2022-10-04T12:47:28.117Z"
   },
   {
    "duration": 13,
    "start_time": "2022-10-04T12:47:28.122Z"
   },
   {
    "duration": 16,
    "start_time": "2022-10-04T12:47:28.137Z"
   },
   {
    "duration": 3,
    "start_time": "2022-10-04T12:47:28.155Z"
   }
  ],
  "kernelspec": {
   "display_name": "Python 3 (ipykernel)",
   "language": "python",
   "name": "python3"
  },
  "language_info": {
   "codemirror_mode": {
    "name": "ipython",
    "version": 3
   },
   "file_extension": ".py",
   "mimetype": "text/x-python",
   "name": "python",
   "nbconvert_exporter": "python",
   "pygments_lexer": "ipython3",
   "version": "3.9.12"
  },
  "toc": {
   "base_numbering": 1,
   "nav_menu": {},
   "number_sections": true,
   "sideBar": true,
   "skip_h1_title": true,
   "title_cell": "Table of Contents",
   "title_sidebar": "Contents",
   "toc_cell": false,
   "toc_position": {},
   "toc_section_display": true,
   "toc_window_display": false
  }
 },
 "nbformat": 4,
 "nbformat_minor": 2
}
