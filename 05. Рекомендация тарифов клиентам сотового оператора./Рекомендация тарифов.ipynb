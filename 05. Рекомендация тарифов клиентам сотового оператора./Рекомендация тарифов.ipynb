{
 "cells": [
  {
   "cell_type": "markdown",
   "metadata": {},
   "source": [
    "# Рекомендация тарифов"
   ]
  },
  {
   "cell_type": "markdown",
   "metadata": {},
   "source": [
    "В нашем распоряжении данные о поведении клиентов, которые уже перешли на эти тарифы.\n",
    "\n",
    "Построим модель для задачи классификации, которая выберет подходящий тариф.\n",
    "\n",
    "Построим модель с максимально большим значением *accuracy*."
   ]
  },
  {
   "cell_type": "code",
   "execution_count": 1,
   "metadata": {},
   "outputs": [],
   "source": [
    "import pandas as pd\n",
    "from sklearn.model_selection import train_test_split\n",
    "from sklearn.metrics import accuracy_score\n",
    "from sklearn.tree import DecisionTreeClassifier\n",
    "from sklearn.ensemble import RandomForestClassifier\n",
    "from sklearn.linear_model import LogisticRegression\n",
    "from sklearn.dummy import DummyClassifier\n",
    "import matplotlib.pyplot as plt"
   ]
  },
  {
   "cell_type": "markdown",
   "metadata": {},
   "source": [
    "## Откроем и изучим файл"
   ]
  },
  {
   "cell_type": "code",
   "execution_count": 2,
   "metadata": {},
   "outputs": [],
   "source": [
    "df = pd.read_csv('users_behavior.csv')"
   ]
  },
  {
   "cell_type": "code",
   "execution_count": 3,
   "metadata": {},
   "outputs": [
    {
     "name": "stdout",
     "output_type": "stream",
     "text": [
      "<class 'pandas.core.frame.DataFrame'>\n",
      "RangeIndex: 3214 entries, 0 to 3213\n",
      "Data columns (total 5 columns):\n",
      " #   Column    Non-Null Count  Dtype  \n",
      "---  ------    --------------  -----  \n",
      " 0   calls     3214 non-null   float64\n",
      " 1   minutes   3214 non-null   float64\n",
      " 2   messages  3214 non-null   float64\n",
      " 3   mb_used   3214 non-null   float64\n",
      " 4   is_ultra  3214 non-null   int64  \n",
      "dtypes: float64(4), int64(1)\n",
      "memory usage: 125.7 KB\n"
     ]
    }
   ],
   "source": [
    "df.info()"
   ]
  },
  {
   "cell_type": "code",
   "execution_count": 4,
   "metadata": {},
   "outputs": [
    {
     "data": {
      "text/html": [
       "<div>\n",
       "<style scoped>\n",
       "    .dataframe tbody tr th:only-of-type {\n",
       "        vertical-align: middle;\n",
       "    }\n",
       "\n",
       "    .dataframe tbody tr th {\n",
       "        vertical-align: top;\n",
       "    }\n",
       "\n",
       "    .dataframe thead th {\n",
       "        text-align: right;\n",
       "    }\n",
       "</style>\n",
       "<table border=\"1\" class=\"dataframe\">\n",
       "  <thead>\n",
       "    <tr style=\"text-align: right;\">\n",
       "      <th></th>\n",
       "      <th>calls</th>\n",
       "      <th>minutes</th>\n",
       "      <th>messages</th>\n",
       "      <th>mb_used</th>\n",
       "      <th>is_ultra</th>\n",
       "    </tr>\n",
       "  </thead>\n",
       "  <tbody>\n",
       "    <tr>\n",
       "      <th>0</th>\n",
       "      <td>40.0</td>\n",
       "      <td>311.90</td>\n",
       "      <td>83.0</td>\n",
       "      <td>19915.42</td>\n",
       "      <td>0</td>\n",
       "    </tr>\n",
       "    <tr>\n",
       "      <th>1</th>\n",
       "      <td>85.0</td>\n",
       "      <td>516.75</td>\n",
       "      <td>56.0</td>\n",
       "      <td>22696.96</td>\n",
       "      <td>0</td>\n",
       "    </tr>\n",
       "    <tr>\n",
       "      <th>2</th>\n",
       "      <td>77.0</td>\n",
       "      <td>467.66</td>\n",
       "      <td>86.0</td>\n",
       "      <td>21060.45</td>\n",
       "      <td>0</td>\n",
       "    </tr>\n",
       "    <tr>\n",
       "      <th>3</th>\n",
       "      <td>106.0</td>\n",
       "      <td>745.53</td>\n",
       "      <td>81.0</td>\n",
       "      <td>8437.39</td>\n",
       "      <td>1</td>\n",
       "    </tr>\n",
       "    <tr>\n",
       "      <th>4</th>\n",
       "      <td>66.0</td>\n",
       "      <td>418.74</td>\n",
       "      <td>1.0</td>\n",
       "      <td>14502.75</td>\n",
       "      <td>0</td>\n",
       "    </tr>\n",
       "  </tbody>\n",
       "</table>\n",
       "</div>"
      ],
      "text/plain": [
       "   calls  minutes  messages   mb_used  is_ultra\n",
       "0   40.0   311.90      83.0  19915.42         0\n",
       "1   85.0   516.75      56.0  22696.96         0\n",
       "2   77.0   467.66      86.0  21060.45         0\n",
       "3  106.0   745.53      81.0   8437.39         1\n",
       "4   66.0   418.74       1.0  14502.75         0"
      ]
     },
     "execution_count": 4,
     "metadata": {},
     "output_type": "execute_result"
    }
   ],
   "source": [
    "df.head()"
   ]
  },
  {
   "cell_type": "code",
   "execution_count": 5,
   "metadata": {},
   "outputs": [
    {
     "data": {
      "image/png": "[encoded data removed]",
      "text/plain": [
       "<Figure size 864x648 with 6 Axes>"
      ]
     },
     "metadata": {
      "needs_background": "light"
     },
     "output_type": "display_data"
    }
   ],
   "source": [
    "df.hist(bins = 60, figsize = (12, 9))\n",
    "plt.show()"
   ]
  },
  {
   "cell_type": "code",
   "execution_count": 6,
   "metadata": {},
   "outputs": [
    {
     "name": "stdout",
     "output_type": "stream",
     "text": [
      "Процент абонентов на тарифе \"Ультра\": 30.647168637212197\n"
     ]
    }
   ],
   "source": [
    "print('Процент абонентов на тарифе \"Ультра\":', df.is_ultra.mean() * 100)"
   ]
  },
  {
   "cell_type": "markdown",
   "metadata": {},
   "source": [
    "Пропуски в данных отсутствуют, выбросы / аномалии отсутсвуют, предобработка не требуется, переходим к исследованию."
   ]
  },
  {
   "cell_type": "markdown",
   "metadata": {},
   "source": [
    "## Разобьем данные на выборки"
   ]
  },
  {
   "cell_type": "markdown",
   "metadata": {},
   "source": [
    "Нас интересуют обучающая, валидационная и тестовая выборки. Чтобы разбить исходный датафрейм в пропорциях 60 : 20 : 20 применим функцию train_test_split(), выделив 20% данных для тестовой выборки, и повторно применим train_test_split() к оставшимся 80% исходных данных, чтобы разделить их на обучающую и валидационную выборки."
   ]
  },
  {
   "cell_type": "code",
   "execution_count": 7,
   "metadata": {},
   "outputs": [],
   "source": [
    "df_train, df_test = train_test_split(df, test_size=0.2, random_state = 12345)"
   ]
  },
  {
   "cell_type": "code",
   "execution_count": 8,
   "metadata": {},
   "outputs": [],
   "source": [
    "df_train, df_valid = train_test_split(df_train, test_size=0.25, random_state = 12345)"
   ]
  },
  {
   "cell_type": "markdown",
   "metadata": {},
   "source": [
    "Далее для каждой из трех получившихся выше выборок выделим из признаков целевой признак (колонку \"is_ultra\")."
   ]
  },
  {
   "cell_type": "code",
   "execution_count": 9,
   "metadata": {},
   "outputs": [],
   "source": [
    "train_features = df_train.drop(['is_ultra'], axis=1)\n",
    "train_target = df_train['is_ultra']"
   ]
  },
  {
   "cell_type": "code",
   "execution_count": 10,
   "metadata": {},
   "outputs": [],
   "source": [
    "valid_features = df_valid.drop(['is_ultra'], axis=1)\n",
    "valid_target = df_valid['is_ultra']"
   ]
  },
  {
   "cell_type": "code",
   "execution_count": 11,
   "metadata": {},
   "outputs": [],
   "source": [
    "test_features = df_test.drop(['is_ultra'], axis=1)\n",
    "test_target = df_test['is_ultra']"
   ]
  },
  {
   "cell_type": "markdown",
   "metadata": {},
   "source": [
    "Сравним размеры получившихся переменных."
   ]
  },
  {
   "cell_type": "code",
   "execution_count": 12,
   "metadata": {
    "scrolled": true
   },
   "outputs": [
    {
     "name": "stdout",
     "output_type": "stream",
     "text": [
      "(1928, 4)\n",
      "(1928,)\n",
      "(643, 4)\n",
      "(643,)\n",
      "(643, 4)\n",
      "(643,)\n"
     ]
    }
   ],
   "source": [
    "print(train_features.shape)\n",
    "print(train_target.shape)\n",
    "print(valid_features.shape)\n",
    "print(valid_target.shape)\n",
    "print(test_features.shape)\n",
    "print(test_target.shape)"
   ]
  },
  {
   "cell_type": "markdown",
   "metadata": {},
   "source": [
    "Разделение прошло корректно, переходим к сравнению моделей."
   ]
  },
  {
   "cell_type": "markdown",
   "metadata": {},
   "source": [
    "## Исследуем модели"
   ]
  },
  {
   "cell_type": "markdown",
   "metadata": {},
   "source": [
    "Целевой признак является бинарным категориальным, соответственно, решаем задачу бинарной классификации.\n",
    "\n",
    "Применим DecisionTreeClassifier, RandomForestClassifier и LogisticRegression.\n",
    "\n",
    "Для каждой модели проведем небольшую оптимизацию значений гиперпараметров с целью максимизации метрики качества Accuracy.\n",
    "\n",
    "Далее сравним максимальные Accuracy трех моделей между собой и подведем промежуточный итог."
   ]
  },
  {
   "cell_type": "markdown",
   "metadata": {},
   "source": [
    "Для модели DecisionTreeClassifier ниже подберем максимальную глубину дерева в диапазоне от 1 до 10. Выведем Accuracy и Max depth (глубину дерева) лучшей модели. Запомним результат."
   ]
  },
  {
   "cell_type": "code",
   "execution_count": 13,
   "metadata": {},
   "outputs": [
    {
     "name": "stdout",
     "output_type": "stream",
     "text": [
      "Accuracy: 0.7651632970451011 Max debth: 3\n"
     ]
    }
   ],
   "source": [
    "best_result = 0\n",
    "best_depth = 0\n",
    "for depth in range(1, 11):\n",
    "    model = DecisionTreeClassifier(random_state = 12345, max_depth = depth, class_weight='balanced')\n",
    "    model.fit(train_features, train_target)\n",
    "    predictions = model.predict(valid_features)\n",
    "    result = accuracy_score(valid_target, predictions)\n",
    "    if result > best_result:\n",
    "        best_result = result\n",
    "        best_depth = depth\n",
    "        \n",
    "print(\"Accuracy:\", best_result, 'Max debth:', best_depth)"
   ]
  },
  {
   "cell_type": "markdown",
   "metadata": {},
   "source": [
    "Для модели RandomForestClassifier подберем количество деревьев в диапазоне от 40 до 120 (с шагом 10) и максимальную глубину дерева в диапазоне от 1 до 10. Выведем Accuracy, Est (количество деревьев) и Max depth (глубину дерева) лучшей модели. Запомним результат."
   ]
  },
  {
   "cell_type": "code",
   "execution_count": 14,
   "metadata": {},
   "outputs": [
    {
     "name": "stdout",
     "output_type": "stream",
     "text": [
      "Accuracy: 0.8009331259720062 Est: 40 Max depth: 9\n"
     ]
    }
   ],
   "source": [
    "best_result = 0\n",
    "best_est = 0\n",
    "best_depth = 0\n",
    "for est in range(40, 121, 10):\n",
    "    for depth in range (1, 11):\n",
    "        model = RandomForestClassifier(random_state = 12345, n_estimators = est, \n",
    "                                       max_depth = depth, class_weight='balanced')\n",
    "        model.fit(train_features, train_target)\n",
    "        result = model.score(valid_features, valid_target)\n",
    "        if result > best_result:\n",
    "            best_result = result\n",
    "            best_est = est\n",
    "            best_depth = depth\n",
    "\n",
    "print(\"Accuracy:\", best_result, \"Est:\", best_est, \"Max depth:\", best_depth)"
   ]
  },
  {
   "cell_type": "markdown",
   "metadata": {},
   "source": [
    "Для модели LogisticRegression подберем максимальное количество итераций в диапазоне от 100 до 1000 с шагом 10. Выведем Accuracy, Max iter (количество итераций) лучшей модели. Запомним результат."
   ]
  },
  {
   "cell_type": "code",
   "execution_count": 15,
   "metadata": {},
   "outputs": [
    {
     "name": "stdout",
     "output_type": "stream",
     "text": [
      "Accuracy: 0.39813374805598756 Max iter: 100\n"
     ]
    }
   ],
   "source": [
    "best_result = 0\n",
    "best_iter = 0\n",
    "for iter_ in range(100, 1000, 10):\n",
    "    model = LogisticRegression(random_state=12345, solver='lbfgs', max_iter = iter_, class_weight='balanced')\n",
    "    model.fit(train_features, train_target)\n",
    "    result = model.score(valid_features, valid_target)\n",
    "    if result > best_result:\n",
    "        best_result = result\n",
    "        best_iter = iter_\n",
    "\n",
    "print(\"Accuracy:\", best_result, \"Max iter:\", best_iter)"
   ]
  },
  {
   "cell_type": "markdown",
   "metadata": {},
   "source": [
    "Максимальный Accuracy 0.8 у модели RandomForestClassifier с количеством деревьев 90 и глубиной 10."
   ]
  },
  {
   "cell_type": "markdown",
   "metadata": {},
   "source": [
    "## Проверьте модель на тестовой выборке"
   ]
  },
  {
   "cell_type": "markdown",
   "metadata": {},
   "source": [
    "Далее проверим точность работы модели с приведенными выше настройками гиперпараметров на тестовой выборке."
   ]
  },
  {
   "cell_type": "code",
   "execution_count": 16,
   "metadata": {},
   "outputs": [],
   "source": [
    "features_full_train = pd.concat([train_features, valid_features])\n",
    "target_full_train = pd.concat([train_target, valid_target])"
   ]
  },
  {
   "cell_type": "code",
   "execution_count": 17,
   "metadata": {},
   "outputs": [
    {
     "name": "stdout",
     "output_type": "stream",
     "text": [
      "Accuracy: 0.7822706065318819\n"
     ]
    }
   ],
   "source": [
    "model = RandomForestClassifier(random_state = 12345, n_estimators = 90, max_depth = 10, class_weight='balanced')\n",
    "model.fit(features_full_train, target_full_train)\n",
    "result = model.score(test_features, test_target)\n",
    "\n",
    "print(\"Accuracy:\", result)"
   ]
  },
  {
   "cell_type": "markdown",
   "metadata": {},
   "source": [
    "Точность примерно соответствует полученной на тестовой и валидационной выборке. С точки зрения стабильности результата модель работает. Ниже остается провести проверку на \"адекватность\"."
   ]
  },
  {
   "cell_type": "markdown",
   "metadata": {},
   "source": [
    "## Проверим модель на адекватность"
   ]
  },
  {
   "cell_type": "markdown",
   "metadata": {},
   "source": [
    "Ниже сравним полученные результаты с \"глупым\" классификатором из библиотеки sklearn."
   ]
  },
  {
   "cell_type": "code",
   "execution_count": 18,
   "metadata": {},
   "outputs": [
    {
     "name": "stdout",
     "output_type": "stream",
     "text": [
      "Accuracy: 0.6951788491446346\n"
     ]
    }
   ],
   "source": [
    "model = DummyClassifier()\n",
    "model.fit(train_features, train_target)\n",
    "result = model.score(test_features, test_target)\n",
    "\n",
    "print(\"Accuracy:\", result)"
   ]
  },
  {
   "cell_type": "markdown",
   "metadata": {},
   "source": [
    "В завершение констатируем, что все не зря, и обученная модель действительно способна предсказывать появление динозавра на Красной площади с точностью выше, чем 50 / 50."
   ]
  },
  {
   "cell_type": "markdown",
   "metadata": {},
   "source": [
    "## Вывод"
   ]
  },
  {
   "cell_type": "markdown",
   "metadata": {},
   "source": [
    "<p>В рамках решения исходной задачи классификации исходный датасет с данными о клиентах был разделен на обучающую, валидационную и тестовую выборки. В качестве целевого признака был выделен параметр is_ultra. На тестовой выборке были обучены три модели - Дерево решений, Случайный лес и Логистическая регрессия. Была проведена оптимизация гиперпараметров. Выбор лучшей модели производился по метрике Accuracy.</p>\n",
    "<p>В результате проведенного исследования была выбрана модель RandomForestClassifier с наилучшим значением accuracy 0.8, достигнутым при значениях количества деревьев 90 и максимальной глубине дерева 10.</p>\n",
    "<p>Полученный результат был проверен на тестовой выборке и также сравнен со случайным результатом с применением DummyClassifier. Можем сделать вывод, что модель действительно обучена, на тестовой выборке отклонение значения accuracy несущественное, результат \"предсказания\" выше случайного.</p>"
   ]
  },
  {
   "cell_type": "code",
   "execution_count": null,
   "metadata": {},
   "outputs": [],
   "source": []
  }
 ],
 "metadata": {
  "ExecuteTimeLog": [
   {
    "duration": 409,
    "start_time": "2022-10-24T16:28:07.341Z"
   },
   {
    "duration": 62,
    "start_time": "2022-10-24T16:28:07.752Z"
   },
   {
    "duration": 0,
    "start_time": "2022-10-24T16:28:07.816Z"
   },
   {
    "duration": 0,
    "start_time": "2022-10-24T16:28:07.817Z"
   },
   {
    "duration": 112,
    "start_time": "2022-10-24T16:28:41.904Z"
   },
   {
    "duration": 11,
    "start_time": "2022-10-24T16:28:43.627Z"
   },
   {
    "duration": 15,
    "start_time": "2022-10-24T16:28:44.465Z"
   },
   {
    "duration": 4,
    "start_time": "2022-10-24T16:33:23.052Z"
   },
   {
    "duration": 1103,
    "start_time": "2022-10-24T16:33:33.822Z"
   },
   {
    "duration": 31,
    "start_time": "2022-10-24T16:33:34.926Z"
   },
   {
    "duration": 12,
    "start_time": "2022-10-24T16:33:34.959Z"
   },
   {
    "duration": 19,
    "start_time": "2022-10-24T16:33:34.973Z"
   },
   {
    "duration": 7,
    "start_time": "2022-10-24T16:33:34.993Z"
   },
   {
    "duration": 3,
    "start_time": "2022-10-24T16:50:36.066Z"
   },
   {
    "duration": 86,
    "start_time": "2022-10-24T16:51:05.144Z"
   },
   {
    "duration": 1028,
    "start_time": "2022-10-24T16:51:21.470Z"
   },
   {
    "duration": 30,
    "start_time": "2022-10-24T16:51:22.499Z"
   },
   {
    "duration": 11,
    "start_time": "2022-10-24T16:51:22.530Z"
   },
   {
    "duration": 15,
    "start_time": "2022-10-24T16:51:22.542Z"
   },
   {
    "duration": 3,
    "start_time": "2022-10-24T16:51:22.559Z"
   },
   {
    "duration": 9,
    "start_time": "2022-10-24T16:51:22.564Z"
   },
   {
    "duration": 7,
    "start_time": "2022-10-24T16:51:22.574Z"
   },
   {
    "duration": 25,
    "start_time": "2022-10-24T16:51:22.582Z"
   },
   {
    "duration": 5,
    "start_time": "2022-10-24T16:51:22.608Z"
   },
   {
    "duration": 25,
    "start_time": "2022-10-24T16:51:22.614Z"
   },
   {
    "duration": 1093,
    "start_time": "2022-10-24T16:59:20.809Z"
   },
   {
    "duration": 29,
    "start_time": "2022-10-24T16:59:21.904Z"
   },
   {
    "duration": 12,
    "start_time": "2022-10-24T16:59:21.935Z"
   },
   {
    "duration": 14,
    "start_time": "2022-10-24T16:59:21.950Z"
   },
   {
    "duration": 4,
    "start_time": "2022-10-24T16:59:21.966Z"
   },
   {
    "duration": 5,
    "start_time": "2022-10-24T16:59:21.972Z"
   },
   {
    "duration": 38,
    "start_time": "2022-10-24T16:59:21.979Z"
   },
   {
    "duration": 1137,
    "start_time": "2022-10-24T17:00:39.558Z"
   },
   {
    "duration": 28,
    "start_time": "2022-10-24T17:00:40.697Z"
   },
   {
    "duration": 11,
    "start_time": "2022-10-24T17:00:40.727Z"
   },
   {
    "duration": 19,
    "start_time": "2022-10-24T17:00:40.740Z"
   },
   {
    "duration": 3,
    "start_time": "2022-10-24T17:00:40.761Z"
   },
   {
    "duration": 8,
    "start_time": "2022-10-24T17:00:40.766Z"
   },
   {
    "duration": 42,
    "start_time": "2022-10-24T17:00:40.775Z"
   },
   {
    "duration": 1026,
    "start_time": "2022-10-24T17:08:38.493Z"
   },
   {
    "duration": 32,
    "start_time": "2022-10-24T17:08:39.521Z"
   },
   {
    "duration": 11,
    "start_time": "2022-10-24T17:08:39.556Z"
   },
   {
    "duration": 17,
    "start_time": "2022-10-24T17:08:39.569Z"
   },
   {
    "duration": 4,
    "start_time": "2022-10-24T17:08:39.587Z"
   },
   {
    "duration": 5,
    "start_time": "2022-10-24T17:08:39.593Z"
   },
   {
    "duration": 52,
    "start_time": "2022-10-24T17:08:39.600Z"
   },
   {
    "duration": 1105,
    "start_time": "2022-10-24T17:36:38.279Z"
   },
   {
    "duration": 31,
    "start_time": "2022-10-24T17:36:39.385Z"
   },
   {
    "duration": 12,
    "start_time": "2022-10-24T17:36:39.418Z"
   },
   {
    "duration": 37,
    "start_time": "2022-10-24T17:36:39.432Z"
   },
   {
    "duration": 4,
    "start_time": "2022-10-24T17:36:39.471Z"
   },
   {
    "duration": 10,
    "start_time": "2022-10-24T17:36:39.477Z"
   },
   {
    "duration": 27,
    "start_time": "2022-10-24T17:36:39.489Z"
   },
   {
    "duration": 19,
    "start_time": "2022-10-24T17:36:39.518Z"
   },
   {
    "duration": 45,
    "start_time": "2022-10-24T17:36:39.539Z"
   },
   {
    "duration": 13,
    "start_time": "2022-10-24T17:36:39.586Z"
   },
   {
    "duration": 67,
    "start_time": "2022-10-24T17:36:39.600Z"
   },
   {
    "duration": 4,
    "start_time": "2022-10-24T17:43:06.575Z"
   },
   {
    "duration": 1048,
    "start_time": "2022-10-24T17:47:55.889Z"
   },
   {
    "duration": 43,
    "start_time": "2022-10-24T17:47:56.939Z"
   },
   {
    "duration": 15,
    "start_time": "2022-10-24T17:47:56.983Z"
   },
   {
    "duration": 25,
    "start_time": "2022-10-24T17:47:57.001Z"
   },
   {
    "duration": 19,
    "start_time": "2022-10-24T17:47:57.029Z"
   },
   {
    "duration": 15,
    "start_time": "2022-10-24T17:47:57.050Z"
   },
   {
    "duration": 6,
    "start_time": "2022-10-24T17:47:57.067Z"
   },
   {
    "duration": 6,
    "start_time": "2022-10-24T17:47:57.074Z"
   },
   {
    "duration": 7,
    "start_time": "2022-10-24T17:47:57.081Z"
   },
   {
    "duration": 6,
    "start_time": "2022-10-24T17:47:57.090Z"
   },
   {
    "duration": 7,
    "start_time": "2022-10-24T17:47:57.097Z"
   },
   {
    "duration": 48,
    "start_time": "2022-10-24T17:47:57.106Z"
   },
   {
    "duration": 1134,
    "start_time": "2022-10-24T17:57:11.233Z"
   },
   {
    "duration": 31,
    "start_time": "2022-10-24T17:57:12.369Z"
   },
   {
    "duration": 12,
    "start_time": "2022-10-24T17:57:12.403Z"
   },
   {
    "duration": 16,
    "start_time": "2022-10-24T17:57:12.418Z"
   },
   {
    "duration": 24,
    "start_time": "2022-10-24T17:57:12.439Z"
   },
   {
    "duration": 13,
    "start_time": "2022-10-24T17:57:12.464Z"
   },
   {
    "duration": 4,
    "start_time": "2022-10-24T17:57:12.479Z"
   },
   {
    "duration": 5,
    "start_time": "2022-10-24T17:57:12.485Z"
   },
   {
    "duration": 5,
    "start_time": "2022-10-24T17:57:12.492Z"
   },
   {
    "duration": 6,
    "start_time": "2022-10-24T17:57:12.499Z"
   },
   {
    "duration": 6,
    "start_time": "2022-10-24T17:57:12.507Z"
   },
   {
    "duration": 44,
    "start_time": "2022-10-24T17:57:12.515Z"
   },
   {
    "duration": 113,
    "start_time": "2022-10-24T17:57:12.562Z"
   },
   {
    "duration": 269,
    "start_time": "2022-10-24T17:58:03.807Z"
   },
   {
    "duration": 1011,
    "start_time": "2022-10-24T18:48:23.589Z"
   },
   {
    "duration": 30,
    "start_time": "2022-10-24T18:48:24.602Z"
   },
   {
    "duration": 12,
    "start_time": "2022-10-24T18:48:24.633Z"
   },
   {
    "duration": 18,
    "start_time": "2022-10-24T18:48:24.647Z"
   },
   {
    "duration": 5,
    "start_time": "2022-10-24T18:48:24.668Z"
   },
   {
    "duration": 6,
    "start_time": "2022-10-24T18:48:24.675Z"
   },
   {
    "duration": 6,
    "start_time": "2022-10-24T18:48:24.683Z"
   },
   {
    "duration": 4,
    "start_time": "2022-10-24T18:48:24.691Z"
   },
   {
    "duration": 7,
    "start_time": "2022-10-24T18:48:24.696Z"
   },
   {
    "duration": 34,
    "start_time": "2022-10-24T18:48:24.705Z"
   },
   {
    "duration": 7,
    "start_time": "2022-10-24T18:48:24.740Z"
   },
   {
    "duration": 34,
    "start_time": "2022-10-24T18:48:24.748Z"
   },
   {
    "duration": 283,
    "start_time": "2022-10-24T18:48:24.783Z"
   },
   {
    "duration": 40,
    "start_time": "2022-10-24T18:48:25.068Z"
   },
   {
    "duration": 1133,
    "start_time": "2022-10-24T18:56:19.314Z"
   },
   {
    "duration": 30,
    "start_time": "2022-10-24T18:56:20.449Z"
   },
   {
    "duration": 11,
    "start_time": "2022-10-24T18:56:20.481Z"
   },
   {
    "duration": 15,
    "start_time": "2022-10-24T18:56:20.493Z"
   },
   {
    "duration": 4,
    "start_time": "2022-10-24T18:56:20.510Z"
   },
   {
    "duration": 7,
    "start_time": "2022-10-24T18:56:20.516Z"
   },
   {
    "duration": 12,
    "start_time": "2022-10-24T18:56:20.524Z"
   },
   {
    "duration": 7,
    "start_time": "2022-10-24T18:56:20.537Z"
   },
   {
    "duration": 8,
    "start_time": "2022-10-24T18:56:20.545Z"
   },
   {
    "duration": 6,
    "start_time": "2022-10-24T18:56:20.555Z"
   },
   {
    "duration": 8,
    "start_time": "2022-10-24T18:56:20.562Z"
   },
   {
    "duration": 76,
    "start_time": "2022-10-24T18:56:20.572Z"
   },
   {
    "duration": 1639,
    "start_time": "2022-10-24T18:56:20.650Z"
   },
   {
    "duration": 48,
    "start_time": "2022-10-24T18:56:22.291Z"
   },
   {
    "duration": 1076,
    "start_time": "2022-10-24T18:58:19.149Z"
   },
   {
    "duration": 30,
    "start_time": "2022-10-24T18:58:20.227Z"
   },
   {
    "duration": 12,
    "start_time": "2022-10-24T18:58:20.259Z"
   },
   {
    "duration": 18,
    "start_time": "2022-10-24T18:58:20.274Z"
   },
   {
    "duration": 4,
    "start_time": "2022-10-24T18:58:20.294Z"
   },
   {
    "duration": 12,
    "start_time": "2022-10-24T18:58:20.300Z"
   },
   {
    "duration": 11,
    "start_time": "2022-10-24T18:58:20.315Z"
   },
   {
    "duration": 10,
    "start_time": "2022-10-24T18:58:20.328Z"
   },
   {
    "duration": 9,
    "start_time": "2022-10-24T18:58:20.340Z"
   },
   {
    "duration": 16,
    "start_time": "2022-10-24T18:58:20.351Z"
   },
   {
    "duration": 15,
    "start_time": "2022-10-24T18:58:20.369Z"
   },
   {
    "duration": 76,
    "start_time": "2022-10-24T18:58:20.387Z"
   },
   {
    "duration": 3796,
    "start_time": "2022-10-24T18:58:20.465Z"
   },
   {
    "duration": 35,
    "start_time": "2022-10-24T18:58:24.263Z"
   },
   {
    "duration": 1112,
    "start_time": "2022-10-24T18:59:05.338Z"
   },
   {
    "duration": 29,
    "start_time": "2022-10-24T18:59:06.452Z"
   },
   {
    "duration": 12,
    "start_time": "2022-10-24T18:59:06.482Z"
   },
   {
    "duration": 19,
    "start_time": "2022-10-24T18:59:06.496Z"
   },
   {
    "duration": 5,
    "start_time": "2022-10-24T18:59:06.518Z"
   },
   {
    "duration": 14,
    "start_time": "2022-10-24T18:59:06.525Z"
   },
   {
    "duration": 12,
    "start_time": "2022-10-24T18:59:06.541Z"
   },
   {
    "duration": 9,
    "start_time": "2022-10-24T18:59:06.555Z"
   },
   {
    "duration": 7,
    "start_time": "2022-10-24T18:59:06.565Z"
   },
   {
    "duration": 6,
    "start_time": "2022-10-24T18:59:06.573Z"
   },
   {
    "duration": 6,
    "start_time": "2022-10-24T18:59:06.580Z"
   },
   {
    "duration": 78,
    "start_time": "2022-10-24T18:59:06.587Z"
   },
   {
    "duration": 6177,
    "start_time": "2022-10-24T18:59:06.667Z"
   },
   {
    "duration": 40,
    "start_time": "2022-10-24T18:59:12.848Z"
   },
   {
    "duration": 1145,
    "start_time": "2022-10-25T14:30:32.546Z"
   },
   {
    "duration": 70,
    "start_time": "2022-10-25T14:30:33.693Z"
   },
   {
    "duration": 13,
    "start_time": "2022-10-25T14:30:33.765Z"
   },
   {
    "duration": 19,
    "start_time": "2022-10-25T14:30:33.780Z"
   },
   {
    "duration": 4,
    "start_time": "2022-10-25T14:30:33.801Z"
   },
   {
    "duration": 884,
    "start_time": "2022-10-25T14:30:33.807Z"
   },
   {
    "duration": 5,
    "start_time": "2022-10-25T14:30:34.693Z"
   },
   {
    "duration": 7,
    "start_time": "2022-10-25T14:30:34.699Z"
   },
   {
    "duration": 5,
    "start_time": "2022-10-25T14:30:34.707Z"
   },
   {
    "duration": 17,
    "start_time": "2022-10-25T14:30:34.714Z"
   },
   {
    "duration": 9,
    "start_time": "2022-10-25T14:30:34.732Z"
   },
   {
    "duration": 11,
    "start_time": "2022-10-25T14:30:34.743Z"
   },
   {
    "duration": 81,
    "start_time": "2022-10-25T14:30:34.755Z"
   },
   {
    "duration": 6286,
    "start_time": "2022-10-25T14:30:34.839Z"
   },
   {
    "duration": 43,
    "start_time": "2022-10-25T14:30:41.127Z"
   },
   {
    "duration": 668,
    "start_time": "2022-10-25T14:31:00.002Z"
   },
   {
    "duration": 587,
    "start_time": "2022-10-25T14:31:07.652Z"
   },
   {
    "duration": 4,
    "start_time": "2022-10-25T14:34:47.824Z"
   },
   {
    "duration": 4,
    "start_time": "2022-10-25T14:34:59.486Z"
   },
   {
    "duration": 1181,
    "start_time": "2022-10-25T15:28:54.904Z"
   },
   {
    "duration": 32,
    "start_time": "2022-10-25T15:28:56.087Z"
   },
   {
    "duration": 14,
    "start_time": "2022-10-25T15:28:56.121Z"
   },
   {
    "duration": 23,
    "start_time": "2022-10-25T15:28:56.137Z"
   },
   {
    "duration": 976,
    "start_time": "2022-10-25T15:28:56.163Z"
   },
   {
    "duration": 0,
    "start_time": "2022-10-25T15:28:57.140Z"
   },
   {
    "duration": 0,
    "start_time": "2022-10-25T15:28:57.142Z"
   },
   {
    "duration": 0,
    "start_time": "2022-10-25T15:28:57.142Z"
   },
   {
    "duration": 0,
    "start_time": "2022-10-25T15:28:57.144Z"
   },
   {
    "duration": 0,
    "start_time": "2022-10-25T15:28:57.146Z"
   },
   {
    "duration": 0,
    "start_time": "2022-10-25T15:28:57.148Z"
   },
   {
    "duration": 0,
    "start_time": "2022-10-25T15:28:57.149Z"
   },
   {
    "duration": 0,
    "start_time": "2022-10-25T15:28:57.150Z"
   },
   {
    "duration": 0,
    "start_time": "2022-10-25T15:28:57.151Z"
   },
   {
    "duration": 0,
    "start_time": "2022-10-25T15:28:57.152Z"
   },
   {
    "duration": 1403,
    "start_time": "2022-10-25T15:30:19.540Z"
   },
   {
    "duration": 32,
    "start_time": "2022-10-25T15:30:20.945Z"
   },
   {
    "duration": 13,
    "start_time": "2022-10-25T15:30:20.980Z"
   },
   {
    "duration": 16,
    "start_time": "2022-10-25T15:30:20.995Z"
   },
   {
    "duration": 573,
    "start_time": "2022-10-25T15:30:21.014Z"
   },
   {
    "duration": 4,
    "start_time": "2022-10-25T15:30:21.589Z"
   },
   {
    "duration": 5,
    "start_time": "2022-10-25T15:30:21.594Z"
   },
   {
    "duration": 5,
    "start_time": "2022-10-25T15:30:21.601Z"
   },
   {
    "duration": 3,
    "start_time": "2022-10-25T15:30:21.608Z"
   },
   {
    "duration": 4,
    "start_time": "2022-10-25T15:30:21.630Z"
   },
   {
    "duration": 4,
    "start_time": "2022-10-25T15:30:21.636Z"
   },
   {
    "duration": 5,
    "start_time": "2022-10-25T15:30:21.642Z"
   },
   {
    "duration": 91,
    "start_time": "2022-10-25T15:30:21.649Z"
   },
   {
    "duration": 6130,
    "start_time": "2022-10-25T15:30:21.743Z"
   },
   {
    "duration": 3069,
    "start_time": "2022-10-25T15:30:27.875Z"
   },
   {
    "duration": 124,
    "start_time": "2022-10-25T15:34:46.022Z"
   },
   {
    "duration": 1471,
    "start_time": "2022-10-25T15:39:07.938Z"
   },
   {
    "duration": 32,
    "start_time": "2022-10-25T15:39:09.410Z"
   },
   {
    "duration": 12,
    "start_time": "2022-10-25T15:39:09.443Z"
   },
   {
    "duration": 12,
    "start_time": "2022-10-25T15:39:09.457Z"
   },
   {
    "duration": 580,
    "start_time": "2022-10-25T15:39:09.470Z"
   },
   {
    "duration": 3,
    "start_time": "2022-10-25T15:39:10.052Z"
   },
   {
    "duration": 7,
    "start_time": "2022-10-25T15:39:10.057Z"
   },
   {
    "duration": 7,
    "start_time": "2022-10-25T15:39:10.066Z"
   },
   {
    "duration": 4,
    "start_time": "2022-10-25T15:39:10.074Z"
   },
   {
    "duration": 5,
    "start_time": "2022-10-25T15:39:10.080Z"
   },
   {
    "duration": 5,
    "start_time": "2022-10-25T15:39:10.086Z"
   },
   {
    "duration": 6,
    "start_time": "2022-10-25T15:39:10.092Z"
   },
   {
    "duration": 93,
    "start_time": "2022-10-25T15:39:10.100Z"
   },
   {
    "duration": 5981,
    "start_time": "2022-10-25T15:39:10.194Z"
   },
   {
    "duration": 3114,
    "start_time": "2022-10-25T15:39:16.177Z"
   },
   {
    "duration": 121,
    "start_time": "2022-10-25T15:39:19.293Z"
   },
   {
    "duration": 108,
    "start_time": "2022-10-25T15:46:31.938Z"
   },
   {
    "duration": 4,
    "start_time": "2022-10-25T15:46:38.297Z"
   },
   {
    "duration": 120,
    "start_time": "2022-10-25T15:46:42.797Z"
   },
   {
    "duration": 6,
    "start_time": "2022-10-25T15:46:46.967Z"
   },
   {
    "duration": 1304,
    "start_time": "2022-10-25T15:47:03.791Z"
   },
   {
    "duration": 32,
    "start_time": "2022-10-25T15:47:05.097Z"
   },
   {
    "duration": 13,
    "start_time": "2022-10-25T15:47:05.130Z"
   },
   {
    "duration": 14,
    "start_time": "2022-10-25T15:47:05.145Z"
   },
   {
    "duration": 595,
    "start_time": "2022-10-25T15:47:05.161Z"
   },
   {
    "duration": 4,
    "start_time": "2022-10-25T15:47:05.759Z"
   },
   {
    "duration": 5,
    "start_time": "2022-10-25T15:47:05.764Z"
   },
   {
    "duration": 4,
    "start_time": "2022-10-25T15:47:05.771Z"
   },
   {
    "duration": 7,
    "start_time": "2022-10-25T15:47:05.776Z"
   },
   {
    "duration": 5,
    "start_time": "2022-10-25T15:47:05.784Z"
   },
   {
    "duration": 5,
    "start_time": "2022-10-25T15:47:05.791Z"
   },
   {
    "duration": 5,
    "start_time": "2022-10-25T15:47:05.797Z"
   },
   {
    "duration": 67,
    "start_time": "2022-10-25T15:47:05.830Z"
   },
   {
    "duration": 6059,
    "start_time": "2022-10-25T15:47:05.900Z"
   },
   {
    "duration": 3084,
    "start_time": "2022-10-25T15:47:11.961Z"
   },
   {
    "duration": 124,
    "start_time": "2022-10-25T15:47:15.047Z"
   },
   {
    "duration": 5,
    "start_time": "2022-10-25T15:47:15.173Z"
   },
   {
    "duration": 1529,
    "start_time": "2022-10-26T03:25:36.196Z"
   },
   {
    "duration": 119,
    "start_time": "2022-10-26T03:25:37.727Z"
   },
   {
    "duration": 12,
    "start_time": "2022-10-26T03:25:37.848Z"
   },
   {
    "duration": 19,
    "start_time": "2022-10-26T03:25:37.862Z"
   },
   {
    "duration": 575,
    "start_time": "2022-10-26T03:25:37.884Z"
   },
   {
    "duration": 4,
    "start_time": "2022-10-26T03:25:38.460Z"
   },
   {
    "duration": 11,
    "start_time": "2022-10-26T03:25:38.466Z"
   },
   {
    "duration": 6,
    "start_time": "2022-10-26T03:25:38.479Z"
   },
   {
    "duration": 6,
    "start_time": "2022-10-26T03:25:38.487Z"
   },
   {
    "duration": 6,
    "start_time": "2022-10-26T03:25:38.494Z"
   },
   {
    "duration": 12,
    "start_time": "2022-10-26T03:25:38.501Z"
   },
   {
    "duration": 16,
    "start_time": "2022-10-26T03:25:38.514Z"
   },
   {
    "duration": 82,
    "start_time": "2022-10-26T03:25:38.531Z"
   },
   {
    "duration": 5568,
    "start_time": "2022-10-26T03:25:38.615Z"
   },
   {
    "duration": 2992,
    "start_time": "2022-10-26T03:25:44.185Z"
   },
   {
    "duration": 121,
    "start_time": "2022-10-26T03:25:47.178Z"
   },
   {
    "duration": 5,
    "start_time": "2022-10-26T03:25:47.300Z"
   },
   {
    "duration": 28,
    "start_time": "2022-10-26T03:26:58.285Z"
   },
   {
    "duration": 1598,
    "start_time": "2022-10-30T15:24:24.848Z"
   },
   {
    "duration": 74,
    "start_time": "2022-10-30T15:24:26.448Z"
   },
   {
    "duration": 11,
    "start_time": "2022-10-30T15:24:26.523Z"
   },
   {
    "duration": 15,
    "start_time": "2022-10-30T15:24:26.535Z"
   },
   {
    "duration": 899,
    "start_time": "2022-10-30T15:24:26.552Z"
   },
   {
    "duration": 3,
    "start_time": "2022-10-30T15:24:27.453Z"
   },
   {
    "duration": 25,
    "start_time": "2022-10-30T15:24:27.457Z"
   },
   {
    "duration": 9,
    "start_time": "2022-10-30T15:24:27.487Z"
   },
   {
    "duration": 7,
    "start_time": "2022-10-30T15:24:27.498Z"
   },
   {
    "duration": 5,
    "start_time": "2022-10-30T15:24:27.507Z"
   },
   {
    "duration": 7,
    "start_time": "2022-10-30T15:24:27.514Z"
   },
   {
    "duration": 6,
    "start_time": "2022-10-30T15:24:27.522Z"
   },
   {
    "duration": 85,
    "start_time": "2022-10-30T15:24:27.530Z"
   },
   {
    "duration": 16722,
    "start_time": "2022-10-30T15:24:27.617Z"
   },
   {
    "duration": 1576,
    "start_time": "2022-10-30T15:24:44.340Z"
   },
   {
    "duration": 4,
    "start_time": "2022-10-30T15:24:45.918Z"
   },
   {
    "duration": 147,
    "start_time": "2022-10-30T15:24:45.923Z"
   },
   {
    "duration": 13,
    "start_time": "2022-10-30T15:24:46.071Z"
   },
   {
    "duration": 1387,
    "start_time": "2022-10-30T15:26:30.725Z"
   },
   {
    "duration": 32,
    "start_time": "2022-10-30T15:26:32.114Z"
   },
   {
    "duration": 11,
    "start_time": "2022-10-30T15:26:32.147Z"
   },
   {
    "duration": 16,
    "start_time": "2022-10-30T15:26:32.160Z"
   },
   {
    "duration": 863,
    "start_time": "2022-10-30T15:26:32.178Z"
   },
   {
    "duration": 3,
    "start_time": "2022-10-30T15:26:33.043Z"
   },
   {
    "duration": 6,
    "start_time": "2022-10-30T15:26:33.048Z"
   },
   {
    "duration": 5,
    "start_time": "2022-10-30T15:26:33.055Z"
   },
   {
    "duration": 16,
    "start_time": "2022-10-30T15:26:33.061Z"
   },
   {
    "duration": 4,
    "start_time": "2022-10-30T15:26:33.080Z"
   },
   {
    "duration": 13,
    "start_time": "2022-10-30T15:26:33.085Z"
   },
   {
    "duration": 7,
    "start_time": "2022-10-30T15:26:33.100Z"
   },
   {
    "duration": 78,
    "start_time": "2022-10-30T15:26:33.108Z"
   },
   {
    "duration": 16171,
    "start_time": "2022-10-30T15:26:33.188Z"
   },
   {
    "duration": 1544,
    "start_time": "2022-10-30T15:26:49.361Z"
   },
   {
    "duration": 3,
    "start_time": "2022-10-30T15:26:50.907Z"
   },
   {
    "duration": 156,
    "start_time": "2022-10-30T15:26:50.912Z"
   },
   {
    "duration": 11,
    "start_time": "2022-10-30T15:26:51.069Z"
   },
   {
    "duration": 1618,
    "start_time": "2022-10-30T15:32:38.506Z"
   },
   {
    "duration": 31,
    "start_time": "2022-10-30T15:32:40.126Z"
   },
   {
    "duration": 10,
    "start_time": "2022-10-30T15:32:40.159Z"
   },
   {
    "duration": 30,
    "start_time": "2022-10-30T15:32:40.171Z"
   },
   {
    "duration": 902,
    "start_time": "2022-10-30T15:32:40.204Z"
   },
   {
    "duration": 4,
    "start_time": "2022-10-30T15:32:41.108Z"
   },
   {
    "duration": 7,
    "start_time": "2022-10-30T15:32:41.113Z"
   },
   {
    "duration": 5,
    "start_time": "2022-10-30T15:32:41.121Z"
   },
   {
    "duration": 5,
    "start_time": "2022-10-30T15:32:41.127Z"
   },
   {
    "duration": 5,
    "start_time": "2022-10-30T15:32:41.134Z"
   },
   {
    "duration": 8,
    "start_time": "2022-10-30T15:32:41.140Z"
   },
   {
    "duration": 7,
    "start_time": "2022-10-30T15:32:41.149Z"
   },
   {
    "duration": 90,
    "start_time": "2022-10-30T15:32:41.157Z"
   },
   {
    "duration": 17186,
    "start_time": "2022-10-30T15:32:41.250Z"
   },
   {
    "duration": 1626,
    "start_time": "2022-10-30T15:32:58.438Z"
   },
   {
    "duration": 4,
    "start_time": "2022-10-30T15:33:00.066Z"
   },
   {
    "duration": 174,
    "start_time": "2022-10-30T15:33:00.077Z"
   },
   {
    "duration": 5,
    "start_time": "2022-10-30T15:33:00.252Z"
   },
   {
    "duration": 1680,
    "start_time": "2022-10-30T15:44:04.308Z"
   },
   {
    "duration": 124,
    "start_time": "2022-10-30T15:44:05.990Z"
   },
   {
    "duration": 15,
    "start_time": "2022-10-30T15:44:06.116Z"
   },
   {
    "duration": 29,
    "start_time": "2022-10-30T15:44:06.133Z"
   },
   {
    "duration": 1084,
    "start_time": "2022-10-30T15:44:06.169Z"
   },
   {
    "duration": 7,
    "start_time": "2022-10-30T15:44:07.262Z"
   },
   {
    "duration": 10,
    "start_time": "2022-10-30T15:44:07.271Z"
   },
   {
    "duration": 6,
    "start_time": "2022-10-30T15:44:07.283Z"
   },
   {
    "duration": 11,
    "start_time": "2022-10-30T15:44:07.291Z"
   },
   {
    "duration": 7,
    "start_time": "2022-10-30T15:44:07.306Z"
   },
   {
    "duration": 5,
    "start_time": "2022-10-30T15:44:07.315Z"
   },
   {
    "duration": 8,
    "start_time": "2022-10-30T15:44:07.322Z"
   },
   {
    "duration": 91,
    "start_time": "2022-10-30T15:44:07.332Z"
   },
   {
    "duration": 19021,
    "start_time": "2022-10-30T15:44:07.425Z"
   },
   {
    "duration": 1653,
    "start_time": "2022-10-30T15:44:26.448Z"
   },
   {
    "duration": 5,
    "start_time": "2022-10-30T15:44:28.104Z"
   },
   {
    "duration": 363,
    "start_time": "2022-10-30T15:44:28.111Z"
   },
   {
    "duration": 5,
    "start_time": "2022-10-30T15:44:28.476Z"
   },
   {
    "duration": 1486,
    "start_time": "2022-10-30T15:47:19.568Z"
   },
   {
    "duration": 42,
    "start_time": "2022-10-30T15:47:21.056Z"
   },
   {
    "duration": 14,
    "start_time": "2022-10-30T15:47:21.099Z"
   },
   {
    "duration": 19,
    "start_time": "2022-10-30T15:47:21.115Z"
   },
   {
    "duration": 1160,
    "start_time": "2022-10-30T15:47:21.137Z"
   },
   {
    "duration": 4,
    "start_time": "2022-10-30T15:47:22.299Z"
   },
   {
    "duration": 11,
    "start_time": "2022-10-30T15:47:22.304Z"
   },
   {
    "duration": 7,
    "start_time": "2022-10-30T15:47:22.317Z"
   },
   {
    "duration": 9,
    "start_time": "2022-10-30T15:47:22.326Z"
   },
   {
    "duration": 27,
    "start_time": "2022-10-30T15:47:22.337Z"
   },
   {
    "duration": 9,
    "start_time": "2022-10-30T15:47:22.366Z"
   },
   {
    "duration": 8,
    "start_time": "2022-10-30T15:47:22.376Z"
   },
   {
    "duration": 84,
    "start_time": "2022-10-30T15:47:22.386Z"
   },
   {
    "duration": 19065,
    "start_time": "2022-10-30T15:47:22.473Z"
   },
   {
    "duration": 2102,
    "start_time": "2022-10-30T15:47:41.540Z"
   },
   {
    "duration": 19,
    "start_time": "2022-10-30T15:47:43.643Z"
   },
   {
    "duration": 379,
    "start_time": "2022-10-30T15:47:43.663Z"
   },
   {
    "duration": 5,
    "start_time": "2022-10-30T15:47:44.044Z"
   },
   {
    "duration": 1433,
    "start_time": "2022-10-30T15:57:18.277Z"
   },
   {
    "duration": 31,
    "start_time": "2022-10-30T15:57:19.712Z"
   },
   {
    "duration": 12,
    "start_time": "2022-10-30T15:57:19.744Z"
   },
   {
    "duration": 12,
    "start_time": "2022-10-30T15:57:19.758Z"
   },
   {
    "duration": 884,
    "start_time": "2022-10-30T15:57:19.772Z"
   },
   {
    "duration": 3,
    "start_time": "2022-10-30T15:57:20.658Z"
   },
   {
    "duration": 21,
    "start_time": "2022-10-30T15:57:20.663Z"
   },
   {
    "duration": 5,
    "start_time": "2022-10-30T15:57:20.686Z"
   },
   {
    "duration": 4,
    "start_time": "2022-10-30T15:57:20.693Z"
   },
   {
    "duration": 6,
    "start_time": "2022-10-30T15:57:20.699Z"
   },
   {
    "duration": 6,
    "start_time": "2022-10-30T15:57:20.706Z"
   },
   {
    "duration": 6,
    "start_time": "2022-10-30T15:57:20.714Z"
   },
   {
    "duration": 78,
    "start_time": "2022-10-30T15:57:20.722Z"
   },
   {
    "duration": 15921,
    "start_time": "2022-10-30T15:57:20.801Z"
   },
   {
    "duration": 1599,
    "start_time": "2022-10-30T15:57:36.723Z"
   },
   {
    "duration": 3,
    "start_time": "2022-10-30T15:57:38.324Z"
   },
   {
    "duration": 342,
    "start_time": "2022-10-30T15:57:38.329Z"
   },
   {
    "duration": 7,
    "start_time": "2022-10-30T15:57:38.673Z"
   }
  ],
  "kernelspec": {
   "display_name": "Python 3 (ipykernel)",
   "language": "python",
   "name": "python3"
  },
  "language_info": {
   "codemirror_mode": {
    "name": "ipython",
    "version": 3
   },
   "file_extension": ".py",
   "mimetype": "text/x-python",
   "name": "python",
   "nbconvert_exporter": "python",
   "pygments_lexer": "ipython3",
   "version": "3.9.12"
  },
  "toc": {
   "base_numbering": 1,
   "nav_menu": {},
   "number_sections": true,
   "sideBar": true,
   "skip_h1_title": true,
   "title_cell": "Table of Contents",
   "title_sidebar": "Contents",
   "toc_cell": false,
   "toc_position": {
    "height": "calc(100% - 180px)",
    "left": "10px",
    "top": "150px",
    "width": "313.797px"
   },
   "toc_section_display": true,
   "toc_window_display": true
  }
 },
 "nbformat": 4,
 "nbformat_minor": 2
}
