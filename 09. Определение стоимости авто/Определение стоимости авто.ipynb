{
 "cells": [
  {
   "cell_type": "markdown",
   "metadata": {},
   "source": [
    "# Определение стоимости автомобилей"
   ]
  },
  {
   "cell_type": "markdown",
   "metadata": {},
   "source": [
    "Сервис по продаже автомобилей с пробегом «Не бит, не крашен» разрабатывает приложение для привлечения новых клиентов. В нём можно быстро узнать рыночную стоимость своего автомобиля.\n",
    "\n",
    "В нашем распоряжении исторические данные: технические характеристики, комплектации и цены автомобилей.\n",
    "\n",
    "Нам нужно построить модель для определения стоимости. \n",
    "\n",
    "Заказчику важны:\n",
    "\n",
    "- качество предсказания;\n",
    "- скорость предсказания;\n",
    "- время обучения."
   ]
  },
  {
   "cell_type": "markdown",
   "metadata": {},
   "source": [
    "### Описание проекта."
   ]
  },
  {
   "cell_type": "markdown",
   "metadata": {},
   "source": [
    "В наше распоряжение попала база объявлений авто. Наша задача подготовить достаточно быструю в обучении и предсказании, но, в то же время достаточно точную модель определения рыночной стоимости авто по имеющимся признакам.\n",
    "\n",
    "В ходе работы проведем предобработку, обучение моделей и выберем одну наиболее подходящую. Подробно каждый этап описан ниже. Работа завершается краткими выводами и рекомендациями."
   ]
  },
  {
   "cell_type": "markdown",
   "metadata": {},
   "source": [
    "### Загрузка библиотек"
   ]
  },
  {
   "cell_type": "code",
   "execution_count": 1,
   "metadata": {},
   "outputs": [],
   "source": [
    "import numpy as np\n",
    "import pandas as pd\n",
    "import matplotlib.pyplot as plt\n",
    "\n",
    "from sklearn.compose import ColumnTransformer\n",
    "from sklearn.pipeline import Pipeline\n",
    "\n",
    "from sklearn.preprocessing import OneHotEncoder\n",
    "from sklearn.preprocessing import OrdinalEncoder\n",
    "from sklearn.preprocessing import StandardScaler\n",
    "\n",
    "from sklearn.model_selection import train_test_split\n",
    "from sklearn.model_selection import KFold\n",
    "from sklearn.model_selection import cross_val_score\n",
    "from sklearn.model_selection import GridSearchCV\n",
    "\n",
    "from sklearn.dummy import DummyRegressor\n",
    "from sklearn.linear_model import LinearRegression\n",
    "from sklearn.tree import DecisionTreeRegressor\n",
    "from lightgbm import LGBMRegressor\n",
    "\n",
    "from sklearn.metrics import mean_squared_error"
   ]
  },
  {
   "cell_type": "markdown",
   "metadata": {},
   "source": [
    "### Определим константы"
   ]
  },
  {
   "cell_type": "code",
   "execution_count": 2,
   "metadata": {},
   "outputs": [],
   "source": [
    "RNG = np.random.RandomState(0)"
   ]
  },
  {
   "cell_type": "code",
   "execution_count": 3,
   "metadata": {},
   "outputs": [],
   "source": [
    "SCORER = 'neg_root_mean_squared_error'"
   ]
  },
  {
   "cell_type": "code",
   "execution_count": 4,
   "metadata": {},
   "outputs": [],
   "source": [
    "CV = KFold(n_splits=3)"
   ]
  },
  {
   "cell_type": "markdown",
   "metadata": {},
   "source": [
    "## Подготовка данных"
   ]
  },
  {
   "cell_type": "markdown",
   "metadata": {},
   "source": [
    "### Загрузим данные и выведем сводное инфо."
   ]
  },
  {
   "cell_type": "code",
   "execution_count": 5,
   "metadata": {},
   "outputs": [],
   "source": [
    "data = pd.read_csv('autos.csv')"
   ]
  },
  {
   "cell_type": "code",
   "execution_count": 6,
   "metadata": {
    "scrolled": false
   },
   "outputs": [
    {
     "data": {
      "text/html": [
       "<div>\n",
       "<style scoped>\n",
       "    .dataframe tbody tr th:only-of-type {\n",
       "        vertical-align: middle;\n",
       "    }\n",
       "\n",
       "    .dataframe tbody tr th {\n",
       "        vertical-align: top;\n",
       "    }\n",
       "\n",
       "    .dataframe thead th {\n",
       "        text-align: right;\n",
       "    }\n",
       "</style>\n",
       "<table border=\"1\" class=\"dataframe\">\n",
       "  <thead>\n",
       "    <tr style=\"text-align: right;\">\n",
       "      <th></th>\n",
       "      <th>DateCrawled</th>\n",
       "      <th>Price</th>\n",
       "      <th>VehicleType</th>\n",
       "      <th>RegistrationYear</th>\n",
       "      <th>Gearbox</th>\n",
       "      <th>Power</th>\n",
       "      <th>Model</th>\n",
       "      <th>Kilometer</th>\n",
       "      <th>RegistrationMonth</th>\n",
       "      <th>FuelType</th>\n",
       "      <th>Brand</th>\n",
       "      <th>Repaired</th>\n",
       "      <th>DateCreated</th>\n",
       "      <th>NumberOfPictures</th>\n",
       "      <th>PostalCode</th>\n",
       "      <th>LastSeen</th>\n",
       "    </tr>\n",
       "  </thead>\n",
       "  <tbody>\n",
       "    <tr>\n",
       "      <th>0</th>\n",
       "      <td>2016-03-24 11:52:17</td>\n",
       "      <td>480</td>\n",
       "      <td>NaN</td>\n",
       "      <td>1993</td>\n",
       "      <td>manual</td>\n",
       "      <td>0</td>\n",
       "      <td>golf</td>\n",
       "      <td>150000</td>\n",
       "      <td>0</td>\n",
       "      <td>petrol</td>\n",
       "      <td>volkswagen</td>\n",
       "      <td>NaN</td>\n",
       "      <td>2016-03-24 00:00:00</td>\n",
       "      <td>0</td>\n",
       "      <td>70435</td>\n",
       "      <td>2016-04-07 03:16:57</td>\n",
       "    </tr>\n",
       "    <tr>\n",
       "      <th>1</th>\n",
       "      <td>2016-03-24 10:58:45</td>\n",
       "      <td>18300</td>\n",
       "      <td>coupe</td>\n",
       "      <td>2011</td>\n",
       "      <td>manual</td>\n",
       "      <td>190</td>\n",
       "      <td>NaN</td>\n",
       "      <td>125000</td>\n",
       "      <td>5</td>\n",
       "      <td>gasoline</td>\n",
       "      <td>audi</td>\n",
       "      <td>yes</td>\n",
       "      <td>2016-03-24 00:00:00</td>\n",
       "      <td>0</td>\n",
       "      <td>66954</td>\n",
       "      <td>2016-04-07 01:46:50</td>\n",
       "    </tr>\n",
       "    <tr>\n",
       "      <th>2</th>\n",
       "      <td>2016-03-14 12:52:21</td>\n",
       "      <td>9800</td>\n",
       "      <td>suv</td>\n",
       "      <td>2004</td>\n",
       "      <td>auto</td>\n",
       "      <td>163</td>\n",
       "      <td>grand</td>\n",
       "      <td>125000</td>\n",
       "      <td>8</td>\n",
       "      <td>gasoline</td>\n",
       "      <td>jeep</td>\n",
       "      <td>NaN</td>\n",
       "      <td>2016-03-14 00:00:00</td>\n",
       "      <td>0</td>\n",
       "      <td>90480</td>\n",
       "      <td>2016-04-05 12:47:46</td>\n",
       "    </tr>\n",
       "    <tr>\n",
       "      <th>3</th>\n",
       "      <td>2016-03-17 16:54:04</td>\n",
       "      <td>1500</td>\n",
       "      <td>small</td>\n",
       "      <td>2001</td>\n",
       "      <td>manual</td>\n",
       "      <td>75</td>\n",
       "      <td>golf</td>\n",
       "      <td>150000</td>\n",
       "      <td>6</td>\n",
       "      <td>petrol</td>\n",
       "      <td>volkswagen</td>\n",
       "      <td>no</td>\n",
       "      <td>2016-03-17 00:00:00</td>\n",
       "      <td>0</td>\n",
       "      <td>91074</td>\n",
       "      <td>2016-03-17 17:40:17</td>\n",
       "    </tr>\n",
       "    <tr>\n",
       "      <th>4</th>\n",
       "      <td>2016-03-31 17:25:20</td>\n",
       "      <td>3600</td>\n",
       "      <td>small</td>\n",
       "      <td>2008</td>\n",
       "      <td>manual</td>\n",
       "      <td>69</td>\n",
       "      <td>fabia</td>\n",
       "      <td>90000</td>\n",
       "      <td>7</td>\n",
       "      <td>gasoline</td>\n",
       "      <td>skoda</td>\n",
       "      <td>no</td>\n",
       "      <td>2016-03-31 00:00:00</td>\n",
       "      <td>0</td>\n",
       "      <td>60437</td>\n",
       "      <td>2016-04-06 10:17:21</td>\n",
       "    </tr>\n",
       "  </tbody>\n",
       "</table>\n",
       "</div>"
      ],
      "text/plain": [
       "           DateCrawled  Price VehicleType  RegistrationYear Gearbox  Power  \\\n",
       "0  2016-03-24 11:52:17    480         NaN              1993  manual      0   \n",
       "1  2016-03-24 10:58:45  18300       coupe              2011  manual    190   \n",
       "2  2016-03-14 12:52:21   9800         suv              2004    auto    163   \n",
       "3  2016-03-17 16:54:04   1500       small              2001  manual     75   \n",
       "4  2016-03-31 17:25:20   3600       small              2008  manual     69   \n",
       "\n",
       "   Model  Kilometer  RegistrationMonth  FuelType       Brand Repaired  \\\n",
       "0   golf     150000                  0    petrol  volkswagen      NaN   \n",
       "1    NaN     125000                  5  gasoline        audi      yes   \n",
       "2  grand     125000                  8  gasoline        jeep      NaN   \n",
       "3   golf     150000                  6    petrol  volkswagen       no   \n",
       "4  fabia      90000                  7  gasoline       skoda       no   \n",
       "\n",
       "           DateCreated  NumberOfPictures  PostalCode             LastSeen  \n",
       "0  2016-03-24 00:00:00                 0       70435  2016-04-07 03:16:57  \n",
       "1  2016-03-24 00:00:00                 0       66954  2016-04-07 01:46:50  \n",
       "2  2016-03-14 00:00:00                 0       90480  2016-04-05 12:47:46  \n",
       "3  2016-03-17 00:00:00                 0       91074  2016-03-17 17:40:17  \n",
       "4  2016-03-31 00:00:00                 0       60437  2016-04-06 10:17:21  "
      ]
     },
     "execution_count": 6,
     "metadata": {},
     "output_type": "execute_result"
    }
   ],
   "source": [
    "data.head()"
   ]
  },
  {
   "cell_type": "code",
   "execution_count": 7,
   "metadata": {
    "scrolled": false
   },
   "outputs": [
    {
     "name": "stdout",
     "output_type": "stream",
     "text": [
      "<class 'pandas.core.frame.DataFrame'>\n",
      "RangeIndex: 354369 entries, 0 to 354368\n",
      "Data columns (total 16 columns):\n",
      " #   Column             Non-Null Count   Dtype \n",
      "---  ------             --------------   ----- \n",
      " 0   DateCrawled        354369 non-null  object\n",
      " 1   Price              354369 non-null  int64 \n",
      " 2   VehicleType        316879 non-null  object\n",
      " 3   RegistrationYear   354369 non-null  int64 \n",
      " 4   Gearbox            334536 non-null  object\n",
      " 5   Power              354369 non-null  int64 \n",
      " 6   Model              334664 non-null  object\n",
      " 7   Kilometer          354369 non-null  int64 \n",
      " 8   RegistrationMonth  354369 non-null  int64 \n",
      " 9   FuelType           321474 non-null  object\n",
      " 10  Brand              354369 non-null  object\n",
      " 11  Repaired           283215 non-null  object\n",
      " 12  DateCreated        354369 non-null  object\n",
      " 13  NumberOfPictures   354369 non-null  int64 \n",
      " 14  PostalCode         354369 non-null  int64 \n",
      " 15  LastSeen           354369 non-null  object\n",
      "dtypes: int64(7), object(9)\n",
      "memory usage: 43.3+ MB\n"
     ]
    }
   ],
   "source": [
    "data.info()"
   ]
  },
  {
   "cell_type": "markdown",
   "metadata": {},
   "source": [
    "Наблюдаем следующий задел для предобработки:\n",
    "\n",
    "- Приведение типов данных. Необходимо обработать столбцы, связанные с датой / временем.\n",
    "\n",
    "- Обработка пропусков. Исследуем пропуски и выберем стратегию замены ниже.\n",
    "\n",
    "- Обработка явных и неявных дубликатов. Проверим на наличие и обработаем при необходимости.\n",
    "\n",
    "- Исследуем и обработаем при необходимости выбросы и аномалии."
   ]
  },
  {
   "cell_type": "markdown",
   "metadata": {},
   "source": [
    "Начнем с обработки даты / времени, чтобы эти столбцы можно было включить в дальнейшие шаги предобработки данных. Имеются три столбца, связанных с датой / временем: DateCrawled, LastSeen, DateCreated. Во - первых изменим тип данных, во вторых разобьем каждый столбец отдельно на год /месяц / дату и т. д. Сохраним сведения в новые соответсвующие столбцы и удалим первоначальные столбцы."
   ]
  },
  {
   "cell_type": "code",
   "execution_count": 8,
   "metadata": {},
   "outputs": [],
   "source": [
    "data['DateCrawled'] = pd.to_datetime(data['DateCrawled'])\n",
    "data['LastSeen'] = pd.to_datetime(data['LastSeen'])\n",
    "data['DateCreated'] = pd.to_datetime(data['DateCreated'])"
   ]
  },
  {
   "cell_type": "code",
   "execution_count": 9,
   "metadata": {},
   "outputs": [],
   "source": [
    "data['dc_year'] = data['DateCrawled'].dt.year\n",
    "data['dc_month'] = data['DateCrawled'].dt.month\n",
    "data['dc_day'] = data['DateCrawled'].dt.day\n",
    "data['dc_hour'] = data['DateCrawled'].dt.hour\n",
    "data['dc_dayofweek'] = data['DateCrawled'].dt.dayofweek"
   ]
  },
  {
   "cell_type": "code",
   "execution_count": 10,
   "metadata": {},
   "outputs": [],
   "source": [
    "data['ls_year'] = data['LastSeen'].dt.year\n",
    "data['ls_month'] = data['LastSeen'].dt.month\n",
    "data['ls_day'] = data['LastSeen'].dt.day\n",
    "data['ls_hour'] = data['LastSeen'].dt.hour\n",
    "data['ls_dayofweek'] = data['LastSeen'].dt.dayofweek"
   ]
  },
  {
   "cell_type": "code",
   "execution_count": 11,
   "metadata": {},
   "outputs": [],
   "source": [
    "data['dcr_year'] = data['DateCreated'].dt.year\n",
    "data['dcr_month'] = data['DateCreated'].dt.month\n",
    "data['dcr_day'] = data['DateCreated'].dt.day\n",
    "data['dcr_hour'] = data['DateCreated'].dt.hour\n",
    "data['dcr_dayofweek'] = data['DateCreated'].dt.dayofweek"
   ]
  },
  {
   "cell_type": "code",
   "execution_count": 12,
   "metadata": {},
   "outputs": [],
   "source": [
    "data.drop(['DateCrawled', 'LastSeen', 'DateCreated'], axis=1, inplace=True)"
   ]
  },
  {
   "cell_type": "markdown",
   "metadata": {},
   "source": [
    "Преобразование даты / времени завершено. В текущем состоянии данные с технической точки зрения пригодны для машинного обучения (информативность признаков по существу рассмотрим ниже)."
   ]
  },
  {
   "cell_type": "markdown",
   "metadata": {},
   "source": [
    "Ниже обработаем пропущенные значения."
   ]
  },
  {
   "cell_type": "code",
   "execution_count": 13,
   "metadata": {},
   "outputs": [
    {
     "data": {
      "text/plain": [
       "Repaired       20.079070\n",
       "VehicleType    10.579368\n",
       "FuelType        9.282697\n",
       "Gearbox         5.596709\n",
       "Model           5.560588\n",
       "dtype: float64"
      ]
     },
     "execution_count": 13,
     "metadata": {},
     "output_type": "execute_result"
    }
   ],
   "source": [
    "missing_values = (data.isna().mean()*100).sort_values(ascending = False)\n",
    "missing_values[missing_values != 0]"
   ]
  },
  {
   "cell_type": "markdown",
   "metadata": {},
   "source": [
    "Все пропущенные значения сосредоточены в колонках с категориальными признаками. Поскольку любая модель авто может комплектоваться различными типами кузовов, двигателей и коробок передач, целесообразно пропуски заменить заглушкой."
   ]
  },
  {
   "cell_type": "code",
   "execution_count": 14,
   "metadata": {},
   "outputs": [],
   "source": [
    "data['Repaired'] = data['Repaired'].fillna('unknown')"
   ]
  },
  {
   "cell_type": "code",
   "execution_count": 15,
   "metadata": {},
   "outputs": [],
   "source": [
    "data['VehicleType'] = data['VehicleType'].fillna('unknown')"
   ]
  },
  {
   "cell_type": "code",
   "execution_count": 16,
   "metadata": {},
   "outputs": [],
   "source": [
    "data['FuelType'] = data['FuelType'].fillna('unknown')"
   ]
  },
  {
   "cell_type": "code",
   "execution_count": 17,
   "metadata": {},
   "outputs": [],
   "source": [
    "data['Gearbox'] = data['Gearbox'].fillna('unknown')"
   ]
  },
  {
   "cell_type": "code",
   "execution_count": 18,
   "metadata": {},
   "outputs": [],
   "source": [
    "data['Model'] = data['Model'].fillna('unknown')"
   ]
  },
  {
   "cell_type": "code",
   "execution_count": 19,
   "metadata": {},
   "outputs": [
    {
     "data": {
      "text/plain": [
       "Series([], dtype: float64)"
      ]
     },
     "execution_count": 19,
     "metadata": {},
     "output_type": "execute_result"
    }
   ],
   "source": [
    "missing_values = (data.isna().mean()*100).sort_values(ascending = False)\n",
    "missing_values[missing_values != 0]"
   ]
  },
  {
   "cell_type": "markdown",
   "metadata": {},
   "source": [
    "Пропуски обработаны."
   ]
  },
  {
   "cell_type": "markdown",
   "metadata": {},
   "source": [
    "Далее в соотв. с утвержденным планом обработаем дубликаты. Начнем с явных дубликатов, далее проверим и заменим при необходимости неявные дубликаты в колонках категориальных признаков."
   ]
  },
  {
   "cell_type": "code",
   "execution_count": 20,
   "metadata": {},
   "outputs": [
    {
     "data": {
      "text/plain": [
       "1706"
      ]
     },
     "execution_count": 20,
     "metadata": {},
     "output_type": "execute_result"
    }
   ],
   "source": [
    "data.duplicated().sum()"
   ]
  },
  {
   "cell_type": "code",
   "execution_count": 21,
   "metadata": {},
   "outputs": [
    {
     "data": {
      "text/html": [
       "<div>\n",
       "<style scoped>\n",
       "    .dataframe tbody tr th:only-of-type {\n",
       "        vertical-align: middle;\n",
       "    }\n",
       "\n",
       "    .dataframe tbody tr th {\n",
       "        vertical-align: top;\n",
       "    }\n",
       "\n",
       "    .dataframe thead th {\n",
       "        text-align: right;\n",
       "    }\n",
       "</style>\n",
       "<table border=\"1\" class=\"dataframe\">\n",
       "  <thead>\n",
       "    <tr style=\"text-align: right;\">\n",
       "      <th></th>\n",
       "      <th>Price</th>\n",
       "      <th>VehicleType</th>\n",
       "      <th>RegistrationYear</th>\n",
       "      <th>Gearbox</th>\n",
       "      <th>Power</th>\n",
       "      <th>Model</th>\n",
       "      <th>Kilometer</th>\n",
       "      <th>RegistrationMonth</th>\n",
       "      <th>FuelType</th>\n",
       "      <th>Brand</th>\n",
       "      <th>...</th>\n",
       "      <th>ls_year</th>\n",
       "      <th>ls_month</th>\n",
       "      <th>ls_day</th>\n",
       "      <th>ls_hour</th>\n",
       "      <th>ls_dayofweek</th>\n",
       "      <th>dcr_year</th>\n",
       "      <th>dcr_month</th>\n",
       "      <th>dcr_day</th>\n",
       "      <th>dcr_hour</th>\n",
       "      <th>dcr_dayofweek</th>\n",
       "    </tr>\n",
       "  </thead>\n",
       "  <tbody>\n",
       "    <tr>\n",
       "      <th>0</th>\n",
       "      <td>480</td>\n",
       "      <td>unknown</td>\n",
       "      <td>1993</td>\n",
       "      <td>manual</td>\n",
       "      <td>0</td>\n",
       "      <td>golf</td>\n",
       "      <td>150000</td>\n",
       "      <td>0</td>\n",
       "      <td>petrol</td>\n",
       "      <td>volkswagen</td>\n",
       "      <td>...</td>\n",
       "      <td>2016</td>\n",
       "      <td>4</td>\n",
       "      <td>7</td>\n",
       "      <td>3</td>\n",
       "      <td>3</td>\n",
       "      <td>2016</td>\n",
       "      <td>3</td>\n",
       "      <td>24</td>\n",
       "      <td>0</td>\n",
       "      <td>3</td>\n",
       "    </tr>\n",
       "    <tr>\n",
       "      <th>1</th>\n",
       "      <td>18300</td>\n",
       "      <td>coupe</td>\n",
       "      <td>2011</td>\n",
       "      <td>manual</td>\n",
       "      <td>190</td>\n",
       "      <td>unknown</td>\n",
       "      <td>125000</td>\n",
       "      <td>5</td>\n",
       "      <td>gasoline</td>\n",
       "      <td>audi</td>\n",
       "      <td>...</td>\n",
       "      <td>2016</td>\n",
       "      <td>4</td>\n",
       "      <td>7</td>\n",
       "      <td>1</td>\n",
       "      <td>3</td>\n",
       "      <td>2016</td>\n",
       "      <td>3</td>\n",
       "      <td>24</td>\n",
       "      <td>0</td>\n",
       "      <td>3</td>\n",
       "    </tr>\n",
       "    <tr>\n",
       "      <th>2</th>\n",
       "      <td>9800</td>\n",
       "      <td>suv</td>\n",
       "      <td>2004</td>\n",
       "      <td>auto</td>\n",
       "      <td>163</td>\n",
       "      <td>grand</td>\n",
       "      <td>125000</td>\n",
       "      <td>8</td>\n",
       "      <td>gasoline</td>\n",
       "      <td>jeep</td>\n",
       "      <td>...</td>\n",
       "      <td>2016</td>\n",
       "      <td>4</td>\n",
       "      <td>5</td>\n",
       "      <td>12</td>\n",
       "      <td>1</td>\n",
       "      <td>2016</td>\n",
       "      <td>3</td>\n",
       "      <td>14</td>\n",
       "      <td>0</td>\n",
       "      <td>0</td>\n",
       "    </tr>\n",
       "    <tr>\n",
       "      <th>3</th>\n",
       "      <td>1500</td>\n",
       "      <td>small</td>\n",
       "      <td>2001</td>\n",
       "      <td>manual</td>\n",
       "      <td>75</td>\n",
       "      <td>golf</td>\n",
       "      <td>150000</td>\n",
       "      <td>6</td>\n",
       "      <td>petrol</td>\n",
       "      <td>volkswagen</td>\n",
       "      <td>...</td>\n",
       "      <td>2016</td>\n",
       "      <td>3</td>\n",
       "      <td>17</td>\n",
       "      <td>17</td>\n",
       "      <td>3</td>\n",
       "      <td>2016</td>\n",
       "      <td>3</td>\n",
       "      <td>17</td>\n",
       "      <td>0</td>\n",
       "      <td>3</td>\n",
       "    </tr>\n",
       "    <tr>\n",
       "      <th>4</th>\n",
       "      <td>3600</td>\n",
       "      <td>small</td>\n",
       "      <td>2008</td>\n",
       "      <td>manual</td>\n",
       "      <td>69</td>\n",
       "      <td>fabia</td>\n",
       "      <td>90000</td>\n",
       "      <td>7</td>\n",
       "      <td>gasoline</td>\n",
       "      <td>skoda</td>\n",
       "      <td>...</td>\n",
       "      <td>2016</td>\n",
       "      <td>4</td>\n",
       "      <td>6</td>\n",
       "      <td>10</td>\n",
       "      <td>2</td>\n",
       "      <td>2016</td>\n",
       "      <td>3</td>\n",
       "      <td>31</td>\n",
       "      <td>0</td>\n",
       "      <td>3</td>\n",
       "    </tr>\n",
       "    <tr>\n",
       "      <th>...</th>\n",
       "      <td>...</td>\n",
       "      <td>...</td>\n",
       "      <td>...</td>\n",
       "      <td>...</td>\n",
       "      <td>...</td>\n",
       "      <td>...</td>\n",
       "      <td>...</td>\n",
       "      <td>...</td>\n",
       "      <td>...</td>\n",
       "      <td>...</td>\n",
       "      <td>...</td>\n",
       "      <td>...</td>\n",
       "      <td>...</td>\n",
       "      <td>...</td>\n",
       "      <td>...</td>\n",
       "      <td>...</td>\n",
       "      <td>...</td>\n",
       "      <td>...</td>\n",
       "      <td>...</td>\n",
       "      <td>...</td>\n",
       "      <td>...</td>\n",
       "    </tr>\n",
       "    <tr>\n",
       "      <th>354364</th>\n",
       "      <td>0</td>\n",
       "      <td>unknown</td>\n",
       "      <td>2005</td>\n",
       "      <td>manual</td>\n",
       "      <td>0</td>\n",
       "      <td>colt</td>\n",
       "      <td>150000</td>\n",
       "      <td>7</td>\n",
       "      <td>petrol</td>\n",
       "      <td>mitsubishi</td>\n",
       "      <td>...</td>\n",
       "      <td>2016</td>\n",
       "      <td>3</td>\n",
       "      <td>21</td>\n",
       "      <td>10</td>\n",
       "      <td>0</td>\n",
       "      <td>2016</td>\n",
       "      <td>3</td>\n",
       "      <td>21</td>\n",
       "      <td>0</td>\n",
       "      <td>0</td>\n",
       "    </tr>\n",
       "    <tr>\n",
       "      <th>354365</th>\n",
       "      <td>2200</td>\n",
       "      <td>unknown</td>\n",
       "      <td>2005</td>\n",
       "      <td>unknown</td>\n",
       "      <td>0</td>\n",
       "      <td>unknown</td>\n",
       "      <td>20000</td>\n",
       "      <td>1</td>\n",
       "      <td>unknown</td>\n",
       "      <td>sonstige_autos</td>\n",
       "      <td>...</td>\n",
       "      <td>2016</td>\n",
       "      <td>4</td>\n",
       "      <td>6</td>\n",
       "      <td>0</td>\n",
       "      <td>2</td>\n",
       "      <td>2016</td>\n",
       "      <td>3</td>\n",
       "      <td>14</td>\n",
       "      <td>0</td>\n",
       "      <td>0</td>\n",
       "    </tr>\n",
       "    <tr>\n",
       "      <th>354366</th>\n",
       "      <td>1199</td>\n",
       "      <td>convertible</td>\n",
       "      <td>2000</td>\n",
       "      <td>auto</td>\n",
       "      <td>101</td>\n",
       "      <td>fortwo</td>\n",
       "      <td>125000</td>\n",
       "      <td>3</td>\n",
       "      <td>petrol</td>\n",
       "      <td>smart</td>\n",
       "      <td>...</td>\n",
       "      <td>2016</td>\n",
       "      <td>3</td>\n",
       "      <td>11</td>\n",
       "      <td>18</td>\n",
       "      <td>4</td>\n",
       "      <td>2016</td>\n",
       "      <td>3</td>\n",
       "      <td>5</td>\n",
       "      <td>0</td>\n",
       "      <td>5</td>\n",
       "    </tr>\n",
       "    <tr>\n",
       "      <th>354367</th>\n",
       "      <td>9200</td>\n",
       "      <td>bus</td>\n",
       "      <td>1996</td>\n",
       "      <td>manual</td>\n",
       "      <td>102</td>\n",
       "      <td>transporter</td>\n",
       "      <td>150000</td>\n",
       "      <td>3</td>\n",
       "      <td>gasoline</td>\n",
       "      <td>volkswagen</td>\n",
       "      <td>...</td>\n",
       "      <td>2016</td>\n",
       "      <td>4</td>\n",
       "      <td>7</td>\n",
       "      <td>7</td>\n",
       "      <td>3</td>\n",
       "      <td>2016</td>\n",
       "      <td>3</td>\n",
       "      <td>19</td>\n",
       "      <td>0</td>\n",
       "      <td>5</td>\n",
       "    </tr>\n",
       "    <tr>\n",
       "      <th>354368</th>\n",
       "      <td>3400</td>\n",
       "      <td>wagon</td>\n",
       "      <td>2002</td>\n",
       "      <td>manual</td>\n",
       "      <td>100</td>\n",
       "      <td>golf</td>\n",
       "      <td>150000</td>\n",
       "      <td>6</td>\n",
       "      <td>gasoline</td>\n",
       "      <td>volkswagen</td>\n",
       "      <td>...</td>\n",
       "      <td>2016</td>\n",
       "      <td>3</td>\n",
       "      <td>24</td>\n",
       "      <td>12</td>\n",
       "      <td>3</td>\n",
       "      <td>2016</td>\n",
       "      <td>3</td>\n",
       "      <td>20</td>\n",
       "      <td>0</td>\n",
       "      <td>6</td>\n",
       "    </tr>\n",
       "  </tbody>\n",
       "</table>\n",
       "<p>352663 rows × 28 columns</p>\n",
       "</div>"
      ],
      "text/plain": [
       "        Price  VehicleType  RegistrationYear  Gearbox  Power        Model  \\\n",
       "0         480      unknown              1993   manual      0         golf   \n",
       "1       18300        coupe              2011   manual    190      unknown   \n",
       "2        9800          suv              2004     auto    163        grand   \n",
       "3        1500        small              2001   manual     75         golf   \n",
       "4        3600        small              2008   manual     69        fabia   \n",
       "...       ...          ...               ...      ...    ...          ...   \n",
       "354364      0      unknown              2005   manual      0         colt   \n",
       "354365   2200      unknown              2005  unknown      0      unknown   \n",
       "354366   1199  convertible              2000     auto    101       fortwo   \n",
       "354367   9200          bus              1996   manual    102  transporter   \n",
       "354368   3400        wagon              2002   manual    100         golf   \n",
       "\n",
       "        Kilometer  RegistrationMonth  FuelType           Brand  ... ls_year  \\\n",
       "0          150000                  0    petrol      volkswagen  ...    2016   \n",
       "1          125000                  5  gasoline            audi  ...    2016   \n",
       "2          125000                  8  gasoline            jeep  ...    2016   \n",
       "3          150000                  6    petrol      volkswagen  ...    2016   \n",
       "4           90000                  7  gasoline           skoda  ...    2016   \n",
       "...           ...                ...       ...             ...  ...     ...   \n",
       "354364     150000                  7    petrol      mitsubishi  ...    2016   \n",
       "354365      20000                  1   unknown  sonstige_autos  ...    2016   \n",
       "354366     125000                  3    petrol           smart  ...    2016   \n",
       "354367     150000                  3  gasoline      volkswagen  ...    2016   \n",
       "354368     150000                  6  gasoline      volkswagen  ...    2016   \n",
       "\n",
       "        ls_month  ls_day  ls_hour  ls_dayofweek  dcr_year  dcr_month  dcr_day  \\\n",
       "0              4       7        3             3      2016          3       24   \n",
       "1              4       7        1             3      2016          3       24   \n",
       "2              4       5       12             1      2016          3       14   \n",
       "3              3      17       17             3      2016          3       17   \n",
       "4              4       6       10             2      2016          3       31   \n",
       "...          ...     ...      ...           ...       ...        ...      ...   \n",
       "354364         3      21       10             0      2016          3       21   \n",
       "354365         4       6        0             2      2016          3       14   \n",
       "354366         3      11       18             4      2016          3        5   \n",
       "354367         4       7        7             3      2016          3       19   \n",
       "354368         3      24       12             3      2016          3       20   \n",
       "\n",
       "        dcr_hour  dcr_dayofweek  \n",
       "0              0              3  \n",
       "1              0              3  \n",
       "2              0              0  \n",
       "3              0              3  \n",
       "4              0              3  \n",
       "...          ...            ...  \n",
       "354364         0              0  \n",
       "354365         0              0  \n",
       "354366         0              5  \n",
       "354367         0              5  \n",
       "354368         0              6  \n",
       "\n",
       "[352663 rows x 28 columns]"
      ]
     },
     "execution_count": 21,
     "metadata": {},
     "output_type": "execute_result"
    }
   ],
   "source": [
    "data.drop_duplicates()"
   ]
  },
  {
   "cell_type": "code",
   "execution_count": 22,
   "metadata": {},
   "outputs": [
    {
     "data": {
      "text/plain": [
       "['VehicleType', 'Gearbox', 'Model', 'FuelType', 'Brand', 'Repaired']"
      ]
     },
     "execution_count": 22,
     "metadata": {},
     "output_type": "execute_result"
    }
   ],
   "source": [
    "categorical_columns = list(data.columns[data.dtypes == 'object'])\n",
    "categorical_columns"
   ]
  },
  {
   "cell_type": "code",
   "execution_count": 23,
   "metadata": {},
   "outputs": [
    {
     "data": {
      "text/plain": [
       "array(['unknown', 'coupe', 'suv', 'small', 'sedan', 'convertible', 'bus',\n",
       "       'wagon', 'other'], dtype=object)"
      ]
     },
     "execution_count": 23,
     "metadata": {},
     "output_type": "execute_result"
    }
   ],
   "source": [
    "data['VehicleType'].unique()"
   ]
  },
  {
   "cell_type": "markdown",
   "metadata": {},
   "source": [
    "Дубликатов нет."
   ]
  },
  {
   "cell_type": "code",
   "execution_count": 24,
   "metadata": {},
   "outputs": [
    {
     "data": {
      "text/plain": [
       "array(['manual', 'auto', 'unknown'], dtype=object)"
      ]
     },
     "execution_count": 24,
     "metadata": {},
     "output_type": "execute_result"
    }
   ],
   "source": [
    "data['Gearbox'].unique()"
   ]
  },
  {
   "cell_type": "markdown",
   "metadata": {},
   "source": [
    "Дубликатов нет."
   ]
  },
  {
   "cell_type": "code",
   "execution_count": 25,
   "metadata": {
    "scrolled": false
   },
   "outputs": [
    {
     "data": {
      "text/plain": [
       "array(['golf', 'unknown', 'grand', 'fabia', '3er', '2_reihe', 'other',\n",
       "       'c_max', '3_reihe', 'passat', 'navara', 'ka', 'polo', 'twingo',\n",
       "       'a_klasse', 'scirocco', '5er', 'meriva', 'arosa', 'c4', 'civic',\n",
       "       'transporter', 'punto', 'e_klasse', 'clio', 'kadett', 'kangoo',\n",
       "       'corsa', 'one', 'fortwo', '1er', 'b_klasse', 'signum', 'astra',\n",
       "       'a8', 'jetta', 'fiesta', 'c_klasse', 'micra', 'vito', 'sprinter',\n",
       "       '156', 'escort', 'forester', 'xc_reihe', 'scenic', 'a4', 'a1',\n",
       "       'insignia', 'combo', 'focus', 'tt', 'a6', 'jazz', 'omega', 'slk',\n",
       "       '7er', '80', '147', '100', 'z_reihe', 'sportage', 'sorento', 'v40',\n",
       "       'ibiza', 'mustang', 'eos', 'touran', 'getz', 'a3', 'almera',\n",
       "       'megane', 'lupo', 'r19', 'zafira', 'caddy', 'mondeo', 'cordoba',\n",
       "       'colt', 'impreza', 'vectra', 'berlingo', 'tiguan', 'i_reihe',\n",
       "       'espace', 'sharan', '6_reihe', 'panda', 'up', 'seicento', 'ceed',\n",
       "       '5_reihe', 'yeti', 'octavia', 'mii', 'rx_reihe', '6er', 'modus',\n",
       "       'fox', 'matiz', 'beetle', 'c1', 'rio', 'touareg', 'logan',\n",
       "       'spider', 'cuore', 's_max', 'a2', 'galaxy', 'c3', 'viano',\n",
       "       's_klasse', '1_reihe', 'avensis', 'roomster', 'sl', 'kaefer',\n",
       "       'santa', 'cooper', 'leon', '4_reihe', 'a5', '500', 'laguna',\n",
       "       'ptcruiser', 'clk', 'primera', 'x_reihe', 'exeo', '159', 'transit',\n",
       "       'juke', 'qashqai', 'carisma', 'accord', 'corolla', 'lanos',\n",
       "       'phaeton', 'verso', 'swift', 'rav', 'picanto', 'boxster', 'kalos',\n",
       "       'superb', 'stilo', 'alhambra', 'mx_reihe', 'roadster', 'ypsilon',\n",
       "       'cayenne', 'galant', 'justy', '90', 'sirion', 'crossfire', 'agila',\n",
       "       'duster', 'cr_reihe', 'v50', 'c_reihe', 'v_klasse', 'm_klasse',\n",
       "       'yaris', 'c5', 'aygo', 'cc', 'carnival', 'fusion', '911', 'bora',\n",
       "       'forfour', 'm_reihe', 'cl', 'tigra', '300c', 'spark', 'v70',\n",
       "       'kuga', 'x_type', 'ducato', 's_type', 'x_trail', 'toledo', 'altea',\n",
       "       'voyager', 'calibra', 'bravo', 'antara', 'tucson', 'citigo',\n",
       "       'jimny', 'wrangler', 'lybra', 'q7', 'lancer', 'captiva', 'c2',\n",
       "       'discovery', 'freelander', 'sandero', 'note', '900', 'cherokee',\n",
       "       'clubman', 'samara', 'defender', '601', 'cx_reihe', 'legacy',\n",
       "       'pajero', 'auris', 'niva', 's60', 'nubira', 'vivaro', 'g_klasse',\n",
       "       'lodgy', '850', 'range_rover', 'q3', 'serie_2', 'glk', 'charade',\n",
       "       'croma', 'outlander', 'doblo', 'musa', 'move', '9000', 'v60',\n",
       "       '145', 'aveo', '200', 'b_max', 'range_rover_sport', 'terios',\n",
       "       'rangerover', 'q5', 'range_rover_evoque', 'materia', 'delta', 'gl',\n",
       "       'kalina', 'amarok', 'elefantino', 'i3', 'kappa', 'serie_3',\n",
       "       'serie_1'], dtype=object)"
      ]
     },
     "execution_count": 25,
     "metadata": {},
     "output_type": "execute_result"
    }
   ],
   "source": [
    "data['Model'].unique()"
   ]
  },
  {
   "cell_type": "code",
   "execution_count": 26,
   "metadata": {},
   "outputs": [],
   "source": [
    "mapper = {'1_reihe' : '1er', '2_reihe': '2er', '3_reihe' : '3er', '5_reihe': '5er', '6_reihe': '6er',\n",
    "          'c_reihe': 'c_klasse', 'm_reihe': 'm_klasse', 'rangerover': 'range_rover', 'serie_1': '1er',\n",
    "          'serie_2': '2er', 'serie_3': '3er'}"
   ]
  },
  {
   "cell_type": "code",
   "execution_count": 27,
   "metadata": {},
   "outputs": [],
   "source": [
    "data['Model'] = data['Model'].replace(mapper)"
   ]
  },
  {
   "cell_type": "code",
   "execution_count": 28,
   "metadata": {
    "scrolled": false
   },
   "outputs": [
    {
     "data": {
      "text/plain": [
       "array(['golf', 'unknown', 'grand', 'fabia', '3er', '2er', 'other',\n",
       "       'c_max', 'passat', 'navara', 'ka', 'polo', 'twingo', 'a_klasse',\n",
       "       'scirocco', '5er', 'meriva', 'arosa', 'c4', 'civic', 'transporter',\n",
       "       'punto', 'e_klasse', 'clio', 'kadett', 'kangoo', 'corsa', 'one',\n",
       "       'fortwo', '1er', 'b_klasse', 'signum', 'astra', 'a8', 'jetta',\n",
       "       'fiesta', 'c_klasse', 'micra', 'vito', 'sprinter', '156', 'escort',\n",
       "       'forester', 'xc_reihe', 'scenic', 'a4', 'a1', 'insignia', 'combo',\n",
       "       'focus', 'tt', 'a6', 'jazz', 'omega', 'slk', '7er', '80', '147',\n",
       "       '100', 'z_reihe', 'sportage', 'sorento', 'v40', 'ibiza', 'mustang',\n",
       "       'eos', 'touran', 'getz', 'a3', 'almera', 'megane', 'lupo', 'r19',\n",
       "       'zafira', 'caddy', 'mondeo', 'cordoba', 'colt', 'impreza',\n",
       "       'vectra', 'berlingo', 'tiguan', 'i_reihe', 'espace', 'sharan',\n",
       "       '6er', 'panda', 'up', 'seicento', 'ceed', 'yeti', 'octavia', 'mii',\n",
       "       'rx_reihe', 'modus', 'fox', 'matiz', 'beetle', 'c1', 'rio',\n",
       "       'touareg', 'logan', 'spider', 'cuore', 's_max', 'a2', 'galaxy',\n",
       "       'c3', 'viano', 's_klasse', 'avensis', 'roomster', 'sl', 'kaefer',\n",
       "       'santa', 'cooper', 'leon', '4_reihe', 'a5', '500', 'laguna',\n",
       "       'ptcruiser', 'clk', 'primera', 'x_reihe', 'exeo', '159', 'transit',\n",
       "       'juke', 'qashqai', 'carisma', 'accord', 'corolla', 'lanos',\n",
       "       'phaeton', 'verso', 'swift', 'rav', 'picanto', 'boxster', 'kalos',\n",
       "       'superb', 'stilo', 'alhambra', 'mx_reihe', 'roadster', 'ypsilon',\n",
       "       'cayenne', 'galant', 'justy', '90', 'sirion', 'crossfire', 'agila',\n",
       "       'duster', 'cr_reihe', 'v50', 'v_klasse', 'm_klasse', 'yaris', 'c5',\n",
       "       'aygo', 'cc', 'carnival', 'fusion', '911', 'bora', 'forfour', 'cl',\n",
       "       'tigra', '300c', 'spark', 'v70', 'kuga', 'x_type', 'ducato',\n",
       "       's_type', 'x_trail', 'toledo', 'altea', 'voyager', 'calibra',\n",
       "       'bravo', 'antara', 'tucson', 'citigo', 'jimny', 'wrangler',\n",
       "       'lybra', 'q7', 'lancer', 'captiva', 'c2', 'discovery',\n",
       "       'freelander', 'sandero', 'note', '900', 'cherokee', 'clubman',\n",
       "       'samara', 'defender', '601', 'cx_reihe', 'legacy', 'pajero',\n",
       "       'auris', 'niva', 's60', 'nubira', 'vivaro', 'g_klasse', 'lodgy',\n",
       "       '850', 'range_rover', 'q3', 'glk', 'charade', 'croma', 'outlander',\n",
       "       'doblo', 'musa', 'move', '9000', 'v60', '145', 'aveo', '200',\n",
       "       'b_max', 'range_rover_sport', 'terios', 'q5', 'range_rover_evoque',\n",
       "       'materia', 'delta', 'gl', 'kalina', 'amarok', 'elefantino', 'i3',\n",
       "       'kappa'], dtype=object)"
      ]
     },
     "execution_count": 28,
     "metadata": {},
     "output_type": "execute_result"
    }
   ],
   "source": [
    "data['Model'].unique()"
   ]
  },
  {
   "cell_type": "code",
   "execution_count": 29,
   "metadata": {},
   "outputs": [
    {
     "data": {
      "text/plain": [
       "array(['petrol', 'gasoline', 'unknown', 'lpg', 'other', 'hybrid', 'cng',\n",
       "       'electric'], dtype=object)"
      ]
     },
     "execution_count": 29,
     "metadata": {},
     "output_type": "execute_result"
    }
   ],
   "source": [
    "data['FuelType'].unique()"
   ]
  },
  {
   "cell_type": "code",
   "execution_count": 30,
   "metadata": {},
   "outputs": [],
   "source": [
    "data['FuelType'] = data['FuelType'].replace({'petrol': 'gasoline', 'lpg': 'cng'})"
   ]
  },
  {
   "cell_type": "code",
   "execution_count": 31,
   "metadata": {},
   "outputs": [
    {
     "data": {
      "text/plain": [
       "array(['volkswagen', 'audi', 'jeep', 'skoda', 'bmw', 'peugeot', 'ford',\n",
       "       'mazda', 'nissan', 'renault', 'mercedes_benz', 'opel', 'seat',\n",
       "       'citroen', 'honda', 'fiat', 'mini', 'smart', 'hyundai',\n",
       "       'sonstige_autos', 'alfa_romeo', 'subaru', 'volvo', 'mitsubishi',\n",
       "       'kia', 'suzuki', 'lancia', 'toyota', 'chevrolet', 'dacia',\n",
       "       'daihatsu', 'trabant', 'saab', 'chrysler', 'jaguar', 'daewoo',\n",
       "       'porsche', 'rover', 'land_rover', 'lada'], dtype=object)"
      ]
     },
     "execution_count": 31,
     "metadata": {},
     "output_type": "execute_result"
    }
   ],
   "source": [
    "data['Brand'].unique()"
   ]
  },
  {
   "cell_type": "code",
   "execution_count": 32,
   "metadata": {},
   "outputs": [
    {
     "data": {
      "text/plain": [
       "array(['unknown', 'yes', 'no'], dtype=object)"
      ]
     },
     "execution_count": 32,
     "metadata": {},
     "output_type": "execute_result"
    }
   ],
   "source": [
    "data['Repaired'].unique()"
   ]
  },
  {
   "cell_type": "markdown",
   "metadata": {},
   "source": [
    "Достаточно большое количество дубликатов обработано в названиях моделей (по большей части связанных с вариантами одного наименования на разных языках) и несколько дубликатов в видах топлива."
   ]
  },
  {
   "cell_type": "markdown",
   "metadata": {},
   "source": [
    "Далее перейдем к обработке выбросов и аномалий. Выведем гистограммы и воспользуемся методом .describe()."
   ]
  },
  {
   "cell_type": "code",
   "execution_count": 33,
   "metadata": {
    "scrolled": false
   },
   "outputs": [
    {
     "data": {
      "image/png": "[encoded data removed]",
      "text/plain": [
       "<Figure size 1080x1080 with 25 Axes>"
      ]
     },
     "metadata": {
      "needs_background": "light"
     },
     "output_type": "display_data"
    }
   ],
   "source": [
    "data.hist(bins = 50, figsize = (15, 15))\n",
    "plt.show()"
   ]
  },
  {
   "cell_type": "code",
   "execution_count": 34,
   "metadata": {},
   "outputs": [
    {
     "data": {
      "text/html": [
       "<div>\n",
       "<style scoped>\n",
       "    .dataframe tbody tr th:only-of-type {\n",
       "        vertical-align: middle;\n",
       "    }\n",
       "\n",
       "    .dataframe tbody tr th {\n",
       "        vertical-align: top;\n",
       "    }\n",
       "\n",
       "    .dataframe thead th {\n",
       "        text-align: right;\n",
       "    }\n",
       "</style>\n",
       "<table border=\"1\" class=\"dataframe\">\n",
       "  <thead>\n",
       "    <tr style=\"text-align: right;\">\n",
       "      <th></th>\n",
       "      <th>Price</th>\n",
       "      <th>RegistrationYear</th>\n",
       "      <th>Power</th>\n",
       "      <th>Kilometer</th>\n",
       "      <th>RegistrationMonth</th>\n",
       "      <th>NumberOfPictures</th>\n",
       "      <th>PostalCode</th>\n",
       "      <th>dc_year</th>\n",
       "      <th>dc_month</th>\n",
       "      <th>dc_day</th>\n",
       "      <th>...</th>\n",
       "      <th>ls_year</th>\n",
       "      <th>ls_month</th>\n",
       "      <th>ls_day</th>\n",
       "      <th>ls_hour</th>\n",
       "      <th>ls_dayofweek</th>\n",
       "      <th>dcr_year</th>\n",
       "      <th>dcr_month</th>\n",
       "      <th>dcr_day</th>\n",
       "      <th>dcr_hour</th>\n",
       "      <th>dcr_dayofweek</th>\n",
       "    </tr>\n",
       "  </thead>\n",
       "  <tbody>\n",
       "    <tr>\n",
       "      <th>count</th>\n",
       "      <td>354369.000000</td>\n",
       "      <td>354369.000000</td>\n",
       "      <td>354369.000000</td>\n",
       "      <td>354369.000000</td>\n",
       "      <td>354369.000000</td>\n",
       "      <td>354369.0</td>\n",
       "      <td>354369.000000</td>\n",
       "      <td>354369.0</td>\n",
       "      <td>354369.000000</td>\n",
       "      <td>354369.000000</td>\n",
       "      <td>...</td>\n",
       "      <td>354369.0</td>\n",
       "      <td>354369.000000</td>\n",
       "      <td>354369.000000</td>\n",
       "      <td>354369.000000</td>\n",
       "      <td>354369.000000</td>\n",
       "      <td>354369.000000</td>\n",
       "      <td>354369.000000</td>\n",
       "      <td>354369.000000</td>\n",
       "      <td>354369.0</td>\n",
       "      <td>354369.000000</td>\n",
       "    </tr>\n",
       "    <tr>\n",
       "      <th>mean</th>\n",
       "      <td>4416.656776</td>\n",
       "      <td>2004.234448</td>\n",
       "      <td>110.094337</td>\n",
       "      <td>128211.172535</td>\n",
       "      <td>5.714645</td>\n",
       "      <td>0.0</td>\n",
       "      <td>50508.689087</td>\n",
       "      <td>2016.0</td>\n",
       "      <td>3.162387</td>\n",
       "      <td>15.852783</td>\n",
       "      <td>...</td>\n",
       "      <td>2016.0</td>\n",
       "      <td>3.564987</td>\n",
       "      <td>11.963456</td>\n",
       "      <td>11.813835</td>\n",
       "      <td>2.529361</td>\n",
       "      <td>2015.999924</td>\n",
       "      <td>3.160189</td>\n",
       "      <td>15.859689</td>\n",
       "      <td>0.0</td>\n",
       "      <td>2.891737</td>\n",
       "    </tr>\n",
       "    <tr>\n",
       "      <th>std</th>\n",
       "      <td>4514.158514</td>\n",
       "      <td>90.227958</td>\n",
       "      <td>189.850405</td>\n",
       "      <td>37905.341530</td>\n",
       "      <td>3.726421</td>\n",
       "      <td>0.0</td>\n",
       "      <td>25783.096248</td>\n",
       "      <td>0.0</td>\n",
       "      <td>0.368806</td>\n",
       "      <td>9.116311</td>\n",
       "      <td>...</td>\n",
       "      <td>0.0</td>\n",
       "      <td>0.495759</td>\n",
       "      <td>8.886562</td>\n",
       "      <td>6.516410</td>\n",
       "      <td>1.645033</td>\n",
       "      <td>0.009046</td>\n",
       "      <td>0.376284</td>\n",
       "      <td>9.123133</td>\n",
       "      <td>0.0</td>\n",
       "      <td>2.075846</td>\n",
       "    </tr>\n",
       "    <tr>\n",
       "      <th>min</th>\n",
       "      <td>0.000000</td>\n",
       "      <td>1000.000000</td>\n",
       "      <td>0.000000</td>\n",
       "      <td>5000.000000</td>\n",
       "      <td>0.000000</td>\n",
       "      <td>0.0</td>\n",
       "      <td>1067.000000</td>\n",
       "      <td>2016.0</td>\n",
       "      <td>3.000000</td>\n",
       "      <td>1.000000</td>\n",
       "      <td>...</td>\n",
       "      <td>2016.0</td>\n",
       "      <td>3.000000</td>\n",
       "      <td>1.000000</td>\n",
       "      <td>0.000000</td>\n",
       "      <td>0.000000</td>\n",
       "      <td>2014.000000</td>\n",
       "      <td>1.000000</td>\n",
       "      <td>1.000000</td>\n",
       "      <td>0.0</td>\n",
       "      <td>0.000000</td>\n",
       "    </tr>\n",
       "    <tr>\n",
       "      <th>25%</th>\n",
       "      <td>1050.000000</td>\n",
       "      <td>1999.000000</td>\n",
       "      <td>69.000000</td>\n",
       "      <td>125000.000000</td>\n",
       "      <td>3.000000</td>\n",
       "      <td>0.0</td>\n",
       "      <td>30165.000000</td>\n",
       "      <td>2016.0</td>\n",
       "      <td>3.000000</td>\n",
       "      <td>8.000000</td>\n",
       "      <td>...</td>\n",
       "      <td>2016.0</td>\n",
       "      <td>3.000000</td>\n",
       "      <td>6.000000</td>\n",
       "      <td>7.000000</td>\n",
       "      <td>1.000000</td>\n",
       "      <td>2016.000000</td>\n",
       "      <td>3.000000</td>\n",
       "      <td>8.000000</td>\n",
       "      <td>0.0</td>\n",
       "      <td>1.000000</td>\n",
       "    </tr>\n",
       "    <tr>\n",
       "      <th>50%</th>\n",
       "      <td>2700.000000</td>\n",
       "      <td>2003.000000</td>\n",
       "      <td>105.000000</td>\n",
       "      <td>150000.000000</td>\n",
       "      <td>6.000000</td>\n",
       "      <td>0.0</td>\n",
       "      <td>49413.000000</td>\n",
       "      <td>2016.0</td>\n",
       "      <td>3.000000</td>\n",
       "      <td>16.000000</td>\n",
       "      <td>...</td>\n",
       "      <td>2016.0</td>\n",
       "      <td>4.000000</td>\n",
       "      <td>7.000000</td>\n",
       "      <td>12.000000</td>\n",
       "      <td>2.000000</td>\n",
       "      <td>2016.000000</td>\n",
       "      <td>3.000000</td>\n",
       "      <td>16.000000</td>\n",
       "      <td>0.0</td>\n",
       "      <td>3.000000</td>\n",
       "    </tr>\n",
       "    <tr>\n",
       "      <th>75%</th>\n",
       "      <td>6400.000000</td>\n",
       "      <td>2008.000000</td>\n",
       "      <td>143.000000</td>\n",
       "      <td>150000.000000</td>\n",
       "      <td>9.000000</td>\n",
       "      <td>0.0</td>\n",
       "      <td>71083.000000</td>\n",
       "      <td>2016.0</td>\n",
       "      <td>3.000000</td>\n",
       "      <td>24.000000</td>\n",
       "      <td>...</td>\n",
       "      <td>2016.0</td>\n",
       "      <td>4.000000</td>\n",
       "      <td>19.000000</td>\n",
       "      <td>17.000000</td>\n",
       "      <td>3.000000</td>\n",
       "      <td>2016.000000</td>\n",
       "      <td>3.000000</td>\n",
       "      <td>24.000000</td>\n",
       "      <td>0.0</td>\n",
       "      <td>5.000000</td>\n",
       "    </tr>\n",
       "    <tr>\n",
       "      <th>max</th>\n",
       "      <td>20000.000000</td>\n",
       "      <td>9999.000000</td>\n",
       "      <td>20000.000000</td>\n",
       "      <td>150000.000000</td>\n",
       "      <td>12.000000</td>\n",
       "      <td>0.0</td>\n",
       "      <td>99998.000000</td>\n",
       "      <td>2016.0</td>\n",
       "      <td>4.000000</td>\n",
       "      <td>31.000000</td>\n",
       "      <td>...</td>\n",
       "      <td>2016.0</td>\n",
       "      <td>4.000000</td>\n",
       "      <td>31.000000</td>\n",
       "      <td>23.000000</td>\n",
       "      <td>6.000000</td>\n",
       "      <td>2016.000000</td>\n",
       "      <td>12.000000</td>\n",
       "      <td>31.000000</td>\n",
       "      <td>0.0</td>\n",
       "      <td>6.000000</td>\n",
       "    </tr>\n",
       "  </tbody>\n",
       "</table>\n",
       "<p>8 rows × 22 columns</p>\n",
       "</div>"
      ],
      "text/plain": [
       "               Price  RegistrationYear          Power      Kilometer  \\\n",
       "count  354369.000000     354369.000000  354369.000000  354369.000000   \n",
       "mean     4416.656776       2004.234448     110.094337  128211.172535   \n",
       "std      4514.158514         90.227958     189.850405   37905.341530   \n",
       "min         0.000000       1000.000000       0.000000    5000.000000   \n",
       "25%      1050.000000       1999.000000      69.000000  125000.000000   \n",
       "50%      2700.000000       2003.000000     105.000000  150000.000000   \n",
       "75%      6400.000000       2008.000000     143.000000  150000.000000   \n",
       "max     20000.000000       9999.000000   20000.000000  150000.000000   \n",
       "\n",
       "       RegistrationMonth  NumberOfPictures     PostalCode   dc_year  \\\n",
       "count      354369.000000          354369.0  354369.000000  354369.0   \n",
       "mean            5.714645               0.0   50508.689087    2016.0   \n",
       "std             3.726421               0.0   25783.096248       0.0   \n",
       "min             0.000000               0.0    1067.000000    2016.0   \n",
       "25%             3.000000               0.0   30165.000000    2016.0   \n",
       "50%             6.000000               0.0   49413.000000    2016.0   \n",
       "75%             9.000000               0.0   71083.000000    2016.0   \n",
       "max            12.000000               0.0   99998.000000    2016.0   \n",
       "\n",
       "            dc_month         dc_day  ...   ls_year       ls_month  \\\n",
       "count  354369.000000  354369.000000  ...  354369.0  354369.000000   \n",
       "mean        3.162387      15.852783  ...    2016.0       3.564987   \n",
       "std         0.368806       9.116311  ...       0.0       0.495759   \n",
       "min         3.000000       1.000000  ...    2016.0       3.000000   \n",
       "25%         3.000000       8.000000  ...    2016.0       3.000000   \n",
       "50%         3.000000      16.000000  ...    2016.0       4.000000   \n",
       "75%         3.000000      24.000000  ...    2016.0       4.000000   \n",
       "max         4.000000      31.000000  ...    2016.0       4.000000   \n",
       "\n",
       "              ls_day        ls_hour   ls_dayofweek       dcr_year  \\\n",
       "count  354369.000000  354369.000000  354369.000000  354369.000000   \n",
       "mean       11.963456      11.813835       2.529361    2015.999924   \n",
       "std         8.886562       6.516410       1.645033       0.009046   \n",
       "min         1.000000       0.000000       0.000000    2014.000000   \n",
       "25%         6.000000       7.000000       1.000000    2016.000000   \n",
       "50%         7.000000      12.000000       2.000000    2016.000000   \n",
       "75%        19.000000      17.000000       3.000000    2016.000000   \n",
       "max        31.000000      23.000000       6.000000    2016.000000   \n",
       "\n",
       "           dcr_month        dcr_day  dcr_hour  dcr_dayofweek  \n",
       "count  354369.000000  354369.000000  354369.0  354369.000000  \n",
       "mean        3.160189      15.859689       0.0       2.891737  \n",
       "std         0.376284       9.123133       0.0       2.075846  \n",
       "min         1.000000       1.000000       0.0       0.000000  \n",
       "25%         3.000000       8.000000       0.0       1.000000  \n",
       "50%         3.000000      16.000000       0.0       3.000000  \n",
       "75%         3.000000      24.000000       0.0       5.000000  \n",
       "max        12.000000      31.000000       0.0       6.000000  \n",
       "\n",
       "[8 rows x 22 columns]"
      ]
     },
     "execution_count": 34,
     "metadata": {},
     "output_type": "execute_result"
    }
   ],
   "source": [
    "data.describe()"
   ]
  },
  {
   "cell_type": "markdown",
   "metadata": {},
   "source": [
    "В первую очередь удалим неинформативные столбцы."
   ]
  },
  {
   "cell_type": "code",
   "execution_count": 35,
   "metadata": {},
   "outputs": [],
   "source": [
    "data.drop(['NumberOfPictures', 'dc_year', 'ls_year', 'dcr_hour'], axis = 1, inplace = True)"
   ]
  },
  {
   "cell_type": "markdown",
   "metadata": {},
   "source": [
    "Далее обработаем выбросы / аномалии методом .clip(). Столбцы, содержащие выбросы выделены ниже."
   ]
  },
  {
   "cell_type": "code",
   "execution_count": 36,
   "metadata": {},
   "outputs": [],
   "source": [
    "outliers_cols = ['RegistrationYear', 'Power']"
   ]
  },
  {
   "cell_type": "code",
   "execution_count": 37,
   "metadata": {},
   "outputs": [],
   "source": [
    "data[outliers_cols] = data[outliers_cols].clip(lower = data[outliers_cols].quantile(0.01).astype(int),\n",
    "                                             upper = data[outliers_cols].quantile(0.99).astype(int),\n",
    "                                             axis = 1)"
   ]
  },
  {
   "cell_type": "markdown",
   "metadata": {},
   "source": [
    "После обработки аномалий проверим нулевые значения в столбцах цены и мощности. Гипотеза состоит в том, что нулевая цена вызвана старыми годами выпуска и пр. подобными факторами, т. е. характерна для \"автохлама\". Проверим."
   ]
  },
  {
   "cell_type": "code",
   "execution_count": 38,
   "metadata": {
    "scrolled": true
   },
   "outputs": [
    {
     "data": {
      "text/plain": [
       "<AxesSubplot:>"
      ]
     },
     "execution_count": 38,
     "metadata": {},
     "output_type": "execute_result"
    },
    {
     "data": {
      "image/png": "[encoded data removed]",
      "text/plain": [
       "<Figure size 432x288 with 1 Axes>"
      ]
     },
     "metadata": {
      "needs_background": "light"
     },
     "output_type": "display_data"
    }
   ],
   "source": [
    "data[data['Price'] == 0]['RegistrationYear'].hist()"
   ]
  },
  {
   "cell_type": "code",
   "execution_count": 39,
   "metadata": {
    "scrolled": false
   },
   "outputs": [
    {
     "data": {
      "text/plain": [
       "<AxesSubplot:>"
      ]
     },
     "execution_count": 39,
     "metadata": {},
     "output_type": "execute_result"
    },
    {
     "data": {
      "image/png": "[encoded data removed]",
      "text/plain": [
       "<Figure size 432x288 with 1 Axes>"
      ]
     },
     "metadata": {
      "needs_background": "light"
     },
     "output_type": "display_data"
    }
   ],
   "source": [
    "data[data['Price'] == 0]['Power'].hist()"
   ]
  },
  {
   "cell_type": "markdown",
   "metadata": {},
   "source": [
    "Как видим выше, гипотеза не подтверждается - по нулевым ценам \"продают\" свежие резвые авто. Цена является целевым признаком - наличие ошибок в заполнении приведет к снижению точности моделей. придется удалять. Остается выбрать нижнюю границу для удаления."
   ]
  },
  {
   "cell_type": "code",
   "execution_count": 40,
   "metadata": {
    "scrolled": false
   },
   "outputs": [
    {
     "data": {
      "text/html": [
       "<div>\n",
       "<style scoped>\n",
       "    .dataframe tbody tr th:only-of-type {\n",
       "        vertical-align: middle;\n",
       "    }\n",
       "\n",
       "    .dataframe tbody tr th {\n",
       "        vertical-align: top;\n",
       "    }\n",
       "\n",
       "    .dataframe thead th {\n",
       "        text-align: right;\n",
       "    }\n",
       "</style>\n",
       "<table border=\"1\" class=\"dataframe\">\n",
       "  <thead>\n",
       "    <tr style=\"text-align: right;\">\n",
       "      <th></th>\n",
       "      <th>0</th>\n",
       "      <th>1</th>\n",
       "      <th>2</th>\n",
       "      <th>3</th>\n",
       "      <th>4</th>\n",
       "      <th>5</th>\n",
       "      <th>6</th>\n",
       "      <th>7</th>\n",
       "      <th>8</th>\n",
       "      <th>9</th>\n",
       "      <th>10</th>\n",
       "      <th>11</th>\n",
       "      <th>12</th>\n",
       "      <th>13</th>\n",
       "      <th>14</th>\n",
       "      <th>15</th>\n",
       "      <th>16</th>\n",
       "      <th>17</th>\n",
       "    </tr>\n",
       "  </thead>\n",
       "  <tbody>\n",
       "    <tr>\n",
       "      <th>qntile</th>\n",
       "      <td>0.01</td>\n",
       "      <td>0.015</td>\n",
       "      <td>0.02</td>\n",
       "      <td>0.025</td>\n",
       "      <td>0.03</td>\n",
       "      <td>0.035</td>\n",
       "      <td>0.04</td>\n",
       "      <td>0.045</td>\n",
       "      <td>0.05</td>\n",
       "      <td>0.055</td>\n",
       "      <td>0.06</td>\n",
       "      <td>0.065</td>\n",
       "      <td>0.07</td>\n",
       "      <td>0.075</td>\n",
       "      <td>0.08</td>\n",
       "      <td>0.085</td>\n",
       "      <td>0.09</td>\n",
       "      <td>0.095</td>\n",
       "    </tr>\n",
       "    <tr>\n",
       "      <th>price</th>\n",
       "      <td>0.00</td>\n",
       "      <td>0.000</td>\n",
       "      <td>0.00</td>\n",
       "      <td>0.000</td>\n",
       "      <td>0.00</td>\n",
       "      <td>45.000</td>\n",
       "      <td>100.00</td>\n",
       "      <td>150.000</td>\n",
       "      <td>200.00</td>\n",
       "      <td>219.000</td>\n",
       "      <td>250.00</td>\n",
       "      <td>299.000</td>\n",
       "      <td>300.00</td>\n",
       "      <td>350.000</td>\n",
       "      <td>350.00</td>\n",
       "      <td>400.000</td>\n",
       "      <td>400.00</td>\n",
       "      <td>450.000</td>\n",
       "    </tr>\n",
       "  </tbody>\n",
       "</table>\n",
       "</div>"
      ],
      "text/plain": [
       "          0      1     2      3     4       5       6        7       8   \\\n",
       "qntile  0.01  0.015  0.02  0.025  0.03   0.035    0.04    0.045    0.05   \n",
       "price   0.00  0.000  0.00  0.000  0.00  45.000  100.00  150.000  200.00   \n",
       "\n",
       "             9       10       11      12       13      14       15      16  \\\n",
       "qntile    0.055    0.06    0.065    0.07    0.075    0.08    0.085    0.09   \n",
       "price   219.000  250.00  299.000  300.00  350.000  350.00  400.000  400.00   \n",
       "\n",
       "             17  \n",
       "qntile    0.095  \n",
       "price   450.000  "
      ]
     },
     "execution_count": 40,
     "metadata": {},
     "output_type": "execute_result"
    },
    {
     "data": {
      "image/png": "[encoded data removed]",
      "text/plain": [
       "<Figure size 432x288 with 1 Axes>"
      ]
     },
     "metadata": {
      "needs_background": "light"
     },
     "output_type": "display_data"
    }
   ],
   "source": [
    "qpl = []\n",
    "for i in range(10, 100, 5):\n",
    "    qpl.append([i/1000, data['Price'].quantile(i/1000)])\n",
    "qpl = pd.DataFrame(qpl, columns = ['qntile', 'price'])\n",
    "qpl.plot(x = 'qntile', y = 'price')\n",
    "qpl.T"
   ]
  },
  {
   "cell_type": "markdown",
   "metadata": {},
   "source": [
    "Строгим научным методом определили, что цены неотличимы от нулевых вплоть до 3.5 квантиля. 3.5 квантилю распределения цены соотв. значение 45 евро. Возьмем это значение в качестве нижней границы интервала, нежно сохранив ненулевые значения."
   ]
  },
  {
   "cell_type": "code",
   "execution_count": 41,
   "metadata": {},
   "outputs": [],
   "source": [
    "data.drop(data[data['Price'] < 45].index, axis = 0, inplace = True)"
   ]
  },
  {
   "cell_type": "code",
   "execution_count": 42,
   "metadata": {},
   "outputs": [],
   "source": [
    "data.reset_index(drop = True, inplace = True)"
   ]
  },
  {
   "cell_type": "markdown",
   "metadata": {},
   "source": [
    "Как видим на графике ниже, авто с нулевой мощностью двигателя выставляются в том числе по вполне осязаемой стоимости. Повторим аналогичный расчет для показтеля мощности - мощность является ключевой характеристикой авто. Некорректные значения придется удалить. Заполнение синтетическими величинами может привести к ошибкам в обучении моделей."
   ]
  },
  {
   "cell_type": "code",
   "execution_count": 43,
   "metadata": {},
   "outputs": [
    {
     "data": {
      "text/plain": [
       "<AxesSubplot:>"
      ]
     },
     "execution_count": 43,
     "metadata": {},
     "output_type": "execute_result"
    },
    {
     "data": {
      "image/png": "[encoded data removed]",
      "text/plain": [
       "<Figure size 432x288 with 1 Axes>"
      ]
     },
     "metadata": {
      "needs_background": "light"
     },
     "output_type": "display_data"
    }
   ],
   "source": [
    "data[data['Power'] == 0]['Price'].hist()"
   ]
  },
  {
   "cell_type": "code",
   "execution_count": 44,
   "metadata": {},
   "outputs": [
    {
     "data": {
      "text/html": [
       "<div>\n",
       "<style scoped>\n",
       "    .dataframe tbody tr th:only-of-type {\n",
       "        vertical-align: middle;\n",
       "    }\n",
       "\n",
       "    .dataframe tbody tr th {\n",
       "        vertical-align: top;\n",
       "    }\n",
       "\n",
       "    .dataframe thead th {\n",
       "        text-align: right;\n",
       "    }\n",
       "</style>\n",
       "<table border=\"1\" class=\"dataframe\">\n",
       "  <thead>\n",
       "    <tr style=\"text-align: right;\">\n",
       "      <th></th>\n",
       "      <th>0</th>\n",
       "      <th>1</th>\n",
       "      <th>2</th>\n",
       "      <th>3</th>\n",
       "      <th>4</th>\n",
       "      <th>5</th>\n",
       "      <th>6</th>\n",
       "      <th>7</th>\n",
       "      <th>8</th>\n",
       "      <th>9</th>\n",
       "      <th>10</th>\n",
       "      <th>11</th>\n",
       "      <th>12</th>\n",
       "      <th>13</th>\n",
       "      <th>14</th>\n",
       "      <th>15</th>\n",
       "      <th>16</th>\n",
       "      <th>17</th>\n",
       "      <th>18</th>\n",
       "      <th>19</th>\n",
       "    </tr>\n",
       "  </thead>\n",
       "  <tbody>\n",
       "    <tr>\n",
       "      <th>qntile</th>\n",
       "      <td>0.0</td>\n",
       "      <td>0.01</td>\n",
       "      <td>0.02</td>\n",
       "      <td>0.03</td>\n",
       "      <td>0.04</td>\n",
       "      <td>0.05</td>\n",
       "      <td>0.06</td>\n",
       "      <td>0.07</td>\n",
       "      <td>0.08</td>\n",
       "      <td>0.09</td>\n",
       "      <td>0.1</td>\n",
       "      <td>0.11</td>\n",
       "      <td>0.12</td>\n",
       "      <td>0.13</td>\n",
       "      <td>0.14</td>\n",
       "      <td>0.15</td>\n",
       "      <td>0.16</td>\n",
       "      <td>0.17</td>\n",
       "      <td>0.18</td>\n",
       "      <td>0.19</td>\n",
       "    </tr>\n",
       "    <tr>\n",
       "      <th>power</th>\n",
       "      <td>0.0</td>\n",
       "      <td>0.00</td>\n",
       "      <td>0.00</td>\n",
       "      <td>0.00</td>\n",
       "      <td>0.00</td>\n",
       "      <td>0.00</td>\n",
       "      <td>0.00</td>\n",
       "      <td>0.00</td>\n",
       "      <td>0.00</td>\n",
       "      <td>0.00</td>\n",
       "      <td>0.0</td>\n",
       "      <td>41.00</td>\n",
       "      <td>46.00</td>\n",
       "      <td>50.00</td>\n",
       "      <td>54.00</td>\n",
       "      <td>54.00</td>\n",
       "      <td>58.00</td>\n",
       "      <td>59.00</td>\n",
       "      <td>60.00</td>\n",
       "      <td>60.00</td>\n",
       "    </tr>\n",
       "  </tbody>\n",
       "</table>\n",
       "</div>"
      ],
      "text/plain": [
       "         0     1     2     3     4     5     6     7     8     9    10     11  \\\n",
       "qntile  0.0  0.01  0.02  0.03  0.04  0.05  0.06  0.07  0.08  0.09  0.1   0.11   \n",
       "power   0.0  0.00  0.00  0.00  0.00  0.00  0.00  0.00  0.00  0.00  0.0  41.00   \n",
       "\n",
       "           12     13     14     15     16     17     18     19  \n",
       "qntile   0.12   0.13   0.14   0.15   0.16   0.17   0.18   0.19  \n",
       "power   46.00  50.00  54.00  54.00  58.00  59.00  60.00  60.00  "
      ]
     },
     "execution_count": 44,
     "metadata": {},
     "output_type": "execute_result"
    },
    {
     "data": {
      "image/png": "[encoded data removed]",
      "text/plain": [
       "<Figure size 432x288 with 1 Axes>"
      ]
     },
     "metadata": {
      "needs_background": "light"
     },
     "output_type": "display_data"
    }
   ],
   "source": [
    "qpl = []\n",
    "for i in range(0, 20, 1):\n",
    "    qpl.append([i/100, data['Power'].quantile(i/100)])\n",
    "qpl = pd.DataFrame(qpl, columns = ['qntile', 'power'])\n",
    "qpl.plot(x = 'qntile', y = 'power')\n",
    "qpl.T"
   ]
  },
  {
   "cell_type": "markdown",
   "metadata": {},
   "source": [
    "Выделим 11й квантиль со значением 40 и ниже."
   ]
  },
  {
   "cell_type": "code",
   "execution_count": 45,
   "metadata": {},
   "outputs": [],
   "source": [
    "data.drop(data[data['Power'] < 41].index, axis = 0, inplace = True)"
   ]
  },
  {
   "cell_type": "markdown",
   "metadata": {},
   "source": [
    "После удаления большого количества строк сбросим индексы и проверим результаты."
   ]
  },
  {
   "cell_type": "code",
   "execution_count": 46,
   "metadata": {},
   "outputs": [],
   "source": [
    "data.reset_index(inplace = True, drop = True)"
   ]
  },
  {
   "cell_type": "code",
   "execution_count": 47,
   "metadata": {},
   "outputs": [
    {
     "data": {
      "image/png": "[encoded data removed]",
      "text/plain": [
       "<Figure size 1080x1080 with 20 Axes>"
      ]
     },
     "metadata": {
      "needs_background": "light"
     },
     "output_type": "display_data"
    }
   ],
   "source": [
    "data.hist(bins = 50, figsize = (15, 15))\n",
    "plt.show()"
   ]
  },
  {
   "cell_type": "code",
   "execution_count": 48,
   "metadata": {},
   "outputs": [
    {
     "data": {
      "text/html": [
       "<div>\n",
       "<style scoped>\n",
       "    .dataframe tbody tr th:only-of-type {\n",
       "        vertical-align: middle;\n",
       "    }\n",
       "\n",
       "    .dataframe tbody tr th {\n",
       "        vertical-align: top;\n",
       "    }\n",
       "\n",
       "    .dataframe thead th {\n",
       "        text-align: right;\n",
       "    }\n",
       "</style>\n",
       "<table border=\"1\" class=\"dataframe\">\n",
       "  <thead>\n",
       "    <tr style=\"text-align: right;\">\n",
       "      <th></th>\n",
       "      <th>Price</th>\n",
       "      <th>RegistrationYear</th>\n",
       "      <th>Power</th>\n",
       "      <th>Kilometer</th>\n",
       "      <th>RegistrationMonth</th>\n",
       "      <th>PostalCode</th>\n",
       "      <th>dc_month</th>\n",
       "      <th>dc_day</th>\n",
       "      <th>dc_hour</th>\n",
       "      <th>dc_dayofweek</th>\n",
       "      <th>ls_month</th>\n",
       "      <th>ls_day</th>\n",
       "      <th>ls_hour</th>\n",
       "      <th>ls_dayofweek</th>\n",
       "      <th>dcr_year</th>\n",
       "      <th>dcr_month</th>\n",
       "      <th>dcr_day</th>\n",
       "      <th>dcr_dayofweek</th>\n",
       "    </tr>\n",
       "  </thead>\n",
       "  <tbody>\n",
       "    <tr>\n",
       "      <th>count</th>\n",
       "      <td>304772.000000</td>\n",
       "      <td>304772.000000</td>\n",
       "      <td>304772.000000</td>\n",
       "      <td>304772.000000</td>\n",
       "      <td>304772.000000</td>\n",
       "      <td>304772.000000</td>\n",
       "      <td>304772.000000</td>\n",
       "      <td>304772.000000</td>\n",
       "      <td>304772.000000</td>\n",
       "      <td>304772.000000</td>\n",
       "      <td>304772.000000</td>\n",
       "      <td>304772.000000</td>\n",
       "      <td>304772.000000</td>\n",
       "      <td>304772.000000</td>\n",
       "      <td>304772.000000</td>\n",
       "      <td>304772.000000</td>\n",
       "      <td>304772.000000</td>\n",
       "      <td>304772.000000</td>\n",
       "    </tr>\n",
       "    <tr>\n",
       "      <th>mean</th>\n",
       "      <td>4831.044991</td>\n",
       "      <td>2003.429688</td>\n",
       "      <td>120.455262</td>\n",
       "      <td>128643.625399</td>\n",
       "      <td>5.970522</td>\n",
       "      <td>51182.503859</td>\n",
       "      <td>3.163266</td>\n",
       "      <td>15.836960</td>\n",
       "      <td>14.969082</td>\n",
       "      <td>2.888166</td>\n",
       "      <td>3.574639</td>\n",
       "      <td>11.851525</td>\n",
       "      <td>11.795194</td>\n",
       "      <td>2.522328</td>\n",
       "      <td>2015.999921</td>\n",
       "      <td>3.161002</td>\n",
       "      <td>15.844943</td>\n",
       "      <td>2.899673</td>\n",
       "    </tr>\n",
       "    <tr>\n",
       "      <th>std</th>\n",
       "      <td>4588.863973</td>\n",
       "      <td>6.558316</td>\n",
       "      <td>51.800338</td>\n",
       "      <td>36488.968508</td>\n",
       "      <td>3.597112</td>\n",
       "      <td>25754.362535</td>\n",
       "      <td>0.369609</td>\n",
       "      <td>9.128087</td>\n",
       "      <td>5.413144</td>\n",
       "      <td>2.081171</td>\n",
       "      <td>0.494398</td>\n",
       "      <td>8.856595</td>\n",
       "      <td>6.534334</td>\n",
       "      <td>1.635533</td>\n",
       "      <td>0.008874</td>\n",
       "      <td>0.378026</td>\n",
       "      <td>9.135007</td>\n",
       "      <td>2.079664</td>\n",
       "    </tr>\n",
       "    <tr>\n",
       "      <th>min</th>\n",
       "      <td>45.000000</td>\n",
       "      <td>1980.000000</td>\n",
       "      <td>41.000000</td>\n",
       "      <td>5000.000000</td>\n",
       "      <td>0.000000</td>\n",
       "      <td>1067.000000</td>\n",
       "      <td>3.000000</td>\n",
       "      <td>1.000000</td>\n",
       "      <td>0.000000</td>\n",
       "      <td>0.000000</td>\n",
       "      <td>3.000000</td>\n",
       "      <td>1.000000</td>\n",
       "      <td>0.000000</td>\n",
       "      <td>0.000000</td>\n",
       "      <td>2015.000000</td>\n",
       "      <td>1.000000</td>\n",
       "      <td>1.000000</td>\n",
       "      <td>0.000000</td>\n",
       "    </tr>\n",
       "    <tr>\n",
       "      <th>25%</th>\n",
       "      <td>1350.000000</td>\n",
       "      <td>1999.000000</td>\n",
       "      <td>76.000000</td>\n",
       "      <td>125000.000000</td>\n",
       "      <td>3.000000</td>\n",
       "      <td>30926.000000</td>\n",
       "      <td>3.000000</td>\n",
       "      <td>8.000000</td>\n",
       "      <td>12.000000</td>\n",
       "      <td>1.000000</td>\n",
       "      <td>3.000000</td>\n",
       "      <td>6.000000</td>\n",
       "      <td>7.000000</td>\n",
       "      <td>1.000000</td>\n",
       "      <td>2016.000000</td>\n",
       "      <td>3.000000</td>\n",
       "      <td>8.000000</td>\n",
       "      <td>1.000000</td>\n",
       "    </tr>\n",
       "    <tr>\n",
       "      <th>50%</th>\n",
       "      <td>3150.000000</td>\n",
       "      <td>2003.000000</td>\n",
       "      <td>110.000000</td>\n",
       "      <td>150000.000000</td>\n",
       "      <td>6.000000</td>\n",
       "      <td>50181.000000</td>\n",
       "      <td>3.000000</td>\n",
       "      <td>16.000000</td>\n",
       "      <td>16.000000</td>\n",
       "      <td>3.000000</td>\n",
       "      <td>4.000000</td>\n",
       "      <td>7.000000</td>\n",
       "      <td>12.000000</td>\n",
       "      <td>2.000000</td>\n",
       "      <td>2016.000000</td>\n",
       "      <td>3.000000</td>\n",
       "      <td>16.000000</td>\n",
       "      <td>3.000000</td>\n",
       "    </tr>\n",
       "    <tr>\n",
       "      <th>75%</th>\n",
       "      <td>6980.000000</td>\n",
       "      <td>2008.000000</td>\n",
       "      <td>150.000000</td>\n",
       "      <td>150000.000000</td>\n",
       "      <td>9.000000</td>\n",
       "      <td>71720.000000</td>\n",
       "      <td>3.000000</td>\n",
       "      <td>24.000000</td>\n",
       "      <td>19.000000</td>\n",
       "      <td>5.000000</td>\n",
       "      <td>4.000000</td>\n",
       "      <td>19.000000</td>\n",
       "      <td>17.000000</td>\n",
       "      <td>3.000000</td>\n",
       "      <td>2016.000000</td>\n",
       "      <td>3.000000</td>\n",
       "      <td>24.000000</td>\n",
       "      <td>5.000000</td>\n",
       "    </tr>\n",
       "    <tr>\n",
       "      <th>max</th>\n",
       "      <td>20000.000000</td>\n",
       "      <td>2018.000000</td>\n",
       "      <td>300.000000</td>\n",
       "      <td>150000.000000</td>\n",
       "      <td>12.000000</td>\n",
       "      <td>99998.000000</td>\n",
       "      <td>4.000000</td>\n",
       "      <td>31.000000</td>\n",
       "      <td>23.000000</td>\n",
       "      <td>6.000000</td>\n",
       "      <td>4.000000</td>\n",
       "      <td>31.000000</td>\n",
       "      <td>23.000000</td>\n",
       "      <td>6.000000</td>\n",
       "      <td>2016.000000</td>\n",
       "      <td>12.000000</td>\n",
       "      <td>31.000000</td>\n",
       "      <td>6.000000</td>\n",
       "    </tr>\n",
       "  </tbody>\n",
       "</table>\n",
       "</div>"
      ],
      "text/plain": [
       "               Price  RegistrationYear          Power      Kilometer  \\\n",
       "count  304772.000000     304772.000000  304772.000000  304772.000000   \n",
       "mean     4831.044991       2003.429688     120.455262  128643.625399   \n",
       "std      4588.863973          6.558316      51.800338   36488.968508   \n",
       "min        45.000000       1980.000000      41.000000    5000.000000   \n",
       "25%      1350.000000       1999.000000      76.000000  125000.000000   \n",
       "50%      3150.000000       2003.000000     110.000000  150000.000000   \n",
       "75%      6980.000000       2008.000000     150.000000  150000.000000   \n",
       "max     20000.000000       2018.000000     300.000000  150000.000000   \n",
       "\n",
       "       RegistrationMonth     PostalCode       dc_month         dc_day  \\\n",
       "count      304772.000000  304772.000000  304772.000000  304772.000000   \n",
       "mean            5.970522   51182.503859       3.163266      15.836960   \n",
       "std             3.597112   25754.362535       0.369609       9.128087   \n",
       "min             0.000000    1067.000000       3.000000       1.000000   \n",
       "25%             3.000000   30926.000000       3.000000       8.000000   \n",
       "50%             6.000000   50181.000000       3.000000      16.000000   \n",
       "75%             9.000000   71720.000000       3.000000      24.000000   \n",
       "max            12.000000   99998.000000       4.000000      31.000000   \n",
       "\n",
       "             dc_hour   dc_dayofweek       ls_month         ls_day  \\\n",
       "count  304772.000000  304772.000000  304772.000000  304772.000000   \n",
       "mean       14.969082       2.888166       3.574639      11.851525   \n",
       "std         5.413144       2.081171       0.494398       8.856595   \n",
       "min         0.000000       0.000000       3.000000       1.000000   \n",
       "25%        12.000000       1.000000       3.000000       6.000000   \n",
       "50%        16.000000       3.000000       4.000000       7.000000   \n",
       "75%        19.000000       5.000000       4.000000      19.000000   \n",
       "max        23.000000       6.000000       4.000000      31.000000   \n",
       "\n",
       "             ls_hour   ls_dayofweek       dcr_year      dcr_month  \\\n",
       "count  304772.000000  304772.000000  304772.000000  304772.000000   \n",
       "mean       11.795194       2.522328    2015.999921       3.161002   \n",
       "std         6.534334       1.635533       0.008874       0.378026   \n",
       "min         0.000000       0.000000    2015.000000       1.000000   \n",
       "25%         7.000000       1.000000    2016.000000       3.000000   \n",
       "50%        12.000000       2.000000    2016.000000       3.000000   \n",
       "75%        17.000000       3.000000    2016.000000       3.000000   \n",
       "max        23.000000       6.000000    2016.000000      12.000000   \n",
       "\n",
       "             dcr_day  dcr_dayofweek  \n",
       "count  304772.000000  304772.000000  \n",
       "mean       15.844943       2.899673  \n",
       "std         9.135007       2.079664  \n",
       "min         1.000000       0.000000  \n",
       "25%         8.000000       1.000000  \n",
       "50%        16.000000       3.000000  \n",
       "75%        24.000000       5.000000  \n",
       "max        31.000000       6.000000  "
      ]
     },
     "execution_count": 48,
     "metadata": {},
     "output_type": "execute_result"
    }
   ],
   "source": [
    "data.describe()"
   ]
  },
  {
   "cell_type": "code",
   "execution_count": 49,
   "metadata": {},
   "outputs": [
    {
     "name": "stdout",
     "output_type": "stream",
     "text": [
      "<class 'pandas.core.frame.DataFrame'>\n",
      "RangeIndex: 304772 entries, 0 to 304771\n",
      "Data columns (total 24 columns):\n",
      " #   Column             Non-Null Count   Dtype \n",
      "---  ------             --------------   ----- \n",
      " 0   Price              304772 non-null  int64 \n",
      " 1   VehicleType        304772 non-null  object\n",
      " 2   RegistrationYear   304772 non-null  int64 \n",
      " 3   Gearbox            304772 non-null  object\n",
      " 4   Power              304772 non-null  int64 \n",
      " 5   Model              304772 non-null  object\n",
      " 6   Kilometer          304772 non-null  int64 \n",
      " 7   RegistrationMonth  304772 non-null  int64 \n",
      " 8   FuelType           304772 non-null  object\n",
      " 9   Brand              304772 non-null  object\n",
      " 10  Repaired           304772 non-null  object\n",
      " 11  PostalCode         304772 non-null  int64 \n",
      " 12  dc_month           304772 non-null  int64 \n",
      " 13  dc_day             304772 non-null  int64 \n",
      " 14  dc_hour            304772 non-null  int64 \n",
      " 15  dc_dayofweek       304772 non-null  int64 \n",
      " 16  ls_month           304772 non-null  int64 \n",
      " 17  ls_day             304772 non-null  int64 \n",
      " 18  ls_hour            304772 non-null  int64 \n",
      " 19  ls_dayofweek       304772 non-null  int64 \n",
      " 20  dcr_year           304772 non-null  int64 \n",
      " 21  dcr_month          304772 non-null  int64 \n",
      " 22  dcr_day            304772 non-null  int64 \n",
      " 23  dcr_dayofweek      304772 non-null  int64 \n",
      "dtypes: int64(18), object(6)\n",
      "memory usage: 55.8+ MB\n"
     ]
    }
   ],
   "source": [
    "data.info()"
   ]
  },
  {
   "cell_type": "markdown",
   "metadata": {},
   "source": [
    "В ходе предобработки перекодировали столбцы, связанные с датой / временем, заполнили пропущенные значения, обработали дубликаты, а также обработали выбросы и аномалии."
   ]
  },
  {
   "cell_type": "markdown",
   "metadata": {},
   "source": [
    "## Обучение моделей."
   ]
  },
  {
   "cell_type": "markdown",
   "metadata": {},
   "source": [
    "Подготовим матрицу признаков и выделим таргет."
   ]
  },
  {
   "cell_type": "code",
   "execution_count": 50,
   "metadata": {},
   "outputs": [],
   "source": [
    "features = data.drop('Price', axis = 1)\n",
    "target = data['Price']"
   ]
  },
  {
   "cell_type": "markdown",
   "metadata": {},
   "source": [
    "Числовые и категориальные колонки переопределим. Для начала выведем сводное инфо по признакам."
   ]
  },
  {
   "cell_type": "code",
   "execution_count": 51,
   "metadata": {},
   "outputs": [
    {
     "name": "stdout",
     "output_type": "stream",
     "text": [
      "<class 'pandas.core.frame.DataFrame'>\n",
      "RangeIndex: 304772 entries, 0 to 304771\n",
      "Data columns (total 23 columns):\n",
      " #   Column             Non-Null Count   Dtype \n",
      "---  ------             --------------   ----- \n",
      " 0   VehicleType        304772 non-null  object\n",
      " 1   RegistrationYear   304772 non-null  int64 \n",
      " 2   Gearbox            304772 non-null  object\n",
      " 3   Power              304772 non-null  int64 \n",
      " 4   Model              304772 non-null  object\n",
      " 5   Kilometer          304772 non-null  int64 \n",
      " 6   RegistrationMonth  304772 non-null  int64 \n",
      " 7   FuelType           304772 non-null  object\n",
      " 8   Brand              304772 non-null  object\n",
      " 9   Repaired           304772 non-null  object\n",
      " 10  PostalCode         304772 non-null  int64 \n",
      " 11  dc_month           304772 non-null  int64 \n",
      " 12  dc_day             304772 non-null  int64 \n",
      " 13  dc_hour            304772 non-null  int64 \n",
      " 14  dc_dayofweek       304772 non-null  int64 \n",
      " 15  ls_month           304772 non-null  int64 \n",
      " 16  ls_day             304772 non-null  int64 \n",
      " 17  ls_hour            304772 non-null  int64 \n",
      " 18  ls_dayofweek       304772 non-null  int64 \n",
      " 19  dcr_year           304772 non-null  int64 \n",
      " 20  dcr_month          304772 non-null  int64 \n",
      " 21  dcr_day            304772 non-null  int64 \n",
      " 22  dcr_dayofweek      304772 non-null  int64 \n",
      "dtypes: int64(17), object(6)\n",
      "memory usage: 53.5+ MB\n"
     ]
    }
   ],
   "source": [
    "features.info()"
   ]
  },
  {
   "cell_type": "code",
   "execution_count": 52,
   "metadata": {},
   "outputs": [
    {
     "data": {
      "text/plain": [
       "['VehicleType', 'Gearbox', 'Model', 'FuelType', 'Brand', 'Repaired']"
      ]
     },
     "execution_count": 52,
     "metadata": {},
     "output_type": "execute_result"
    }
   ],
   "source": [
    "categorical_features = list(features.columns[features.dtypes == 'object'])\n",
    "categorical_features"
   ]
  },
  {
   "cell_type": "code",
   "execution_count": 53,
   "metadata": {},
   "outputs": [
    {
     "data": {
      "text/plain": [
       "['RegistrationYear',\n",
       " 'Power',\n",
       " 'Kilometer',\n",
       " 'RegistrationMonth',\n",
       " 'PostalCode',\n",
       " 'dc_month',\n",
       " 'dc_day',\n",
       " 'dc_hour',\n",
       " 'dc_dayofweek',\n",
       " 'ls_month',\n",
       " 'ls_day',\n",
       " 'ls_hour',\n",
       " 'ls_dayofweek',\n",
       " 'dcr_year',\n",
       " 'dcr_month',\n",
       " 'dcr_day',\n",
       " 'dcr_dayofweek']"
      ]
     },
     "execution_count": 53,
     "metadata": {},
     "output_type": "execute_result"
    }
   ],
   "source": [
    "numeric_features = list(features.columns[features.dtypes != 'object'])\n",
    "numeric_features"
   ]
  },
  {
   "cell_type": "markdown",
   "metadata": {},
   "source": [
    "Колонки разбили корректно."
   ]
  },
  {
   "cell_type": "markdown",
   "metadata": {},
   "source": [
    "Ниже подготовим обучающую и тестовую выборки. Поскольку в обучении будем применять кросс-валидацию, отдельно вылидационную выборку выделять нет необходимости. Пропорции составят 75:25 соответственно."
   ]
  },
  {
   "cell_type": "code",
   "execution_count": 54,
   "metadata": {},
   "outputs": [],
   "source": [
    "X_train, X_test, y_train, y_test = train_test_split(features, target, test_size = 0.25, random_state=RNG)"
   ]
  },
  {
   "cell_type": "code",
   "execution_count": 55,
   "metadata": {},
   "outputs": [
    {
     "data": {
      "text/plain": [
       "((228579, 23), (76193, 23), (228579,), (76193,))"
      ]
     },
     "execution_count": 55,
     "metadata": {},
     "output_type": "execute_result"
    }
   ],
   "source": [
    "X_train.shape, X_test.shape, y_train.shape, y_test.shape"
   ]
  },
  {
   "cell_type": "markdown",
   "metadata": {},
   "source": [
    "Запрограммируем порядок предобработки категориальных и числовых признаков с применением Pipeline и ColumnTransformer."
   ]
  },
  {
   "cell_type": "code",
   "execution_count": 56,
   "metadata": {},
   "outputs": [],
   "source": [
    "numeric_transformer = Pipeline(steps=[('scaler', StandardScaler())])"
   ]
  },
  {
   "cell_type": "code",
   "execution_count": 57,
   "metadata": {},
   "outputs": [],
   "source": [
    "categorical_transformer = Pipeline(steps=[('OHE', OneHotEncoder(drop='first', handle_unknown='ignore'))])"
   ]
  },
  {
   "cell_type": "code",
   "execution_count": 58,
   "metadata": {},
   "outputs": [],
   "source": [
    "preprocessor = ColumnTransformer(transformers=[\n",
    "        ('num', numeric_transformer, numeric_features),\n",
    "        ('cat', categorical_transformer, categorical_features)\n",
    "])"
   ]
  },
  {
   "cell_type": "markdown",
   "metadata": {},
   "source": [
    "Прогоним дамми регрессор и линейную регрессию через кросс-валидацию."
   ]
  },
  {
   "cell_type": "markdown",
   "metadata": {},
   "source": [
    "Дамми - регрессор."
   ]
  },
  {
   "cell_type": "code",
   "execution_count": 59,
   "metadata": {},
   "outputs": [],
   "source": [
    "dr = Pipeline(steps=[('preprocessor', preprocessor),\n",
    "                      ('estimator', DummyRegressor())])"
   ]
  },
  {
   "cell_type": "code",
   "execution_count": 60,
   "metadata": {},
   "outputs": [
    {
     "name": "stdout",
     "output_type": "stream",
     "text": [
      "CPU times: user 2.33 s, sys: 86.7 ms, total: 2.41 s\n",
      "Wall time: 2.45 s\n"
     ]
    },
    {
     "name": "stderr",
     "output_type": "stream",
     "text": [
      "/opt/anaconda3/lib/python3.9/site-packages/sklearn/preprocessing/_encoders.py:170: UserWarning: Found unknown categories in columns [2] during transform. These unknown categories will be encoded as all zeros\n",
      "  warnings.warn(\n"
     ]
    }
   ],
   "source": [
    "%%time\n",
    "dr_score = cross_val_score(dr, X_train, y_train, cv = CV, scoring = SCORER)"
   ]
  },
  {
   "cell_type": "code",
   "execution_count": 61,
   "metadata": {},
   "outputs": [
    {
     "data": {
      "text/plain": [
       "-4586.066198804314"
      ]
     },
     "execution_count": 61,
     "metadata": {},
     "output_type": "execute_result"
    }
   ],
   "source": [
    "dr_score.mean()"
   ]
  },
  {
   "cell_type": "markdown",
   "metadata": {},
   "source": [
    "Линейная регрессия."
   ]
  },
  {
   "cell_type": "code",
   "execution_count": 62,
   "metadata": {},
   "outputs": [],
   "source": [
    "lr = Pipeline(steps=[('preprocessor', preprocessor),\n",
    "                      ('estimator', LinearRegression())])"
   ]
  },
  {
   "cell_type": "code",
   "execution_count": 63,
   "metadata": {},
   "outputs": [
    {
     "name": "stdout",
     "output_type": "stream",
     "text": [
      "CPU times: user 4min 11s, sys: 1min 12s, total: 5min 24s\n",
      "Wall time: 48.8 s\n"
     ]
    },
    {
     "name": "stderr",
     "output_type": "stream",
     "text": [
      "/opt/anaconda3/lib/python3.9/site-packages/sklearn/preprocessing/_encoders.py:170: UserWarning: Found unknown categories in columns [2] during transform. These unknown categories will be encoded as all zeros\n",
      "  warnings.warn(\n"
     ]
    }
   ],
   "source": [
    "%%time\n",
    "lr_score = cross_val_score(lr, X_train, y_train, cv = CV, scoring = SCORER)"
   ]
  },
  {
   "cell_type": "code",
   "execution_count": 64,
   "metadata": {},
   "outputs": [
    {
     "name": "stdout",
     "output_type": "stream",
     "text": [
      "-2525.394664723473\n"
     ]
    }
   ],
   "source": [
    "print(lr_score.mean())"
   ]
  },
  {
   "cell_type": "markdown",
   "metadata": {},
   "source": [
    "Метрики линейной регрессии на грани целевого значения показателя."
   ]
  },
  {
   "cell_type": "markdown",
   "metadata": {},
   "source": [
    "Замерим скорость обучения и предсказания линейной регрессии (без учета времени на кросс - валидацию)."
   ]
  },
  {
   "cell_type": "code",
   "execution_count": 65,
   "metadata": {},
   "outputs": [
    {
     "name": "stdout",
     "output_type": "stream",
     "text": [
      "CPU times: user 2min 1s, sys: 34.7 s, total: 2min 36s\n",
      "Wall time: 23.5 s\n"
     ]
    },
    {
     "data": {
      "text/plain": [
       "Pipeline(steps=[('preprocessor',\n",
       "                 ColumnTransformer(transformers=[('num',\n",
       "                                                  Pipeline(steps=[('scaler',\n",
       "                                                                   StandardScaler())]),\n",
       "                                                  ['RegistrationYear', 'Power',\n",
       "                                                   'Kilometer',\n",
       "                                                   'RegistrationMonth',\n",
       "                                                   'PostalCode', 'dc_month',\n",
       "                                                   'dc_day', 'dc_hour',\n",
       "                                                   'dc_dayofweek', 'ls_month',\n",
       "                                                   'ls_day', 'ls_hour',\n",
       "                                                   'ls_dayofweek', 'dcr_year',\n",
       "                                                   'dcr_month', 'dcr_day',\n",
       "                                                   'dcr_dayofweek']),\n",
       "                                                 ('cat',\n",
       "                                                  Pipeline(steps=[('OHE',\n",
       "                                                                   OneHotEncoder(drop='first',\n",
       "                                                                                 handle_unknown='ignore'))]),\n",
       "                                                  ['VehicleType', 'Gearbox',\n",
       "                                                   'Model', 'FuelType', 'Brand',\n",
       "                                                   'Repaired'])])),\n",
       "                ('estimator', LinearRegression())])"
      ]
     },
     "execution_count": 65,
     "metadata": {},
     "output_type": "execute_result"
    }
   ],
   "source": [
    "%%time\n",
    "lr.fit(X_train, y_train)"
   ]
  },
  {
   "cell_type": "code",
   "execution_count": 66,
   "metadata": {
    "scrolled": false
   },
   "outputs": [
    {
     "name": "stdout",
     "output_type": "stream",
     "text": [
      "CPU times: user 755 ms, sys: 259 ms, total: 1.01 s\n",
      "Wall time: 382 ms\n"
     ]
    },
    {
     "name": "stderr",
     "output_type": "stream",
     "text": [
      "/opt/anaconda3/lib/python3.9/site-packages/sklearn/preprocessing/_encoders.py:170: UserWarning: Found unknown categories in columns [2] during transform. These unknown categories will be encoded as all zeros\n",
      "  warnings.warn(\n"
     ]
    },
    {
     "data": {
      "text/plain": [
       "array([10408.19948785, 11438.27203579,  3315.29522804, ...,\n",
       "        9536.68638923,  1656.10310977,  8259.9184265 ])"
      ]
     },
     "execution_count": 66,
     "metadata": {},
     "output_type": "execute_result"
    }
   ],
   "source": [
    "%%time\n",
    "lr.predict(X_test)"
   ]
  },
  {
   "cell_type": "markdown",
   "metadata": {},
   "source": [
    "Обучим дерево решений."
   ]
  },
  {
   "cell_type": "code",
   "execution_count": 67,
   "metadata": {},
   "outputs": [],
   "source": [
    "numeric_transformer_dtr = Pipeline(steps=[('scaler', StandardScaler())])"
   ]
  },
  {
   "cell_type": "code",
   "execution_count": 68,
   "metadata": {},
   "outputs": [],
   "source": [
    "categorical_transformer_dtr = Pipeline(steps=[('OE', OrdinalEncoder(handle_unknown = 'use_encoded_value',\n",
    "                                                                    unknown_value = -1))])"
   ]
  },
  {
   "cell_type": "code",
   "execution_count": 69,
   "metadata": {},
   "outputs": [],
   "source": [
    "preprocessor_dtr = ColumnTransformer(transformers=[\n",
    "        ('num', numeric_transformer_dtr, numeric_features),\n",
    "        ('cat', categorical_transformer_dtr, categorical_features)\n",
    "])"
   ]
  },
  {
   "cell_type": "code",
   "execution_count": 70,
   "metadata": {},
   "outputs": [],
   "source": [
    "dtr_pipe = Pipeline(steps=[('preprocessor', preprocessor_dtr),\n",
    "                      ('estimator', DecisionTreeRegressor(random_state = RNG))])"
   ]
  },
  {
   "cell_type": "code",
   "execution_count": 71,
   "metadata": {},
   "outputs": [],
   "source": [
    "parameters_dtr = {'estimator__max_depth': range(12, 15, 1)}"
   ]
  },
  {
   "cell_type": "code",
   "execution_count": 72,
   "metadata": {},
   "outputs": [],
   "source": [
    "dtr_gs = GridSearchCV(dtr_pipe, parameters_dtr, cv = CV, scoring = SCORER)"
   ]
  },
  {
   "cell_type": "code",
   "execution_count": 73,
   "metadata": {
    "scrolled": false
   },
   "outputs": [
    {
     "name": "stdout",
     "output_type": "stream",
     "text": [
      "CPU times: user 17.5 s, sys: 148 ms, total: 17.6 s\n",
      "Wall time: 17.6 s\n"
     ]
    },
    {
     "data": {
      "text/plain": [
       "GridSearchCV(cv=KFold(n_splits=3, random_state=None, shuffle=False),\n",
       "             estimator=Pipeline(steps=[('preprocessor',\n",
       "                                        ColumnTransformer(transformers=[('num',\n",
       "                                                                         Pipeline(steps=[('scaler',\n",
       "                                                                                          StandardScaler())]),\n",
       "                                                                         ['RegistrationYear',\n",
       "                                                                          'Power',\n",
       "                                                                          'Kilometer',\n",
       "                                                                          'RegistrationMonth',\n",
       "                                                                          'PostalCode',\n",
       "                                                                          'dc_month',\n",
       "                                                                          'dc_day',\n",
       "                                                                          'dc_hour',\n",
       "                                                                          'dc_dayofweek',\n",
       "                                                                          'ls_month',\n",
       "                                                                          'ls_day',\n",
       "                                                                          'ls_hour',\n",
       "                                                                          'ls_dayof...\n",
       "                                                                          'dcr_dayofweek']),\n",
       "                                                                        ('cat',\n",
       "                                                                         Pipeline(steps=[('OE',\n",
       "                                                                                          OrdinalEncoder(handle_unknown='use_encoded_value',\n",
       "                                                                                                         unknown_value=-1))]),\n",
       "                                                                         ['VehicleType',\n",
       "                                                                          'Gearbox',\n",
       "                                                                          'Model',\n",
       "                                                                          'FuelType',\n",
       "                                                                          'Brand',\n",
       "                                                                          'Repaired'])])),\n",
       "                                       ('estimator',\n",
       "                                        DecisionTreeRegressor(random_state=RandomState(MT19937) at 0x7F852C5B1440))]),\n",
       "             param_grid={'estimator__max_depth': range(12, 15)},\n",
       "             scoring='neg_root_mean_squared_error')"
      ]
     },
     "execution_count": 73,
     "metadata": {},
     "output_type": "execute_result"
    }
   ],
   "source": [
    "%%time\n",
    "dtr_gs.fit(X_train, y_train)"
   ]
  },
  {
   "cell_type": "code",
   "execution_count": 74,
   "metadata": {},
   "outputs": [
    {
     "data": {
      "text/plain": [
       "Pipeline(steps=[('preprocessor',\n",
       "                 ColumnTransformer(transformers=[('num',\n",
       "                                                  Pipeline(steps=[('scaler',\n",
       "                                                                   StandardScaler())]),\n",
       "                                                  ['RegistrationYear', 'Power',\n",
       "                                                   'Kilometer',\n",
       "                                                   'RegistrationMonth',\n",
       "                                                   'PostalCode', 'dc_month',\n",
       "                                                   'dc_day', 'dc_hour',\n",
       "                                                   'dc_dayofweek', 'ls_month',\n",
       "                                                   'ls_day', 'ls_hour',\n",
       "                                                   'ls_dayofweek', 'dcr_year',\n",
       "                                                   'dcr_month', 'dcr_day',\n",
       "                                                   'dcr_dayofweek']),\n",
       "                                                 ('cat',\n",
       "                                                  Pipeline(steps=[('OE',\n",
       "                                                                   OrdinalEncoder(handle_unknown='use_encoded_value',\n",
       "                                                                                  unknown_value=-1))]),\n",
       "                                                  ['VehicleType', 'Gearbox',\n",
       "                                                   'Model', 'FuelType', 'Brand',\n",
       "                                                   'Repaired'])])),\n",
       "                ('estimator',\n",
       "                 DecisionTreeRegressor(max_depth=12,\n",
       "                                       random_state=RandomState(MT19937) at 0x7F851906D740))])"
      ]
     },
     "execution_count": 74,
     "metadata": {},
     "output_type": "execute_result"
    }
   ],
   "source": [
    "dtr_gs.best_estimator_"
   ]
  },
  {
   "cell_type": "code",
   "execution_count": 75,
   "metadata": {},
   "outputs": [
    {
     "data": {
      "text/plain": [
       "-1993.444791852057"
      ]
     },
     "execution_count": 75,
     "metadata": {},
     "output_type": "execute_result"
    }
   ],
   "source": [
    "dtr_gs.best_score_"
   ]
  },
  {
   "cell_type": "code",
   "execution_count": 76,
   "metadata": {},
   "outputs": [
    {
     "name": "stdout",
     "output_type": "stream",
     "text": [
      "CPU times: user 2.19 s, sys: 4.77 ms, total: 2.19 s\n",
      "Wall time: 2.19 s\n"
     ]
    },
    {
     "data": {
      "text/plain": [
       "Pipeline(steps=[('preprocessor',\n",
       "                 ColumnTransformer(transformers=[('num',\n",
       "                                                  Pipeline(steps=[('scaler',\n",
       "                                                                   StandardScaler())]),\n",
       "                                                  ['RegistrationYear', 'Power',\n",
       "                                                   'Kilometer',\n",
       "                                                   'RegistrationMonth',\n",
       "                                                   'PostalCode', 'dc_month',\n",
       "                                                   'dc_day', 'dc_hour',\n",
       "                                                   'dc_dayofweek', 'ls_month',\n",
       "                                                   'ls_day', 'ls_hour',\n",
       "                                                   'ls_dayofweek', 'dcr_year',\n",
       "                                                   'dcr_month', 'dcr_day',\n",
       "                                                   'dcr_dayofweek']),\n",
       "                                                 ('cat',\n",
       "                                                  Pipeline(steps=[('OE',\n",
       "                                                                   OrdinalEncoder(handle_unknown='use_encoded_value',\n",
       "                                                                                  unknown_value=-1))]),\n",
       "                                                  ['VehicleType', 'Gearbox',\n",
       "                                                   'Model', 'FuelType', 'Brand',\n",
       "                                                   'Repaired'])])),\n",
       "                ('estimator',\n",
       "                 DecisionTreeRegressor(max_depth=12,\n",
       "                                       random_state=RandomState(MT19937) at 0x7F852C5B1440))])"
      ]
     },
     "execution_count": 76,
     "metadata": {},
     "output_type": "execute_result"
    }
   ],
   "source": [
    "%%time\n",
    "dtr_time = Pipeline(steps=[('preprocessor', preprocessor_dtr),\n",
    "                      ('estimator', DecisionTreeRegressor(max_depth=12, random_state = RNG))])\n",
    "dtr_time.fit(X_train, y_train)"
   ]
  },
  {
   "cell_type": "code",
   "execution_count": 77,
   "metadata": {
    "scrolled": false
   },
   "outputs": [
    {
     "name": "stdout",
     "output_type": "stream",
     "text": [
      "CPU times: user 147 ms, sys: 1.3 ms, total: 148 ms\n",
      "Wall time: 147 ms\n"
     ]
    },
    {
     "data": {
      "text/plain": [
       "array([10665.64859438,  9842.11538462,  1945.76315789, ...,\n",
       "       11858.99497487,  1105.3215924 ,  6178.72794118])"
      ]
     },
     "execution_count": 77,
     "metadata": {},
     "output_type": "execute_result"
    }
   ],
   "source": [
    "%%time\n",
    "dtr_time.predict(X_test)"
   ]
  },
  {
   "cell_type": "markdown",
   "metadata": {},
   "source": [
    "По результатам древо решений вполне удовлетворяет требованиям заказчика c точки зрения метрики RMSE. Сравним с моделью градиентного бустинга."
   ]
  },
  {
   "cell_type": "code",
   "execution_count": 78,
   "metadata": {},
   "outputs": [],
   "source": [
    "numeric_transformer_gb = Pipeline(steps=[('scaler', StandardScaler())])"
   ]
  },
  {
   "cell_type": "code",
   "execution_count": 79,
   "metadata": {},
   "outputs": [],
   "source": [
    "categorical_transformer_gb = Pipeline(steps=[('OE', OrdinalEncoder(handle_unknown = 'use_encoded_value',\n",
    "                                                                    unknown_value = -1))])"
   ]
  },
  {
   "cell_type": "code",
   "execution_count": 80,
   "metadata": {},
   "outputs": [],
   "source": [
    "preprocessor_gb = ColumnTransformer(transformers=[\n",
    "        ('num', numeric_transformer_gb, numeric_features),\n",
    "        ('cat', categorical_transformer_gb, categorical_features)\n",
    "])"
   ]
  },
  {
   "cell_type": "code",
   "execution_count": 81,
   "metadata": {},
   "outputs": [],
   "source": [
    "gb_pipe = Pipeline(steps=[('preprocessor', preprocessor_gb),\n",
    "                      ('estimator', LGBMRegressor())])"
   ]
  },
  {
   "cell_type": "code",
   "execution_count": 82,
   "metadata": {},
   "outputs": [],
   "source": [
    "parameters_gb = {\n",
    "    'estimator__learning_rate': [0.1, 0.2, 0.3, 0.4, 0.5, 0.6, 0.7, 0.8, 0.9, 1]\n",
    "}"
   ]
  },
  {
   "cell_type": "code",
   "execution_count": 83,
   "metadata": {},
   "outputs": [],
   "source": [
    "gb_score = GridSearchCV(gb_pipe, parameters_gb, cv = CV, scoring = SCORER)"
   ]
  },
  {
   "cell_type": "code",
   "execution_count": 84,
   "metadata": {
    "scrolled": false
   },
   "outputs": [
    {
     "name": "stdout",
     "output_type": "stream",
     "text": [
      "CPU times: user 3min 42s, sys: 29.3 s, total: 4min 11s\n",
      "Wall time: 44.3 s\n"
     ]
    },
    {
     "data": {
      "text/plain": [
       "GridSearchCV(cv=KFold(n_splits=3, random_state=None, shuffle=False),\n",
       "             estimator=Pipeline(steps=[('preprocessor',\n",
       "                                        ColumnTransformer(transformers=[('num',\n",
       "                                                                         Pipeline(steps=[('scaler',\n",
       "                                                                                          StandardScaler())]),\n",
       "                                                                         ['RegistrationYear',\n",
       "                                                                          'Power',\n",
       "                                                                          'Kilometer',\n",
       "                                                                          'RegistrationMonth',\n",
       "                                                                          'PostalCode',\n",
       "                                                                          'dc_month',\n",
       "                                                                          'dc_day',\n",
       "                                                                          'dc_hour',\n",
       "                                                                          'dc_dayofweek',\n",
       "                                                                          'ls_month',\n",
       "                                                                          'ls_day',\n",
       "                                                                          'ls_hour',\n",
       "                                                                          'ls_dayof...\n",
       "                                                                          'dcr_month',\n",
       "                                                                          'dcr_day',\n",
       "                                                                          'dcr_dayofweek']),\n",
       "                                                                        ('cat',\n",
       "                                                                         Pipeline(steps=[('OE',\n",
       "                                                                                          OrdinalEncoder(handle_unknown='use_encoded_value',\n",
       "                                                                                                         unknown_value=-1))]),\n",
       "                                                                         ['VehicleType',\n",
       "                                                                          'Gearbox',\n",
       "                                                                          'Model',\n",
       "                                                                          'FuelType',\n",
       "                                                                          'Brand',\n",
       "                                                                          'Repaired'])])),\n",
       "                                       ('estimator', LGBMRegressor())]),\n",
       "             param_grid={'estimator__learning_rate': [0.1, 0.2, 0.3, 0.4, 0.5,\n",
       "                                                      0.6, 0.7, 0.8, 0.9, 1]},\n",
       "             scoring='neg_root_mean_squared_error')"
      ]
     },
     "execution_count": 84,
     "metadata": {},
     "output_type": "execute_result"
    }
   ],
   "source": [
    "%%time\n",
    "gb_score.fit(X_train, y_train)"
   ]
  },
  {
   "cell_type": "code",
   "execution_count": 85,
   "metadata": {},
   "outputs": [
    {
     "data": {
      "text/plain": [
       "Pipeline(steps=[('preprocessor',\n",
       "                 ColumnTransformer(transformers=[('num',\n",
       "                                                  Pipeline(steps=[('scaler',\n",
       "                                                                   StandardScaler())]),\n",
       "                                                  ['RegistrationYear', 'Power',\n",
       "                                                   'Kilometer',\n",
       "                                                   'RegistrationMonth',\n",
       "                                                   'PostalCode', 'dc_month',\n",
       "                                                   'dc_day', 'dc_hour',\n",
       "                                                   'dc_dayofweek', 'ls_month',\n",
       "                                                   'ls_day', 'ls_hour',\n",
       "                                                   'ls_dayofweek', 'dcr_year',\n",
       "                                                   'dcr_month', 'dcr_day',\n",
       "                                                   'dcr_dayofweek']),\n",
       "                                                 ('cat',\n",
       "                                                  Pipeline(steps=[('OE',\n",
       "                                                                   OrdinalEncoder(handle_unknown='use_encoded_value',\n",
       "                                                                                  unknown_value=-1))]),\n",
       "                                                  ['VehicleType', 'Gearbox',\n",
       "                                                   'Model', 'FuelType', 'Brand',\n",
       "                                                   'Repaired'])])),\n",
       "                ('estimator', LGBMRegressor(learning_rate=0.3))])"
      ]
     },
     "execution_count": 85,
     "metadata": {},
     "output_type": "execute_result"
    }
   ],
   "source": [
    "gb_score.best_estimator_"
   ]
  },
  {
   "cell_type": "code",
   "execution_count": 86,
   "metadata": {},
   "outputs": [
    {
     "data": {
      "text/plain": [
       "-1651.5378955759818"
      ]
     },
     "execution_count": 86,
     "metadata": {},
     "output_type": "execute_result"
    }
   ],
   "source": [
    "gb_score.best_score_"
   ]
  },
  {
   "cell_type": "markdown",
   "metadata": {},
   "source": [
    "LGBMRegressor дает максимальную метрику при максимальном времени обучения. Нам придется выбирать между точностью и временем работы. Примем волевое решение в качестве лучшей модели выберем LGBM. Далее проверим на тестовой выборке."
   ]
  },
  {
   "cell_type": "markdown",
   "metadata": {},
   "source": [
    "## Анализ моделей"
   ]
  },
  {
   "cell_type": "markdown",
   "metadata": {},
   "source": [
    "У нас уже есть обученная модель, однако хотелось бы уточнить скорость обучения без учета влияния кросс-валидации и подбора параметров."
   ]
  },
  {
   "cell_type": "code",
   "execution_count": 87,
   "metadata": {},
   "outputs": [
    {
     "name": "stdout",
     "output_type": "stream",
     "text": [
      "CPU times: user 5.91 s, sys: 676 ms, total: 6.59 s\n",
      "Wall time: 1.43 s\n"
     ]
    },
    {
     "data": {
      "text/plain": [
       "Pipeline(steps=[('preprocessor',\n",
       "                 ColumnTransformer(transformers=[('num',\n",
       "                                                  Pipeline(steps=[('scaler',\n",
       "                                                                   StandardScaler())]),\n",
       "                                                  ['RegistrationYear', 'Power',\n",
       "                                                   'Kilometer',\n",
       "                                                   'RegistrationMonth',\n",
       "                                                   'PostalCode', 'dc_month',\n",
       "                                                   'dc_day', 'dc_hour',\n",
       "                                                   'dc_dayofweek', 'ls_month',\n",
       "                                                   'ls_day', 'ls_hour',\n",
       "                                                   'ls_dayofweek', 'dcr_year',\n",
       "                                                   'dcr_month', 'dcr_day',\n",
       "                                                   'dcr_dayofweek']),\n",
       "                                                 ('cat',\n",
       "                                                  Pipeline(steps=[('OE',\n",
       "                                                                   OrdinalEncoder(handle_unknown='use_encoded_value',\n",
       "                                                                                  unknown_value=-1))]),\n",
       "                                                  ['VehicleType', 'Gearbox',\n",
       "                                                   'Model', 'FuelType', 'Brand',\n",
       "                                                   'Repaired'])])),\n",
       "                ('estimator', LGBMRegressor(learning_rate=0.3))])"
      ]
     },
     "execution_count": 87,
     "metadata": {},
     "output_type": "execute_result"
    }
   ],
   "source": [
    "%%time\n",
    "gb_score.best_estimator_.fit(X_train, y_train)"
   ]
  },
  {
   "cell_type": "code",
   "execution_count": 88,
   "metadata": {},
   "outputs": [
    {
     "name": "stdout",
     "output_type": "stream",
     "text": [
      "CPU times: user 1.5 s, sys: 252 ms, total: 1.75 s\n",
      "Wall time: 426 ms\n"
     ]
    }
   ],
   "source": [
    "%%time\n",
    "preds_test = gb_score.predict(X_test)"
   ]
  },
  {
   "cell_type": "code",
   "execution_count": 89,
   "metadata": {
    "scrolled": true
   },
   "outputs": [
    {
     "name": "stdout",
     "output_type": "stream",
     "text": [
      "RMSE = 1642.5057550696497\n"
     ]
    }
   ],
   "source": [
    "mse = mean_squared_error(y_test, preds_test)\n",
    "print(\"RMSE =\", mse ** 0.5)"
   ]
  },
  {
   "cell_type": "markdown",
   "metadata": {},
   "source": [
    "LGBM выдает вполне достойный результат на тестовой выборке."
   ]
  },
  {
   "cell_type": "markdown",
   "metadata": {},
   "source": [
    "**Выводы.**\n",
    "\n",
    "В результате предобработки даже относительно простые модели (Линейная регрессия и Дерево решений) выдают вполне приемлемый результат. Скорость работы Линейной регрессии и Дерева решений отличаются несущественно. При этом метрики Дерева решений лучше. На дереве решений можно остановиться с точки зрения минимизации скорости обучения и предсказания. Однако, мы выбрали минимизацию метрики и остановились на модели LGBM."
   ]
  },
  {
   "cell_type": "markdown",
   "metadata": {},
   "source": [
    "## Чек-лист проверки"
   ]
  },
  {
   "cell_type": "markdown",
   "metadata": {},
   "source": [
    "Поставьте 'x' в выполненных пунктах. Далее нажмите Shift+Enter."
   ]
  },
  {
   "cell_type": "markdown",
   "metadata": {},
   "source": [
    "- [x]  Jupyter Notebook открыт\n",
    "- [x]  Весь код выполняется без ошибок\n",
    "- [x]  Ячейки с кодом расположены в порядке исполнения\n",
    "- [x]  Выполнена загрузка и подготовка данных\n",
    "- [x]  Выполнено обучение моделей\n",
    "- [x]  Есть анализ скорости работы и качества моделей"
   ]
  }
 ],
 "metadata": {
  "ExecuteTimeLog": [
   {
    "duration": 3783,
    "start_time": "2022-12-17T19:06:50.159Z"
   },
   {
    "duration": 3,
    "start_time": "2022-12-17T19:06:53.944Z"
   },
   {
    "duration": 3,
    "start_time": "2022-12-17T19:06:53.951Z"
   },
   {
    "duration": 6,
    "start_time": "2022-12-17T19:06:53.956Z"
   },
   {
    "duration": 849,
    "start_time": "2022-12-17T19:06:53.963Z"
   },
   {
    "duration": 18,
    "start_time": "2022-12-17T19:06:54.814Z"
   },
   {
    "duration": 146,
    "start_time": "2022-12-17T19:06:54.834Z"
   },
   {
    "duration": 282,
    "start_time": "2022-12-17T19:06:54.982Z"
   },
   {
    "duration": 162,
    "start_time": "2022-12-17T19:06:55.266Z"
   },
   {
    "duration": 178,
    "start_time": "2022-12-17T19:06:55.430Z"
   },
   {
    "duration": 160,
    "start_time": "2022-12-17T19:06:55.610Z"
   },
   {
    "duration": 108,
    "start_time": "2022-12-17T19:06:55.772Z"
   },
   {
    "duration": 97,
    "start_time": "2022-12-17T19:06:55.882Z"
   },
   {
    "duration": 22,
    "start_time": "2022-12-17T19:06:55.980Z"
   },
   {
    "duration": 25,
    "start_time": "2022-12-17T19:06:56.004Z"
   },
   {
    "duration": 35,
    "start_time": "2022-12-17T19:06:56.031Z"
   },
   {
    "duration": 36,
    "start_time": "2022-12-17T19:06:56.067Z"
   },
   {
    "duration": 26,
    "start_time": "2022-12-17T19:06:56.105Z"
   },
   {
    "duration": 104,
    "start_time": "2022-12-17T19:06:56.132Z"
   },
   {
    "duration": 287,
    "start_time": "2022-12-17T19:06:56.238Z"
   },
   {
    "duration": 494,
    "start_time": "2022-12-17T19:06:56.527Z"
   },
   {
    "duration": 4,
    "start_time": "2022-12-17T19:06:57.023Z"
   },
   {
    "duration": 36,
    "start_time": "2022-12-17T19:06:57.028Z"
   },
   {
    "duration": 28,
    "start_time": "2022-12-17T19:06:57.067Z"
   },
   {
    "duration": 24,
    "start_time": "2022-12-17T19:06:57.097Z"
   },
   {
    "duration": 3,
    "start_time": "2022-12-17T19:06:57.123Z"
   },
   {
    "duration": 113,
    "start_time": "2022-12-17T19:06:57.151Z"
   },
   {
    "duration": 25,
    "start_time": "2022-12-17T19:06:57.268Z"
   },
   {
    "duration": 21,
    "start_time": "2022-12-17T19:06:57.295Z"
   },
   {
    "duration": 62,
    "start_time": "2022-12-17T19:06:57.318Z"
   },
   {
    "duration": 24,
    "start_time": "2022-12-17T19:06:57.381Z"
   },
   {
    "duration": 20,
    "start_time": "2022-12-17T19:06:57.406Z"
   },
   {
    "duration": 3803,
    "start_time": "2022-12-17T19:06:57.428Z"
   },
   {
    "duration": 290,
    "start_time": "2022-12-17T19:07:01.234Z"
   },
   {
    "duration": 47,
    "start_time": "2022-12-17T19:07:01.526Z"
   },
   {
    "duration": 3,
    "start_time": "2022-12-17T19:07:01.574Z"
   },
   {
    "duration": 85,
    "start_time": "2022-12-17T19:07:01.579Z"
   },
   {
    "duration": 169,
    "start_time": "2022-12-17T19:07:01.666Z"
   },
   {
    "duration": 164,
    "start_time": "2022-12-17T19:07:01.837Z"
   },
   {
    "duration": 227,
    "start_time": "2022-12-17T19:07:02.003Z"
   },
   {
    "duration": 66,
    "start_time": "2022-12-17T19:07:02.232Z"
   },
   {
    "duration": 3,
    "start_time": "2022-12-17T19:07:02.300Z"
   },
   {
    "duration": 164,
    "start_time": "2022-12-17T19:07:02.305Z"
   },
   {
    "duration": 263,
    "start_time": "2022-12-17T19:07:02.471Z"
   },
   {
    "duration": 63,
    "start_time": "2022-12-17T19:07:02.736Z"
   },
   {
    "duration": 3,
    "start_time": "2022-12-17T19:07:02.801Z"
   },
   {
    "duration": 3278,
    "start_time": "2022-12-17T19:07:02.805Z"
   },
   {
    "duration": 224,
    "start_time": "2022-12-17T19:07:06.085Z"
   },
   {
    "duration": 92,
    "start_time": "2022-12-17T19:07:06.311Z"
   },
   {
    "duration": 194,
    "start_time": "2022-12-17T19:07:06.405Z"
   },
   {
    "duration": 0,
    "start_time": "2022-12-17T19:07:06.601Z"
   },
   {
    "duration": 0,
    "start_time": "2022-12-17T19:07:06.602Z"
   },
   {
    "duration": 0,
    "start_time": "2022-12-17T19:07:06.603Z"
   },
   {
    "duration": 0,
    "start_time": "2022-12-17T19:07:06.604Z"
   },
   {
    "duration": 0,
    "start_time": "2022-12-17T19:07:06.605Z"
   },
   {
    "duration": 0,
    "start_time": "2022-12-17T19:07:06.607Z"
   },
   {
    "duration": 0,
    "start_time": "2022-12-17T19:07:06.607Z"
   },
   {
    "duration": 0,
    "start_time": "2022-12-17T19:07:06.608Z"
   },
   {
    "duration": 0,
    "start_time": "2022-12-17T19:07:06.610Z"
   },
   {
    "duration": 0,
    "start_time": "2022-12-17T19:07:06.611Z"
   },
   {
    "duration": 0,
    "start_time": "2022-12-17T19:07:06.612Z"
   },
   {
    "duration": 0,
    "start_time": "2022-12-17T19:07:06.613Z"
   },
   {
    "duration": 0,
    "start_time": "2022-12-17T19:07:06.614Z"
   },
   {
    "duration": 68,
    "start_time": "2022-12-17T19:13:56.784Z"
   },
   {
    "duration": 1456,
    "start_time": "2022-12-17T19:13:59.531Z"
   },
   {
    "duration": 3,
    "start_time": "2022-12-17T19:14:00.989Z"
   },
   {
    "duration": 29,
    "start_time": "2022-12-17T19:14:00.994Z"
   },
   {
    "duration": 30,
    "start_time": "2022-12-17T19:14:01.026Z"
   },
   {
    "duration": 26,
    "start_time": "2022-12-17T19:14:01.094Z"
   },
   {
    "duration": 3530,
    "start_time": "2022-12-17T19:14:01.335Z"
   },
   {
    "duration": 20,
    "start_time": "2022-12-17T19:14:04.867Z"
   },
   {
    "duration": 29,
    "start_time": "2022-12-17T19:14:04.889Z"
   },
   {
    "duration": 308,
    "start_time": "2022-12-17T19:14:04.921Z"
   },
   {
    "duration": 2004,
    "start_time": "2022-12-17T19:15:04.974Z"
   },
   {
    "duration": 5,
    "start_time": "2022-12-17T19:15:06.981Z"
   },
   {
    "duration": 6,
    "start_time": "2022-12-17T19:15:06.988Z"
   },
   {
    "duration": 6,
    "start_time": "2022-12-17T19:15:06.996Z"
   },
   {
    "duration": 2842,
    "start_time": "2022-12-17T19:15:07.004Z"
   },
   {
    "duration": 20,
    "start_time": "2022-12-17T19:15:09.848Z"
   },
   {
    "duration": 154,
    "start_time": "2022-12-17T19:15:09.870Z"
   },
   {
    "duration": 298,
    "start_time": "2022-12-17T19:15:10.026Z"
   },
   {
    "duration": 166,
    "start_time": "2022-12-17T19:15:10.325Z"
   },
   {
    "duration": 183,
    "start_time": "2022-12-17T19:15:10.494Z"
   },
   {
    "duration": 160,
    "start_time": "2022-12-17T19:15:10.679Z"
   },
   {
    "duration": 102,
    "start_time": "2022-12-17T19:15:10.841Z"
   },
   {
    "duration": 92,
    "start_time": "2022-12-17T19:15:10.950Z"
   },
   {
    "duration": 23,
    "start_time": "2022-12-17T19:15:11.051Z"
   },
   {
    "duration": 21,
    "start_time": "2022-12-17T19:15:11.075Z"
   },
   {
    "duration": 22,
    "start_time": "2022-12-17T19:15:11.098Z"
   },
   {
    "duration": 45,
    "start_time": "2022-12-17T19:15:11.122Z"
   },
   {
    "duration": 21,
    "start_time": "2022-12-17T19:15:11.168Z"
   },
   {
    "duration": 108,
    "start_time": "2022-12-17T19:15:11.191Z"
   },
   {
    "duration": 295,
    "start_time": "2022-12-17T19:15:11.301Z"
   },
   {
    "duration": 496,
    "start_time": "2022-12-17T19:15:11.598Z"
   },
   {
    "duration": 6,
    "start_time": "2022-12-17T19:15:12.096Z"
   },
   {
    "duration": 33,
    "start_time": "2022-12-17T19:15:12.103Z"
   },
   {
    "duration": 35,
    "start_time": "2022-12-17T19:15:12.138Z"
   },
   {
    "duration": 28,
    "start_time": "2022-12-17T19:15:12.175Z"
   },
   {
    "duration": 4,
    "start_time": "2022-12-17T19:15:12.204Z"
   },
   {
    "duration": 133,
    "start_time": "2022-12-17T19:15:12.209Z"
   },
   {
    "duration": 25,
    "start_time": "2022-12-17T19:15:12.346Z"
   },
   {
    "duration": 22,
    "start_time": "2022-12-17T19:15:12.373Z"
   },
   {
    "duration": 62,
    "start_time": "2022-12-17T19:15:12.396Z"
   },
   {
    "duration": 24,
    "start_time": "2022-12-17T19:15:12.459Z"
   },
   {
    "duration": 24,
    "start_time": "2022-12-17T19:15:12.485Z"
   },
   {
    "duration": 3718,
    "start_time": "2022-12-17T19:15:12.511Z"
   },
   {
    "duration": 272,
    "start_time": "2022-12-17T19:15:16.231Z"
   },
   {
    "duration": 54,
    "start_time": "2022-12-17T19:15:16.505Z"
   },
   {
    "duration": 3,
    "start_time": "2022-12-17T19:15:16.561Z"
   },
   {
    "duration": 70,
    "start_time": "2022-12-17T19:15:16.566Z"
   },
   {
    "duration": 166,
    "start_time": "2022-12-17T19:15:16.638Z"
   },
   {
    "duration": 156,
    "start_time": "2022-12-17T19:15:16.805Z"
   },
   {
    "duration": 229,
    "start_time": "2022-12-17T19:15:16.963Z"
   },
   {
    "duration": 67,
    "start_time": "2022-12-17T19:15:17.194Z"
   },
   {
    "duration": 3,
    "start_time": "2022-12-17T19:15:17.262Z"
   },
   {
    "duration": 157,
    "start_time": "2022-12-17T19:15:17.267Z"
   },
   {
    "duration": 256,
    "start_time": "2022-12-17T19:15:17.426Z"
   },
   {
    "duration": 69,
    "start_time": "2022-12-17T19:15:17.684Z"
   },
   {
    "duration": 3,
    "start_time": "2022-12-17T19:15:17.755Z"
   },
   {
    "duration": 3413,
    "start_time": "2022-12-17T19:15:17.760Z"
   },
   {
    "duration": 213,
    "start_time": "2022-12-17T19:15:21.175Z"
   },
   {
    "duration": 89,
    "start_time": "2022-12-17T19:15:21.390Z"
   },
   {
    "duration": 75,
    "start_time": "2022-12-17T19:15:21.480Z"
   },
   {
    "duration": 1323,
    "start_time": "2022-12-17T19:15:21.556Z"
   },
   {
    "duration": 3,
    "start_time": "2022-12-17T19:15:22.881Z"
   },
   {
    "duration": 30,
    "start_time": "2022-12-17T19:15:22.886Z"
   },
   {
    "duration": 21,
    "start_time": "2022-12-17T19:15:22.918Z"
   },
   {
    "duration": 26,
    "start_time": "2022-12-17T19:15:22.950Z"
   },
   {
    "duration": 3422,
    "start_time": "2022-12-17T19:15:22.978Z"
   },
   {
    "duration": 20,
    "start_time": "2022-12-17T19:15:26.402Z"
   },
   {
    "duration": 36,
    "start_time": "2022-12-17T19:15:26.424Z"
   },
   {
    "duration": 299,
    "start_time": "2022-12-17T19:15:26.461Z"
   },
   {
    "duration": 2011,
    "start_time": "2022-12-17T19:16:31.630Z"
   },
   {
    "duration": 8,
    "start_time": "2022-12-17T19:16:33.644Z"
   },
   {
    "duration": 7,
    "start_time": "2022-12-17T19:16:33.654Z"
   },
   {
    "duration": 5,
    "start_time": "2022-12-17T19:16:33.663Z"
   },
   {
    "duration": 2786,
    "start_time": "2022-12-17T19:16:33.671Z"
   },
   {
    "duration": 17,
    "start_time": "2022-12-17T19:16:36.458Z"
   },
   {
    "duration": 146,
    "start_time": "2022-12-17T19:16:36.477Z"
   },
   {
    "duration": 271,
    "start_time": "2022-12-17T19:16:36.625Z"
   },
   {
    "duration": 162,
    "start_time": "2022-12-17T19:16:36.898Z"
   },
   {
    "duration": 175,
    "start_time": "2022-12-17T19:16:37.061Z"
   },
   {
    "duration": 158,
    "start_time": "2022-12-17T19:16:37.238Z"
   },
   {
    "duration": 109,
    "start_time": "2022-12-17T19:16:37.398Z"
   },
   {
    "duration": 117,
    "start_time": "2022-12-17T19:16:37.509Z"
   },
   {
    "duration": 23,
    "start_time": "2022-12-17T19:16:37.631Z"
   },
   {
    "duration": 22,
    "start_time": "2022-12-17T19:16:37.656Z"
   },
   {
    "duration": 22,
    "start_time": "2022-12-17T19:16:37.679Z"
   },
   {
    "duration": 22,
    "start_time": "2022-12-17T19:16:37.703Z"
   },
   {
    "duration": 41,
    "start_time": "2022-12-17T19:16:37.727Z"
   },
   {
    "duration": 104,
    "start_time": "2022-12-17T19:16:37.770Z"
   },
   {
    "duration": 284,
    "start_time": "2022-12-17T19:16:37.876Z"
   },
   {
    "duration": 532,
    "start_time": "2022-12-17T19:16:38.162Z"
   },
   {
    "duration": 5,
    "start_time": "2022-12-17T19:16:38.697Z"
   },
   {
    "duration": 47,
    "start_time": "2022-12-17T19:16:38.704Z"
   },
   {
    "duration": 21,
    "start_time": "2022-12-17T19:16:38.752Z"
   },
   {
    "duration": 25,
    "start_time": "2022-12-17T19:16:38.775Z"
   },
   {
    "duration": 3,
    "start_time": "2022-12-17T19:16:38.802Z"
   },
   {
    "duration": 132,
    "start_time": "2022-12-17T19:16:38.806Z"
   },
   {
    "duration": 30,
    "start_time": "2022-12-17T19:16:38.940Z"
   },
   {
    "duration": 23,
    "start_time": "2022-12-17T19:16:38.972Z"
   },
   {
    "duration": 62,
    "start_time": "2022-12-17T19:16:38.997Z"
   },
   {
    "duration": 24,
    "start_time": "2022-12-17T19:16:39.061Z"
   },
   {
    "duration": 22,
    "start_time": "2022-12-17T19:16:39.087Z"
   },
   {
    "duration": 3867,
    "start_time": "2022-12-17T19:16:39.110Z"
   },
   {
    "duration": 293,
    "start_time": "2022-12-17T19:16:42.979Z"
   },
   {
    "duration": 45,
    "start_time": "2022-12-17T19:16:43.274Z"
   },
   {
    "duration": 3,
    "start_time": "2022-12-17T19:16:43.321Z"
   },
   {
    "duration": 91,
    "start_time": "2022-12-17T19:16:43.327Z"
   },
   {
    "duration": 175,
    "start_time": "2022-12-17T19:16:43.420Z"
   },
   {
    "duration": 188,
    "start_time": "2022-12-17T19:16:43.597Z"
   },
   {
    "duration": 266,
    "start_time": "2022-12-17T19:16:43.787Z"
   },
   {
    "duration": 60,
    "start_time": "2022-12-17T19:16:44.058Z"
   },
   {
    "duration": 3,
    "start_time": "2022-12-17T19:16:44.120Z"
   },
   {
    "duration": 185,
    "start_time": "2022-12-17T19:16:44.124Z"
   },
   {
    "duration": 270,
    "start_time": "2022-12-17T19:16:44.311Z"
   },
   {
    "duration": 69,
    "start_time": "2022-12-17T19:16:44.584Z"
   },
   {
    "duration": 3,
    "start_time": "2022-12-17T19:16:44.655Z"
   },
   {
    "duration": 3397,
    "start_time": "2022-12-17T19:16:44.660Z"
   },
   {
    "duration": 231,
    "start_time": "2022-12-17T19:16:48.058Z"
   },
   {
    "duration": 93,
    "start_time": "2022-12-17T19:16:48.291Z"
   },
   {
    "duration": 76,
    "start_time": "2022-12-17T19:16:48.386Z"
   },
   {
    "duration": 4,
    "start_time": "2022-12-17T19:16:48.464Z"
   },
   {
    "duration": 10,
    "start_time": "2022-12-17T19:16:48.469Z"
   },
   {
    "duration": 7,
    "start_time": "2022-12-17T19:16:48.481Z"
   },
   {
    "duration": 28,
    "start_time": "2022-12-17T19:16:48.490Z"
   },
   {
    "duration": 41,
    "start_time": "2022-12-17T19:16:48.520Z"
   },
   {
    "duration": 9,
    "start_time": "2022-12-17T19:16:48.563Z"
   },
   {
    "duration": 8,
    "start_time": "2022-12-17T19:16:48.574Z"
   },
   {
    "duration": 22,
    "start_time": "2022-12-17T19:16:48.584Z"
   },
   {
    "duration": 22,
    "start_time": "2022-12-17T19:16:48.609Z"
   },
   {
    "duration": 6,
    "start_time": "2022-12-17T19:16:48.651Z"
   },
   {
    "duration": 10,
    "start_time": "2022-12-17T19:16:48.659Z"
   },
   {
    "duration": 7,
    "start_time": "2022-12-17T19:16:48.671Z"
   },
   {
    "duration": 16,
    "start_time": "2022-12-17T19:16:48.679Z"
   },
   {
    "duration": 132,
    "start_time": "2022-12-17T19:16:48.697Z"
   },
   {
    "duration": 12,
    "start_time": "2022-12-17T19:17:51.104Z"
   },
   {
    "duration": 10,
    "start_time": "2022-12-17T19:18:16.307Z"
   },
   {
    "duration": 31,
    "start_time": "2022-12-17T19:18:30.662Z"
   },
   {
    "duration": 2079,
    "start_time": "2022-12-17T19:30:55.438Z"
   },
   {
    "duration": 3,
    "start_time": "2022-12-17T19:30:57.519Z"
   },
   {
    "duration": 7,
    "start_time": "2022-12-17T19:30:57.524Z"
   },
   {
    "duration": 12,
    "start_time": "2022-12-17T19:30:57.532Z"
   },
   {
    "duration": 844,
    "start_time": "2022-12-17T19:30:57.547Z"
   },
   {
    "duration": 18,
    "start_time": "2022-12-17T19:30:58.393Z"
   },
   {
    "duration": 152,
    "start_time": "2022-12-17T19:30:58.412Z"
   },
   {
    "duration": 277,
    "start_time": "2022-12-17T19:30:58.566Z"
   },
   {
    "duration": 164,
    "start_time": "2022-12-17T19:30:58.846Z"
   },
   {
    "duration": 176,
    "start_time": "2022-12-17T19:30:59.012Z"
   },
   {
    "duration": 166,
    "start_time": "2022-12-17T19:30:59.190Z"
   },
   {
    "duration": 106,
    "start_time": "2022-12-17T19:30:59.358Z"
   },
   {
    "duration": 99,
    "start_time": "2022-12-17T19:30:59.465Z"
   },
   {
    "duration": 30,
    "start_time": "2022-12-17T19:30:59.567Z"
   },
   {
    "duration": 49,
    "start_time": "2022-12-17T19:30:59.599Z"
   },
   {
    "duration": 24,
    "start_time": "2022-12-17T19:30:59.650Z"
   },
   {
    "duration": 33,
    "start_time": "2022-12-17T19:30:59.676Z"
   },
   {
    "duration": 26,
    "start_time": "2022-12-17T19:30:59.711Z"
   },
   {
    "duration": 125,
    "start_time": "2022-12-17T19:30:59.750Z"
   },
   {
    "duration": 342,
    "start_time": "2022-12-17T19:30:59.877Z"
   },
   {
    "duration": 505,
    "start_time": "2022-12-17T19:31:00.221Z"
   },
   {
    "duration": 5,
    "start_time": "2022-12-17T19:31:00.728Z"
   },
   {
    "duration": 41,
    "start_time": "2022-12-17T19:31:00.735Z"
   },
   {
    "duration": 35,
    "start_time": "2022-12-17T19:31:00.777Z"
   },
   {
    "duration": 49,
    "start_time": "2022-12-17T19:31:00.814Z"
   },
   {
    "duration": 8,
    "start_time": "2022-12-17T19:31:00.865Z"
   },
   {
    "duration": 126,
    "start_time": "2022-12-17T19:31:00.875Z"
   },
   {
    "duration": 28,
    "start_time": "2022-12-17T19:31:01.003Z"
   },
   {
    "duration": 45,
    "start_time": "2022-12-17T19:31:01.034Z"
   },
   {
    "duration": 70,
    "start_time": "2022-12-17T19:31:01.081Z"
   },
   {
    "duration": 24,
    "start_time": "2022-12-17T19:31:01.153Z"
   },
   {
    "duration": 28,
    "start_time": "2022-12-17T19:31:01.179Z"
   },
   {
    "duration": 3606,
    "start_time": "2022-12-17T19:31:01.209Z"
   },
   {
    "duration": 276,
    "start_time": "2022-12-17T19:31:04.822Z"
   },
   {
    "duration": 52,
    "start_time": "2022-12-17T19:31:05.099Z"
   },
   {
    "duration": 2,
    "start_time": "2022-12-17T19:31:05.153Z"
   },
   {
    "duration": 95,
    "start_time": "2022-12-17T19:31:05.158Z"
   },
   {
    "duration": 160,
    "start_time": "2022-12-17T19:31:05.254Z"
   },
   {
    "duration": 165,
    "start_time": "2022-12-17T19:31:05.416Z"
   },
   {
    "duration": 235,
    "start_time": "2022-12-17T19:31:05.583Z"
   },
   {
    "duration": 73,
    "start_time": "2022-12-17T19:31:05.823Z"
   },
   {
    "duration": 3,
    "start_time": "2022-12-17T19:31:05.898Z"
   },
   {
    "duration": 163,
    "start_time": "2022-12-17T19:31:05.903Z"
   },
   {
    "duration": 256,
    "start_time": "2022-12-17T19:31:06.068Z"
   },
   {
    "duration": 66,
    "start_time": "2022-12-17T19:31:06.325Z"
   },
   {
    "duration": 2,
    "start_time": "2022-12-17T19:31:06.393Z"
   },
   {
    "duration": 3345,
    "start_time": "2022-12-17T19:31:06.397Z"
   },
   {
    "duration": 260,
    "start_time": "2022-12-17T19:31:09.744Z"
   },
   {
    "duration": 108,
    "start_time": "2022-12-17T19:31:10.006Z"
   },
   {
    "duration": 216,
    "start_time": "2022-12-17T19:31:10.116Z"
   }
  ],
  "kernelspec": {
   "display_name": "Python 3 (ipykernel)",
   "language": "python",
   "name": "python3"
  },
  "language_info": {
   "codemirror_mode": {
    "name": "ipython",
    "version": 3
   },
   "file_extension": ".py",
   "mimetype": "text/x-python",
   "name": "python",
   "nbconvert_exporter": "python",
   "pygments_lexer": "ipython3",
   "version": "3.9.12"
  },
  "toc": {
   "base_numbering": 1,
   "nav_menu": {},
   "number_sections": true,
   "sideBar": true,
   "skip_h1_title": true,
   "title_cell": "Table of Contents",
   "title_sidebar": "Contents",
   "toc_cell": false,
   "toc_position": {},
   "toc_section_display": true,
   "toc_window_display": false
  }
 },
 "nbformat": 4,
 "nbformat_minor": 2
}
